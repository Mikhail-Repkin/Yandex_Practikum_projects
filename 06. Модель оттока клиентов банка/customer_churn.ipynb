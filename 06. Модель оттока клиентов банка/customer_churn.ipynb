{
 "cells": [
  {
   "cell_type": "markdown",
   "metadata": {
    "toc": true
   },
   "source": [
    "<h1>Содержание<span class=\"tocSkip\"></span></h1>\n",
    "<div class=\"toc\"><ul class=\"toc-item\"><li><span><a href=\"#Изучение-и-подготовка-данных\" data-toc-modified-id=\"Изучение-и-подготовка-данных-1\"><span class=\"toc-item-num\">1&nbsp;&nbsp;</span>Изучение и подготовка данных</a></span><ul class=\"toc-item\"><li><span><a href=\"#Выводы\" data-toc-modified-id=\"Выводы-1.1\"><span class=\"toc-item-num\">1.1&nbsp;&nbsp;</span>Выводы</a></span></li></ul></li><li><span><a href=\"#Исследование-задачи\" data-toc-modified-id=\"Исследование-задачи-2\"><span class=\"toc-item-num\">2&nbsp;&nbsp;</span>Исследование задачи</a></span><ul class=\"toc-item\"><li><span><a href=\"#Подготовка-признаков\" data-toc-modified-id=\"Подготовка-признаков-2.1\"><span class=\"toc-item-num\">2.1&nbsp;&nbsp;</span>Подготовка признаков</a></span></li><li><span><a href=\"#Обучение-моделей-без-учёта-дисбаланса\" data-toc-modified-id=\"Обучение-моделей-без-учёта-дисбаланса-2.2\"><span class=\"toc-item-num\">2.2&nbsp;&nbsp;</span>Обучение моделей без учёта дисбаланса</a></span></li><li><span><a href=\"#Выводы\" data-toc-modified-id=\"Выводы-2.3\"><span class=\"toc-item-num\">2.3&nbsp;&nbsp;</span>Выводы</a></span></li></ul></li><li><span><a href=\"#Борьба-с-дисбалансом\" data-toc-modified-id=\"Борьба-с-дисбалансом-3\"><span class=\"toc-item-num\">3&nbsp;&nbsp;</span>Борьба с дисбалансом</a></span><ul class=\"toc-item\"><li><span><a href=\"#Выбор-метода-борьбы-с-дисбалансом\" data-toc-modified-id=\"Выбор-метода-борьбы-с-дисбалансом-3.1\"><span class=\"toc-item-num\">3.1&nbsp;&nbsp;</span>Выбор метода борьбы с дисбалансом</a></span></li><li><span><a href=\"#Поиск-лучшей-модели\" data-toc-modified-id=\"Поиск-лучшей-модели-3.2\"><span class=\"toc-item-num\">3.2&nbsp;&nbsp;</span>Поиск лучшей модели</a></span></li><li><span><a href=\"#Выводы\" data-toc-modified-id=\"Выводы-3.3\"><span class=\"toc-item-num\">3.3&nbsp;&nbsp;</span>Выводы</a></span></li></ul></li><li><span><a href=\"#Тестирование-модели\" data-toc-modified-id=\"Тестирование-модели-4\"><span class=\"toc-item-num\">4&nbsp;&nbsp;</span>Тестирование модели</a></span></li><li><span><a href=\"#Общий-вывод\" data-toc-modified-id=\"Общий-вывод-5\"><span class=\"toc-item-num\">5&nbsp;&nbsp;</span>Общий вывод</a></span></li></ul></div>"
   ]
  },
  {
   "cell_type": "markdown",
   "metadata": {},
   "source": [
    "# Отток клиентов"
   ]
  },
  {
   "cell_type": "markdown",
   "metadata": {},
   "source": [
    "В «Бета-Банке» наблюдается ежемесячный отток клиентов клиенты. Маркетологи считают, что сохранять текущих клиентов дешевле, чем привлекать новых. \n",
    "\n",
    "Цель — спрогнозировать, уйдёт клиент из банка в ближайшее время или нет.\n",
    "\n",
    "Задача исследования — построить модель прогноза оттока с предельно большим значением F1-меры (не менее 0.59) и оценить метрику AUC-ROC.\n",
    "\n",
    "Доступны исторические данные о поведении клиентов и расторжении договоров с банком.    \n",
    "\n",
    "*Источник данных: [https://www.kaggle.com/barelydedicated/bank-customer-churn-modeling](https://www.kaggle.com/barelydedicated/bank-customer-churn-modeling)*\n",
    "\n",
    "**Исследование пройдёт в пять этапов:**\n",
    " 1. Изучение и подготовка данных;\n",
    " 2. Исследование задачи;\n",
    " 3. Борьба с дисбалансом;\n",
    " 4. Тестирование модели;\n",
    " 5. Общий вывод."
   ]
  },
  {
   "cell_type": "markdown",
   "metadata": {},
   "source": [
    "## Изучение и подготовка данных"
   ]
  },
  {
   "cell_type": "code",
   "execution_count": 1,
   "metadata": {},
   "outputs": [],
   "source": [
    "# импорт библиотек\n",
    "import pandas as pd\n",
    "import numpy as np\n",
    "import matplotlib.pyplot as plt\n",
    "import seaborn as sns\n",
    "\n",
    "from sklearn.tree import DecisionTreeClassifier\n",
    "from sklearn.ensemble import RandomForestClassifier\n",
    "from sklearn.linear_model import LogisticRegression\n",
    "from sklearn.model_selection import train_test_split\n",
    "from sklearn.metrics import f1_score, roc_auc_score, roc_curve, precision_score, recall_score, classification_report\n",
    "from sklearn.metrics import precision_recall_curve, accuracy_score\n",
    "from sklearn.utils import shuffle\n",
    "from sklearn.preprocessing import StandardScaler\n",
    "from sklearn.model_selection import GridSearchCV\n",
    "from sklearn import tree\n",
    "from sklearn.dummy import DummyClassifier"
   ]
  },
  {
   "cell_type": "code",
   "execution_count": 2,
   "metadata": {},
   "outputs": [],
   "source": [
    "# сброс ограничений на количество выводимых рядов\n",
    "pd.set_option('display.max_rows', None)\n",
    " \n",
    "# сброс ограничений на число столбцов\n",
    "pd.set_option('display.max_columns', None)\n",
    " \n",
    "# сброс ограничений на количество символов в записи\n",
    "pd.set_option('display.max_colwidth', None)"
   ]
  },
  {
   "cell_type": "markdown",
   "metadata": {},
   "source": [
    "Данные для исследования получаем из файла `Churn.csv`:"
   ]
  },
  {
   "cell_type": "code",
   "execution_count": 3,
   "metadata": {},
   "outputs": [],
   "source": [
    "# чтение файлов с данными и сохранение в df\n",
    "try:\n",
    "    df = pd.read_csv('datasets/Churn.csv')\n",
    "except:\n",
    "    df = pd.read_csv('/datasets/Churn.csv')"
   ]
  },
  {
   "cell_type": "code",
   "execution_count": 4,
   "metadata": {
    "scrolled": false
   },
   "outputs": [
    {
     "data": {
      "text/html": [
       "<div>\n",
       "<style scoped>\n",
       "    .dataframe tbody tr th:only-of-type {\n",
       "        vertical-align: middle;\n",
       "    }\n",
       "\n",
       "    .dataframe tbody tr th {\n",
       "        vertical-align: top;\n",
       "    }\n",
       "\n",
       "    .dataframe thead th {\n",
       "        text-align: right;\n",
       "    }\n",
       "</style>\n",
       "<table border=\"1\" class=\"dataframe\">\n",
       "  <thead>\n",
       "    <tr style=\"text-align: right;\">\n",
       "      <th></th>\n",
       "      <th>RowNumber</th>\n",
       "      <th>CustomerId</th>\n",
       "      <th>Surname</th>\n",
       "      <th>CreditScore</th>\n",
       "      <th>Geography</th>\n",
       "      <th>Gender</th>\n",
       "      <th>Age</th>\n",
       "      <th>Tenure</th>\n",
       "      <th>Balance</th>\n",
       "      <th>NumOfProducts</th>\n",
       "      <th>HasCrCard</th>\n",
       "      <th>IsActiveMember</th>\n",
       "      <th>EstimatedSalary</th>\n",
       "      <th>Exited</th>\n",
       "    </tr>\n",
       "  </thead>\n",
       "  <tbody>\n",
       "    <tr>\n",
       "      <th>0</th>\n",
       "      <td>1</td>\n",
       "      <td>15634602</td>\n",
       "      <td>Hargrave</td>\n",
       "      <td>619</td>\n",
       "      <td>France</td>\n",
       "      <td>Female</td>\n",
       "      <td>42</td>\n",
       "      <td>2.0</td>\n",
       "      <td>0.00</td>\n",
       "      <td>1</td>\n",
       "      <td>1</td>\n",
       "      <td>1</td>\n",
       "      <td>101348.88</td>\n",
       "      <td>1</td>\n",
       "    </tr>\n",
       "    <tr>\n",
       "      <th>1</th>\n",
       "      <td>2</td>\n",
       "      <td>15647311</td>\n",
       "      <td>Hill</td>\n",
       "      <td>608</td>\n",
       "      <td>Spain</td>\n",
       "      <td>Female</td>\n",
       "      <td>41</td>\n",
       "      <td>1.0</td>\n",
       "      <td>83807.86</td>\n",
       "      <td>1</td>\n",
       "      <td>0</td>\n",
       "      <td>1</td>\n",
       "      <td>112542.58</td>\n",
       "      <td>0</td>\n",
       "    </tr>\n",
       "    <tr>\n",
       "      <th>2</th>\n",
       "      <td>3</td>\n",
       "      <td>15619304</td>\n",
       "      <td>Onio</td>\n",
       "      <td>502</td>\n",
       "      <td>France</td>\n",
       "      <td>Female</td>\n",
       "      <td>42</td>\n",
       "      <td>8.0</td>\n",
       "      <td>159660.80</td>\n",
       "      <td>3</td>\n",
       "      <td>1</td>\n",
       "      <td>0</td>\n",
       "      <td>113931.57</td>\n",
       "      <td>1</td>\n",
       "    </tr>\n",
       "    <tr>\n",
       "      <th>3</th>\n",
       "      <td>4</td>\n",
       "      <td>15701354</td>\n",
       "      <td>Boni</td>\n",
       "      <td>699</td>\n",
       "      <td>France</td>\n",
       "      <td>Female</td>\n",
       "      <td>39</td>\n",
       "      <td>1.0</td>\n",
       "      <td>0.00</td>\n",
       "      <td>2</td>\n",
       "      <td>0</td>\n",
       "      <td>0</td>\n",
       "      <td>93826.63</td>\n",
       "      <td>0</td>\n",
       "    </tr>\n",
       "    <tr>\n",
       "      <th>4</th>\n",
       "      <td>5</td>\n",
       "      <td>15737888</td>\n",
       "      <td>Mitchell</td>\n",
       "      <td>850</td>\n",
       "      <td>Spain</td>\n",
       "      <td>Female</td>\n",
       "      <td>43</td>\n",
       "      <td>2.0</td>\n",
       "      <td>125510.82</td>\n",
       "      <td>1</td>\n",
       "      <td>1</td>\n",
       "      <td>1</td>\n",
       "      <td>79084.10</td>\n",
       "      <td>0</td>\n",
       "    </tr>\n",
       "  </tbody>\n",
       "</table>\n",
       "</div>"
      ],
      "text/plain": [
       "   RowNumber  CustomerId   Surname  CreditScore Geography  Gender  Age  \\\n",
       "0          1    15634602  Hargrave          619    France  Female   42   \n",
       "1          2    15647311      Hill          608     Spain  Female   41   \n",
       "2          3    15619304      Onio          502    France  Female   42   \n",
       "3          4    15701354      Boni          699    France  Female   39   \n",
       "4          5    15737888  Mitchell          850     Spain  Female   43   \n",
       "\n",
       "   Tenure    Balance  NumOfProducts  HasCrCard  IsActiveMember  \\\n",
       "0     2.0       0.00              1          1               1   \n",
       "1     1.0   83807.86              1          0               1   \n",
       "2     8.0  159660.80              3          1               0   \n",
       "3     1.0       0.00              2          0               0   \n",
       "4     2.0  125510.82              1          1               1   \n",
       "\n",
       "   EstimatedSalary  Exited  \n",
       "0        101348.88       1  \n",
       "1        112542.58       0  \n",
       "2        113931.57       1  \n",
       "3         93826.63       0  \n",
       "4         79084.10       0  "
      ]
     },
     "execution_count": 4,
     "metadata": {},
     "output_type": "execute_result"
    }
   ],
   "source": [
    "# получение первых пяти строк таблицы\n",
    "df.head()"
   ]
  },
  {
   "cell_type": "markdown",
   "metadata": {},
   "source": [
    "**Описание данных**"
   ]
  },
  {
   "cell_type": "markdown",
   "metadata": {},
   "source": [
    "*Признаки:*\n",
    "*\t`RowNumber` — индекс строки в данных;\n",
    "*\t`CustomerId` — уникальный идентификатор клиента;\n",
    "*\t`Surname` — фамилия;\n",
    "*\t`CreditScore` — кредитный рейтинг;\n",
    "*\t`Geography` — страна проживания;\n",
    "\n",
    "*\t`Gender` — пол;\n",
    "*\t`Age` — возраст;\n",
    "*\t`Tenure` — сколько лет человек является клиентом банка;\n",
    "*\t`Balance` — баланс на счёте;\n",
    "*\t`NumOfProducts` — количество продуктов банка, используемых клиентом;\n",
    "*\t`HasCrCard` — наличие кредитной карты;\n",
    "*\t`IsActiveMember` — активность клиента;\n",
    "*\t`EstimatedSalary` — предполагаемая зарплата;\n",
    "\n",
    "*Целевой признак:*\n",
    "*\t`Exited` — факт ухода клиента."
   ]
  },
  {
   "cell_type": "markdown",
   "metadata": {},
   "source": [
    "**Обработка названий столбцов**"
   ]
  },
  {
   "cell_type": "markdown",
   "metadata": {},
   "source": [
    "Приведем названия столбцов к нижнему регистру, а также \"змеиному\" стилю:"
   ]
  },
  {
   "cell_type": "code",
   "execution_count": 5,
   "metadata": {},
   "outputs": [
    {
     "data": {
      "text/plain": [
       "Index(['rownumber', 'customerid', 'surname', 'creditscore', 'geography',\n",
       "       'gender', 'age', 'tenure', 'balance', 'numofproducts', 'hascrcard',\n",
       "       'isactivemember', 'estimatedsalary', 'exited'],\n",
       "      dtype='object')"
      ]
     },
     "execution_count": 5,
     "metadata": {},
     "output_type": "execute_result"
    }
   ],
   "source": [
    "df.columns = df.columns.str.lower()\n",
    "df.columns"
   ]
  },
  {
   "cell_type": "code",
   "execution_count": 6,
   "metadata": {
    "scrolled": true
   },
   "outputs": [
    {
     "data": {
      "text/plain": [
       "Index(['row_number', 'customer_id', 'surname', 'creditscore', 'geography',\n",
       "       'gender', 'age', 'tenure', 'balance', 'num_of_products', 'has_crcard',\n",
       "       'isactive_member', 'estimated_salary', 'exited'],\n",
       "      dtype='object')"
      ]
     },
     "execution_count": 6,
     "metadata": {},
     "output_type": "execute_result"
    }
   ],
   "source": [
    "df.columns = ['row_number', 'customer_id', 'surname', 'creditscore', 'geography',\n",
    "       'gender', 'age', 'tenure', 'balance', 'num_of_products', 'has_crcard',\n",
    "       'isactive_member', 'estimated_salary', 'exited']\n",
    "df.columns"
   ]
  },
  {
   "cell_type": "markdown",
   "metadata": {},
   "source": [
    "**Обработка пропусков**"
   ]
  },
  {
   "cell_type": "code",
   "execution_count": 7,
   "metadata": {},
   "outputs": [
    {
     "data": {
      "text/plain": [
       "row_number          0.0000\n",
       "customer_id         0.0000\n",
       "surname             0.0000\n",
       "creditscore         0.0000\n",
       "geography           0.0000\n",
       "gender              0.0000\n",
       "age                 0.0000\n",
       "tenure              0.0909\n",
       "balance             0.0000\n",
       "num_of_products     0.0000\n",
       "has_crcard          0.0000\n",
       "isactive_member     0.0000\n",
       "estimated_salary    0.0000\n",
       "exited              0.0000\n",
       "dtype: float64"
      ]
     },
     "execution_count": 7,
     "metadata": {},
     "output_type": "execute_result"
    }
   ],
   "source": [
    "# подсчёт доли пропусков \n",
    "df.isna().mean()"
   ]
  },
  {
   "cell_type": "markdown",
   "metadata": {},
   "source": [
    "В столбце tenure содержатся пропуски."
   ]
  },
  {
   "cell_type": "code",
   "execution_count": 8,
   "metadata": {},
   "outputs": [
    {
     "name": "stdout",
     "output_type": "stream",
     "text": [
      "Доля пропущеннных значений 9.1%\n"
     ]
    }
   ],
   "source": [
    "# подсчет доли пропущенных значений\n",
    "print(\"Доля пропущеннных значений {:.1%}\".format(df['tenure'].isna().sum()/len(df)))"
   ]
  },
  {
   "cell_type": "code",
   "execution_count": 9,
   "metadata": {},
   "outputs": [
    {
     "data": {
      "image/png": "[encoded data removed]",
      "text/plain": [
       "<Figure size 216x504 with 2 Axes>"
      ]
     },
     "metadata": {
      "needs_background": "light"
     },
     "output_type": "display_data"
    }
   ],
   "source": [
    "# матрица корреляции\n",
    "plt.figure(figsize=(3,7))\n",
    "sns.heatmap(df.corr()[['tenure']], center=0, linewidths=.5, annot=True, cmap=\"RdBu\", fmt='.2f');"
   ]
  },
  {
   "cell_type": "markdown",
   "metadata": {},
   "source": [
    "Корреляции данных в столбце tenure с остальными колонками не наблюдается.     \n",
    "Заполним пропуски медианным значением:"
   ]
  },
  {
   "cell_type": "code",
   "execution_count": 10,
   "metadata": {},
   "outputs": [],
   "source": [
    "# заполнение пропусков в столбце медианным значением\n",
    "df['tenure'] = df['tenure'].fillna(df['tenure'].median())"
   ]
  },
  {
   "cell_type": "code",
   "execution_count": 11,
   "metadata": {},
   "outputs": [
    {
     "name": "stdout",
     "output_type": "stream",
     "text": [
      "Доля пропущеннных значений 0.0%\n"
     ]
    }
   ],
   "source": [
    "# подсчет доли пропущенных значений\n",
    "print(\"Доля пропущеннных значений {:.1%}\".format(df['tenure'].isna().sum()/len(df)))"
   ]
  },
  {
   "cell_type": "markdown",
   "metadata": {},
   "source": [
    "**Приведение данных к корректному типу**"
   ]
  },
  {
   "cell_type": "code",
   "execution_count": 12,
   "metadata": {},
   "outputs": [
    {
     "data": {
      "text/plain": [
       "row_number            int64\n",
       "customer_id           int64\n",
       "surname              object\n",
       "creditscore           int64\n",
       "geography            object\n",
       "gender               object\n",
       "age                   int64\n",
       "tenure              float64\n",
       "balance             float64\n",
       "num_of_products       int64\n",
       "has_crcard            int64\n",
       "isactive_member       int64\n",
       "estimated_salary    float64\n",
       "exited                int64\n",
       "dtype: object"
      ]
     },
     "execution_count": 12,
     "metadata": {},
     "output_type": "execute_result"
    }
   ],
   "source": [
    "# получение информации о типах данных\n",
    "df.dtypes"
   ]
  },
  {
   "cell_type": "markdown",
   "metadata": {},
   "source": [
    "Для экономии места изменим тип данных на целочисленный 32-х битный и вещественный 32-х битный, а также скорректируем тип в столбце tenure на целочисленный:"
   ]
  },
  {
   "cell_type": "code",
   "execution_count": 13,
   "metadata": {},
   "outputs": [],
   "source": [
    "# изменение типа данных на int32\n",
    "df['row_number'] = df['row_number'].astype('int')\n",
    "df['customer_id'] = df['customer_id'].astype('int')\n",
    "df['creditscore'] = df['creditscore'].astype('int')\n",
    "df['age'] = df['age'].astype('int')\n",
    "df['num_of_products'] = df['num_of_products'].astype('int')\n",
    "df['has_crcard'] = df['has_crcard'].astype('int')\n",
    "df['isactive_member'] = df['isactive_member'].astype('int')\n",
    "df['exited'] = df['exited'].astype('int')\n",
    "df['tenure'] = df['tenure'].astype('int')\n",
    "\n",
    "# изменение типа данных на float32\n",
    "df['balance'] = df['balance'].astype('float32')\n",
    "df['estimated_salary'] = df['estimated_salary'].astype('float32')"
   ]
  },
  {
   "cell_type": "code",
   "execution_count": 14,
   "metadata": {
    "scrolled": false
   },
   "outputs": [
    {
     "data": {
      "text/plain": [
       "row_number            int32\n",
       "customer_id           int32\n",
       "surname              object\n",
       "creditscore           int32\n",
       "geography            object\n",
       "gender               object\n",
       "age                   int32\n",
       "tenure                int32\n",
       "balance             float32\n",
       "num_of_products       int32\n",
       "has_crcard            int32\n",
       "isactive_member       int32\n",
       "estimated_salary    float32\n",
       "exited                int32\n",
       "dtype: object"
      ]
     },
     "execution_count": 14,
     "metadata": {},
     "output_type": "execute_result"
    }
   ],
   "source": [
    "# получение информации о типах данных\n",
    "df.dtypes"
   ]
  },
  {
   "cell_type": "markdown",
   "metadata": {},
   "source": [
    "**Поиск и обработка дубликатов**"
   ]
  },
  {
   "cell_type": "code",
   "execution_count": 15,
   "metadata": {},
   "outputs": [
    {
     "data": {
      "text/plain": [
       "0"
      ]
     },
     "execution_count": 15,
     "metadata": {},
     "output_type": "execute_result"
    }
   ],
   "source": [
    "# подсчет явных дубликатов\n",
    "df.duplicated().sum()"
   ]
  },
  {
   "cell_type": "markdown",
   "metadata": {},
   "source": [
    "Дубликаты в данных не обнаружены"
   ]
  },
  {
   "cell_type": "markdown",
   "metadata": {},
   "source": [
    "**Поиск аномалий в данных**"
   ]
  },
  {
   "cell_type": "code",
   "execution_count": 16,
   "metadata": {
    "scrolled": false
   },
   "outputs": [
    {
     "data": {
      "text/html": [
       "<div>\n",
       "<style scoped>\n",
       "    .dataframe tbody tr th:only-of-type {\n",
       "        vertical-align: middle;\n",
       "    }\n",
       "\n",
       "    .dataframe tbody tr th {\n",
       "        vertical-align: top;\n",
       "    }\n",
       "\n",
       "    .dataframe thead th {\n",
       "        text-align: right;\n",
       "    }\n",
       "</style>\n",
       "<table border=\"1\" class=\"dataframe\">\n",
       "  <thead>\n",
       "    <tr style=\"text-align: right;\">\n",
       "      <th></th>\n",
       "      <th>row_number</th>\n",
       "      <th>customer_id</th>\n",
       "      <th>creditscore</th>\n",
       "      <th>age</th>\n",
       "      <th>tenure</th>\n",
       "      <th>balance</th>\n",
       "      <th>num_of_products</th>\n",
       "      <th>has_crcard</th>\n",
       "      <th>isactive_member</th>\n",
       "      <th>estimated_salary</th>\n",
       "      <th>exited</th>\n",
       "    </tr>\n",
       "  </thead>\n",
       "  <tbody>\n",
       "    <tr>\n",
       "      <th>count</th>\n",
       "      <td>10000.00000</td>\n",
       "      <td>1.000000e+04</td>\n",
       "      <td>10000.000000</td>\n",
       "      <td>10000.000000</td>\n",
       "      <td>10000.00000</td>\n",
       "      <td>10000.000000</td>\n",
       "      <td>10000.000000</td>\n",
       "      <td>10000.00000</td>\n",
       "      <td>10000.000000</td>\n",
       "      <td>10000.000000</td>\n",
       "      <td>10000.000000</td>\n",
       "    </tr>\n",
       "    <tr>\n",
       "      <th>mean</th>\n",
       "      <td>5000.50000</td>\n",
       "      <td>1.569094e+07</td>\n",
       "      <td>650.528800</td>\n",
       "      <td>38.921800</td>\n",
       "      <td>4.99790</td>\n",
       "      <td>76485.781250</td>\n",
       "      <td>1.530200</td>\n",
       "      <td>0.70550</td>\n",
       "      <td>0.515100</td>\n",
       "      <td>100090.125000</td>\n",
       "      <td>0.203700</td>\n",
       "    </tr>\n",
       "    <tr>\n",
       "      <th>std</th>\n",
       "      <td>2886.89568</td>\n",
       "      <td>7.193619e+04</td>\n",
       "      <td>96.653299</td>\n",
       "      <td>10.487806</td>\n",
       "      <td>2.76001</td>\n",
       "      <td>62398.953125</td>\n",
       "      <td>0.581654</td>\n",
       "      <td>0.45584</td>\n",
       "      <td>0.499797</td>\n",
       "      <td>57510.468750</td>\n",
       "      <td>0.402769</td>\n",
       "    </tr>\n",
       "    <tr>\n",
       "      <th>min</th>\n",
       "      <td>1.00000</td>\n",
       "      <td>1.556570e+07</td>\n",
       "      <td>350.000000</td>\n",
       "      <td>18.000000</td>\n",
       "      <td>0.00000</td>\n",
       "      <td>0.000000</td>\n",
       "      <td>1.000000</td>\n",
       "      <td>0.00000</td>\n",
       "      <td>0.000000</td>\n",
       "      <td>11.580000</td>\n",
       "      <td>0.000000</td>\n",
       "    </tr>\n",
       "    <tr>\n",
       "      <th>25%</th>\n",
       "      <td>2500.75000</td>\n",
       "      <td>1.562853e+07</td>\n",
       "      <td>584.000000</td>\n",
       "      <td>32.000000</td>\n",
       "      <td>3.00000</td>\n",
       "      <td>0.000000</td>\n",
       "      <td>1.000000</td>\n",
       "      <td>0.00000</td>\n",
       "      <td>0.000000</td>\n",
       "      <td>51002.109375</td>\n",
       "      <td>0.000000</td>\n",
       "    </tr>\n",
       "    <tr>\n",
       "      <th>50%</th>\n",
       "      <td>5000.50000</td>\n",
       "      <td>1.569074e+07</td>\n",
       "      <td>652.000000</td>\n",
       "      <td>37.000000</td>\n",
       "      <td>5.00000</td>\n",
       "      <td>97198.539062</td>\n",
       "      <td>1.000000</td>\n",
       "      <td>1.00000</td>\n",
       "      <td>1.000000</td>\n",
       "      <td>100193.914062</td>\n",
       "      <td>0.000000</td>\n",
       "    </tr>\n",
       "    <tr>\n",
       "      <th>75%</th>\n",
       "      <td>7500.25000</td>\n",
       "      <td>1.575323e+07</td>\n",
       "      <td>718.000000</td>\n",
       "      <td>44.000000</td>\n",
       "      <td>7.00000</td>\n",
       "      <td>127644.238281</td>\n",
       "      <td>2.000000</td>\n",
       "      <td>1.00000</td>\n",
       "      <td>1.000000</td>\n",
       "      <td>149388.253906</td>\n",
       "      <td>0.000000</td>\n",
       "    </tr>\n",
       "    <tr>\n",
       "      <th>max</th>\n",
       "      <td>10000.00000</td>\n",
       "      <td>1.581569e+07</td>\n",
       "      <td>850.000000</td>\n",
       "      <td>92.000000</td>\n",
       "      <td>10.00000</td>\n",
       "      <td>250898.093750</td>\n",
       "      <td>4.000000</td>\n",
       "      <td>1.00000</td>\n",
       "      <td>1.000000</td>\n",
       "      <td>199992.484375</td>\n",
       "      <td>1.000000</td>\n",
       "    </tr>\n",
       "  </tbody>\n",
       "</table>\n",
       "</div>"
      ],
      "text/plain": [
       "        row_number   customer_id   creditscore           age       tenure  \\\n",
       "count  10000.00000  1.000000e+04  10000.000000  10000.000000  10000.00000   \n",
       "mean    5000.50000  1.569094e+07    650.528800     38.921800      4.99790   \n",
       "std     2886.89568  7.193619e+04     96.653299     10.487806      2.76001   \n",
       "min        1.00000  1.556570e+07    350.000000     18.000000      0.00000   \n",
       "25%     2500.75000  1.562853e+07    584.000000     32.000000      3.00000   \n",
       "50%     5000.50000  1.569074e+07    652.000000     37.000000      5.00000   \n",
       "75%     7500.25000  1.575323e+07    718.000000     44.000000      7.00000   \n",
       "max    10000.00000  1.581569e+07    850.000000     92.000000     10.00000   \n",
       "\n",
       "             balance  num_of_products   has_crcard  isactive_member  \\\n",
       "count   10000.000000     10000.000000  10000.00000     10000.000000   \n",
       "mean    76485.781250         1.530200      0.70550         0.515100   \n",
       "std     62398.953125         0.581654      0.45584         0.499797   \n",
       "min         0.000000         1.000000      0.00000         0.000000   \n",
       "25%         0.000000         1.000000      0.00000         0.000000   \n",
       "50%     97198.539062         1.000000      1.00000         1.000000   \n",
       "75%    127644.238281         2.000000      1.00000         1.000000   \n",
       "max    250898.093750         4.000000      1.00000         1.000000   \n",
       "\n",
       "       estimated_salary        exited  \n",
       "count      10000.000000  10000.000000  \n",
       "mean      100090.125000      0.203700  \n",
       "std        57510.468750      0.402769  \n",
       "min           11.580000      0.000000  \n",
       "25%        51002.109375      0.000000  \n",
       "50%       100193.914062      0.000000  \n",
       "75%       149388.253906      0.000000  \n",
       "max       199992.484375      1.000000  "
      ]
     },
     "execution_count": 16,
     "metadata": {},
     "output_type": "execute_result"
    }
   ],
   "source": [
    "# числовое описание данных таблицы\n",
    "df.describe()"
   ]
  },
  {
   "cell_type": "markdown",
   "metadata": {},
   "source": [
    "Явных аномалий в данных не наблюдается"
   ]
  },
  {
   "cell_type": "markdown",
   "metadata": {},
   "source": [
    "### Выводы"
   ]
  },
  {
   "cell_type": "markdown",
   "metadata": {},
   "source": [
    "💡 В исходном файле содержатся данные о поведении клиентов и расторжении договоров с банком «Бета-Банк». В ходе первичного анализа данных было выявлено:     \n",
    "\n",
    "* В названии колонок обнаружено нарушение стиля — названия были приведены к нижнему регистру и \"змеиному\" стилю;    \n",
    "\n",
    "* Количество значений в столбцах различалось. Пропуски в столбце tenure были обработаны путем заполнения медианным значением;         \n",
    "\n",
    "* Данные были приведены к соответствующему вещественному и целочисленному типу; \n",
    "\n",
    "* Дубликаты и аномалии в данных не обнаружены."
   ]
  },
  {
   "cell_type": "markdown",
   "metadata": {},
   "source": [
    "## Исследование задачи"
   ]
  },
  {
   "cell_type": "markdown",
   "metadata": {},
   "source": [
    "### Подготовка признаков"
   ]
  },
  {
   "cell_type": "markdown",
   "metadata": {},
   "source": [
    "**Удаление лишних столбцов из датафрейма**"
   ]
  },
  {
   "cell_type": "markdown",
   "metadata": {},
   "source": [
    "Удалим столбцы row_number, customer_id, surname не представляющие ценности для обучения моделей:"
   ]
  },
  {
   "cell_type": "code",
   "execution_count": 17,
   "metadata": {
    "scrolled": true
   },
   "outputs": [
    {
     "data": {
      "text/html": [
       "<div>\n",
       "<style scoped>\n",
       "    .dataframe tbody tr th:only-of-type {\n",
       "        vertical-align: middle;\n",
       "    }\n",
       "\n",
       "    .dataframe tbody tr th {\n",
       "        vertical-align: top;\n",
       "    }\n",
       "\n",
       "    .dataframe thead th {\n",
       "        text-align: right;\n",
       "    }\n",
       "</style>\n",
       "<table border=\"1\" class=\"dataframe\">\n",
       "  <thead>\n",
       "    <tr style=\"text-align: right;\">\n",
       "      <th></th>\n",
       "      <th>creditscore</th>\n",
       "      <th>geography</th>\n",
       "      <th>gender</th>\n",
       "      <th>age</th>\n",
       "      <th>tenure</th>\n",
       "      <th>balance</th>\n",
       "      <th>num_of_products</th>\n",
       "      <th>has_crcard</th>\n",
       "      <th>isactive_member</th>\n",
       "      <th>estimated_salary</th>\n",
       "      <th>exited</th>\n",
       "    </tr>\n",
       "  </thead>\n",
       "  <tbody>\n",
       "    <tr>\n",
       "      <th>0</th>\n",
       "      <td>619</td>\n",
       "      <td>France</td>\n",
       "      <td>Female</td>\n",
       "      <td>42</td>\n",
       "      <td>2</td>\n",
       "      <td>0.000000</td>\n",
       "      <td>1</td>\n",
       "      <td>1</td>\n",
       "      <td>1</td>\n",
       "      <td>101348.882812</td>\n",
       "      <td>1</td>\n",
       "    </tr>\n",
       "    <tr>\n",
       "      <th>1</th>\n",
       "      <td>608</td>\n",
       "      <td>Spain</td>\n",
       "      <td>Female</td>\n",
       "      <td>41</td>\n",
       "      <td>1</td>\n",
       "      <td>83807.859375</td>\n",
       "      <td>1</td>\n",
       "      <td>0</td>\n",
       "      <td>1</td>\n",
       "      <td>112542.578125</td>\n",
       "      <td>0</td>\n",
       "    </tr>\n",
       "    <tr>\n",
       "      <th>2</th>\n",
       "      <td>502</td>\n",
       "      <td>France</td>\n",
       "      <td>Female</td>\n",
       "      <td>42</td>\n",
       "      <td>8</td>\n",
       "      <td>159660.796875</td>\n",
       "      <td>3</td>\n",
       "      <td>1</td>\n",
       "      <td>0</td>\n",
       "      <td>113931.570312</td>\n",
       "      <td>1</td>\n",
       "    </tr>\n",
       "    <tr>\n",
       "      <th>3</th>\n",
       "      <td>699</td>\n",
       "      <td>France</td>\n",
       "      <td>Female</td>\n",
       "      <td>39</td>\n",
       "      <td>1</td>\n",
       "      <td>0.000000</td>\n",
       "      <td>2</td>\n",
       "      <td>0</td>\n",
       "      <td>0</td>\n",
       "      <td>93826.632812</td>\n",
       "      <td>0</td>\n",
       "    </tr>\n",
       "    <tr>\n",
       "      <th>4</th>\n",
       "      <td>850</td>\n",
       "      <td>Spain</td>\n",
       "      <td>Female</td>\n",
       "      <td>43</td>\n",
       "      <td>2</td>\n",
       "      <td>125510.820312</td>\n",
       "      <td>1</td>\n",
       "      <td>1</td>\n",
       "      <td>1</td>\n",
       "      <td>79084.101562</td>\n",
       "      <td>0</td>\n",
       "    </tr>\n",
       "  </tbody>\n",
       "</table>\n",
       "</div>"
      ],
      "text/plain": [
       "   creditscore geography  gender  age  tenure        balance  num_of_products  \\\n",
       "0          619    France  Female   42       2       0.000000                1   \n",
       "1          608     Spain  Female   41       1   83807.859375                1   \n",
       "2          502    France  Female   42       8  159660.796875                3   \n",
       "3          699    France  Female   39       1       0.000000                2   \n",
       "4          850     Spain  Female   43       2  125510.820312                1   \n",
       "\n",
       "   has_crcard  isactive_member  estimated_salary  exited  \n",
       "0           1                1     101348.882812       1  \n",
       "1           0                1     112542.578125       0  \n",
       "2           1                0     113931.570312       1  \n",
       "3           0                0      93826.632812       0  \n",
       "4           1                1      79084.101562       0  "
      ]
     },
     "execution_count": 17,
     "metadata": {},
     "output_type": "execute_result"
    }
   ],
   "source": [
    "data = df.drop(['row_number', 'customer_id', 'surname'], axis=1).copy()\n",
    "data.head()"
   ]
  },
  {
   "cell_type": "markdown",
   "metadata": {},
   "source": [
    "**Проверка данных на дисбаланс классов**"
   ]
  },
  {
   "cell_type": "markdown",
   "metadata": {},
   "source": [
    "Оценим баланс классов целевого признака в столбце exited:"
   ]
  },
  {
   "cell_type": "code",
   "execution_count": 18,
   "metadata": {},
   "outputs": [
    {
     "data": {
      "text/plain": [
       "0    7963\n",
       "1    2037\n",
       "Name: exited, dtype: int64"
      ]
     },
     "execution_count": 18,
     "metadata": {},
     "output_type": "execute_result"
    }
   ],
   "source": [
    "# подсчет количества значений целевого признака\n",
    "data['exited'].value_counts()"
   ]
  },
  {
   "cell_type": "code",
   "execution_count": 19,
   "metadata": {
    "scrolled": true
   },
   "outputs": [
    {
     "name": "stdout",
     "output_type": "stream",
     "text": [
      "Доля положительные значений: 20.37%\n",
      "Доля отрицательных значений: 79.63%\n"
     ]
    }
   ],
   "source": [
    "# подсчет доли положительных/отрицательных значений\n",
    "print('Доля положительные значений: {:.2%}'.format(data['exited'].mean()))\n",
    "print('Доля отрицательных значений: {:.2%}'.format(1-data['exited'].mean()))"
   ]
  },
  {
   "cell_type": "markdown",
   "metadata": {},
   "source": [
    "Присутствует явное смещение в сторону отрицательных значений."
   ]
  },
  {
   "cell_type": "markdown",
   "metadata": {},
   "source": [
    "**Прямое кодирование категориальных признаков**"
   ]
  },
  {
   "cell_type": "code",
   "execution_count": 20,
   "metadata": {
    "scrolled": true
   },
   "outputs": [
    {
     "data": {
      "text/html": [
       "<div>\n",
       "<style scoped>\n",
       "    .dataframe tbody tr th:only-of-type {\n",
       "        vertical-align: middle;\n",
       "    }\n",
       "\n",
       "    .dataframe tbody tr th {\n",
       "        vertical-align: top;\n",
       "    }\n",
       "\n",
       "    .dataframe thead th {\n",
       "        text-align: right;\n",
       "    }\n",
       "</style>\n",
       "<table border=\"1\" class=\"dataframe\">\n",
       "  <thead>\n",
       "    <tr style=\"text-align: right;\">\n",
       "      <th></th>\n",
       "      <th>creditscore</th>\n",
       "      <th>geography</th>\n",
       "      <th>gender</th>\n",
       "      <th>age</th>\n",
       "      <th>tenure</th>\n",
       "      <th>balance</th>\n",
       "      <th>num_of_products</th>\n",
       "      <th>has_crcard</th>\n",
       "      <th>isactive_member</th>\n",
       "      <th>estimated_salary</th>\n",
       "      <th>exited</th>\n",
       "    </tr>\n",
       "  </thead>\n",
       "  <tbody>\n",
       "    <tr>\n",
       "      <th>0</th>\n",
       "      <td>619</td>\n",
       "      <td>France</td>\n",
       "      <td>Female</td>\n",
       "      <td>42</td>\n",
       "      <td>2</td>\n",
       "      <td>0.000000</td>\n",
       "      <td>1</td>\n",
       "      <td>1</td>\n",
       "      <td>1</td>\n",
       "      <td>101348.882812</td>\n",
       "      <td>1</td>\n",
       "    </tr>\n",
       "    <tr>\n",
       "      <th>1</th>\n",
       "      <td>608</td>\n",
       "      <td>Spain</td>\n",
       "      <td>Female</td>\n",
       "      <td>41</td>\n",
       "      <td>1</td>\n",
       "      <td>83807.859375</td>\n",
       "      <td>1</td>\n",
       "      <td>0</td>\n",
       "      <td>1</td>\n",
       "      <td>112542.578125</td>\n",
       "      <td>0</td>\n",
       "    </tr>\n",
       "    <tr>\n",
       "      <th>2</th>\n",
       "      <td>502</td>\n",
       "      <td>France</td>\n",
       "      <td>Female</td>\n",
       "      <td>42</td>\n",
       "      <td>8</td>\n",
       "      <td>159660.796875</td>\n",
       "      <td>3</td>\n",
       "      <td>1</td>\n",
       "      <td>0</td>\n",
       "      <td>113931.570312</td>\n",
       "      <td>1</td>\n",
       "    </tr>\n",
       "    <tr>\n",
       "      <th>3</th>\n",
       "      <td>699</td>\n",
       "      <td>France</td>\n",
       "      <td>Female</td>\n",
       "      <td>39</td>\n",
       "      <td>1</td>\n",
       "      <td>0.000000</td>\n",
       "      <td>2</td>\n",
       "      <td>0</td>\n",
       "      <td>0</td>\n",
       "      <td>93826.632812</td>\n",
       "      <td>0</td>\n",
       "    </tr>\n",
       "    <tr>\n",
       "      <th>4</th>\n",
       "      <td>850</td>\n",
       "      <td>Spain</td>\n",
       "      <td>Female</td>\n",
       "      <td>43</td>\n",
       "      <td>2</td>\n",
       "      <td>125510.820312</td>\n",
       "      <td>1</td>\n",
       "      <td>1</td>\n",
       "      <td>1</td>\n",
       "      <td>79084.101562</td>\n",
       "      <td>0</td>\n",
       "    </tr>\n",
       "  </tbody>\n",
       "</table>\n",
       "</div>"
      ],
      "text/plain": [
       "   creditscore geography  gender  age  tenure        balance  num_of_products  \\\n",
       "0          619    France  Female   42       2       0.000000                1   \n",
       "1          608     Spain  Female   41       1   83807.859375                1   \n",
       "2          502    France  Female   42       8  159660.796875                3   \n",
       "3          699    France  Female   39       1       0.000000                2   \n",
       "4          850     Spain  Female   43       2  125510.820312                1   \n",
       "\n",
       "   has_crcard  isactive_member  estimated_salary  exited  \n",
       "0           1                1     101348.882812       1  \n",
       "1           0                1     112542.578125       0  \n",
       "2           1                0     113931.570312       1  \n",
       "3           0                0      93826.632812       0  \n",
       "4           1                1      79084.101562       0  "
      ]
     },
     "execution_count": 20,
     "metadata": {},
     "output_type": "execute_result"
    }
   ],
   "source": [
    "# получение первых пяти строк таблицы\n",
    "data.head()"
   ]
  },
  {
   "cell_type": "markdown",
   "metadata": {},
   "source": [
    "Преобразуем категориальные данные в количественные в столбцах geography и gender с помощью метода прямого кодирования — OHE (One-Hot Encoding):"
   ]
  },
  {
   "cell_type": "code",
   "execution_count": 21,
   "metadata": {
    "scrolled": true
   },
   "outputs": [
    {
     "data": {
      "text/html": [
       "<div>\n",
       "<style scoped>\n",
       "    .dataframe tbody tr th:only-of-type {\n",
       "        vertical-align: middle;\n",
       "    }\n",
       "\n",
       "    .dataframe tbody tr th {\n",
       "        vertical-align: top;\n",
       "    }\n",
       "\n",
       "    .dataframe thead th {\n",
       "        text-align: right;\n",
       "    }\n",
       "</style>\n",
       "<table border=\"1\" class=\"dataframe\">\n",
       "  <thead>\n",
       "    <tr style=\"text-align: right;\">\n",
       "      <th></th>\n",
       "      <th>creditscore</th>\n",
       "      <th>age</th>\n",
       "      <th>tenure</th>\n",
       "      <th>balance</th>\n",
       "      <th>num_of_products</th>\n",
       "      <th>has_crcard</th>\n",
       "      <th>isactive_member</th>\n",
       "      <th>estimated_salary</th>\n",
       "      <th>exited</th>\n",
       "      <th>geography_Germany</th>\n",
       "      <th>geography_Spain</th>\n",
       "      <th>gender_Male</th>\n",
       "    </tr>\n",
       "  </thead>\n",
       "  <tbody>\n",
       "    <tr>\n",
       "      <th>0</th>\n",
       "      <td>619</td>\n",
       "      <td>42</td>\n",
       "      <td>2</td>\n",
       "      <td>0.000000</td>\n",
       "      <td>1</td>\n",
       "      <td>1</td>\n",
       "      <td>1</td>\n",
       "      <td>101348.882812</td>\n",
       "      <td>1</td>\n",
       "      <td>0</td>\n",
       "      <td>0</td>\n",
       "      <td>0</td>\n",
       "    </tr>\n",
       "    <tr>\n",
       "      <th>1</th>\n",
       "      <td>608</td>\n",
       "      <td>41</td>\n",
       "      <td>1</td>\n",
       "      <td>83807.859375</td>\n",
       "      <td>1</td>\n",
       "      <td>0</td>\n",
       "      <td>1</td>\n",
       "      <td>112542.578125</td>\n",
       "      <td>0</td>\n",
       "      <td>0</td>\n",
       "      <td>1</td>\n",
       "      <td>0</td>\n",
       "    </tr>\n",
       "    <tr>\n",
       "      <th>2</th>\n",
       "      <td>502</td>\n",
       "      <td>42</td>\n",
       "      <td>8</td>\n",
       "      <td>159660.796875</td>\n",
       "      <td>3</td>\n",
       "      <td>1</td>\n",
       "      <td>0</td>\n",
       "      <td>113931.570312</td>\n",
       "      <td>1</td>\n",
       "      <td>0</td>\n",
       "      <td>0</td>\n",
       "      <td>0</td>\n",
       "    </tr>\n",
       "    <tr>\n",
       "      <th>3</th>\n",
       "      <td>699</td>\n",
       "      <td>39</td>\n",
       "      <td>1</td>\n",
       "      <td>0.000000</td>\n",
       "      <td>2</td>\n",
       "      <td>0</td>\n",
       "      <td>0</td>\n",
       "      <td>93826.632812</td>\n",
       "      <td>0</td>\n",
       "      <td>0</td>\n",
       "      <td>0</td>\n",
       "      <td>0</td>\n",
       "    </tr>\n",
       "    <tr>\n",
       "      <th>4</th>\n",
       "      <td>850</td>\n",
       "      <td>43</td>\n",
       "      <td>2</td>\n",
       "      <td>125510.820312</td>\n",
       "      <td>1</td>\n",
       "      <td>1</td>\n",
       "      <td>1</td>\n",
       "      <td>79084.101562</td>\n",
       "      <td>0</td>\n",
       "      <td>0</td>\n",
       "      <td>1</td>\n",
       "      <td>0</td>\n",
       "    </tr>\n",
       "  </tbody>\n",
       "</table>\n",
       "</div>"
      ],
      "text/plain": [
       "   creditscore  age  tenure        balance  num_of_products  has_crcard  \\\n",
       "0          619   42       2       0.000000                1           1   \n",
       "1          608   41       1   83807.859375                1           0   \n",
       "2          502   42       8  159660.796875                3           1   \n",
       "3          699   39       1       0.000000                2           0   \n",
       "4          850   43       2  125510.820312                1           1   \n",
       "\n",
       "   isactive_member  estimated_salary  exited  geography_Germany  \\\n",
       "0                1     101348.882812       1                  0   \n",
       "1                1     112542.578125       0                  0   \n",
       "2                0     113931.570312       1                  0   \n",
       "3                0      93826.632812       0                  0   \n",
       "4                1      79084.101562       0                  0   \n",
       "\n",
       "   geography_Spain  gender_Male  \n",
       "0                0            0  \n",
       "1                1            0  \n",
       "2                0            0  \n",
       "3                0            0  \n",
       "4                1            0  "
      ]
     },
     "execution_count": 21,
     "metadata": {},
     "output_type": "execute_result"
    }
   ],
   "source": [
    "# прямое кодирование признаков\n",
    "data_ohe = pd.get_dummies(data, drop_first=True)\n",
    "data_ohe.head()"
   ]
  },
  {
   "cell_type": "markdown",
   "metadata": {},
   "source": [
    "**Разделение данных на выборки**"
   ]
  },
  {
   "cell_type": "markdown",
   "metadata": {},
   "source": [
    "Разделим данные на обучающую (60%), валидационную (20%) и тестовую (20%) выборки:"
   ]
  },
  {
   "cell_type": "code",
   "execution_count": 22,
   "metadata": {},
   "outputs": [],
   "source": [
    "# разделение данных на обучающую, валидационную и тестовую выборки\n",
    "df_train, df_test = train_test_split(data_ohe, train_size=0.6, test_size=0.4, random_state=12345)\n",
    "df_test, df_valid = train_test_split(df_test, test_size=0.5, random_state=12345)"
   ]
  },
  {
   "cell_type": "code",
   "execution_count": 23,
   "metadata": {},
   "outputs": [
    {
     "name": "stdout",
     "output_type": "stream",
     "text": [
      "Процент данных в обучающей выборке: 60%\n",
      "Процент данных в валидационной выборке 20%\n",
      "Процент данных в тестовой выборке 20%\n"
     ]
    }
   ],
   "source": [
    "print(\"Процент данных в обучающей выборке:\", '{:.0%}'.format(len(df_train)/len(data_ohe)))\n",
    "print(\"Процент данных в валидационной выборке\", '{:.0%}'.format(len(df_valid)/len(data_ohe)))\n",
    "print(\"Процент данных в тестовой выборке\", '{:.0%}'.format(len(df_test)/len(data_ohe)))"
   ]
  },
  {
   "cell_type": "code",
   "execution_count": 24,
   "metadata": {},
   "outputs": [],
   "source": [
    "# определение функции для создания переменных для признаков и целевого признака\n",
    "def splitting_data(data, target_column):\n",
    "    return data.drop(columns=[target_column], axis=1), data[target_column]"
   ]
  },
  {
   "cell_type": "code",
   "execution_count": 25,
   "metadata": {},
   "outputs": [],
   "source": [
    "# cоздание переменных для признаков и целевого признака\n",
    "features_train, target_train = splitting_data(df_train, 'exited')\n",
    "features_valid, target_valid = splitting_data(df_valid, 'exited')\n",
    "features_test, target_test = splitting_data(df_test, 'exited')"
   ]
  },
  {
   "cell_type": "code",
   "execution_count": 26,
   "metadata": {
    "scrolled": true
   },
   "outputs": [
    {
     "name": "stdout",
     "output_type": "stream",
     "text": [
      "Сумма значений новых выборок: 10000\n",
      "Количество значений исходной выборки: 10000\n"
     ]
    }
   ],
   "source": [
    "# проверка суммы значений\n",
    "print(\"Сумма значений новых выборок:\", len(features_train) + len(features_valid) + len(features_test))\n",
    "print(\"Количество значений исходной выборки:\", len(data_ohe))"
   ]
  },
  {
   "cell_type": "markdown",
   "metadata": {},
   "source": [
    "**Стандартизация данных**"
   ]
  },
  {
   "cell_type": "markdown",
   "metadata": {},
   "source": [
    "Приведем данных к единому масштабу с помощью инструмента стандартизации. Масштабируемые данные находятся в столбцах: creditscore, age, balance, estimated_salary."
   ]
  },
  {
   "cell_type": "code",
   "execution_count": 27,
   "metadata": {},
   "outputs": [
    {
     "data": {
      "text/plain": [
       "((6000, 11), (2000, 11), (2000, 11))"
      ]
     },
     "execution_count": 27,
     "metadata": {},
     "output_type": "execute_result"
    }
   ],
   "source": [
    "# стандартизация данных в выборках\n",
    "numeric = ['creditscore', 'age', 'balance', 'estimated_salary']\n",
    "\n",
    "scaler = StandardScaler()\n",
    "scaler.fit(features_train[numeric])\n",
    "pd.options.mode.chained_assignment = None\n",
    "features_train[numeric] = scaler.transform(features_train[numeric])\n",
    "features_valid[numeric] = scaler.transform(features_valid[numeric])\n",
    "features_test[numeric] = scaler.transform(features_test[numeric])\n",
    "\n",
    "features_train.shape, features_valid.shape, features_test.shape"
   ]
  },
  {
   "cell_type": "markdown",
   "metadata": {},
   "source": [
    "### Обучение моделей без учёта дисбаланса"
   ]
  },
  {
   "cell_type": "markdown",
   "metadata": {},
   "source": [
    "**Модель дерева решений**"
   ]
  },
  {
   "cell_type": "code",
   "execution_count": 28,
   "metadata": {
    "scrolled": true
   },
   "outputs": [
    {
     "name": "stdout",
     "output_type": "stream",
     "text": [
      "Параметры лучшей модели: {'max_depth': 7}\n",
      "\n",
      "Accuracy: 0.8375\n",
      "Precision: 0.3806146572104019\n",
      "Recall: 0.71875\n",
      "F1: 0.4976816074188563\n",
      "AUC-ROC: 0.8276907555567548\n"
     ]
    }
   ],
   "source": [
    "# гиперпараметры\n",
    "parameters = {'max_depth': list(range(1, 11))\n",
    "             }\n",
    "\n",
    "# обучение модели\n",
    "model = DecisionTreeClassifier(random_state=12345)\n",
    "search_random = GridSearchCV(estimator = model, param_grid = parameters, scoring='f1')\n",
    "\n",
    "search_random.fit(features_train, target_train)    \n",
    "predictions = search_random.best_estimator_.predict(features_valid)\n",
    "     \n",
    "probabilities_valid = search_random.best_estimator_.predict_proba(features_valid)\n",
    "probabilities_one_valid = probabilities_valid[:, 1]\n",
    "\n",
    "# вывод результатов\n",
    "print(\"Параметры лучшей модели:\", search_random.best_params_)\n",
    "print() \n",
    "\n",
    "accuracy = accuracy_score(predictions, target_valid)\n",
    "precision = precision_score(predictions, target_valid)\n",
    "recall = recall_score(predictions, target_valid)\n",
    "f1 = f1_score(target_valid, predictions)\n",
    "roc_auc = roc_auc_score(target_valid, probabilities_one_valid)\n",
    "\n",
    "print(\"Accuracy:\", accuracy)\n",
    "print(\"Precision:\", precision)\n",
    "print(\"Recall:\", recall)   \n",
    "print(\"F1:\", f1)\n",
    "print(\"AUC-ROC:\", roc_auc)\n",
    "\n",
    "tree_results = [accuracy, precision, recall, f1, roc_auc]"
   ]
  },
  {
   "cell_type": "markdown",
   "metadata": {},
   "source": [
    "**Модель случайного леса**"
   ]
  },
  {
   "cell_type": "code",
   "execution_count": 29,
   "metadata": {
    "scrolled": true
   },
   "outputs": [
    {
     "name": "stdout",
     "output_type": "stream",
     "text": [
      "Параметры лучшей модели: {'max_depth': 9, 'min_samples_leaf': 2, 'n_estimators': 10}\n",
      "\n",
      "Accuracy: 0.849\n",
      "Precision: 0.41843971631205673\n",
      "Recall: 0.759656652360515\n",
      "F1: 0.5396341463414634\n",
      "AUC-ROC: 0.8428727976482264\n"
     ]
    }
   ],
   "source": [
    "# гиперпараметры\n",
    "parameters = {'max_depth': list(range(1, 11)),\n",
    "              'n_estimators': list(range(5, 51, 5)),\n",
    "              'min_samples_leaf': list(range(1, 6))\n",
    "             }\n",
    "\n",
    "# обучение модели\n",
    "model = RandomForestClassifier(random_state=12345)\n",
    "search_random = GridSearchCV(estimator = model, param_grid = parameters, scoring='f1')\n",
    "\n",
    "search_random.fit(features_train, target_train)    \n",
    "predictions = search_random.best_estimator_.predict(features_valid)\n",
    "     \n",
    "probabilities_valid = search_random.best_estimator_.predict_proba(features_valid)\n",
    "probabilities_one_valid = probabilities_valid[:, 1]\n",
    "\n",
    "# вывод результатов\n",
    "print(\"Параметры лучшей модели:\", search_random.best_params_)\n",
    "print() \n",
    "\n",
    "accuracy = accuracy_score(predictions, target_valid)\n",
    "precision = precision_score(predictions, target_valid)\n",
    "recall = recall_score(predictions, target_valid)\n",
    "f1 = f1_score(target_valid, predictions)\n",
    "roc_auc = roc_auc_score(target_valid, probabilities_one_valid)\n",
    "\n",
    "print(\"Accuracy:\", accuracy)\n",
    "print(\"Precision:\", precision)\n",
    "print(\"Recall:\", recall)   \n",
    "print(\"F1:\", f1)\n",
    "print(\"AUC-ROC:\", roc_auc)\n",
    "\n",
    "rf_results = [accuracy, precision, recall, f1, roc_auc]"
   ]
  },
  {
   "cell_type": "markdown",
   "metadata": {},
   "source": [
    "**Модель логистической регрессии**"
   ]
  },
  {
   "cell_type": "code",
   "execution_count": 30,
   "metadata": {
    "scrolled": false
   },
   "outputs": [
    {
     "name": "stdout",
     "output_type": "stream",
     "text": [
      "Параметры лучшей модели: {'penalty': 'none', 'solver': 'lbfgs'}\n",
      "\n",
      "Accuracy: 0.7915\n",
      "Precision: 0.1867612293144208\n",
      "Recall: 0.5197368421052632\n",
      "F1: 0.27478260869565213\n",
      "AUC-ROC: 0.7385750542296098\n"
     ]
    }
   ],
   "source": [
    "# гиперпараметры\n",
    "parameters = {'solver': ['lbfgs', 'newton-cg', 'sag', 'saga'],\n",
    "              'penalty': ['l2', 'none']\n",
    "             }\n",
    "\n",
    "# обучение модели\n",
    "model = LogisticRegression(random_state=12345)\n",
    "search_random = GridSearchCV(estimator = model, param_grid = parameters, scoring='f1')\n",
    "\n",
    "search_random.fit(features_train, target_train)    \n",
    "predictions = search_random.best_estimator_.predict(features_valid)\n",
    "     \n",
    "probabilities_valid = search_random.best_estimator_.predict_proba(features_valid)\n",
    "probabilities_one_valid = probabilities_valid[:, 1]\n",
    "\n",
    "# вывод результатов\n",
    "print(\"Параметры лучшей модели:\", search_random.best_params_)\n",
    "print() \n",
    "\n",
    "accuracy = accuracy_score(predictions, target_valid)\n",
    "precision = precision_score(predictions, target_valid)\n",
    "recall = recall_score(predictions, target_valid)\n",
    "f1 = f1_score(target_valid, predictions)\n",
    "roc_auc = roc_auc_score(target_valid, probabilities_one_valid)\n",
    "\n",
    "print(\"Accuracy:\", accuracy)\n",
    "print(\"Precision:\", precision)\n",
    "print(\"Recall:\", recall)   \n",
    "print(\"F1:\", f1)\n",
    "print(\"AUC-ROC:\", roc_auc)\n",
    "\n",
    "logistic_results = [accuracy, precision, recall, f1, roc_auc]"
   ]
  },
  {
   "cell_type": "markdown",
   "metadata": {},
   "source": [
    "### Выводы"
   ]
  },
  {
   "cell_type": "code",
   "execution_count": 31,
   "metadata": {},
   "outputs": [
    {
     "data": {
      "text/html": [
       "<div>\n",
       "<style scoped>\n",
       "    .dataframe tbody tr th:only-of-type {\n",
       "        vertical-align: middle;\n",
       "    }\n",
       "\n",
       "    .dataframe tbody tr th {\n",
       "        vertical-align: top;\n",
       "    }\n",
       "\n",
       "    .dataframe thead th {\n",
       "        text-align: right;\n",
       "    }\n",
       "</style>\n",
       "<table border=\"1\" class=\"dataframe\">\n",
       "  <thead>\n",
       "    <tr style=\"text-align: right;\">\n",
       "      <th></th>\n",
       "      <th>Tree</th>\n",
       "      <th>RF</th>\n",
       "      <th>Logistic</th>\n",
       "    </tr>\n",
       "  </thead>\n",
       "  <tbody>\n",
       "    <tr>\n",
       "      <th>Accuracy</th>\n",
       "      <td>0.837500</td>\n",
       "      <td>0.849000</td>\n",
       "      <td>0.791500</td>\n",
       "    </tr>\n",
       "    <tr>\n",
       "      <th>Precision</th>\n",
       "      <td>0.380615</td>\n",
       "      <td>0.418440</td>\n",
       "      <td>0.186761</td>\n",
       "    </tr>\n",
       "    <tr>\n",
       "      <th>Recall</th>\n",
       "      <td>0.718750</td>\n",
       "      <td>0.759657</td>\n",
       "      <td>0.519737</td>\n",
       "    </tr>\n",
       "    <tr>\n",
       "      <th>F1</th>\n",
       "      <td>0.497682</td>\n",
       "      <td>0.539634</td>\n",
       "      <td>0.274783</td>\n",
       "    </tr>\n",
       "    <tr>\n",
       "      <th>AUC-ROC</th>\n",
       "      <td>0.827691</td>\n",
       "      <td>0.842873</td>\n",
       "      <td>0.738575</td>\n",
       "    </tr>\n",
       "  </tbody>\n",
       "</table>\n",
       "</div>"
      ],
      "text/plain": [
       "               Tree        RF  Logistic\n",
       "Accuracy   0.837500  0.849000  0.791500\n",
       "Precision  0.380615  0.418440  0.186761\n",
       "Recall     0.718750  0.759657  0.519737\n",
       "F1         0.497682  0.539634  0.274783\n",
       "AUC-ROC    0.827691  0.842873  0.738575"
      ]
     },
     "execution_count": 31,
     "metadata": {},
     "output_type": "execute_result"
    }
   ],
   "source": [
    "# итоги обучения моделей\n",
    "results_unbalanced_data = pd.DataFrame({'Tree': tree_results, 'RF': rf_results, 'Logistic': logistic_results},\n",
    "                                       index=['Accuracy', 'Precision', 'Recall', 'F1', 'AUC-ROC'])\n",
    "results_unbalanced_data"
   ]
  },
  {
   "cell_type": "markdown",
   "metadata": {},
   "source": [
    " 💡 Для улучшения результатов прогнозирования и обучения моделей были выполнены следующие преобразования с данными:\n",
    "* удалены ненужные признаки (индекс строки в данных, уникальный идентификатор клиента, фамилия клиента); \n",
    "* проведена оценка баланса классов целевого признака — выявлено явное смещение в сторону отрицательных значений;\n",
    "* категориальные данные в столбцах geography и gender были преобразованы в количественные с помощью метода прямого кодирования (OHE);\n",
    "* данные были разделены на обучающую (60%), валидационную (20%) и тестовую (20%) выборки;\n",
    "* выполнена стандартизация количественных переменных.    \n",
    "\n",
    "Без учета дисбаланса классов наилучший результат по метрике F1 показала модель случайного леса с параметрами: количество деревьев — 10 шт., глубина — 9 условий, минимальное количество объектов в узле — 2 шт.    \n",
    "F1-мера составила 0.53, а AUC-ROC — 0.84, что сигнализирует о невысоком качестве модели из-за присутствия дисбаланса классов."
   ]
  },
  {
   "cell_type": "markdown",
   "metadata": {},
   "source": [
    "## Борьба с дисбалансом"
   ]
  },
  {
   "cell_type": "markdown",
   "metadata": {},
   "source": [
    "### Выбор метода борьбы с дисбалансом"
   ]
  },
  {
   "cell_type": "markdown",
   "metadata": {},
   "source": [
    "Протестируем несколько методов борьбы с дисбалансом на моделях с наилучшими параметрами и выберем целевой метод. В качестве определяющей метрики будем использовать F1-меру."
   ]
  },
  {
   "cell_type": "markdown",
   "metadata": {},
   "source": [
    "**Взвешивание классов (balancing)**"
   ]
  },
  {
   "cell_type": "code",
   "execution_count": 32,
   "metadata": {
    "scrolled": false
   },
   "outputs": [
    {
     "data": {
      "text/html": [
       "<div>\n",
       "<style scoped>\n",
       "    .dataframe tbody tr th:only-of-type {\n",
       "        vertical-align: middle;\n",
       "    }\n",
       "\n",
       "    .dataframe tbody tr th {\n",
       "        vertical-align: top;\n",
       "    }\n",
       "\n",
       "    .dataframe thead th {\n",
       "        text-align: right;\n",
       "    }\n",
       "</style>\n",
       "<table border=\"1\" class=\"dataframe\">\n",
       "  <thead>\n",
       "    <tr style=\"text-align: right;\">\n",
       "      <th></th>\n",
       "      <th>Tree</th>\n",
       "      <th>RF</th>\n",
       "      <th>Logistic</th>\n",
       "    </tr>\n",
       "  </thead>\n",
       "  <tbody>\n",
       "    <tr>\n",
       "      <th>F1</th>\n",
       "      <td>0.559387</td>\n",
       "      <td>0.581066</td>\n",
       "      <td>0.477509</td>\n",
       "    </tr>\n",
       "  </tbody>\n",
       "</table>\n",
       "</div>"
      ],
      "text/plain": [
       "        Tree        RF  Logistic\n",
       "F1  0.559387  0.581066  0.477509"
      ]
     },
     "metadata": {},
     "output_type": "display_data"
    }
   ],
   "source": [
    "# модель дерева решений\n",
    "model = DecisionTreeClassifier(max_depth=7, random_state=12345, class_weight='balanced')\n",
    "model.fit(features_train, target_train)    \n",
    "predictions = model.predict(features_valid)     \n",
    "\n",
    "f1 = f1_score(target_valid, predictions)\n",
    "tree_results = f1\n",
    "\n",
    "# модель случайного леса\n",
    "model = RandomForestClassifier(max_depth=9, n_estimators=10, min_samples_leaf=2, random_state=12345, class_weight='balanced')\n",
    "model.fit(features_train, target_train)    \n",
    "predictions = model.predict(features_valid)    \n",
    "\n",
    "f1 = f1_score(target_valid, predictions)\n",
    "rf_results = f1\n",
    "\n",
    "# модель логистической регрессии\n",
    "model = LogisticRegression(solver='lbfgs', penalty='none', random_state=12345, class_weight='balanced')\n",
    "model.fit(features_train, target_train)    \n",
    "predictions = model.predict(features_valid)   \n",
    "\n",
    "f1 = f1_score(target_valid, predictions)\n",
    "logistic_results = f1\n",
    "\n",
    "# итоги обучения моделей\n",
    "results_balanced_data = pd.DataFrame({'Tree': tree_results, 'RF': rf_results, 'Logistic': logistic_results},\n",
    "                                       index=['F1'])\n",
    "display(results_balanced_data)"
   ]
  },
  {
   "cell_type": "markdown",
   "metadata": {},
   "source": [
    "**Увеличение выборки (Upsampling)**"
   ]
  },
  {
   "cell_type": "markdown",
   "metadata": {},
   "source": [
    "Воспользуемся функцией, которая выполняет следующие преобразования:\n",
    "\n",
    "* разделим обучающую выборку на отрицательные и положительные объекты;\n",
    "* скопируем несколько раз положительные объекты;\n",
    "* с учетом полученных данных создадим новую обучающую выборку;\n",
    "* перемешаем данные."
   ]
  },
  {
   "cell_type": "code",
   "execution_count": 33,
   "metadata": {},
   "outputs": [],
   "source": [
    "# определение upsampling-функции\n",
    "def upsample(features, target, repeat):\n",
    "    \n",
    "    features_zeros = features[target == 0]\n",
    "    features_ones = features[target == 1]\n",
    "    target_zeros = target[target == 0]\n",
    "    target_ones = target[target == 1]\n",
    "    \n",
    "    features_upsampled = pd.concat([features_zeros] + [features_ones] * repeat)\n",
    "    target_upsampled = pd.concat([target_zeros] + [target_ones] * repeat)\n",
    "    \n",
    "    features_upsampled, target_upsampled = shuffle(features_upsampled, target_upsampled, random_state=12345)\n",
    "    \n",
    "    return features_upsampled, target_upsampled"
   ]
  },
  {
   "cell_type": "code",
   "execution_count": 34,
   "metadata": {},
   "outputs": [
    {
     "name": "stdout",
     "output_type": "stream",
     "text": [
      "(9588, 11)\n",
      "(9588,)\n"
     ]
    }
   ],
   "source": [
    "# получение увеличенных выборок\n",
    "features_upsampled, target_upsampled = upsample(features_train, target_train, 4)\n",
    "\n",
    "print(features_upsampled.shape)\n",
    "print(target_upsampled.shape)"
   ]
  },
  {
   "cell_type": "code",
   "execution_count": 35,
   "metadata": {
    "scrolled": false
   },
   "outputs": [
    {
     "name": "stdout",
     "output_type": "stream",
     "text": [
      "Доля положительные значений: 49.90%\n",
      "Доля отрицательных значений: 50.10%\n"
     ]
    }
   ],
   "source": [
    "# подсчет доли положительных/отрицательных значений\n",
    "print('Доля положительные значений: {:.2%}'.format(target_upsampled.mean()))\n",
    "print('Доля отрицательных значений: {:.2%}'.format(1-target_upsampled.mean()))"
   ]
  },
  {
   "cell_type": "markdown",
   "metadata": {},
   "source": [
    "Обучим модели на новых данных и посмотрим результаты:"
   ]
  },
  {
   "cell_type": "code",
   "execution_count": 36,
   "metadata": {},
   "outputs": [
    {
     "data": {
      "text/html": [
       "<div>\n",
       "<style scoped>\n",
       "    .dataframe tbody tr th:only-of-type {\n",
       "        vertical-align: middle;\n",
       "    }\n",
       "\n",
       "    .dataframe tbody tr th {\n",
       "        vertical-align: top;\n",
       "    }\n",
       "\n",
       "    .dataframe thead th {\n",
       "        text-align: right;\n",
       "    }\n",
       "</style>\n",
       "<table border=\"1\" class=\"dataframe\">\n",
       "  <thead>\n",
       "    <tr style=\"text-align: right;\">\n",
       "      <th></th>\n",
       "      <th>Tree</th>\n",
       "      <th>RF</th>\n",
       "      <th>Logistic</th>\n",
       "    </tr>\n",
       "  </thead>\n",
       "  <tbody>\n",
       "    <tr>\n",
       "      <th>F1</th>\n",
       "      <td>0.560461</td>\n",
       "      <td>0.596741</td>\n",
       "      <td>0.47619</td>\n",
       "    </tr>\n",
       "  </tbody>\n",
       "</table>\n",
       "</div>"
      ],
      "text/plain": [
       "        Tree        RF  Logistic\n",
       "F1  0.560461  0.596741   0.47619"
      ]
     },
     "metadata": {},
     "output_type": "display_data"
    }
   ],
   "source": [
    "# модель дерева решений\n",
    "model = DecisionTreeClassifier(max_depth=7, random_state=12345)\n",
    "model.fit(features_upsampled, target_upsampled)    \n",
    "predictions = model.predict(features_valid)     \n",
    "\n",
    "f1 = f1_score(target_valid, predictions)\n",
    "tree_results = f1\n",
    "\n",
    "# модель случайного леса\n",
    "model = RandomForestClassifier(max_depth=9, n_estimators=10, min_samples_leaf=2, random_state=12345)\n",
    "model.fit(features_upsampled, target_upsampled)    \n",
    "predictions = model.predict(features_valid)    \n",
    "\n",
    "f1 = f1_score(target_valid, predictions)\n",
    "rf_results = f1\n",
    "\n",
    "# модель логистической регрессии\n",
    "model = LogisticRegression(solver='lbfgs', penalty='none', random_state=12345)\n",
    "model.fit(features_upsampled, target_upsampled)    \n",
    "predictions = model.predict(features_valid)   \n",
    "\n",
    "f1 = f1_score(target_valid, predictions)\n",
    "logistic_results = f1\n",
    "\n",
    "# итоги обучения моделей\n",
    "results_upsampled_data = pd.DataFrame({'Tree': tree_results, 'RF': rf_results, 'Logistic': logistic_results},\n",
    "                                       index=['F1'])\n",
    "display(results_upsampled_data)"
   ]
  },
  {
   "cell_type": "markdown",
   "metadata": {},
   "source": [
    "**Уменьшение выборки (Downsampling)**"
   ]
  },
  {
   "cell_type": "markdown",
   "metadata": {},
   "source": [
    "Воспользуемся функцией, которая выполняет следующие преобразования:\n",
    "\n",
    "* разделим обучающую выборку на отрицательные и положительные объекты;\n",
    "* случайным образом отбросим часть из отрицательных объектов;\n",
    "* с учетом полученных данных создадим новую обучающую выборку;\n",
    "* перемешаем данные."
   ]
  },
  {
   "cell_type": "code",
   "execution_count": 37,
   "metadata": {},
   "outputs": [],
   "source": [
    "# определение downsampling-функции\n",
    "def downsample(features, target, fraction):\n",
    "    \n",
    "    features_zeros = features[target == 0]\n",
    "    features_ones = features[target == 1]\n",
    "    target_zeros = target[target == 0]\n",
    "    target_ones = target[target == 1]\n",
    "\n",
    "    features_sample = features_zeros.sample(frac=fraction, random_state=12345)\n",
    "    target_sample = target_zeros.sample(frac=fraction, random_state=12345)\n",
    "    \n",
    "    features_downsampled = pd.concat([features_sample] + [features_ones])\n",
    "    target_downsampled = pd.concat([target_sample] + [target_ones])\n",
    "    \n",
    "    features_downsampled, target_downsampled  = shuffle(features_downsampled, target_downsampled, random_state=12345)\n",
    "       \n",
    "    return features_downsampled, target_downsampled"
   ]
  },
  {
   "cell_type": "code",
   "execution_count": 38,
   "metadata": {},
   "outputs": [
    {
     "name": "stdout",
     "output_type": "stream",
     "text": [
      "(2397, 11)\n",
      "(2397,)\n"
     ]
    }
   ],
   "source": [
    "# получение уменьшенных выборок\n",
    "features_downsampled, target_downsampled = downsample(features_train, target_train, 0.25)\n",
    "\n",
    "print(features_downsampled.shape)\n",
    "print(target_downsampled.shape)"
   ]
  },
  {
   "cell_type": "code",
   "execution_count": 39,
   "metadata": {},
   "outputs": [
    {
     "name": "stdout",
     "output_type": "stream",
     "text": [
      "Доля положительные значений: 49.90%\n",
      "Доля отрицательных значений: 50.10%\n"
     ]
    }
   ],
   "source": [
    "# подсчет доли положительных/отрицательных значений\n",
    "print('Доля положительные значений: {:.2%}'.format(target_downsampled.mean()))\n",
    "print('Доля отрицательных значений: {:.2%}'.format(1-target_downsampled.mean()))"
   ]
  },
  {
   "cell_type": "markdown",
   "metadata": {},
   "source": [
    "Обучим модели на новых данных и посмотрим результаты:"
   ]
  },
  {
   "cell_type": "code",
   "execution_count": 40,
   "metadata": {},
   "outputs": [
    {
     "data": {
      "text/html": [
       "<div>\n",
       "<style scoped>\n",
       "    .dataframe tbody tr th:only-of-type {\n",
       "        vertical-align: middle;\n",
       "    }\n",
       "\n",
       "    .dataframe tbody tr th {\n",
       "        vertical-align: top;\n",
       "    }\n",
       "\n",
       "    .dataframe thead th {\n",
       "        text-align: right;\n",
       "    }\n",
       "</style>\n",
       "<table border=\"1\" class=\"dataframe\">\n",
       "  <thead>\n",
       "    <tr style=\"text-align: right;\">\n",
       "      <th></th>\n",
       "      <th>Tree</th>\n",
       "      <th>RF</th>\n",
       "      <th>Logistic</th>\n",
       "    </tr>\n",
       "  </thead>\n",
       "  <tbody>\n",
       "    <tr>\n",
       "      <th>F1</th>\n",
       "      <td>0.544028</td>\n",
       "      <td>0.572238</td>\n",
       "      <td>0.485885</td>\n",
       "    </tr>\n",
       "  </tbody>\n",
       "</table>\n",
       "</div>"
      ],
      "text/plain": [
       "        Tree        RF  Logistic\n",
       "F1  0.544028  0.572238  0.485885"
      ]
     },
     "metadata": {},
     "output_type": "display_data"
    }
   ],
   "source": [
    "# модель дерева решений\n",
    "model = DecisionTreeClassifier(max_depth=7, random_state=12345)\n",
    "model.fit(features_downsampled, target_downsampled)    \n",
    "predictions = model.predict(features_valid)     \n",
    "\n",
    "f1 = f1_score(target_valid, predictions)\n",
    "tree_results = f1\n",
    "\n",
    "# модель случайного леса\n",
    "model = RandomForestClassifier(max_depth=9, n_estimators=10, min_samples_leaf=2, random_state=12345)\n",
    "model.fit(features_downsampled, target_downsampled)    \n",
    "predictions = model.predict(features_valid)    \n",
    "\n",
    "f1 = f1_score(target_valid, predictions)\n",
    "rf_results = f1\n",
    "\n",
    "# модель логистической регрессии\n",
    "model = LogisticRegression(solver='lbfgs', penalty='none', random_state=12345)\n",
    "model.fit(features_downsampled, target_downsampled)    \n",
    "predictions = model.predict(features_valid)   \n",
    "\n",
    "f1 = f1_score(target_valid, predictions)\n",
    "logistic_results = f1\n",
    "\n",
    "# итоги обучения моделей\n",
    "results_downsampled_data = pd.DataFrame({'Tree': tree_results, 'RF': rf_results, 'Logistic': logistic_results},\n",
    "                                       index=['F1'])\n",
    "display(results_downsampled_data)"
   ]
  },
  {
   "cell_type": "markdown",
   "metadata": {},
   "source": [
    "**Изменение порога классификации (Threshold)**"
   ]
  },
  {
   "cell_type": "markdown",
   "metadata": {},
   "source": [
    "Переведем близость к классам в вероятность классов — попытаемся оценить насколько вероятен тот или иной класс при различных значения порога (threshold), который по умолчанию равен 0.5.    "
   ]
  },
  {
   "cell_type": "code",
   "execution_count": 41,
   "metadata": {},
   "outputs": [
    {
     "name": "stdout",
     "output_type": "stream",
     "text": [
      "Threshold = 0.00 | Precision = 0.209, Recall = 0.969 | F1-score = 0.344\n",
      "Threshold = 0.05 | Precision = 0.276, Recall = 0.939 | F1-score = 0.427\n",
      "Threshold = 0.10 | Precision = 0.386, Recall = 0.849 | F1-score = 0.531\n",
      "Threshold = 0.15 | Precision = 0.440, Recall = 0.818 | F1-score = 0.572\n",
      "Threshold = 0.20 | Precision = 0.483, Recall = 0.754 | F1-score = 0.589\n",
      "Threshold = 0.25 | Precision = 0.548, Recall = 0.645 | F1-score = 0.593\n",
      "Threshold = 0.30 | Precision = 0.574, Recall = 0.553 | F1-score = 0.563\n",
      "Threshold = 0.35 | Precision = 0.657, Recall = 0.466 | F1-score = 0.545\n",
      "Threshold = 0.40 | Precision = 0.708, Recall = 0.423 | F1-score = 0.530\n",
      "Threshold = 0.45 | Precision = 0.708, Recall = 0.423 | F1-score = 0.530\n",
      "Threshold = 0.50 | Precision = 0.719, Recall = 0.381 | F1-score = 0.498\n",
      "Threshold = 0.55 | Precision = 0.719, Recall = 0.381 | F1-score = 0.498\n",
      "Threshold = 0.60 | Precision = 0.721, Recall = 0.378 | F1-score = 0.496\n",
      "Threshold = 0.65 | Precision = 0.796, Recall = 0.296 | F1-score = 0.431\n",
      "Threshold = 0.70 | Precision = 0.801, Recall = 0.296 | F1-score = 0.432\n",
      "Threshold = 0.75 | Precision = 0.806, Recall = 0.296 | F1-score = 0.433\n",
      "Threshold = 0.80 | Precision = 0.783, Recall = 0.239 | F1-score = 0.366\n",
      "Threshold = 0.85 | Precision = 0.783, Recall = 0.239 | F1-score = 0.366\n",
      "Threshold = 0.90 | Precision = 0.872, Recall = 0.161 | F1-score = 0.271\n",
      "Threshold = 0.95 | Precision = 0.862, Recall = 0.132 | F1-score = 0.230\n",
      "\n",
      "Лучший показатель F1: 0.5928338762214984\n"
     ]
    },
    {
     "data": {
      "image/png": "[encoded data removed]",
      "text/plain": [
       "<Figure size 576x576 with 1 Axes>"
      ]
     },
     "metadata": {
      "needs_background": "light"
     },
     "output_type": "display_data"
    }
   ],
   "source": [
    "# модель дерева решений\n",
    "tree_results = 0\n",
    "\n",
    "model = DecisionTreeClassifier(max_depth=7, random_state=12345)\n",
    "model.fit(features_train, target_train)\n",
    "probabilities_valid = model.predict_proba(features_valid)\n",
    "probabilities_one_valid = probabilities_valid[:, 1]\n",
    "\n",
    "for threshold in np.arange(0, 1, 0.05):\n",
    "    predictions = probabilities_one_valid > threshold\n",
    "    precision = precision_score(target_valid, predictions)\n",
    "    recall = recall_score(target_valid, predictions)\n",
    "    f1 = f1_score(target_valid, predictions)\n",
    "    print(\"Threshold = {:.2f} | Precision = {:.3f}, Recall = {:.3f} | F1-score = {:.3f}\".format(\n",
    "        threshold, precision, recall, f1))\n",
    "    \n",
    "    if f1 > tree_results:\n",
    "        tree_results = f1\n",
    "\n",
    "print()\n",
    "print(\"Лучший показатель F1:\", tree_results)\n",
    "        \n",
    "precision, recall, thresholds = precision_recall_curve(target_valid, probabilities_valid[:, 1])    \n",
    "plt.figure(figsize=(8, 8))\n",
    "plt.step(recall, precision, where='post')\n",
    "plt.xlabel('Recall')\n",
    "plt.ylabel('Precision')\n",
    "plt.ylim([0.0, 1.0])\n",
    "plt.xlim([0.0, 1.0])\n",
    "plt.title('PR curve')\n",
    "plt.show()"
   ]
  },
  {
   "cell_type": "code",
   "execution_count": 42,
   "metadata": {},
   "outputs": [
    {
     "name": "stdout",
     "output_type": "stream",
     "text": [
      "Threshold = 0.00 | Precision = 0.211, Recall = 1.000 | F1-score = 0.349\n",
      "Threshold = 0.05 | Precision = 0.272, Recall = 0.981 | F1-score = 0.426\n",
      "Threshold = 0.10 | Precision = 0.346, Recall = 0.898 | F1-score = 0.500\n",
      "Threshold = 0.15 | Precision = 0.413, Recall = 0.811 | F1-score = 0.547\n",
      "Threshold = 0.20 | Precision = 0.476, Recall = 0.745 | F1-score = 0.581\n",
      "Threshold = 0.25 | Precision = 0.521, Recall = 0.671 | F1-score = 0.587\n",
      "Threshold = 0.30 | Precision = 0.586, Recall = 0.610 | F1-score = 0.598\n",
      "Threshold = 0.35 | Precision = 0.618, Recall = 0.565 | F1-score = 0.590\n",
      "Threshold = 0.40 | Precision = 0.674, Recall = 0.504 | F1-score = 0.576\n",
      "Threshold = 0.45 | Precision = 0.705, Recall = 0.459 | F1-score = 0.556\n",
      "Threshold = 0.50 | Precision = 0.760, Recall = 0.418 | F1-score = 0.540\n",
      "Threshold = 0.55 | Precision = 0.765, Recall = 0.362 | F1-score = 0.491\n",
      "Threshold = 0.60 | Precision = 0.805, Recall = 0.312 | F1-score = 0.450\n",
      "Threshold = 0.65 | Precision = 0.830, Recall = 0.265 | F1-score = 0.401\n",
      "Threshold = 0.70 | Precision = 0.847, Recall = 0.222 | F1-score = 0.352\n",
      "Threshold = 0.75 | Precision = 0.871, Recall = 0.175 | F1-score = 0.291\n",
      "Threshold = 0.80 | Precision = 0.905, Recall = 0.135 | F1-score = 0.235\n",
      "Threshold = 0.85 | Precision = 0.923, Recall = 0.085 | F1-score = 0.156\n",
      "Threshold = 0.90 | Precision = 1.000, Recall = 0.038 | F1-score = 0.073\n",
      "Threshold = 0.95 | Precision = 1.000, Recall = 0.009 | F1-score = 0.019\n",
      "\n",
      "Лучший показатель F1: 0.5979142526071843\n"
     ]
    },
    {
     "data": {
      "image/png": "[encoded data removed]",
      "text/plain": [
       "<Figure size 576x576 with 1 Axes>"
      ]
     },
     "metadata": {
      "needs_background": "light"
     },
     "output_type": "display_data"
    }
   ],
   "source": [
    "# модель случайного леса\n",
    "rf_results = 0\n",
    "\n",
    "model = RandomForestClassifier(max_depth=9, n_estimators=10, min_samples_leaf=2, random_state=12345)\n",
    "model.fit(features_train, target_train)\n",
    "probabilities_valid = model.predict_proba(features_valid)\n",
    "probabilities_one_valid = probabilities_valid[:, 1]\n",
    "\n",
    "for threshold in np.arange(0, 1, 0.05):\n",
    "    predictions = probabilities_one_valid > threshold\n",
    "    precision = precision_score(target_valid, predictions)\n",
    "    recall = recall_score(target_valid, predictions)\n",
    "    f1 = f1_score(target_valid, predictions)\n",
    "    print(\"Threshold = {:.2f} | Precision = {:.3f}, Recall = {:.3f} | F1-score = {:.3f}\".format(\n",
    "        threshold, precision, recall, f1))\n",
    "    \n",
    "    if f1 > rf_results:\n",
    "        rf_results = f1\n",
    "\n",
    "print()\n",
    "print(\"Лучший показатель F1:\", rf_results)\n",
    "\n",
    "precision, recall, thresholds = precision_recall_curve(target_valid, probabilities_valid[:, 1])    \n",
    "plt.figure(figsize=(8, 8))\n",
    "plt.step(recall, precision, where='post')\n",
    "plt.xlabel('Recall')\n",
    "plt.ylabel('Precision')\n",
    "plt.ylim([0.0, 1.05])\n",
    "plt.xlim([0.0, 1.0])\n",
    "plt.title('PR curve')\n",
    "plt.show()"
   ]
  },
  {
   "cell_type": "code",
   "execution_count": 43,
   "metadata": {
    "scrolled": false
   },
   "outputs": [
    {
     "name": "stdout",
     "output_type": "stream",
     "text": [
      "Threshold = 0.00 | Precision = 0.211, Recall = 1.000 | F1-score = 0.349\n",
      "Threshold = 0.05 | Precision = 0.233, Recall = 0.955 | F1-score = 0.375\n",
      "Threshold = 0.10 | Precision = 0.286, Recall = 0.882 | F1-score = 0.431\n",
      "Threshold = 0.15 | Precision = 0.330, Recall = 0.775 | F1-score = 0.463\n",
      "Threshold = 0.20 | Precision = 0.371, Recall = 0.660 | F1-score = 0.475\n",
      "Threshold = 0.25 | Precision = 0.401, Recall = 0.558 | F1-score = 0.466\n",
      "Threshold = 0.30 | Precision = 0.422, Recall = 0.461 | F1-score = 0.441\n",
      "Threshold = 0.35 | Precision = 0.462, Recall = 0.388 | F1-score = 0.422\n",
      "Threshold = 0.40 | Precision = 0.487, Recall = 0.319 | F1-score = 0.386\n",
      "Threshold = 0.45 | Precision = 0.512, Recall = 0.248 | F1-score = 0.334\n",
      "Threshold = 0.50 | Precision = 0.520, Recall = 0.187 | F1-score = 0.275\n",
      "Threshold = 0.55 | Precision = 0.586, Recall = 0.161 | F1-score = 0.252\n",
      "Threshold = 0.60 | Precision = 0.587, Recall = 0.104 | F1-score = 0.177\n",
      "Threshold = 0.65 | Precision = 0.588, Recall = 0.071 | F1-score = 0.127\n",
      "Threshold = 0.70 | Precision = 0.656, Recall = 0.050 | F1-score = 0.092\n",
      "Threshold = 0.75 | Precision = 0.688, Recall = 0.026 | F1-score = 0.050\n",
      "Threshold = 0.80 | Precision = 0.556, Recall = 0.012 | F1-score = 0.023\n",
      "Threshold = 0.85 | Precision = 0.250, Recall = 0.002 | F1-score = 0.005\n",
      "Threshold = 0.90 | Precision = 0.500, Recall = 0.002 | F1-score = 0.005\n",
      "Threshold = 0.95 | Precision = 0.000, Recall = 0.000 | F1-score = 0.000\n",
      "\n",
      "Лучший показатель F1: 0.4748936170212766\n"
     ]
    },
    {
     "name": "stderr",
     "output_type": "stream",
     "text": [
      "C:\\Users\\user\\anaconda3\\lib\\site-packages\\sklearn\\metrics\\_classification.py:1318: UndefinedMetricWarning: Precision is ill-defined and being set to 0.0 due to no predicted samples. Use `zero_division` parameter to control this behavior.\n",
      "  _warn_prf(average, modifier, msg_start, len(result))\n"
     ]
    },
    {
     "data": {
      "image/png": "[encoded data removed]",
      "text/plain": [
       "<Figure size 576x576 with 1 Axes>"
      ]
     },
     "metadata": {
      "needs_background": "light"
     },
     "output_type": "display_data"
    }
   ],
   "source": [
    "# модель логистической регрессии\n",
    "logistic_results = 0\n",
    "\n",
    "model = LogisticRegression(solver='lbfgs', penalty='none', random_state=12345)\n",
    "model.fit(features_train, target_train)\n",
    "probabilities_valid = model.predict_proba(features_valid)\n",
    "probabilities_one_valid = probabilities_valid[:, 1]\n",
    "\n",
    "for threshold in np.arange(0, 1, 0.05):\n",
    "    predictions = probabilities_one_valid > threshold\n",
    "    precision = precision_score(target_valid, predictions)\n",
    "    recall = recall_score(target_valid, predictions)\n",
    "    f1 = f1_score(target_valid, predictions)\n",
    "    print(\"Threshold = {:.2f} | Precision = {:.3f}, Recall = {:.3f} | F1-score = {:.3f}\".format(\n",
    "        threshold, precision, recall, f1))\n",
    "    \n",
    "    if f1 > logistic_results:\n",
    "        logistic_results = f1\n",
    "\n",
    "print()\n",
    "print(\"Лучший показатель F1:\", logistic_results)\n",
    "\n",
    "precision, recall, thresholds = precision_recall_curve(target_valid, probabilities_valid[:, 1])    \n",
    "plt.figure(figsize=(8, 8))\n",
    "plt.step(recall, precision, where='post')\n",
    "plt.xlabel('Recall')\n",
    "plt.ylabel('Precision')\n",
    "plt.ylim([0.0, 1.0])\n",
    "plt.xlim([0.0, 1.0])\n",
    "plt.title('PR curve')\n",
    "plt.show()"
   ]
  },
  {
   "cell_type": "code",
   "execution_count": 44,
   "metadata": {},
   "outputs": [
    {
     "data": {
      "text/html": [
       "<div>\n",
       "<style scoped>\n",
       "    .dataframe tbody tr th:only-of-type {\n",
       "        vertical-align: middle;\n",
       "    }\n",
       "\n",
       "    .dataframe tbody tr th {\n",
       "        vertical-align: top;\n",
       "    }\n",
       "\n",
       "    .dataframe thead th {\n",
       "        text-align: right;\n",
       "    }\n",
       "</style>\n",
       "<table border=\"1\" class=\"dataframe\">\n",
       "  <thead>\n",
       "    <tr style=\"text-align: right;\">\n",
       "      <th></th>\n",
       "      <th>Tree</th>\n",
       "      <th>RF</th>\n",
       "      <th>Logistic</th>\n",
       "    </tr>\n",
       "  </thead>\n",
       "  <tbody>\n",
       "    <tr>\n",
       "      <th>F1</th>\n",
       "      <td>0.592834</td>\n",
       "      <td>0.597914</td>\n",
       "      <td>0.474894</td>\n",
       "    </tr>\n",
       "  </tbody>\n",
       "</table>\n",
       "</div>"
      ],
      "text/plain": [
       "        Tree        RF  Logistic\n",
       "F1  0.592834  0.597914  0.474894"
      ]
     },
     "metadata": {},
     "output_type": "display_data"
    }
   ],
   "source": [
    "# итоги обучения моделей\n",
    "results_threshold_data = pd.DataFrame({'Tree': tree_results, 'RF': rf_results, 'Logistic': logistic_results},\n",
    "                                       index=['F1'])\n",
    "display(results_threshold_data)"
   ]
  },
  {
   "cell_type": "markdown",
   "metadata": {},
   "source": [
    "Сведем все результаты теста методов борьбы с дисбалансом классов в одну таблицу:"
   ]
  },
  {
   "cell_type": "code",
   "execution_count": 45,
   "metadata": {},
   "outputs": [
    {
     "data": {
      "text/html": [
       "<div>\n",
       "<style scoped>\n",
       "    .dataframe tbody tr th:only-of-type {\n",
       "        vertical-align: middle;\n",
       "    }\n",
       "\n",
       "    .dataframe tbody tr th {\n",
       "        vertical-align: top;\n",
       "    }\n",
       "\n",
       "    .dataframe thead th {\n",
       "        text-align: right;\n",
       "    }\n",
       "</style>\n",
       "<table border=\"1\" class=\"dataframe\">\n",
       "  <thead>\n",
       "    <tr style=\"text-align: right;\">\n",
       "      <th></th>\n",
       "      <th></th>\n",
       "      <th>Tree</th>\n",
       "      <th>RF</th>\n",
       "      <th>Logistic</th>\n",
       "    </tr>\n",
       "  </thead>\n",
       "  <tbody>\n",
       "    <tr>\n",
       "      <th>unbalanced</th>\n",
       "      <th>F1</th>\n",
       "      <td>0.497682</td>\n",
       "      <td>0.539634</td>\n",
       "      <td>0.274783</td>\n",
       "    </tr>\n",
       "    <tr>\n",
       "      <th>balanced</th>\n",
       "      <th>F1</th>\n",
       "      <td>0.559387</td>\n",
       "      <td>0.581066</td>\n",
       "      <td>0.477509</td>\n",
       "    </tr>\n",
       "    <tr>\n",
       "      <th>upsampling</th>\n",
       "      <th>F1</th>\n",
       "      <td>0.560461</td>\n",
       "      <td>0.596741</td>\n",
       "      <td>0.476190</td>\n",
       "    </tr>\n",
       "    <tr>\n",
       "      <th>downsampling</th>\n",
       "      <th>F1</th>\n",
       "      <td>0.544028</td>\n",
       "      <td>0.572238</td>\n",
       "      <td>0.485885</td>\n",
       "    </tr>\n",
       "    <tr>\n",
       "      <th>threshold</th>\n",
       "      <th>F1</th>\n",
       "      <td>0.592834</td>\n",
       "      <td>0.597914</td>\n",
       "      <td>0.474894</td>\n",
       "    </tr>\n",
       "  </tbody>\n",
       "</table>\n",
       "</div>"
      ],
      "text/plain": [
       "                     Tree        RF  Logistic\n",
       "unbalanced   F1  0.497682  0.539634  0.274783\n",
       "balanced     F1  0.559387  0.581066  0.477509\n",
       "upsampling   F1  0.560461  0.596741  0.476190\n",
       "downsampling F1  0.544028  0.572238  0.485885\n",
       "threshold    F1  0.592834  0.597914  0.474894"
      ]
     },
     "execution_count": 45,
     "metadata": {},
     "output_type": "execute_result"
    }
   ],
   "source": [
    "balancing_results = pd.concat([results_unbalanced_data[3:4]] \n",
    "                              + [results_balanced_data] \n",
    "                              + [results_upsampled_data] \n",
    "                              + [results_downsampled_data] \n",
    "                              + [results_threshold_data])\n",
    "\n",
    "balancing_results.index = pd.MultiIndex.from_product([['unbalanced', 'balanced', 'upsampling', 'downsampling', 'threshold'],\n",
    "                                                        ['F1']])\n",
    "\n",
    "balancing_results"
   ]
  },
  {
   "cell_type": "markdown",
   "metadata": {},
   "source": [
    "💡 В качестве целевого метода борьбы с дисбалансом классов выбираем \"увеличение выборки\" (upsampling), который будем использовать для определения лучшей модели. "
   ]
  },
  {
   "cell_type": "markdown",
   "metadata": {},
   "source": [
    "### Поиск лучшей модели"
   ]
  },
  {
   "cell_type": "markdown",
   "metadata": {},
   "source": [
    "Выбор лучшей модели произведем оценивая их качество по F1-мере и дополнительно измеряя AUC-ROC."
   ]
  },
  {
   "cell_type": "markdown",
   "metadata": {},
   "source": [
    "**Модель дерева решений**"
   ]
  },
  {
   "cell_type": "code",
   "execution_count": 46,
   "metadata": {
    "scrolled": false
   },
   "outputs": [
    {
     "name": "stdout",
     "output_type": "stream",
     "text": [
      "Параметры лучшей модели: {'max_depth': 10}\n",
      "\n",
      "Accuracy: 0.752\n",
      "Precision: 0.6501182033096927\n",
      "Recall: 0.44141252006420545\n",
      "F1: 0.5258126195028681\n",
      "AUC-ROC: 0.7495289107156509\n"
     ]
    },
    {
     "data": {
      "image/png": "[encoded data removed]",
      "text/plain": [
       "<Figure size 432x432 with 1 Axes>"
      ]
     },
     "metadata": {
      "needs_background": "light"
     },
     "output_type": "display_data"
    }
   ],
   "source": [
    "# гиперпараметры\n",
    "parameters = {'max_depth': list(range(1, 11))\n",
    "             }\n",
    "\n",
    "# обучение модели\n",
    "model = DecisionTreeClassifier(random_state=12345)\n",
    "search_random = GridSearchCV(estimator = model, param_grid = parameters, scoring='f1')\n",
    "\n",
    "search_random.fit(features_upsampled, target_upsampled)    \n",
    "predictions = search_random.best_estimator_.predict(features_valid)\n",
    "     \n",
    "probabilities_valid = search_random.best_estimator_.predict_proba(features_valid)\n",
    "probabilities_one_valid = probabilities_valid[:, 1]\n",
    "\n",
    "# вывод результатов\n",
    "print(\"Параметры лучшей модели:\", search_random.best_params_)\n",
    "print() \n",
    "\n",
    "accuracy = accuracy_score(predictions, target_valid)\n",
    "precision = precision_score(predictions, target_valid)\n",
    "recall = recall_score(predictions, target_valid)\n",
    "f1 = f1_score(target_valid, predictions)\n",
    "roc_auc = roc_auc_score(target_valid, probabilities_one_valid)\n",
    "\n",
    "print(\"Accuracy:\", accuracy)\n",
    "print(\"Precision:\", precision)\n",
    "print(\"Recall:\", recall)   \n",
    "print(\"F1:\", f1)\n",
    "print(\"AUC-ROC:\", roc_auc)\n",
    "\n",
    "tree_results = [accuracy, precision, recall, f1, roc_auc]\n",
    "\n",
    "# график ROC-кривой\n",
    "fpr, tpr, thresholds = roc_curve(target_valid, probabilities_one_valid) \n",
    "\n",
    "plt.figure(figsize=(6, 6))\n",
    "plt.plot(fpr, tpr, linestyle='-') #ROC-кривая случайной модели\n",
    "plt.plot([0, 1], [0, 1], linestyle='--')\n",
    "plt.xlim([0.0, 1.0])\n",
    "plt.ylim([0.0, 1.0])\n",
    "plt.xlabel('False Positive Rate')\n",
    "plt.ylabel('True Positive Rate')\n",
    "plt.title('ROC-curve')\n",
    "\n",
    "plt.show()"
   ]
  },
  {
   "cell_type": "markdown",
   "metadata": {},
   "source": [
    "**Модель случайного леса**"
   ]
  },
  {
   "cell_type": "code",
   "execution_count": 47,
   "metadata": {
    "scrolled": false
   },
   "outputs": [
    {
     "name": "stdout",
     "output_type": "stream",
     "text": [
      "Параметры лучшей модели: {'max_depth': 10, 'min_samples_leaf': 1, 'n_estimators': 40}\n",
      "\n",
      "Accuracy: 0.817\n",
      "Precision: 0.6572104018912529\n",
      "Recall: 0.5571142284569138\n",
      "F1: 0.6030368763557483\n",
      "AUC-ROC: 0.8526528660367488\n"
     ]
    },
    {
     "data": {
      "image/png": "[encoded data removed]",
      "text/plain": [
       "<Figure size 432x432 with 1 Axes>"
      ]
     },
     "metadata": {
      "needs_background": "light"
     },
     "output_type": "display_data"
    }
   ],
   "source": [
    "# гиперпараметры\n",
    "parameters = {'max_depth': list(range(1, 11)),\n",
    "              'n_estimators': list(range(5, 51, 5)),\n",
    "              'min_samples_leaf': list(range(1, 6))\n",
    "             }\n",
    "\n",
    "# обучение модели\n",
    "model = RandomForestClassifier(random_state=12345)\n",
    "search_random = GridSearchCV(estimator = model, param_grid = parameters, scoring='f1')\n",
    "\n",
    "search_random.fit(features_upsampled, target_upsampled)    \n",
    "predictions = search_random.best_estimator_.predict(features_valid)\n",
    "     \n",
    "probabilities_valid = search_random.best_estimator_.predict_proba(features_valid)\n",
    "probabilities_one_valid = probabilities_valid[:, 1]\n",
    "\n",
    "# вывод результатов\n",
    "print(\"Параметры лучшей модели:\", search_random.best_params_)\n",
    "print() \n",
    "\n",
    "accuracy = accuracy_score(predictions, target_valid)\n",
    "precision = precision_score(predictions, target_valid)\n",
    "recall = recall_score(predictions, target_valid)\n",
    "f1 = f1_score(target_valid, predictions)\n",
    "roc_auc = roc_auc_score(target_valid, probabilities_one_valid)\n",
    "\n",
    "print(\"Accuracy:\", accuracy)\n",
    "print(\"Precision:\", precision)\n",
    "print(\"Recall:\", recall)   \n",
    "print(\"F1:\", f1)\n",
    "print(\"AUC-ROC:\", roc_auc)\n",
    "\n",
    "rf_results = [accuracy, precision, recall, f1, roc_auc]\n",
    "\n",
    "# график ROC-кривой\n",
    "fpr, tpr, thresholds = roc_curve(target_valid, probabilities_one_valid) \n",
    "\n",
    "plt.figure(figsize=(6, 6))\n",
    "plt.plot(fpr, tpr, linestyle='-') #ROC-кривая случайной модели\n",
    "plt.plot([0, 1], [0, 1], linestyle='--')\n",
    "plt.xlim([0.0, 1.0])\n",
    "plt.ylim([0.0, 1.0])\n",
    "plt.xlabel('False Positive Rate')\n",
    "plt.ylabel('True Positive Rate')\n",
    "plt.title('ROC-curve')\n",
    "\n",
    "plt.show()"
   ]
  },
  {
   "cell_type": "markdown",
   "metadata": {},
   "source": [
    "**Модель логистической регрессии**"
   ]
  },
  {
   "cell_type": "code",
   "execution_count": 48,
   "metadata": {
    "scrolled": false
   },
   "outputs": [
    {
     "name": "stdout",
     "output_type": "stream",
     "text": [
      "Параметры лучшей модели: {'penalty': 'none', 'solver': 'lbfgs'}\n",
      "\n",
      "Accuracy: 0.6975\n",
      "Precision: 0.6501182033096927\n",
      "Recall: 0.3756830601092896\n",
      "F1: 0.47619047619047616\n",
      "AUC-ROC: 0.7416751740069647\n"
     ]
    },
    {
     "data": {
      "image/png": "[encoded data removed]",
      "text/plain": [
       "<Figure size 432x432 with 1 Axes>"
      ]
     },
     "metadata": {
      "needs_background": "light"
     },
     "output_type": "display_data"
    }
   ],
   "source": [
    "# гиперпараметры\n",
    "parameters = {'solver': ['lbfgs', 'newton-cg', 'sag', 'saga'],\n",
    "              'penalty': ['l2', 'none']\n",
    "             }\n",
    "\n",
    "# обучение модели\n",
    "model = LogisticRegression(random_state=12345)\n",
    "search_random = GridSearchCV(estimator = model, param_grid = parameters, scoring='f1')\n",
    "\n",
    "search_random.fit(features_upsampled, target_upsampled)    \n",
    "predictions = search_random.best_estimator_.predict(features_valid)\n",
    "     \n",
    "probabilities_valid = search_random.best_estimator_.predict_proba(features_valid)\n",
    "probabilities_one_valid = probabilities_valid[:, 1]\n",
    "\n",
    "# вывод результатов\n",
    "print(\"Параметры лучшей модели:\", search_random.best_params_)\n",
    "print() \n",
    "\n",
    "accuracy = accuracy_score(predictions, target_valid)\n",
    "precision = precision_score(predictions, target_valid)\n",
    "recall = recall_score(predictions, target_valid)\n",
    "f1 = f1_score(target_valid, predictions)\n",
    "roc_auc = roc_auc_score(target_valid, probabilities_one_valid)\n",
    "\n",
    "print(\"Accuracy:\", accuracy)\n",
    "print(\"Precision:\", precision)\n",
    "print(\"Recall:\", recall)   \n",
    "print(\"F1:\", f1)\n",
    "print(\"AUC-ROC:\", roc_auc)\n",
    "\n",
    "logistic_results = [accuracy, precision, recall, f1, roc_auc]\n",
    "\n",
    "# график ROC-кривой\n",
    "fpr, tpr, thresholds = roc_curve(target_valid, probabilities_one_valid) \n",
    "\n",
    "plt.figure(figsize=(6, 6))\n",
    "plt.plot(fpr, tpr, linestyle='-') #ROC-кривая случайной модели\n",
    "plt.plot([0, 1], [0, 1], linestyle='--')\n",
    "plt.xlim([0.0, 1.0])\n",
    "plt.ylim([0.0, 1.0])\n",
    "plt.xlabel('False Positive Rate')\n",
    "plt.ylabel('True Positive Rate')\n",
    "plt.title('ROC-curve')\n",
    "\n",
    "plt.show()"
   ]
  },
  {
   "cell_type": "markdown",
   "metadata": {},
   "source": [
    "### Выводы"
   ]
  },
  {
   "cell_type": "code",
   "execution_count": 49,
   "metadata": {
    "scrolled": true
   },
   "outputs": [
    {
     "data": {
      "text/html": [
       "<div>\n",
       "<style scoped>\n",
       "    .dataframe tbody tr th:only-of-type {\n",
       "        vertical-align: middle;\n",
       "    }\n",
       "\n",
       "    .dataframe tbody tr th {\n",
       "        vertical-align: top;\n",
       "    }\n",
       "\n",
       "    .dataframe thead th {\n",
       "        text-align: right;\n",
       "    }\n",
       "</style>\n",
       "<table border=\"1\" class=\"dataframe\">\n",
       "  <thead>\n",
       "    <tr style=\"text-align: right;\">\n",
       "      <th></th>\n",
       "      <th>Tree</th>\n",
       "      <th>RF</th>\n",
       "      <th>Logistic</th>\n",
       "    </tr>\n",
       "  </thead>\n",
       "  <tbody>\n",
       "    <tr>\n",
       "      <th>Accuracy</th>\n",
       "      <td>0.752000</td>\n",
       "      <td>0.817000</td>\n",
       "      <td>0.697500</td>\n",
       "    </tr>\n",
       "    <tr>\n",
       "      <th>Precision</th>\n",
       "      <td>0.650118</td>\n",
       "      <td>0.657210</td>\n",
       "      <td>0.650118</td>\n",
       "    </tr>\n",
       "    <tr>\n",
       "      <th>Recall</th>\n",
       "      <td>0.441413</td>\n",
       "      <td>0.557114</td>\n",
       "      <td>0.375683</td>\n",
       "    </tr>\n",
       "    <tr>\n",
       "      <th>F1</th>\n",
       "      <td>0.525813</td>\n",
       "      <td>0.603037</td>\n",
       "      <td>0.476190</td>\n",
       "    </tr>\n",
       "    <tr>\n",
       "      <th>AUC-ROC</th>\n",
       "      <td>0.749529</td>\n",
       "      <td>0.852653</td>\n",
       "      <td>0.741675</td>\n",
       "    </tr>\n",
       "  </tbody>\n",
       "</table>\n",
       "</div>"
      ],
      "text/plain": [
       "               Tree        RF  Logistic\n",
       "Accuracy   0.752000  0.817000  0.697500\n",
       "Precision  0.650118  0.657210  0.650118\n",
       "Recall     0.441413  0.557114  0.375683\n",
       "F1         0.525813  0.603037  0.476190\n",
       "AUC-ROC    0.749529  0.852653  0.741675"
      ]
     },
     "execution_count": 49,
     "metadata": {},
     "output_type": "execute_result"
    }
   ],
   "source": [
    "# итоги обучения моделей\n",
    "results_upsampling_data = pd.DataFrame({'Tree': tree_results, 'RF': rf_results, 'Logistic': logistic_results},\n",
    "                                       index=['Accuracy', 'Precision', 'Recall', 'F1', 'AUC-ROC'])\n",
    "results_upsampling_data"
   ]
  },
  {
   "cell_type": "markdown",
   "metadata": {},
   "source": [
    "💡 На моделях с наилучшими параметрами (определенными в разделе 2.2) были протестированы различные методы борьбы с дисбалансом классов и выбран целевой метод — увеличение выборки (upsampling).\n",
    "\n",
    "Далее, модели были обучены на увеличенной выборке, оценено их качество с помощью F1-меры и измерен AUC-ROC.  \n",
    "Наилучший результат показала модель случайного леса с параметрами: количество деревьев — 40 шт., глубина — 10 условий, минимальное количество объектов в узле — 1 шт.    \n",
    "\n",
    "F1-мера лучшей модели составила 0.60,  AUC-ROC — 0.85."
   ]
  },
  {
   "cell_type": "markdown",
   "metadata": {},
   "source": [
    "## Тестирование модели"
   ]
  },
  {
   "cell_type": "markdown",
   "metadata": {},
   "source": [
    "Обучим модели на суммарной выборке (обучающая + валидационная) и проверим на тестовой выборке:"
   ]
  },
  {
   "cell_type": "code",
   "execution_count": 50,
   "metadata": {},
   "outputs": [
    {
     "name": "stdout",
     "output_type": "stream",
     "text": [
      "(12857, 11)\n",
      "(12857,)\n"
     ]
    }
   ],
   "source": [
    "# получение увеличенных выборок\n",
    "features_upsampled, target_upsampled = upsample(pd.concat([features_train, features_valid], axis=0, join='outer'),\n",
    "                                                pd.concat([target_train, target_valid], axis=0, join='outer'),\n",
    "                                                4)\n",
    "\n",
    "print(features_upsampled.shape)\n",
    "print(target_upsampled.shape)"
   ]
  },
  {
   "cell_type": "code",
   "execution_count": 51,
   "metadata": {
    "scrolled": false
   },
   "outputs": [
    {
     "name": "stdout",
     "output_type": "stream",
     "text": [
      "Доля положительные значений: 50.37%\n",
      "Доля отрицательных значений: 49.63%\n"
     ]
    }
   ],
   "source": [
    "# подсчет доли положительных/отрицательных значений\n",
    "print('Доля положительные значений: {:.2%}'.format(target_upsampled.mean()))\n",
    "print('Доля отрицательных значений: {:.2%}'.format(1-target_upsampled.mean()))"
   ]
  },
  {
   "cell_type": "code",
   "execution_count": 52,
   "metadata": {
    "scrolled": false
   },
   "outputs": [
    {
     "name": "stdout",
     "output_type": "stream",
     "text": [
      "Accuracy: 0.825\n",
      "Precision: 0.7009569377990431\n",
      "Recall: 0.5656370656370656\n",
      "F1: 0.6260683760683761\n",
      "AUC-ROC: 0.7635661962629824\n"
     ]
    },
    {
     "data": {
      "image/png": "[encoded data removed]",
      "text/plain": [
       "<Figure size 432x432 with 1 Axes>"
      ]
     },
     "metadata": {
      "needs_background": "light"
     },
     "output_type": "display_data"
    }
   ],
   "source": [
    "# модель случайного леса\n",
    "model = RandomForestClassifier(max_depth=10, n_estimators=40, min_samples_leaf=1, random_state=12345)\n",
    "model.fit(features_upsampled, target_upsampled)    \n",
    "predictions = model.predict(features_test)    \n",
    "\n",
    "probabilities_valid = search_random.best_estimator_.predict_proba(features_test)\n",
    "probabilities_one_valid = probabilities_valid[:, 1]\n",
    "\n",
    "# вывод результатов\n",
    "accuracy = accuracy_score(predictions, target_test)\n",
    "precision = precision_score(predictions, target_test)\n",
    "recall = recall_score(predictions, target_test)\n",
    "f1 = f1_score(target_test, predictions)\n",
    "roc_auc = roc_auc_score(target_test, probabilities_one_valid)\n",
    "\n",
    "print(\"Accuracy:\", accuracy)\n",
    "print(\"Precision:\", precision)\n",
    "print(\"Recall:\", recall)   \n",
    "print(\"F1:\", f1)\n",
    "print(\"AUC-ROC:\", roc_auc)\n",
    "\n",
    "# график ROC-кривой\n",
    "fpr, tpr, thresholds = roc_curve(target_test, probabilities_one_valid) \n",
    "\n",
    "plt.figure(figsize=(6, 6))\n",
    "plt.plot(fpr, tpr, linestyle='-') #ROC-кривая случайной модели\n",
    "plt.plot([0, 1], [0, 1], linestyle='--')\n",
    "plt.xlim([0.0, 1.0])\n",
    "plt.ylim([0.0, 1.0])\n",
    "plt.xlabel('False Positive Rate')\n",
    "plt.ylabel('True Positive Rate')\n",
    "plt.title('ROC-curve')\n",
    "\n",
    "plt.show()"
   ]
  },
  {
   "cell_type": "markdown",
   "metadata": {},
   "source": [
    "Согласно графику ROC-кривой точность модели \"Случайный лес\" (Random Forest) с заданными параметрами выше, чем у случайной модели.     \n",
    "F1-мера составила 0.62, что выше целевого значения (0.59) и отвечает поставленной задаче."
   ]
  },
  {
   "cell_type": "markdown",
   "metadata": {},
   "source": [
    "## Общий вывод"
   ]
  },
  {
   "cell_type": "markdown",
   "metadata": {},
   "source": [
    "* На этапе предобработки данных были исправлены нарушения стиля, заполнены пропуски, также данные были приведены к корректному типу;\n",
    "* В ходе подготовки признаков были удалены ненужные признаки, выявлен дисбаланс классов со смещением в сторону отрицательных значений, выполнено преобразование категориальных данных в количественные с помощью метода прямого кодирования (OHE), данные разделены на обучающую, валидационную и тестовые выборки, также выполнена стандартизация данных;\n",
    "* Методом обработки дисбаланса классов был выбран метод увеличения выборки (upsampling), что улучшило целевые метрики;\n",
    "* Далее, были обучены и протестированы различные модели для прогнозирования оттока клиентов из «Бета-Банка». Наилучшие результаты показала модель \"Случайный лес\" (Random Forest) с параметрами: количество деревьев — 40 шт., глубина — 10 условий, минимальное количество объектов в узле  1 шт., обученная на сбалансированной выборке;\n",
    "* В качестве показателя качества итоговой модели использовалась F1-мера, дополнительно оценивалась метрика AUC-ROC, которые составили соответственно 0.62 и 0.76 на тестовой выборке.\n",
    "\n",
    "**Таким образом проверка обученной модели оттока на тестовой выборке подтвердила, что выбранный метод борьбы с дисбалансом классов помог нараститить целевую метрику качества F1 выше заданного в условии уровня.**\n"
   ]
  }
 ],
 "metadata": {
  "kernelspec": {
   "display_name": "Python 3 (ipykernel)",
   "language": "python",
   "name": "python3"
  },
  "language_info": {
   "codemirror_mode": {
    "name": "ipython",
    "version": 3
   },
   "file_extension": ".py",
   "mimetype": "text/x-python",
   "name": "python",
   "nbconvert_exporter": "python",
   "pygments_lexer": "ipython3",
   "version": "3.9.13"
  },
  "toc": {
   "base_numbering": 1,
   "nav_menu": {},
   "number_sections": true,
   "sideBar": true,
   "skip_h1_title": true,
   "title_cell": "Содержание",
   "title_sidebar": "Contents",
   "toc_cell": true,
   "toc_position": {
    "height": "calc(100% - 180px)",
    "left": "10px",
    "top": "150px",
    "width": "246.009px"
   },
   "toc_section_display": true,
   "toc_window_display": true
  }
 },
 "nbformat": 4,
 "nbformat_minor": 2
}
