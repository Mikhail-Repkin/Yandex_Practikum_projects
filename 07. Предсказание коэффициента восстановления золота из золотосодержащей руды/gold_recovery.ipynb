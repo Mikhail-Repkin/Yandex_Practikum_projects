{
 "cells": [
  {
   "cell_type": "markdown",
   "metadata": {
    "toc": true
   },
   "source": [
    "<h1>Содержание<span class=\"tocSkip\"></span></h1>\n",
    "<div class=\"toc\"><ul class=\"toc-item\"><li><span><a href=\"#Подготовка-данных\" data-toc-modified-id=\"Подготовка-данных-1\"><span class=\"toc-item-num\">1&nbsp;&nbsp;</span>Подготовка данных</a></span><ul class=\"toc-item\"><li><span><a href=\"#Изучение-данных\" data-toc-modified-id=\"Изучение-данных-1.1\"><span class=\"toc-item-num\">1.1&nbsp;&nbsp;</span>Изучение данных</a></span></li><li><span><a href=\"#Проверка-расчета-Recovery-в-исходном-наборе-данных\" data-toc-modified-id=\"Проверка-расчета-Recovery-в-исходном-наборе-данных-1.2\"><span class=\"toc-item-num\">1.2&nbsp;&nbsp;</span>Проверка расчета Recovery в исходном наборе данных</a></span></li><li><span><a href=\"#Анализ-признаков,-недоступных-в-тестовой-выборке\" data-toc-modified-id=\"Анализ-признаков,-недоступных-в-тестовой-выборке-1.3\"><span class=\"toc-item-num\">1.3&nbsp;&nbsp;</span>Анализ признаков, недоступных в тестовой выборке</a></span></li><li><span><a href=\"#Обработка-данных\" data-toc-modified-id=\"Обработка-данных-1.4\"><span class=\"toc-item-num\">1.4&nbsp;&nbsp;</span>Обработка данных</a></span></li><li><span><a href=\"#Выводы\" data-toc-modified-id=\"Выводы-1.5\"><span class=\"toc-item-num\">1.5&nbsp;&nbsp;</span>Выводы</a></span></li></ul></li><li><span><a href=\"#Анализ-данных\" data-toc-modified-id=\"Анализ-данных-2\"><span class=\"toc-item-num\">2&nbsp;&nbsp;</span>Анализ данных</a></span><ul class=\"toc-item\"><li><span><a href=\"#Концентрация-металлов-на-различных-этапах-очистки\" data-toc-modified-id=\"Концентрация-металлов-на-различных-этапах-очистки-2.1\"><span class=\"toc-item-num\">2.1&nbsp;&nbsp;</span>Концентрация металлов на различных этапах очистки</a></span></li><li><span><a href=\"#Распределения-размеров-гранул-сырья-на-обучающей-и-тестовой-выборках\" data-toc-modified-id=\"Распределения-размеров-гранул-сырья-на-обучающей-и-тестовой-выборках-2.2\"><span class=\"toc-item-num\">2.2&nbsp;&nbsp;</span>Распределения размеров гранул сырья на обучающей и тестовой выборках</a></span></li><li><span><a href=\"#Суммарная-концентрация-всех-веществ-на-разных-стадиях\" data-toc-modified-id=\"Суммарная-концентрация-всех-веществ-на-разных-стадиях-2.3\"><span class=\"toc-item-num\">2.3&nbsp;&nbsp;</span>Суммарная концентрация всех веществ на разных стадиях</a></span></li><li><span><a href=\"#Выводы\" data-toc-modified-id=\"Выводы-2.4\"><span class=\"toc-item-num\">2.4&nbsp;&nbsp;</span>Выводы</a></span></li></ul></li><li><span><a href=\"#Модель\" data-toc-modified-id=\"Модель-3\"><span class=\"toc-item-num\">3&nbsp;&nbsp;</span>Модель</a></span><ul class=\"toc-item\"><li><span><a href=\"#Функция-для-вычисления-итоговой-sMAPE\" data-toc-modified-id=\"Функция-для-вычисления-итоговой-sMAPE-3.1\"><span class=\"toc-item-num\">3.1&nbsp;&nbsp;</span>Функция для вычисления итоговой sMAPE</a></span></li><li><span><a href=\"#Обработка-признаков\" data-toc-modified-id=\"Обработка-признаков-3.2\"><span class=\"toc-item-num\">3.2&nbsp;&nbsp;</span>Обработка признаков</a></span></li><li><span><a href=\"#Обучение-моделей\" data-toc-modified-id=\"Обучение-моделей-3.3\"><span class=\"toc-item-num\">3.3&nbsp;&nbsp;</span>Обучение моделей</a></span></li></ul></li><li><span><a href=\"#Общий-вывод\" data-toc-modified-id=\"Общий-вывод-4\"><span class=\"toc-item-num\">4&nbsp;&nbsp;</span>Общий вывод</a></span></li></ul></div>"
   ]
  },
  {
   "cell_type": "markdown",
   "metadata": {},
   "source": [
    "# Восстановление золота из руды"
   ]
  },
  {
   "cell_type": "markdown",
   "metadata": {},
   "source": [
    "Компания «Цифры» разрабатывает решения для эффективной работы промышленных предприятий.\n",
    "\n",
    "**Цель** — компании нужно оптимизировать производство, чтобы не запускать предприятие с убыточными характеристиками.\n",
    "\n",
    "**Задача исследования** — подготовить прототип модели машинного обучения, которая должна предсказать коэффициент восстановления золота из золотосодержащей руды.\n",
    "\n",
    "\n",
    "**Дополнительная информаци и условия задачи:**  \n",
    "* \tПроцесс восстановления золота из золотосодержащей руды состоит из двух этапов: \n",
    " * 1) Флотация — в установку подаётся смесь золотосодержащей руды. После обогащения получается черновой концентрат и «отвальные хвосты», то есть остатки продукта с низкой концентрацией ценных металлов. На стабильность этого процесса влияет непостоянное и неоптимальное физико-химическое состояние флотационной пульпы (смеси твёрдых частиц и жидкости);\n",
    " * 2) Очистка — черновой концентрат проходит две очистки. На выходе получается финальный концентрат и новые отвальные хвосты.\n",
    "* Нужно спрогнозировать сразу две величины: 1) эффективность обогащения чернового концентрата `rougher.output.recovery` и 2) эффективность обогащения финального концентрата `final.output.recovery`.\n",
    "* Для решения задачи используются метрики качества — sMAPE («симметричное среднее абсолютное процентное отклонение») и Итоговое sMAPE, складываемая из двух величин.\n",
    "\n",
    "**Исследование пройдёт в четыре этапа:**\n",
    " 1. Загрузка и подготовка данных;\n",
    " 2. Проведение исследовательского анализа данных;\n",
    " 3. Построение, обучение и проверка модели;\n",
    " 4. Общий вывод."
   ]
  },
  {
   "cell_type": "markdown",
   "metadata": {},
   "source": [
    "## Подготовка данных"
   ]
  },
  {
   "cell_type": "code",
   "execution_count": 1,
   "metadata": {},
   "outputs": [],
   "source": [
    "# импорт библиотек\n",
    "import pandas as pd\n",
    "import numpy as np\n",
    "import matplotlib.pyplot as plt\n",
    "import seaborn as sns\n",
    "\n",
    "from sklearn.linear_model import LinearRegression\n",
    "from sklearn.tree import DecisionTreeRegressor\n",
    "from sklearn.ensemble import RandomForestRegressor\n",
    "\n",
    "from sklearn.model_selection import train_test_split\n",
    "from sklearn.metrics import mean_squared_error, mean_absolute_error, r2_score, make_scorer\n",
    "from sklearn.preprocessing import StandardScaler, MinMaxScaler\n",
    "from sklearn.model_selection import GridSearchCV, cross_val_score\n",
    "\n",
    "from sklearn.pipeline import Pipeline, make_pipeline"
   ]
  },
  {
   "cell_type": "code",
   "execution_count": 2,
   "metadata": {},
   "outputs": [],
   "source": [
    "# сброс ограничений на количество выводимых рядов\n",
    "pd.set_option('display.max_rows', None)\n",
    " \n",
    "# сброс ограничений на число столбцов\n",
    "pd.set_option('display.max_columns', None)\n",
    " \n",
    "# сброс ограничений на количество символов в записи\n",
    "pd.set_option('display.max_colwidth', None)"
   ]
  },
  {
   "cell_type": "markdown",
   "metadata": {},
   "source": [
    "Данные для исследования получаем из файлов `gold_recovery_train_new.csv`, `gold_recovery_test_new.csv`, `gold_recovery_full_new.csv`:"
   ]
  },
  {
   "cell_type": "code",
   "execution_count": 3,
   "metadata": {},
   "outputs": [],
   "source": [
    "# чтение файлов с данными и сохранение в df\n",
    "try:\n",
    "    df_gr_train = pd.read_csv('datasets/gold_recovery_train_new.csv')\n",
    "except:\n",
    "    df_gr_train = pd.read_csv('/datasets/gold_recovery_train_new.csv')\n",
    "    \n",
    "try:\n",
    "    df_gr_test = pd.read_csv('datasets/gold_recovery_test_new.csv')\n",
    "except:\n",
    "    df_gr_test = pd.read_csv('/datasets/gold_recovery_test_new.csv')\n",
    "    \n",
    "try:\n",
    "    df_gr_full = pd.read_csv('datasets/gold_recovery_full_new.csv')\n",
    "except:\n",
    "    df_gr_full = pd.read_csv('/datasets/gold_recovery_full_new.csv')"
   ]
  },
  {
   "cell_type": "markdown",
   "metadata": {},
   "source": [
    "### Изучение данных"
   ]
  },
  {
   "cell_type": "code",
   "execution_count": 4,
   "metadata": {},
   "outputs": [
    {
     "data": {
      "text/html": [
       "<div>\n",
       "<style scoped>\n",
       "    .dataframe tbody tr th:only-of-type {\n",
       "        vertical-align: middle;\n",
       "    }\n",
       "\n",
       "    .dataframe tbody tr th {\n",
       "        vertical-align: top;\n",
       "    }\n",
       "\n",
       "    .dataframe thead th {\n",
       "        text-align: right;\n",
       "    }\n",
       "</style>\n",
       "<table border=\"1\" class=\"dataframe\">\n",
       "  <thead>\n",
       "    <tr style=\"text-align: right;\">\n",
       "      <th></th>\n",
       "      <th>date</th>\n",
       "      <th>final.output.concentrate_ag</th>\n",
       "      <th>final.output.concentrate_pb</th>\n",
       "      <th>final.output.concentrate_sol</th>\n",
       "      <th>final.output.concentrate_au</th>\n",
       "      <th>final.output.recovery</th>\n",
       "      <th>final.output.tail_ag</th>\n",
       "      <th>final.output.tail_pb</th>\n",
       "      <th>final.output.tail_sol</th>\n",
       "      <th>final.output.tail_au</th>\n",
       "      <th>primary_cleaner.input.sulfate</th>\n",
       "      <th>primary_cleaner.input.depressant</th>\n",
       "      <th>primary_cleaner.input.feed_size</th>\n",
       "      <th>primary_cleaner.input.xanthate</th>\n",
       "      <th>primary_cleaner.output.concentrate_ag</th>\n",
       "      <th>primary_cleaner.output.concentrate_pb</th>\n",
       "      <th>primary_cleaner.output.concentrate_sol</th>\n",
       "      <th>primary_cleaner.output.concentrate_au</th>\n",
       "      <th>primary_cleaner.output.tail_ag</th>\n",
       "      <th>primary_cleaner.output.tail_pb</th>\n",
       "      <th>primary_cleaner.output.tail_sol</th>\n",
       "      <th>primary_cleaner.output.tail_au</th>\n",
       "      <th>primary_cleaner.state.floatbank8_a_air</th>\n",
       "      <th>primary_cleaner.state.floatbank8_a_level</th>\n",
       "      <th>primary_cleaner.state.floatbank8_b_air</th>\n",
       "      <th>primary_cleaner.state.floatbank8_b_level</th>\n",
       "      <th>primary_cleaner.state.floatbank8_c_air</th>\n",
       "      <th>primary_cleaner.state.floatbank8_c_level</th>\n",
       "      <th>primary_cleaner.state.floatbank8_d_air</th>\n",
       "      <th>primary_cleaner.state.floatbank8_d_level</th>\n",
       "      <th>rougher.calculation.sulfate_to_au_concentrate</th>\n",
       "      <th>rougher.calculation.floatbank10_sulfate_to_au_feed</th>\n",
       "      <th>rougher.calculation.floatbank11_sulfate_to_au_feed</th>\n",
       "      <th>rougher.calculation.au_pb_ratio</th>\n",
       "      <th>rougher.input.feed_ag</th>\n",
       "      <th>rougher.input.feed_pb</th>\n",
       "      <th>rougher.input.feed_rate</th>\n",
       "      <th>rougher.input.feed_size</th>\n",
       "      <th>rougher.input.feed_sol</th>\n",
       "      <th>rougher.input.feed_au</th>\n",
       "      <th>rougher.input.floatbank10_sulfate</th>\n",
       "      <th>rougher.input.floatbank10_xanthate</th>\n",
       "      <th>rougher.input.floatbank11_sulfate</th>\n",
       "      <th>rougher.input.floatbank11_xanthate</th>\n",
       "      <th>rougher.output.concentrate_ag</th>\n",
       "      <th>rougher.output.concentrate_pb</th>\n",
       "      <th>rougher.output.concentrate_sol</th>\n",
       "      <th>rougher.output.concentrate_au</th>\n",
       "      <th>rougher.output.recovery</th>\n",
       "      <th>rougher.output.tail_ag</th>\n",
       "      <th>rougher.output.tail_pb</th>\n",
       "      <th>rougher.output.tail_sol</th>\n",
       "      <th>rougher.output.tail_au</th>\n",
       "      <th>rougher.state.floatbank10_a_air</th>\n",
       "      <th>rougher.state.floatbank10_a_level</th>\n",
       "      <th>rougher.state.floatbank10_b_air</th>\n",
       "      <th>rougher.state.floatbank10_b_level</th>\n",
       "      <th>rougher.state.floatbank10_c_air</th>\n",
       "      <th>rougher.state.floatbank10_c_level</th>\n",
       "      <th>rougher.state.floatbank10_d_air</th>\n",
       "      <th>rougher.state.floatbank10_d_level</th>\n",
       "      <th>rougher.state.floatbank10_e_air</th>\n",
       "      <th>rougher.state.floatbank10_e_level</th>\n",
       "      <th>rougher.state.floatbank10_f_air</th>\n",
       "      <th>rougher.state.floatbank10_f_level</th>\n",
       "      <th>secondary_cleaner.output.tail_ag</th>\n",
       "      <th>secondary_cleaner.output.tail_pb</th>\n",
       "      <th>secondary_cleaner.output.tail_sol</th>\n",
       "      <th>secondary_cleaner.output.tail_au</th>\n",
       "      <th>secondary_cleaner.state.floatbank2_a_air</th>\n",
       "      <th>secondary_cleaner.state.floatbank2_a_level</th>\n",
       "      <th>secondary_cleaner.state.floatbank2_b_air</th>\n",
       "      <th>secondary_cleaner.state.floatbank2_b_level</th>\n",
       "      <th>secondary_cleaner.state.floatbank3_a_air</th>\n",
       "      <th>secondary_cleaner.state.floatbank3_a_level</th>\n",
       "      <th>secondary_cleaner.state.floatbank3_b_air</th>\n",
       "      <th>secondary_cleaner.state.floatbank3_b_level</th>\n",
       "      <th>secondary_cleaner.state.floatbank4_a_air</th>\n",
       "      <th>secondary_cleaner.state.floatbank4_a_level</th>\n",
       "      <th>secondary_cleaner.state.floatbank4_b_air</th>\n",
       "      <th>secondary_cleaner.state.floatbank4_b_level</th>\n",
       "      <th>secondary_cleaner.state.floatbank5_a_air</th>\n",
       "      <th>secondary_cleaner.state.floatbank5_a_level</th>\n",
       "      <th>secondary_cleaner.state.floatbank5_b_air</th>\n",
       "      <th>secondary_cleaner.state.floatbank5_b_level</th>\n",
       "      <th>secondary_cleaner.state.floatbank6_a_air</th>\n",
       "      <th>secondary_cleaner.state.floatbank6_a_level</th>\n",
       "    </tr>\n",
       "  </thead>\n",
       "  <tbody>\n",
       "    <tr>\n",
       "      <th>0</th>\n",
       "      <td>2016-01-15 00:00:00</td>\n",
       "      <td>6.055403</td>\n",
       "      <td>9.889648</td>\n",
       "      <td>5.507324</td>\n",
       "      <td>42.192020</td>\n",
       "      <td>70.541216</td>\n",
       "      <td>10.411962</td>\n",
       "      <td>0.895447</td>\n",
       "      <td>16.904297</td>\n",
       "      <td>2.143149</td>\n",
       "      <td>127.092003</td>\n",
       "      <td>10.128295</td>\n",
       "      <td>7.25</td>\n",
       "      <td>0.988759</td>\n",
       "      <td>8.547551</td>\n",
       "      <td>10.389648</td>\n",
       "      <td>19.529297</td>\n",
       "      <td>34.174427</td>\n",
       "      <td>14.936526</td>\n",
       "      <td>2.534912</td>\n",
       "      <td>7.476074</td>\n",
       "      <td>2.106679</td>\n",
       "      <td>1549.775757</td>\n",
       "      <td>-498.912140</td>\n",
       "      <td>1551.434204</td>\n",
       "      <td>-516.403442</td>\n",
       "      <td>1549.873901</td>\n",
       "      <td>-498.666595</td>\n",
       "      <td>1554.367432</td>\n",
       "      <td>-493.428131</td>\n",
       "      <td>41885.707031</td>\n",
       "      <td>3481.779053</td>\n",
       "      <td>3520.337158</td>\n",
       "      <td>2.838687</td>\n",
       "      <td>6.100378</td>\n",
       "      <td>2.284912</td>\n",
       "      <td>523.546326</td>\n",
       "      <td>55.486599</td>\n",
       "      <td>36.808594</td>\n",
       "      <td>6.486150</td>\n",
       "      <td>11.986616</td>\n",
       "      <td>6.007990</td>\n",
       "      <td>11.836743</td>\n",
       "      <td>6.005818</td>\n",
       "      <td>11.500771</td>\n",
       "      <td>7.101074</td>\n",
       "      <td>28.029297</td>\n",
       "      <td>19.793808</td>\n",
       "      <td>87.107763</td>\n",
       "      <td>5.008018</td>\n",
       "      <td>0.508728</td>\n",
       "      <td>19.154297</td>\n",
       "      <td>1.170244</td>\n",
       "      <td>999.706909</td>\n",
       "      <td>-404.066986</td>\n",
       "      <td>1603.011353</td>\n",
       "      <td>-434.715027</td>\n",
       "      <td>1602.375000</td>\n",
       "      <td>-442.204468</td>\n",
       "      <td>1598.937256</td>\n",
       "      <td>-451.294128</td>\n",
       "      <td>1404.472046</td>\n",
       "      <td>-455.462982</td>\n",
       "      <td>1416.354980</td>\n",
       "      <td>-451.939636</td>\n",
       "      <td>14.500184</td>\n",
       "      <td>4.694824</td>\n",
       "      <td>8.764648</td>\n",
       "      <td>2.606185</td>\n",
       "      <td>25.853109</td>\n",
       "      <td>-498.526489</td>\n",
       "      <td>23.893660</td>\n",
       "      <td>-501.406281</td>\n",
       "      <td>23.961798</td>\n",
       "      <td>-495.262817</td>\n",
       "      <td>21.940409</td>\n",
       "      <td>-499.340973</td>\n",
       "      <td>14.016835</td>\n",
       "      <td>-502.488007</td>\n",
       "      <td>12.099931</td>\n",
       "      <td>-504.715942</td>\n",
       "      <td>9.925633</td>\n",
       "      <td>-498.310211</td>\n",
       "      <td>8.079666</td>\n",
       "      <td>-500.470978</td>\n",
       "      <td>14.151341</td>\n",
       "      <td>-605.841980</td>\n",
       "    </tr>\n",
       "    <tr>\n",
       "      <th>1</th>\n",
       "      <td>2016-01-15 01:00:00</td>\n",
       "      <td>6.029369</td>\n",
       "      <td>9.968944</td>\n",
       "      <td>5.257781</td>\n",
       "      <td>42.701629</td>\n",
       "      <td>69.266198</td>\n",
       "      <td>10.462676</td>\n",
       "      <td>0.927452</td>\n",
       "      <td>16.634514</td>\n",
       "      <td>2.224930</td>\n",
       "      <td>125.629232</td>\n",
       "      <td>10.296251</td>\n",
       "      <td>7.25</td>\n",
       "      <td>1.002663</td>\n",
       "      <td>8.558743</td>\n",
       "      <td>10.497069</td>\n",
       "      <td>19.369147</td>\n",
       "      <td>34.118526</td>\n",
       "      <td>16.250511</td>\n",
       "      <td>3.049646</td>\n",
       "      <td>6.733907</td>\n",
       "      <td>2.353017</td>\n",
       "      <td>1576.166671</td>\n",
       "      <td>-500.904965</td>\n",
       "      <td>1575.950626</td>\n",
       "      <td>-499.865889</td>\n",
       "      <td>1575.994189</td>\n",
       "      <td>-499.315107</td>\n",
       "      <td>1574.479259</td>\n",
       "      <td>-498.931665</td>\n",
       "      <td>42050.861809</td>\n",
       "      <td>3498.370979</td>\n",
       "      <td>3489.981857</td>\n",
       "      <td>2.858998</td>\n",
       "      <td>6.161113</td>\n",
       "      <td>2.266033</td>\n",
       "      <td>525.290581</td>\n",
       "      <td>57.278666</td>\n",
       "      <td>35.753385</td>\n",
       "      <td>6.478583</td>\n",
       "      <td>11.971193</td>\n",
       "      <td>6.005766</td>\n",
       "      <td>11.996163</td>\n",
       "      <td>6.012594</td>\n",
       "      <td>11.615865</td>\n",
       "      <td>7.278807</td>\n",
       "      <td>28.067063</td>\n",
       "      <td>20.050975</td>\n",
       "      <td>86.843261</td>\n",
       "      <td>4.955378</td>\n",
       "      <td>0.536689</td>\n",
       "      <td>18.965234</td>\n",
       "      <td>1.184827</td>\n",
       "      <td>1000.286398</td>\n",
       "      <td>-400.065196</td>\n",
       "      <td>1600.754587</td>\n",
       "      <td>-449.953435</td>\n",
       "      <td>1600.479580</td>\n",
       "      <td>-449.830646</td>\n",
       "      <td>1600.527589</td>\n",
       "      <td>-449.953649</td>\n",
       "      <td>1399.227084</td>\n",
       "      <td>-450.869848</td>\n",
       "      <td>1399.719514</td>\n",
       "      <td>-450.119001</td>\n",
       "      <td>14.265474</td>\n",
       "      <td>4.592547</td>\n",
       "      <td>9.001494</td>\n",
       "      <td>2.488248</td>\n",
       "      <td>25.880539</td>\n",
       "      <td>-499.989656</td>\n",
       "      <td>23.889530</td>\n",
       "      <td>-500.372428</td>\n",
       "      <td>23.970550</td>\n",
       "      <td>-500.085473</td>\n",
       "      <td>22.085714</td>\n",
       "      <td>-499.446897</td>\n",
       "      <td>13.992281</td>\n",
       "      <td>-505.503262</td>\n",
       "      <td>11.950531</td>\n",
       "      <td>-501.331529</td>\n",
       "      <td>10.039245</td>\n",
       "      <td>-500.169983</td>\n",
       "      <td>7.984757</td>\n",
       "      <td>-500.582168</td>\n",
       "      <td>13.998353</td>\n",
       "      <td>-599.787184</td>\n",
       "    </tr>\n",
       "    <tr>\n",
       "      <th>2</th>\n",
       "      <td>2016-01-15 02:00:00</td>\n",
       "      <td>6.055926</td>\n",
       "      <td>10.213995</td>\n",
       "      <td>5.383759</td>\n",
       "      <td>42.657501</td>\n",
       "      <td>68.116445</td>\n",
       "      <td>10.507046</td>\n",
       "      <td>0.953716</td>\n",
       "      <td>16.208849</td>\n",
       "      <td>2.257889</td>\n",
       "      <td>123.819808</td>\n",
       "      <td>11.316280</td>\n",
       "      <td>7.25</td>\n",
       "      <td>0.991265</td>\n",
       "      <td>8.603505</td>\n",
       "      <td>10.354494</td>\n",
       "      <td>19.167579</td>\n",
       "      <td>33.969464</td>\n",
       "      <td>16.491823</td>\n",
       "      <td>3.124664</td>\n",
       "      <td>6.471768</td>\n",
       "      <td>2.416800</td>\n",
       "      <td>1601.556163</td>\n",
       "      <td>-499.997791</td>\n",
       "      <td>1600.386685</td>\n",
       "      <td>-500.607762</td>\n",
       "      <td>1602.003542</td>\n",
       "      <td>-500.870069</td>\n",
       "      <td>1599.541515</td>\n",
       "      <td>-499.827444</td>\n",
       "      <td>42018.101184</td>\n",
       "      <td>3495.348910</td>\n",
       "      <td>3502.359819</td>\n",
       "      <td>2.945989</td>\n",
       "      <td>6.116455</td>\n",
       "      <td>2.159622</td>\n",
       "      <td>530.026610</td>\n",
       "      <td>57.510649</td>\n",
       "      <td>35.971630</td>\n",
       "      <td>6.362222</td>\n",
       "      <td>11.920603</td>\n",
       "      <td>6.197377</td>\n",
       "      <td>11.920305</td>\n",
       "      <td>6.204633</td>\n",
       "      <td>11.695753</td>\n",
       "      <td>7.216833</td>\n",
       "      <td>27.454037</td>\n",
       "      <td>19.737170</td>\n",
       "      <td>86.842308</td>\n",
       "      <td>4.843460</td>\n",
       "      <td>0.546416</td>\n",
       "      <td>18.808533</td>\n",
       "      <td>1.162562</td>\n",
       "      <td>999.719565</td>\n",
       "      <td>-400.074028</td>\n",
       "      <td>1599.337330</td>\n",
       "      <td>-450.008530</td>\n",
       "      <td>1599.672797</td>\n",
       "      <td>-449.954491</td>\n",
       "      <td>1599.849325</td>\n",
       "      <td>-449.954185</td>\n",
       "      <td>1399.180945</td>\n",
       "      <td>-449.937588</td>\n",
       "      <td>1400.316682</td>\n",
       "      <td>-450.527147</td>\n",
       "      <td>14.115662</td>\n",
       "      <td>4.624775</td>\n",
       "      <td>8.842896</td>\n",
       "      <td>2.458187</td>\n",
       "      <td>26.005245</td>\n",
       "      <td>-499.929616</td>\n",
       "      <td>23.886657</td>\n",
       "      <td>-499.951928</td>\n",
       "      <td>23.913535</td>\n",
       "      <td>-499.442343</td>\n",
       "      <td>23.957717</td>\n",
       "      <td>-499.901982</td>\n",
       "      <td>14.015015</td>\n",
       "      <td>-502.520901</td>\n",
       "      <td>11.912783</td>\n",
       "      <td>-501.133383</td>\n",
       "      <td>10.070913</td>\n",
       "      <td>-500.129135</td>\n",
       "      <td>8.013877</td>\n",
       "      <td>-500.517572</td>\n",
       "      <td>14.028663</td>\n",
       "      <td>-601.427363</td>\n",
       "    </tr>\n",
       "    <tr>\n",
       "      <th>3</th>\n",
       "      <td>2016-01-15 03:00:00</td>\n",
       "      <td>6.047977</td>\n",
       "      <td>9.977019</td>\n",
       "      <td>4.858634</td>\n",
       "      <td>42.689819</td>\n",
       "      <td>68.347543</td>\n",
       "      <td>10.422762</td>\n",
       "      <td>0.883763</td>\n",
       "      <td>16.532835</td>\n",
       "      <td>2.146849</td>\n",
       "      <td>122.270188</td>\n",
       "      <td>11.322140</td>\n",
       "      <td>7.25</td>\n",
       "      <td>0.996739</td>\n",
       "      <td>7.221879</td>\n",
       "      <td>8.496563</td>\n",
       "      <td>15.978538</td>\n",
       "      <td>28.260743</td>\n",
       "      <td>16.024359</td>\n",
       "      <td>2.960362</td>\n",
       "      <td>6.843791</td>\n",
       "      <td>2.262051</td>\n",
       "      <td>1599.968720</td>\n",
       "      <td>-500.951778</td>\n",
       "      <td>1600.659236</td>\n",
       "      <td>-499.677094</td>\n",
       "      <td>1600.304144</td>\n",
       "      <td>-500.727997</td>\n",
       "      <td>1600.449520</td>\n",
       "      <td>-500.052575</td>\n",
       "      <td>42029.447991</td>\n",
       "      <td>3498.578313</td>\n",
       "      <td>3499.162912</td>\n",
       "      <td>3.002340</td>\n",
       "      <td>6.043309</td>\n",
       "      <td>2.037807</td>\n",
       "      <td>542.590390</td>\n",
       "      <td>57.792734</td>\n",
       "      <td>36.862241</td>\n",
       "      <td>6.118189</td>\n",
       "      <td>11.630094</td>\n",
       "      <td>6.203177</td>\n",
       "      <td>11.692450</td>\n",
       "      <td>6.196578</td>\n",
       "      <td>11.915047</td>\n",
       "      <td>7.175616</td>\n",
       "      <td>27.341277</td>\n",
       "      <td>19.320810</td>\n",
       "      <td>87.226430</td>\n",
       "      <td>4.655288</td>\n",
       "      <td>0.542525</td>\n",
       "      <td>19.330200</td>\n",
       "      <td>1.079755</td>\n",
       "      <td>999.814770</td>\n",
       "      <td>-400.200179</td>\n",
       "      <td>1600.059442</td>\n",
       "      <td>-450.619948</td>\n",
       "      <td>1600.012842</td>\n",
       "      <td>-449.910497</td>\n",
       "      <td>1597.725177</td>\n",
       "      <td>-450.130127</td>\n",
       "      <td>1400.943157</td>\n",
       "      <td>-450.030142</td>\n",
       "      <td>1400.234743</td>\n",
       "      <td>-449.790835</td>\n",
       "      <td>13.732071</td>\n",
       "      <td>4.482453</td>\n",
       "      <td>9.122857</td>\n",
       "      <td>2.322062</td>\n",
       "      <td>25.942508</td>\n",
       "      <td>-499.176749</td>\n",
       "      <td>23.955516</td>\n",
       "      <td>-499.848796</td>\n",
       "      <td>23.966838</td>\n",
       "      <td>-500.008812</td>\n",
       "      <td>23.954443</td>\n",
       "      <td>-499.944710</td>\n",
       "      <td>14.036510</td>\n",
       "      <td>-500.857308</td>\n",
       "      <td>11.999550</td>\n",
       "      <td>-501.193686</td>\n",
       "      <td>9.970366</td>\n",
       "      <td>-499.201640</td>\n",
       "      <td>7.977324</td>\n",
       "      <td>-500.255908</td>\n",
       "      <td>14.005551</td>\n",
       "      <td>-599.996129</td>\n",
       "    </tr>\n",
       "    <tr>\n",
       "      <th>4</th>\n",
       "      <td>2016-01-15 04:00:00</td>\n",
       "      <td>6.148599</td>\n",
       "      <td>10.142511</td>\n",
       "      <td>4.939416</td>\n",
       "      <td>42.774141</td>\n",
       "      <td>66.927016</td>\n",
       "      <td>10.360302</td>\n",
       "      <td>0.792826</td>\n",
       "      <td>16.525686</td>\n",
       "      <td>2.055292</td>\n",
       "      <td>117.988169</td>\n",
       "      <td>11.913613</td>\n",
       "      <td>7.25</td>\n",
       "      <td>1.009869</td>\n",
       "      <td>9.089428</td>\n",
       "      <td>9.986786</td>\n",
       "      <td>19.199864</td>\n",
       "      <td>33.044932</td>\n",
       "      <td>16.480185</td>\n",
       "      <td>3.112100</td>\n",
       "      <td>6.550154</td>\n",
       "      <td>2.277073</td>\n",
       "      <td>1601.339707</td>\n",
       "      <td>-498.975456</td>\n",
       "      <td>1601.437854</td>\n",
       "      <td>-500.323246</td>\n",
       "      <td>1599.581894</td>\n",
       "      <td>-500.888152</td>\n",
       "      <td>1602.649541</td>\n",
       "      <td>-500.593010</td>\n",
       "      <td>42125.354245</td>\n",
       "      <td>3494.800771</td>\n",
       "      <td>3506.679315</td>\n",
       "      <td>3.169615</td>\n",
       "      <td>6.060915</td>\n",
       "      <td>1.786875</td>\n",
       "      <td>540.531893</td>\n",
       "      <td>56.047189</td>\n",
       "      <td>34.347666</td>\n",
       "      <td>5.663707</td>\n",
       "      <td>10.957755</td>\n",
       "      <td>6.198826</td>\n",
       "      <td>10.960521</td>\n",
       "      <td>6.194897</td>\n",
       "      <td>12.411054</td>\n",
       "      <td>7.240205</td>\n",
       "      <td>27.041023</td>\n",
       "      <td>19.216101</td>\n",
       "      <td>86.688794</td>\n",
       "      <td>4.552800</td>\n",
       "      <td>0.515438</td>\n",
       "      <td>19.267422</td>\n",
       "      <td>1.012642</td>\n",
       "      <td>999.678690</td>\n",
       "      <td>-399.752729</td>\n",
       "      <td>1600.208824</td>\n",
       "      <td>-449.599614</td>\n",
       "      <td>1600.357732</td>\n",
       "      <td>-450.034364</td>\n",
       "      <td>1599.759049</td>\n",
       "      <td>-449.909799</td>\n",
       "      <td>1401.560902</td>\n",
       "      <td>-448.877187</td>\n",
       "      <td>1401.160227</td>\n",
       "      <td>-450.407128</td>\n",
       "      <td>14.079996</td>\n",
       "      <td>4.470737</td>\n",
       "      <td>8.871028</td>\n",
       "      <td>2.330448</td>\n",
       "      <td>26.024787</td>\n",
       "      <td>-500.279091</td>\n",
       "      <td>23.955345</td>\n",
       "      <td>-500.593614</td>\n",
       "      <td>23.985703</td>\n",
       "      <td>-500.083811</td>\n",
       "      <td>23.958945</td>\n",
       "      <td>-499.990309</td>\n",
       "      <td>14.027298</td>\n",
       "      <td>-499.838632</td>\n",
       "      <td>11.953070</td>\n",
       "      <td>-501.053894</td>\n",
       "      <td>9.925709</td>\n",
       "      <td>-501.686727</td>\n",
       "      <td>7.894242</td>\n",
       "      <td>-500.356035</td>\n",
       "      <td>13.996647</td>\n",
       "      <td>-601.496691</td>\n",
       "    </tr>\n",
       "  </tbody>\n",
       "</table>\n",
       "</div>"
      ],
      "text/plain": [
       "                  date  final.output.concentrate_ag  \\\n",
       "0  2016-01-15 00:00:00                     6.055403   \n",
       "1  2016-01-15 01:00:00                     6.029369   \n",
       "2  2016-01-15 02:00:00                     6.055926   \n",
       "3  2016-01-15 03:00:00                     6.047977   \n",
       "4  2016-01-15 04:00:00                     6.148599   \n",
       "\n",
       "   final.output.concentrate_pb  final.output.concentrate_sol  \\\n",
       "0                     9.889648                      5.507324   \n",
       "1                     9.968944                      5.257781   \n",
       "2                    10.213995                      5.383759   \n",
       "3                     9.977019                      4.858634   \n",
       "4                    10.142511                      4.939416   \n",
       "\n",
       "   final.output.concentrate_au  final.output.recovery  final.output.tail_ag  \\\n",
       "0                    42.192020              70.541216             10.411962   \n",
       "1                    42.701629              69.266198             10.462676   \n",
       "2                    42.657501              68.116445             10.507046   \n",
       "3                    42.689819              68.347543             10.422762   \n",
       "4                    42.774141              66.927016             10.360302   \n",
       "\n",
       "   final.output.tail_pb  final.output.tail_sol  final.output.tail_au  \\\n",
       "0              0.895447              16.904297              2.143149   \n",
       "1              0.927452              16.634514              2.224930   \n",
       "2              0.953716              16.208849              2.257889   \n",
       "3              0.883763              16.532835              2.146849   \n",
       "4              0.792826              16.525686              2.055292   \n",
       "\n",
       "   primary_cleaner.input.sulfate  primary_cleaner.input.depressant  \\\n",
       "0                     127.092003                         10.128295   \n",
       "1                     125.629232                         10.296251   \n",
       "2                     123.819808                         11.316280   \n",
       "3                     122.270188                         11.322140   \n",
       "4                     117.988169                         11.913613   \n",
       "\n",
       "   primary_cleaner.input.feed_size  primary_cleaner.input.xanthate  \\\n",
       "0                             7.25                        0.988759   \n",
       "1                             7.25                        1.002663   \n",
       "2                             7.25                        0.991265   \n",
       "3                             7.25                        0.996739   \n",
       "4                             7.25                        1.009869   \n",
       "\n",
       "   primary_cleaner.output.concentrate_ag  \\\n",
       "0                               8.547551   \n",
       "1                               8.558743   \n",
       "2                               8.603505   \n",
       "3                               7.221879   \n",
       "4                               9.089428   \n",
       "\n",
       "   primary_cleaner.output.concentrate_pb  \\\n",
       "0                              10.389648   \n",
       "1                              10.497069   \n",
       "2                              10.354494   \n",
       "3                               8.496563   \n",
       "4                               9.986786   \n",
       "\n",
       "   primary_cleaner.output.concentrate_sol  \\\n",
       "0                               19.529297   \n",
       "1                               19.369147   \n",
       "2                               19.167579   \n",
       "3                               15.978538   \n",
       "4                               19.199864   \n",
       "\n",
       "   primary_cleaner.output.concentrate_au  primary_cleaner.output.tail_ag  \\\n",
       "0                              34.174427                       14.936526   \n",
       "1                              34.118526                       16.250511   \n",
       "2                              33.969464                       16.491823   \n",
       "3                              28.260743                       16.024359   \n",
       "4                              33.044932                       16.480185   \n",
       "\n",
       "   primary_cleaner.output.tail_pb  primary_cleaner.output.tail_sol  \\\n",
       "0                        2.534912                         7.476074   \n",
       "1                        3.049646                         6.733907   \n",
       "2                        3.124664                         6.471768   \n",
       "3                        2.960362                         6.843791   \n",
       "4                        3.112100                         6.550154   \n",
       "\n",
       "   primary_cleaner.output.tail_au  primary_cleaner.state.floatbank8_a_air  \\\n",
       "0                        2.106679                             1549.775757   \n",
       "1                        2.353017                             1576.166671   \n",
       "2                        2.416800                             1601.556163   \n",
       "3                        2.262051                             1599.968720   \n",
       "4                        2.277073                             1601.339707   \n",
       "\n",
       "   primary_cleaner.state.floatbank8_a_level  \\\n",
       "0                               -498.912140   \n",
       "1                               -500.904965   \n",
       "2                               -499.997791   \n",
       "3                               -500.951778   \n",
       "4                               -498.975456   \n",
       "\n",
       "   primary_cleaner.state.floatbank8_b_air  \\\n",
       "0                             1551.434204   \n",
       "1                             1575.950626   \n",
       "2                             1600.386685   \n",
       "3                             1600.659236   \n",
       "4                             1601.437854   \n",
       "\n",
       "   primary_cleaner.state.floatbank8_b_level  \\\n",
       "0                               -516.403442   \n",
       "1                               -499.865889   \n",
       "2                               -500.607762   \n",
       "3                               -499.677094   \n",
       "4                               -500.323246   \n",
       "\n",
       "   primary_cleaner.state.floatbank8_c_air  \\\n",
       "0                             1549.873901   \n",
       "1                             1575.994189   \n",
       "2                             1602.003542   \n",
       "3                             1600.304144   \n",
       "4                             1599.581894   \n",
       "\n",
       "   primary_cleaner.state.floatbank8_c_level  \\\n",
       "0                               -498.666595   \n",
       "1                               -499.315107   \n",
       "2                               -500.870069   \n",
       "3                               -500.727997   \n",
       "4                               -500.888152   \n",
       "\n",
       "   primary_cleaner.state.floatbank8_d_air  \\\n",
       "0                             1554.367432   \n",
       "1                             1574.479259   \n",
       "2                             1599.541515   \n",
       "3                             1600.449520   \n",
       "4                             1602.649541   \n",
       "\n",
       "   primary_cleaner.state.floatbank8_d_level  \\\n",
       "0                               -493.428131   \n",
       "1                               -498.931665   \n",
       "2                               -499.827444   \n",
       "3                               -500.052575   \n",
       "4                               -500.593010   \n",
       "\n",
       "   rougher.calculation.sulfate_to_au_concentrate  \\\n",
       "0                                   41885.707031   \n",
       "1                                   42050.861809   \n",
       "2                                   42018.101184   \n",
       "3                                   42029.447991   \n",
       "4                                   42125.354245   \n",
       "\n",
       "   rougher.calculation.floatbank10_sulfate_to_au_feed  \\\n",
       "0                                         3481.779053   \n",
       "1                                         3498.370979   \n",
       "2                                         3495.348910   \n",
       "3                                         3498.578313   \n",
       "4                                         3494.800771   \n",
       "\n",
       "   rougher.calculation.floatbank11_sulfate_to_au_feed  \\\n",
       "0                                         3520.337158   \n",
       "1                                         3489.981857   \n",
       "2                                         3502.359819   \n",
       "3                                         3499.162912   \n",
       "4                                         3506.679315   \n",
       "\n",
       "   rougher.calculation.au_pb_ratio  rougher.input.feed_ag  \\\n",
       "0                         2.838687               6.100378   \n",
       "1                         2.858998               6.161113   \n",
       "2                         2.945989               6.116455   \n",
       "3                         3.002340               6.043309   \n",
       "4                         3.169615               6.060915   \n",
       "\n",
       "   rougher.input.feed_pb  rougher.input.feed_rate  rougher.input.feed_size  \\\n",
       "0               2.284912               523.546326                55.486599   \n",
       "1               2.266033               525.290581                57.278666   \n",
       "2               2.159622               530.026610                57.510649   \n",
       "3               2.037807               542.590390                57.792734   \n",
       "4               1.786875               540.531893                56.047189   \n",
       "\n",
       "   rougher.input.feed_sol  rougher.input.feed_au  \\\n",
       "0               36.808594               6.486150   \n",
       "1               35.753385               6.478583   \n",
       "2               35.971630               6.362222   \n",
       "3               36.862241               6.118189   \n",
       "4               34.347666               5.663707   \n",
       "\n",
       "   rougher.input.floatbank10_sulfate  rougher.input.floatbank10_xanthate  \\\n",
       "0                          11.986616                            6.007990   \n",
       "1                          11.971193                            6.005766   \n",
       "2                          11.920603                            6.197377   \n",
       "3                          11.630094                            6.203177   \n",
       "4                          10.957755                            6.198826   \n",
       "\n",
       "   rougher.input.floatbank11_sulfate  rougher.input.floatbank11_xanthate  \\\n",
       "0                          11.836743                            6.005818   \n",
       "1                          11.996163                            6.012594   \n",
       "2                          11.920305                            6.204633   \n",
       "3                          11.692450                            6.196578   \n",
       "4                          10.960521                            6.194897   \n",
       "\n",
       "   rougher.output.concentrate_ag  rougher.output.concentrate_pb  \\\n",
       "0                      11.500771                       7.101074   \n",
       "1                      11.615865                       7.278807   \n",
       "2                      11.695753                       7.216833   \n",
       "3                      11.915047                       7.175616   \n",
       "4                      12.411054                       7.240205   \n",
       "\n",
       "   rougher.output.concentrate_sol  rougher.output.concentrate_au  \\\n",
       "0                       28.029297                      19.793808   \n",
       "1                       28.067063                      20.050975   \n",
       "2                       27.454037                      19.737170   \n",
       "3                       27.341277                      19.320810   \n",
       "4                       27.041023                      19.216101   \n",
       "\n",
       "   rougher.output.recovery  rougher.output.tail_ag  rougher.output.tail_pb  \\\n",
       "0                87.107763                5.008018                0.508728   \n",
       "1                86.843261                4.955378                0.536689   \n",
       "2                86.842308                4.843460                0.546416   \n",
       "3                87.226430                4.655288                0.542525   \n",
       "4                86.688794                4.552800                0.515438   \n",
       "\n",
       "   rougher.output.tail_sol  rougher.output.tail_au  \\\n",
       "0                19.154297                1.170244   \n",
       "1                18.965234                1.184827   \n",
       "2                18.808533                1.162562   \n",
       "3                19.330200                1.079755   \n",
       "4                19.267422                1.012642   \n",
       "\n",
       "   rougher.state.floatbank10_a_air  rougher.state.floatbank10_a_level  \\\n",
       "0                       999.706909                        -404.066986   \n",
       "1                      1000.286398                        -400.065196   \n",
       "2                       999.719565                        -400.074028   \n",
       "3                       999.814770                        -400.200179   \n",
       "4                       999.678690                        -399.752729   \n",
       "\n",
       "   rougher.state.floatbank10_b_air  rougher.state.floatbank10_b_level  \\\n",
       "0                      1603.011353                        -434.715027   \n",
       "1                      1600.754587                        -449.953435   \n",
       "2                      1599.337330                        -450.008530   \n",
       "3                      1600.059442                        -450.619948   \n",
       "4                      1600.208824                        -449.599614   \n",
       "\n",
       "   rougher.state.floatbank10_c_air  rougher.state.floatbank10_c_level  \\\n",
       "0                      1602.375000                        -442.204468   \n",
       "1                      1600.479580                        -449.830646   \n",
       "2                      1599.672797                        -449.954491   \n",
       "3                      1600.012842                        -449.910497   \n",
       "4                      1600.357732                        -450.034364   \n",
       "\n",
       "   rougher.state.floatbank10_d_air  rougher.state.floatbank10_d_level  \\\n",
       "0                      1598.937256                        -451.294128   \n",
       "1                      1600.527589                        -449.953649   \n",
       "2                      1599.849325                        -449.954185   \n",
       "3                      1597.725177                        -450.130127   \n",
       "4                      1599.759049                        -449.909799   \n",
       "\n",
       "   rougher.state.floatbank10_e_air  rougher.state.floatbank10_e_level  \\\n",
       "0                      1404.472046                        -455.462982   \n",
       "1                      1399.227084                        -450.869848   \n",
       "2                      1399.180945                        -449.937588   \n",
       "3                      1400.943157                        -450.030142   \n",
       "4                      1401.560902                        -448.877187   \n",
       "\n",
       "   rougher.state.floatbank10_f_air  rougher.state.floatbank10_f_level  \\\n",
       "0                      1416.354980                        -451.939636   \n",
       "1                      1399.719514                        -450.119001   \n",
       "2                      1400.316682                        -450.527147   \n",
       "3                      1400.234743                        -449.790835   \n",
       "4                      1401.160227                        -450.407128   \n",
       "\n",
       "   secondary_cleaner.output.tail_ag  secondary_cleaner.output.tail_pb  \\\n",
       "0                         14.500184                          4.694824   \n",
       "1                         14.265474                          4.592547   \n",
       "2                         14.115662                          4.624775   \n",
       "3                         13.732071                          4.482453   \n",
       "4                         14.079996                          4.470737   \n",
       "\n",
       "   secondary_cleaner.output.tail_sol  secondary_cleaner.output.tail_au  \\\n",
       "0                           8.764648                          2.606185   \n",
       "1                           9.001494                          2.488248   \n",
       "2                           8.842896                          2.458187   \n",
       "3                           9.122857                          2.322062   \n",
       "4                           8.871028                          2.330448   \n",
       "\n",
       "   secondary_cleaner.state.floatbank2_a_air  \\\n",
       "0                                 25.853109   \n",
       "1                                 25.880539   \n",
       "2                                 26.005245   \n",
       "3                                 25.942508   \n",
       "4                                 26.024787   \n",
       "\n",
       "   secondary_cleaner.state.floatbank2_a_level  \\\n",
       "0                                 -498.526489   \n",
       "1                                 -499.989656   \n",
       "2                                 -499.929616   \n",
       "3                                 -499.176749   \n",
       "4                                 -500.279091   \n",
       "\n",
       "   secondary_cleaner.state.floatbank2_b_air  \\\n",
       "0                                 23.893660   \n",
       "1                                 23.889530   \n",
       "2                                 23.886657   \n",
       "3                                 23.955516   \n",
       "4                                 23.955345   \n",
       "\n",
       "   secondary_cleaner.state.floatbank2_b_level  \\\n",
       "0                                 -501.406281   \n",
       "1                                 -500.372428   \n",
       "2                                 -499.951928   \n",
       "3                                 -499.848796   \n",
       "4                                 -500.593614   \n",
       "\n",
       "   secondary_cleaner.state.floatbank3_a_air  \\\n",
       "0                                 23.961798   \n",
       "1                                 23.970550   \n",
       "2                                 23.913535   \n",
       "3                                 23.966838   \n",
       "4                                 23.985703   \n",
       "\n",
       "   secondary_cleaner.state.floatbank3_a_level  \\\n",
       "0                                 -495.262817   \n",
       "1                                 -500.085473   \n",
       "2                                 -499.442343   \n",
       "3                                 -500.008812   \n",
       "4                                 -500.083811   \n",
       "\n",
       "   secondary_cleaner.state.floatbank3_b_air  \\\n",
       "0                                 21.940409   \n",
       "1                                 22.085714   \n",
       "2                                 23.957717   \n",
       "3                                 23.954443   \n",
       "4                                 23.958945   \n",
       "\n",
       "   secondary_cleaner.state.floatbank3_b_level  \\\n",
       "0                                 -499.340973   \n",
       "1                                 -499.446897   \n",
       "2                                 -499.901982   \n",
       "3                                 -499.944710   \n",
       "4                                 -499.990309   \n",
       "\n",
       "   secondary_cleaner.state.floatbank4_a_air  \\\n",
       "0                                 14.016835   \n",
       "1                                 13.992281   \n",
       "2                                 14.015015   \n",
       "3                                 14.036510   \n",
       "4                                 14.027298   \n",
       "\n",
       "   secondary_cleaner.state.floatbank4_a_level  \\\n",
       "0                                 -502.488007   \n",
       "1                                 -505.503262   \n",
       "2                                 -502.520901   \n",
       "3                                 -500.857308   \n",
       "4                                 -499.838632   \n",
       "\n",
       "   secondary_cleaner.state.floatbank4_b_air  \\\n",
       "0                                 12.099931   \n",
       "1                                 11.950531   \n",
       "2                                 11.912783   \n",
       "3                                 11.999550   \n",
       "4                                 11.953070   \n",
       "\n",
       "   secondary_cleaner.state.floatbank4_b_level  \\\n",
       "0                                 -504.715942   \n",
       "1                                 -501.331529   \n",
       "2                                 -501.133383   \n",
       "3                                 -501.193686   \n",
       "4                                 -501.053894   \n",
       "\n",
       "   secondary_cleaner.state.floatbank5_a_air  \\\n",
       "0                                  9.925633   \n",
       "1                                 10.039245   \n",
       "2                                 10.070913   \n",
       "3                                  9.970366   \n",
       "4                                  9.925709   \n",
       "\n",
       "   secondary_cleaner.state.floatbank5_a_level  \\\n",
       "0                                 -498.310211   \n",
       "1                                 -500.169983   \n",
       "2                                 -500.129135   \n",
       "3                                 -499.201640   \n",
       "4                                 -501.686727   \n",
       "\n",
       "   secondary_cleaner.state.floatbank5_b_air  \\\n",
       "0                                  8.079666   \n",
       "1                                  7.984757   \n",
       "2                                  8.013877   \n",
       "3                                  7.977324   \n",
       "4                                  7.894242   \n",
       "\n",
       "   secondary_cleaner.state.floatbank5_b_level  \\\n",
       "0                                 -500.470978   \n",
       "1                                 -500.582168   \n",
       "2                                 -500.517572   \n",
       "3                                 -500.255908   \n",
       "4                                 -500.356035   \n",
       "\n",
       "   secondary_cleaner.state.floatbank6_a_air  \\\n",
       "0                                 14.151341   \n",
       "1                                 13.998353   \n",
       "2                                 14.028663   \n",
       "3                                 14.005551   \n",
       "4                                 13.996647   \n",
       "\n",
       "   secondary_cleaner.state.floatbank6_a_level  \n",
       "0                                 -605.841980  \n",
       "1                                 -599.787184  \n",
       "2                                 -601.427363  \n",
       "3                                 -599.996129  \n",
       "4                                 -601.496691  "
      ]
     },
     "metadata": {},
     "output_type": "display_data"
    },
    {
     "data": {
      "text/html": [
       "<div>\n",
       "<style scoped>\n",
       "    .dataframe tbody tr th:only-of-type {\n",
       "        vertical-align: middle;\n",
       "    }\n",
       "\n",
       "    .dataframe tbody tr th {\n",
       "        vertical-align: top;\n",
       "    }\n",
       "\n",
       "    .dataframe thead th {\n",
       "        text-align: right;\n",
       "    }\n",
       "</style>\n",
       "<table border=\"1\" class=\"dataframe\">\n",
       "  <thead>\n",
       "    <tr style=\"text-align: right;\">\n",
       "      <th></th>\n",
       "      <th>date</th>\n",
       "      <th>primary_cleaner.input.sulfate</th>\n",
       "      <th>primary_cleaner.input.depressant</th>\n",
       "      <th>primary_cleaner.input.feed_size</th>\n",
       "      <th>primary_cleaner.input.xanthate</th>\n",
       "      <th>primary_cleaner.state.floatbank8_a_air</th>\n",
       "      <th>primary_cleaner.state.floatbank8_a_level</th>\n",
       "      <th>primary_cleaner.state.floatbank8_b_air</th>\n",
       "      <th>primary_cleaner.state.floatbank8_b_level</th>\n",
       "      <th>primary_cleaner.state.floatbank8_c_air</th>\n",
       "      <th>primary_cleaner.state.floatbank8_c_level</th>\n",
       "      <th>primary_cleaner.state.floatbank8_d_air</th>\n",
       "      <th>primary_cleaner.state.floatbank8_d_level</th>\n",
       "      <th>rougher.input.feed_ag</th>\n",
       "      <th>rougher.input.feed_pb</th>\n",
       "      <th>rougher.input.feed_rate</th>\n",
       "      <th>rougher.input.feed_size</th>\n",
       "      <th>rougher.input.feed_sol</th>\n",
       "      <th>rougher.input.feed_au</th>\n",
       "      <th>rougher.input.floatbank10_sulfate</th>\n",
       "      <th>rougher.input.floatbank10_xanthate</th>\n",
       "      <th>rougher.input.floatbank11_sulfate</th>\n",
       "      <th>rougher.input.floatbank11_xanthate</th>\n",
       "      <th>rougher.state.floatbank10_a_air</th>\n",
       "      <th>rougher.state.floatbank10_a_level</th>\n",
       "      <th>rougher.state.floatbank10_b_air</th>\n",
       "      <th>rougher.state.floatbank10_b_level</th>\n",
       "      <th>rougher.state.floatbank10_c_air</th>\n",
       "      <th>rougher.state.floatbank10_c_level</th>\n",
       "      <th>rougher.state.floatbank10_d_air</th>\n",
       "      <th>rougher.state.floatbank10_d_level</th>\n",
       "      <th>rougher.state.floatbank10_e_air</th>\n",
       "      <th>rougher.state.floatbank10_e_level</th>\n",
       "      <th>rougher.state.floatbank10_f_air</th>\n",
       "      <th>rougher.state.floatbank10_f_level</th>\n",
       "      <th>secondary_cleaner.state.floatbank2_a_air</th>\n",
       "      <th>secondary_cleaner.state.floatbank2_a_level</th>\n",
       "      <th>secondary_cleaner.state.floatbank2_b_air</th>\n",
       "      <th>secondary_cleaner.state.floatbank2_b_level</th>\n",
       "      <th>secondary_cleaner.state.floatbank3_a_air</th>\n",
       "      <th>secondary_cleaner.state.floatbank3_a_level</th>\n",
       "      <th>secondary_cleaner.state.floatbank3_b_air</th>\n",
       "      <th>secondary_cleaner.state.floatbank3_b_level</th>\n",
       "      <th>secondary_cleaner.state.floatbank4_a_air</th>\n",
       "      <th>secondary_cleaner.state.floatbank4_a_level</th>\n",
       "      <th>secondary_cleaner.state.floatbank4_b_air</th>\n",
       "      <th>secondary_cleaner.state.floatbank4_b_level</th>\n",
       "      <th>secondary_cleaner.state.floatbank5_a_air</th>\n",
       "      <th>secondary_cleaner.state.floatbank5_a_level</th>\n",
       "      <th>secondary_cleaner.state.floatbank5_b_air</th>\n",
       "      <th>secondary_cleaner.state.floatbank5_b_level</th>\n",
       "      <th>secondary_cleaner.state.floatbank6_a_air</th>\n",
       "      <th>secondary_cleaner.state.floatbank6_a_level</th>\n",
       "    </tr>\n",
       "  </thead>\n",
       "  <tbody>\n",
       "    <tr>\n",
       "      <th>0</th>\n",
       "      <td>2016-09-01 00:59:59</td>\n",
       "      <td>210.800909</td>\n",
       "      <td>14.993118</td>\n",
       "      <td>8.080000</td>\n",
       "      <td>1.005021</td>\n",
       "      <td>1398.981301</td>\n",
       "      <td>-500.225577</td>\n",
       "      <td>1399.144926</td>\n",
       "      <td>-499.919735</td>\n",
       "      <td>1400.102998</td>\n",
       "      <td>-500.704369</td>\n",
       "      <td>1399.001695</td>\n",
       "      <td>-499.485144</td>\n",
       "      <td>13.128569</td>\n",
       "      <td>5.636710</td>\n",
       "      <td>489.793655</td>\n",
       "      <td>62.710452</td>\n",
       "      <td>42.022440</td>\n",
       "      <td>12.084103</td>\n",
       "      <td>16.922877</td>\n",
       "      <td>6.153479</td>\n",
       "      <td>16.867518</td>\n",
       "      <td>6.150709</td>\n",
       "      <td>1001.849317</td>\n",
       "      <td>-350.301265</td>\n",
       "      <td>1249.738612</td>\n",
       "      <td>-399.107531</td>\n",
       "      <td>1249.750520</td>\n",
       "      <td>-399.396730</td>\n",
       "      <td>1198.287855</td>\n",
       "      <td>-399.488594</td>\n",
       "      <td>999.472250</td>\n",
       "      <td>-399.530962</td>\n",
       "      <td>949.566189</td>\n",
       "      <td>-398.180807</td>\n",
       "      <td>24.938200</td>\n",
       "      <td>-500.490963</td>\n",
       "      <td>14.947607</td>\n",
       "      <td>-500.013837</td>\n",
       "      <td>20.018166</td>\n",
       "      <td>-450.395995</td>\n",
       "      <td>13.987058</td>\n",
       "      <td>-449.831513</td>\n",
       "      <td>12.023554</td>\n",
       "      <td>-497.795834</td>\n",
       "      <td>8.016656</td>\n",
       "      <td>-501.289139</td>\n",
       "      <td>7.946562</td>\n",
       "      <td>-432.317850</td>\n",
       "      <td>4.872511</td>\n",
       "      <td>-500.037437</td>\n",
       "      <td>26.705889</td>\n",
       "      <td>-499.709414</td>\n",
       "    </tr>\n",
       "    <tr>\n",
       "      <th>1</th>\n",
       "      <td>2016-09-01 01:59:59</td>\n",
       "      <td>215.392455</td>\n",
       "      <td>14.987471</td>\n",
       "      <td>8.080000</td>\n",
       "      <td>0.990469</td>\n",
       "      <td>1398.777912</td>\n",
       "      <td>-500.057435</td>\n",
       "      <td>1398.055362</td>\n",
       "      <td>-499.778182</td>\n",
       "      <td>1396.151033</td>\n",
       "      <td>-499.240168</td>\n",
       "      <td>1399.508091</td>\n",
       "      <td>-500.416324</td>\n",
       "      <td>13.036280</td>\n",
       "      <td>5.526065</td>\n",
       "      <td>490.104534</td>\n",
       "      <td>61.961163</td>\n",
       "      <td>41.187903</td>\n",
       "      <td>11.918977</td>\n",
       "      <td>17.002532</td>\n",
       "      <td>5.999043</td>\n",
       "      <td>16.996063</td>\n",
       "      <td>6.002315</td>\n",
       "      <td>998.690785</td>\n",
       "      <td>-350.425704</td>\n",
       "      <td>1248.395457</td>\n",
       "      <td>-399.946025</td>\n",
       "      <td>1249.514451</td>\n",
       "      <td>-399.630810</td>\n",
       "      <td>1200.506459</td>\n",
       "      <td>-399.942434</td>\n",
       "      <td>1000.002114</td>\n",
       "      <td>-399.491528</td>\n",
       "      <td>950.200009</td>\n",
       "      <td>-405.787514</td>\n",
       "      <td>24.923466</td>\n",
       "      <td>-499.813963</td>\n",
       "      <td>14.930873</td>\n",
       "      <td>-500.764452</td>\n",
       "      <td>19.988503</td>\n",
       "      <td>-450.114024</td>\n",
       "      <td>14.092981</td>\n",
       "      <td>-450.059163</td>\n",
       "      <td>12.058140</td>\n",
       "      <td>-498.695773</td>\n",
       "      <td>8.130979</td>\n",
       "      <td>-499.634209</td>\n",
       "      <td>7.958270</td>\n",
       "      <td>-525.839648</td>\n",
       "      <td>4.878850</td>\n",
       "      <td>-500.162375</td>\n",
       "      <td>25.019940</td>\n",
       "      <td>-499.819438</td>\n",
       "    </tr>\n",
       "    <tr>\n",
       "      <th>2</th>\n",
       "      <td>2016-09-01 02:59:59</td>\n",
       "      <td>215.259946</td>\n",
       "      <td>12.884934</td>\n",
       "      <td>7.786667</td>\n",
       "      <td>0.996043</td>\n",
       "      <td>1398.493666</td>\n",
       "      <td>-500.868360</td>\n",
       "      <td>1398.860436</td>\n",
       "      <td>-499.764529</td>\n",
       "      <td>1398.075709</td>\n",
       "      <td>-502.151509</td>\n",
       "      <td>1399.497088</td>\n",
       "      <td>-499.715479</td>\n",
       "      <td>13.138412</td>\n",
       "      <td>5.426561</td>\n",
       "      <td>489.617969</td>\n",
       "      <td>66.903807</td>\n",
       "      <td>42.546294</td>\n",
       "      <td>12.091332</td>\n",
       "      <td>16.992520</td>\n",
       "      <td>5.850632</td>\n",
       "      <td>16.982096</td>\n",
       "      <td>5.853594</td>\n",
       "      <td>998.516720</td>\n",
       "      <td>-349.783538</td>\n",
       "      <td>1247.440748</td>\n",
       "      <td>-400.264330</td>\n",
       "      <td>1248.207204</td>\n",
       "      <td>-401.074405</td>\n",
       "      <td>1199.770026</td>\n",
       "      <td>-400.790582</td>\n",
       "      <td>999.925519</td>\n",
       "      <td>-399.236999</td>\n",
       "      <td>950.320481</td>\n",
       "      <td>-400.864340</td>\n",
       "      <td>24.908732</td>\n",
       "      <td>-500.304035</td>\n",
       "      <td>14.996511</td>\n",
       "      <td>-500.993821</td>\n",
       "      <td>20.039689</td>\n",
       "      <td>-450.263164</td>\n",
       "      <td>14.077881</td>\n",
       "      <td>-449.660997</td>\n",
       "      <td>11.962366</td>\n",
       "      <td>-498.767484</td>\n",
       "      <td>8.096893</td>\n",
       "      <td>-500.827423</td>\n",
       "      <td>8.071056</td>\n",
       "      <td>-500.801673</td>\n",
       "      <td>4.905125</td>\n",
       "      <td>-499.828510</td>\n",
       "      <td>24.994862</td>\n",
       "      <td>-500.622559</td>\n",
       "    </tr>\n",
       "    <tr>\n",
       "      <th>3</th>\n",
       "      <td>2016-09-01 03:59:59</td>\n",
       "      <td>215.336236</td>\n",
       "      <td>12.006805</td>\n",
       "      <td>7.640000</td>\n",
       "      <td>0.863514</td>\n",
       "      <td>1399.618111</td>\n",
       "      <td>-498.863574</td>\n",
       "      <td>1397.440120</td>\n",
       "      <td>-499.211024</td>\n",
       "      <td>1400.129303</td>\n",
       "      <td>-498.355873</td>\n",
       "      <td>1401.065165</td>\n",
       "      <td>-501.038738</td>\n",
       "      <td>12.400507</td>\n",
       "      <td>5.114758</td>\n",
       "      <td>476.618130</td>\n",
       "      <td>59.865919</td>\n",
       "      <td>41.060195</td>\n",
       "      <td>12.181597</td>\n",
       "      <td>16.532144</td>\n",
       "      <td>5.801935</td>\n",
       "      <td>16.515277</td>\n",
       "      <td>5.803657</td>\n",
       "      <td>1000.276604</td>\n",
       "      <td>-350.172597</td>\n",
       "      <td>1251.322675</td>\n",
       "      <td>-398.655289</td>\n",
       "      <td>1250.493702</td>\n",
       "      <td>-399.746728</td>\n",
       "      <td>1199.398691</td>\n",
       "      <td>-397.503052</td>\n",
       "      <td>1001.930679</td>\n",
       "      <td>-400.437573</td>\n",
       "      <td>950.735324</td>\n",
       "      <td>-399.802986</td>\n",
       "      <td>24.893998</td>\n",
       "      <td>-499.382374</td>\n",
       "      <td>14.916674</td>\n",
       "      <td>-499.862299</td>\n",
       "      <td>20.031100</td>\n",
       "      <td>-449.372570</td>\n",
       "      <td>14.013968</td>\n",
       "      <td>-449.526900</td>\n",
       "      <td>12.033091</td>\n",
       "      <td>-498.350935</td>\n",
       "      <td>8.074946</td>\n",
       "      <td>-499.474407</td>\n",
       "      <td>7.897085</td>\n",
       "      <td>-500.868509</td>\n",
       "      <td>4.931400</td>\n",
       "      <td>-499.963623</td>\n",
       "      <td>24.948919</td>\n",
       "      <td>-498.709987</td>\n",
       "    </tr>\n",
       "    <tr>\n",
       "      <th>4</th>\n",
       "      <td>2016-09-01 04:59:59</td>\n",
       "      <td>199.099327</td>\n",
       "      <td>10.682530</td>\n",
       "      <td>7.530000</td>\n",
       "      <td>0.805575</td>\n",
       "      <td>1401.268123</td>\n",
       "      <td>-500.808305</td>\n",
       "      <td>1398.128818</td>\n",
       "      <td>-499.504543</td>\n",
       "      <td>1402.172226</td>\n",
       "      <td>-500.810606</td>\n",
       "      <td>1399.480508</td>\n",
       "      <td>-499.374053</td>\n",
       "      <td>11.327427</td>\n",
       "      <td>4.767383</td>\n",
       "      <td>488.248117</td>\n",
       "      <td>63.315324</td>\n",
       "      <td>41.269161</td>\n",
       "      <td>11.290425</td>\n",
       "      <td>13.607257</td>\n",
       "      <td>5.738081</td>\n",
       "      <td>13.650053</td>\n",
       "      <td>5.739634</td>\n",
       "      <td>996.541302</td>\n",
       "      <td>-350.562517</td>\n",
       "      <td>1304.658848</td>\n",
       "      <td>-399.511519</td>\n",
       "      <td>1306.455515</td>\n",
       "      <td>-399.050685</td>\n",
       "      <td>1248.699349</td>\n",
       "      <td>-400.876894</td>\n",
       "      <td>1058.839106</td>\n",
       "      <td>-398.988239</td>\n",
       "      <td>949.645313</td>\n",
       "      <td>-399.277632</td>\n",
       "      <td>24.886905</td>\n",
       "      <td>-499.357375</td>\n",
       "      <td>14.979233</td>\n",
       "      <td>-500.186804</td>\n",
       "      <td>19.962364</td>\n",
       "      <td>-450.638828</td>\n",
       "      <td>14.009245</td>\n",
       "      <td>-450.022259</td>\n",
       "      <td>12.025367</td>\n",
       "      <td>-500.786497</td>\n",
       "      <td>8.054678</td>\n",
       "      <td>-500.397500</td>\n",
       "      <td>8.107890</td>\n",
       "      <td>-509.526725</td>\n",
       "      <td>4.957674</td>\n",
       "      <td>-500.360026</td>\n",
       "      <td>25.003331</td>\n",
       "      <td>-500.856333</td>\n",
       "    </tr>\n",
       "  </tbody>\n",
       "</table>\n",
       "</div>"
      ],
      "text/plain": [
       "                  date  primary_cleaner.input.sulfate  \\\n",
       "0  2016-09-01 00:59:59                     210.800909   \n",
       "1  2016-09-01 01:59:59                     215.392455   \n",
       "2  2016-09-01 02:59:59                     215.259946   \n",
       "3  2016-09-01 03:59:59                     215.336236   \n",
       "4  2016-09-01 04:59:59                     199.099327   \n",
       "\n",
       "   primary_cleaner.input.depressant  primary_cleaner.input.feed_size  \\\n",
       "0                         14.993118                         8.080000   \n",
       "1                         14.987471                         8.080000   \n",
       "2                         12.884934                         7.786667   \n",
       "3                         12.006805                         7.640000   \n",
       "4                         10.682530                         7.530000   \n",
       "\n",
       "   primary_cleaner.input.xanthate  primary_cleaner.state.floatbank8_a_air  \\\n",
       "0                        1.005021                             1398.981301   \n",
       "1                        0.990469                             1398.777912   \n",
       "2                        0.996043                             1398.493666   \n",
       "3                        0.863514                             1399.618111   \n",
       "4                        0.805575                             1401.268123   \n",
       "\n",
       "   primary_cleaner.state.floatbank8_a_level  \\\n",
       "0                               -500.225577   \n",
       "1                               -500.057435   \n",
       "2                               -500.868360   \n",
       "3                               -498.863574   \n",
       "4                               -500.808305   \n",
       "\n",
       "   primary_cleaner.state.floatbank8_b_air  \\\n",
       "0                             1399.144926   \n",
       "1                             1398.055362   \n",
       "2                             1398.860436   \n",
       "3                             1397.440120   \n",
       "4                             1398.128818   \n",
       "\n",
       "   primary_cleaner.state.floatbank8_b_level  \\\n",
       "0                               -499.919735   \n",
       "1                               -499.778182   \n",
       "2                               -499.764529   \n",
       "3                               -499.211024   \n",
       "4                               -499.504543   \n",
       "\n",
       "   primary_cleaner.state.floatbank8_c_air  \\\n",
       "0                             1400.102998   \n",
       "1                             1396.151033   \n",
       "2                             1398.075709   \n",
       "3                             1400.129303   \n",
       "4                             1402.172226   \n",
       "\n",
       "   primary_cleaner.state.floatbank8_c_level  \\\n",
       "0                               -500.704369   \n",
       "1                               -499.240168   \n",
       "2                               -502.151509   \n",
       "3                               -498.355873   \n",
       "4                               -500.810606   \n",
       "\n",
       "   primary_cleaner.state.floatbank8_d_air  \\\n",
       "0                             1399.001695   \n",
       "1                             1399.508091   \n",
       "2                             1399.497088   \n",
       "3                             1401.065165   \n",
       "4                             1399.480508   \n",
       "\n",
       "   primary_cleaner.state.floatbank8_d_level  rougher.input.feed_ag  \\\n",
       "0                               -499.485144              13.128569   \n",
       "1                               -500.416324              13.036280   \n",
       "2                               -499.715479              13.138412   \n",
       "3                               -501.038738              12.400507   \n",
       "4                               -499.374053              11.327427   \n",
       "\n",
       "   rougher.input.feed_pb  rougher.input.feed_rate  rougher.input.feed_size  \\\n",
       "0               5.636710               489.793655                62.710452   \n",
       "1               5.526065               490.104534                61.961163   \n",
       "2               5.426561               489.617969                66.903807   \n",
       "3               5.114758               476.618130                59.865919   \n",
       "4               4.767383               488.248117                63.315324   \n",
       "\n",
       "   rougher.input.feed_sol  rougher.input.feed_au  \\\n",
       "0               42.022440              12.084103   \n",
       "1               41.187903              11.918977   \n",
       "2               42.546294              12.091332   \n",
       "3               41.060195              12.181597   \n",
       "4               41.269161              11.290425   \n",
       "\n",
       "   rougher.input.floatbank10_sulfate  rougher.input.floatbank10_xanthate  \\\n",
       "0                          16.922877                            6.153479   \n",
       "1                          17.002532                            5.999043   \n",
       "2                          16.992520                            5.850632   \n",
       "3                          16.532144                            5.801935   \n",
       "4                          13.607257                            5.738081   \n",
       "\n",
       "   rougher.input.floatbank11_sulfate  rougher.input.floatbank11_xanthate  \\\n",
       "0                          16.867518                            6.150709   \n",
       "1                          16.996063                            6.002315   \n",
       "2                          16.982096                            5.853594   \n",
       "3                          16.515277                            5.803657   \n",
       "4                          13.650053                            5.739634   \n",
       "\n",
       "   rougher.state.floatbank10_a_air  rougher.state.floatbank10_a_level  \\\n",
       "0                      1001.849317                        -350.301265   \n",
       "1                       998.690785                        -350.425704   \n",
       "2                       998.516720                        -349.783538   \n",
       "3                      1000.276604                        -350.172597   \n",
       "4                       996.541302                        -350.562517   \n",
       "\n",
       "   rougher.state.floatbank10_b_air  rougher.state.floatbank10_b_level  \\\n",
       "0                      1249.738612                        -399.107531   \n",
       "1                      1248.395457                        -399.946025   \n",
       "2                      1247.440748                        -400.264330   \n",
       "3                      1251.322675                        -398.655289   \n",
       "4                      1304.658848                        -399.511519   \n",
       "\n",
       "   rougher.state.floatbank10_c_air  rougher.state.floatbank10_c_level  \\\n",
       "0                      1249.750520                        -399.396730   \n",
       "1                      1249.514451                        -399.630810   \n",
       "2                      1248.207204                        -401.074405   \n",
       "3                      1250.493702                        -399.746728   \n",
       "4                      1306.455515                        -399.050685   \n",
       "\n",
       "   rougher.state.floatbank10_d_air  rougher.state.floatbank10_d_level  \\\n",
       "0                      1198.287855                        -399.488594   \n",
       "1                      1200.506459                        -399.942434   \n",
       "2                      1199.770026                        -400.790582   \n",
       "3                      1199.398691                        -397.503052   \n",
       "4                      1248.699349                        -400.876894   \n",
       "\n",
       "   rougher.state.floatbank10_e_air  rougher.state.floatbank10_e_level  \\\n",
       "0                       999.472250                        -399.530962   \n",
       "1                      1000.002114                        -399.491528   \n",
       "2                       999.925519                        -399.236999   \n",
       "3                      1001.930679                        -400.437573   \n",
       "4                      1058.839106                        -398.988239   \n",
       "\n",
       "   rougher.state.floatbank10_f_air  rougher.state.floatbank10_f_level  \\\n",
       "0                       949.566189                        -398.180807   \n",
       "1                       950.200009                        -405.787514   \n",
       "2                       950.320481                        -400.864340   \n",
       "3                       950.735324                        -399.802986   \n",
       "4                       949.645313                        -399.277632   \n",
       "\n",
       "   secondary_cleaner.state.floatbank2_a_air  \\\n",
       "0                                 24.938200   \n",
       "1                                 24.923466   \n",
       "2                                 24.908732   \n",
       "3                                 24.893998   \n",
       "4                                 24.886905   \n",
       "\n",
       "   secondary_cleaner.state.floatbank2_a_level  \\\n",
       "0                                 -500.490963   \n",
       "1                                 -499.813963   \n",
       "2                                 -500.304035   \n",
       "3                                 -499.382374   \n",
       "4                                 -499.357375   \n",
       "\n",
       "   secondary_cleaner.state.floatbank2_b_air  \\\n",
       "0                                 14.947607   \n",
       "1                                 14.930873   \n",
       "2                                 14.996511   \n",
       "3                                 14.916674   \n",
       "4                                 14.979233   \n",
       "\n",
       "   secondary_cleaner.state.floatbank2_b_level  \\\n",
       "0                                 -500.013837   \n",
       "1                                 -500.764452   \n",
       "2                                 -500.993821   \n",
       "3                                 -499.862299   \n",
       "4                                 -500.186804   \n",
       "\n",
       "   secondary_cleaner.state.floatbank3_a_air  \\\n",
       "0                                 20.018166   \n",
       "1                                 19.988503   \n",
       "2                                 20.039689   \n",
       "3                                 20.031100   \n",
       "4                                 19.962364   \n",
       "\n",
       "   secondary_cleaner.state.floatbank3_a_level  \\\n",
       "0                                 -450.395995   \n",
       "1                                 -450.114024   \n",
       "2                                 -450.263164   \n",
       "3                                 -449.372570   \n",
       "4                                 -450.638828   \n",
       "\n",
       "   secondary_cleaner.state.floatbank3_b_air  \\\n",
       "0                                 13.987058   \n",
       "1                                 14.092981   \n",
       "2                                 14.077881   \n",
       "3                                 14.013968   \n",
       "4                                 14.009245   \n",
       "\n",
       "   secondary_cleaner.state.floatbank3_b_level  \\\n",
       "0                                 -449.831513   \n",
       "1                                 -450.059163   \n",
       "2                                 -449.660997   \n",
       "3                                 -449.526900   \n",
       "4                                 -450.022259   \n",
       "\n",
       "   secondary_cleaner.state.floatbank4_a_air  \\\n",
       "0                                 12.023554   \n",
       "1                                 12.058140   \n",
       "2                                 11.962366   \n",
       "3                                 12.033091   \n",
       "4                                 12.025367   \n",
       "\n",
       "   secondary_cleaner.state.floatbank4_a_level  \\\n",
       "0                                 -497.795834   \n",
       "1                                 -498.695773   \n",
       "2                                 -498.767484   \n",
       "3                                 -498.350935   \n",
       "4                                 -500.786497   \n",
       "\n",
       "   secondary_cleaner.state.floatbank4_b_air  \\\n",
       "0                                  8.016656   \n",
       "1                                  8.130979   \n",
       "2                                  8.096893   \n",
       "3                                  8.074946   \n",
       "4                                  8.054678   \n",
       "\n",
       "   secondary_cleaner.state.floatbank4_b_level  \\\n",
       "0                                 -501.289139   \n",
       "1                                 -499.634209   \n",
       "2                                 -500.827423   \n",
       "3                                 -499.474407   \n",
       "4                                 -500.397500   \n",
       "\n",
       "   secondary_cleaner.state.floatbank5_a_air  \\\n",
       "0                                  7.946562   \n",
       "1                                  7.958270   \n",
       "2                                  8.071056   \n",
       "3                                  7.897085   \n",
       "4                                  8.107890   \n",
       "\n",
       "   secondary_cleaner.state.floatbank5_a_level  \\\n",
       "0                                 -432.317850   \n",
       "1                                 -525.839648   \n",
       "2                                 -500.801673   \n",
       "3                                 -500.868509   \n",
       "4                                 -509.526725   \n",
       "\n",
       "   secondary_cleaner.state.floatbank5_b_air  \\\n",
       "0                                  4.872511   \n",
       "1                                  4.878850   \n",
       "2                                  4.905125   \n",
       "3                                  4.931400   \n",
       "4                                  4.957674   \n",
       "\n",
       "   secondary_cleaner.state.floatbank5_b_level  \\\n",
       "0                                 -500.037437   \n",
       "1                                 -500.162375   \n",
       "2                                 -499.828510   \n",
       "3                                 -499.963623   \n",
       "4                                 -500.360026   \n",
       "\n",
       "   secondary_cleaner.state.floatbank6_a_air  \\\n",
       "0                                 26.705889   \n",
       "1                                 25.019940   \n",
       "2                                 24.994862   \n",
       "3                                 24.948919   \n",
       "4                                 25.003331   \n",
       "\n",
       "   secondary_cleaner.state.floatbank6_a_level  \n",
       "0                                 -499.709414  \n",
       "1                                 -499.819438  \n",
       "2                                 -500.622559  \n",
       "3                                 -498.709987  \n",
       "4                                 -500.856333  "
      ]
     },
     "metadata": {},
     "output_type": "display_data"
    },
    {
     "data": {
      "text/html": [
       "<div>\n",
       "<style scoped>\n",
       "    .dataframe tbody tr th:only-of-type {\n",
       "        vertical-align: middle;\n",
       "    }\n",
       "\n",
       "    .dataframe tbody tr th {\n",
       "        vertical-align: top;\n",
       "    }\n",
       "\n",
       "    .dataframe thead th {\n",
       "        text-align: right;\n",
       "    }\n",
       "</style>\n",
       "<table border=\"1\" class=\"dataframe\">\n",
       "  <thead>\n",
       "    <tr style=\"text-align: right;\">\n",
       "      <th></th>\n",
       "      <th>date</th>\n",
       "      <th>final.output.concentrate_ag</th>\n",
       "      <th>final.output.concentrate_pb</th>\n",
       "      <th>final.output.concentrate_sol</th>\n",
       "      <th>final.output.concentrate_au</th>\n",
       "      <th>final.output.recovery</th>\n",
       "      <th>final.output.tail_ag</th>\n",
       "      <th>final.output.tail_pb</th>\n",
       "      <th>final.output.tail_sol</th>\n",
       "      <th>final.output.tail_au</th>\n",
       "      <th>primary_cleaner.input.sulfate</th>\n",
       "      <th>primary_cleaner.input.depressant</th>\n",
       "      <th>primary_cleaner.input.feed_size</th>\n",
       "      <th>primary_cleaner.input.xanthate</th>\n",
       "      <th>primary_cleaner.output.concentrate_ag</th>\n",
       "      <th>primary_cleaner.output.concentrate_pb</th>\n",
       "      <th>primary_cleaner.output.concentrate_sol</th>\n",
       "      <th>primary_cleaner.output.concentrate_au</th>\n",
       "      <th>primary_cleaner.output.tail_ag</th>\n",
       "      <th>primary_cleaner.output.tail_pb</th>\n",
       "      <th>primary_cleaner.output.tail_sol</th>\n",
       "      <th>primary_cleaner.output.tail_au</th>\n",
       "      <th>primary_cleaner.state.floatbank8_a_air</th>\n",
       "      <th>primary_cleaner.state.floatbank8_a_level</th>\n",
       "      <th>primary_cleaner.state.floatbank8_b_air</th>\n",
       "      <th>primary_cleaner.state.floatbank8_b_level</th>\n",
       "      <th>primary_cleaner.state.floatbank8_c_air</th>\n",
       "      <th>primary_cleaner.state.floatbank8_c_level</th>\n",
       "      <th>primary_cleaner.state.floatbank8_d_air</th>\n",
       "      <th>primary_cleaner.state.floatbank8_d_level</th>\n",
       "      <th>rougher.calculation.sulfate_to_au_concentrate</th>\n",
       "      <th>rougher.calculation.floatbank10_sulfate_to_au_feed</th>\n",
       "      <th>rougher.calculation.floatbank11_sulfate_to_au_feed</th>\n",
       "      <th>rougher.calculation.au_pb_ratio</th>\n",
       "      <th>rougher.input.feed_ag</th>\n",
       "      <th>rougher.input.feed_pb</th>\n",
       "      <th>rougher.input.feed_rate</th>\n",
       "      <th>rougher.input.feed_size</th>\n",
       "      <th>rougher.input.feed_sol</th>\n",
       "      <th>rougher.input.feed_au</th>\n",
       "      <th>rougher.input.floatbank10_sulfate</th>\n",
       "      <th>rougher.input.floatbank10_xanthate</th>\n",
       "      <th>rougher.input.floatbank11_sulfate</th>\n",
       "      <th>rougher.input.floatbank11_xanthate</th>\n",
       "      <th>rougher.output.concentrate_ag</th>\n",
       "      <th>rougher.output.concentrate_pb</th>\n",
       "      <th>rougher.output.concentrate_sol</th>\n",
       "      <th>rougher.output.concentrate_au</th>\n",
       "      <th>rougher.output.recovery</th>\n",
       "      <th>rougher.output.tail_ag</th>\n",
       "      <th>rougher.output.tail_pb</th>\n",
       "      <th>rougher.output.tail_sol</th>\n",
       "      <th>rougher.output.tail_au</th>\n",
       "      <th>rougher.state.floatbank10_a_air</th>\n",
       "      <th>rougher.state.floatbank10_a_level</th>\n",
       "      <th>rougher.state.floatbank10_b_air</th>\n",
       "      <th>rougher.state.floatbank10_b_level</th>\n",
       "      <th>rougher.state.floatbank10_c_air</th>\n",
       "      <th>rougher.state.floatbank10_c_level</th>\n",
       "      <th>rougher.state.floatbank10_d_air</th>\n",
       "      <th>rougher.state.floatbank10_d_level</th>\n",
       "      <th>rougher.state.floatbank10_e_air</th>\n",
       "      <th>rougher.state.floatbank10_e_level</th>\n",
       "      <th>rougher.state.floatbank10_f_air</th>\n",
       "      <th>rougher.state.floatbank10_f_level</th>\n",
       "      <th>secondary_cleaner.output.tail_ag</th>\n",
       "      <th>secondary_cleaner.output.tail_pb</th>\n",
       "      <th>secondary_cleaner.output.tail_sol</th>\n",
       "      <th>secondary_cleaner.output.tail_au</th>\n",
       "      <th>secondary_cleaner.state.floatbank2_a_air</th>\n",
       "      <th>secondary_cleaner.state.floatbank2_a_level</th>\n",
       "      <th>secondary_cleaner.state.floatbank2_b_air</th>\n",
       "      <th>secondary_cleaner.state.floatbank2_b_level</th>\n",
       "      <th>secondary_cleaner.state.floatbank3_a_air</th>\n",
       "      <th>secondary_cleaner.state.floatbank3_a_level</th>\n",
       "      <th>secondary_cleaner.state.floatbank3_b_air</th>\n",
       "      <th>secondary_cleaner.state.floatbank3_b_level</th>\n",
       "      <th>secondary_cleaner.state.floatbank4_a_air</th>\n",
       "      <th>secondary_cleaner.state.floatbank4_a_level</th>\n",
       "      <th>secondary_cleaner.state.floatbank4_b_air</th>\n",
       "      <th>secondary_cleaner.state.floatbank4_b_level</th>\n",
       "      <th>secondary_cleaner.state.floatbank5_a_air</th>\n",
       "      <th>secondary_cleaner.state.floatbank5_a_level</th>\n",
       "      <th>secondary_cleaner.state.floatbank5_b_air</th>\n",
       "      <th>secondary_cleaner.state.floatbank5_b_level</th>\n",
       "      <th>secondary_cleaner.state.floatbank6_a_air</th>\n",
       "      <th>secondary_cleaner.state.floatbank6_a_level</th>\n",
       "    </tr>\n",
       "  </thead>\n",
       "  <tbody>\n",
       "    <tr>\n",
       "      <th>0</th>\n",
       "      <td>2016-01-15 00:00:00</td>\n",
       "      <td>6.055403</td>\n",
       "      <td>9.889648</td>\n",
       "      <td>5.507324</td>\n",
       "      <td>42.192020</td>\n",
       "      <td>70.541216</td>\n",
       "      <td>10.411962</td>\n",
       "      <td>0.895447</td>\n",
       "      <td>16.904297</td>\n",
       "      <td>2.143149</td>\n",
       "      <td>127.092003</td>\n",
       "      <td>10.128295</td>\n",
       "      <td>7.25</td>\n",
       "      <td>0.988759</td>\n",
       "      <td>8.547551</td>\n",
       "      <td>10.389648</td>\n",
       "      <td>19.529297</td>\n",
       "      <td>34.174427</td>\n",
       "      <td>14.936526</td>\n",
       "      <td>2.534912</td>\n",
       "      <td>7.476074</td>\n",
       "      <td>2.106679</td>\n",
       "      <td>1549.775757</td>\n",
       "      <td>-498.912140</td>\n",
       "      <td>1551.434204</td>\n",
       "      <td>-516.403442</td>\n",
       "      <td>1549.873901</td>\n",
       "      <td>-498.666595</td>\n",
       "      <td>1554.367432</td>\n",
       "      <td>-493.428131</td>\n",
       "      <td>41885.707031</td>\n",
       "      <td>3481.779053</td>\n",
       "      <td>3520.337158</td>\n",
       "      <td>2.838687</td>\n",
       "      <td>6.100378</td>\n",
       "      <td>2.284912</td>\n",
       "      <td>523.546326</td>\n",
       "      <td>55.486599</td>\n",
       "      <td>36.808594</td>\n",
       "      <td>6.486150</td>\n",
       "      <td>11.986616</td>\n",
       "      <td>6.007990</td>\n",
       "      <td>11.836743</td>\n",
       "      <td>6.005818</td>\n",
       "      <td>11.500771</td>\n",
       "      <td>7.101074</td>\n",
       "      <td>28.029297</td>\n",
       "      <td>19.793808</td>\n",
       "      <td>87.107763</td>\n",
       "      <td>5.008018</td>\n",
       "      <td>0.508728</td>\n",
       "      <td>19.154297</td>\n",
       "      <td>1.170244</td>\n",
       "      <td>999.706909</td>\n",
       "      <td>-404.066986</td>\n",
       "      <td>1603.011353</td>\n",
       "      <td>-434.715027</td>\n",
       "      <td>1602.375000</td>\n",
       "      <td>-442.204468</td>\n",
       "      <td>1598.937256</td>\n",
       "      <td>-451.294128</td>\n",
       "      <td>1404.472046</td>\n",
       "      <td>-455.462982</td>\n",
       "      <td>1416.354980</td>\n",
       "      <td>-451.939636</td>\n",
       "      <td>14.500184</td>\n",
       "      <td>4.694824</td>\n",
       "      <td>8.764648</td>\n",
       "      <td>2.606185</td>\n",
       "      <td>25.853109</td>\n",
       "      <td>-498.526489</td>\n",
       "      <td>23.893660</td>\n",
       "      <td>-501.406281</td>\n",
       "      <td>23.961798</td>\n",
       "      <td>-495.262817</td>\n",
       "      <td>21.940409</td>\n",
       "      <td>-499.340973</td>\n",
       "      <td>14.016835</td>\n",
       "      <td>-502.488007</td>\n",
       "      <td>12.099931</td>\n",
       "      <td>-504.715942</td>\n",
       "      <td>9.925633</td>\n",
       "      <td>-498.310211</td>\n",
       "      <td>8.079666</td>\n",
       "      <td>-500.470978</td>\n",
       "      <td>14.151341</td>\n",
       "      <td>-605.841980</td>\n",
       "    </tr>\n",
       "    <tr>\n",
       "      <th>1</th>\n",
       "      <td>2016-01-15 01:00:00</td>\n",
       "      <td>6.029369</td>\n",
       "      <td>9.968944</td>\n",
       "      <td>5.257781</td>\n",
       "      <td>42.701629</td>\n",
       "      <td>69.266198</td>\n",
       "      <td>10.462676</td>\n",
       "      <td>0.927452</td>\n",
       "      <td>16.634514</td>\n",
       "      <td>2.224930</td>\n",
       "      <td>125.629232</td>\n",
       "      <td>10.296251</td>\n",
       "      <td>7.25</td>\n",
       "      <td>1.002663</td>\n",
       "      <td>8.558743</td>\n",
       "      <td>10.497069</td>\n",
       "      <td>19.369147</td>\n",
       "      <td>34.118526</td>\n",
       "      <td>16.250511</td>\n",
       "      <td>3.049646</td>\n",
       "      <td>6.733907</td>\n",
       "      <td>2.353017</td>\n",
       "      <td>1576.166671</td>\n",
       "      <td>-500.904965</td>\n",
       "      <td>1575.950626</td>\n",
       "      <td>-499.865889</td>\n",
       "      <td>1575.994189</td>\n",
       "      <td>-499.315107</td>\n",
       "      <td>1574.479259</td>\n",
       "      <td>-498.931665</td>\n",
       "      <td>42050.861809</td>\n",
       "      <td>3498.370979</td>\n",
       "      <td>3489.981857</td>\n",
       "      <td>2.858998</td>\n",
       "      <td>6.161113</td>\n",
       "      <td>2.266033</td>\n",
       "      <td>525.290581</td>\n",
       "      <td>57.278666</td>\n",
       "      <td>35.753385</td>\n",
       "      <td>6.478583</td>\n",
       "      <td>11.971193</td>\n",
       "      <td>6.005766</td>\n",
       "      <td>11.996163</td>\n",
       "      <td>6.012594</td>\n",
       "      <td>11.615865</td>\n",
       "      <td>7.278807</td>\n",
       "      <td>28.067063</td>\n",
       "      <td>20.050975</td>\n",
       "      <td>86.843261</td>\n",
       "      <td>4.955378</td>\n",
       "      <td>0.536689</td>\n",
       "      <td>18.965234</td>\n",
       "      <td>1.184827</td>\n",
       "      <td>1000.286398</td>\n",
       "      <td>-400.065196</td>\n",
       "      <td>1600.754587</td>\n",
       "      <td>-449.953435</td>\n",
       "      <td>1600.479580</td>\n",
       "      <td>-449.830646</td>\n",
       "      <td>1600.527589</td>\n",
       "      <td>-449.953649</td>\n",
       "      <td>1399.227084</td>\n",
       "      <td>-450.869848</td>\n",
       "      <td>1399.719514</td>\n",
       "      <td>-450.119001</td>\n",
       "      <td>14.265474</td>\n",
       "      <td>4.592547</td>\n",
       "      <td>9.001494</td>\n",
       "      <td>2.488248</td>\n",
       "      <td>25.880539</td>\n",
       "      <td>-499.989656</td>\n",
       "      <td>23.889530</td>\n",
       "      <td>-500.372428</td>\n",
       "      <td>23.970550</td>\n",
       "      <td>-500.085473</td>\n",
       "      <td>22.085714</td>\n",
       "      <td>-499.446897</td>\n",
       "      <td>13.992281</td>\n",
       "      <td>-505.503262</td>\n",
       "      <td>11.950531</td>\n",
       "      <td>-501.331529</td>\n",
       "      <td>10.039245</td>\n",
       "      <td>-500.169983</td>\n",
       "      <td>7.984757</td>\n",
       "      <td>-500.582168</td>\n",
       "      <td>13.998353</td>\n",
       "      <td>-599.787184</td>\n",
       "    </tr>\n",
       "    <tr>\n",
       "      <th>2</th>\n",
       "      <td>2016-01-15 02:00:00</td>\n",
       "      <td>6.055926</td>\n",
       "      <td>10.213995</td>\n",
       "      <td>5.383759</td>\n",
       "      <td>42.657501</td>\n",
       "      <td>68.116445</td>\n",
       "      <td>10.507046</td>\n",
       "      <td>0.953716</td>\n",
       "      <td>16.208849</td>\n",
       "      <td>2.257889</td>\n",
       "      <td>123.819808</td>\n",
       "      <td>11.316280</td>\n",
       "      <td>7.25</td>\n",
       "      <td>0.991265</td>\n",
       "      <td>8.603505</td>\n",
       "      <td>10.354494</td>\n",
       "      <td>19.167579</td>\n",
       "      <td>33.969464</td>\n",
       "      <td>16.491823</td>\n",
       "      <td>3.124664</td>\n",
       "      <td>6.471768</td>\n",
       "      <td>2.416800</td>\n",
       "      <td>1601.556163</td>\n",
       "      <td>-499.997791</td>\n",
       "      <td>1600.386685</td>\n",
       "      <td>-500.607762</td>\n",
       "      <td>1602.003542</td>\n",
       "      <td>-500.870069</td>\n",
       "      <td>1599.541515</td>\n",
       "      <td>-499.827444</td>\n",
       "      <td>42018.101184</td>\n",
       "      <td>3495.348910</td>\n",
       "      <td>3502.359819</td>\n",
       "      <td>2.945989</td>\n",
       "      <td>6.116455</td>\n",
       "      <td>2.159622</td>\n",
       "      <td>530.026610</td>\n",
       "      <td>57.510649</td>\n",
       "      <td>35.971630</td>\n",
       "      <td>6.362222</td>\n",
       "      <td>11.920603</td>\n",
       "      <td>6.197377</td>\n",
       "      <td>11.920305</td>\n",
       "      <td>6.204633</td>\n",
       "      <td>11.695753</td>\n",
       "      <td>7.216833</td>\n",
       "      <td>27.454037</td>\n",
       "      <td>19.737170</td>\n",
       "      <td>86.842308</td>\n",
       "      <td>4.843460</td>\n",
       "      <td>0.546416</td>\n",
       "      <td>18.808533</td>\n",
       "      <td>1.162562</td>\n",
       "      <td>999.719565</td>\n",
       "      <td>-400.074028</td>\n",
       "      <td>1599.337330</td>\n",
       "      <td>-450.008530</td>\n",
       "      <td>1599.672797</td>\n",
       "      <td>-449.954491</td>\n",
       "      <td>1599.849325</td>\n",
       "      <td>-449.954185</td>\n",
       "      <td>1399.180945</td>\n",
       "      <td>-449.937588</td>\n",
       "      <td>1400.316682</td>\n",
       "      <td>-450.527147</td>\n",
       "      <td>14.115662</td>\n",
       "      <td>4.624775</td>\n",
       "      <td>8.842896</td>\n",
       "      <td>2.458187</td>\n",
       "      <td>26.005245</td>\n",
       "      <td>-499.929616</td>\n",
       "      <td>23.886657</td>\n",
       "      <td>-499.951928</td>\n",
       "      <td>23.913535</td>\n",
       "      <td>-499.442343</td>\n",
       "      <td>23.957717</td>\n",
       "      <td>-499.901982</td>\n",
       "      <td>14.015015</td>\n",
       "      <td>-502.520901</td>\n",
       "      <td>11.912783</td>\n",
       "      <td>-501.133383</td>\n",
       "      <td>10.070913</td>\n",
       "      <td>-500.129135</td>\n",
       "      <td>8.013877</td>\n",
       "      <td>-500.517572</td>\n",
       "      <td>14.028663</td>\n",
       "      <td>-601.427363</td>\n",
       "    </tr>\n",
       "    <tr>\n",
       "      <th>3</th>\n",
       "      <td>2016-01-15 03:00:00</td>\n",
       "      <td>6.047977</td>\n",
       "      <td>9.977019</td>\n",
       "      <td>4.858634</td>\n",
       "      <td>42.689819</td>\n",
       "      <td>68.347543</td>\n",
       "      <td>10.422762</td>\n",
       "      <td>0.883763</td>\n",
       "      <td>16.532835</td>\n",
       "      <td>2.146849</td>\n",
       "      <td>122.270188</td>\n",
       "      <td>11.322140</td>\n",
       "      <td>7.25</td>\n",
       "      <td>0.996739</td>\n",
       "      <td>7.221879</td>\n",
       "      <td>8.496563</td>\n",
       "      <td>15.978538</td>\n",
       "      <td>28.260743</td>\n",
       "      <td>16.024359</td>\n",
       "      <td>2.960362</td>\n",
       "      <td>6.843791</td>\n",
       "      <td>2.262051</td>\n",
       "      <td>1599.968720</td>\n",
       "      <td>-500.951778</td>\n",
       "      <td>1600.659236</td>\n",
       "      <td>-499.677094</td>\n",
       "      <td>1600.304144</td>\n",
       "      <td>-500.727997</td>\n",
       "      <td>1600.449520</td>\n",
       "      <td>-500.052575</td>\n",
       "      <td>42029.447991</td>\n",
       "      <td>3498.578313</td>\n",
       "      <td>3499.162912</td>\n",
       "      <td>3.002340</td>\n",
       "      <td>6.043309</td>\n",
       "      <td>2.037807</td>\n",
       "      <td>542.590390</td>\n",
       "      <td>57.792734</td>\n",
       "      <td>36.862241</td>\n",
       "      <td>6.118189</td>\n",
       "      <td>11.630094</td>\n",
       "      <td>6.203177</td>\n",
       "      <td>11.692450</td>\n",
       "      <td>6.196578</td>\n",
       "      <td>11.915047</td>\n",
       "      <td>7.175616</td>\n",
       "      <td>27.341277</td>\n",
       "      <td>19.320810</td>\n",
       "      <td>87.226430</td>\n",
       "      <td>4.655288</td>\n",
       "      <td>0.542525</td>\n",
       "      <td>19.330200</td>\n",
       "      <td>1.079755</td>\n",
       "      <td>999.814770</td>\n",
       "      <td>-400.200179</td>\n",
       "      <td>1600.059442</td>\n",
       "      <td>-450.619948</td>\n",
       "      <td>1600.012842</td>\n",
       "      <td>-449.910497</td>\n",
       "      <td>1597.725177</td>\n",
       "      <td>-450.130127</td>\n",
       "      <td>1400.943157</td>\n",
       "      <td>-450.030142</td>\n",
       "      <td>1400.234743</td>\n",
       "      <td>-449.790835</td>\n",
       "      <td>13.732071</td>\n",
       "      <td>4.482453</td>\n",
       "      <td>9.122857</td>\n",
       "      <td>2.322062</td>\n",
       "      <td>25.942508</td>\n",
       "      <td>-499.176749</td>\n",
       "      <td>23.955516</td>\n",
       "      <td>-499.848796</td>\n",
       "      <td>23.966838</td>\n",
       "      <td>-500.008812</td>\n",
       "      <td>23.954443</td>\n",
       "      <td>-499.944710</td>\n",
       "      <td>14.036510</td>\n",
       "      <td>-500.857308</td>\n",
       "      <td>11.999550</td>\n",
       "      <td>-501.193686</td>\n",
       "      <td>9.970366</td>\n",
       "      <td>-499.201640</td>\n",
       "      <td>7.977324</td>\n",
       "      <td>-500.255908</td>\n",
       "      <td>14.005551</td>\n",
       "      <td>-599.996129</td>\n",
       "    </tr>\n",
       "    <tr>\n",
       "      <th>4</th>\n",
       "      <td>2016-01-15 04:00:00</td>\n",
       "      <td>6.148599</td>\n",
       "      <td>10.142511</td>\n",
       "      <td>4.939416</td>\n",
       "      <td>42.774141</td>\n",
       "      <td>66.927016</td>\n",
       "      <td>10.360302</td>\n",
       "      <td>0.792826</td>\n",
       "      <td>16.525686</td>\n",
       "      <td>2.055292</td>\n",
       "      <td>117.988169</td>\n",
       "      <td>11.913613</td>\n",
       "      <td>7.25</td>\n",
       "      <td>1.009869</td>\n",
       "      <td>9.089428</td>\n",
       "      <td>9.986786</td>\n",
       "      <td>19.199864</td>\n",
       "      <td>33.044932</td>\n",
       "      <td>16.480185</td>\n",
       "      <td>3.112100</td>\n",
       "      <td>6.550154</td>\n",
       "      <td>2.277073</td>\n",
       "      <td>1601.339707</td>\n",
       "      <td>-498.975456</td>\n",
       "      <td>1601.437854</td>\n",
       "      <td>-500.323246</td>\n",
       "      <td>1599.581894</td>\n",
       "      <td>-500.888152</td>\n",
       "      <td>1602.649541</td>\n",
       "      <td>-500.593010</td>\n",
       "      <td>42125.354245</td>\n",
       "      <td>3494.800771</td>\n",
       "      <td>3506.679315</td>\n",
       "      <td>3.169615</td>\n",
       "      <td>6.060915</td>\n",
       "      <td>1.786875</td>\n",
       "      <td>540.531893</td>\n",
       "      <td>56.047189</td>\n",
       "      <td>34.347666</td>\n",
       "      <td>5.663707</td>\n",
       "      <td>10.957755</td>\n",
       "      <td>6.198826</td>\n",
       "      <td>10.960521</td>\n",
       "      <td>6.194897</td>\n",
       "      <td>12.411054</td>\n",
       "      <td>7.240205</td>\n",
       "      <td>27.041023</td>\n",
       "      <td>19.216101</td>\n",
       "      <td>86.688794</td>\n",
       "      <td>4.552800</td>\n",
       "      <td>0.515438</td>\n",
       "      <td>19.267422</td>\n",
       "      <td>1.012642</td>\n",
       "      <td>999.678690</td>\n",
       "      <td>-399.752729</td>\n",
       "      <td>1600.208824</td>\n",
       "      <td>-449.599614</td>\n",
       "      <td>1600.357732</td>\n",
       "      <td>-450.034364</td>\n",
       "      <td>1599.759049</td>\n",
       "      <td>-449.909799</td>\n",
       "      <td>1401.560902</td>\n",
       "      <td>-448.877187</td>\n",
       "      <td>1401.160227</td>\n",
       "      <td>-450.407128</td>\n",
       "      <td>14.079996</td>\n",
       "      <td>4.470737</td>\n",
       "      <td>8.871028</td>\n",
       "      <td>2.330448</td>\n",
       "      <td>26.024787</td>\n",
       "      <td>-500.279091</td>\n",
       "      <td>23.955345</td>\n",
       "      <td>-500.593614</td>\n",
       "      <td>23.985703</td>\n",
       "      <td>-500.083811</td>\n",
       "      <td>23.958945</td>\n",
       "      <td>-499.990309</td>\n",
       "      <td>14.027298</td>\n",
       "      <td>-499.838632</td>\n",
       "      <td>11.953070</td>\n",
       "      <td>-501.053894</td>\n",
       "      <td>9.925709</td>\n",
       "      <td>-501.686727</td>\n",
       "      <td>7.894242</td>\n",
       "      <td>-500.356035</td>\n",
       "      <td>13.996647</td>\n",
       "      <td>-601.496691</td>\n",
       "    </tr>\n",
       "  </tbody>\n",
       "</table>\n",
       "</div>"
      ],
      "text/plain": [
       "                  date  final.output.concentrate_ag  \\\n",
       "0  2016-01-15 00:00:00                     6.055403   \n",
       "1  2016-01-15 01:00:00                     6.029369   \n",
       "2  2016-01-15 02:00:00                     6.055926   \n",
       "3  2016-01-15 03:00:00                     6.047977   \n",
       "4  2016-01-15 04:00:00                     6.148599   \n",
       "\n",
       "   final.output.concentrate_pb  final.output.concentrate_sol  \\\n",
       "0                     9.889648                      5.507324   \n",
       "1                     9.968944                      5.257781   \n",
       "2                    10.213995                      5.383759   \n",
       "3                     9.977019                      4.858634   \n",
       "4                    10.142511                      4.939416   \n",
       "\n",
       "   final.output.concentrate_au  final.output.recovery  final.output.tail_ag  \\\n",
       "0                    42.192020              70.541216             10.411962   \n",
       "1                    42.701629              69.266198             10.462676   \n",
       "2                    42.657501              68.116445             10.507046   \n",
       "3                    42.689819              68.347543             10.422762   \n",
       "4                    42.774141              66.927016             10.360302   \n",
       "\n",
       "   final.output.tail_pb  final.output.tail_sol  final.output.tail_au  \\\n",
       "0              0.895447              16.904297              2.143149   \n",
       "1              0.927452              16.634514              2.224930   \n",
       "2              0.953716              16.208849              2.257889   \n",
       "3              0.883763              16.532835              2.146849   \n",
       "4              0.792826              16.525686              2.055292   \n",
       "\n",
       "   primary_cleaner.input.sulfate  primary_cleaner.input.depressant  \\\n",
       "0                     127.092003                         10.128295   \n",
       "1                     125.629232                         10.296251   \n",
       "2                     123.819808                         11.316280   \n",
       "3                     122.270188                         11.322140   \n",
       "4                     117.988169                         11.913613   \n",
       "\n",
       "   primary_cleaner.input.feed_size  primary_cleaner.input.xanthate  \\\n",
       "0                             7.25                        0.988759   \n",
       "1                             7.25                        1.002663   \n",
       "2                             7.25                        0.991265   \n",
       "3                             7.25                        0.996739   \n",
       "4                             7.25                        1.009869   \n",
       "\n",
       "   primary_cleaner.output.concentrate_ag  \\\n",
       "0                               8.547551   \n",
       "1                               8.558743   \n",
       "2                               8.603505   \n",
       "3                               7.221879   \n",
       "4                               9.089428   \n",
       "\n",
       "   primary_cleaner.output.concentrate_pb  \\\n",
       "0                              10.389648   \n",
       "1                              10.497069   \n",
       "2                              10.354494   \n",
       "3                               8.496563   \n",
       "4                               9.986786   \n",
       "\n",
       "   primary_cleaner.output.concentrate_sol  \\\n",
       "0                               19.529297   \n",
       "1                               19.369147   \n",
       "2                               19.167579   \n",
       "3                               15.978538   \n",
       "4                               19.199864   \n",
       "\n",
       "   primary_cleaner.output.concentrate_au  primary_cleaner.output.tail_ag  \\\n",
       "0                              34.174427                       14.936526   \n",
       "1                              34.118526                       16.250511   \n",
       "2                              33.969464                       16.491823   \n",
       "3                              28.260743                       16.024359   \n",
       "4                              33.044932                       16.480185   \n",
       "\n",
       "   primary_cleaner.output.tail_pb  primary_cleaner.output.tail_sol  \\\n",
       "0                        2.534912                         7.476074   \n",
       "1                        3.049646                         6.733907   \n",
       "2                        3.124664                         6.471768   \n",
       "3                        2.960362                         6.843791   \n",
       "4                        3.112100                         6.550154   \n",
       "\n",
       "   primary_cleaner.output.tail_au  primary_cleaner.state.floatbank8_a_air  \\\n",
       "0                        2.106679                             1549.775757   \n",
       "1                        2.353017                             1576.166671   \n",
       "2                        2.416800                             1601.556163   \n",
       "3                        2.262051                             1599.968720   \n",
       "4                        2.277073                             1601.339707   \n",
       "\n",
       "   primary_cleaner.state.floatbank8_a_level  \\\n",
       "0                               -498.912140   \n",
       "1                               -500.904965   \n",
       "2                               -499.997791   \n",
       "3                               -500.951778   \n",
       "4                               -498.975456   \n",
       "\n",
       "   primary_cleaner.state.floatbank8_b_air  \\\n",
       "0                             1551.434204   \n",
       "1                             1575.950626   \n",
       "2                             1600.386685   \n",
       "3                             1600.659236   \n",
       "4                             1601.437854   \n",
       "\n",
       "   primary_cleaner.state.floatbank8_b_level  \\\n",
       "0                               -516.403442   \n",
       "1                               -499.865889   \n",
       "2                               -500.607762   \n",
       "3                               -499.677094   \n",
       "4                               -500.323246   \n",
       "\n",
       "   primary_cleaner.state.floatbank8_c_air  \\\n",
       "0                             1549.873901   \n",
       "1                             1575.994189   \n",
       "2                             1602.003542   \n",
       "3                             1600.304144   \n",
       "4                             1599.581894   \n",
       "\n",
       "   primary_cleaner.state.floatbank8_c_level  \\\n",
       "0                               -498.666595   \n",
       "1                               -499.315107   \n",
       "2                               -500.870069   \n",
       "3                               -500.727997   \n",
       "4                               -500.888152   \n",
       "\n",
       "   primary_cleaner.state.floatbank8_d_air  \\\n",
       "0                             1554.367432   \n",
       "1                             1574.479259   \n",
       "2                             1599.541515   \n",
       "3                             1600.449520   \n",
       "4                             1602.649541   \n",
       "\n",
       "   primary_cleaner.state.floatbank8_d_level  \\\n",
       "0                               -493.428131   \n",
       "1                               -498.931665   \n",
       "2                               -499.827444   \n",
       "3                               -500.052575   \n",
       "4                               -500.593010   \n",
       "\n",
       "   rougher.calculation.sulfate_to_au_concentrate  \\\n",
       "0                                   41885.707031   \n",
       "1                                   42050.861809   \n",
       "2                                   42018.101184   \n",
       "3                                   42029.447991   \n",
       "4                                   42125.354245   \n",
       "\n",
       "   rougher.calculation.floatbank10_sulfate_to_au_feed  \\\n",
       "0                                         3481.779053   \n",
       "1                                         3498.370979   \n",
       "2                                         3495.348910   \n",
       "3                                         3498.578313   \n",
       "4                                         3494.800771   \n",
       "\n",
       "   rougher.calculation.floatbank11_sulfate_to_au_feed  \\\n",
       "0                                         3520.337158   \n",
       "1                                         3489.981857   \n",
       "2                                         3502.359819   \n",
       "3                                         3499.162912   \n",
       "4                                         3506.679315   \n",
       "\n",
       "   rougher.calculation.au_pb_ratio  rougher.input.feed_ag  \\\n",
       "0                         2.838687               6.100378   \n",
       "1                         2.858998               6.161113   \n",
       "2                         2.945989               6.116455   \n",
       "3                         3.002340               6.043309   \n",
       "4                         3.169615               6.060915   \n",
       "\n",
       "   rougher.input.feed_pb  rougher.input.feed_rate  rougher.input.feed_size  \\\n",
       "0               2.284912               523.546326                55.486599   \n",
       "1               2.266033               525.290581                57.278666   \n",
       "2               2.159622               530.026610                57.510649   \n",
       "3               2.037807               542.590390                57.792734   \n",
       "4               1.786875               540.531893                56.047189   \n",
       "\n",
       "   rougher.input.feed_sol  rougher.input.feed_au  \\\n",
       "0               36.808594               6.486150   \n",
       "1               35.753385               6.478583   \n",
       "2               35.971630               6.362222   \n",
       "3               36.862241               6.118189   \n",
       "4               34.347666               5.663707   \n",
       "\n",
       "   rougher.input.floatbank10_sulfate  rougher.input.floatbank10_xanthate  \\\n",
       "0                          11.986616                            6.007990   \n",
       "1                          11.971193                            6.005766   \n",
       "2                          11.920603                            6.197377   \n",
       "3                          11.630094                            6.203177   \n",
       "4                          10.957755                            6.198826   \n",
       "\n",
       "   rougher.input.floatbank11_sulfate  rougher.input.floatbank11_xanthate  \\\n",
       "0                          11.836743                            6.005818   \n",
       "1                          11.996163                            6.012594   \n",
       "2                          11.920305                            6.204633   \n",
       "3                          11.692450                            6.196578   \n",
       "4                          10.960521                            6.194897   \n",
       "\n",
       "   rougher.output.concentrate_ag  rougher.output.concentrate_pb  \\\n",
       "0                      11.500771                       7.101074   \n",
       "1                      11.615865                       7.278807   \n",
       "2                      11.695753                       7.216833   \n",
       "3                      11.915047                       7.175616   \n",
       "4                      12.411054                       7.240205   \n",
       "\n",
       "   rougher.output.concentrate_sol  rougher.output.concentrate_au  \\\n",
       "0                       28.029297                      19.793808   \n",
       "1                       28.067063                      20.050975   \n",
       "2                       27.454037                      19.737170   \n",
       "3                       27.341277                      19.320810   \n",
       "4                       27.041023                      19.216101   \n",
       "\n",
       "   rougher.output.recovery  rougher.output.tail_ag  rougher.output.tail_pb  \\\n",
       "0                87.107763                5.008018                0.508728   \n",
       "1                86.843261                4.955378                0.536689   \n",
       "2                86.842308                4.843460                0.546416   \n",
       "3                87.226430                4.655288                0.542525   \n",
       "4                86.688794                4.552800                0.515438   \n",
       "\n",
       "   rougher.output.tail_sol  rougher.output.tail_au  \\\n",
       "0                19.154297                1.170244   \n",
       "1                18.965234                1.184827   \n",
       "2                18.808533                1.162562   \n",
       "3                19.330200                1.079755   \n",
       "4                19.267422                1.012642   \n",
       "\n",
       "   rougher.state.floatbank10_a_air  rougher.state.floatbank10_a_level  \\\n",
       "0                       999.706909                        -404.066986   \n",
       "1                      1000.286398                        -400.065196   \n",
       "2                       999.719565                        -400.074028   \n",
       "3                       999.814770                        -400.200179   \n",
       "4                       999.678690                        -399.752729   \n",
       "\n",
       "   rougher.state.floatbank10_b_air  rougher.state.floatbank10_b_level  \\\n",
       "0                      1603.011353                        -434.715027   \n",
       "1                      1600.754587                        -449.953435   \n",
       "2                      1599.337330                        -450.008530   \n",
       "3                      1600.059442                        -450.619948   \n",
       "4                      1600.208824                        -449.599614   \n",
       "\n",
       "   rougher.state.floatbank10_c_air  rougher.state.floatbank10_c_level  \\\n",
       "0                      1602.375000                        -442.204468   \n",
       "1                      1600.479580                        -449.830646   \n",
       "2                      1599.672797                        -449.954491   \n",
       "3                      1600.012842                        -449.910497   \n",
       "4                      1600.357732                        -450.034364   \n",
       "\n",
       "   rougher.state.floatbank10_d_air  rougher.state.floatbank10_d_level  \\\n",
       "0                      1598.937256                        -451.294128   \n",
       "1                      1600.527589                        -449.953649   \n",
       "2                      1599.849325                        -449.954185   \n",
       "3                      1597.725177                        -450.130127   \n",
       "4                      1599.759049                        -449.909799   \n",
       "\n",
       "   rougher.state.floatbank10_e_air  rougher.state.floatbank10_e_level  \\\n",
       "0                      1404.472046                        -455.462982   \n",
       "1                      1399.227084                        -450.869848   \n",
       "2                      1399.180945                        -449.937588   \n",
       "3                      1400.943157                        -450.030142   \n",
       "4                      1401.560902                        -448.877187   \n",
       "\n",
       "   rougher.state.floatbank10_f_air  rougher.state.floatbank10_f_level  \\\n",
       "0                      1416.354980                        -451.939636   \n",
       "1                      1399.719514                        -450.119001   \n",
       "2                      1400.316682                        -450.527147   \n",
       "3                      1400.234743                        -449.790835   \n",
       "4                      1401.160227                        -450.407128   \n",
       "\n",
       "   secondary_cleaner.output.tail_ag  secondary_cleaner.output.tail_pb  \\\n",
       "0                         14.500184                          4.694824   \n",
       "1                         14.265474                          4.592547   \n",
       "2                         14.115662                          4.624775   \n",
       "3                         13.732071                          4.482453   \n",
       "4                         14.079996                          4.470737   \n",
       "\n",
       "   secondary_cleaner.output.tail_sol  secondary_cleaner.output.tail_au  \\\n",
       "0                           8.764648                          2.606185   \n",
       "1                           9.001494                          2.488248   \n",
       "2                           8.842896                          2.458187   \n",
       "3                           9.122857                          2.322062   \n",
       "4                           8.871028                          2.330448   \n",
       "\n",
       "   secondary_cleaner.state.floatbank2_a_air  \\\n",
       "0                                 25.853109   \n",
       "1                                 25.880539   \n",
       "2                                 26.005245   \n",
       "3                                 25.942508   \n",
       "4                                 26.024787   \n",
       "\n",
       "   secondary_cleaner.state.floatbank2_a_level  \\\n",
       "0                                 -498.526489   \n",
       "1                                 -499.989656   \n",
       "2                                 -499.929616   \n",
       "3                                 -499.176749   \n",
       "4                                 -500.279091   \n",
       "\n",
       "   secondary_cleaner.state.floatbank2_b_air  \\\n",
       "0                                 23.893660   \n",
       "1                                 23.889530   \n",
       "2                                 23.886657   \n",
       "3                                 23.955516   \n",
       "4                                 23.955345   \n",
       "\n",
       "   secondary_cleaner.state.floatbank2_b_level  \\\n",
       "0                                 -501.406281   \n",
       "1                                 -500.372428   \n",
       "2                                 -499.951928   \n",
       "3                                 -499.848796   \n",
       "4                                 -500.593614   \n",
       "\n",
       "   secondary_cleaner.state.floatbank3_a_air  \\\n",
       "0                                 23.961798   \n",
       "1                                 23.970550   \n",
       "2                                 23.913535   \n",
       "3                                 23.966838   \n",
       "4                                 23.985703   \n",
       "\n",
       "   secondary_cleaner.state.floatbank3_a_level  \\\n",
       "0                                 -495.262817   \n",
       "1                                 -500.085473   \n",
       "2                                 -499.442343   \n",
       "3                                 -500.008812   \n",
       "4                                 -500.083811   \n",
       "\n",
       "   secondary_cleaner.state.floatbank3_b_air  \\\n",
       "0                                 21.940409   \n",
       "1                                 22.085714   \n",
       "2                                 23.957717   \n",
       "3                                 23.954443   \n",
       "4                                 23.958945   \n",
       "\n",
       "   secondary_cleaner.state.floatbank3_b_level  \\\n",
       "0                                 -499.340973   \n",
       "1                                 -499.446897   \n",
       "2                                 -499.901982   \n",
       "3                                 -499.944710   \n",
       "4                                 -499.990309   \n",
       "\n",
       "   secondary_cleaner.state.floatbank4_a_air  \\\n",
       "0                                 14.016835   \n",
       "1                                 13.992281   \n",
       "2                                 14.015015   \n",
       "3                                 14.036510   \n",
       "4                                 14.027298   \n",
       "\n",
       "   secondary_cleaner.state.floatbank4_a_level  \\\n",
       "0                                 -502.488007   \n",
       "1                                 -505.503262   \n",
       "2                                 -502.520901   \n",
       "3                                 -500.857308   \n",
       "4                                 -499.838632   \n",
       "\n",
       "   secondary_cleaner.state.floatbank4_b_air  \\\n",
       "0                                 12.099931   \n",
       "1                                 11.950531   \n",
       "2                                 11.912783   \n",
       "3                                 11.999550   \n",
       "4                                 11.953070   \n",
       "\n",
       "   secondary_cleaner.state.floatbank4_b_level  \\\n",
       "0                                 -504.715942   \n",
       "1                                 -501.331529   \n",
       "2                                 -501.133383   \n",
       "3                                 -501.193686   \n",
       "4                                 -501.053894   \n",
       "\n",
       "   secondary_cleaner.state.floatbank5_a_air  \\\n",
       "0                                  9.925633   \n",
       "1                                 10.039245   \n",
       "2                                 10.070913   \n",
       "3                                  9.970366   \n",
       "4                                  9.925709   \n",
       "\n",
       "   secondary_cleaner.state.floatbank5_a_level  \\\n",
       "0                                 -498.310211   \n",
       "1                                 -500.169983   \n",
       "2                                 -500.129135   \n",
       "3                                 -499.201640   \n",
       "4                                 -501.686727   \n",
       "\n",
       "   secondary_cleaner.state.floatbank5_b_air  \\\n",
       "0                                  8.079666   \n",
       "1                                  7.984757   \n",
       "2                                  8.013877   \n",
       "3                                  7.977324   \n",
       "4                                  7.894242   \n",
       "\n",
       "   secondary_cleaner.state.floatbank5_b_level  \\\n",
       "0                                 -500.470978   \n",
       "1                                 -500.582168   \n",
       "2                                 -500.517572   \n",
       "3                                 -500.255908   \n",
       "4                                 -500.356035   \n",
       "\n",
       "   secondary_cleaner.state.floatbank6_a_air  \\\n",
       "0                                 14.151341   \n",
       "1                                 13.998353   \n",
       "2                                 14.028663   \n",
       "3                                 14.005551   \n",
       "4                                 13.996647   \n",
       "\n",
       "   secondary_cleaner.state.floatbank6_a_level  \n",
       "0                                 -605.841980  \n",
       "1                                 -599.787184  \n",
       "2                                 -601.427363  \n",
       "3                                 -599.996129  \n",
       "4                                 -601.496691  "
      ]
     },
     "metadata": {},
     "output_type": "display_data"
    }
   ],
   "source": [
    "# получение первых пяти строк таблиц\n",
    "display(df_gr_train.head())\n",
    "display(df_gr_test.head())\n",
    "display(df_gr_full.head())"
   ]
  },
  {
   "cell_type": "markdown",
   "metadata": {},
   "source": [
    "**Описание данных**"
   ]
  },
  {
   "cell_type": "markdown",
   "metadata": {},
   "source": [
    "*Технологический процесс:*    \n",
    "* Rougher feed — исходное сырье;    \n",
    "* Rougher additions (или reagent additions) — флотационные реагенты: Xanthate, Sulphate, Depressant;    \n",
    "o\tXanthate — ксантогенат (промотер, или активатор флотации);    \n",
    "o\tSulphate — сульфат (на данном производстве сульфид натрия);    \n",
    "o\tDepressant — депрессант (силикат натрия).    \n",
    "* Rougher process (англ. «грубый процесс») — флотация;    \n",
    "* Rougher tails — отвальные хвосты;    \n",
    "* Float banks — флотационная установка;    \n",
    "* Cleaner process — очистка;    \n",
    "* Rougher Au — черновой концентрат золота;    \n",
    "* Final Au — финальный концентрат золота.       \n",
    "\n",
    "*Параметры этапов:*    \n",
    "* air amount — объём воздуха;    \n",
    "* fluid levels — уровень жидкости;    \n",
    "* feed size — размер гранул сырья;    \n",
    "* feed rate — скорость подачи.\n",
    "\n",
    "*Наименование признаков:*    \n",
    "\n",
    "Наименование признаков должно быть такое: `[этап].[тип_параметра].[название_параметра]`    \n",
    "Пример: rougher.input.feed_ag    \n",
    "\n",
    "Возможные значения для блока `[этап]`:        \n",
    "* rougher — флотация;    \n",
    "* primary_cleaner — первичная очистка;    \n",
    "* secondary_cleaner — вторичная очистка;    \n",
    "* final — финальные характеристики;    \n",
    "\n",
    "Возможные значения для блока `[тип_параметра]`:    \n",
    "* input — параметры сырья;\n",
    "* output — параметры продукта;\n",
    "* state — параметры, характеризующие текущее состояние этапа;\n",
    "* calculation — расчётные характеристики."
   ]
  },
  {
   "cell_type": "code",
   "execution_count": 5,
   "metadata": {
    "scrolled": false
   },
   "outputs": [
    {
     "name": "stdout",
     "output_type": "stream",
     "text": [
      "<class 'pandas.core.frame.DataFrame'>\n",
      "RangeIndex: 14149 entries, 0 to 14148\n",
      "Data columns (total 87 columns):\n",
      " #   Column                                              Non-Null Count  Dtype  \n",
      "---  ------                                              --------------  -----  \n",
      " 0   date                                                14149 non-null  object \n",
      " 1   final.output.concentrate_ag                         14148 non-null  float64\n",
      " 2   final.output.concentrate_pb                         14148 non-null  float64\n",
      " 3   final.output.concentrate_sol                        13938 non-null  float64\n",
      " 4   final.output.concentrate_au                         14149 non-null  float64\n",
      " 5   final.output.recovery                               14149 non-null  float64\n",
      " 6   final.output.tail_ag                                14149 non-null  float64\n",
      " 7   final.output.tail_pb                                14049 non-null  float64\n",
      " 8   final.output.tail_sol                               14144 non-null  float64\n",
      " 9   final.output.tail_au                                14149 non-null  float64\n",
      " 10  primary_cleaner.input.sulfate                       14129 non-null  float64\n",
      " 11  primary_cleaner.input.depressant                    14117 non-null  float64\n",
      " 12  primary_cleaner.input.feed_size                     14149 non-null  float64\n",
      " 13  primary_cleaner.input.xanthate                      14049 non-null  float64\n",
      " 14  primary_cleaner.output.concentrate_ag               14149 non-null  float64\n",
      " 15  primary_cleaner.output.concentrate_pb               14063 non-null  float64\n",
      " 16  primary_cleaner.output.concentrate_sol              13863 non-null  float64\n",
      " 17  primary_cleaner.output.concentrate_au               14149 non-null  float64\n",
      " 18  primary_cleaner.output.tail_ag                      14148 non-null  float64\n",
      " 19  primary_cleaner.output.tail_pb                      14134 non-null  float64\n",
      " 20  primary_cleaner.output.tail_sol                     14103 non-null  float64\n",
      " 21  primary_cleaner.output.tail_au                      14149 non-null  float64\n",
      " 22  primary_cleaner.state.floatbank8_a_air              14145 non-null  float64\n",
      " 23  primary_cleaner.state.floatbank8_a_level            14148 non-null  float64\n",
      " 24  primary_cleaner.state.floatbank8_b_air              14145 non-null  float64\n",
      " 25  primary_cleaner.state.floatbank8_b_level            14148 non-null  float64\n",
      " 26  primary_cleaner.state.floatbank8_c_air              14147 non-null  float64\n",
      " 27  primary_cleaner.state.floatbank8_c_level            14148 non-null  float64\n",
      " 28  primary_cleaner.state.floatbank8_d_air              14146 non-null  float64\n",
      " 29  primary_cleaner.state.floatbank8_d_level            14148 non-null  float64\n",
      " 30  rougher.calculation.sulfate_to_au_concentrate       14148 non-null  float64\n",
      " 31  rougher.calculation.floatbank10_sulfate_to_au_feed  14148 non-null  float64\n",
      " 32  rougher.calculation.floatbank11_sulfate_to_au_feed  14148 non-null  float64\n",
      " 33  rougher.calculation.au_pb_ratio                     14149 non-null  float64\n",
      " 34  rougher.input.feed_ag                               14149 non-null  float64\n",
      " 35  rougher.input.feed_pb                               14049 non-null  float64\n",
      " 36  rougher.input.feed_rate                             14141 non-null  float64\n",
      " 37  rougher.input.feed_size                             14005 non-null  float64\n",
      " 38  rougher.input.feed_sol                              14071 non-null  float64\n",
      " 39  rougher.input.feed_au                               14149 non-null  float64\n",
      " 40  rougher.input.floatbank10_sulfate                   14120 non-null  float64\n",
      " 41  rougher.input.floatbank10_xanthate                  14141 non-null  float64\n",
      " 42  rougher.input.floatbank11_sulfate                   14113 non-null  float64\n",
      " 43  rougher.input.floatbank11_xanthate                  13721 non-null  float64\n",
      " 44  rougher.output.concentrate_ag                       14149 non-null  float64\n",
      " 45  rougher.output.concentrate_pb                       14149 non-null  float64\n",
      " 46  rougher.output.concentrate_sol                      14127 non-null  float64\n",
      " 47  rougher.output.concentrate_au                       14149 non-null  float64\n",
      " 48  rougher.output.recovery                             14149 non-null  float64\n",
      " 49  rougher.output.tail_ag                              14148 non-null  float64\n",
      " 50  rougher.output.tail_pb                              14149 non-null  float64\n",
      " 51  rougher.output.tail_sol                             14149 non-null  float64\n",
      " 52  rougher.output.tail_au                              14149 non-null  float64\n",
      " 53  rougher.state.floatbank10_a_air                     14148 non-null  float64\n",
      " 54  rougher.state.floatbank10_a_level                   14148 non-null  float64\n",
      " 55  rougher.state.floatbank10_b_air                     14148 non-null  float64\n",
      " 56  rougher.state.floatbank10_b_level                   14148 non-null  float64\n",
      " 57  rougher.state.floatbank10_c_air                     14148 non-null  float64\n",
      " 58  rougher.state.floatbank10_c_level                   14148 non-null  float64\n",
      " 59  rougher.state.floatbank10_d_air                     14149 non-null  float64\n",
      " 60  rougher.state.floatbank10_d_level                   14149 non-null  float64\n",
      " 61  rougher.state.floatbank10_e_air                     13713 non-null  float64\n",
      " 62  rougher.state.floatbank10_e_level                   14149 non-null  float64\n",
      " 63  rougher.state.floatbank10_f_air                     14149 non-null  float64\n",
      " 64  rougher.state.floatbank10_f_level                   14149 non-null  float64\n",
      " 65  secondary_cleaner.output.tail_ag                    14147 non-null  float64\n",
      " 66  secondary_cleaner.output.tail_pb                    14139 non-null  float64\n",
      " 67  secondary_cleaner.output.tail_sol                   12544 non-null  float64\n",
      " 68  secondary_cleaner.output.tail_au                    14149 non-null  float64\n",
      " 69  secondary_cleaner.state.floatbank2_a_air            13932 non-null  float64\n",
      " 70  secondary_cleaner.state.floatbank2_a_level          14148 non-null  float64\n",
      " 71  secondary_cleaner.state.floatbank2_b_air            14128 non-null  float64\n",
      " 72  secondary_cleaner.state.floatbank2_b_level          14148 non-null  float64\n",
      " 73  secondary_cleaner.state.floatbank3_a_air            14145 non-null  float64\n",
      " 74  secondary_cleaner.state.floatbank3_a_level          14148 non-null  float64\n",
      " 75  secondary_cleaner.state.floatbank3_b_air            14148 non-null  float64\n",
      " 76  secondary_cleaner.state.floatbank3_b_level          14148 non-null  float64\n",
      " 77  secondary_cleaner.state.floatbank4_a_air            14143 non-null  float64\n",
      " 78  secondary_cleaner.state.floatbank4_a_level          14148 non-null  float64\n",
      " 79  secondary_cleaner.state.floatbank4_b_air            14148 non-null  float64\n",
      " 80  secondary_cleaner.state.floatbank4_b_level          14148 non-null  float64\n",
      " 81  secondary_cleaner.state.floatbank5_a_air            14148 non-null  float64\n",
      " 82  secondary_cleaner.state.floatbank5_a_level          14148 non-null  float64\n",
      " 83  secondary_cleaner.state.floatbank5_b_air            14148 non-null  float64\n",
      " 84  secondary_cleaner.state.floatbank5_b_level          14148 non-null  float64\n",
      " 85  secondary_cleaner.state.floatbank6_a_air            14147 non-null  float64\n",
      " 86  secondary_cleaner.state.floatbank6_a_level          14148 non-null  float64\n",
      "dtypes: float64(86), object(1)\n",
      "memory usage: 9.4+ MB\n"
     ]
    }
   ],
   "source": [
    "# подсчёт доли пропусков \n",
    "df_gr_train.info()"
   ]
  },
  {
   "cell_type": "code",
   "execution_count": 6,
   "metadata": {},
   "outputs": [
    {
     "name": "stdout",
     "output_type": "stream",
     "text": [
      "<class 'pandas.core.frame.DataFrame'>\n",
      "RangeIndex: 5290 entries, 0 to 5289\n",
      "Data columns (total 53 columns):\n",
      " #   Column                                      Non-Null Count  Dtype  \n",
      "---  ------                                      --------------  -----  \n",
      " 0   date                                        5290 non-null   object \n",
      " 1   primary_cleaner.input.sulfate               5286 non-null   float64\n",
      " 2   primary_cleaner.input.depressant            5285 non-null   float64\n",
      " 3   primary_cleaner.input.feed_size             5290 non-null   float64\n",
      " 4   primary_cleaner.input.xanthate              5286 non-null   float64\n",
      " 5   primary_cleaner.state.floatbank8_a_air      5290 non-null   float64\n",
      " 6   primary_cleaner.state.floatbank8_a_level    5290 non-null   float64\n",
      " 7   primary_cleaner.state.floatbank8_b_air      5290 non-null   float64\n",
      " 8   primary_cleaner.state.floatbank8_b_level    5290 non-null   float64\n",
      " 9   primary_cleaner.state.floatbank8_c_air      5290 non-null   float64\n",
      " 10  primary_cleaner.state.floatbank8_c_level    5290 non-null   float64\n",
      " 11  primary_cleaner.state.floatbank8_d_air      5290 non-null   float64\n",
      " 12  primary_cleaner.state.floatbank8_d_level    5290 non-null   float64\n",
      " 13  rougher.input.feed_ag                       5290 non-null   float64\n",
      " 14  rougher.input.feed_pb                       5290 non-null   float64\n",
      " 15  rougher.input.feed_rate                     5287 non-null   float64\n",
      " 16  rougher.input.feed_size                     5289 non-null   float64\n",
      " 17  rougher.input.feed_sol                      5269 non-null   float64\n",
      " 18  rougher.input.feed_au                       5290 non-null   float64\n",
      " 19  rougher.input.floatbank10_sulfate           5285 non-null   float64\n",
      " 20  rougher.input.floatbank10_xanthate          5290 non-null   float64\n",
      " 21  rougher.input.floatbank11_sulfate           5282 non-null   float64\n",
      " 22  rougher.input.floatbank11_xanthate          5265 non-null   float64\n",
      " 23  rougher.state.floatbank10_a_air             5290 non-null   float64\n",
      " 24  rougher.state.floatbank10_a_level           5290 non-null   float64\n",
      " 25  rougher.state.floatbank10_b_air             5290 non-null   float64\n",
      " 26  rougher.state.floatbank10_b_level           5290 non-null   float64\n",
      " 27  rougher.state.floatbank10_c_air             5290 non-null   float64\n",
      " 28  rougher.state.floatbank10_c_level           5290 non-null   float64\n",
      " 29  rougher.state.floatbank10_d_air             5290 non-null   float64\n",
      " 30  rougher.state.floatbank10_d_level           5290 non-null   float64\n",
      " 31  rougher.state.floatbank10_e_air             5290 non-null   float64\n",
      " 32  rougher.state.floatbank10_e_level           5290 non-null   float64\n",
      " 33  rougher.state.floatbank10_f_air             5290 non-null   float64\n",
      " 34  rougher.state.floatbank10_f_level           5290 non-null   float64\n",
      " 35  secondary_cleaner.state.floatbank2_a_air    5287 non-null   float64\n",
      " 36  secondary_cleaner.state.floatbank2_a_level  5290 non-null   float64\n",
      " 37  secondary_cleaner.state.floatbank2_b_air    5288 non-null   float64\n",
      " 38  secondary_cleaner.state.floatbank2_b_level  5290 non-null   float64\n",
      " 39  secondary_cleaner.state.floatbank3_a_air    5281 non-null   float64\n",
      " 40  secondary_cleaner.state.floatbank3_a_level  5290 non-null   float64\n",
      " 41  secondary_cleaner.state.floatbank3_b_air    5290 non-null   float64\n",
      " 42  secondary_cleaner.state.floatbank3_b_level  5290 non-null   float64\n",
      " 43  secondary_cleaner.state.floatbank4_a_air    5290 non-null   float64\n",
      " 44  secondary_cleaner.state.floatbank4_a_level  5290 non-null   float64\n",
      " 45  secondary_cleaner.state.floatbank4_b_air    5290 non-null   float64\n",
      " 46  secondary_cleaner.state.floatbank4_b_level  5290 non-null   float64\n",
      " 47  secondary_cleaner.state.floatbank5_a_air    5290 non-null   float64\n",
      " 48  secondary_cleaner.state.floatbank5_a_level  5290 non-null   float64\n",
      " 49  secondary_cleaner.state.floatbank5_b_air    5290 non-null   float64\n",
      " 50  secondary_cleaner.state.floatbank5_b_level  5290 non-null   float64\n",
      " 51  secondary_cleaner.state.floatbank6_a_air    5290 non-null   float64\n",
      " 52  secondary_cleaner.state.floatbank6_a_level  5290 non-null   float64\n",
      "dtypes: float64(52), object(1)\n",
      "memory usage: 2.1+ MB\n"
     ]
    }
   ],
   "source": [
    "# подсчёт доли пропусков \n",
    "df_gr_test.info()"
   ]
  },
  {
   "cell_type": "code",
   "execution_count": 7,
   "metadata": {},
   "outputs": [
    {
     "name": "stdout",
     "output_type": "stream",
     "text": [
      "<class 'pandas.core.frame.DataFrame'>\n",
      "RangeIndex: 19439 entries, 0 to 19438\n",
      "Data columns (total 87 columns):\n",
      " #   Column                                              Non-Null Count  Dtype  \n",
      "---  ------                                              --------------  -----  \n",
      " 0   date                                                19439 non-null  object \n",
      " 1   final.output.concentrate_ag                         19438 non-null  float64\n",
      " 2   final.output.concentrate_pb                         19438 non-null  float64\n",
      " 3   final.output.concentrate_sol                        19228 non-null  float64\n",
      " 4   final.output.concentrate_au                         19439 non-null  float64\n",
      " 5   final.output.recovery                               19439 non-null  float64\n",
      " 6   final.output.tail_ag                                19438 non-null  float64\n",
      " 7   final.output.tail_pb                                19338 non-null  float64\n",
      " 8   final.output.tail_sol                               19433 non-null  float64\n",
      " 9   final.output.tail_au                                19439 non-null  float64\n",
      " 10  primary_cleaner.input.sulfate                       19415 non-null  float64\n",
      " 11  primary_cleaner.input.depressant                    19402 non-null  float64\n",
      " 12  primary_cleaner.input.feed_size                     19439 non-null  float64\n",
      " 13  primary_cleaner.input.xanthate                      19335 non-null  float64\n",
      " 14  primary_cleaner.output.concentrate_ag               19439 non-null  float64\n",
      " 15  primary_cleaner.output.concentrate_pb               19323 non-null  float64\n",
      " 16  primary_cleaner.output.concentrate_sol              19069 non-null  float64\n",
      " 17  primary_cleaner.output.concentrate_au               19439 non-null  float64\n",
      " 18  primary_cleaner.output.tail_ag                      19435 non-null  float64\n",
      " 19  primary_cleaner.output.tail_pb                      19418 non-null  float64\n",
      " 20  primary_cleaner.output.tail_sol                     19377 non-null  float64\n",
      " 21  primary_cleaner.output.tail_au                      19439 non-null  float64\n",
      " 22  primary_cleaner.state.floatbank8_a_air              19435 non-null  float64\n",
      " 23  primary_cleaner.state.floatbank8_a_level            19438 non-null  float64\n",
      " 24  primary_cleaner.state.floatbank8_b_air              19435 non-null  float64\n",
      " 25  primary_cleaner.state.floatbank8_b_level            19438 non-null  float64\n",
      " 26  primary_cleaner.state.floatbank8_c_air              19437 non-null  float64\n",
      " 27  primary_cleaner.state.floatbank8_c_level            19438 non-null  float64\n",
      " 28  primary_cleaner.state.floatbank8_d_air              19436 non-null  float64\n",
      " 29  primary_cleaner.state.floatbank8_d_level            19438 non-null  float64\n",
      " 30  rougher.calculation.sulfate_to_au_concentrate       19437 non-null  float64\n",
      " 31  rougher.calculation.floatbank10_sulfate_to_au_feed  19437 non-null  float64\n",
      " 32  rougher.calculation.floatbank11_sulfate_to_au_feed  19437 non-null  float64\n",
      " 33  rougher.calculation.au_pb_ratio                     19439 non-null  float64\n",
      " 34  rougher.input.feed_ag                               19439 non-null  float64\n",
      " 35  rougher.input.feed_pb                               19339 non-null  float64\n",
      " 36  rougher.input.feed_rate                             19428 non-null  float64\n",
      " 37  rougher.input.feed_size                             19294 non-null  float64\n",
      " 38  rougher.input.feed_sol                              19340 non-null  float64\n",
      " 39  rougher.input.feed_au                               19439 non-null  float64\n",
      " 40  rougher.input.floatbank10_sulfate                   19405 non-null  float64\n",
      " 41  rougher.input.floatbank10_xanthate                  19431 non-null  float64\n",
      " 42  rougher.input.floatbank11_sulfate                   19395 non-null  float64\n",
      " 43  rougher.input.floatbank11_xanthate                  18986 non-null  float64\n",
      " 44  rougher.output.concentrate_ag                       19439 non-null  float64\n",
      " 45  rougher.output.concentrate_pb                       19439 non-null  float64\n",
      " 46  rougher.output.concentrate_sol                      19416 non-null  float64\n",
      " 47  rougher.output.concentrate_au                       19439 non-null  float64\n",
      " 48  rougher.output.recovery                             19439 non-null  float64\n",
      " 49  rougher.output.tail_ag                              19438 non-null  float64\n",
      " 50  rougher.output.tail_pb                              19439 non-null  float64\n",
      " 51  rougher.output.tail_sol                             19439 non-null  float64\n",
      " 52  rougher.output.tail_au                              19439 non-null  float64\n",
      " 53  rougher.state.floatbank10_a_air                     19438 non-null  float64\n",
      " 54  rougher.state.floatbank10_a_level                   19438 non-null  float64\n",
      " 55  rougher.state.floatbank10_b_air                     19438 non-null  float64\n",
      " 56  rougher.state.floatbank10_b_level                   19438 non-null  float64\n",
      " 57  rougher.state.floatbank10_c_air                     19438 non-null  float64\n",
      " 58  rougher.state.floatbank10_c_level                   19438 non-null  float64\n",
      " 59  rougher.state.floatbank10_d_air                     19439 non-null  float64\n",
      " 60  rougher.state.floatbank10_d_level                   19439 non-null  float64\n",
      " 61  rougher.state.floatbank10_e_air                     19003 non-null  float64\n",
      " 62  rougher.state.floatbank10_e_level                   19439 non-null  float64\n",
      " 63  rougher.state.floatbank10_f_air                     19439 non-null  float64\n",
      " 64  rougher.state.floatbank10_f_level                   19439 non-null  float64\n",
      " 65  secondary_cleaner.output.tail_ag                    19437 non-null  float64\n",
      " 66  secondary_cleaner.output.tail_pb                    19427 non-null  float64\n",
      " 67  secondary_cleaner.output.tail_sol                   17691 non-null  float64\n",
      " 68  secondary_cleaner.output.tail_au                    19439 non-null  float64\n",
      " 69  secondary_cleaner.state.floatbank2_a_air            19219 non-null  float64\n",
      " 70  secondary_cleaner.state.floatbank2_a_level          19438 non-null  float64\n",
      " 71  secondary_cleaner.state.floatbank2_b_air            19416 non-null  float64\n",
      " 72  secondary_cleaner.state.floatbank2_b_level          19438 non-null  float64\n",
      " 73  secondary_cleaner.state.floatbank3_a_air            19426 non-null  float64\n",
      " 74  secondary_cleaner.state.floatbank3_a_level          19438 non-null  float64\n",
      " 75  secondary_cleaner.state.floatbank3_b_air            19438 non-null  float64\n",
      " 76  secondary_cleaner.state.floatbank3_b_level          19438 non-null  float64\n",
      " 77  secondary_cleaner.state.floatbank4_a_air            19433 non-null  float64\n",
      " 78  secondary_cleaner.state.floatbank4_a_level          19438 non-null  float64\n",
      " 79  secondary_cleaner.state.floatbank4_b_air            19438 non-null  float64\n",
      " 80  secondary_cleaner.state.floatbank4_b_level          19438 non-null  float64\n",
      " 81  secondary_cleaner.state.floatbank5_a_air            19438 non-null  float64\n",
      " 82  secondary_cleaner.state.floatbank5_a_level          19438 non-null  float64\n",
      " 83  secondary_cleaner.state.floatbank5_b_air            19438 non-null  float64\n",
      " 84  secondary_cleaner.state.floatbank5_b_level          19438 non-null  float64\n",
      " 85  secondary_cleaner.state.floatbank6_a_air            19437 non-null  float64\n",
      " 86  secondary_cleaner.state.floatbank6_a_level          19438 non-null  float64\n",
      "dtypes: float64(86), object(1)\n",
      "memory usage: 12.9+ MB\n"
     ]
    }
   ],
   "source": [
    "# подсчёт доли пропусков \n",
    "df_gr_full.info()"
   ]
  },
  {
   "cell_type": "markdown",
   "metadata": {},
   "source": [
    "💡\n",
    "В данных содержатся пропуски — обработаем их на этапе создания модели."
   ]
  },
  {
   "cell_type": "markdown",
   "metadata": {},
   "source": [
    "### Проверка расчета Recovery в исходном наборе данных"
   ]
  },
  {
   "cell_type": "markdown",
   "metadata": {},
   "source": [
    "Проверим правильность расчета эффективности обогащения на обучающей выборке для признака `rougher.output.recovery`.    \n",
    "\n",
    "$$Recovery = (C*(F-T))/(F*(C-T))*100,где: $$   \n",
    "\n",
    "* C — доля золота в концентрате после флотации/очистки (`rougher.output.concentrate_au`);\n",
    "* F — доля золота в сырье/концентрате до флотации/очистки (`rougher.input.feed_au`);\n",
    "* T — доля золота в отвальных хвостах после флотации/очистки (`rougher.output.tail_au`).    \n",
    "\n",
    "Далее, найдем MAE между проведенными расчётами и значением признака:"
   ]
  },
  {
   "cell_type": "code",
   "execution_count": 8,
   "metadata": {},
   "outputs": [],
   "source": [
    "C = df_gr_train['rougher.output.concentrate_au']\n",
    "F = df_gr_train['rougher.input.feed_au']\n",
    "T = df_gr_train['rougher.output.tail_au']"
   ]
  },
  {
   "cell_type": "code",
   "execution_count": 9,
   "metadata": {},
   "outputs": [],
   "source": [
    "df_gr_train['rougher.output.recovery.calculation'] = (C*(F-T))/(F*(C-T))*100"
   ]
  },
  {
   "cell_type": "code",
   "execution_count": 10,
   "metadata": {},
   "outputs": [
    {
     "name": "stdout",
     "output_type": "stream",
     "text": [
      "Среднее Recovery в тестовой выборке: 82.7\n"
     ]
    }
   ],
   "source": [
    "print('Среднее Recovery в тестовой выборке:', round(df_gr_train['rougher.output.recovery.calculation'].mean(), 1))"
   ]
  },
  {
   "cell_type": "code",
   "execution_count": 11,
   "metadata": {},
   "outputs": [
    {
     "name": "stdout",
     "output_type": "stream",
     "text": [
      "MAE 0.0\n"
     ]
    }
   ],
   "source": [
    "mae = mean_absolute_error(df_gr_train['rougher.output.recovery'], df_gr_train['rougher.output.recovery.calculation'])\n",
    "print('MAE', mae.round(1))"
   ]
  },
  {
   "cell_type": "code",
   "execution_count": 12,
   "metadata": {},
   "outputs": [],
   "source": [
    "df_gr_train.drop('rougher.output.recovery.calculation', axis=1, inplace=True)"
   ]
  },
  {
   "cell_type": "markdown",
   "metadata": {},
   "source": [
    "💡 Среднее абсолютное отклонение (MAE) Recovery, посчитанного нами для обучающей выборки, и Recovery, содержащимся в датасете, равно нулю, что говорит о правильности исходнодого расчета эффективности обогащения."
   ]
  },
  {
   "cell_type": "markdown",
   "metadata": {},
   "source": [
    "### Анализ признаков, недоступных в тестовой выборке"
   ]
  },
  {
   "cell_type": "markdown",
   "metadata": {},
   "source": [
    "Посчитаем количество признаков, недоступных в тестовой выборке:"
   ]
  },
  {
   "cell_type": "code",
   "execution_count": 13,
   "metadata": {
    "scrolled": false
   },
   "outputs": [
    {
     "data": {
      "text/plain": [
       "['primary_cleaner.output.concentrate_au',\n",
       " 'rougher.output.concentrate_pb',\n",
       " 'primary_cleaner.output.tail_ag',\n",
       " 'rougher.calculation.sulfate_to_au_concentrate',\n",
       " 'secondary_cleaner.output.tail_sol',\n",
       " 'rougher.calculation.floatbank10_sulfate_to_au_feed',\n",
       " 'final.output.tail_ag',\n",
       " 'rougher.calculation.floatbank11_sulfate_to_au_feed',\n",
       " 'rougher.output.concentrate_sol',\n",
       " 'rougher.output.concentrate_au',\n",
       " 'final.output.recovery',\n",
       " 'final.output.concentrate_ag',\n",
       " 'final.output.tail_au',\n",
       " 'rougher.output.tail_au',\n",
       " 'primary_cleaner.output.concentrate_ag',\n",
       " 'primary_cleaner.output.concentrate_pb',\n",
       " 'primary_cleaner.output.tail_sol',\n",
       " 'secondary_cleaner.output.tail_ag',\n",
       " 'rougher.output.tail_sol',\n",
       " 'rougher.output.tail_ag',\n",
       " 'primary_cleaner.output.tail_pb',\n",
       " 'primary_cleaner.output.concentrate_sol',\n",
       " 'secondary_cleaner.output.tail_au',\n",
       " 'rougher.calculation.au_pb_ratio',\n",
       " 'final.output.concentrate_sol',\n",
       " 'final.output.concentrate_pb',\n",
       " 'secondary_cleaner.output.tail_pb',\n",
       " 'final.output.concentrate_au',\n",
       " 'primary_cleaner.output.tail_au',\n",
       " 'final.output.tail_sol',\n",
       " 'rougher.output.tail_pb',\n",
       " 'rougher.output.concentrate_ag',\n",
       " 'final.output.tail_pb',\n",
       " 'rougher.output.recovery']"
      ]
     },
     "execution_count": 13,
     "metadata": {},
     "output_type": "execute_result"
    }
   ],
   "source": [
    "# Недоступные признаки в тестовой выборке\n",
    "missing_columns = list(set(df_gr_train.columns) - set(df_gr_test.columns))\n",
    "missing_columns"
   ]
  },
  {
   "cell_type": "code",
   "execution_count": 14,
   "metadata": {},
   "outputs": [
    {
     "data": {
      "text/plain": [
       "34"
      ]
     },
     "execution_count": 14,
     "metadata": {},
     "output_type": "execute_result"
    }
   ],
   "source": [
    "len(missing_columns)"
   ]
  },
  {
   "cell_type": "markdown",
   "metadata": {},
   "source": [
    "💡 В тестовой выборке отсутствуют 34 признака. В основном эти признаки относятся либо к промежуточным расчетным параметрам (calculation), либо к параметрам выходного продукта (output), замеряемым значительно позже технологического процесса (флотации). Данные признаки для построения модели предсказаний нам не нужны, поэтому их лучше удалить из тренировочной выборки:"
   ]
  },
  {
   "cell_type": "code",
   "execution_count": 15,
   "metadata": {},
   "outputs": [],
   "source": [
    "# Удалим отсутствующие столбцы из train'a\n",
    "df_gr_train.drop(missing_columns, axis=1, inplace=True)"
   ]
  },
  {
   "cell_type": "markdown",
   "metadata": {},
   "source": [
    "### Обработка данных"
   ]
  },
  {
   "cell_type": "markdown",
   "metadata": {},
   "source": [
    "**Приведение данных к корректному типу**"
   ]
  },
  {
   "cell_type": "code",
   "execution_count": 16,
   "metadata": {
    "scrolled": false
   },
   "outputs": [
    {
     "data": {
      "text/plain": [
       "date                                           object\n",
       "primary_cleaner.input.sulfate                 float64\n",
       "primary_cleaner.input.depressant              float64\n",
       "primary_cleaner.input.feed_size               float64\n",
       "primary_cleaner.input.xanthate                float64\n",
       "primary_cleaner.state.floatbank8_a_air        float64\n",
       "primary_cleaner.state.floatbank8_a_level      float64\n",
       "primary_cleaner.state.floatbank8_b_air        float64\n",
       "primary_cleaner.state.floatbank8_b_level      float64\n",
       "primary_cleaner.state.floatbank8_c_air        float64\n",
       "primary_cleaner.state.floatbank8_c_level      float64\n",
       "primary_cleaner.state.floatbank8_d_air        float64\n",
       "primary_cleaner.state.floatbank8_d_level      float64\n",
       "rougher.input.feed_ag                         float64\n",
       "rougher.input.feed_pb                         float64\n",
       "rougher.input.feed_rate                       float64\n",
       "rougher.input.feed_size                       float64\n",
       "rougher.input.feed_sol                        float64\n",
       "rougher.input.feed_au                         float64\n",
       "rougher.input.floatbank10_sulfate             float64\n",
       "rougher.input.floatbank10_xanthate            float64\n",
       "rougher.input.floatbank11_sulfate             float64\n",
       "rougher.input.floatbank11_xanthate            float64\n",
       "rougher.state.floatbank10_a_air               float64\n",
       "rougher.state.floatbank10_a_level             float64\n",
       "rougher.state.floatbank10_b_air               float64\n",
       "rougher.state.floatbank10_b_level             float64\n",
       "rougher.state.floatbank10_c_air               float64\n",
       "rougher.state.floatbank10_c_level             float64\n",
       "rougher.state.floatbank10_d_air               float64\n",
       "rougher.state.floatbank10_d_level             float64\n",
       "rougher.state.floatbank10_e_air               float64\n",
       "rougher.state.floatbank10_e_level             float64\n",
       "rougher.state.floatbank10_f_air               float64\n",
       "rougher.state.floatbank10_f_level             float64\n",
       "secondary_cleaner.state.floatbank2_a_air      float64\n",
       "secondary_cleaner.state.floatbank2_a_level    float64\n",
       "secondary_cleaner.state.floatbank2_b_air      float64\n",
       "secondary_cleaner.state.floatbank2_b_level    float64\n",
       "secondary_cleaner.state.floatbank3_a_air      float64\n",
       "secondary_cleaner.state.floatbank3_a_level    float64\n",
       "secondary_cleaner.state.floatbank3_b_air      float64\n",
       "secondary_cleaner.state.floatbank3_b_level    float64\n",
       "secondary_cleaner.state.floatbank4_a_air      float64\n",
       "secondary_cleaner.state.floatbank4_a_level    float64\n",
       "secondary_cleaner.state.floatbank4_b_air      float64\n",
       "secondary_cleaner.state.floatbank4_b_level    float64\n",
       "secondary_cleaner.state.floatbank5_a_air      float64\n",
       "secondary_cleaner.state.floatbank5_a_level    float64\n",
       "secondary_cleaner.state.floatbank5_b_air      float64\n",
       "secondary_cleaner.state.floatbank5_b_level    float64\n",
       "secondary_cleaner.state.floatbank6_a_air      float64\n",
       "secondary_cleaner.state.floatbank6_a_level    float64\n",
       "dtype: object"
      ]
     },
     "metadata": {},
     "output_type": "display_data"
    },
    {
     "data": {
      "text/plain": [
       "date                                           object\n",
       "primary_cleaner.input.sulfate                 float64\n",
       "primary_cleaner.input.depressant              float64\n",
       "primary_cleaner.input.feed_size               float64\n",
       "primary_cleaner.input.xanthate                float64\n",
       "primary_cleaner.state.floatbank8_a_air        float64\n",
       "primary_cleaner.state.floatbank8_a_level      float64\n",
       "primary_cleaner.state.floatbank8_b_air        float64\n",
       "primary_cleaner.state.floatbank8_b_level      float64\n",
       "primary_cleaner.state.floatbank8_c_air        float64\n",
       "primary_cleaner.state.floatbank8_c_level      float64\n",
       "primary_cleaner.state.floatbank8_d_air        float64\n",
       "primary_cleaner.state.floatbank8_d_level      float64\n",
       "rougher.input.feed_ag                         float64\n",
       "rougher.input.feed_pb                         float64\n",
       "rougher.input.feed_rate                       float64\n",
       "rougher.input.feed_size                       float64\n",
       "rougher.input.feed_sol                        float64\n",
       "rougher.input.feed_au                         float64\n",
       "rougher.input.floatbank10_sulfate             float64\n",
       "rougher.input.floatbank10_xanthate            float64\n",
       "rougher.input.floatbank11_sulfate             float64\n",
       "rougher.input.floatbank11_xanthate            float64\n",
       "rougher.state.floatbank10_a_air               float64\n",
       "rougher.state.floatbank10_a_level             float64\n",
       "rougher.state.floatbank10_b_air               float64\n",
       "rougher.state.floatbank10_b_level             float64\n",
       "rougher.state.floatbank10_c_air               float64\n",
       "rougher.state.floatbank10_c_level             float64\n",
       "rougher.state.floatbank10_d_air               float64\n",
       "rougher.state.floatbank10_d_level             float64\n",
       "rougher.state.floatbank10_e_air               float64\n",
       "rougher.state.floatbank10_e_level             float64\n",
       "rougher.state.floatbank10_f_air               float64\n",
       "rougher.state.floatbank10_f_level             float64\n",
       "secondary_cleaner.state.floatbank2_a_air      float64\n",
       "secondary_cleaner.state.floatbank2_a_level    float64\n",
       "secondary_cleaner.state.floatbank2_b_air      float64\n",
       "secondary_cleaner.state.floatbank2_b_level    float64\n",
       "secondary_cleaner.state.floatbank3_a_air      float64\n",
       "secondary_cleaner.state.floatbank3_a_level    float64\n",
       "secondary_cleaner.state.floatbank3_b_air      float64\n",
       "secondary_cleaner.state.floatbank3_b_level    float64\n",
       "secondary_cleaner.state.floatbank4_a_air      float64\n",
       "secondary_cleaner.state.floatbank4_a_level    float64\n",
       "secondary_cleaner.state.floatbank4_b_air      float64\n",
       "secondary_cleaner.state.floatbank4_b_level    float64\n",
       "secondary_cleaner.state.floatbank5_a_air      float64\n",
       "secondary_cleaner.state.floatbank5_a_level    float64\n",
       "secondary_cleaner.state.floatbank5_b_air      float64\n",
       "secondary_cleaner.state.floatbank5_b_level    float64\n",
       "secondary_cleaner.state.floatbank6_a_air      float64\n",
       "secondary_cleaner.state.floatbank6_a_level    float64\n",
       "dtype: object"
      ]
     },
     "metadata": {},
     "output_type": "display_data"
    },
    {
     "data": {
      "text/plain": [
       "date                                                   object\n",
       "final.output.concentrate_ag                           float64\n",
       "final.output.concentrate_pb                           float64\n",
       "final.output.concentrate_sol                          float64\n",
       "final.output.concentrate_au                           float64\n",
       "final.output.recovery                                 float64\n",
       "final.output.tail_ag                                  float64\n",
       "final.output.tail_pb                                  float64\n",
       "final.output.tail_sol                                 float64\n",
       "final.output.tail_au                                  float64\n",
       "primary_cleaner.input.sulfate                         float64\n",
       "primary_cleaner.input.depressant                      float64\n",
       "primary_cleaner.input.feed_size                       float64\n",
       "primary_cleaner.input.xanthate                        float64\n",
       "primary_cleaner.output.concentrate_ag                 float64\n",
       "primary_cleaner.output.concentrate_pb                 float64\n",
       "primary_cleaner.output.concentrate_sol                float64\n",
       "primary_cleaner.output.concentrate_au                 float64\n",
       "primary_cleaner.output.tail_ag                        float64\n",
       "primary_cleaner.output.tail_pb                        float64\n",
       "primary_cleaner.output.tail_sol                       float64\n",
       "primary_cleaner.output.tail_au                        float64\n",
       "primary_cleaner.state.floatbank8_a_air                float64\n",
       "primary_cleaner.state.floatbank8_a_level              float64\n",
       "primary_cleaner.state.floatbank8_b_air                float64\n",
       "primary_cleaner.state.floatbank8_b_level              float64\n",
       "primary_cleaner.state.floatbank8_c_air                float64\n",
       "primary_cleaner.state.floatbank8_c_level              float64\n",
       "primary_cleaner.state.floatbank8_d_air                float64\n",
       "primary_cleaner.state.floatbank8_d_level              float64\n",
       "rougher.calculation.sulfate_to_au_concentrate         float64\n",
       "rougher.calculation.floatbank10_sulfate_to_au_feed    float64\n",
       "rougher.calculation.floatbank11_sulfate_to_au_feed    float64\n",
       "rougher.calculation.au_pb_ratio                       float64\n",
       "rougher.input.feed_ag                                 float64\n",
       "rougher.input.feed_pb                                 float64\n",
       "rougher.input.feed_rate                               float64\n",
       "rougher.input.feed_size                               float64\n",
       "rougher.input.feed_sol                                float64\n",
       "rougher.input.feed_au                                 float64\n",
       "rougher.input.floatbank10_sulfate                     float64\n",
       "rougher.input.floatbank10_xanthate                    float64\n",
       "rougher.input.floatbank11_sulfate                     float64\n",
       "rougher.input.floatbank11_xanthate                    float64\n",
       "rougher.output.concentrate_ag                         float64\n",
       "rougher.output.concentrate_pb                         float64\n",
       "rougher.output.concentrate_sol                        float64\n",
       "rougher.output.concentrate_au                         float64\n",
       "rougher.output.recovery                               float64\n",
       "rougher.output.tail_ag                                float64\n",
       "rougher.output.tail_pb                                float64\n",
       "rougher.output.tail_sol                               float64\n",
       "rougher.output.tail_au                                float64\n",
       "rougher.state.floatbank10_a_air                       float64\n",
       "rougher.state.floatbank10_a_level                     float64\n",
       "rougher.state.floatbank10_b_air                       float64\n",
       "rougher.state.floatbank10_b_level                     float64\n",
       "rougher.state.floatbank10_c_air                       float64\n",
       "rougher.state.floatbank10_c_level                     float64\n",
       "rougher.state.floatbank10_d_air                       float64\n",
       "rougher.state.floatbank10_d_level                     float64\n",
       "rougher.state.floatbank10_e_air                       float64\n",
       "rougher.state.floatbank10_e_level                     float64\n",
       "rougher.state.floatbank10_f_air                       float64\n",
       "rougher.state.floatbank10_f_level                     float64\n",
       "secondary_cleaner.output.tail_ag                      float64\n",
       "secondary_cleaner.output.tail_pb                      float64\n",
       "secondary_cleaner.output.tail_sol                     float64\n",
       "secondary_cleaner.output.tail_au                      float64\n",
       "secondary_cleaner.state.floatbank2_a_air              float64\n",
       "secondary_cleaner.state.floatbank2_a_level            float64\n",
       "secondary_cleaner.state.floatbank2_b_air              float64\n",
       "secondary_cleaner.state.floatbank2_b_level            float64\n",
       "secondary_cleaner.state.floatbank3_a_air              float64\n",
       "secondary_cleaner.state.floatbank3_a_level            float64\n",
       "secondary_cleaner.state.floatbank3_b_air              float64\n",
       "secondary_cleaner.state.floatbank3_b_level            float64\n",
       "secondary_cleaner.state.floatbank4_a_air              float64\n",
       "secondary_cleaner.state.floatbank4_a_level            float64\n",
       "secondary_cleaner.state.floatbank4_b_air              float64\n",
       "secondary_cleaner.state.floatbank4_b_level            float64\n",
       "secondary_cleaner.state.floatbank5_a_air              float64\n",
       "secondary_cleaner.state.floatbank5_a_level            float64\n",
       "secondary_cleaner.state.floatbank5_b_air              float64\n",
       "secondary_cleaner.state.floatbank5_b_level            float64\n",
       "secondary_cleaner.state.floatbank6_a_air              float64\n",
       "secondary_cleaner.state.floatbank6_a_level            float64\n",
       "dtype: object"
      ]
     },
     "metadata": {},
     "output_type": "display_data"
    }
   ],
   "source": [
    "# получение информации о типах данных\n",
    "display(df_gr_train.dtypes)\n",
    "display(df_gr_test.dtypes)\n",
    "display(df_gr_full.dtypes)"
   ]
  },
  {
   "cell_type": "markdown",
   "metadata": {},
   "source": [
    "Чтобы сэкономить память и процессорное время при обработке данных изменим тип данных на более оптимальный:"
   ]
  },
  {
   "cell_type": "code",
   "execution_count": 17,
   "metadata": {},
   "outputs": [],
   "source": [
    "# изменение типа данных\n",
    "for df in [df_gr_train, df_gr_test, df_gr_full]:\n",
    "    for column in df.columns:\n",
    "        if column == \"date\":\n",
    "            df['date'] = pd.to_datetime(df['date'], format='%Y-%m-%d %H:%M:%S')\n",
    "        else:\n",
    "            df[column] = pd.to_numeric(df[column], downcast='float')"
   ]
  },
  {
   "cell_type": "markdown",
   "metadata": {},
   "source": [
    "**Поиск и обработка дубликатов**"
   ]
  },
  {
   "cell_type": "code",
   "execution_count": 18,
   "metadata": {
    "scrolled": true
   },
   "outputs": [
    {
     "name": "stdout",
     "output_type": "stream",
     "text": [
      "Явных дубликатов в тренировочно выборке: 0\n",
      "Явных дубликатов в тестовой выборке: 0\n",
      "Явных дубликатов в исходных данных: 0\n"
     ]
    }
   ],
   "source": [
    "# подсчет явных дубликатов\n",
    "print(\"Явных дубликатов в тренировочно выборке:\", df_gr_train.duplicated().sum())\n",
    "print(\"Явных дубликатов в тестовой выборке:\", df_gr_test.duplicated().sum())\n",
    "print(\"Явных дубликатов в исходных данных:\", df_gr_full.duplicated().sum())"
   ]
  },
  {
   "cell_type": "markdown",
   "metadata": {},
   "source": [
    "Явные дубликаты в данных не обнаружены."
   ]
  },
  {
   "cell_type": "markdown",
   "metadata": {},
   "source": [
    "### Выводы"
   ]
  },
  {
   "cell_type": "markdown",
   "metadata": {},
   "source": [
    "💡 \n",
    "* На этапе подготовки данных была проведена проверка расчета Recovery в исходном наборе данных;    \n",
    "* Выявлено, что в тестовой выборке отсутствуют 34 признака, относящиеся к промежуточным расчетным параметрам (calculation) и к параметрам выходного продукта (output) — данные признаки были удалены из тренировочной выборки;    \n",
    "* Кроме того, обнаружены пропуски в данных, которые будут обработаны в дальнейшем;\n",
    "* Явные дубликаты в данных обнаружены не были."
   ]
  },
  {
   "cell_type": "markdown",
   "metadata": {},
   "source": [
    "## Анализ данных"
   ]
  },
  {
   "cell_type": "markdown",
   "metadata": {},
   "source": [
    "### Концентрация металлов на различных этапах очистки"
   ]
  },
  {
   "cell_type": "markdown",
   "metadata": {},
   "source": [
    "Посмотрим как меняется концентрация металлов (Au, Ag, Pb) на различных этапах очистки: перед очисткой (rougher), после первичной очистки (primary_cleaner), финальный концентрат (final)."
   ]
  },
  {
   "cell_type": "code",
   "execution_count": 19,
   "metadata": {},
   "outputs": [
    {
     "data": {
      "text/plain": [
       "Index(['date', 'final.output.concentrate_ag', 'final.output.concentrate_pb',\n",
       "       'final.output.concentrate_sol', 'final.output.concentrate_au',\n",
       "       'final.output.recovery', 'final.output.tail_ag', 'final.output.tail_pb',\n",
       "       'final.output.tail_sol', 'final.output.tail_au',\n",
       "       'primary_cleaner.input.sulfate', 'primary_cleaner.input.depressant',\n",
       "       'primary_cleaner.input.feed_size', 'primary_cleaner.input.xanthate',\n",
       "       'primary_cleaner.output.concentrate_ag',\n",
       "       'primary_cleaner.output.concentrate_pb',\n",
       "       'primary_cleaner.output.concentrate_sol',\n",
       "       'primary_cleaner.output.concentrate_au',\n",
       "       'primary_cleaner.output.tail_ag', 'primary_cleaner.output.tail_pb',\n",
       "       'primary_cleaner.output.tail_sol', 'primary_cleaner.output.tail_au',\n",
       "       'primary_cleaner.state.floatbank8_a_air',\n",
       "       'primary_cleaner.state.floatbank8_a_level',\n",
       "       'primary_cleaner.state.floatbank8_b_air',\n",
       "       'primary_cleaner.state.floatbank8_b_level',\n",
       "       'primary_cleaner.state.floatbank8_c_air',\n",
       "       'primary_cleaner.state.floatbank8_c_level',\n",
       "       'primary_cleaner.state.floatbank8_d_air',\n",
       "       'primary_cleaner.state.floatbank8_d_level',\n",
       "       'rougher.calculation.sulfate_to_au_concentrate',\n",
       "       'rougher.calculation.floatbank10_sulfate_to_au_feed',\n",
       "       'rougher.calculation.floatbank11_sulfate_to_au_feed',\n",
       "       'rougher.calculation.au_pb_ratio', 'rougher.input.feed_ag',\n",
       "       'rougher.input.feed_pb', 'rougher.input.feed_rate',\n",
       "       'rougher.input.feed_size', 'rougher.input.feed_sol',\n",
       "       'rougher.input.feed_au', 'rougher.input.floatbank10_sulfate',\n",
       "       'rougher.input.floatbank10_xanthate',\n",
       "       'rougher.input.floatbank11_sulfate',\n",
       "       'rougher.input.floatbank11_xanthate', 'rougher.output.concentrate_ag',\n",
       "       'rougher.output.concentrate_pb', 'rougher.output.concentrate_sol',\n",
       "       'rougher.output.concentrate_au', 'rougher.output.recovery',\n",
       "       'rougher.output.tail_ag', 'rougher.output.tail_pb',\n",
       "       'rougher.output.tail_sol', 'rougher.output.tail_au',\n",
       "       'rougher.state.floatbank10_a_air', 'rougher.state.floatbank10_a_level',\n",
       "       'rougher.state.floatbank10_b_air', 'rougher.state.floatbank10_b_level',\n",
       "       'rougher.state.floatbank10_c_air', 'rougher.state.floatbank10_c_level',\n",
       "       'rougher.state.floatbank10_d_air', 'rougher.state.floatbank10_d_level',\n",
       "       'rougher.state.floatbank10_e_air', 'rougher.state.floatbank10_e_level',\n",
       "       'rougher.state.floatbank10_f_air', 'rougher.state.floatbank10_f_level',\n",
       "       'secondary_cleaner.output.tail_ag', 'secondary_cleaner.output.tail_pb',\n",
       "       'secondary_cleaner.output.tail_sol', 'secondary_cleaner.output.tail_au',\n",
       "       'secondary_cleaner.state.floatbank2_a_air',\n",
       "       'secondary_cleaner.state.floatbank2_a_level',\n",
       "       'secondary_cleaner.state.floatbank2_b_air',\n",
       "       'secondary_cleaner.state.floatbank2_b_level',\n",
       "       'secondary_cleaner.state.floatbank3_a_air',\n",
       "       'secondary_cleaner.state.floatbank3_a_level',\n",
       "       'secondary_cleaner.state.floatbank3_b_air',\n",
       "       'secondary_cleaner.state.floatbank3_b_level',\n",
       "       'secondary_cleaner.state.floatbank4_a_air',\n",
       "       'secondary_cleaner.state.floatbank4_a_level',\n",
       "       'secondary_cleaner.state.floatbank4_b_air',\n",
       "       'secondary_cleaner.state.floatbank4_b_level',\n",
       "       'secondary_cleaner.state.floatbank5_a_air',\n",
       "       'secondary_cleaner.state.floatbank5_a_level',\n",
       "       'secondary_cleaner.state.floatbank5_b_air',\n",
       "       'secondary_cleaner.state.floatbank5_b_level',\n",
       "       'secondary_cleaner.state.floatbank6_a_air',\n",
       "       'secondary_cleaner.state.floatbank6_a_level'],\n",
       "      dtype='object')"
      ]
     },
     "execution_count": 19,
     "metadata": {},
     "output_type": "execute_result"
    }
   ],
   "source": [
    "df_gr_full.columns"
   ]
  },
  {
   "cell_type": "code",
   "execution_count": 20,
   "metadata": {},
   "outputs": [],
   "source": [
    "# названия этапов\n",
    "stages = [\"rougher.input\", \"rougher.output\", \"primary_cleaner.output\", \"final.output\"]\n",
    "\n",
    "# названия металлов\n",
    "metals = [\"au\", \"ag\", \"pb\"]"
   ]
  },
  {
   "cell_type": "code",
   "execution_count": 21,
   "metadata": {},
   "outputs": [],
   "source": [
    "# определение функции для графика оценки плотности распределения\n",
    "def kde_chart(df, metal, stages):\n",
    "    table = pd.concat([df[stages[0]+\".feed\"+\"_\"+metal],\n",
    "                       df[stages[1]+\".concentrate\"+\"_\"+metal],\n",
    "                       df[stages[2]+\".concentrate\"+\"_\"+metal],\n",
    "                       df[stages[3]+\".concentrate\"+\"_\"+metal]],\n",
    "                      keys = stages)\n",
    "    table = pd.DataFrame(table).reset_index().drop(columns=\"level_1\")\n",
    "    table.columns = ['stage', 'concentration']\n",
    "    sns.displot(table, x='concentration', kind=\"kde\", hue='stage', fill=True, height=6)\n",
    "    plt.title(f'График распределения концентрации металла: {metal}');\n",
    "    \n",
    "    # описательная статистика\n",
    "    display(df[[stages[0]+\".feed\"+\"_\"+metal,\n",
    "                stages[1]+\".concentrate\"+\"_\"+metal,\n",
    "                stages[2]+\".concentrate\"+\"_\"+metal,\n",
    "                stages[3]+\".concentrate\"+\"_\"+metal]].describe())"
   ]
  },
  {
   "cell_type": "code",
   "execution_count": 22,
   "metadata": {},
   "outputs": [
    {
     "data": {
      "text/html": [
       "<div>\n",
       "<style scoped>\n",
       "    .dataframe tbody tr th:only-of-type {\n",
       "        vertical-align: middle;\n",
       "    }\n",
       "\n",
       "    .dataframe tbody tr th {\n",
       "        vertical-align: top;\n",
       "    }\n",
       "\n",
       "    .dataframe thead th {\n",
       "        text-align: right;\n",
       "    }\n",
       "</style>\n",
       "<table border=\"1\" class=\"dataframe\">\n",
       "  <thead>\n",
       "    <tr style=\"text-align: right;\">\n",
       "      <th></th>\n",
       "      <th>rougher.input.feed_au</th>\n",
       "      <th>rougher.output.concentrate_au</th>\n",
       "      <th>primary_cleaner.output.concentrate_au</th>\n",
       "      <th>final.output.concentrate_au</th>\n",
       "    </tr>\n",
       "  </thead>\n",
       "  <tbody>\n",
       "    <tr>\n",
       "      <th>count</th>\n",
       "      <td>19439.000000</td>\n",
       "      <td>19439.000000</td>\n",
       "      <td>19439.000000</td>\n",
       "      <td>19439.000000</td>\n",
       "    </tr>\n",
       "    <tr>\n",
       "      <th>mean</th>\n",
       "      <td>8.266097</td>\n",
       "      <td>19.772001</td>\n",
       "      <td>32.119400</td>\n",
       "      <td>44.076511</td>\n",
       "    </tr>\n",
       "    <tr>\n",
       "      <th>std</th>\n",
       "      <td>1.955092</td>\n",
       "      <td>3.753599</td>\n",
       "      <td>5.627611</td>\n",
       "      <td>5.129784</td>\n",
       "    </tr>\n",
       "    <tr>\n",
       "      <th>min</th>\n",
       "      <td>0.010000</td>\n",
       "      <td>0.000000</td>\n",
       "      <td>0.000000</td>\n",
       "      <td>0.000000</td>\n",
       "    </tr>\n",
       "    <tr>\n",
       "      <th>25%</th>\n",
       "      <td>6.854384</td>\n",
       "      <td>18.802523</td>\n",
       "      <td>30.463140</td>\n",
       "      <td>43.402214</td>\n",
       "    </tr>\n",
       "    <tr>\n",
       "      <th>50%</th>\n",
       "      <td>8.125839</td>\n",
       "      <td>20.280214</td>\n",
       "      <td>32.841297</td>\n",
       "      <td>45.011246</td>\n",
       "    </tr>\n",
       "    <tr>\n",
       "      <th>75%</th>\n",
       "      <td>9.769917</td>\n",
       "      <td>21.717842</td>\n",
       "      <td>35.048006</td>\n",
       "      <td>46.275312</td>\n",
       "    </tr>\n",
       "    <tr>\n",
       "      <th>max</th>\n",
       "      <td>13.731330</td>\n",
       "      <td>28.824507</td>\n",
       "      <td>45.933933</td>\n",
       "      <td>52.756638</td>\n",
       "    </tr>\n",
       "  </tbody>\n",
       "</table>\n",
       "</div>"
      ],
      "text/plain": [
       "       rougher.input.feed_au  rougher.output.concentrate_au  \\\n",
       "count           19439.000000                   19439.000000   \n",
       "mean                8.266097                      19.772001   \n",
       "std                 1.955092                       3.753599   \n",
       "min                 0.010000                       0.000000   \n",
       "25%                 6.854384                      18.802523   \n",
       "50%                 8.125839                      20.280214   \n",
       "75%                 9.769917                      21.717842   \n",
       "max                13.731330                      28.824507   \n",
       "\n",
       "       primary_cleaner.output.concentrate_au  final.output.concentrate_au  \n",
       "count                           19439.000000                 19439.000000  \n",
       "mean                               32.119400                    44.076511  \n",
       "std                                 5.627611                     5.129784  \n",
       "min                                 0.000000                     0.000000  \n",
       "25%                                30.463140                    43.402214  \n",
       "50%                                32.841297                    45.011246  \n",
       "75%                                35.048006                    46.275312  \n",
       "max                                45.933933                    52.756638  "
      ]
     },
     "metadata": {},
     "output_type": "display_data"
    },
    {
     "data": {
      "image/png": "[encoded data removed]",
      "text/plain": [
       "<Figure size 584.375x432 with 1 Axes>"
      ]
     },
     "metadata": {
      "needs_background": "light"
     },
     "output_type": "display_data"
    }
   ],
   "source": [
    "# график оценки плотности распределения\n",
    "kde_chart(df_gr_full, metals[0], stages)"
   ]
  },
  {
   "cell_type": "markdown",
   "metadata": {},
   "source": [
    "💡 На различных этапах концентрация золота растет в среднем с 8 до 45. Концентрация золота повышается последовательно от этапа к этапу: вход сырья --> после флотации --> после первичной очистки --> финальный продукт.    "
   ]
  },
  {
   "cell_type": "code",
   "execution_count": 23,
   "metadata": {},
   "outputs": [
    {
     "data": {
      "text/html": [
       "<div>\n",
       "<style scoped>\n",
       "    .dataframe tbody tr th:only-of-type {\n",
       "        vertical-align: middle;\n",
       "    }\n",
       "\n",
       "    .dataframe tbody tr th {\n",
       "        vertical-align: top;\n",
       "    }\n",
       "\n",
       "    .dataframe thead th {\n",
       "        text-align: right;\n",
       "    }\n",
       "</style>\n",
       "<table border=\"1\" class=\"dataframe\">\n",
       "  <thead>\n",
       "    <tr style=\"text-align: right;\">\n",
       "      <th></th>\n",
       "      <th>rougher.input.feed_ag</th>\n",
       "      <th>rougher.output.concentrate_ag</th>\n",
       "      <th>primary_cleaner.output.concentrate_ag</th>\n",
       "      <th>final.output.concentrate_ag</th>\n",
       "    </tr>\n",
       "  </thead>\n",
       "  <tbody>\n",
       "    <tr>\n",
       "      <th>count</th>\n",
       "      <td>19439.000000</td>\n",
       "      <td>19439.000000</td>\n",
       "      <td>19439.000000</td>\n",
       "      <td>19438.000000</td>\n",
       "    </tr>\n",
       "    <tr>\n",
       "      <th>mean</th>\n",
       "      <td>8.794928</td>\n",
       "      <td>11.994761</td>\n",
       "      <td>8.442408</td>\n",
       "      <td>5.168470</td>\n",
       "    </tr>\n",
       "    <tr>\n",
       "      <th>std</th>\n",
       "      <td>1.936847</td>\n",
       "      <td>2.733862</td>\n",
       "      <td>2.054465</td>\n",
       "      <td>1.372348</td>\n",
       "    </tr>\n",
       "    <tr>\n",
       "      <th>min</th>\n",
       "      <td>0.010000</td>\n",
       "      <td>0.000000</td>\n",
       "      <td>0.000000</td>\n",
       "      <td>0.000000</td>\n",
       "    </tr>\n",
       "    <tr>\n",
       "      <th>25%</th>\n",
       "      <td>7.237967</td>\n",
       "      <td>10.628337</td>\n",
       "      <td>7.263288</td>\n",
       "      <td>4.251240</td>\n",
       "    </tr>\n",
       "    <tr>\n",
       "      <th>50%</th>\n",
       "      <td>8.593575</td>\n",
       "      <td>12.098115</td>\n",
       "      <td>8.507298</td>\n",
       "      <td>5.066094</td>\n",
       "    </tr>\n",
       "    <tr>\n",
       "      <th>75%</th>\n",
       "      <td>10.213771</td>\n",
       "      <td>13.736997</td>\n",
       "      <td>9.809001</td>\n",
       "      <td>5.895527</td>\n",
       "    </tr>\n",
       "    <tr>\n",
       "      <th>max</th>\n",
       "      <td>14.596026</td>\n",
       "      <td>24.480270</td>\n",
       "      <td>16.081633</td>\n",
       "      <td>16.001945</td>\n",
       "    </tr>\n",
       "  </tbody>\n",
       "</table>\n",
       "</div>"
      ],
      "text/plain": [
       "       rougher.input.feed_ag  rougher.output.concentrate_ag  \\\n",
       "count           19439.000000                   19439.000000   \n",
       "mean                8.794928                      11.994761   \n",
       "std                 1.936847                       2.733862   \n",
       "min                 0.010000                       0.000000   \n",
       "25%                 7.237967                      10.628337   \n",
       "50%                 8.593575                      12.098115   \n",
       "75%                10.213771                      13.736997   \n",
       "max                14.596026                      24.480270   \n",
       "\n",
       "       primary_cleaner.output.concentrate_ag  final.output.concentrate_ag  \n",
       "count                           19439.000000                 19438.000000  \n",
       "mean                                8.442408                     5.168470  \n",
       "std                                 2.054465                     1.372348  \n",
       "min                                 0.000000                     0.000000  \n",
       "25%                                 7.263288                     4.251240  \n",
       "50%                                 8.507298                     5.066094  \n",
       "75%                                 9.809001                     5.895527  \n",
       "max                                16.081633                    16.001945  "
      ]
     },
     "metadata": {},
     "output_type": "display_data"
    },
    {
     "data": {
      "image/png": "[encoded data removed]",
      "text/plain": [
       "<Figure size 584.375x432 with 1 Axes>"
      ]
     },
     "metadata": {
      "needs_background": "light"
     },
     "output_type": "display_data"
    }
   ],
   "source": [
    "# график оценки плотности распределения\n",
    "kde_chart(df_gr_full, metals[1], stages)"
   ]
  },
  {
   "cell_type": "markdown",
   "metadata": {},
   "source": [
    "💡 После этапа флотации наблюдается самая высокая концентрация серебра (12), далее средний уровень содержания металла снижается до 5."
   ]
  },
  {
   "cell_type": "code",
   "execution_count": 24,
   "metadata": {},
   "outputs": [
    {
     "data": {
      "text/html": [
       "<div>\n",
       "<style scoped>\n",
       "    .dataframe tbody tr th:only-of-type {\n",
       "        vertical-align: middle;\n",
       "    }\n",
       "\n",
       "    .dataframe tbody tr th {\n",
       "        vertical-align: top;\n",
       "    }\n",
       "\n",
       "    .dataframe thead th {\n",
       "        text-align: right;\n",
       "    }\n",
       "</style>\n",
       "<table border=\"1\" class=\"dataframe\">\n",
       "  <thead>\n",
       "    <tr style=\"text-align: right;\">\n",
       "      <th></th>\n",
       "      <th>rougher.input.feed_pb</th>\n",
       "      <th>rougher.output.concentrate_pb</th>\n",
       "      <th>primary_cleaner.output.concentrate_pb</th>\n",
       "      <th>final.output.concentrate_pb</th>\n",
       "    </tr>\n",
       "  </thead>\n",
       "  <tbody>\n",
       "    <tr>\n",
       "      <th>count</th>\n",
       "      <td>19339.000000</td>\n",
       "      <td>19439.000000</td>\n",
       "      <td>19323.000000</td>\n",
       "      <td>19438.000000</td>\n",
       "    </tr>\n",
       "    <tr>\n",
       "      <th>mean</th>\n",
       "      <td>3.598085</td>\n",
       "      <td>7.606272</td>\n",
       "      <td>9.829530</td>\n",
       "      <td>9.978894</td>\n",
       "    </tr>\n",
       "    <tr>\n",
       "      <th>std</th>\n",
       "      <td>1.049486</td>\n",
       "      <td>1.796757</td>\n",
       "      <td>2.556843</td>\n",
       "      <td>1.669240</td>\n",
       "    </tr>\n",
       "    <tr>\n",
       "      <th>min</th>\n",
       "      <td>0.010000</td>\n",
       "      <td>0.000000</td>\n",
       "      <td>0.000000</td>\n",
       "      <td>0.000000</td>\n",
       "    </tr>\n",
       "    <tr>\n",
       "      <th>25%</th>\n",
       "      <td>2.887280</td>\n",
       "      <td>6.725987</td>\n",
       "      <td>8.702328</td>\n",
       "      <td>9.137261</td>\n",
       "    </tr>\n",
       "    <tr>\n",
       "      <th>50%</th>\n",
       "      <td>3.534895</td>\n",
       "      <td>7.742580</td>\n",
       "      <td>10.152432</td>\n",
       "      <td>10.102432</td>\n",
       "    </tr>\n",
       "    <tr>\n",
       "      <th>75%</th>\n",
       "      <td>4.244161</td>\n",
       "      <td>8.565199</td>\n",
       "      <td>11.424971</td>\n",
       "      <td>11.035769</td>\n",
       "    </tr>\n",
       "    <tr>\n",
       "      <th>max</th>\n",
       "      <td>7.142594</td>\n",
       "      <td>13.617072</td>\n",
       "      <td>17.081278</td>\n",
       "      <td>17.031900</td>\n",
       "    </tr>\n",
       "  </tbody>\n",
       "</table>\n",
       "</div>"
      ],
      "text/plain": [
       "       rougher.input.feed_pb  rougher.output.concentrate_pb  \\\n",
       "count           19339.000000                   19439.000000   \n",
       "mean                3.598085                       7.606272   \n",
       "std                 1.049486                       1.796757   \n",
       "min                 0.010000                       0.000000   \n",
       "25%                 2.887280                       6.725987   \n",
       "50%                 3.534895                       7.742580   \n",
       "75%                 4.244161                       8.565199   \n",
       "max                 7.142594                      13.617072   \n",
       "\n",
       "       primary_cleaner.output.concentrate_pb  final.output.concentrate_pb  \n",
       "count                           19323.000000                 19438.000000  \n",
       "mean                                9.829530                     9.978894  \n",
       "std                                 2.556843                     1.669240  \n",
       "min                                 0.000000                     0.000000  \n",
       "25%                                 8.702328                     9.137261  \n",
       "50%                                10.152432                    10.102432  \n",
       "75%                                11.424971                    11.035769  \n",
       "max                                17.081278                    17.031900  "
      ]
     },
     "metadata": {},
     "output_type": "display_data"
    },
    {
     "data": {
      "image/png": "[encoded data removed]",
      "text/plain": [
       "<Figure size 584.375x432 with 1 Axes>"
      ]
     },
     "metadata": {
      "needs_background": "light"
     },
     "output_type": "display_data"
    }
   ],
   "source": [
    "# график оценки плотности распределения\n",
    "kde_chart(df_gr_full, metals[2], stages)"
   ]
  },
  {
   "cell_type": "markdown",
   "metadata": {},
   "source": [
    "💡 Концентрация свинца растет по мере очистки и достигает значения около 10 в среднем. Самый большой прирост концентрации происходит на этапе флотации."
   ]
  },
  {
   "cell_type": "markdown",
   "metadata": {},
   "source": [
    "### Распределения размеров гранул сырья на обучающей и тестовой выборках"
   ]
  },
  {
   "cell_type": "markdown",
   "metadata": {},
   "source": [
    "Сравним сильно ли отличаются друг от друга распределения размеров гранул сырья на обучающей и тестовой выборках."
   ]
  },
  {
   "cell_type": "code",
   "execution_count": 25,
   "metadata": {
    "scrolled": false
   },
   "outputs": [
    {
     "data": {
      "image/png": "[encoded data removed]",
      "text/plain": [
       "<Figure size 492.125x432 with 1 Axes>"
      ]
     },
     "metadata": {
      "needs_background": "light"
     },
     "output_type": "display_data"
    }
   ],
   "source": [
    "# построение графика плотности распределения\n",
    "feed_size = pd.concat([df_gr_train['rougher.input.feed_size'],\n",
    "                      df_gr_test['rougher.input.feed_size']],\n",
    "                      keys = ['train','test'])\n",
    "feed_size = pd.DataFrame(feed_size).reset_index().drop(columns=\"level_1\")\n",
    "feed_size.columns = ['dataframe', 'feed_size']\n",
    "sns.displot(feed_size, x='feed_size', kind=\"kde\", hue='dataframe', fill=True, height=6)\n",
    "plt.title(\"График распределения размеров гранул сырья на обучающей и тестовой выборках\");"
   ]
  },
  {
   "cell_type": "code",
   "execution_count": 26,
   "metadata": {},
   "outputs": [
    {
     "data": {
      "text/plain": [
       "count    14005.000000\n",
       "mean        60.110516\n",
       "std         22.418486\n",
       "min          9.659576\n",
       "25%         48.973026\n",
       "50%         55.373886\n",
       "75%         66.080170\n",
       "max        484.967468\n",
       "Name: rougher.input.feed_size, dtype: float64"
      ]
     },
     "execution_count": 26,
     "metadata": {},
     "output_type": "execute_result"
    }
   ],
   "source": [
    "df_gr_train['rougher.input.feed_size'].describe()"
   ]
  },
  {
   "cell_type": "code",
   "execution_count": 27,
   "metadata": {
    "scrolled": false
   },
   "outputs": [
    {
     "data": {
      "text/plain": [
       "count    5289.000000\n",
       "mean       55.951096\n",
       "std        19.081757\n",
       "min         0.046369\n",
       "25%        43.906345\n",
       "50%        50.841030\n",
       "75%        62.431046\n",
       "max       392.494049\n",
       "Name: rougher.input.feed_size, dtype: float64"
      ]
     },
     "execution_count": 27,
     "metadata": {},
     "output_type": "execute_result"
    }
   ],
   "source": [
    "df_gr_test['rougher.input.feed_size'].describe()"
   ]
  },
  {
   "cell_type": "markdown",
   "metadata": {},
   "source": [
    "💡 Графики распределения размеров гранул сырья схожи, среднее отличается незначительно: 55.3 против 50.8 на обучающей и тестовой выборках соответственно. Пик распределения на тренировочной выборке вытянут сильно вверх — количество значений в тренировочной выборке превышает тестовую в 2.7 раза."
   ]
  },
  {
   "cell_type": "markdown",
   "metadata": {},
   "source": [
    "### Суммарная концентрация всех веществ на разных стадиях"
   ]
  },
  {
   "cell_type": "markdown",
   "metadata": {},
   "source": [
    "Исследуем суммарную концентрацию всех веществ на разных стадиях: в сырье, в черновом и финальном концентратах."
   ]
  },
  {
   "cell_type": "code",
   "execution_count": 28,
   "metadata": {},
   "outputs": [],
   "source": [
    "# объединение стадий\n",
    "rougher_input_feed = df_gr_full[['rougher.input.feed_au',\n",
    "                                 'rougher.input.feed_ag',\n",
    "                                 'rougher.input.feed_pb',\n",
    "                                 'rougher.input.feed_sol']].sum(axis=1)\n",
    "        \n",
    "rougher_output_concentrate = df_gr_full[['rougher.output.concentrate_au',\n",
    "                                        'rougher.output.concentrate_ag',\n",
    "                                        'rougher.output.concentrate_pb',\n",
    "                                         'rougher.output.concentrate_sol']].sum(axis=1)\n",
    "        \n",
    "primary_cleaner_output_concentrate = df_gr_full[['primary_cleaner.output.concentrate_au',\n",
    "                                                 'primary_cleaner.output.concentrate_ag',\n",
    "                                                 'primary_cleaner.output.concentrate_pb',\n",
    "                                                 'primary_cleaner.output.concentrate_sol']].sum(axis=1)\n",
    "        \n",
    "final_output_concentrate = df_gr_full[['final.output.concentrate_au',\n",
    "                                       'final.output.concentrate_ag',\n",
    "                                       'final.output.concentrate_pb',\n",
    "                                       'final.output.concentrate_sol']].sum(axis=1)"
   ]
  },
  {
   "cell_type": "code",
   "execution_count": 29,
   "metadata": {
    "scrolled": false
   },
   "outputs": [
    {
     "data": {
      "image/png": "[encoded data removed]",
      "text/plain": [
       "<Figure size 652x432 with 1 Axes>"
      ]
     },
     "metadata": {
      "needs_background": "light"
     },
     "output_type": "display_data"
    }
   ],
   "source": [
    "# построение графика плотности распределения\n",
    "sum_concentration = pd.concat([rougher_input_feed, rougher_output_concentrate,\n",
    "                               primary_cleaner_output_concentrate, final_output_concentrate],\n",
    "                              keys = ['rougher_input_feed',\n",
    "                                      'rougher_output_concentrate',\n",
    "                                      'primary_cleaner_output_concentrate',\n",
    "                                      'final_output_concentrate'])\n",
    "sum_concentration = pd.DataFrame(sum_concentration).reset_index().drop(columns=\"level_1\")\n",
    "sum_concentration.columns = ['stage', 'sum_concentration']\n",
    "sns.displot(sum_concentration, x='sum_concentration', kind=\"kde\", hue='stage', fill=True, height=6)\n",
    "plt.title(\"График распределения концентрации всех металлов на разных стадиях\");"
   ]
  },
  {
   "cell_type": "code",
   "execution_count": 30,
   "metadata": {
    "scrolled": false
   },
   "outputs": [
    {
     "data": {
      "text/plain": [
       "count    19439.000000\n",
       "mean        57.148830\n",
       "std          7.712767\n",
       "min          0.040000\n",
       "25%         53.507961\n",
       "50%         57.577385\n",
       "75%         61.951073\n",
       "max         76.978943\n",
       "dtype: float64"
      ]
     },
     "metadata": {},
     "output_type": "display_data"
    },
    {
     "data": {
      "text/plain": [
       "count    19439.000000\n",
       "mean        68.144524\n",
       "std         12.540021\n",
       "min          0.000000\n",
       "25%         66.003784\n",
       "50%         70.177010\n",
       "75%         74.356903\n",
       "max         88.140121\n",
       "dtype: float64"
      ]
     },
     "metadata": {},
     "output_type": "display_data"
    },
    {
     "data": {
      "text/plain": [
       "count    19439.000000\n",
       "mean        60.622524\n",
       "std         10.202580\n",
       "min          0.000000\n",
       "25%         58.883623\n",
       "50%         62.491146\n",
       "75%         65.665298\n",
       "max         80.749344\n",
       "dtype: float64"
      ]
     },
     "metadata": {},
     "output_type": "display_data"
    },
    {
     "data": {
      "text/plain": [
       "count    19439.000000\n",
       "mean        68.621193\n",
       "std          7.461966\n",
       "min          0.000000\n",
       "25%         67.928471\n",
       "50%         69.598045\n",
       "75%         71.368473\n",
       "max         80.210648\n",
       "dtype: float64"
      ]
     },
     "metadata": {},
     "output_type": "display_data"
    }
   ],
   "source": [
    "display(rougher_input_feed.describe())\n",
    "display(rougher_output_concentrate.describe())\n",
    "display(primary_cleaner_output_concentrate.describe())\n",
    "display(final_output_concentrate.describe())"
   ]
  },
  {
   "cell_type": "markdown",
   "metadata": {},
   "source": [
    "💡 Концентрация веществ колеблется от 58 до 70 в среднем. Концентрация в-в на финальном этапе имеет самое маленькое стандартное отклонение от среднего.\n",
    "Также мы видим присутствие нулевых значений в данных и негативную скошенность распределений."
   ]
  },
  {
   "cell_type": "markdown",
   "metadata": {},
   "source": [
    "Удалим нулевые значения признаков из всех выборок:"
   ]
  },
  {
   "cell_type": "code",
   "execution_count": 31,
   "metadata": {},
   "outputs": [],
   "source": [
    "df_gr_full = df_gr_full[(df_gr_full['rougher.input.feed_au'] > 0) &\n",
    "                        (df_gr_full['rougher.input.feed_ag'] > 0) &\n",
    "                        (df_gr_full['rougher.input.feed_pb'] > 0) &\n",
    "                        (df_gr_full['rougher.input.feed_sol'] > 0) &\n",
    "            \n",
    "                        (df_gr_full['rougher.output.concentrate_au'] > 0) &\n",
    "                        (df_gr_full['rougher.output.concentrate_ag'] > 0) &\n",
    "                        (df_gr_full['rougher.output.concentrate_pb'] > 0) &\n",
    "                        (df_gr_full['rougher.output.concentrate_sol'] > 0) &\n",
    "            \n",
    "                        (df_gr_full['primary_cleaner.output.concentrate_au'] > 0) &\n",
    "                        (df_gr_full['primary_cleaner.output.concentrate_ag'] > 0) &\n",
    "                        (df_gr_full['primary_cleaner.output.concentrate_pb'] > 0) &\n",
    "                        (df_gr_full['primary_cleaner.output.concentrate_sol'] > 0) &\n",
    "                         \n",
    "                        (df_gr_full['final.output.concentrate_au'] > 0) &\n",
    "                        (df_gr_full['final.output.concentrate_ag'] > 0) &\n",
    "                        (df_gr_full['final.output.concentrate_pb'] > 0) &\n",
    "                        (df_gr_full['final.output.concentrate_sol'] > 0)].copy()"
   ]
  },
  {
   "cell_type": "code",
   "execution_count": 32,
   "metadata": {},
   "outputs": [],
   "source": [
    "df_gr_train = df_gr_train[(df_gr_train['rougher.input.feed_au'] > 0) &\n",
    "                          (df_gr_train['rougher.input.feed_ag'] > 0) &\n",
    "                          (df_gr_train['rougher.input.feed_pb'] > 0) &\n",
    "                          (df_gr_train['rougher.input.feed_sol'] > 0)].copy()\n",
    "\n",
    "df_gr_test = df_gr_test[(df_gr_test['rougher.input.feed_au'] > 0) &\n",
    "                        (df_gr_test['rougher.input.feed_ag'] > 0) &\n",
    "                        (df_gr_test['rougher.input.feed_pb'] > 0) &\n",
    "                        (df_gr_test['rougher.input.feed_sol'] > 0)].copy()"
   ]
  },
  {
   "cell_type": "markdown",
   "metadata": {},
   "source": [
    "### Выводы"
   ]
  },
  {
   "cell_type": "markdown",
   "metadata": {},
   "source": [
    "💡 \n",
    "* В ходе анализа данных было выявлено, что концентрации золота и свинца растут последовательно по этапам очистки, а концентрация серебра снижается;\n",
    "* Распределения размеров гранул в тренировочной и тестовой выборках похожи, их средние и отклонения отличаются незначительно;\n",
    "* Концентрация всех металлов (Au, Ag, Pb, Sol) колеблется от 58 до 70 в среднем;\n",
    "* В данных выявлено присутствие нулевых значений и негативная скошенность распределений — нулевые значения признаков из всех выборок были удалены."
   ]
  },
  {
   "cell_type": "markdown",
   "metadata": {},
   "source": [
    "## Модель"
   ]
  },
  {
   "cell_type": "markdown",
   "metadata": {},
   "source": [
    "### Функция для вычисления итоговой sMAPE"
   ]
  },
  {
   "cell_type": "markdown",
   "metadata": {},
   "source": [
    "$$sMAPE = \\frac{1}{N} \\sum_{i=1}^{N} \\frac{|y_i - \\hat{y_i}|}{(|y_i| + |\\hat{y_i}|) / 2} × 100%$$\n",
    "где:\n",
    "\n",
    "$y_i$ — значение целевого признака для объекта с порядковым номером i в выборке, на которой измеряется качество;    \n",
    "$\\hat{y_i}$ — значение предсказания для объекта с порядковым номером i, например, в тестовой выборке;    \n",
    "$N$ — количество объектов в выборке;    \n",
    "$\\sum_{i=1}^{N}$ — суммирование по всем объектам выборки (i меняется от 1 до N)."
   ]
  },
  {
   "cell_type": "code",
   "execution_count": 33,
   "metadata": {},
   "outputs": [],
   "source": [
    "def smape(targets, predictions):\n",
    "    fraction = abs(targets - predictions) / ((abs(targets) + abs(predictions)) / 2)\n",
    "    sum_fraction = fraction.sum()\n",
    "    smape = (1 / len(targets)) * sum_fraction * 100\n",
    "    return smape"
   ]
  },
  {
   "cell_type": "markdown",
   "metadata": {},
   "source": [
    "$$final\\_sMAPE = 0.25 × sMAPE(rougher) + 0.75 × sMAPE(final)$$"
   ]
  },
  {
   "cell_type": "code",
   "execution_count": 34,
   "metadata": {},
   "outputs": [],
   "source": [
    "def final_smape_calc(smape_rougher, smape_final):\n",
    "    final_smape = 0.25 * smape_rougher + 0.75 * smape_final\n",
    "    return final_smape"
   ]
  },
  {
   "cell_type": "markdown",
   "metadata": {},
   "source": [
    "### Обработка признаков"
   ]
  },
  {
   "cell_type": "markdown",
   "metadata": {},
   "source": [
    "Добавим целевые признаки — эффективность обогащения после флотации и в финальном продукте в тренировочную и тестовые выборки: "
   ]
  },
  {
   "cell_type": "code",
   "execution_count": 35,
   "metadata": {},
   "outputs": [],
   "source": [
    "df_gr_train = df_gr_train.merge(df_gr_full[['date', 'rougher.output.recovery', 'final.output.recovery']],\n",
    "                                how='left', on='date')\n",
    "\n",
    "df_gr_test = df_gr_test.merge(df_gr_full[['date', 'rougher.output.recovery', 'final.output.recovery']], \n",
    "                              how='left', on='date')"
   ]
  },
  {
   "cell_type": "markdown",
   "metadata": {},
   "source": [
    "Удалим строки с пустыми значениями в целевых признаках:"
   ]
  },
  {
   "cell_type": "code",
   "execution_count": 36,
   "metadata": {},
   "outputs": [],
   "source": [
    "df_gr_train.dropna(subset=['rougher.output.recovery', 'final.output.recovery'], inplace=True)\n",
    "df_gr_test.dropna(subset=['rougher.output.recovery', 'final.output.recovery'], inplace=True)\n",
    "df_gr_full.dropna(subset=['rougher.output.recovery', 'final.output.recovery'], inplace=True)"
   ]
  },
  {
   "cell_type": "markdown",
   "metadata": {},
   "source": [
    "Заполним строки с пропущенными значениями в остальных признаках с помощью метода *ffill*:"
   ]
  },
  {
   "cell_type": "code",
   "execution_count": 37,
   "metadata": {},
   "outputs": [],
   "source": [
    "df_gr_train.fillna(method='ffill', inplace=True)\n",
    "df_gr_test.fillna(method='ffill', inplace=True)\n",
    "df_gr_full.fillna(method='ffill', inplace=True)"
   ]
  },
  {
   "cell_type": "code",
   "execution_count": 38,
   "metadata": {},
   "outputs": [
    {
     "data": {
      "text/plain": [
       "date                                          0\n",
       "primary_cleaner.input.sulfate                 0\n",
       "primary_cleaner.input.depressant              0\n",
       "primary_cleaner.input.feed_size               0\n",
       "primary_cleaner.input.xanthate                0\n",
       "primary_cleaner.state.floatbank8_a_air        0\n",
       "primary_cleaner.state.floatbank8_a_level      0\n",
       "primary_cleaner.state.floatbank8_b_air        0\n",
       "primary_cleaner.state.floatbank8_b_level      0\n",
       "primary_cleaner.state.floatbank8_c_air        0\n",
       "primary_cleaner.state.floatbank8_c_level      0\n",
       "primary_cleaner.state.floatbank8_d_air        0\n",
       "primary_cleaner.state.floatbank8_d_level      0\n",
       "rougher.input.feed_ag                         0\n",
       "rougher.input.feed_pb                         0\n",
       "rougher.input.feed_rate                       0\n",
       "rougher.input.feed_size                       0\n",
       "rougher.input.feed_sol                        0\n",
       "rougher.input.feed_au                         0\n",
       "rougher.input.floatbank10_sulfate             0\n",
       "rougher.input.floatbank10_xanthate            0\n",
       "rougher.input.floatbank11_sulfate             0\n",
       "rougher.input.floatbank11_xanthate            0\n",
       "rougher.state.floatbank10_a_air               0\n",
       "rougher.state.floatbank10_a_level             0\n",
       "rougher.state.floatbank10_b_air               0\n",
       "rougher.state.floatbank10_b_level             0\n",
       "rougher.state.floatbank10_c_air               0\n",
       "rougher.state.floatbank10_c_level             0\n",
       "rougher.state.floatbank10_d_air               0\n",
       "rougher.state.floatbank10_d_level             0\n",
       "rougher.state.floatbank10_e_air               0\n",
       "rougher.state.floatbank10_e_level             0\n",
       "rougher.state.floatbank10_f_air               0\n",
       "rougher.state.floatbank10_f_level             0\n",
       "secondary_cleaner.state.floatbank2_a_air      0\n",
       "secondary_cleaner.state.floatbank2_a_level    0\n",
       "secondary_cleaner.state.floatbank2_b_air      0\n",
       "secondary_cleaner.state.floatbank2_b_level    0\n",
       "secondary_cleaner.state.floatbank3_a_air      0\n",
       "secondary_cleaner.state.floatbank3_a_level    0\n",
       "secondary_cleaner.state.floatbank3_b_air      0\n",
       "secondary_cleaner.state.floatbank3_b_level    0\n",
       "secondary_cleaner.state.floatbank4_a_air      0\n",
       "secondary_cleaner.state.floatbank4_a_level    0\n",
       "secondary_cleaner.state.floatbank4_b_air      0\n",
       "secondary_cleaner.state.floatbank4_b_level    0\n",
       "secondary_cleaner.state.floatbank5_a_air      0\n",
       "secondary_cleaner.state.floatbank5_a_level    0\n",
       "secondary_cleaner.state.floatbank5_b_air      0\n",
       "secondary_cleaner.state.floatbank5_b_level    0\n",
       "secondary_cleaner.state.floatbank6_a_air      0\n",
       "secondary_cleaner.state.floatbank6_a_level    0\n",
       "rougher.output.recovery                       0\n",
       "final.output.recovery                         0\n",
       "dtype: int64"
      ]
     },
     "execution_count": 38,
     "metadata": {},
     "output_type": "execute_result"
    }
   ],
   "source": [
    "df_gr_train.isna().sum()"
   ]
  },
  {
   "cell_type": "code",
   "execution_count": 39,
   "metadata": {},
   "outputs": [
    {
     "data": {
      "text/plain": [
       "date                                          0\n",
       "primary_cleaner.input.sulfate                 0\n",
       "primary_cleaner.input.depressant              0\n",
       "primary_cleaner.input.feed_size               0\n",
       "primary_cleaner.input.xanthate                0\n",
       "primary_cleaner.state.floatbank8_a_air        0\n",
       "primary_cleaner.state.floatbank8_a_level      0\n",
       "primary_cleaner.state.floatbank8_b_air        0\n",
       "primary_cleaner.state.floatbank8_b_level      0\n",
       "primary_cleaner.state.floatbank8_c_air        0\n",
       "primary_cleaner.state.floatbank8_c_level      0\n",
       "primary_cleaner.state.floatbank8_d_air        0\n",
       "primary_cleaner.state.floatbank8_d_level      0\n",
       "rougher.input.feed_ag                         0\n",
       "rougher.input.feed_pb                         0\n",
       "rougher.input.feed_rate                       0\n",
       "rougher.input.feed_size                       0\n",
       "rougher.input.feed_sol                        0\n",
       "rougher.input.feed_au                         0\n",
       "rougher.input.floatbank10_sulfate             0\n",
       "rougher.input.floatbank10_xanthate            0\n",
       "rougher.input.floatbank11_sulfate             0\n",
       "rougher.input.floatbank11_xanthate            0\n",
       "rougher.state.floatbank10_a_air               0\n",
       "rougher.state.floatbank10_a_level             0\n",
       "rougher.state.floatbank10_b_air               0\n",
       "rougher.state.floatbank10_b_level             0\n",
       "rougher.state.floatbank10_c_air               0\n",
       "rougher.state.floatbank10_c_level             0\n",
       "rougher.state.floatbank10_d_air               0\n",
       "rougher.state.floatbank10_d_level             0\n",
       "rougher.state.floatbank10_e_air               0\n",
       "rougher.state.floatbank10_e_level             0\n",
       "rougher.state.floatbank10_f_air               0\n",
       "rougher.state.floatbank10_f_level             0\n",
       "secondary_cleaner.state.floatbank2_a_air      0\n",
       "secondary_cleaner.state.floatbank2_a_level    0\n",
       "secondary_cleaner.state.floatbank2_b_air      0\n",
       "secondary_cleaner.state.floatbank2_b_level    0\n",
       "secondary_cleaner.state.floatbank3_a_air      0\n",
       "secondary_cleaner.state.floatbank3_a_level    0\n",
       "secondary_cleaner.state.floatbank3_b_air      0\n",
       "secondary_cleaner.state.floatbank3_b_level    0\n",
       "secondary_cleaner.state.floatbank4_a_air      0\n",
       "secondary_cleaner.state.floatbank4_a_level    0\n",
       "secondary_cleaner.state.floatbank4_b_air      0\n",
       "secondary_cleaner.state.floatbank4_b_level    0\n",
       "secondary_cleaner.state.floatbank5_a_air      0\n",
       "secondary_cleaner.state.floatbank5_a_level    0\n",
       "secondary_cleaner.state.floatbank5_b_air      0\n",
       "secondary_cleaner.state.floatbank5_b_level    0\n",
       "secondary_cleaner.state.floatbank6_a_air      0\n",
       "secondary_cleaner.state.floatbank6_a_level    0\n",
       "rougher.output.recovery                       0\n",
       "final.output.recovery                         0\n",
       "dtype: int64"
      ]
     },
     "execution_count": 39,
     "metadata": {},
     "output_type": "execute_result"
    }
   ],
   "source": [
    "df_gr_test.isna().sum()"
   ]
  },
  {
   "cell_type": "code",
   "execution_count": 40,
   "metadata": {},
   "outputs": [
    {
     "data": {
      "text/plain": [
       "date                                                  0\n",
       "final.output.concentrate_ag                           0\n",
       "final.output.concentrate_pb                           0\n",
       "final.output.concentrate_sol                          0\n",
       "final.output.concentrate_au                           0\n",
       "final.output.recovery                                 0\n",
       "final.output.tail_ag                                  0\n",
       "final.output.tail_pb                                  0\n",
       "final.output.tail_sol                                 0\n",
       "final.output.tail_au                                  0\n",
       "primary_cleaner.input.sulfate                         0\n",
       "primary_cleaner.input.depressant                      0\n",
       "primary_cleaner.input.feed_size                       0\n",
       "primary_cleaner.input.xanthate                        0\n",
       "primary_cleaner.output.concentrate_ag                 0\n",
       "primary_cleaner.output.concentrate_pb                 0\n",
       "primary_cleaner.output.concentrate_sol                0\n",
       "primary_cleaner.output.concentrate_au                 0\n",
       "primary_cleaner.output.tail_ag                        0\n",
       "primary_cleaner.output.tail_pb                        0\n",
       "primary_cleaner.output.tail_sol                       0\n",
       "primary_cleaner.output.tail_au                        0\n",
       "primary_cleaner.state.floatbank8_a_air                0\n",
       "primary_cleaner.state.floatbank8_a_level              0\n",
       "primary_cleaner.state.floatbank8_b_air                0\n",
       "primary_cleaner.state.floatbank8_b_level              0\n",
       "primary_cleaner.state.floatbank8_c_air                0\n",
       "primary_cleaner.state.floatbank8_c_level              0\n",
       "primary_cleaner.state.floatbank8_d_air                0\n",
       "primary_cleaner.state.floatbank8_d_level              0\n",
       "rougher.calculation.sulfate_to_au_concentrate         0\n",
       "rougher.calculation.floatbank10_sulfate_to_au_feed    0\n",
       "rougher.calculation.floatbank11_sulfate_to_au_feed    0\n",
       "rougher.calculation.au_pb_ratio                       0\n",
       "rougher.input.feed_ag                                 0\n",
       "rougher.input.feed_pb                                 0\n",
       "rougher.input.feed_rate                               0\n",
       "rougher.input.feed_size                               0\n",
       "rougher.input.feed_sol                                0\n",
       "rougher.input.feed_au                                 0\n",
       "rougher.input.floatbank10_sulfate                     0\n",
       "rougher.input.floatbank10_xanthate                    0\n",
       "rougher.input.floatbank11_sulfate                     0\n",
       "rougher.input.floatbank11_xanthate                    0\n",
       "rougher.output.concentrate_ag                         0\n",
       "rougher.output.concentrate_pb                         0\n",
       "rougher.output.concentrate_sol                        0\n",
       "rougher.output.concentrate_au                         0\n",
       "rougher.output.recovery                               0\n",
       "rougher.output.tail_ag                                0\n",
       "rougher.output.tail_pb                                0\n",
       "rougher.output.tail_sol                               0\n",
       "rougher.output.tail_au                                0\n",
       "rougher.state.floatbank10_a_air                       0\n",
       "rougher.state.floatbank10_a_level                     0\n",
       "rougher.state.floatbank10_b_air                       0\n",
       "rougher.state.floatbank10_b_level                     0\n",
       "rougher.state.floatbank10_c_air                       0\n",
       "rougher.state.floatbank10_c_level                     0\n",
       "rougher.state.floatbank10_d_air                       0\n",
       "rougher.state.floatbank10_d_level                     0\n",
       "rougher.state.floatbank10_e_air                       0\n",
       "rougher.state.floatbank10_e_level                     0\n",
       "rougher.state.floatbank10_f_air                       0\n",
       "rougher.state.floatbank10_f_level                     0\n",
       "secondary_cleaner.output.tail_ag                      0\n",
       "secondary_cleaner.output.tail_pb                      0\n",
       "secondary_cleaner.output.tail_sol                     0\n",
       "secondary_cleaner.output.tail_au                      0\n",
       "secondary_cleaner.state.floatbank2_a_air              0\n",
       "secondary_cleaner.state.floatbank2_a_level            0\n",
       "secondary_cleaner.state.floatbank2_b_air              0\n",
       "secondary_cleaner.state.floatbank2_b_level            0\n",
       "secondary_cleaner.state.floatbank3_a_air              0\n",
       "secondary_cleaner.state.floatbank3_a_level            0\n",
       "secondary_cleaner.state.floatbank3_b_air              0\n",
       "secondary_cleaner.state.floatbank3_b_level            0\n",
       "secondary_cleaner.state.floatbank4_a_air              0\n",
       "secondary_cleaner.state.floatbank4_a_level            0\n",
       "secondary_cleaner.state.floatbank4_b_air              0\n",
       "secondary_cleaner.state.floatbank4_b_level            0\n",
       "secondary_cleaner.state.floatbank5_a_air              0\n",
       "secondary_cleaner.state.floatbank5_a_level            0\n",
       "secondary_cleaner.state.floatbank5_b_air              0\n",
       "secondary_cleaner.state.floatbank5_b_level            0\n",
       "secondary_cleaner.state.floatbank6_a_air              0\n",
       "secondary_cleaner.state.floatbank6_a_level            0\n",
       "dtype: int64"
      ]
     },
     "execution_count": 40,
     "metadata": {},
     "output_type": "execute_result"
    }
   ],
   "source": [
    "df_gr_full.isna().sum()"
   ]
  },
  {
   "cell_type": "markdown",
   "metadata": {},
   "source": [
    "Все пропуски были обработаны."
   ]
  },
  {
   "cell_type": "markdown",
   "metadata": {},
   "source": [
    "### Обучение моделей"
   ]
  },
  {
   "cell_type": "markdown",
   "metadata": {},
   "source": [
    "**Разделение данных на выборки**"
   ]
  },
  {
   "cell_type": "code",
   "execution_count": 41,
   "metadata": {
    "scrolled": true
   },
   "outputs": [
    {
     "name": "stdout",
     "output_type": "stream",
     "text": [
      "Процент данных в обучающей выборке: 72%\n",
      "Процент данных в тестовой выборке: 28%\n"
     ]
    }
   ],
   "source": [
    "print(\"Процент данных в обучающей выборке:\", '{:.0%}'.format(len(df_gr_train)/len(df_gr_full)))\n",
    "print(\"Процент данных в тестовой выборке:\", '{:.0%}'.format(len(df_gr_test)/len(df_gr_full)))"
   ]
  },
  {
   "cell_type": "markdown",
   "metadata": {},
   "source": [
    "Распределение данных по выборкам можно считать приемлимым."
   ]
  },
  {
   "cell_type": "markdown",
   "metadata": {},
   "source": [
    "Cоздадим переменные для признаков и целевого признака:"
   ]
  },
  {
   "cell_type": "code",
   "execution_count": 42,
   "metadata": {},
   "outputs": [],
   "source": [
    "target_train = df_gr_train[['rougher.output.recovery', 'final.output.recovery']]\n",
    "features_train  = df_gr_train.drop(['rougher.output.recovery', 'final.output.recovery', 'date'], axis=1)\n",
    "\n",
    "target_test = df_gr_test[['rougher.output.recovery', 'final.output.recovery']]\n",
    "features_test = df_gr_test.drop(['rougher.output.recovery', 'final.output.recovery', 'date'], axis=1)"
   ]
  },
  {
   "cell_type": "markdown",
   "metadata": {},
   "source": [
    "**Константные показатели**"
   ]
  },
  {
   "cell_type": "markdown",
   "metadata": {},
   "source": [
    "Найдем параметры константной модели, где константной является ср. арифметическое для целевого признака. Данные параметры будут являться целевыми для сравнения результатов обучения наших моделей и выбора наилучшей."
   ]
  },
  {
   "cell_type": "code",
   "execution_count": 43,
   "metadata": {},
   "outputs": [
    {
     "name": "stdout",
     "output_type": "stream",
     "text": [
      "Уровень sMAPE для rough: 6.99\n",
      "Уровень sMAPE для final: 9.32\n",
      "Уровень final sMAPE: 8.74\n"
     ]
    }
   ],
   "source": [
    "rougher_constant = pd.Series(df_gr_train['rougher.output.recovery'].mean(), index=df_gr_train.index)\n",
    "final_constant = pd.Series(df_gr_train['final.output.recovery'].mean(), index=df_gr_train.index)\n",
    "\n",
    "smape_rougher_constant = smape(df_gr_train['rougher.output.recovery'], rougher_constant)\n",
    "smape_final_constant = smape(df_gr_train['final.output.recovery'], final_constant)\n",
    "\n",
    "final_smape_constant = final_smape_calc(smape_rougher_constant, smape_final_constant)\n",
    "\n",
    "print('Уровень sMAPE для rough:', round(smape_rougher_constant,2))\n",
    "print('Уровень sMAPE для final:', round(smape_final_constant,2))\n",
    "print('Уровень final sMAPE:', round(final_smape_constant,2))"
   ]
  },
  {
   "cell_type": "markdown",
   "metadata": {},
   "source": [
    "**Определение параметров и функций**"
   ]
  },
  {
   "cell_type": "markdown",
   "metadata": {},
   "source": [
    "Определим параметры и функцию для создания моделей:"
   ]
  },
  {
   "cell_type": "code",
   "execution_count": 44,
   "metadata": {},
   "outputs": [],
   "source": [
    "parameters_LR = {}\n",
    "\n",
    "parameters_DT = {'decisiontreeregressor__max_depth': list(range(1, 11))}\n",
    "\n",
    "parameters_RF = {'randomforestregressor__max_depth': list(range(2, 12, 2)),\n",
    "                 'randomforestregressor__n_estimators': list(range(10,60,10))\n",
    "                }\n",
    "\n",
    "model_LR = make_pipeline(StandardScaler(), LinearRegression())\n",
    "model_DT = make_pipeline(StandardScaler(), DecisionTreeRegressor(random_state=12345))\n",
    "model_RF = make_pipeline(StandardScaler(), RandomForestRegressor(random_state=12345))"
   ]
  },
  {
   "cell_type": "code",
   "execution_count": 45,
   "metadata": {},
   "outputs": [],
   "source": [
    "def grid_search_cv(model, features, target_rougher, target_final, parameters):\n",
    "\n",
    "    limit_smape = 999999\n",
    "    \n",
    "    scorer = make_scorer(smape, greater_is_better=False)\n",
    "    \n",
    "    grid_rougher = GridSearchCV(estimator=model, param_grid=parameters, cv=5, scoring=scorer)\n",
    "    grid_rougher.fit(features, target_rougher)\n",
    "    smape_rougher = grid_rougher.best_score_\n",
    "       \n",
    "    grid_final = GridSearchCV(estimator=model, param_grid=parameters, cv=5, scoring=scorer)\n",
    "    grid_final.fit(features, target_final)\n",
    "    smape_final = grid_final.best_score_\n",
    "\n",
    "    final_smape = final_smape_calc(smape_rougher, smape_final)\n",
    "    \n",
    "    if final_smape < limit_smape:\n",
    "        best_model_rougher = grid_rougher.best_estimator_\n",
    "        best_model_final = grid_final.best_estimator_\n",
    "        best_smape_final = final_smape\n",
    "\n",
    "        print(f'Итоговое sMAPE для {model.__class__.__name__}:', round(best_smape_final*(-1), 2)) # параметр greater_is_better=False определяет функцию минимизации решения (low is good), однако возвращает решение с противоположным знаком, поэтому умножаем на -1.    \n",
    "        print(\"Параметры лучшей модели для rougher:\", grid_rougher.best_params_)\n",
    "        print(\"Параметры лучшей модели для final:\", grid_final.best_params_)\n",
    "        print()\n",
    "    return best_model_rougher, best_model_final"
   ]
  },
  {
   "cell_type": "markdown",
   "metadata": {},
   "source": [
    "**Модель линейной регресии**"
   ]
  },
  {
   "cell_type": "code",
   "execution_count": 46,
   "metadata": {
    "scrolled": false
   },
   "outputs": [
    {
     "name": "stdout",
     "output_type": "stream",
     "text": [
      "Итоговое sMAPE для Pipeline: 9.39\n",
      "Параметры лучшей модели для rougher: {}\n",
      "Параметры лучшей модели для final: {}\n",
      "\n",
      "CPU times: user 1.11 s, sys: 1.99 s, total: 3.1 s\n",
      "Wall time: 3.05 s\n"
     ]
    }
   ],
   "source": [
    "%%time\n",
    "best_model_rougher_LR, best_model_final_LR = grid_search_cv(model_LR, features_train, target_train[\"rougher.output.recovery\"],\n",
    "                                                            target_train[\"final.output.recovery\"], parameters_LR)"
   ]
  },
  {
   "cell_type": "markdown",
   "metadata": {},
   "source": [
    "💡 Итоговое sMAPE для модели линейной регрессии хуже, чем константная модель (9.39 > 8.74)."
   ]
  },
  {
   "cell_type": "markdown",
   "metadata": {},
   "source": [
    "**Модель дерева решений**"
   ]
  },
  {
   "cell_type": "code",
   "execution_count": 47,
   "metadata": {},
   "outputs": [
    {
     "name": "stdout",
     "output_type": "stream",
     "text": [
      "Итоговое sMAPE для Pipeline: 8.16\n",
      "Параметры лучшей модели для rougher: {'decisiontreeregressor__max_depth': 3}\n",
      "Параметры лучшей модели для final: {'decisiontreeregressor__max_depth': 4}\n",
      "\n",
      "CPU times: user 33.6 s, sys: 0 ns, total: 33.6 s\n",
      "Wall time: 33.6 s\n"
     ]
    }
   ],
   "source": [
    "%%time\n",
    "best_model_rougher_DT, best_model_final_DT = grid_search_cv(model_DT, features_train, target_train[\"rougher.output.recovery\"],\n",
    "                                                            target_train[\"final.output.recovery\"], parameters_DT)"
   ]
  },
  {
   "cell_type": "markdown",
   "metadata": {},
   "source": [
    "💡 Итоговое sMAPE для модели дерева решений с подобранными параметрами лучше, чем константная модель (8.16 < 8.74)."
   ]
  },
  {
   "cell_type": "markdown",
   "metadata": {},
   "source": [
    "**Модель случайного леса**"
   ]
  },
  {
   "cell_type": "code",
   "execution_count": 48,
   "metadata": {},
   "outputs": [
    {
     "name": "stdout",
     "output_type": "stream",
     "text": [
      "Итоговое sMAPE для Pipeline: 7.7\n",
      "Параметры лучшей модели для rougher: {'randomforestregressor__max_depth': 4, 'randomforestregressor__n_estimators': 10}\n",
      "Параметры лучшей модели для final: {'randomforestregressor__max_depth': 4, 'randomforestregressor__n_estimators': 50}\n",
      "\n",
      "CPU times: user 26min 2s, sys: 2.27 s, total: 26min 5s\n",
      "Wall time: 26min 5s\n"
     ]
    }
   ],
   "source": [
    "%%time\n",
    "best_model_rougher_RF, best_model_final_RF = grid_search_cv(model_RF, features_train, target_train[\"rougher.output.recovery\"],\n",
    "                                                            target_train[\"final.output.recovery\"], parameters_RF)"
   ]
  },
  {
   "cell_type": "markdown",
   "metadata": {},
   "source": [
    "💡 Модель случайного леса показала наилучшие результаты: 7.7 < 8.74."
   ]
  },
  {
   "cell_type": "markdown",
   "metadata": {},
   "source": [
    "**Оценка модели на тестовой выборке**"
   ]
  },
  {
   "cell_type": "markdown",
   "metadata": {},
   "source": [
    "Оценим sMAPE модели случайного леса на тестовой выборке:"
   ]
  },
  {
   "cell_type": "code",
   "execution_count": 49,
   "metadata": {},
   "outputs": [
    {
     "name": "stdout",
     "output_type": "stream",
     "text": [
      "Итоговое sMAPE на тестовой выборке: 7.2\n"
     ]
    }
   ],
   "source": [
    "# модель случайного леса\n",
    "pred_rough = best_model_rougher_RF.predict(features_test)\n",
    "pred_final = best_model_final_RF.predict(features_test)\n",
    "print(\"Итоговое sMAPE на тестовой выборке:\", round(final_smape_calc(smape(pred_rough, target_test[\"rougher.output.recovery\"]),\n",
    "                                                                    smape(pred_final, target_test[\"final.output.recovery\"])),2))"
   ]
  },
  {
   "cell_type": "markdown",
   "metadata": {},
   "source": [
    "## Общий вывод"
   ]
  },
  {
   "cell_type": "markdown",
   "metadata": {},
   "source": [
    "В ходе исследования были подготовлены и проанализированы данные. Было выявлено, что концентрации золота и свинца растут последовательно по этапам очистки, а концентрация серебра снижается. Распределения размеров гранул в тренировочной и тестовой выборках похожи, их средние и отклонения отличаются незначительно. Концентрация всех металлов (Au, Ag, Pb) также увеличивается от этапа очистки к этапу.\n",
    "\n",
    "На этапе обучения и тестирования модели была подобрана наилучшая модель — модель случайного леса с показателем Итогового sMAPE 7.7, что лучше константной модели с показателем  8.74. На тестовых данных sMAPE лучшей модели составила 7.2, что еще лучше показателей обучающей выборки.\n",
    "\n",
    "*Параметры лучшей модели для эффективности обогащения чернового концентрата: {'max_depth': 4, 'n_estimators': 10}    \n",
    "Параметры лучшей модели для эффективность обогащения финального концентрата: {'max_depth': 4, 'n_estimators': 50}*\n",
    "\n",
    "Таким образом, был подготовлен прототип модели машинного обучения, которая предсказывает коэффициент восстановления золота из золотосодержащей руды с необходимой точностью."
   ]
  }
 ],
 "metadata": {
  "ExecuteTimeLog": [
   {
    "duration": 1726,
    "start_time": "2022-08-03T21:00:51.429Z"
   },
   {
    "duration": 2,
    "start_time": "2022-08-03T21:00:53.158Z"
   },
   {
    "duration": 4975,
    "start_time": "2022-08-03T21:00:53.162Z"
   },
   {
    "duration": 156,
    "start_time": "2022-08-03T21:00:58.139Z"
   },
   {
    "duration": 37,
    "start_time": "2022-08-03T21:00:58.297Z"
   },
   {
    "duration": 22,
    "start_time": "2022-08-03T21:00:58.337Z"
   },
   {
    "duration": 17,
    "start_time": "2022-08-03T21:00:58.361Z"
   },
   {
    "duration": 3,
    "start_time": "2022-08-03T21:00:58.380Z"
   },
   {
    "duration": 37,
    "start_time": "2022-08-03T21:00:58.384Z"
   },
   {
    "duration": 15,
    "start_time": "2022-08-03T21:00:58.436Z"
   },
   {
    "duration": 5,
    "start_time": "2022-08-03T21:00:58.453Z"
   },
   {
    "duration": 21,
    "start_time": "2022-08-03T21:00:58.460Z"
   },
   {
    "duration": 6,
    "start_time": "2022-08-03T21:00:58.482Z"
   },
   {
    "duration": 42,
    "start_time": "2022-08-03T21:00:58.490Z"
   },
   {
    "duration": 11,
    "start_time": "2022-08-03T21:00:58.538Z"
   },
   {
    "duration": 16,
    "start_time": "2022-08-03T21:00:58.551Z"
   },
   {
    "duration": 168,
    "start_time": "2022-08-03T21:00:58.568Z"
   },
   {
    "duration": 219,
    "start_time": "2022-08-03T21:00:58.738Z"
   },
   {
    "duration": 5,
    "start_time": "2022-08-03T21:00:58.959Z"
   },
   {
    "duration": 9,
    "start_time": "2022-08-03T21:00:58.965Z"
   },
   {
    "duration": 8,
    "start_time": "2022-08-03T21:00:58.975Z"
   },
   {
    "duration": 1478,
    "start_time": "2022-08-03T21:00:58.984Z"
   },
   {
    "duration": 1507,
    "start_time": "2022-08-03T21:01:00.463Z"
   },
   {
    "duration": 1613,
    "start_time": "2022-08-03T21:01:01.972Z"
   },
   {
    "duration": 829,
    "start_time": "2022-08-03T21:01:03.587Z"
   },
   {
    "duration": 15,
    "start_time": "2022-08-03T21:01:04.417Z"
   },
   {
    "duration": 28,
    "start_time": "2022-08-03T21:01:04.434Z"
   },
   {
    "duration": 109,
    "start_time": "2022-08-03T21:01:19.529Z"
   },
   {
    "duration": 11,
    "start_time": "2022-08-03T21:08:21.729Z"
   },
   {
    "duration": 538,
    "start_time": "2022-08-03T21:08:27.753Z"
   },
   {
    "duration": 14,
    "start_time": "2022-08-03T21:09:43.833Z"
   },
   {
    "duration": 1616,
    "start_time": "2022-08-03T21:09:46.529Z"
   },
   {
    "duration": 13,
    "start_time": "2022-08-03T21:10:20.633Z"
   },
   {
    "duration": 1703,
    "start_time": "2022-08-03T21:10:23.537Z"
   },
   {
    "duration": 12,
    "start_time": "2022-08-03T21:10:33.668Z"
   },
   {
    "duration": 1534,
    "start_time": "2022-08-03T21:10:36.689Z"
   },
   {
    "duration": 21,
    "start_time": "2022-08-03T21:10:46.567Z"
   },
   {
    "duration": 246,
    "start_time": "2022-08-03T21:20:56.051Z"
   },
   {
    "duration": 24,
    "start_time": "2022-08-03T21:21:14.612Z"
   },
   {
    "duration": 226,
    "start_time": "2022-08-03T21:21:56.952Z"
   },
   {
    "duration": 7,
    "start_time": "2022-08-03T21:22:04.834Z"
   },
   {
    "duration": 7,
    "start_time": "2022-08-03T21:26:05.161Z"
   },
   {
    "duration": 5,
    "start_time": "2022-08-03T21:26:39.588Z"
   },
   {
    "duration": 6,
    "start_time": "2022-08-03T21:26:56.641Z"
   },
   {
    "duration": 15,
    "start_time": "2022-08-03T21:27:14.466Z"
   },
   {
    "duration": 1564,
    "start_time": "2022-08-03T21:27:17.064Z"
   },
   {
    "duration": 17,
    "start_time": "2022-08-03T21:31:47.729Z"
   },
   {
    "duration": 14,
    "start_time": "2022-08-03T21:32:50.478Z"
   },
   {
    "duration": 1558,
    "start_time": "2022-08-03T21:33:05.936Z"
   },
   {
    "duration": 16,
    "start_time": "2022-08-03T21:33:23.173Z"
   },
   {
    "duration": 9,
    "start_time": "2022-08-03T21:33:24.052Z"
   },
   {
    "duration": 1521,
    "start_time": "2022-08-03T21:33:31.337Z"
   },
   {
    "duration": 22,
    "start_time": "2022-08-03T21:34:54.125Z"
   },
   {
    "duration": 32,
    "start_time": "2022-08-03T21:35:24.593Z"
   },
   {
    "duration": 1621,
    "start_time": "2022-08-03T21:35:27.842Z"
   },
   {
    "duration": 24,
    "start_time": "2022-08-03T21:35:34.171Z"
   },
   {
    "duration": 9,
    "start_time": "2022-08-03T22:25:53.017Z"
   },
   {
    "duration": 132,
    "start_time": "2022-08-03T22:25:55.742Z"
   },
   {
    "duration": 1404,
    "start_time": "2022-08-03T22:41:09.359Z"
   },
   {
    "duration": 3,
    "start_time": "2022-08-03T22:41:10.765Z"
   },
   {
    "duration": 852,
    "start_time": "2022-08-03T22:41:10.769Z"
   },
   {
    "duration": 146,
    "start_time": "2022-08-03T22:41:11.623Z"
   },
   {
    "duration": 16,
    "start_time": "2022-08-03T22:41:11.770Z"
   },
   {
    "duration": 32,
    "start_time": "2022-08-03T22:41:11.788Z"
   },
   {
    "duration": 20,
    "start_time": "2022-08-03T22:41:11.825Z"
   },
   {
    "duration": 3,
    "start_time": "2022-08-03T22:41:11.846Z"
   },
   {
    "duration": 14,
    "start_time": "2022-08-03T22:41:11.851Z"
   },
   {
    "duration": 12,
    "start_time": "2022-08-03T22:41:11.869Z"
   },
   {
    "duration": 22,
    "start_time": "2022-08-03T22:41:11.883Z"
   },
   {
    "duration": 39,
    "start_time": "2022-08-03T22:41:11.913Z"
   },
   {
    "duration": 6,
    "start_time": "2022-08-03T22:41:11.954Z"
   },
   {
    "duration": 24,
    "start_time": "2022-08-03T22:41:11.961Z"
   },
   {
    "duration": 37,
    "start_time": "2022-08-03T22:41:11.986Z"
   },
   {
    "duration": 22,
    "start_time": "2022-08-03T22:41:12.024Z"
   },
   {
    "duration": 172,
    "start_time": "2022-08-03T22:41:12.048Z"
   },
   {
    "duration": 201,
    "start_time": "2022-08-03T22:41:12.225Z"
   },
   {
    "duration": 5,
    "start_time": "2022-08-03T22:41:12.428Z"
   },
   {
    "duration": 4,
    "start_time": "2022-08-03T22:41:12.434Z"
   },
   {
    "duration": 15,
    "start_time": "2022-08-03T22:41:12.440Z"
   },
   {
    "duration": 1583,
    "start_time": "2022-08-03T22:41:12.457Z"
   },
   {
    "duration": 1397,
    "start_time": "2022-08-03T22:41:14.042Z"
   },
   {
    "duration": 1400,
    "start_time": "2022-08-03T22:41:15.440Z"
   },
   {
    "duration": 732,
    "start_time": "2022-08-03T22:41:16.841Z"
   },
   {
    "duration": 8,
    "start_time": "2022-08-03T22:41:17.574Z"
   },
   {
    "duration": 45,
    "start_time": "2022-08-03T22:41:17.583Z"
   },
   {
    "duration": 18,
    "start_time": "2022-08-03T22:41:17.631Z"
   },
   {
    "duration": 1497,
    "start_time": "2022-08-03T22:41:17.650Z"
   },
   {
    "duration": 21,
    "start_time": "2022-08-03T22:41:19.148Z"
   },
   {
    "duration": 53,
    "start_time": "2022-08-03T22:41:19.170Z"
   },
   {
    "duration": 13,
    "start_time": "2022-08-03T22:41:19.225Z"
   },
   {
    "duration": 7,
    "start_time": "2022-08-03T22:41:19.239Z"
   },
   {
    "duration": 16,
    "start_time": "2022-08-03T22:41:19.247Z"
   },
   {
    "duration": 23,
    "start_time": "2022-08-03T22:41:19.265Z"
   },
   {
    "duration": 27,
    "start_time": "2022-08-03T22:41:19.290Z"
   },
   {
    "duration": 12,
    "start_time": "2022-08-03T22:41:19.319Z"
   },
   {
    "duration": 11,
    "start_time": "2022-08-03T22:41:19.333Z"
   },
   {
    "duration": 15,
    "start_time": "2022-08-03T22:41:19.345Z"
   },
   {
    "duration": 12,
    "start_time": "2022-08-03T22:41:19.362Z"
   },
   {
    "duration": 5,
    "start_time": "2022-08-03T22:41:19.376Z"
   },
   {
    "duration": 9,
    "start_time": "2022-08-03T22:41:19.382Z"
   },
   {
    "duration": 35,
    "start_time": "2022-08-03T22:41:19.393Z"
   },
   {
    "duration": 154,
    "start_time": "2022-08-03T22:41:24.569Z"
   },
   {
    "duration": 5,
    "start_time": "2022-08-03T22:42:24.525Z"
   },
   {
    "duration": 12,
    "start_time": "2022-08-03T22:42:24.533Z"
   },
   {
    "duration": 881,
    "start_time": "2022-08-03T22:42:24.547Z"
   },
   {
    "duration": 147,
    "start_time": "2022-08-03T22:42:25.429Z"
   },
   {
    "duration": 22,
    "start_time": "2022-08-03T22:42:25.578Z"
   },
   {
    "duration": 15,
    "start_time": "2022-08-03T22:42:25.617Z"
   },
   {
    "duration": 20,
    "start_time": "2022-08-03T22:42:25.633Z"
   },
   {
    "duration": 3,
    "start_time": "2022-08-03T22:42:25.655Z"
   },
   {
    "duration": 7,
    "start_time": "2022-08-03T22:42:25.659Z"
   },
   {
    "duration": 4,
    "start_time": "2022-08-03T22:42:25.667Z"
   },
   {
    "duration": 5,
    "start_time": "2022-08-03T22:42:25.673Z"
   },
   {
    "duration": 41,
    "start_time": "2022-08-03T22:42:25.679Z"
   },
   {
    "duration": 4,
    "start_time": "2022-08-03T22:42:25.727Z"
   },
   {
    "duration": 6,
    "start_time": "2022-08-03T22:42:25.733Z"
   },
   {
    "duration": 10,
    "start_time": "2022-08-03T22:42:25.740Z"
   },
   {
    "duration": 14,
    "start_time": "2022-08-03T22:42:25.751Z"
   },
   {
    "duration": 158,
    "start_time": "2022-08-03T22:42:25.766Z"
   },
   {
    "duration": 212,
    "start_time": "2022-08-03T22:42:25.929Z"
   },
   {
    "duration": 4,
    "start_time": "2022-08-03T22:42:26.143Z"
   },
   {
    "duration": 6,
    "start_time": "2022-08-03T22:42:26.149Z"
   },
   {
    "duration": 7,
    "start_time": "2022-08-03T22:42:26.156Z"
   },
   {
    "duration": 1462,
    "start_time": "2022-08-03T22:42:26.165Z"
   },
   {
    "duration": 1411,
    "start_time": "2022-08-03T22:42:27.628Z"
   },
   {
    "duration": 1395,
    "start_time": "2022-08-03T22:42:29.041Z"
   },
   {
    "duration": 638,
    "start_time": "2022-08-03T22:42:30.437Z"
   },
   {
    "duration": 8,
    "start_time": "2022-08-03T22:42:31.077Z"
   },
   {
    "duration": 9,
    "start_time": "2022-08-03T22:42:31.110Z"
   },
   {
    "duration": 26,
    "start_time": "2022-08-03T22:42:31.121Z"
   },
   {
    "duration": 1484,
    "start_time": "2022-08-03T22:42:31.149Z"
   },
   {
    "duration": 19,
    "start_time": "2022-08-03T22:42:32.635Z"
   },
   {
    "duration": 13,
    "start_time": "2022-08-03T22:42:32.655Z"
   },
   {
    "duration": 39,
    "start_time": "2022-08-03T22:42:32.669Z"
   },
   {
    "duration": 33,
    "start_time": "2022-08-03T22:42:32.709Z"
   },
   {
    "duration": 8,
    "start_time": "2022-08-03T22:42:32.744Z"
   },
   {
    "duration": 21,
    "start_time": "2022-08-03T22:42:32.754Z"
   },
   {
    "duration": 13,
    "start_time": "2022-08-03T22:42:32.776Z"
   },
   {
    "duration": 11,
    "start_time": "2022-08-03T22:42:32.793Z"
   },
   {
    "duration": 33,
    "start_time": "2022-08-03T22:42:32.805Z"
   },
   {
    "duration": 6,
    "start_time": "2022-08-03T22:42:32.840Z"
   },
   {
    "duration": 10,
    "start_time": "2022-08-03T22:42:32.848Z"
   },
   {
    "duration": 17,
    "start_time": "2022-08-03T22:42:32.860Z"
   },
   {
    "duration": 8,
    "start_time": "2022-08-03T22:42:32.878Z"
   },
   {
    "duration": 9,
    "start_time": "2022-08-03T22:42:32.887Z"
   },
   {
    "duration": 10701,
    "start_time": "2022-08-03T22:42:41.026Z"
   },
   {
    "duration": 34,
    "start_time": "2022-08-03T22:43:05.724Z"
   },
   {
    "duration": 3,
    "start_time": "2022-08-03T22:46:09.862Z"
   },
   {
    "duration": 65,
    "start_time": "2022-08-03T22:46:12.424Z"
   },
   {
    "duration": 55,
    "start_time": "2022-08-03T22:46:15.167Z"
   },
   {
    "duration": 3,
    "start_time": "2022-08-03T22:46:21.557Z"
   },
   {
    "duration": 17,
    "start_time": "2022-08-03T22:46:21.564Z"
   },
   {
    "duration": 808,
    "start_time": "2022-08-03T22:46:21.582Z"
   },
   {
    "duration": 149,
    "start_time": "2022-08-03T22:46:22.392Z"
   },
   {
    "duration": 17,
    "start_time": "2022-08-03T22:46:22.543Z"
   },
   {
    "duration": 12,
    "start_time": "2022-08-03T22:46:22.561Z"
   },
   {
    "duration": 45,
    "start_time": "2022-08-03T22:46:22.575Z"
   },
   {
    "duration": 4,
    "start_time": "2022-08-03T22:46:22.621Z"
   },
   {
    "duration": 11,
    "start_time": "2022-08-03T22:46:22.627Z"
   },
   {
    "duration": 5,
    "start_time": "2022-08-03T22:46:22.641Z"
   },
   {
    "duration": 6,
    "start_time": "2022-08-03T22:46:22.647Z"
   },
   {
    "duration": 9,
    "start_time": "2022-08-03T22:46:22.654Z"
   },
   {
    "duration": 4,
    "start_time": "2022-08-03T22:46:22.664Z"
   },
   {
    "duration": 6,
    "start_time": "2022-08-03T22:46:22.669Z"
   },
   {
    "duration": 38,
    "start_time": "2022-08-03T22:46:22.677Z"
   },
   {
    "duration": 17,
    "start_time": "2022-08-03T22:46:22.717Z"
   },
   {
    "duration": 145,
    "start_time": "2022-08-03T22:46:22.736Z"
   },
   {
    "duration": 196,
    "start_time": "2022-08-03T22:46:22.883Z"
   },
   {
    "duration": 5,
    "start_time": "2022-08-03T22:46:23.080Z"
   },
   {
    "duration": 36,
    "start_time": "2022-08-03T22:46:23.086Z"
   },
   {
    "duration": 5,
    "start_time": "2022-08-03T22:46:23.124Z"
   },
   {
    "duration": 1403,
    "start_time": "2022-08-03T22:46:23.131Z"
   },
   {
    "duration": 1411,
    "start_time": "2022-08-03T22:46:24.536Z"
   },
   {
    "duration": 1482,
    "start_time": "2022-08-03T22:46:25.949Z"
   },
   {
    "duration": 753,
    "start_time": "2022-08-03T22:46:27.434Z"
   },
   {
    "duration": 32,
    "start_time": "2022-08-03T22:46:28.189Z"
   },
   {
    "duration": 9,
    "start_time": "2022-08-03T22:46:28.226Z"
   },
   {
    "duration": 12,
    "start_time": "2022-08-03T22:46:28.237Z"
   },
   {
    "duration": 1513,
    "start_time": "2022-08-03T22:46:28.251Z"
   },
   {
    "duration": 56,
    "start_time": "2022-08-03T22:46:29.765Z"
   },
   {
    "duration": 14,
    "start_time": "2022-08-03T22:46:29.823Z"
   },
   {
    "duration": 12,
    "start_time": "2022-08-03T22:46:29.839Z"
   },
   {
    "duration": 2,
    "start_time": "2022-08-03T22:46:29.853Z"
   },
   {
    "duration": 6,
    "start_time": "2022-08-03T22:46:29.857Z"
   },
   {
    "duration": 17,
    "start_time": "2022-08-03T22:46:29.865Z"
   },
   {
    "duration": 33,
    "start_time": "2022-08-03T22:46:29.883Z"
   },
   {
    "duration": 9,
    "start_time": "2022-08-03T22:46:29.920Z"
   },
   {
    "duration": 7,
    "start_time": "2022-08-03T22:46:29.931Z"
   },
   {
    "duration": 10,
    "start_time": "2022-08-03T22:46:29.939Z"
   },
   {
    "duration": 11,
    "start_time": "2022-08-03T22:46:29.950Z"
   },
   {
    "duration": 3,
    "start_time": "2022-08-03T22:46:29.963Z"
   },
   {
    "duration": 13,
    "start_time": "2022-08-03T22:46:29.968Z"
   },
   {
    "duration": 22,
    "start_time": "2022-08-03T22:46:29.982Z"
   },
   {
    "duration": 115,
    "start_time": "2022-08-03T22:46:30.005Z"
   },
   {
    "duration": 68,
    "start_time": "2022-08-03T22:46:34.819Z"
   },
   {
    "duration": 33,
    "start_time": "2022-08-03T22:46:37.923Z"
   },
   {
    "duration": 1421,
    "start_time": "2022-08-03T23:00:20.821Z"
   },
   {
    "duration": 4,
    "start_time": "2022-08-03T23:00:22.243Z"
   },
   {
    "duration": 868,
    "start_time": "2022-08-03T23:00:22.248Z"
   },
   {
    "duration": 135,
    "start_time": "2022-08-03T23:00:23.117Z"
   },
   {
    "duration": 19,
    "start_time": "2022-08-03T23:00:23.254Z"
   },
   {
    "duration": 37,
    "start_time": "2022-08-03T23:00:23.275Z"
   },
   {
    "duration": 19,
    "start_time": "2022-08-03T23:00:23.313Z"
   },
   {
    "duration": 3,
    "start_time": "2022-08-03T23:00:23.333Z"
   },
   {
    "duration": 8,
    "start_time": "2022-08-03T23:00:23.338Z"
   },
   {
    "duration": 4,
    "start_time": "2022-08-03T23:00:23.347Z"
   },
   {
    "duration": 8,
    "start_time": "2022-08-03T23:00:23.352Z"
   },
   {
    "duration": 15,
    "start_time": "2022-08-03T23:00:23.361Z"
   },
   {
    "duration": 4,
    "start_time": "2022-08-03T23:00:23.378Z"
   },
   {
    "duration": 18,
    "start_time": "2022-08-03T23:00:23.406Z"
   },
   {
    "duration": 13,
    "start_time": "2022-08-03T23:00:23.426Z"
   },
   {
    "duration": 15,
    "start_time": "2022-08-03T23:00:23.441Z"
   },
   {
    "duration": 158,
    "start_time": "2022-08-03T23:00:23.458Z"
   },
   {
    "duration": 205,
    "start_time": "2022-08-03T23:00:23.618Z"
   },
   {
    "duration": 6,
    "start_time": "2022-08-03T23:00:23.825Z"
   },
   {
    "duration": 5,
    "start_time": "2022-08-03T23:00:23.833Z"
   },
   {
    "duration": 6,
    "start_time": "2022-08-03T23:00:23.839Z"
   },
   {
    "duration": 1501,
    "start_time": "2022-08-03T23:00:23.846Z"
   },
   {
    "duration": 1397,
    "start_time": "2022-08-03T23:00:25.349Z"
   },
   {
    "duration": 1386,
    "start_time": "2022-08-03T23:00:26.747Z"
   },
   {
    "duration": 750,
    "start_time": "2022-08-03T23:00:28.134Z"
   },
   {
    "duration": 31,
    "start_time": "2022-08-03T23:00:28.886Z"
   },
   {
    "duration": 8,
    "start_time": "2022-08-03T23:00:28.926Z"
   },
   {
    "duration": 12,
    "start_time": "2022-08-03T23:00:28.936Z"
   },
   {
    "duration": 1390,
    "start_time": "2022-08-03T23:00:28.949Z"
   },
   {
    "duration": 20,
    "start_time": "2022-08-03T23:00:30.341Z"
   },
   {
    "duration": 15,
    "start_time": "2022-08-03T23:00:30.362Z"
   },
   {
    "duration": 45,
    "start_time": "2022-08-03T23:00:30.379Z"
   },
   {
    "duration": 34,
    "start_time": "2022-08-03T23:00:30.426Z"
   },
   {
    "duration": 34,
    "start_time": "2022-08-03T23:00:30.462Z"
   },
   {
    "duration": 47,
    "start_time": "2022-08-03T23:00:30.498Z"
   },
   {
    "duration": 20,
    "start_time": "2022-08-03T23:00:30.547Z"
   },
   {
    "duration": 9,
    "start_time": "2022-08-03T23:00:30.569Z"
   },
   {
    "duration": 9,
    "start_time": "2022-08-03T23:00:30.580Z"
   },
   {
    "duration": 39,
    "start_time": "2022-08-03T23:00:30.591Z"
   },
   {
    "duration": 15,
    "start_time": "2022-08-03T23:00:30.632Z"
   },
   {
    "duration": 4,
    "start_time": "2022-08-03T23:00:30.650Z"
   },
   {
    "duration": 27,
    "start_time": "2022-08-03T23:00:30.656Z"
   },
   {
    "duration": 30,
    "start_time": "2022-08-03T23:00:30.685Z"
   },
   {
    "duration": 178,
    "start_time": "2022-08-03T23:00:30.717Z"
   },
   {
    "duration": 0,
    "start_time": "2022-08-03T23:00:30.898Z"
   },
   {
    "duration": 67,
    "start_time": "2022-08-03T23:00:36.198Z"
   },
   {
    "duration": 5,
    "start_time": "2022-08-03T23:01:00.444Z"
   },
   {
    "duration": 96,
    "start_time": "2022-08-03T23:01:02.875Z"
   },
   {
    "duration": 11,
    "start_time": "2022-08-03T23:01:14.937Z"
   },
   {
    "duration": 5,
    "start_time": "2022-08-03T23:01:17.471Z"
   },
   {
    "duration": 84,
    "start_time": "2022-08-03T23:01:19.579Z"
   },
   {
    "duration": 1412,
    "start_time": "2022-08-03T23:04:07.334Z"
   },
   {
    "duration": 5,
    "start_time": "2022-08-03T23:04:08.748Z"
   },
   {
    "duration": 875,
    "start_time": "2022-08-03T23:04:08.754Z"
   },
   {
    "duration": 149,
    "start_time": "2022-08-03T23:04:09.632Z"
   },
   {
    "duration": 33,
    "start_time": "2022-08-03T23:04:09.783Z"
   },
   {
    "duration": 14,
    "start_time": "2022-08-03T23:04:09.825Z"
   },
   {
    "duration": 20,
    "start_time": "2022-08-03T23:04:09.840Z"
   },
   {
    "duration": 3,
    "start_time": "2022-08-03T23:04:09.861Z"
   },
   {
    "duration": 8,
    "start_time": "2022-08-03T23:04:09.866Z"
   },
   {
    "duration": 5,
    "start_time": "2022-08-03T23:04:09.876Z"
   },
   {
    "duration": 22,
    "start_time": "2022-08-03T23:04:09.882Z"
   },
   {
    "duration": 21,
    "start_time": "2022-08-03T23:04:09.913Z"
   },
   {
    "duration": 5,
    "start_time": "2022-08-03T23:04:09.935Z"
   },
   {
    "duration": 19,
    "start_time": "2022-08-03T23:04:09.942Z"
   },
   {
    "duration": 14,
    "start_time": "2022-08-03T23:04:09.963Z"
   },
   {
    "duration": 14,
    "start_time": "2022-08-03T23:04:09.978Z"
   },
   {
    "duration": 145,
    "start_time": "2022-08-03T23:04:09.994Z"
   },
   {
    "duration": 211,
    "start_time": "2022-08-03T23:04:10.140Z"
   },
   {
    "duration": 5,
    "start_time": "2022-08-03T23:04:10.352Z"
   },
   {
    "duration": 11,
    "start_time": "2022-08-03T23:04:10.358Z"
   },
   {
    "duration": 5,
    "start_time": "2022-08-03T23:04:10.370Z"
   },
   {
    "duration": 1453,
    "start_time": "2022-08-03T23:04:10.377Z"
   },
   {
    "duration": 1396,
    "start_time": "2022-08-03T23:04:11.832Z"
   },
   {
    "duration": 1410,
    "start_time": "2022-08-03T23:04:13.230Z"
   },
   {
    "duration": 741,
    "start_time": "2022-08-03T23:04:14.641Z"
   },
   {
    "duration": 38,
    "start_time": "2022-08-03T23:04:15.384Z"
   },
   {
    "duration": 14,
    "start_time": "2022-08-03T23:04:15.424Z"
   },
   {
    "duration": 16,
    "start_time": "2022-08-03T23:04:15.441Z"
   },
   {
    "duration": 1441,
    "start_time": "2022-08-03T23:04:15.459Z"
   },
   {
    "duration": 38,
    "start_time": "2022-08-03T23:04:16.901Z"
   },
   {
    "duration": 16,
    "start_time": "2022-08-03T23:04:16.940Z"
   },
   {
    "duration": 12,
    "start_time": "2022-08-03T23:04:16.957Z"
   },
   {
    "duration": 4,
    "start_time": "2022-08-03T23:04:16.970Z"
   },
   {
    "duration": 10,
    "start_time": "2022-08-03T23:04:16.975Z"
   },
   {
    "duration": 65,
    "start_time": "2022-08-03T23:04:16.986Z"
   },
   {
    "duration": 15,
    "start_time": "2022-08-03T23:04:17.052Z"
   },
   {
    "duration": 7,
    "start_time": "2022-08-03T23:04:17.069Z"
   },
   {
    "duration": 8,
    "start_time": "2022-08-03T23:04:17.077Z"
   },
   {
    "duration": 6,
    "start_time": "2022-08-03T23:04:17.087Z"
   },
   {
    "duration": 22,
    "start_time": "2022-08-03T23:04:17.094Z"
   },
   {
    "duration": 15,
    "start_time": "2022-08-03T23:04:17.123Z"
   },
   {
    "duration": 10,
    "start_time": "2022-08-03T23:04:17.139Z"
   },
   {
    "duration": 14,
    "start_time": "2022-08-03T23:04:17.150Z"
   },
   {
    "duration": 160,
    "start_time": "2022-08-03T23:04:17.165Z"
   },
   {
    "duration": 0,
    "start_time": "2022-08-03T23:04:17.327Z"
   },
   {
    "duration": 108,
    "start_time": "2022-08-03T23:04:23.336Z"
   },
   {
    "duration": 1463,
    "start_time": "2022-08-03T23:05:31.081Z"
   },
   {
    "duration": 3,
    "start_time": "2022-08-03T23:05:32.546Z"
   },
   {
    "duration": 874,
    "start_time": "2022-08-03T23:05:32.551Z"
   },
   {
    "duration": 145,
    "start_time": "2022-08-03T23:05:33.427Z"
   },
   {
    "duration": 18,
    "start_time": "2022-08-03T23:05:33.573Z"
   },
   {
    "duration": 28,
    "start_time": "2022-08-03T23:05:33.593Z"
   },
   {
    "duration": 23,
    "start_time": "2022-08-03T23:05:33.622Z"
   },
   {
    "duration": 3,
    "start_time": "2022-08-03T23:05:33.647Z"
   },
   {
    "duration": 13,
    "start_time": "2022-08-03T23:05:33.652Z"
   },
   {
    "duration": 6,
    "start_time": "2022-08-03T23:05:33.668Z"
   },
   {
    "duration": 10,
    "start_time": "2022-08-03T23:05:33.676Z"
   },
   {
    "duration": 33,
    "start_time": "2022-08-03T23:05:33.688Z"
   },
   {
    "duration": 12,
    "start_time": "2022-08-03T23:05:33.723Z"
   },
   {
    "duration": 5,
    "start_time": "2022-08-03T23:05:33.736Z"
   },
   {
    "duration": 10,
    "start_time": "2022-08-03T23:05:33.743Z"
   },
   {
    "duration": 15,
    "start_time": "2022-08-03T23:05:33.754Z"
   },
   {
    "duration": 156,
    "start_time": "2022-08-03T23:05:33.770Z"
   },
   {
    "duration": 205,
    "start_time": "2022-08-03T23:05:33.927Z"
   },
   {
    "duration": 5,
    "start_time": "2022-08-03T23:05:34.133Z"
   },
   {
    "duration": 9,
    "start_time": "2022-08-03T23:05:34.139Z"
   },
   {
    "duration": 20,
    "start_time": "2022-08-03T23:05:34.149Z"
   },
   {
    "duration": 1455,
    "start_time": "2022-08-03T23:05:34.170Z"
   },
   {
    "duration": 1402,
    "start_time": "2022-08-03T23:05:35.627Z"
   },
   {
    "duration": 1418,
    "start_time": "2022-08-03T23:05:37.030Z"
   },
   {
    "duration": 733,
    "start_time": "2022-08-03T23:05:38.449Z"
   },
   {
    "duration": 35,
    "start_time": "2022-08-03T23:05:39.184Z"
   },
   {
    "duration": 10,
    "start_time": "2022-08-03T23:05:39.225Z"
   },
   {
    "duration": 13,
    "start_time": "2022-08-03T23:05:39.239Z"
   },
   {
    "duration": 1501,
    "start_time": "2022-08-03T23:05:39.253Z"
   },
   {
    "duration": 21,
    "start_time": "2022-08-03T23:05:40.756Z"
   },
   {
    "duration": 42,
    "start_time": "2022-08-03T23:05:40.778Z"
   },
   {
    "duration": 17,
    "start_time": "2022-08-03T23:05:40.822Z"
   },
   {
    "duration": 3,
    "start_time": "2022-08-03T23:05:40.841Z"
   },
   {
    "duration": 11,
    "start_time": "2022-08-03T23:05:40.845Z"
   },
   {
    "duration": 21,
    "start_time": "2022-08-03T23:05:40.858Z"
   },
   {
    "duration": 14,
    "start_time": "2022-08-03T23:05:40.881Z"
   },
   {
    "duration": 28,
    "start_time": "2022-08-03T23:05:40.897Z"
   },
   {
    "duration": 11,
    "start_time": "2022-08-03T23:05:40.926Z"
   },
   {
    "duration": 7,
    "start_time": "2022-08-03T23:05:40.939Z"
   },
   {
    "duration": 9,
    "start_time": "2022-08-03T23:05:40.947Z"
   },
   {
    "duration": 7,
    "start_time": "2022-08-03T23:05:40.958Z"
   },
   {
    "duration": 21,
    "start_time": "2022-08-03T23:05:40.966Z"
   },
   {
    "duration": 26,
    "start_time": "2022-08-03T23:05:40.989Z"
   },
   {
    "duration": 16,
    "start_time": "2022-08-03T23:05:41.017Z"
   },
   {
    "duration": 5,
    "start_time": "2022-08-03T23:05:41.034Z"
   },
   {
    "duration": 4644,
    "start_time": "2022-08-03T23:05:52.866Z"
   },
   {
    "duration": 53,
    "start_time": "2022-08-03T23:06:18.867Z"
   },
   {
    "duration": 242,
    "start_time": "2022-08-03T23:06:43.223Z"
   },
   {
    "duration": 99,
    "start_time": "2022-08-03T23:07:11.192Z"
   },
   {
    "duration": 1493,
    "start_time": "2022-08-03T23:13:28.675Z"
   },
   {
    "duration": 3,
    "start_time": "2022-08-03T23:13:30.170Z"
   },
   {
    "duration": 920,
    "start_time": "2022-08-03T23:13:30.174Z"
   },
   {
    "duration": 169,
    "start_time": "2022-08-03T23:13:31.096Z"
   },
   {
    "duration": 17,
    "start_time": "2022-08-03T23:13:31.267Z"
   },
   {
    "duration": 28,
    "start_time": "2022-08-03T23:13:31.285Z"
   },
   {
    "duration": 18,
    "start_time": "2022-08-03T23:13:31.325Z"
   },
   {
    "duration": 2,
    "start_time": "2022-08-03T23:13:31.345Z"
   },
   {
    "duration": 20,
    "start_time": "2022-08-03T23:13:31.349Z"
   },
   {
    "duration": 20,
    "start_time": "2022-08-03T23:13:31.372Z"
   },
   {
    "duration": 37,
    "start_time": "2022-08-03T23:13:31.394Z"
   },
   {
    "duration": 26,
    "start_time": "2022-08-03T23:13:31.433Z"
   },
   {
    "duration": 7,
    "start_time": "2022-08-03T23:13:31.461Z"
   },
   {
    "duration": 8,
    "start_time": "2022-08-03T23:13:31.469Z"
   },
   {
    "duration": 7,
    "start_time": "2022-08-03T23:13:31.478Z"
   },
   {
    "duration": 48,
    "start_time": "2022-08-03T23:13:31.486Z"
   },
   {
    "duration": 152,
    "start_time": "2022-08-03T23:13:31.536Z"
   },
   {
    "duration": 202,
    "start_time": "2022-08-03T23:13:31.690Z"
   },
   {
    "duration": 4,
    "start_time": "2022-08-03T23:13:31.898Z"
   },
   {
    "duration": 26,
    "start_time": "2022-08-03T23:13:31.908Z"
   },
   {
    "duration": 17,
    "start_time": "2022-08-03T23:13:31.935Z"
   },
   {
    "duration": 1481,
    "start_time": "2022-08-03T23:13:31.953Z"
   },
   {
    "duration": 1419,
    "start_time": "2022-08-03T23:13:33.436Z"
   },
   {
    "duration": 1395,
    "start_time": "2022-08-03T23:13:34.856Z"
   },
   {
    "duration": 726,
    "start_time": "2022-08-03T23:13:36.253Z"
   },
   {
    "duration": 41,
    "start_time": "2022-08-03T23:13:36.981Z"
   },
   {
    "duration": 9,
    "start_time": "2022-08-03T23:13:37.023Z"
   },
   {
    "duration": 11,
    "start_time": "2022-08-03T23:13:37.035Z"
   },
   {
    "duration": 1507,
    "start_time": "2022-08-03T23:13:37.048Z"
   },
   {
    "duration": 20,
    "start_time": "2022-08-03T23:13:38.556Z"
   },
   {
    "duration": 47,
    "start_time": "2022-08-03T23:13:38.578Z"
   },
   {
    "duration": 16,
    "start_time": "2022-08-03T23:13:38.626Z"
   },
   {
    "duration": 3,
    "start_time": "2022-08-03T23:13:38.644Z"
   },
   {
    "duration": 10,
    "start_time": "2022-08-03T23:13:38.649Z"
   },
   {
    "duration": 19,
    "start_time": "2022-08-03T23:13:38.661Z"
   },
   {
    "duration": 14,
    "start_time": "2022-08-03T23:13:38.682Z"
   },
   {
    "duration": 15,
    "start_time": "2022-08-03T23:13:38.698Z"
   },
   {
    "duration": 31,
    "start_time": "2022-08-03T23:13:38.714Z"
   },
   {
    "duration": 6,
    "start_time": "2022-08-03T23:13:38.747Z"
   },
   {
    "duration": 8,
    "start_time": "2022-08-03T23:13:38.755Z"
   },
   {
    "duration": 4,
    "start_time": "2022-08-03T23:13:38.764Z"
   },
   {
    "duration": 10,
    "start_time": "2022-08-03T23:13:38.769Z"
   },
   {
    "duration": 10,
    "start_time": "2022-08-03T23:13:38.781Z"
   },
   {
    "duration": 35,
    "start_time": "2022-08-03T23:13:38.793Z"
   },
   {
    "duration": 7,
    "start_time": "2022-08-03T23:13:38.829Z"
   },
   {
    "duration": 4385,
    "start_time": "2022-08-03T23:13:52.745Z"
   },
   {
    "duration": 34053,
    "start_time": "2022-08-03T23:14:04.517Z"
   },
   {
    "duration": 5,
    "start_time": "2022-08-03T23:20:49.040Z"
   },
   {
    "duration": 5443,
    "start_time": "2022-08-03T23:20:52.769Z"
   },
   {
    "duration": 17,
    "start_time": "2022-08-03T23:21:15.399Z"
   },
   {
    "duration": 5479,
    "start_time": "2022-08-03T23:21:17.539Z"
   },
   {
    "duration": 7,
    "start_time": "2022-08-03T23:23:31.073Z"
   },
   {
    "duration": 1459,
    "start_time": "2022-08-04T06:36:08.516Z"
   },
   {
    "duration": 3,
    "start_time": "2022-08-04T06:36:09.978Z"
   },
   {
    "duration": 967,
    "start_time": "2022-08-04T06:36:09.983Z"
   },
   {
    "duration": 142,
    "start_time": "2022-08-04T06:36:10.952Z"
   },
   {
    "duration": 25,
    "start_time": "2022-08-04T06:36:11.095Z"
   },
   {
    "duration": 19,
    "start_time": "2022-08-04T06:36:11.121Z"
   },
   {
    "duration": 17,
    "start_time": "2022-08-04T06:36:11.142Z"
   },
   {
    "duration": 3,
    "start_time": "2022-08-04T06:36:11.161Z"
   },
   {
    "duration": 9,
    "start_time": "2022-08-04T06:36:11.165Z"
   },
   {
    "duration": 7,
    "start_time": "2022-08-04T06:36:11.204Z"
   },
   {
    "duration": 9,
    "start_time": "2022-08-04T06:36:11.213Z"
   },
   {
    "duration": 25,
    "start_time": "2022-08-04T06:36:11.224Z"
   },
   {
    "duration": 5,
    "start_time": "2022-08-04T06:36:11.251Z"
   },
   {
    "duration": 6,
    "start_time": "2022-08-04T06:36:11.257Z"
   },
   {
    "duration": 12,
    "start_time": "2022-08-04T06:36:11.264Z"
   },
   {
    "duration": 25,
    "start_time": "2022-08-04T06:36:11.278Z"
   },
   {
    "duration": 142,
    "start_time": "2022-08-04T06:36:11.311Z"
   },
   {
    "duration": 206,
    "start_time": "2022-08-04T06:36:11.455Z"
   },
   {
    "duration": 5,
    "start_time": "2022-08-04T06:36:11.663Z"
   },
   {
    "duration": 5,
    "start_time": "2022-08-04T06:36:11.670Z"
   },
   {
    "duration": 5,
    "start_time": "2022-08-04T06:36:11.677Z"
   },
   {
    "duration": 1541,
    "start_time": "2022-08-04T06:36:11.684Z"
   },
   {
    "duration": 1703,
    "start_time": "2022-08-04T06:36:13.226Z"
   },
   {
    "duration": 1430,
    "start_time": "2022-08-04T06:36:14.930Z"
   },
   {
    "duration": 792,
    "start_time": "2022-08-04T06:36:16.361Z"
   },
   {
    "duration": 8,
    "start_time": "2022-08-04T06:36:17.155Z"
   },
   {
    "duration": 13,
    "start_time": "2022-08-04T06:36:17.164Z"
   },
   {
    "duration": 31,
    "start_time": "2022-08-04T06:36:17.180Z"
   },
   {
    "duration": 1501,
    "start_time": "2022-08-04T06:36:17.212Z"
   },
   {
    "duration": 22,
    "start_time": "2022-08-04T06:36:18.716Z"
   },
   {
    "duration": 16,
    "start_time": "2022-08-04T06:36:18.740Z"
   },
   {
    "duration": 13,
    "start_time": "2022-08-04T06:36:18.758Z"
   },
   {
    "duration": 32,
    "start_time": "2022-08-04T06:36:18.772Z"
   },
   {
    "duration": 2,
    "start_time": "2022-08-04T06:36:18.806Z"
   },
   {
    "duration": 22,
    "start_time": "2022-08-04T06:36:18.810Z"
   },
   {
    "duration": 15,
    "start_time": "2022-08-04T06:36:18.834Z"
   },
   {
    "duration": 8,
    "start_time": "2022-08-04T06:36:18.850Z"
   },
   {
    "duration": 7,
    "start_time": "2022-08-04T06:36:18.860Z"
   },
   {
    "duration": 6,
    "start_time": "2022-08-04T06:36:18.868Z"
   },
   {
    "duration": 10,
    "start_time": "2022-08-04T06:36:18.901Z"
   },
   {
    "duration": 11,
    "start_time": "2022-08-04T06:36:18.913Z"
   },
   {
    "duration": 10,
    "start_time": "2022-08-04T06:36:18.925Z"
   },
   {
    "duration": 14,
    "start_time": "2022-08-04T06:36:18.936Z"
   },
   {
    "duration": 6,
    "start_time": "2022-08-04T06:36:18.952Z"
   },
   {
    "duration": 6,
    "start_time": "2022-08-04T06:36:18.959Z"
   },
   {
    "duration": 3135,
    "start_time": "2022-08-04T06:36:18.966Z"
   },
   {
    "duration": 33621,
    "start_time": "2022-08-04T06:36:22.106Z"
   },
   {
    "duration": 1565915,
    "start_time": "2022-08-04T06:36:55.729Z"
   },
   {
    "duration": 20,
    "start_time": "2022-08-04T07:03:01.646Z"
   }
  ],
  "kernelspec": {
   "display_name": "Python 3 (ipykernel)",
   "language": "python",
   "name": "python3"
  },
  "language_info": {
   "codemirror_mode": {
    "name": "ipython",
    "version": 3
   },
   "file_extension": ".py",
   "mimetype": "text/x-python",
   "name": "python",
   "nbconvert_exporter": "python",
   "pygments_lexer": "ipython3",
   "version": "3.9.13"
  },
  "toc": {
   "base_numbering": 1,
   "nav_menu": {},
   "number_sections": true,
   "sideBar": true,
   "skip_h1_title": true,
   "title_cell": "Содержание",
   "title_sidebar": "Contents",
   "toc_cell": true,
   "toc_position": {
    "height": "calc(100% - 180px)",
    "left": "10px",
    "top": "150px",
    "width": "437px"
   },
   "toc_section_display": true,
   "toc_window_display": true
  }
 },
 "nbformat": 4,
 "nbformat_minor": 2
}
