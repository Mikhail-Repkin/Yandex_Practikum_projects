{
 "cells": [
  {
   "cell_type": "markdown",
   "metadata": {},
   "source": [
    "# Выбор локации для скважины"
   ]
  },
  {
   "cell_type": "markdown",
   "metadata": {},
   "source": [
    "В добывающей компании «ГлавРосГосНефть» доступны данные о пробах нефти в трёх регионах: в каждом 10 000 месторождений, где измерили качество нефти и объём её запасов. \n",
    "\n",
    "**Цель** — компании «ГлавРосГосНефть» нужно решить, где бурить новую скважину.\n",
    "\n",
    "**Задача исследования** — построить модель машинного обучения, которая поможет определить регион, где добыча принесёт наибольшую прибыль. Проанализируйте возможную прибыль и риски необходимо техникой *Bootstrap*.\n",
    "\n",
    "Известны следующие шаги для выбора локации:\n",
    "\n",
    "- В избранном регионе ищут месторождения, для каждого определяют значения признаков;\n",
    "- Строят модель и оценивают объём запасов;\n",
    "- Выбирают месторождения с самым высокими оценками значений. Количество месторождений зависит от бюджета компании и стоимости разработки одной скважины;\n",
    "- Прибыль равна суммарной прибыли отобранных месторождений.\n",
    "\n",
    "**Условия задачи:**  \n",
    "•\tДля обучения модели подходит только линейная регрессия (остальные — недостаточно предсказуемые).    \n",
    "•\tПри разведке региона исследуют 500 точек, из которых с помощью машинного обучения выбирают 200 лучших для разработки.    \n",
    "•\tБюджет на разработку скважин в регионе — 10 млрд рублей.    \n",
    "•\tПри нынешних ценах один баррель сырья приносит 450 рублей дохода. Доход с каждой единицы продукта составляет 450 тыс. рублей, поскольку объём указан в тысячах баррелей.    \n",
    "•\tПосле оценки рисков нужно оставить лишь те регионы, в которых вероятность убытков меньше 2.5%. Среди них выбирают регион с наибольшей средней прибылью.    \n",
    "\n",
    "Данные синтетические: детали контрактов и характеристики месторождений не разглашаются.\n",
    "\n",
    "\n",
    "**Исследование пройдёт в пять этапов:**\n",
    " 1. Загрузка и подготовка данных;\n",
    " 2. Обучение и проверка модели;\n",
    " 3. Подготовка к расчёту прибыли;\n",
    " 4. Расчет прибыли и рисков;\n",
    " 5. Общий вывод."
   ]
  },
  {
   "cell_type": "markdown",
   "metadata": {},
   "source": [
    "## Загрузка и подготовка данных"
   ]
  },
  {
   "cell_type": "code",
   "execution_count": 1,
   "metadata": {},
   "outputs": [],
   "source": [
    "# импорт библиотек\n",
    "import pandas as pd\n",
    "import numpy as np\n",
    "import matplotlib.pyplot as plt\n",
    "import seaborn as sns\n",
    "\n",
    "from sklearn.linear_model import LinearRegression\n",
    "\n",
    "from sklearn.model_selection import train_test_split\n",
    "from sklearn.metrics import mean_squared_error, mean_absolute_error,r2_score\n",
    "from sklearn.preprocessing import StandardScaler\n",
    "from sklearn.model_selection import GridSearchCV"
   ]
  },
  {
   "cell_type": "code",
   "execution_count": 2,
   "metadata": {},
   "outputs": [],
   "source": [
    "# сброс ограничений на количество выводимых рядов\n",
    "pd.set_option('display.max_rows', None)\n",
    " \n",
    "# сброс ограничений на число столбцов\n",
    "pd.set_option('display.max_columns', None)\n",
    " \n",
    "# сброс ограничений на количество символов в записи\n",
    "pd.set_option('display.max_colwidth', None)"
   ]
  },
  {
   "cell_type": "markdown",
   "metadata": {},
   "source": [
    "Данные для исследования получаем из файлов `geo_data_0.csv`, `geo_data_1.csv`, `geo_data_2.csv`:"
   ]
  },
  {
   "cell_type": "code",
   "execution_count": 3,
   "metadata": {},
   "outputs": [],
   "source": [
    "# чтение файлов с данными и сохранение в df\n",
    "try:\n",
    "    df_geo_0 = pd.read_csv('datasets/geo_data_0.csv')\n",
    "except:\n",
    "    df_geo_0 = pd.read_csv('/datasets/geo_data_0.csv')\n",
    "    \n",
    "try:\n",
    "    df_geo_1 = pd.read_csv('datasets/geo_data_1.csv')\n",
    "except:\n",
    "    df_geo_1 = pd.read_csv('/datasets/geo_data_1.csv')\n",
    "    \n",
    "try:\n",
    "    df_geo_2 = pd.read_csv('datasets/geo_data_2.csv')\n",
    "except:\n",
    "    df_geo_2 = pd.read_csv('/datasets/geo_data_2.csv')"
   ]
  },
  {
   "cell_type": "code",
   "execution_count": 4,
   "metadata": {
    "scrolled": false
   },
   "outputs": [
    {
     "data": {
      "text/html": [
       "<div>\n",
       "<style scoped>\n",
       "    .dataframe tbody tr th:only-of-type {\n",
       "        vertical-align: middle;\n",
       "    }\n",
       "\n",
       "    .dataframe tbody tr th {\n",
       "        vertical-align: top;\n",
       "    }\n",
       "\n",
       "    .dataframe thead th {\n",
       "        text-align: right;\n",
       "    }\n",
       "</style>\n",
       "<table border=\"1\" class=\"dataframe\">\n",
       "  <thead>\n",
       "    <tr style=\"text-align: right;\">\n",
       "      <th></th>\n",
       "      <th>id</th>\n",
       "      <th>f0</th>\n",
       "      <th>f1</th>\n",
       "      <th>f2</th>\n",
       "      <th>product</th>\n",
       "    </tr>\n",
       "  </thead>\n",
       "  <tbody>\n",
       "    <tr>\n",
       "      <th>0</th>\n",
       "      <td>txEyH</td>\n",
       "      <td>0.705745</td>\n",
       "      <td>-0.497823</td>\n",
       "      <td>1.221170</td>\n",
       "      <td>105.280062</td>\n",
       "    </tr>\n",
       "    <tr>\n",
       "      <th>1</th>\n",
       "      <td>2acmU</td>\n",
       "      <td>1.334711</td>\n",
       "      <td>-0.340164</td>\n",
       "      <td>4.365080</td>\n",
       "      <td>73.037750</td>\n",
       "    </tr>\n",
       "    <tr>\n",
       "      <th>2</th>\n",
       "      <td>409Wp</td>\n",
       "      <td>1.022732</td>\n",
       "      <td>0.151990</td>\n",
       "      <td>1.419926</td>\n",
       "      <td>85.265647</td>\n",
       "    </tr>\n",
       "    <tr>\n",
       "      <th>3</th>\n",
       "      <td>iJLyR</td>\n",
       "      <td>-0.032172</td>\n",
       "      <td>0.139033</td>\n",
       "      <td>2.978566</td>\n",
       "      <td>168.620776</td>\n",
       "    </tr>\n",
       "    <tr>\n",
       "      <th>4</th>\n",
       "      <td>Xdl7t</td>\n",
       "      <td>1.988431</td>\n",
       "      <td>0.155413</td>\n",
       "      <td>4.751769</td>\n",
       "      <td>154.036647</td>\n",
       "    </tr>\n",
       "  </tbody>\n",
       "</table>\n",
       "</div>"
      ],
      "text/plain": [
       "      id        f0        f1        f2     product\n",
       "0  txEyH  0.705745 -0.497823  1.221170  105.280062\n",
       "1  2acmU  1.334711 -0.340164  4.365080   73.037750\n",
       "2  409Wp  1.022732  0.151990  1.419926   85.265647\n",
       "3  iJLyR -0.032172  0.139033  2.978566  168.620776\n",
       "4  Xdl7t  1.988431  0.155413  4.751769  154.036647"
      ]
     },
     "metadata": {},
     "output_type": "display_data"
    },
    {
     "data": {
      "text/html": [
       "<div>\n",
       "<style scoped>\n",
       "    .dataframe tbody tr th:only-of-type {\n",
       "        vertical-align: middle;\n",
       "    }\n",
       "\n",
       "    .dataframe tbody tr th {\n",
       "        vertical-align: top;\n",
       "    }\n",
       "\n",
       "    .dataframe thead th {\n",
       "        text-align: right;\n",
       "    }\n",
       "</style>\n",
       "<table border=\"1\" class=\"dataframe\">\n",
       "  <thead>\n",
       "    <tr style=\"text-align: right;\">\n",
       "      <th></th>\n",
       "      <th>id</th>\n",
       "      <th>f0</th>\n",
       "      <th>f1</th>\n",
       "      <th>f2</th>\n",
       "      <th>product</th>\n",
       "    </tr>\n",
       "  </thead>\n",
       "  <tbody>\n",
       "    <tr>\n",
       "      <th>0</th>\n",
       "      <td>kBEdx</td>\n",
       "      <td>-15.001348</td>\n",
       "      <td>-8.276000</td>\n",
       "      <td>-0.005876</td>\n",
       "      <td>3.179103</td>\n",
       "    </tr>\n",
       "    <tr>\n",
       "      <th>1</th>\n",
       "      <td>62mP7</td>\n",
       "      <td>14.272088</td>\n",
       "      <td>-3.475083</td>\n",
       "      <td>0.999183</td>\n",
       "      <td>26.953261</td>\n",
       "    </tr>\n",
       "    <tr>\n",
       "      <th>2</th>\n",
       "      <td>vyE1P</td>\n",
       "      <td>6.263187</td>\n",
       "      <td>-5.948386</td>\n",
       "      <td>5.001160</td>\n",
       "      <td>134.766305</td>\n",
       "    </tr>\n",
       "    <tr>\n",
       "      <th>3</th>\n",
       "      <td>KcrkZ</td>\n",
       "      <td>-13.081196</td>\n",
       "      <td>-11.506057</td>\n",
       "      <td>4.999415</td>\n",
       "      <td>137.945408</td>\n",
       "    </tr>\n",
       "    <tr>\n",
       "      <th>4</th>\n",
       "      <td>AHL4O</td>\n",
       "      <td>12.702195</td>\n",
       "      <td>-8.147433</td>\n",
       "      <td>5.004363</td>\n",
       "      <td>134.766305</td>\n",
       "    </tr>\n",
       "  </tbody>\n",
       "</table>\n",
       "</div>"
      ],
      "text/plain": [
       "      id         f0         f1        f2     product\n",
       "0  kBEdx -15.001348  -8.276000 -0.005876    3.179103\n",
       "1  62mP7  14.272088  -3.475083  0.999183   26.953261\n",
       "2  vyE1P   6.263187  -5.948386  5.001160  134.766305\n",
       "3  KcrkZ -13.081196 -11.506057  4.999415  137.945408\n",
       "4  AHL4O  12.702195  -8.147433  5.004363  134.766305"
      ]
     },
     "metadata": {},
     "output_type": "display_data"
    },
    {
     "data": {
      "text/html": [
       "<div>\n",
       "<style scoped>\n",
       "    .dataframe tbody tr th:only-of-type {\n",
       "        vertical-align: middle;\n",
       "    }\n",
       "\n",
       "    .dataframe tbody tr th {\n",
       "        vertical-align: top;\n",
       "    }\n",
       "\n",
       "    .dataframe thead th {\n",
       "        text-align: right;\n",
       "    }\n",
       "</style>\n",
       "<table border=\"1\" class=\"dataframe\">\n",
       "  <thead>\n",
       "    <tr style=\"text-align: right;\">\n",
       "      <th></th>\n",
       "      <th>id</th>\n",
       "      <th>f0</th>\n",
       "      <th>f1</th>\n",
       "      <th>f2</th>\n",
       "      <th>product</th>\n",
       "    </tr>\n",
       "  </thead>\n",
       "  <tbody>\n",
       "    <tr>\n",
       "      <th>0</th>\n",
       "      <td>fwXo0</td>\n",
       "      <td>-1.146987</td>\n",
       "      <td>0.963328</td>\n",
       "      <td>-0.828965</td>\n",
       "      <td>27.758673</td>\n",
       "    </tr>\n",
       "    <tr>\n",
       "      <th>1</th>\n",
       "      <td>WJtFt</td>\n",
       "      <td>0.262778</td>\n",
       "      <td>0.269839</td>\n",
       "      <td>-2.530187</td>\n",
       "      <td>56.069697</td>\n",
       "    </tr>\n",
       "    <tr>\n",
       "      <th>2</th>\n",
       "      <td>ovLUW</td>\n",
       "      <td>0.194587</td>\n",
       "      <td>0.289035</td>\n",
       "      <td>-5.586433</td>\n",
       "      <td>62.871910</td>\n",
       "    </tr>\n",
       "    <tr>\n",
       "      <th>3</th>\n",
       "      <td>q6cA6</td>\n",
       "      <td>2.236060</td>\n",
       "      <td>-0.553760</td>\n",
       "      <td>0.930038</td>\n",
       "      <td>114.572842</td>\n",
       "    </tr>\n",
       "    <tr>\n",
       "      <th>4</th>\n",
       "      <td>WPMUX</td>\n",
       "      <td>-0.515993</td>\n",
       "      <td>1.716266</td>\n",
       "      <td>5.899011</td>\n",
       "      <td>149.600746</td>\n",
       "    </tr>\n",
       "  </tbody>\n",
       "</table>\n",
       "</div>"
      ],
      "text/plain": [
       "      id        f0        f1        f2     product\n",
       "0  fwXo0 -1.146987  0.963328 -0.828965   27.758673\n",
       "1  WJtFt  0.262778  0.269839 -2.530187   56.069697\n",
       "2  ovLUW  0.194587  0.289035 -5.586433   62.871910\n",
       "3  q6cA6  2.236060 -0.553760  0.930038  114.572842\n",
       "4  WPMUX -0.515993  1.716266  5.899011  149.600746"
      ]
     },
     "metadata": {},
     "output_type": "display_data"
    }
   ],
   "source": [
    "# получение первых пяти строк таблиц\n",
    "display(df_geo_0.head())\n",
    "display(df_geo_1.head())\n",
    "display(df_geo_2.head())"
   ]
  },
  {
   "cell_type": "markdown",
   "metadata": {},
   "source": [
    "**Описание данных**"
   ]
  },
  {
   "cell_type": "markdown",
   "metadata": {},
   "source": [
    "*Признаки:*\n",
    "*\t`id` — уникальный идентификатор скважины;\n",
    "*\t`f0, f1, f2` — три признака точек (неважно, что они означают, но сами признаки значимы);    \n",
    "\n",
    "*Целевой признак:*\n",
    "*\t`product` — объём запасов в скважине (тыс. баррелей).\n"
   ]
  },
  {
   "cell_type": "markdown",
   "metadata": {},
   "source": [
    "**Обработка пропусков**"
   ]
  },
  {
   "cell_type": "code",
   "execution_count": 5,
   "metadata": {
    "scrolled": true
   },
   "outputs": [
    {
     "data": {
      "text/plain": [
       "id         0.0\n",
       "f0         0.0\n",
       "f1         0.0\n",
       "f2         0.0\n",
       "product    0.0\n",
       "dtype: float64"
      ]
     },
     "metadata": {},
     "output_type": "display_data"
    },
    {
     "data": {
      "text/plain": [
       "id         0.0\n",
       "f0         0.0\n",
       "f1         0.0\n",
       "f2         0.0\n",
       "product    0.0\n",
       "dtype: float64"
      ]
     },
     "metadata": {},
     "output_type": "display_data"
    },
    {
     "data": {
      "text/plain": [
       "id         0.0\n",
       "f0         0.0\n",
       "f1         0.0\n",
       "f2         0.0\n",
       "product    0.0\n",
       "dtype: float64"
      ]
     },
     "metadata": {},
     "output_type": "display_data"
    }
   ],
   "source": [
    "# подсчёт доли пропусков \n",
    "display(df_geo_0.isna().mean())\n",
    "display(df_geo_1.isna().mean())\n",
    "display(df_geo_2.isna().mean())"
   ]
  },
  {
   "cell_type": "markdown",
   "metadata": {},
   "source": [
    "В данных не содержится пропусков"
   ]
  },
  {
   "cell_type": "markdown",
   "metadata": {},
   "source": [
    "**Приведение данных к корректному типу**"
   ]
  },
  {
   "cell_type": "code",
   "execution_count": 6,
   "metadata": {},
   "outputs": [
    {
     "data": {
      "text/plain": [
       "id          object\n",
       "f0         float64\n",
       "f1         float64\n",
       "f2         float64\n",
       "product    float64\n",
       "dtype: object"
      ]
     },
     "metadata": {},
     "output_type": "display_data"
    },
    {
     "data": {
      "text/plain": [
       "id          object\n",
       "f0         float64\n",
       "f1         float64\n",
       "f2         float64\n",
       "product    float64\n",
       "dtype: object"
      ]
     },
     "metadata": {},
     "output_type": "display_data"
    },
    {
     "data": {
      "text/plain": [
       "id          object\n",
       "f0         float64\n",
       "f1         float64\n",
       "f2         float64\n",
       "product    float64\n",
       "dtype: object"
      ]
     },
     "metadata": {},
     "output_type": "display_data"
    }
   ],
   "source": [
    "# получение информации о типах данных\n",
    "display(df_geo_0.dtypes)\n",
    "display(df_geo_1.dtypes)\n",
    "display(df_geo_2.dtypes)"
   ]
  },
  {
   "cell_type": "markdown",
   "metadata": {},
   "source": [
    "Чтобы сэкономить память и процессорное время при обработке данных изменим тип данных на более оптимальный:"
   ]
  },
  {
   "cell_type": "code",
   "execution_count": 7,
   "metadata": {},
   "outputs": [],
   "source": [
    "# изменение типа данных на float32\n",
    "df_geo_0['f0'] = pd.to_numeric(df_geo_0['f0'], downcast='float')\n",
    "df_geo_0['f1'] = pd.to_numeric(df_geo_0['f1'], downcast='float')\n",
    "df_geo_0['f2'] = pd.to_numeric(df_geo_0['f2'], downcast='float')\n",
    "df_geo_0['product'] = pd.to_numeric(df_geo_0['product'], downcast='float')\n",
    "\n",
    "df_geo_1['f0'] = pd.to_numeric(df_geo_1['f0'], downcast='float')\n",
    "df_geo_1['f1'] = pd.to_numeric(df_geo_1['f1'], downcast='float')\n",
    "df_geo_1['f2'] = pd.to_numeric(df_geo_1['f2'], downcast='float')\n",
    "df_geo_1['product'] = pd.to_numeric(df_geo_1['product'], downcast='float')\n",
    "\n",
    "df_geo_2['f0'] = pd.to_numeric(df_geo_2['f0'], downcast='float')\n",
    "df_geo_2['f1'] = pd.to_numeric(df_geo_2['f1'], downcast='float')\n",
    "df_geo_2['f2'] = pd.to_numeric(df_geo_2['f2'], downcast='float')\n",
    "df_geo_2['product'] = pd.to_numeric(df_geo_2['product'], downcast='float')"
   ]
  },
  {
   "cell_type": "markdown",
   "metadata": {},
   "source": [
    "**Поиск и обработка дубликатов**"
   ]
  },
  {
   "cell_type": "code",
   "execution_count": 8,
   "metadata": {
    "scrolled": true
   },
   "outputs": [
    {
     "name": "stdout",
     "output_type": "stream",
     "text": [
      "Явных дубликатов в df_geo_0: 0\n",
      "Явных дубликатов в df_geo_1: 0\n",
      "Явных дубликатов в df_geo_2: 0\n"
     ]
    }
   ],
   "source": [
    "# подсчет явных дубликатов\n",
    "print(\"Явных дубликатов в df_geo_0:\", df_geo_0.duplicated().sum())\n",
    "print(\"Явных дубликатов в df_geo_1:\", df_geo_1.duplicated().sum())\n",
    "print(\"Явных дубликатов в df_geo_2:\", df_geo_2.duplicated().sum())"
   ]
  },
  {
   "cell_type": "markdown",
   "metadata": {},
   "source": [
    "Явные дубликаты в данных не обнаружены, однако в колонке id содержатся значения в различном регистре — приведем данные к нижнему регистру и проверим на наличие дубликатов:"
   ]
  },
  {
   "cell_type": "code",
   "execution_count": 9,
   "metadata": {
    "scrolled": true
   },
   "outputs": [
    {
     "name": "stdout",
     "output_type": "stream",
     "text": [
      "Дубликатов в df_geo_0, колонке id: 113\n",
      "Дубликатов в df_geo_1, колонке id: 113\n",
      "Дубликатов в df_geo_2, колонке id: 99\n"
     ]
    }
   ],
   "source": [
    "print(\"Дубликатов в df_geo_0, колонке id:\", df_geo_0['id'].str.lower().duplicated().sum())\n",
    "print(\"Дубликатов в df_geo_1, колонке id:\", df_geo_1['id'].str.lower().duplicated().sum())\n",
    "print(\"Дубликатов в df_geo_2, колонке id:\", df_geo_2['id'].str.lower().duplicated().sum())"
   ]
  },
  {
   "cell_type": "markdown",
   "metadata": {},
   "source": [
    "В колонке id содержатся дубликаты, однако никакие методы обработки к ним применять не будем, т.к. эта колонка в дальнейшем будет удалена, как не представляющая ценности на построения модели."
   ]
  },
  {
   "cell_type": "markdown",
   "metadata": {},
   "source": [
    "**Поиск аномалий в данных**"
   ]
  },
  {
   "cell_type": "code",
   "execution_count": 10,
   "metadata": {
    "scrolled": false
   },
   "outputs": [
    {
     "data": {
      "text/html": [
       "<div>\n",
       "<style scoped>\n",
       "    .dataframe tbody tr th:only-of-type {\n",
       "        vertical-align: middle;\n",
       "    }\n",
       "\n",
       "    .dataframe tbody tr th {\n",
       "        vertical-align: top;\n",
       "    }\n",
       "\n",
       "    .dataframe thead th {\n",
       "        text-align: right;\n",
       "    }\n",
       "</style>\n",
       "<table border=\"1\" class=\"dataframe\">\n",
       "  <thead>\n",
       "    <tr style=\"text-align: right;\">\n",
       "      <th></th>\n",
       "      <th>f0</th>\n",
       "      <th>f1</th>\n",
       "      <th>f2</th>\n",
       "      <th>product</th>\n",
       "    </tr>\n",
       "  </thead>\n",
       "  <tbody>\n",
       "    <tr>\n",
       "      <th>count</th>\n",
       "      <td>100000.000000</td>\n",
       "      <td>100000.000000</td>\n",
       "      <td>100000.000000</td>\n",
       "      <td>100000.000000</td>\n",
       "    </tr>\n",
       "    <tr>\n",
       "      <th>mean</th>\n",
       "      <td>0.500417</td>\n",
       "      <td>0.250143</td>\n",
       "      <td>2.502660</td>\n",
       "      <td>92.500832</td>\n",
       "    </tr>\n",
       "    <tr>\n",
       "      <th>std</th>\n",
       "      <td>0.871825</td>\n",
       "      <td>0.504431</td>\n",
       "      <td>3.248227</td>\n",
       "      <td>44.288460</td>\n",
       "    </tr>\n",
       "    <tr>\n",
       "      <th>min</th>\n",
       "      <td>-1.408605</td>\n",
       "      <td>-0.848219</td>\n",
       "      <td>-12.088328</td>\n",
       "      <td>0.000000</td>\n",
       "    </tr>\n",
       "    <tr>\n",
       "      <th>25%</th>\n",
       "      <td>-0.072580</td>\n",
       "      <td>-0.200881</td>\n",
       "      <td>0.287748</td>\n",
       "      <td>56.497507</td>\n",
       "    </tr>\n",
       "    <tr>\n",
       "      <th>50%</th>\n",
       "      <td>0.502360</td>\n",
       "      <td>0.250252</td>\n",
       "      <td>2.515969</td>\n",
       "      <td>91.849972</td>\n",
       "    </tr>\n",
       "    <tr>\n",
       "      <th>75%</th>\n",
       "      <td>1.073581</td>\n",
       "      <td>0.700646</td>\n",
       "      <td>4.715088</td>\n",
       "      <td>128.564087</td>\n",
       "    </tr>\n",
       "    <tr>\n",
       "      <th>max</th>\n",
       "      <td>2.362331</td>\n",
       "      <td>1.343769</td>\n",
       "      <td>16.003790</td>\n",
       "      <td>185.364349</td>\n",
       "    </tr>\n",
       "  </tbody>\n",
       "</table>\n",
       "</div>"
      ],
      "text/plain": [
       "                  f0             f1             f2        product\n",
       "count  100000.000000  100000.000000  100000.000000  100000.000000\n",
       "mean        0.500417       0.250143       2.502660      92.500832\n",
       "std         0.871825       0.504431       3.248227      44.288460\n",
       "min        -1.408605      -0.848219     -12.088328       0.000000\n",
       "25%        -0.072580      -0.200881       0.287748      56.497507\n",
       "50%         0.502360       0.250252       2.515969      91.849972\n",
       "75%         1.073581       0.700646       4.715088     128.564087\n",
       "max         2.362331       1.343769      16.003790     185.364349"
      ]
     },
     "execution_count": 10,
     "metadata": {},
     "output_type": "execute_result"
    }
   ],
   "source": [
    "# числовое описание данных\n",
    "df_geo_0.describe()"
   ]
  },
  {
   "cell_type": "code",
   "execution_count": 11,
   "metadata": {
    "scrolled": false
   },
   "outputs": [
    {
     "data": {
      "image/png": "[encoded data removed]",
      "text/plain": [
       "<Figure size 864x576 with 4 Axes>"
      ]
     },
     "metadata": {
      "needs_background": "light"
     },
     "output_type": "display_data"
    }
   ],
   "source": [
    "# распределение\n",
    "df_geo_0.hist(bins=50, figsize=(12,8), legend=True);"
   ]
  },
  {
   "cell_type": "code",
   "execution_count": 12,
   "metadata": {},
   "outputs": [
    {
     "data": {
      "text/plain": [
       "1"
      ]
     },
     "execution_count": 12,
     "metadata": {},
     "output_type": "execute_result"
    }
   ],
   "source": [
    "# подсчет нулевых значений\n",
    "df_geo_0[df_geo_0['product'] == 0]['product'].count()"
   ]
  },
  {
   "cell_type": "code",
   "execution_count": 13,
   "metadata": {
    "scrolled": true
   },
   "outputs": [
    {
     "data": {
      "text/html": [
       "<div>\n",
       "<style scoped>\n",
       "    .dataframe tbody tr th:only-of-type {\n",
       "        vertical-align: middle;\n",
       "    }\n",
       "\n",
       "    .dataframe tbody tr th {\n",
       "        vertical-align: top;\n",
       "    }\n",
       "\n",
       "    .dataframe thead th {\n",
       "        text-align: right;\n",
       "    }\n",
       "</style>\n",
       "<table border=\"1\" class=\"dataframe\">\n",
       "  <thead>\n",
       "    <tr style=\"text-align: right;\">\n",
       "      <th></th>\n",
       "      <th>f0</th>\n",
       "      <th>f1</th>\n",
       "      <th>f2</th>\n",
       "      <th>product</th>\n",
       "    </tr>\n",
       "  </thead>\n",
       "  <tbody>\n",
       "    <tr>\n",
       "      <th>count</th>\n",
       "      <td>100000.000000</td>\n",
       "      <td>100000.000000</td>\n",
       "      <td>100000.000000</td>\n",
       "      <td>100000.000000</td>\n",
       "    </tr>\n",
       "    <tr>\n",
       "      <th>mean</th>\n",
       "      <td>1.141296</td>\n",
       "      <td>-4.796567</td>\n",
       "      <td>2.494537</td>\n",
       "      <td>68.838837</td>\n",
       "    </tr>\n",
       "    <tr>\n",
       "      <th>std</th>\n",
       "      <td>8.965897</td>\n",
       "      <td>5.119843</td>\n",
       "      <td>1.703575</td>\n",
       "      <td>45.942646</td>\n",
       "    </tr>\n",
       "    <tr>\n",
       "      <th>min</th>\n",
       "      <td>-31.609575</td>\n",
       "      <td>-26.358599</td>\n",
       "      <td>-0.018144</td>\n",
       "      <td>0.000000</td>\n",
       "    </tr>\n",
       "    <tr>\n",
       "      <th>25%</th>\n",
       "      <td>-6.298551</td>\n",
       "      <td>-8.267985</td>\n",
       "      <td>1.000021</td>\n",
       "      <td>26.953260</td>\n",
       "    </tr>\n",
       "    <tr>\n",
       "      <th>50%</th>\n",
       "      <td>1.153055</td>\n",
       "      <td>-4.813172</td>\n",
       "      <td>2.011479</td>\n",
       "      <td>57.085625</td>\n",
       "    </tr>\n",
       "    <tr>\n",
       "      <th>75%</th>\n",
       "      <td>8.621016</td>\n",
       "      <td>-1.332816</td>\n",
       "      <td>3.999904</td>\n",
       "      <td>107.813042</td>\n",
       "    </tr>\n",
       "    <tr>\n",
       "      <th>max</th>\n",
       "      <td>29.421755</td>\n",
       "      <td>18.734062</td>\n",
       "      <td>5.019721</td>\n",
       "      <td>137.945404</td>\n",
       "    </tr>\n",
       "  </tbody>\n",
       "</table>\n",
       "</div>"
      ],
      "text/plain": [
       "                  f0             f1             f2        product\n",
       "count  100000.000000  100000.000000  100000.000000  100000.000000\n",
       "mean        1.141296      -4.796567       2.494537      68.838837\n",
       "std         8.965897       5.119843       1.703575      45.942646\n",
       "min       -31.609575     -26.358599      -0.018144       0.000000\n",
       "25%        -6.298551      -8.267985       1.000021      26.953260\n",
       "50%         1.153055      -4.813172       2.011479      57.085625\n",
       "75%         8.621016      -1.332816       3.999904     107.813042\n",
       "max        29.421755      18.734062       5.019721     137.945404"
      ]
     },
     "execution_count": 13,
     "metadata": {},
     "output_type": "execute_result"
    }
   ],
   "source": [
    "# числовое описание данных\n",
    "df_geo_1.describe()"
   ]
  },
  {
   "cell_type": "code",
   "execution_count": 14,
   "metadata": {},
   "outputs": [
    {
     "data": {
      "image/png": "[encoded data removed]",
      "text/plain": [
       "<Figure size 864x576 with 4 Axes>"
      ]
     },
     "metadata": {
      "needs_background": "light"
     },
     "output_type": "display_data"
    }
   ],
   "source": [
    "# распределение\n",
    "df_geo_1.hist(bins=50, figsize=(12,8), legend=True);"
   ]
  },
  {
   "cell_type": "code",
   "execution_count": 15,
   "metadata": {
    "scrolled": true
   },
   "outputs": [
    {
     "name": "stdout",
     "output_type": "stream",
     "text": [
      "8235 \n",
      "\n",
      "8.2%\n"
     ]
    }
   ],
   "source": [
    "# подсчет нулевых значений\n",
    "print(df_geo_1[df_geo_1['product'] == 0]['product'].count(), '\\n')\n",
    "print('{:.1%}'.format(df_geo_1[df_geo_1['product'] == 0]['product'].count()/len(df_geo_1)))"
   ]
  },
  {
   "cell_type": "code",
   "execution_count": 16,
   "metadata": {},
   "outputs": [
    {
     "data": {
      "text/html": [
       "<div>\n",
       "<style scoped>\n",
       "    .dataframe tbody tr th:only-of-type {\n",
       "        vertical-align: middle;\n",
       "    }\n",
       "\n",
       "    .dataframe tbody tr th {\n",
       "        vertical-align: top;\n",
       "    }\n",
       "\n",
       "    .dataframe thead th {\n",
       "        text-align: right;\n",
       "    }\n",
       "</style>\n",
       "<table border=\"1\" class=\"dataframe\">\n",
       "  <thead>\n",
       "    <tr style=\"text-align: right;\">\n",
       "      <th></th>\n",
       "      <th>id</th>\n",
       "      <th>f0</th>\n",
       "      <th>f1</th>\n",
       "      <th>f2</th>\n",
       "      <th>product</th>\n",
       "    </tr>\n",
       "  </thead>\n",
       "  <tbody>\n",
       "    <tr>\n",
       "      <th>11</th>\n",
       "      <td>OXyvW</td>\n",
       "      <td>16.320755</td>\n",
       "      <td>-0.562946</td>\n",
       "      <td>-0.001783</td>\n",
       "      <td>0.0</td>\n",
       "    </tr>\n",
       "    <tr>\n",
       "      <th>13</th>\n",
       "      <td>igmai</td>\n",
       "      <td>6.695604</td>\n",
       "      <td>-0.749449</td>\n",
       "      <td>-0.007630</td>\n",
       "      <td>0.0</td>\n",
       "    </tr>\n",
       "    <tr>\n",
       "      <th>62</th>\n",
       "      <td>Qjy5w</td>\n",
       "      <td>21.418478</td>\n",
       "      <td>-5.134490</td>\n",
       "      <td>-0.002836</td>\n",
       "      <td>0.0</td>\n",
       "    </tr>\n",
       "    <tr>\n",
       "      <th>63</th>\n",
       "      <td>G6WCj</td>\n",
       "      <td>6.822701</td>\n",
       "      <td>3.104979</td>\n",
       "      <td>-0.000723</td>\n",
       "      <td>0.0</td>\n",
       "    </tr>\n",
       "    <tr>\n",
       "      <th>77</th>\n",
       "      <td>MzQhL</td>\n",
       "      <td>6.750150</td>\n",
       "      <td>-11.893513</td>\n",
       "      <td>-0.001601</td>\n",
       "      <td>0.0</td>\n",
       "    </tr>\n",
       "    <tr>\n",
       "      <th>81</th>\n",
       "      <td>gdvra</td>\n",
       "      <td>-3.246882</td>\n",
       "      <td>-7.979657</td>\n",
       "      <td>0.009027</td>\n",
       "      <td>0.0</td>\n",
       "    </tr>\n",
       "    <tr>\n",
       "      <th>82</th>\n",
       "      <td>VHp5v</td>\n",
       "      <td>15.363643</td>\n",
       "      <td>-6.456659</td>\n",
       "      <td>0.004302</td>\n",
       "      <td>0.0</td>\n",
       "    </tr>\n",
       "    <tr>\n",
       "      <th>83</th>\n",
       "      <td>dm9rM</td>\n",
       "      <td>13.494966</td>\n",
       "      <td>-0.543358</td>\n",
       "      <td>0.001352</td>\n",
       "      <td>0.0</td>\n",
       "    </tr>\n",
       "    <tr>\n",
       "      <th>127</th>\n",
       "      <td>6az0U</td>\n",
       "      <td>13.951600</td>\n",
       "      <td>-5.077510</td>\n",
       "      <td>-0.005232</td>\n",
       "      <td>0.0</td>\n",
       "    </tr>\n",
       "    <tr>\n",
       "      <th>128</th>\n",
       "      <td>iDXiz</td>\n",
       "      <td>6.820803</td>\n",
       "      <td>5.220184</td>\n",
       "      <td>-0.007179</td>\n",
       "      <td>0.0</td>\n",
       "    </tr>\n",
       "  </tbody>\n",
       "</table>\n",
       "</div>"
      ],
      "text/plain": [
       "        id         f0         f1        f2  product\n",
       "11   OXyvW  16.320755  -0.562946 -0.001783      0.0\n",
       "13   igmai   6.695604  -0.749449 -0.007630      0.0\n",
       "62   Qjy5w  21.418478  -5.134490 -0.002836      0.0\n",
       "63   G6WCj   6.822701   3.104979 -0.000723      0.0\n",
       "77   MzQhL   6.750150 -11.893513 -0.001601      0.0\n",
       "81   gdvra  -3.246882  -7.979657  0.009027      0.0\n",
       "82   VHp5v  15.363643  -6.456659  0.004302      0.0\n",
       "83   dm9rM  13.494966  -0.543358  0.001352      0.0\n",
       "127  6az0U  13.951600  -5.077510 -0.005232      0.0\n",
       "128  iDXiz   6.820803   5.220184 -0.007179      0.0"
      ]
     },
     "metadata": {},
     "output_type": "display_data"
    }
   ],
   "source": [
    "display(df_geo_1[df_geo_1['product'] == 0].head(10))"
   ]
  },
  {
   "cell_type": "markdown",
   "metadata": {},
   "source": [
    "В таблице df_geo_1 находится 8235 значений с нулевыми данными об объёме запасов нефти в скважине, что составляет 8.2% от объема датафрейма. Так как в остальных датасетах нулевые значения практически отсутствуют, можно предположить что это вручную внесенные данные (возможно заполнение пропусков). Удалим эти значения, чтобы они не оказывали влияние на нашу модель:"
   ]
  },
  {
   "cell_type": "code",
   "execution_count": 17,
   "metadata": {},
   "outputs": [],
   "source": [
    "# удаление нулевых значений\n",
    "df_geo_1 = df_geo_1[df_geo_1['product'] != 0]"
   ]
  },
  {
   "cell_type": "code",
   "execution_count": 18,
   "metadata": {},
   "outputs": [
    {
     "name": "stdout",
     "output_type": "stream",
     "text": [
      "0 \n",
      "\n",
      "0.0%\n"
     ]
    }
   ],
   "source": [
    "# подсчет нулевых значений\n",
    "print(df_geo_1[df_geo_1['product'] == 0]['product'].count(), '\\n')\n",
    "print('{:.1%}'.format(df_geo_1[df_geo_1['product'] == 0]['product'].count()/len(df_geo_1)))"
   ]
  },
  {
   "cell_type": "code",
   "execution_count": 19,
   "metadata": {},
   "outputs": [
    {
     "data": {
      "text/html": [
       "<div>\n",
       "<style scoped>\n",
       "    .dataframe tbody tr th:only-of-type {\n",
       "        vertical-align: middle;\n",
       "    }\n",
       "\n",
       "    .dataframe tbody tr th {\n",
       "        vertical-align: top;\n",
       "    }\n",
       "\n",
       "    .dataframe thead th {\n",
       "        text-align: right;\n",
       "    }\n",
       "</style>\n",
       "<table border=\"1\" class=\"dataframe\">\n",
       "  <thead>\n",
       "    <tr style=\"text-align: right;\">\n",
       "      <th></th>\n",
       "      <th>f0</th>\n",
       "      <th>f1</th>\n",
       "      <th>f2</th>\n",
       "      <th>product</th>\n",
       "    </tr>\n",
       "  </thead>\n",
       "  <tbody>\n",
       "    <tr>\n",
       "      <th>count</th>\n",
       "      <td>100000.000000</td>\n",
       "      <td>100000.000000</td>\n",
       "      <td>100000.000000</td>\n",
       "      <td>100000.000000</td>\n",
       "    </tr>\n",
       "    <tr>\n",
       "      <th>mean</th>\n",
       "      <td>0.002023</td>\n",
       "      <td>-0.002081</td>\n",
       "      <td>2.495123</td>\n",
       "      <td>94.998749</td>\n",
       "    </tr>\n",
       "    <tr>\n",
       "      <th>std</th>\n",
       "      <td>1.732035</td>\n",
       "      <td>1.730408</td>\n",
       "      <td>3.473415</td>\n",
       "      <td>44.749722</td>\n",
       "    </tr>\n",
       "    <tr>\n",
       "      <th>min</th>\n",
       "      <td>-8.760004</td>\n",
       "      <td>-7.084020</td>\n",
       "      <td>-11.970335</td>\n",
       "      <td>0.000000</td>\n",
       "    </tr>\n",
       "    <tr>\n",
       "      <th>25%</th>\n",
       "      <td>-1.162288</td>\n",
       "      <td>-1.174820</td>\n",
       "      <td>0.130359</td>\n",
       "      <td>59.450439</td>\n",
       "    </tr>\n",
       "    <tr>\n",
       "      <th>50%</th>\n",
       "      <td>0.009424</td>\n",
       "      <td>-0.009482</td>\n",
       "      <td>2.484236</td>\n",
       "      <td>94.925613</td>\n",
       "    </tr>\n",
       "    <tr>\n",
       "      <th>75%</th>\n",
       "      <td>1.158535</td>\n",
       "      <td>1.163678</td>\n",
       "      <td>4.858794</td>\n",
       "      <td>130.595024</td>\n",
       "    </tr>\n",
       "    <tr>\n",
       "      <th>max</th>\n",
       "      <td>7.238263</td>\n",
       "      <td>7.844801</td>\n",
       "      <td>16.739403</td>\n",
       "      <td>190.029831</td>\n",
       "    </tr>\n",
       "  </tbody>\n",
       "</table>\n",
       "</div>"
      ],
      "text/plain": [
       "                  f0             f1             f2        product\n",
       "count  100000.000000  100000.000000  100000.000000  100000.000000\n",
       "mean        0.002023      -0.002081       2.495123      94.998749\n",
       "std         1.732035       1.730408       3.473415      44.749722\n",
       "min        -8.760004      -7.084020     -11.970335       0.000000\n",
       "25%        -1.162288      -1.174820       0.130359      59.450439\n",
       "50%         0.009424      -0.009482       2.484236      94.925613\n",
       "75%         1.158535       1.163678       4.858794     130.595024\n",
       "max         7.238263       7.844801      16.739403     190.029831"
      ]
     },
     "execution_count": 19,
     "metadata": {},
     "output_type": "execute_result"
    }
   ],
   "source": [
    "# числовое описание данных\n",
    "df_geo_2.describe()"
   ]
  },
  {
   "cell_type": "code",
   "execution_count": 20,
   "metadata": {},
   "outputs": [
    {
     "data": {
      "image/png": "[encoded data removed]",
      "text/plain": [
       "<Figure size 864x576 with 4 Axes>"
      ]
     },
     "metadata": {
      "needs_background": "light"
     },
     "output_type": "display_data"
    }
   ],
   "source": [
    "# распределение\n",
    "df_geo_2.hist(bins=50, figsize=(12,8), legend=True);"
   ]
  },
  {
   "cell_type": "code",
   "execution_count": 21,
   "metadata": {},
   "outputs": [
    {
     "data": {
      "text/plain": [
       "1"
      ]
     },
     "execution_count": 21,
     "metadata": {},
     "output_type": "execute_result"
    }
   ],
   "source": [
    "# подсчет нулевых значений\n",
    "df_geo_2[df_geo_2['product'] == 0]['product'].count()"
   ]
  },
  {
   "cell_type": "markdown",
   "metadata": {},
   "source": [
    "### Выводы"
   ]
  },
  {
   "cell_type": "markdown",
   "metadata": {},
   "source": [
    "💡 В исходном файле содержатся данные о пробах нефти в трёх регионах по каждому из 10 000 месторождений, где были измерено качество нефти и объём её запасов. \n",
    "\n",
    "В ходе первичного анализа данных было выявлено:     \n",
    "\n",
    "* В названии колонок не обнаружено нарушение стиля;    \n",
    "\n",
    "* Явных пропусков и дубликатов в данных не наблюдается, однако в колонке id содержатся неявные дубликаты — принято решение оставить их как есть, т.к. эта колонка в дальнейшем будет удалена, как не представляющая ценности на построения модели;         \n",
    "* Данные были приведены к соответствующему вещественному типу;    \n",
    "\n",
    "* В таблице df_geo_1 находится 8235 значений с нулевыми данными об объёме запасов нефти в скважине, что составляет 8.2% от объема датафрейма. Нулевые значения были удалены."
   ]
  },
  {
   "cell_type": "markdown",
   "metadata": {},
   "source": [
    "## Обучение и проверка модели"
   ]
  },
  {
   "cell_type": "markdown",
   "metadata": {},
   "source": [
    "### Подготовка признаков"
   ]
  },
  {
   "cell_type": "markdown",
   "metadata": {},
   "source": [
    "**Удаление лишних столбцов из датафреймов**"
   ]
  },
  {
   "cell_type": "markdown",
   "metadata": {},
   "source": [
    "Удалим столбец с id не представляющий ценности для обучения моделей:"
   ]
  },
  {
   "cell_type": "code",
   "execution_count": 22,
   "metadata": {
    "scrolled": false
   },
   "outputs": [
    {
     "data": {
      "text/html": [
       "<div>\n",
       "<style scoped>\n",
       "    .dataframe tbody tr th:only-of-type {\n",
       "        vertical-align: middle;\n",
       "    }\n",
       "\n",
       "    .dataframe tbody tr th {\n",
       "        vertical-align: top;\n",
       "    }\n",
       "\n",
       "    .dataframe thead th {\n",
       "        text-align: right;\n",
       "    }\n",
       "</style>\n",
       "<table border=\"1\" class=\"dataframe\">\n",
       "  <thead>\n",
       "    <tr style=\"text-align: right;\">\n",
       "      <th></th>\n",
       "      <th>f0</th>\n",
       "      <th>f1</th>\n",
       "      <th>f2</th>\n",
       "      <th>product</th>\n",
       "    </tr>\n",
       "  </thead>\n",
       "  <tbody>\n",
       "    <tr>\n",
       "      <th>0</th>\n",
       "      <td>0.705745</td>\n",
       "      <td>-0.497822</td>\n",
       "      <td>1.221170</td>\n",
       "      <td>105.280060</td>\n",
       "    </tr>\n",
       "    <tr>\n",
       "      <th>1</th>\n",
       "      <td>1.334711</td>\n",
       "      <td>-0.340164</td>\n",
       "      <td>4.365080</td>\n",
       "      <td>73.037750</td>\n",
       "    </tr>\n",
       "    <tr>\n",
       "      <th>2</th>\n",
       "      <td>1.022732</td>\n",
       "      <td>0.151990</td>\n",
       "      <td>1.419926</td>\n",
       "      <td>85.265648</td>\n",
       "    </tr>\n",
       "  </tbody>\n",
       "</table>\n",
       "</div>"
      ],
      "text/plain": [
       "         f0        f1        f2     product\n",
       "0  0.705745 -0.497822  1.221170  105.280060\n",
       "1  1.334711 -0.340164  4.365080   73.037750\n",
       "2  1.022732  0.151990  1.419926   85.265648"
      ]
     },
     "metadata": {},
     "output_type": "display_data"
    },
    {
     "data": {
      "text/html": [
       "<div>\n",
       "<style scoped>\n",
       "    .dataframe tbody tr th:only-of-type {\n",
       "        vertical-align: middle;\n",
       "    }\n",
       "\n",
       "    .dataframe tbody tr th {\n",
       "        vertical-align: top;\n",
       "    }\n",
       "\n",
       "    .dataframe thead th {\n",
       "        text-align: right;\n",
       "    }\n",
       "</style>\n",
       "<table border=\"1\" class=\"dataframe\">\n",
       "  <thead>\n",
       "    <tr style=\"text-align: right;\">\n",
       "      <th></th>\n",
       "      <th>f0</th>\n",
       "      <th>f1</th>\n",
       "      <th>f2</th>\n",
       "      <th>product</th>\n",
       "    </tr>\n",
       "  </thead>\n",
       "  <tbody>\n",
       "    <tr>\n",
       "      <th>0</th>\n",
       "      <td>-15.001348</td>\n",
       "      <td>-8.276000</td>\n",
       "      <td>-0.005876</td>\n",
       "      <td>3.179103</td>\n",
       "    </tr>\n",
       "    <tr>\n",
       "      <th>1</th>\n",
       "      <td>14.272088</td>\n",
       "      <td>-3.475083</td>\n",
       "      <td>0.999183</td>\n",
       "      <td>26.953260</td>\n",
       "    </tr>\n",
       "    <tr>\n",
       "      <th>2</th>\n",
       "      <td>6.263187</td>\n",
       "      <td>-5.948386</td>\n",
       "      <td>5.001160</td>\n",
       "      <td>134.766312</td>\n",
       "    </tr>\n",
       "  </tbody>\n",
       "</table>\n",
       "</div>"
      ],
      "text/plain": [
       "          f0        f1        f2     product\n",
       "0 -15.001348 -8.276000 -0.005876    3.179103\n",
       "1  14.272088 -3.475083  0.999183   26.953260\n",
       "2   6.263187 -5.948386  5.001160  134.766312"
      ]
     },
     "metadata": {},
     "output_type": "display_data"
    },
    {
     "data": {
      "text/html": [
       "<div>\n",
       "<style scoped>\n",
       "    .dataframe tbody tr th:only-of-type {\n",
       "        vertical-align: middle;\n",
       "    }\n",
       "\n",
       "    .dataframe tbody tr th {\n",
       "        vertical-align: top;\n",
       "    }\n",
       "\n",
       "    .dataframe thead th {\n",
       "        text-align: right;\n",
       "    }\n",
       "</style>\n",
       "<table border=\"1\" class=\"dataframe\">\n",
       "  <thead>\n",
       "    <tr style=\"text-align: right;\">\n",
       "      <th></th>\n",
       "      <th>f0</th>\n",
       "      <th>f1</th>\n",
       "      <th>f2</th>\n",
       "      <th>product</th>\n",
       "    </tr>\n",
       "  </thead>\n",
       "  <tbody>\n",
       "    <tr>\n",
       "      <th>0</th>\n",
       "      <td>-1.146987</td>\n",
       "      <td>0.963328</td>\n",
       "      <td>-0.828965</td>\n",
       "      <td>27.758673</td>\n",
       "    </tr>\n",
       "    <tr>\n",
       "      <th>1</th>\n",
       "      <td>0.262778</td>\n",
       "      <td>0.269839</td>\n",
       "      <td>-2.530186</td>\n",
       "      <td>56.069698</td>\n",
       "    </tr>\n",
       "    <tr>\n",
       "      <th>2</th>\n",
       "      <td>0.194587</td>\n",
       "      <td>0.289035</td>\n",
       "      <td>-5.586433</td>\n",
       "      <td>62.871910</td>\n",
       "    </tr>\n",
       "  </tbody>\n",
       "</table>\n",
       "</div>"
      ],
      "text/plain": [
       "         f0        f1        f2    product\n",
       "0 -1.146987  0.963328 -0.828965  27.758673\n",
       "1  0.262778  0.269839 -2.530186  56.069698\n",
       "2  0.194587  0.289035 -5.586433  62.871910"
      ]
     },
     "metadata": {},
     "output_type": "display_data"
    }
   ],
   "source": [
    "data_geo_0 = df_geo_0.drop(['id'], axis=1).copy()\n",
    "data_geo_1 = df_geo_1.drop(['id'], axis=1).copy()\n",
    "data_geo_2 = df_geo_2.drop(['id'], axis=1).copy()\n",
    "\n",
    "display(data_geo_0.head(3))\n",
    "display(data_geo_1.head(3))\n",
    "display(data_geo_2.head(3))"
   ]
  },
  {
   "cell_type": "markdown",
   "metadata": {},
   "source": [
    "**Разделение данных на выборки**"
   ]
  },
  {
   "cell_type": "markdown",
   "metadata": {},
   "source": [
    "Разделим данные на обучающую (75%), валидационную (25%)."
   ]
  },
  {
   "cell_type": "code",
   "execution_count": 23,
   "metadata": {},
   "outputs": [],
   "source": [
    "# разделение данных на обучающую и валидационную выборки\n",
    "df_0_train, df_0_valid = train_test_split(data_geo_0.copy(), train_size=0.75, test_size=0.25, random_state=12345)"
   ]
  },
  {
   "cell_type": "code",
   "execution_count": 24,
   "metadata": {},
   "outputs": [
    {
     "name": "stdout",
     "output_type": "stream",
     "text": [
      "Процент данных в обучающей выборке: 75%\n",
      "Процент данных в валидационной выборке 25%\n"
     ]
    }
   ],
   "source": [
    "print(\"Процент данных в обучающей выборке:\", '{:.0%}'.format(len(df_0_train)/len(data_geo_0)))\n",
    "print(\"Процент данных в валидационной выборке\", '{:.0%}'.format(len(df_0_valid)/len(data_geo_0)))"
   ]
  },
  {
   "cell_type": "code",
   "execution_count": 25,
   "metadata": {},
   "outputs": [],
   "source": [
    "# разделение данных на обучающую и валидационную выборки\n",
    "df_1_train, df_1_valid = train_test_split(data_geo_1.copy(), train_size=0.75, test_size=0.25, random_state=12345)"
   ]
  },
  {
   "cell_type": "code",
   "execution_count": 26,
   "metadata": {},
   "outputs": [
    {
     "name": "stdout",
     "output_type": "stream",
     "text": [
      "Процент данных в обучающей выборке: 75%\n",
      "Процент данных в валидационной выборке 25%\n"
     ]
    }
   ],
   "source": [
    "print(\"Процент данных в обучающей выборке:\", '{:.0%}'.format(len(df_1_train)/len(data_geo_1)))\n",
    "print(\"Процент данных в валидационной выборке\", '{:.0%}'.format(len(df_1_valid)/len(data_geo_1)))"
   ]
  },
  {
   "cell_type": "code",
   "execution_count": 27,
   "metadata": {},
   "outputs": [],
   "source": [
    "# разделение данных на обучающую и валидационную выборки\n",
    "df_2_train, df_2_valid = train_test_split(data_geo_2.copy(), train_size=0.75, test_size=0.25, random_state=12345)"
   ]
  },
  {
   "cell_type": "code",
   "execution_count": 28,
   "metadata": {},
   "outputs": [
    {
     "name": "stdout",
     "output_type": "stream",
     "text": [
      "Процент данных в обучающей выборке: 75%\n",
      "Процент данных в валидационной выборке 25%\n"
     ]
    }
   ],
   "source": [
    "print(\"Процент данных в обучающей выборке:\", '{:.0%}'.format(len(df_2_train)/len(data_geo_2)))\n",
    "print(\"Процент данных в валидационной выборке\", '{:.0%}'.format(len(df_2_valid)/len(data_geo_2)))"
   ]
  },
  {
   "cell_type": "code",
   "execution_count": 29,
   "metadata": {},
   "outputs": [],
   "source": [
    "# определение функции для создания переменных для признаков и целевого признака\n",
    "def splitting_data(data, target_column):\n",
    "    return data.drop(columns=[target_column], axis=1), data[target_column]"
   ]
  },
  {
   "cell_type": "code",
   "execution_count": 30,
   "metadata": {},
   "outputs": [],
   "source": [
    "# cоздание переменных для признаков и целевого признака\n",
    "features_0_train, target_0_train = splitting_data(df_0_train, 'product')\n",
    "features_0_valid, target_0_valid = splitting_data(df_0_valid, 'product')\n",
    "\n",
    "features_1_train, target_1_train = splitting_data(df_1_train, 'product')\n",
    "features_1_valid, target_1_valid = splitting_data(df_1_valid, 'product')\n",
    "\n",
    "features_2_train, target_2_train = splitting_data(df_2_train, 'product')\n",
    "features_2_valid, target_2_valid = splitting_data(df_2_valid, 'product')"
   ]
  },
  {
   "cell_type": "code",
   "execution_count": 31,
   "metadata": {
    "scrolled": true
   },
   "outputs": [
    {
     "name": "stdout",
     "output_type": "stream",
     "text": [
      "Сумма значений новых выборок df_0: 100000\n",
      "Количество значений исходной выборки: 100000 \n",
      "\n",
      "Сумма значений новых выборок df_1: 91765\n",
      "Количество значений исходной выборки: 91765 \n",
      "\n",
      "Сумма значений новых выборок df_2: 100000\n",
      "Количество значений исходной выборки: 100000\n"
     ]
    }
   ],
   "source": [
    "# проверка суммы значений\n",
    "print(\"Сумма значений новых выборок df_0:\", len(features_0_train) + len(features_0_valid))\n",
    "print(\"Количество значений исходной выборки:\", len(data_geo_0), '\\n')\n",
    "\n",
    "print(\"Сумма значений новых выборок df_1:\", len(features_1_train) + len(features_1_valid))\n",
    "print(\"Количество значений исходной выборки:\", len(data_geo_1), '\\n')\n",
    "\n",
    "print(\"Сумма значений новых выборок df_2:\", len(features_2_train) + len(features_2_valid))\n",
    "print(\"Количество значений исходной выборки:\", len(data_geo_2))"
   ]
  },
  {
   "cell_type": "markdown",
   "metadata": {},
   "source": [
    "**Стандартизация данных**"
   ]
  },
  {
   "cell_type": "markdown",
   "metadata": {},
   "source": [
    "Приведем данных к единому масштабу с помощью инструмента стандартизации. Масштабируемые данные находятся в столбцах: f0, f1, f2."
   ]
  },
  {
   "cell_type": "code",
   "execution_count": 32,
   "metadata": {},
   "outputs": [],
   "source": [
    "# определение функции для масштабирования данных\n",
    "def scaling_data(features_train_column, features_valid_column, numeric):\n",
    "    scaler = StandardScaler()\n",
    "    scaler.fit(features_train_column[numeric].copy())\n",
    "    pd.options.mode.chained_assignment = None\n",
    "    features_train_column[numeric] = scaler.transform(features_train_column[numeric].copy())\n",
    "    features_valid_column[numeric] = scaler.transform(features_valid_column[numeric].copy())\n",
    "\n",
    "    return  features_train_column.shape,  features_valid_column.shape"
   ]
  },
  {
   "cell_type": "code",
   "execution_count": 33,
   "metadata": {},
   "outputs": [
    {
     "data": {
      "text/plain": [
       "((75000, 3), (25000, 3))"
      ]
     },
     "execution_count": 33,
     "metadata": {},
     "output_type": "execute_result"
    }
   ],
   "source": [
    "# стандартизация данных в выборке\n",
    "scaling_data(features_0_train, features_0_valid, ['f0', 'f1', 'f2'])"
   ]
  },
  {
   "cell_type": "code",
   "execution_count": 34,
   "metadata": {},
   "outputs": [
    {
     "data": {
      "text/plain": [
       "((68823, 3), (22942, 3))"
      ]
     },
     "execution_count": 34,
     "metadata": {},
     "output_type": "execute_result"
    }
   ],
   "source": [
    "# стандартизация данных в выборке\n",
    "scaling_data(features_1_train, features_1_valid, ['f0', 'f1', 'f2'])"
   ]
  },
  {
   "cell_type": "code",
   "execution_count": 35,
   "metadata": {},
   "outputs": [
    {
     "data": {
      "text/plain": [
       "((75000, 3), (25000, 3))"
      ]
     },
     "execution_count": 35,
     "metadata": {},
     "output_type": "execute_result"
    }
   ],
   "source": [
    "# стандартизация данных в выборке\n",
    "scaling_data(features_2_train, features_2_valid, ['f0', 'f1', 'f2'])"
   ]
  },
  {
   "cell_type": "markdown",
   "metadata": {},
   "source": [
    "### Обучение моделей"
   ]
  },
  {
   "cell_type": "markdown",
   "metadata": {},
   "source": [
    "**Обучение модели #0:**"
   ]
  },
  {
   "cell_type": "code",
   "execution_count": 36,
   "metadata": {},
   "outputs": [],
   "source": [
    "def model_LR(features_train, target_train, features_valid, target_valid):\n",
    "    model = LinearRegression()\n",
    "    model.fit(features_train, target_train)\n",
    "    predictions_valid = model.predict(features_valid)\n",
    "\n",
    "    RMSE = mean_squared_error(target_valid, predictions_valid)**0.5 #средняя квадратичная ошибка на валидационной выборке\n",
    "    R2 = r2_score(target_valid, predictions_valid) #к-т детерминации на валидационной выборке\n",
    "    MAE = mean_absolute_error(target_valid, predictions_valid) #среднее абсолютное отклонение на валидационной выборке\n",
    "\n",
    "    target_mean = target_valid.mean() # целевой средний объём запасов в скважине\n",
    "    predicted_mean = predictions_valid.mean() # предсказанный средний объём запасов в скважине\n",
    "\n",
    "    print(\"RMSE модели линейной регрессии на валидационной выборке:\", '{:.1f}'.format(RMSE))\n",
    "    print(\"R2 модели линейной регрессии на валидационной выборке:\", '{:.2f}'.format(R2))\n",
    "    print(\"MAE модели линейной регрессии на валидационной выборке:\", '{:.1f}'.format(MAE))\n",
    "\n",
    "    print(\"Mean (target):\", '{:.1f}'.format(target_mean))\n",
    "    print(\"Mean (predict):\", '{:.1f}'.format(predicted_mean))\n",
    "\n",
    "\n",
    "    # итоги обучения модели\n",
    "    results = pd.DataFrame({'RMSE': '{:.1f}'.format(RMSE), 'MAE': '{:.1f}'.format(MAE), 'R2': '{:.2f}'.format(R2),\n",
    "                            'Mean (target)': '{:.1f}'.format(target_mean),\n",
    "                            'Mean (predict)': '{:.1f}'.format(predicted_mean)},\n",
    "                           index=['Model #0'])\n",
    "    display(results)\n",
    "    \n",
    "    return predictions_valid, results"
   ]
  },
  {
   "cell_type": "code",
   "execution_count": 37,
   "metadata": {
    "scrolled": true
   },
   "outputs": [
    {
     "name": "stdout",
     "output_type": "stream",
     "text": [
      "RMSE модели линейной регрессии на валидационной выборке: 37.6\n",
      "R2 модели линейной регрессии на валидационной выборке: 0.28\n",
      "MAE модели линейной регрессии на валидационной выборке: 30.9\n",
      "Mean (target): 92.1\n",
      "Mean (predict): 92.6\n"
     ]
    },
    {
     "data": {
      "text/html": [
       "<div>\n",
       "<style scoped>\n",
       "    .dataframe tbody tr th:only-of-type {\n",
       "        vertical-align: middle;\n",
       "    }\n",
       "\n",
       "    .dataframe tbody tr th {\n",
       "        vertical-align: top;\n",
       "    }\n",
       "\n",
       "    .dataframe thead th {\n",
       "        text-align: right;\n",
       "    }\n",
       "</style>\n",
       "<table border=\"1\" class=\"dataframe\">\n",
       "  <thead>\n",
       "    <tr style=\"text-align: right;\">\n",
       "      <th></th>\n",
       "      <th>RMSE</th>\n",
       "      <th>MAE</th>\n",
       "      <th>R2</th>\n",
       "      <th>Mean (target)</th>\n",
       "      <th>Mean (predict)</th>\n",
       "    </tr>\n",
       "  </thead>\n",
       "  <tbody>\n",
       "    <tr>\n",
       "      <th>Model #0</th>\n",
       "      <td>37.6</td>\n",
       "      <td>30.9</td>\n",
       "      <td>0.28</td>\n",
       "      <td>92.1</td>\n",
       "      <td>92.6</td>\n",
       "    </tr>\n",
       "  </tbody>\n",
       "</table>\n",
       "</div>"
      ],
      "text/plain": [
       "          RMSE   MAE    R2 Mean (target) Mean (predict)\n",
       "Model #0  37.6  30.9  0.28          92.1           92.6"
      ]
     },
     "metadata": {},
     "output_type": "display_data"
    }
   ],
   "source": [
    "# результаты обучения модели\n",
    "predictions_0, results_0 = model_LR(features_0_train, target_0_train, features_0_valid, target_0_valid)"
   ]
  },
  {
   "cell_type": "markdown",
   "metadata": {},
   "source": [
    "**Обучение модели #1:**"
   ]
  },
  {
   "cell_type": "code",
   "execution_count": 38,
   "metadata": {
    "scrolled": true
   },
   "outputs": [
    {
     "name": "stdout",
     "output_type": "stream",
     "text": [
      "RMSE модели линейной регрессии на валидационной выборке: 0.9\n",
      "R2 модели линейной регрессии на валидационной выборке: 1.00\n",
      "MAE модели линейной регрессии на валидационной выборке: 0.7\n",
      "Mean (target): 74.9\n",
      "Mean (predict): 74.9\n"
     ]
    },
    {
     "data": {
      "text/html": [
       "<div>\n",
       "<style scoped>\n",
       "    .dataframe tbody tr th:only-of-type {\n",
       "        vertical-align: middle;\n",
       "    }\n",
       "\n",
       "    .dataframe tbody tr th {\n",
       "        vertical-align: top;\n",
       "    }\n",
       "\n",
       "    .dataframe thead th {\n",
       "        text-align: right;\n",
       "    }\n",
       "</style>\n",
       "<table border=\"1\" class=\"dataframe\">\n",
       "  <thead>\n",
       "    <tr style=\"text-align: right;\">\n",
       "      <th></th>\n",
       "      <th>RMSE</th>\n",
       "      <th>MAE</th>\n",
       "      <th>R2</th>\n",
       "      <th>Mean (target)</th>\n",
       "      <th>Mean (predict)</th>\n",
       "    </tr>\n",
       "  </thead>\n",
       "  <tbody>\n",
       "    <tr>\n",
       "      <th>Model #0</th>\n",
       "      <td>0.9</td>\n",
       "      <td>0.7</td>\n",
       "      <td>1.00</td>\n",
       "      <td>74.9</td>\n",
       "      <td>74.9</td>\n",
       "    </tr>\n",
       "  </tbody>\n",
       "</table>\n",
       "</div>"
      ],
      "text/plain": [
       "         RMSE  MAE    R2 Mean (target) Mean (predict)\n",
       "Model #0  0.9  0.7  1.00          74.9           74.9"
      ]
     },
     "metadata": {},
     "output_type": "display_data"
    }
   ],
   "source": [
    "# результаты обучения модели\n",
    "predictions_1, results_1 = model_LR(features_1_train, target_1_train, features_1_valid, target_1_valid)"
   ]
  },
  {
   "cell_type": "markdown",
   "metadata": {},
   "source": [
    "**Обучение модели #2:**"
   ]
  },
  {
   "cell_type": "code",
   "execution_count": 39,
   "metadata": {},
   "outputs": [
    {
     "name": "stdout",
     "output_type": "stream",
     "text": [
      "RMSE модели линейной регрессии на валидационной выборке: 40.0\n",
      "R2 модели линейной регрессии на валидационной выборке: 0.21\n",
      "MAE модели линейной регрессии на валидационной выборке: 32.8\n",
      "Mean (target): 94.9\n",
      "Mean (predict): 95.0\n"
     ]
    },
    {
     "data": {
      "text/html": [
       "<div>\n",
       "<style scoped>\n",
       "    .dataframe tbody tr th:only-of-type {\n",
       "        vertical-align: middle;\n",
       "    }\n",
       "\n",
       "    .dataframe tbody tr th {\n",
       "        vertical-align: top;\n",
       "    }\n",
       "\n",
       "    .dataframe thead th {\n",
       "        text-align: right;\n",
       "    }\n",
       "</style>\n",
       "<table border=\"1\" class=\"dataframe\">\n",
       "  <thead>\n",
       "    <tr style=\"text-align: right;\">\n",
       "      <th></th>\n",
       "      <th>RMSE</th>\n",
       "      <th>MAE</th>\n",
       "      <th>R2</th>\n",
       "      <th>Mean (target)</th>\n",
       "      <th>Mean (predict)</th>\n",
       "    </tr>\n",
       "  </thead>\n",
       "  <tbody>\n",
       "    <tr>\n",
       "      <th>Model #0</th>\n",
       "      <td>40.0</td>\n",
       "      <td>32.8</td>\n",
       "      <td>0.21</td>\n",
       "      <td>94.9</td>\n",
       "      <td>95.0</td>\n",
       "    </tr>\n",
       "  </tbody>\n",
       "</table>\n",
       "</div>"
      ],
      "text/plain": [
       "          RMSE   MAE    R2 Mean (target) Mean (predict)\n",
       "Model #0  40.0  32.8  0.21          94.9           95.0"
      ]
     },
     "metadata": {},
     "output_type": "display_data"
    }
   ],
   "source": [
    "# результаты обучения модели\n",
    "predictions_2, results_2 = model_LR(features_2_train, target_2_train, features_2_valid, target_2_valid)"
   ]
  },
  {
   "cell_type": "markdown",
   "metadata": {},
   "source": [
    "### Выводы"
   ]
  },
  {
   "cell_type": "code",
   "execution_count": 40,
   "metadata": {},
   "outputs": [
    {
     "data": {
      "text/html": [
       "<div>\n",
       "<style scoped>\n",
       "    .dataframe tbody tr th:only-of-type {\n",
       "        vertical-align: middle;\n",
       "    }\n",
       "\n",
       "    .dataframe tbody tr th {\n",
       "        vertical-align: top;\n",
       "    }\n",
       "\n",
       "    .dataframe thead th {\n",
       "        text-align: right;\n",
       "    }\n",
       "</style>\n",
       "<table border=\"1\" class=\"dataframe\">\n",
       "  <thead>\n",
       "    <tr style=\"text-align: right;\">\n",
       "      <th></th>\n",
       "      <th>RMSE</th>\n",
       "      <th>MAE</th>\n",
       "      <th>R2</th>\n",
       "      <th>Mean (target)</th>\n",
       "      <th>Mean (predict)</th>\n",
       "    </tr>\n",
       "  </thead>\n",
       "  <tbody>\n",
       "    <tr>\n",
       "      <th>Model #0</th>\n",
       "      <td>37.6</td>\n",
       "      <td>30.9</td>\n",
       "      <td>0.28</td>\n",
       "      <td>92.1</td>\n",
       "      <td>92.6</td>\n",
       "    </tr>\n",
       "    <tr>\n",
       "      <th>Model #0</th>\n",
       "      <td>0.9</td>\n",
       "      <td>0.7</td>\n",
       "      <td>1.00</td>\n",
       "      <td>74.9</td>\n",
       "      <td>74.9</td>\n",
       "    </tr>\n",
       "    <tr>\n",
       "      <th>Model #0</th>\n",
       "      <td>40.0</td>\n",
       "      <td>32.8</td>\n",
       "      <td>0.21</td>\n",
       "      <td>94.9</td>\n",
       "      <td>95.0</td>\n",
       "    </tr>\n",
       "  </tbody>\n",
       "</table>\n",
       "</div>"
      ],
      "text/plain": [
       "          RMSE   MAE    R2 Mean (target) Mean (predict)\n",
       "Model #0  37.6  30.9  0.28          92.1           92.6\n",
       "Model #0   0.9   0.7  1.00          74.9           74.9\n",
       "Model #0  40.0  32.8  0.21          94.9           95.0"
      ]
     },
     "execution_count": 40,
     "metadata": {},
     "output_type": "execute_result"
    }
   ],
   "source": [
    "results_all = pd.concat([results_0] + [results_1] + [results_2])\n",
    "results_all"
   ]
  },
  {
   "cell_type": "markdown",
   "metadata": {},
   "source": [
    "💡 Лучше всего себя показала модель линейной регрессии, обученная на датасете #1. Средняя квадратичная ошибка на валидационной выборке равна 0.9, среднее абсолютное отклонение — 0.7, R2 — 1.0, средний запас предсказанного сырья — 74.9 тыс. барр.    \n",
    "\n",
    "Таким образом модель Региона #1 имеет наименьшую среднеквадратичную ошибку, однако в данном регионе в среднем меньше запасов на месторождениях, поэтому нам потребуются дополнительные исследования прибыльности данного региона."
   ]
  },
  {
   "cell_type": "markdown",
   "metadata": {},
   "source": [
    "## Подготовка к расчёту прибыли"
   ]
  },
  {
   "cell_type": "markdown",
   "metadata": {},
   "source": [
    "Рассчитаем достаточный объём сырья для безубыточной разработки новой скважины. Сравним полученный объём сырья со средним запасом в каждом регионе:"
   ]
  },
  {
   "cell_type": "code",
   "execution_count": 41,
   "metadata": {},
   "outputs": [],
   "source": [
    "NUM_WELLS = 500 # количество скважин при разведке региона \n",
    "SELECTED_WELLS = 200 # количество скважин для разработки\n",
    "REVENUE_PER_BARREL = 450 # доход с 1 барр.\n",
    "BUDGET = 10**10 # бюджет на разработку скважин в регионе"
   ]
  },
  {
   "cell_type": "code",
   "execution_count": 42,
   "metadata": {
    "scrolled": true
   },
   "outputs": [
    {
     "name": "stdout",
     "output_type": "stream",
     "text": [
      "Достаточный объём сырья для безубыточной разработки 200 скважин: 22223.0 тыс. барр.\n",
      "Достаточный объём сырья для безубыточной разработки новой скважины: 112.0 тыс. барр.\n"
     ]
    }
   ],
   "source": [
    "# расчет точки безубыточности\n",
    "breakeven_per_200_wells = np.ceil(BUDGET/REVENUE_PER_BARREL/1000)\n",
    "breakeven = np.ceil(BUDGET/(REVENUE_PER_BARREL*SELECTED_WELLS)/1000)\n",
    "\n",
    "print(\"Достаточный объём сырья для безубыточной разработки 200 скважин:\", breakeven_per_200_wells, \"тыс. барр.\")\n",
    "print(\"Достаточный объём сырья для безубыточной разработки новой скважины:\", breakeven, \"тыс. барр.\")"
   ]
  },
  {
   "cell_type": "markdown",
   "metadata": {},
   "source": [
    "### Выводы"
   ]
  },
  {
   "cell_type": "markdown",
   "metadata": {},
   "source": [
    "💡 Минимальное количество баррелей нефти, необходимое для безубыточной разработки, составляет 112 тыс. барелей на одну скважину.    \n",
    "Среднее содержание нефти в скважинах варьируется от 74.9 до 94.9 тыс. барр., что не достаточно для прибыльной разработки месторождений, если мы будем выбирать скважины случайным образом, поэтому, далее, мы будем отбирать 200 скважин с максимальными запасами сырья из выборок по 500 скважин, и оценивать размер потенциальной прибыли."
   ]
  },
  {
   "cell_type": "markdown",
   "metadata": {},
   "source": [
    "## Расчёт прибыли и рисков "
   ]
  },
  {
   "cell_type": "markdown",
   "metadata": {},
   "source": [
    "Напишем функцию для расчёта прибыли по выбранным скважинам и предсказаниям модели:"
   ]
  },
  {
   "cell_type": "code",
   "execution_count": 43,
   "metadata": {},
   "outputs": [],
   "source": [
    "def profit(target, predictions, count):\n",
    "    predictions = predictions.reset_index(drop=True)\n",
    "    profitable_wells = predictions.sort_values(ascending=False)\n",
    "    \n",
    "    target = target.reset_index(drop=True)\n",
    "    product_sum = target[profitable_wells.index][:count].sum()\n",
    "    \n",
    "    revenue = (product_sum * 1000 * REVENUE_PER_BARREL).round(0)\n",
    "    gross_profit = revenue - BUDGET\n",
    "    \n",
    "    return gross_profit"
   ]
  },
  {
   "cell_type": "markdown",
   "metadata": {},
   "source": [
    "Напишем функцию для расчета рисков и прибыли для каждого региона:"
   ]
  },
  {
   "cell_type": "code",
   "execution_count": 44,
   "metadata": {},
   "outputs": [],
   "source": [
    "# определение функции Bootstrap\n",
    "def bootstrap(target, predictions):\n",
    "    \n",
    "    state = np.random.RandomState(12345) # передадим переменную random_state чтобы получить разные подвыборки (при каждом вызове состояние будет меняеться на случайное)\n",
    "    values = []\n",
    "\n",
    "    for i in range(1000):\n",
    "        target_subsample = target.reset_index(drop=True).sample(n=NUM_WELLS, replace=True, random_state=state) # frac=1 - 100% строк попадет в подвыборку, replace=True - один и тот же аргумент попадет в выборку несколько раз\n",
    "        predictions_subsample = pd.Series(predictions)[target_subsample.index]\n",
    "        values.append(profit(target_subsample, predictions_subsample, SELECTED_WELLS)) # применяем функцию подсчета прибыли и формируем список значений\n",
    "    values = pd.Series(values)\n",
    "\n",
    "    # 95% доверительный интервал и среднее\n",
    "    lower = values.quantile(0.025) \n",
    "    upper = values.quantile(0.975) \n",
    "    mean = values.mean()\n",
    "\n",
    "    # риск убытков\n",
    "    risk = (values<0).mean()*100\n",
    "\n",
    "    print(\"Средняя валовая прибыль:\", np.round(mean, 0))\n",
    "    print(\"97,5%-квантиль по прибыли:\", np.round(upper))\n",
    "    print(\"2,5%-квантиль по прибыли:\", np.round(lower))\n",
    "    print(f\"Вероятность убытков: {risk}%\")"
   ]
  },
  {
   "cell_type": "code",
   "execution_count": 45,
   "metadata": {},
   "outputs": [
    {
     "name": "stdout",
     "output_type": "stream",
     "text": [
      "Средняя валовая прибыль: 396164979.0\n",
      "97,5%-квантиль по прибыли: 909767151.0\n",
      "2,5%-квантиль по прибыли: -111215019.0\n",
      "Вероятность убытков: 6.9%\n"
     ]
    }
   ],
   "source": [
    "# Bootstrap для модели #0\n",
    "bootstrap(target_0_valid, predictions_0)"
   ]
  },
  {
   "cell_type": "code",
   "execution_count": 46,
   "metadata": {},
   "outputs": [
    {
     "name": "stdout",
     "output_type": "stream",
     "text": [
      "Средняя валовая прибыль: 694787713.0\n",
      "97,5%-квантиль по прибыли: 1061359802.0\n",
      "2,5%-квантиль по прибыли: 291399321.0\n",
      "Вероятность убытков: 0.0%\n"
     ]
    }
   ],
   "source": [
    "# Bootstrap для модели #1\n",
    "bootstrap(target_1_valid, predictions_1)"
   ]
  },
  {
   "cell_type": "code",
   "execution_count": 47,
   "metadata": {},
   "outputs": [
    {
     "name": "stdout",
     "output_type": "stream",
     "text": [
      "Средняя валовая прибыль: 404403841.0\n",
      "97,5%-квантиль по прибыли: 950359678.0\n",
      "2,5%-квантиль по прибыли: -163351167.0\n",
      "Вероятность убытков: 7.6%\n"
     ]
    }
   ],
   "source": [
    "# Bootstrap для модели #2\n",
    "bootstrap(target_2_valid, predictions_2)"
   ]
  },
  {
   "cell_type": "markdown",
   "metadata": {},
   "source": [
    "### Выводы"
   ]
  },
  {
   "cell_type": "markdown",
   "metadata": {},
   "source": [
    "💡 С точки зрения средней выручки и вероятности убытков предпочтителен регион добычи #1 (geo_data_1.csv). Средний размер валовой прибыли по нему составляет 694,8 млн. руб. c 0%-ой вероятностью убытка."
   ]
  },
  {
   "cell_type": "markdown",
   "metadata": {},
   "source": [
    "## Общий вывод"
   ]
  },
  {
   "cell_type": "markdown",
   "metadata": {},
   "source": [
    "💡 \n",
    "\n",
    "\n",
    "* На этапе предобработки данные были приведены к соответствующему вещественному типу, удалены нулевые значенияч в таблице df_geo_1;\n",
    "* В ходе подготовки признаков были удалены ненужные колонки, данные разделены на обучающую и валидационную выборки, также выполнена стандартизация данных;\n",
    "* Далее, была обучена и протестирована модель линейной регрессии для трёх различных регионов добычи;\n",
    "* Выявлено, что лучше всего себя показала модель линейной регрессии, обученная на датасете #1. Средняя квадратичная ошибка на валидационной выборке равна 0.9, среднее абсолютное отклонение — 0.7, R2 — 1.0, средний запас предсказанного сырья — 74.9 тыс. барр.;\n",
    "* С точки зрения средней выручки и вероятности убытков предпочтителен регион добычи #1 (geo_data_1.csv). Средний размер выручки по нему составил 694,8 млн. руб. c 1%-ой вероятностью убытка.\n",
    "\n",
    "**Таким образом обученная модель линейной регрессии определила регион с наибольшей потенциальной прибылью — #1. В результате оценки рисков это единственный регион в котором вероятность убытков меньше 2.5%, что соответствует условию задачи. Таким образом, регион #1 можно рекомендовать к разработке.**"
   ]
  }
 ],
 "metadata": {
  "ExecuteTimeLog": [
   {
    "duration": 12322,
    "start_time": "2022-07-22T16:27:19.107Z"
   },
   {
    "duration": 5,
    "start_time": "2022-07-22T16:27:31.431Z"
   },
   {
    "duration": 1034,
    "start_time": "2022-07-22T16:27:31.438Z"
   },
   {
    "duration": 26,
    "start_time": "2022-07-22T16:27:32.474Z"
   },
   {
    "duration": 27,
    "start_time": "2022-07-22T16:27:35.352Z"
   },
   {
    "duration": 12,
    "start_time": "2022-07-22T16:27:41.586Z"
   },
   {
    "duration": 18,
    "start_time": "2022-07-22T16:28:02.970Z"
   },
   {
    "duration": 157,
    "start_time": "2022-07-22T16:31:08.168Z"
   },
   {
    "duration": 41,
    "start_time": "2022-07-22T16:32:13.621Z"
   },
   {
    "duration": 880,
    "start_time": "2022-07-22T16:32:14.923Z"
   },
   {
    "duration": 9,
    "start_time": "2022-07-22T16:32:21.762Z"
   },
   {
    "duration": 44,
    "start_time": "2022-07-22T16:32:24.551Z"
   },
   {
    "duration": 923,
    "start_time": "2022-07-22T16:32:29.692Z"
   },
   {
    "duration": 8,
    "start_time": "2022-07-22T16:32:48.895Z"
   },
   {
    "duration": 13,
    "start_time": "2022-07-22T16:32:58.222Z"
   },
   {
    "duration": 23,
    "start_time": "2022-07-22T16:32:58.620Z"
   },
   {
    "duration": 7,
    "start_time": "2022-07-22T16:33:26.604Z"
   },
   {
    "duration": 8,
    "start_time": "2022-07-22T16:33:28.314Z"
   },
   {
    "duration": 47,
    "start_time": "2022-07-23T04:33:41.922Z"
   },
   {
    "duration": 5711,
    "start_time": "2022-07-23T04:33:46.194Z"
   },
   {
    "duration": 3,
    "start_time": "2022-07-23T04:33:51.907Z"
   },
   {
    "duration": 941,
    "start_time": "2022-07-23T04:33:51.912Z"
   },
   {
    "duration": 25,
    "start_time": "2022-07-23T04:33:52.855Z"
   },
   {
    "duration": 25,
    "start_time": "2022-07-23T04:33:52.881Z"
   },
   {
    "duration": 13,
    "start_time": "2022-07-23T04:33:52.909Z"
   },
   {
    "duration": 36,
    "start_time": "2022-07-23T04:33:52.924Z"
   },
   {
    "duration": 139,
    "start_time": "2022-07-23T04:33:52.962Z"
   },
   {
    "duration": 43,
    "start_time": "2022-07-23T04:33:53.103Z"
   },
   {
    "duration": 790,
    "start_time": "2022-07-23T04:33:53.148Z"
   },
   {
    "duration": 6,
    "start_time": "2022-07-23T04:33:53.940Z"
   },
   {
    "duration": 35,
    "start_time": "2022-07-23T04:33:53.947Z"
   },
   {
    "duration": 860,
    "start_time": "2022-07-23T04:33:53.983Z"
   },
   {
    "duration": 9,
    "start_time": "2022-07-23T04:33:54.845Z"
   },
   {
    "duration": 18,
    "start_time": "2022-07-23T04:33:54.855Z"
   },
   {
    "duration": 7,
    "start_time": "2022-07-23T04:33:54.875Z"
   },
   {
    "duration": 29,
    "start_time": "2022-07-23T04:33:54.883Z"
   },
   {
    "duration": 39,
    "start_time": "2022-07-23T04:33:54.913Z"
   },
   {
    "duration": 30,
    "start_time": "2022-07-23T04:34:04.948Z"
   },
   {
    "duration": 798,
    "start_time": "2022-07-23T04:34:06.552Z"
   },
   {
    "duration": 11,
    "start_time": "2022-07-23T04:34:08.411Z"
   },
   {
    "duration": 24,
    "start_time": "2022-07-23T04:47:07.039Z"
   },
   {
    "duration": 9,
    "start_time": "2022-07-23T04:47:42.521Z"
   },
   {
    "duration": 4,
    "start_time": "2022-07-23T04:47:43.315Z"
   },
   {
    "duration": 10,
    "start_time": "2022-07-23T04:47:45.027Z"
   },
   {
    "duration": 4,
    "start_time": "2022-07-23T04:47:45.908Z"
   },
   {
    "duration": 10,
    "start_time": "2022-07-23T04:47:47.108Z"
   },
   {
    "duration": 4,
    "start_time": "2022-07-23T04:47:48.008Z"
   },
   {
    "duration": 3,
    "start_time": "2022-07-23T04:48:18.032Z"
   },
   {
    "duration": 11,
    "start_time": "2022-07-23T04:48:20.767Z"
   },
   {
    "duration": 6,
    "start_time": "2022-07-23T04:48:36.184Z"
   },
   {
    "duration": 3,
    "start_time": "2022-07-23T04:52:21.848Z"
   },
   {
    "duration": 19,
    "start_time": "2022-07-23T04:52:28.222Z"
   },
   {
    "duration": 18,
    "start_time": "2022-07-23T04:52:28.891Z"
   },
   {
    "duration": 17,
    "start_time": "2022-07-23T04:52:29.601Z"
   },
   {
    "duration": 162,
    "start_time": "2022-07-23T04:54:25.852Z"
   },
   {
    "duration": 90,
    "start_time": "2022-07-23T04:55:00.726Z"
   },
   {
    "duration": 48,
    "start_time": "2022-07-23T04:55:55.565Z"
   },
   {
    "duration": 9,
    "start_time": "2022-07-23T04:56:09.206Z"
   },
   {
    "duration": 3,
    "start_time": "2022-07-23T04:59:20.381Z"
   },
   {
    "duration": 5,
    "start_time": "2022-07-23T04:59:20.740Z"
   },
   {
    "duration": 4,
    "start_time": "2022-07-23T05:00:45.356Z"
   },
   {
    "duration": 13,
    "start_time": "2022-07-23T05:00:45.362Z"
   },
   {
    "duration": 501,
    "start_time": "2022-07-23T05:00:45.377Z"
   },
   {
    "duration": 31,
    "start_time": "2022-07-23T05:00:45.879Z"
   },
   {
    "duration": 26,
    "start_time": "2022-07-23T05:00:45.912Z"
   },
   {
    "duration": 8,
    "start_time": "2022-07-23T05:00:45.940Z"
   },
   {
    "duration": 18,
    "start_time": "2022-07-23T05:00:45.949Z"
   },
   {
    "duration": 165,
    "start_time": "2022-07-23T05:00:45.970Z"
   },
   {
    "duration": 35,
    "start_time": "2022-07-23T05:00:46.136Z"
   },
   {
    "duration": 884,
    "start_time": "2022-07-23T05:00:46.172Z"
   },
   {
    "duration": 6,
    "start_time": "2022-07-23T05:00:47.058Z"
   },
   {
    "duration": 44,
    "start_time": "2022-07-23T05:00:47.066Z"
   },
   {
    "duration": 790,
    "start_time": "2022-07-23T05:00:47.114Z"
   },
   {
    "duration": 9,
    "start_time": "2022-07-23T05:00:47.906Z"
   },
   {
    "duration": 17,
    "start_time": "2022-07-23T05:00:47.916Z"
   },
   {
    "duration": 5,
    "start_time": "2022-07-23T05:00:47.935Z"
   },
   {
    "duration": 5,
    "start_time": "2022-07-23T05:00:47.942Z"
   },
   {
    "duration": 34,
    "start_time": "2022-07-23T05:00:47.949Z"
   },
   {
    "duration": 788,
    "start_time": "2022-07-23T05:00:47.984Z"
   },
   {
    "duration": 5,
    "start_time": "2022-07-23T05:00:48.774Z"
   },
   {
    "duration": 35,
    "start_time": "2022-07-23T05:00:48.781Z"
   },
   {
    "duration": 8,
    "start_time": "2022-07-23T05:00:48.817Z"
   },
   {
    "duration": 6,
    "start_time": "2022-07-23T05:00:48.827Z"
   },
   {
    "duration": 11,
    "start_time": "2022-07-23T05:00:48.834Z"
   },
   {
    "duration": 4,
    "start_time": "2022-07-23T05:00:48.847Z"
   },
   {
    "duration": 14,
    "start_time": "2022-07-23T05:00:48.852Z"
   },
   {
    "duration": 14,
    "start_time": "2022-07-23T05:00:48.868Z"
   },
   {
    "duration": 8,
    "start_time": "2022-07-23T05:00:48.884Z"
   },
   {
    "duration": 9,
    "start_time": "2022-07-23T05:00:48.910Z"
   },
   {
    "duration": 14,
    "start_time": "2022-07-23T05:00:48.921Z"
   },
   {
    "duration": 8,
    "start_time": "2022-07-23T05:00:48.936Z"
   },
   {
    "duration": 19,
    "start_time": "2022-07-23T05:00:48.945Z"
   },
   {
    "duration": 14,
    "start_time": "2022-07-23T05:00:48.966Z"
   },
   {
    "duration": 28,
    "start_time": "2022-07-23T05:00:48.982Z"
   },
   {
    "duration": 109,
    "start_time": "2022-07-23T05:00:49.012Z"
   },
   {
    "duration": 103,
    "start_time": "2022-07-23T05:00:49.210Z"
   },
   {
    "duration": 102,
    "start_time": "2022-07-23T05:00:49.409Z"
   },
   {
    "duration": 104,
    "start_time": "2022-07-23T05:00:49.513Z"
   },
   {
    "duration": 8,
    "start_time": "2022-07-23T05:00:49.620Z"
   },
   {
    "duration": 8,
    "start_time": "2022-07-23T05:00:49.630Z"
   },
   {
    "duration": 4,
    "start_time": "2022-07-23T05:01:26.895Z"
   },
   {
    "duration": 5,
    "start_time": "2022-07-23T05:02:42.283Z"
   },
   {
    "duration": 1531,
    "start_time": "2022-07-23T05:02:42.914Z"
   },
   {
    "duration": 1599,
    "start_time": "2022-07-23T05:02:44.447Z"
   },
   {
    "duration": 1529,
    "start_time": "2022-07-23T05:02:46.048Z"
   },
   {
    "duration": 5,
    "start_time": "2022-07-23T05:07:09.829Z"
   },
   {
    "duration": 1499,
    "start_time": "2022-07-23T05:07:10.362Z"
   },
   {
    "duration": 1439,
    "start_time": "2022-07-23T05:07:13.294Z"
   },
   {
    "duration": 1422,
    "start_time": "2022-07-23T05:07:15.002Z"
   },
   {
    "duration": 6,
    "start_time": "2022-07-23T05:07:29.796Z"
   },
   {
    "duration": 1780,
    "start_time": "2022-07-23T05:07:30.340Z"
   },
   {
    "duration": 1704,
    "start_time": "2022-07-23T05:07:32.123Z"
   },
   {
    "duration": 1624,
    "start_time": "2022-07-23T05:07:33.829Z"
   }
  ],
  "kernelspec": {
   "display_name": "Python 3 (ipykernel)",
   "language": "python",
   "name": "python3"
  },
  "language_info": {
   "codemirror_mode": {
    "name": "ipython",
    "version": 3
   },
   "file_extension": ".py",
   "mimetype": "text/x-python",
   "name": "python",
   "nbconvert_exporter": "python",
   "pygments_lexer": "ipython3",
   "version": "3.9.13"
  },
  "toc": {
   "base_numbering": 1,
   "nav_menu": {},
   "number_sections": true,
   "sideBar": true,
   "skip_h1_title": true,
   "title_cell": "Table of Contents",
   "title_sidebar": "Contents",
   "toc_cell": false,
   "toc_position": {
    "height": "calc(100% - 180px)",
    "left": "10px",
    "top": "150px",
    "width": "310.438px"
   },
   "toc_section_display": true,
   "toc_window_display": true
  }
 },
 "nbformat": 4,
 "nbformat_minor": 2
}
