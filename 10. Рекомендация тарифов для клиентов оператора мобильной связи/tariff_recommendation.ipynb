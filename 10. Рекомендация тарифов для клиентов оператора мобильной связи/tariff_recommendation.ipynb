{
 "cells": [
  {
   "cell_type": "markdown",
   "metadata": {
    "toc": true
   },
   "source": [
    "<h1>Содержание<span class=\"tocSkip\"></span></h1>\n",
    "<div class=\"toc\"><ul class=\"toc-item\"><li><span><a href=\"#Изучение-данных\" data-toc-modified-id=\"Изучение-данных-1\"><span class=\"toc-item-num\">1&nbsp;&nbsp;</span>Изучение данных</a></span></li><li><span><a href=\"#Разбиение-данных-на-выборки\" data-toc-modified-id=\"Разбиение-данных-на-выборки-2\"><span class=\"toc-item-num\">2&nbsp;&nbsp;</span>Разбиение данных на выборки</a></span></li><li><span><a href=\"#Исследование-моделей\" data-toc-modified-id=\"Исследование-моделей-3\"><span class=\"toc-item-num\">3&nbsp;&nbsp;</span>Исследование моделей</a></span><ul class=\"toc-item\"><li><span><a href=\"#Вывод-исследования\" data-toc-modified-id=\"Вывод-исследования-3.1\"><span class=\"toc-item-num\">3.1&nbsp;&nbsp;</span>Вывод исследования</a></span></li></ul></li><li><span><a href=\"#Проверка-моделей-на-тестовой-выборке\" data-toc-modified-id=\"Проверка-моделей-на-тестовой-выборке-4\"><span class=\"toc-item-num\">4&nbsp;&nbsp;</span>Проверка моделей на тестовой выборке</a></span></li><li><span><a href=\"#Проверка-моделей-на-адекватность\" data-toc-modified-id=\"Проверка-моделей-на-адекватность-5\"><span class=\"toc-item-num\">5&nbsp;&nbsp;</span>Проверка моделей на адекватность</a></span></li><li><span><a href=\"#Общий-вывод\" data-toc-modified-id=\"Общий-вывод-6\"><span class=\"toc-item-num\">6&nbsp;&nbsp;</span>Общий вывод</a></span></li></ul></div>"
   ]
  },
  {
   "cell_type": "markdown",
   "metadata": {},
   "source": [
    "# Рекомендация тарифов"
   ]
  },
  {
   "cell_type": "markdown",
   "metadata": {},
   "source": [
    "Известно, что многие клиенты оператора мобильной связи «Мегалайн» пользуются архивными тарифами. В распоряжении имеются данные о поведении клиентов, которые уже перешли на эти тарифы.\n",
    "\n",
    "Цель оператора — построить систему, способную проанализировать поведение клиентов и предложить пользователям новый тариф: «Смарт» или «Ультра».\n",
    "\n",
    "Задача исследования — построить модель классификации с максимально большим значением accuracy, которая выберет подходящий тариф. Необходимо, чтобы доля правильных ответов не менее 0.75.\n",
    "\n",
    "**Исследование пройдёт в шесть этапов:**\n",
    " 1. Изучение данных;\n",
    " 2. Разбиение данных на выборки;\n",
    " 3. Исследование моделей;\n",
    " 4. Проверка моделей на тестовой выборке;\n",
    " 5. Проверка моделей на адекватность;\n",
    " 6. Общий вывод."
   ]
  },
  {
   "cell_type": "markdown",
   "metadata": {},
   "source": [
    "## Изучение данных"
   ]
  },
  {
   "cell_type": "code",
   "execution_count": 1,
   "metadata": {},
   "outputs": [],
   "source": [
    "# импорт библиотек\n",
    "import pandas as pd\n",
    "import numpy as np\n",
    "from sklearn.model_selection import train_test_split\n",
    "from sklearn.metrics import accuracy_score\n",
    "from sklearn.tree import DecisionTreeClassifier\n",
    "from sklearn.ensemble import RandomForestClassifier\n",
    "from sklearn.linear_model import LogisticRegression\n",
    "from sklearn.metrics import classification_report"
   ]
  },
  {
   "cell_type": "code",
   "execution_count": 2,
   "metadata": {},
   "outputs": [],
   "source": [
    "# сброс ограничений на количество выводимых рядов\n",
    "pd.set_option('display.max_rows', None)\n",
    " \n",
    "# сброс ограничений на число столбцов\n",
    "pd.set_option('display.max_columns', None)\n",
    " \n",
    "# сброс ограничений на количество символов в записи\n",
    "pd.set_option('display.max_colwidth', None)"
   ]
  },
  {
   "cell_type": "markdown",
   "id": "61eba503",
   "metadata": {},
   "source": [
    "Данные для исследования получаем из файла `users_behavior.csv`:"
   ]
  },
  {
   "cell_type": "code",
   "execution_count": 3,
   "id": "648b3839",
   "metadata": {},
   "outputs": [],
   "source": [
    "# чтение файлов с данными и сохранение в df\n",
    "try:\n",
    "    df = pd.read_csv('datasets/users_behavior.csv')\n",
    "except:\n",
    "    df = pd.read_csv('/datasets/users_behavior.csv')"
   ]
  },
  {
   "cell_type": "markdown",
   "metadata": {},
   "source": [
    "**Описание данных:**\n",
    "*\t`сalls` — количество звонков;\n",
    "*\t`minutes` — суммарная длительность звонков в минутах;\n",
    "*\t`messages` — количество sms-сообщений;\n",
    "*\t`mb_used` — израсходованный интернет-трафик в Мб;\n",
    "*\t`is_ultra` — каким тарифом пользовался в течение месяца («Ультра» — 1, «Смарт» — 0)."
   ]
  },
  {
   "cell_type": "code",
   "execution_count": 4,
   "metadata": {},
   "outputs": [
    {
     "data": {
      "text/html": [
       "<div>\n",
       "<style scoped>\n",
       "    .dataframe tbody tr th:only-of-type {\n",
       "        vertical-align: middle;\n",
       "    }\n",
       "\n",
       "    .dataframe tbody tr th {\n",
       "        vertical-align: top;\n",
       "    }\n",
       "\n",
       "    .dataframe thead th {\n",
       "        text-align: right;\n",
       "    }\n",
       "</style>\n",
       "<table border=\"1\" class=\"dataframe\">\n",
       "  <thead>\n",
       "    <tr style=\"text-align: right;\">\n",
       "      <th></th>\n",
       "      <th>calls</th>\n",
       "      <th>minutes</th>\n",
       "      <th>messages</th>\n",
       "      <th>mb_used</th>\n",
       "      <th>is_ultra</th>\n",
       "    </tr>\n",
       "  </thead>\n",
       "  <tbody>\n",
       "    <tr>\n",
       "      <th>0</th>\n",
       "      <td>40.0</td>\n",
       "      <td>311.90</td>\n",
       "      <td>83.0</td>\n",
       "      <td>19915.42</td>\n",
       "      <td>0</td>\n",
       "    </tr>\n",
       "    <tr>\n",
       "      <th>1</th>\n",
       "      <td>85.0</td>\n",
       "      <td>516.75</td>\n",
       "      <td>56.0</td>\n",
       "      <td>22696.96</td>\n",
       "      <td>0</td>\n",
       "    </tr>\n",
       "    <tr>\n",
       "      <th>2</th>\n",
       "      <td>77.0</td>\n",
       "      <td>467.66</td>\n",
       "      <td>86.0</td>\n",
       "      <td>21060.45</td>\n",
       "      <td>0</td>\n",
       "    </tr>\n",
       "    <tr>\n",
       "      <th>3</th>\n",
       "      <td>106.0</td>\n",
       "      <td>745.53</td>\n",
       "      <td>81.0</td>\n",
       "      <td>8437.39</td>\n",
       "      <td>1</td>\n",
       "    </tr>\n",
       "    <tr>\n",
       "      <th>4</th>\n",
       "      <td>66.0</td>\n",
       "      <td>418.74</td>\n",
       "      <td>1.0</td>\n",
       "      <td>14502.75</td>\n",
       "      <td>0</td>\n",
       "    </tr>\n",
       "  </tbody>\n",
       "</table>\n",
       "</div>"
      ],
      "text/plain": [
       "   calls  minutes  messages   mb_used  is_ultra\n",
       "0   40.0   311.90      83.0  19915.42         0\n",
       "1   85.0   516.75      56.0  22696.96         0\n",
       "2   77.0   467.66      86.0  21060.45         0\n",
       "3  106.0   745.53      81.0   8437.39         1\n",
       "4   66.0   418.74       1.0  14502.75         0"
      ]
     },
     "metadata": {},
     "output_type": "display_data"
    },
    {
     "name": "stdout",
     "output_type": "stream",
     "text": [
      "<class 'pandas.core.frame.DataFrame'>\n",
      "RangeIndex: 3214 entries, 0 to 3213\n",
      "Data columns (total 5 columns):\n",
      " #   Column    Non-Null Count  Dtype  \n",
      "---  ------    --------------  -----  \n",
      " 0   calls     3214 non-null   float64\n",
      " 1   minutes   3214 non-null   float64\n",
      " 2   messages  3214 non-null   float64\n",
      " 3   mb_used   3214 non-null   float64\n",
      " 4   is_ultra  3214 non-null   int64  \n",
      "dtypes: float64(4), int64(1)\n",
      "memory usage: 125.7 KB\n"
     ]
    },
    {
     "data": {
      "text/plain": [
       "None"
      ]
     },
     "metadata": {},
     "output_type": "display_data"
    }
   ],
   "source": [
    "# получение первых пяти строк таблицы\n",
    "display(df.head())\n",
    "# получение общей информации о данных\n",
    "display(df.info())"
   ]
  },
  {
   "cell_type": "code",
   "execution_count": 5,
   "metadata": {},
   "outputs": [
    {
     "data": {
      "text/html": [
       "<div>\n",
       "<style scoped>\n",
       "    .dataframe tbody tr th:only-of-type {\n",
       "        vertical-align: middle;\n",
       "    }\n",
       "\n",
       "    .dataframe tbody tr th {\n",
       "        vertical-align: top;\n",
       "    }\n",
       "\n",
       "    .dataframe thead th {\n",
       "        text-align: right;\n",
       "    }\n",
       "</style>\n",
       "<table border=\"1\" class=\"dataframe\">\n",
       "  <thead>\n",
       "    <tr style=\"text-align: right;\">\n",
       "      <th></th>\n",
       "      <th>calls</th>\n",
       "      <th>minutes</th>\n",
       "      <th>messages</th>\n",
       "      <th>mb_used</th>\n",
       "      <th>is_ultra</th>\n",
       "    </tr>\n",
       "  </thead>\n",
       "  <tbody>\n",
       "    <tr>\n",
       "      <th>count</th>\n",
       "      <td>3214.000000</td>\n",
       "      <td>3214.000000</td>\n",
       "      <td>3214.000000</td>\n",
       "      <td>3214.000000</td>\n",
       "      <td>3214.000000</td>\n",
       "    </tr>\n",
       "    <tr>\n",
       "      <th>mean</th>\n",
       "      <td>63.038892</td>\n",
       "      <td>438.208787</td>\n",
       "      <td>38.281269</td>\n",
       "      <td>17207.673836</td>\n",
       "      <td>0.306472</td>\n",
       "    </tr>\n",
       "    <tr>\n",
       "      <th>std</th>\n",
       "      <td>33.236368</td>\n",
       "      <td>234.569872</td>\n",
       "      <td>36.148326</td>\n",
       "      <td>7570.968246</td>\n",
       "      <td>0.461100</td>\n",
       "    </tr>\n",
       "    <tr>\n",
       "      <th>min</th>\n",
       "      <td>0.000000</td>\n",
       "      <td>0.000000</td>\n",
       "      <td>0.000000</td>\n",
       "      <td>0.000000</td>\n",
       "      <td>0.000000</td>\n",
       "    </tr>\n",
       "    <tr>\n",
       "      <th>25%</th>\n",
       "      <td>40.000000</td>\n",
       "      <td>274.575000</td>\n",
       "      <td>9.000000</td>\n",
       "      <td>12491.902500</td>\n",
       "      <td>0.000000</td>\n",
       "    </tr>\n",
       "    <tr>\n",
       "      <th>50%</th>\n",
       "      <td>62.000000</td>\n",
       "      <td>430.600000</td>\n",
       "      <td>30.000000</td>\n",
       "      <td>16943.235000</td>\n",
       "      <td>0.000000</td>\n",
       "    </tr>\n",
       "    <tr>\n",
       "      <th>75%</th>\n",
       "      <td>82.000000</td>\n",
       "      <td>571.927500</td>\n",
       "      <td>57.000000</td>\n",
       "      <td>21424.700000</td>\n",
       "      <td>1.000000</td>\n",
       "    </tr>\n",
       "    <tr>\n",
       "      <th>max</th>\n",
       "      <td>244.000000</td>\n",
       "      <td>1632.060000</td>\n",
       "      <td>224.000000</td>\n",
       "      <td>49745.730000</td>\n",
       "      <td>1.000000</td>\n",
       "    </tr>\n",
       "  </tbody>\n",
       "</table>\n",
       "</div>"
      ],
      "text/plain": [
       "             calls      minutes     messages       mb_used     is_ultra\n",
       "count  3214.000000  3214.000000  3214.000000   3214.000000  3214.000000\n",
       "mean     63.038892   438.208787    38.281269  17207.673836     0.306472\n",
       "std      33.236368   234.569872    36.148326   7570.968246     0.461100\n",
       "min       0.000000     0.000000     0.000000      0.000000     0.000000\n",
       "25%      40.000000   274.575000     9.000000  12491.902500     0.000000\n",
       "50%      62.000000   430.600000    30.000000  16943.235000     0.000000\n",
       "75%      82.000000   571.927500    57.000000  21424.700000     1.000000\n",
       "max     244.000000  1632.060000   224.000000  49745.730000     1.000000"
      ]
     },
     "execution_count": 5,
     "metadata": {},
     "output_type": "execute_result"
    }
   ],
   "source": [
    "# числовое описание данных таблицы df_games\n",
    "df.describe()"
   ]
  },
  {
   "cell_type": "markdown",
   "metadata": {},
   "source": [
    "💡 В исходном файле содержатся данные о поведении клиентов оператора мобильной связи «Мегалайн». Клиенты пользуются тарифами \"Смарт\" и \"Ультра\".\n",
    "\n",
    "Столбцы в датафреймах содержат вещественные и целочисленные типы данных. Данные уже прошли предобработку, поэтому в данных не содержится дубликатов, пропусков и нарушений стиля заголовков. "
   ]
  },
  {
   "cell_type": "markdown",
   "metadata": {},
   "source": [
    "## Разбиение данных на выборки"
   ]
  },
  {
   "cell_type": "markdown",
   "metadata": {},
   "source": [
    "Разделим данные на обучающую (60%), валидационную (20%) и тестовую (20%) выборки:"
   ]
  },
  {
   "cell_type": "code",
   "execution_count": 6,
   "metadata": {
    "scrolled": true
   },
   "outputs": [
    {
     "data": {
      "text/plain": [
       "3214"
      ]
     },
     "execution_count": 6,
     "metadata": {},
     "output_type": "execute_result"
    }
   ],
   "source": [
    "# количество строк в исходном наборе данных\n",
    "len(df)"
   ]
  },
  {
   "cell_type": "code",
   "execution_count": 7,
   "metadata": {},
   "outputs": [
    {
     "name": "stdout",
     "output_type": "stream",
     "text": [
      "Процент данных в обучающей выборке: 60%\n",
      "Процент данных в валидационной выборке 20%\n",
      "Процент данных в тестовой выборке 20%\n"
     ]
    }
   ],
   "source": [
    "# разделение данных на обучающую, валидационную и тестовую выборки\n",
    "df_train, df_test = train_test_split(df, train_size=0.6, test_size=0.4, random_state=123)\n",
    "df_test, df_valid = train_test_split(df_test, test_size=0.5, random_state=123)\n",
    "print(\"Процент данных в обучающей выборке:\", '{:.0%}'.format(len(df_train)/len(df)))\n",
    "print(\"Процент данных в валидационной выборке\", '{:.0%}'.format(len(df_valid)/len(df)))\n",
    "print(\"Процент данных в тестовой выборке\", '{:.0%}'.format(len(df_test)/len(df)))"
   ]
  },
  {
   "cell_type": "code",
   "execution_count": 8,
   "metadata": {},
   "outputs": [],
   "source": [
    "# cоздание переменных для признаков и целевого признака\n",
    "features_train = df_train.drop(['is_ultra'], axis=1)\n",
    "target_train = df_train['is_ultra']\n",
    "\n",
    "features_valid = df_valid.drop(['is_ultra'], axis=1)\n",
    "target_valid = df_valid['is_ultra']\n",
    "\n",
    "features_test = df_test.drop(['is_ultra'], axis=1)\n",
    "target_test = df_test['is_ultra']"
   ]
  },
  {
   "cell_type": "markdown",
   "metadata": {},
   "source": [
    "## Исследование моделей"
   ]
  },
  {
   "cell_type": "markdown",
   "metadata": {},
   "source": [
    "**Модель дерева решений**"
   ]
  },
  {
   "cell_type": "markdown",
   "metadata": {},
   "source": [
    "Проверим десять моделей с разной глубиной дерева и найдем лучшую модель."
   ]
  },
  {
   "cell_type": "code",
   "execution_count": 9,
   "metadata": {
    "scrolled": true
   },
   "outputs": [
    {
     "name": "stdout",
     "output_type": "stream",
     "text": [
      "Глубина дерева: 3, \n",
      "Качество модели:0.7962674961119751.\n"
     ]
    }
   ],
   "source": [
    "best_accuracy = 0\n",
    "\n",
    "# цикл по гиперпараметру \"глубина дерева\"\n",
    "for depth in range(1, 11):\n",
    "    model = DecisionTreeClassifier(random_state=12345, max_depth=depth)\n",
    "    model.fit(features_train, target_train)\n",
    "    predictions = model.predict(features_valid)\n",
    "    accuracy = accuracy_score(target_valid, predictions)\n",
    "#    print(f'Глубина дерева={depth}:', accuracy)\n",
    "    \n",
    "    if accuracy > best_accuracy:        \n",
    "        best_accuracy = accuracy\n",
    "        best_depth = depth\n",
    "             \n",
    "print(f'Глубина дерева: {best_depth},', f'\\nКачество модели:{best_accuracy}.')"
   ]
  },
  {
   "cell_type": "markdown",
   "metadata": {},
   "source": [
    "Посмотрим на логику решения дерева:"
   ]
  },
  {
   "cell_type": "code",
   "execution_count": 10,
   "metadata": {},
   "outputs": [
    {
     "data": {
      "image/png": "[encoded data removed]",
      "text/plain": [
       "<Figure size 2160x720 with 1 Axes>"
      ]
     },
     "metadata": {
      "needs_background": "light"
     },
     "output_type": "display_data"
    }
   ],
   "source": [
    "import matplotlib.pyplot as plt\n",
    "from sklearn import tree\n",
    "\n",
    "model = DecisionTreeClassifier(random_state=12345, max_depth=3)\n",
    "model.fit(features_train, target_train)\n",
    "\n",
    "fig, ax = plt.subplots(figsize=(30,10))\n",
    "tree.plot_tree(model)\n",
    "plt.show()"
   ]
  },
  {
   "cell_type": "markdown",
   "metadata": {},
   "source": [
    "**Модель случайного леса**"
   ]
  },
  {
   "cell_type": "markdown",
   "metadata": {},
   "source": [
    "Проверим модели с разным количеством деревьев, глубиной  и минимальным количеством объектов в листе  и найдем лучшую модель."
   ]
  },
  {
   "cell_type": "code",
   "execution_count": 11,
   "metadata": {
    "scrolled": true
   },
   "outputs": [
    {
     "name": "stdout",
     "output_type": "stream",
     "text": [
      "Глубина дерева: 8, \n",
      "Количество деревьев: 5, \n",
      "Минимальное кол-во объектов в узле: 2, \n",
      "Качество модели: 0.8040435458786936.\n"
     ]
    }
   ],
   "source": [
    "best_accuracy = 0\n",
    "\n",
    "# циклs по гиперпараметрам: глубина дерева, количество деревьев, минимальное количество объектов в листе\n",
    "for depth in range(1, 11):\n",
    "    for est in range(5, 51, 5):\n",
    "        for leaf in range(1, 6):\n",
    "            model = RandomForestClassifier(random_state=12345, max_depth=depth, n_estimators=est, min_samples_leaf=leaf)\n",
    "            model.fit(features_train, target_train)\n",
    "            predictions = model.predict(features_valid)\n",
    "            accuracy = accuracy_score(target_valid, predictions)\n",
    "            \n",
    "            if accuracy > best_accuracy:\n",
    "                best_depth = depth\n",
    "                best_est = est\n",
    "                best_accuracy = accuracy\n",
    "                best_leaf = leaf\n",
    "\n",
    "print(f'Глубина дерева: {best_depth},',\n",
    "      f'\\nКоличество деревьев: {best_est},',\n",
    "      f'\\nМинимальное кол-во объектов в узле: {best_leaf},',\n",
    "      f'\\nКачество модели: {best_accuracy}.'\n",
    "     )"
   ]
  },
  {
   "cell_type": "markdown",
   "metadata": {},
   "source": [
    "**Модель логистической регрессии**"
   ]
  },
  {
   "cell_type": "code",
   "execution_count": 12,
   "metadata": {},
   "outputs": [
    {
     "name": "stdout",
     "output_type": "stream",
     "text": [
      "Качество модели: 0.7309486780715396.\n"
     ]
    }
   ],
   "source": [
    "model = LogisticRegression(solver='lbfgs', penalty='l2')\n",
    "model.fit(features_train, target_train)\n",
    "predictions = model.predict(features_valid)\n",
    "accuracy = accuracy_score(target_valid, predictions)\n",
    "\n",
    "print(f'Качество модели: {accuracy}.')"
   ]
  },
  {
   "cell_type": "markdown",
   "metadata": {},
   "source": [
    "### Вывод исследования"
   ]
  },
  {
   "cell_type": "markdown",
   "metadata": {},
   "source": [
    "💡 \n",
    "Для решения задачи классификации подходящего тарифа мобильной связи было исследовано три модели с различными гиперпараметрами: модель дерева решений (Tree Classifier), модель случайного леса (Random Forest) и логистическая регрессия (Logistic Regression).    \n",
    "  \n",
    "Самое высокое качество (0.80) получилось у модели случайного леса с 5 деревьями, глубиной 8 условий и минимальным количеством объектов в узле — 2. Следом идет модель дерева решений с глубиной 3 условия и качеством модели 0.79. Самый низкий accuracy у модели логистической регрессии — 0.73.\n",
    "\n",
    "Таким образом, модель случайного леса имеет самый высокий показатель доли правильных ответов, однако необходимо проверить качество моделей на тестовой выборке."
   ]
  },
  {
   "cell_type": "markdown",
   "metadata": {},
   "source": [
    "## Проверка моделей на тестовой выборке"
   ]
  },
  {
   "cell_type": "markdown",
   "metadata": {},
   "source": [
    "Обучим модели на суммарной выборке (обучающая + валидационная) и проверим на тестовой выборке:"
   ]
  },
  {
   "cell_type": "markdown",
   "metadata": {},
   "source": [
    "**Модель дерева решений**"
   ]
  },
  {
   "cell_type": "code",
   "execution_count": 13,
   "metadata": {},
   "outputs": [
    {
     "name": "stdout",
     "output_type": "stream",
     "text": [
      "Качество модели: 0.7993779160186625.\n"
     ]
    }
   ],
   "source": [
    "model = DecisionTreeClassifier(random_state=12345, max_depth=3)\n",
    "model.fit(pd.concat([features_train, features_valid], axis=0, join='outer'),\n",
    "          pd.concat([target_train, target_valid], axis=0, join='outer')\n",
    "          )\n",
    "predictions = model.predict(features_test)\n",
    "accuracy = accuracy_score(target_test, predictions)\n",
    "\n",
    "print(f'Качество модели: {accuracy}.')"
   ]
  },
  {
   "cell_type": "markdown",
   "metadata": {},
   "source": [
    "**Модель случайного леса**"
   ]
  },
  {
   "cell_type": "code",
   "execution_count": 14,
   "metadata": {},
   "outputs": [
    {
     "name": "stdout",
     "output_type": "stream",
     "text": [
      "Качество модели: 0.8164852255054432.\n"
     ]
    }
   ],
   "source": [
    "model = RandomForestClassifier(random_state=12345, max_depth=8, n_estimators=5, min_samples_leaf=2)\n",
    "model.fit(pd.concat([features_train, features_valid], axis=0, join='outer'),\n",
    "          pd.concat([target_train, target_valid], axis=0, join='outer')\n",
    "          )\n",
    "predictions = model.predict(features_test)\n",
    "accuracy = accuracy_score(target_test, predictions)\n",
    "\n",
    "print(f'Качество модели: {accuracy}.')"
   ]
  },
  {
   "cell_type": "markdown",
   "metadata": {},
   "source": [
    "**Модель логистической регрессии**"
   ]
  },
  {
   "cell_type": "code",
   "execution_count": 15,
   "metadata": {},
   "outputs": [
    {
     "name": "stdout",
     "output_type": "stream",
     "text": [
      "Качество модели: 0.7060653188180405.\n"
     ]
    }
   ],
   "source": [
    "model = LogisticRegression()\n",
    "model.fit(pd.concat([features_train, features_valid], axis=0, join='outer'),\n",
    "          pd.concat([target_train, target_valid], axis=0, join='outer')\n",
    "          )\n",
    "predictions = model.predict(features_test)\n",
    "accuracy = accuracy_score(target_test, predictions)\n",
    "\n",
    "print(f'Качество модели: {accuracy}.')"
   ]
  },
  {
   "cell_type": "markdown",
   "metadata": {},
   "source": [
    "💡 Наилучший показатель точности (accuracy) достигнут при использовании Модели случайного леса с гиперпараметрами: 5 деревьев, глубина — 8 условий, минимальное количество объектов в узле — 2."
   ]
  },
  {
   "cell_type": "markdown",
   "metadata": {},
   "source": [
    "## Проверка моделей на адекватность"
   ]
  },
  {
   "cell_type": "code",
   "execution_count": 16,
   "metadata": {
    "scrolled": true
   },
   "outputs": [
    {
     "name": "stdout",
     "output_type": "stream",
     "text": [
      "Доля пользователей с тарифом «Ультра»: 0.31\n",
      "Доля пользователей с тарифом «Смарт»: 0.69\n"
     ]
    }
   ],
   "source": [
    "print(f'Доля пользователей с тарифом «Ультра»:', round(len(df.query('is_ultra == 1'))/len(df), 2))\n",
    "print(f'Доля пользователей с тарифом «Смарт»:', round(len(df.query('is_ultra == 0'))/len(df), 2))"
   ]
  },
  {
   "cell_type": "markdown",
   "metadata": {},
   "source": [
    "💡 Данные о пользователях с тарифом «Ультра» (1) являются миноритарным классом с долей 31% строк в исходном датасете, данные о пользователях «Смарт» занимают 69% объема данных. Таким образом у нас присутствует несбалансированная классификация.\n",
    "\n",
    "Точность (Accuracy) может быть обманчивой метрикой для несбалансированных наборов данных. Построенные на таких данных модели могут иметь перекос в сторону какого-либо класса.\n",
    "\n",
    "Применим метод Precision и recall для проверки моделей,  независящий, в отличие от точности, от соотношения классов и поэтому более подходящий в условиях несбалансированных выборок."
   ]
  },
  {
   "cell_type": "markdown",
   "metadata": {},
   "source": [
    "**Precision-recall для модели дерева решений**"
   ]
  },
  {
   "cell_type": "code",
   "execution_count": 17,
   "metadata": {},
   "outputs": [
    {
     "name": "stdout",
     "output_type": "stream",
     "text": [
      "              precision    recall  f1-score   support\n",
      "\n",
      "       Смарт       0.81      0.93      0.86       446\n",
      "      Ультра       0.76      0.49      0.60       197\n",
      "\n",
      "    accuracy                           0.80       643\n",
      "   macro avg       0.78      0.71      0.73       643\n",
      "weighted avg       0.79      0.80      0.78       643\n",
      "\n"
     ]
    }
   ],
   "source": [
    "model = DecisionTreeClassifier(random_state=12345, max_depth=3)\n",
    "model.fit(features_train, target_train)\n",
    "report = classification_report(target_valid, model.predict(features_valid), target_names=['Смарт', 'Ультра'])\n",
    "print(report)"
   ]
  },
  {
   "cell_type": "markdown",
   "metadata": {},
   "source": [
    "**Precision-recall для модели случайного леса**"
   ]
  },
  {
   "cell_type": "code",
   "execution_count": 18,
   "metadata": {},
   "outputs": [
    {
     "name": "stdout",
     "output_type": "stream",
     "text": [
      "              precision    recall  f1-score   support\n",
      "\n",
      "       Смарт       0.80      0.95      0.87       446\n",
      "      Ультра       0.81      0.47      0.59       197\n",
      "\n",
      "    accuracy                           0.80       643\n",
      "   macro avg       0.81      0.71      0.73       643\n",
      "weighted avg       0.81      0.80      0.79       643\n",
      "\n"
     ]
    }
   ],
   "source": [
    "model = RandomForestClassifier(random_state=12345, max_depth=8, n_estimators=5, min_samples_leaf=2)\n",
    "model.fit(features_train, target_train)\n",
    "report = classification_report(target_valid, model.predict(features_valid), target_names=['Смарт', 'Ультра'])\n",
    "print(report)"
   ]
  },
  {
   "cell_type": "markdown",
   "metadata": {},
   "source": [
    "**Precision-recall для модели логистической регрессии**"
   ]
  },
  {
   "cell_type": "code",
   "execution_count": 19,
   "metadata": {
    "scrolled": false
   },
   "outputs": [
    {
     "name": "stdout",
     "output_type": "stream",
     "text": [
      "              precision    recall  f1-score   support\n",
      "\n",
      "       Смарт       0.73      0.97      0.83       446\n",
      "      Ультра       0.74      0.19      0.30       197\n",
      "\n",
      "    accuracy                           0.73       643\n",
      "   macro avg       0.74      0.58      0.57       643\n",
      "weighted avg       0.73      0.73      0.67       643\n",
      "\n"
     ]
    }
   ],
   "source": [
    "model = LogisticRegression()\n",
    "model.fit(features_train, target_train)\n",
    "report = classification_report(target_valid, model.predict(features_valid), target_names=['Смарт', 'Ультра'])\n",
    "print(report)"
   ]
  },
  {
   "cell_type": "markdown",
   "metadata": {},
   "source": [
    "💡 F-score — метрика сочетающая в себе оценку точности и полноты, где наилучший показатель равен 1.0, а наихудший - 0.0.\n",
    "Precision можно интерпретировать как долю истинного положительных объектов, найденных классификатором, а Recall показывает, насколько хорошо алгоритм идентифицирует объекты положительного класса среди всех объектов.\n",
    "  \n",
    "В данном исследовании недостаток данных о пользователях с тарифом «Ультра» (миноритарный класс) снижает параметр Recall, что, в свою очередь, сказывается на метрике F-score.     \n",
    "\n",
    "В целом, значение F-score можно охарактеризовать как «плохое» для логистической модели и «удовлетворительное» для моделей дерева решений и случайного леса.    "
   ]
  },
  {
   "cell_type": "markdown",
   "metadata": {},
   "source": [
    "## Общий вывод"
   ]
  },
  {
   "cell_type": "markdown",
   "metadata": {},
   "source": [
    "В ходе исследования данные о пользователях тарифов «Смарт» и «Ультра» были разделены на тренировочную, валидационную и тестовую выборки.     \n",
    "Далее были проверены три модели с различными гиперпараметрами для задачи классификации подходящего тарифа: Модель дерева решений (Tree Classifier), Модель случайного леса (Random Forest) и Логистическая регрессия (Logistic Regression).\n",
    "\n",
    "После проверки моделей на валидационных и тестовых выборках было выявлено, что наилучшее качество (`0.82 на тестовой выборке`) достигается при использовании `«модели дерева решений»` с гиперпараметрами: `5 деревьев`, `глубина — 8 условий`, `минимальное количество объектов в узле — 2`. Это соответствует поставленной задаче — достичь Accuracy не менее 0.75.\n",
    "\n",
    "**Рекомендации:**    \n",
    "Так как мы имеем задачу с несбалансированными классами, то необходимо прибегнуть к методам искусственной модификации датасета для выравнивания соотношения классов для достижения более высоких оценок точности (Precision) и полноты (Recall), которые сейчас находятся на удовлетворительном уровне."
   ]
  }
 ],
 "metadata": {
  "ExecuteTimeLog": [
   {
    "duration": 1843,
    "start_time": "2022-06-23T12:34:04.531Z"
   },
   {
    "duration": 3,
    "start_time": "2022-06-23T12:34:06.376Z"
   },
   {
    "duration": 171,
    "start_time": "2022-06-23T12:34:06.380Z"
   },
   {
    "duration": 28,
    "start_time": "2022-06-23T12:34:06.553Z"
   },
   {
    "duration": 23,
    "start_time": "2022-06-23T12:34:06.583Z"
   },
   {
    "duration": 3,
    "start_time": "2022-06-23T12:34:06.608Z"
   },
   {
    "duration": 15,
    "start_time": "2022-06-23T12:34:06.613Z"
   },
   {
    "duration": 6,
    "start_time": "2022-06-23T12:34:06.630Z"
   },
   {
    "duration": 73,
    "start_time": "2022-06-23T12:34:06.638Z"
   },
   {
    "duration": 27353,
    "start_time": "2022-06-23T12:34:06.727Z"
   },
   {
    "duration": 32,
    "start_time": "2022-06-23T12:34:34.081Z"
   },
   {
    "duration": 19,
    "start_time": "2022-06-23T12:34:34.114Z"
   },
   {
    "duration": 22,
    "start_time": "2022-06-23T12:34:34.135Z"
   },
   {
    "duration": 30,
    "start_time": "2022-06-23T12:34:34.158Z"
   },
   {
    "duration": 9,
    "start_time": "2022-06-23T12:34:34.190Z"
   },
   {
    "duration": 12,
    "start_time": "2022-06-23T12:34:34.227Z"
   },
   {
    "duration": 25,
    "start_time": "2022-06-23T12:34:34.241Z"
   },
   {
    "duration": 35,
    "start_time": "2022-06-23T12:34:34.267Z"
   }
  ],
  "kernelspec": {
   "display_name": "Python 3 (ipykernel)",
   "language": "python",
   "name": "python3"
  },
  "language_info": {
   "codemirror_mode": {
    "name": "ipython",
    "version": 3
   },
   "file_extension": ".py",
   "mimetype": "text/x-python",
   "name": "python",
   "nbconvert_exporter": "python",
   "pygments_lexer": "ipython3",
   "version": "3.9.13"
  },
  "toc": {
   "base_numbering": 1,
   "nav_menu": {
    "height": "273px",
    "width": "352px"
   },
   "number_sections": true,
   "sideBar": true,
   "skip_h1_title": true,
   "title_cell": "Содержание",
   "title_sidebar": "Contents",
   "toc_cell": true,
   "toc_position": {
    "height": "calc(100% - 180px)",
    "left": "10px",
    "top": "150px",
    "width": "261px"
   },
   "toc_section_display": true,
   "toc_window_display": false
  }
 },
 "nbformat": 4,
 "nbformat_minor": 2
}
