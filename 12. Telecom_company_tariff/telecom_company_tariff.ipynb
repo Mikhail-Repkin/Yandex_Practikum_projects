{
 "cells": [
  {
   "cell_type": "markdown",
   "metadata": {
    "toc": true
   },
   "source": [
    "<h1>Содержание<span class=\"tocSkip\"></span></h1>\n",
    "<div class=\"toc\"><ul class=\"toc-item\"><li><span><a href=\"#Изучение-данных\" data-toc-modified-id=\"Изучение-данных-1\"><span class=\"toc-item-num\">1&nbsp;&nbsp;</span>Изучение данных</a></span></li><li><span><a href=\"#Предобработка-данных-и-дополнительные-расчёты\" data-toc-modified-id=\"Предобработка-данных-и-дополнительные-расчёты-2\"><span class=\"toc-item-num\">2&nbsp;&nbsp;</span>Предобработка данных и дополнительные расчёты</a></span><ul class=\"toc-item\"><li><span><a href=\"#Определение-и-изучение-пропущенных-значений\" data-toc-modified-id=\"Определение-и-изучение-пропущенных-значений-2.1\"><span class=\"toc-item-num\">2.1&nbsp;&nbsp;</span>Определение и изучение пропущенных значений</a></span></li><li><span><a href=\"#Приведение-данных-к-нужным-типам\" data-toc-modified-id=\"Приведение-данных-к-нужным-типам-2.2\"><span class=\"toc-item-num\">2.2&nbsp;&nbsp;</span>Приведение данных к нужным типам</a></span></li><li><span><a href=\"#Исправление-ошибок--и-корректировка-данных\" data-toc-modified-id=\"Исправление-ошибок--и-корректировка-данных-2.3\"><span class=\"toc-item-num\">2.3&nbsp;&nbsp;</span>Исправление ошибок  и корректировка данных</a></span></li><li><span><a href=\"#Дополнительные-расчеты\" data-toc-modified-id=\"Дополнительные-расчеты-2.4\"><span class=\"toc-item-num\">2.4&nbsp;&nbsp;</span>Дополнительные расчеты</a></span></li></ul></li><li><span><a href=\"#Исследовательский-анализ-данных\" data-toc-modified-id=\"Исследовательский-анализ-данных-3\"><span class=\"toc-item-num\">3&nbsp;&nbsp;</span>Исследовательский анализ данных</a></span><ul class=\"toc-item\"><li><span><a href=\"#Обработка-редких-и-выбивающихся-значений\" data-toc-modified-id=\"Обработка-редких-и-выбивающихся-значений-3.1\"><span class=\"toc-item-num\">3.1&nbsp;&nbsp;</span>Обработка редких и выбивающихся значений</a></span></li><li><span><a href=\"#Анализ-поведения-клиентов-в-зависимости-от-тарифного-плана\" data-toc-modified-id=\"Анализ-поведения-клиентов-в-зависимости-от-тарифного-плана-3.2\"><span class=\"toc-item-num\">3.2&nbsp;&nbsp;</span>Анализ поведения клиентов в зависимости от тарифного плана</a></span></li><li><span><a href=\"#Гистограммы-распределения-и-описательные-статистики\" data-toc-modified-id=\"Гистограммы-распределения-и-описательные-статистики-3.3\"><span class=\"toc-item-num\">3.3&nbsp;&nbsp;</span>Гистограммы распределения и описательные статистики</a></span></li><li><span><a href=\"#Выводы\" data-toc-modified-id=\"Выводы-3.4\"><span class=\"toc-item-num\">3.4&nbsp;&nbsp;</span>Выводы</a></span></li></ul></li><li><span><a href=\"#Проверка-гипотез\" data-toc-modified-id=\"Проверка-гипотез-4\"><span class=\"toc-item-num\">4&nbsp;&nbsp;</span>Проверка гипотез</a></span><ul class=\"toc-item\"><li><span><a href=\"#Гипотеза-о-различиях-в-выручке-в-зависимости-от-тарифа\" data-toc-modified-id=\"Гипотеза-о-различиях-в-выручке-в-зависимости-от-тарифа-4.1\"><span class=\"toc-item-num\">4.1&nbsp;&nbsp;</span>Гипотеза о различиях в выручке в зависимости от тарифа</a></span></li><li><span><a href=\"#Гипотеза-о-различиях-в-выручке-в-зависимости-от-региона\" data-toc-modified-id=\"Гипотеза-о-различиях-в-выручке-в-зависимости-от-региона-4.2\"><span class=\"toc-item-num\">4.2&nbsp;&nbsp;</span>Гипотеза о различиях в выручке в зависимости от региона</a></span></li></ul></li><li><span><a href=\"#Общий-вывод\" data-toc-modified-id=\"Общий-вывод-5\"><span class=\"toc-item-num\">5&nbsp;&nbsp;</span>Общий вывод</a></span></li></ul></div>"
   ]
  },
  {
   "cell_type": "markdown",
   "metadata": {},
   "source": [
    "# Исследование перспективного тарифа для телеком-компании\n",
    "\n",
    "\n",
    "Компания «Мегалайн» — федеральный оператор сотовой связи. Клиентам предлагают два тарифных плана: «Смарт» и «Ультра». \n",
    "\n",
    "Цель исследования — выявить самый прибыльный тариф для последующей корректировки рекламного бюджета.\n",
    "\n",
    "Задача исследования — провести предварительный анализ тарифов на выборке из 500 клиентов  и сделать вывод — какой тариф лучше. \n",
    "\n",
    "**Описание тарифов:** \n",
    "\n",
    "Тариф «Смарт»\n",
    "1.\tЕжемесячная плата: 550 рублей\n",
    "2.\tВключено 500 минут разговора, 50 сообщений и 15 Гб интернет-трафика\n",
    "3.\tСтоимость услуг сверх тарифного пакета:    \n",
    "   *\tминута разговора: 3 рубля    \n",
    "   *\tсообщение: 3 рубля    \n",
    "   *\t1 Гб интернет-трафика: 200 рублей      \n",
    "\n",
    "Тариф «Ультра»    \n",
    "1.\tЕжемесячная плата: 1950 рублей\n",
    "2.\tВключено 3000 минут разговора, 1000 сообщений и 30 Гб интернет-трафика\n",
    "3.\tСтоимость услуг сверх тарифного пакета:    \n",
    "   *\tминута разговора: 1 рубль    \n",
    "   *\tсообщение: 1 рубль    \n",
    "   *\t1 Гб интернет-трафика: 150 рублей    \n",
    "\n",
    "**Исследование пройдёт в пять этапов:**\n",
    " 1. Изучение данных;\n",
    " 2. Предобработка данных и дополнительные расчёты;\n",
    " 3. Исследовательский анализ данных;\n",
    " 4. Проверка гипотез;\n",
    " 5. Общий вывод."
   ]
  },
  {
   "cell_type": "markdown",
   "metadata": {},
   "source": [
    "## Изучение данных"
   ]
  },
  {
   "cell_type": "code",
   "execution_count": 1,
   "metadata": {},
   "outputs": [],
   "source": [
    "# импорт библиотек\n",
    "import pandas as pd\n",
    "import matplotlib.pyplot as plt\n",
    "import numpy as np\n",
    "import seaborn as sns\n",
    "from scipy import stats as st\n",
    "import math as mt"
   ]
  },
  {
   "cell_type": "code",
   "execution_count": 2,
   "metadata": {},
   "outputs": [],
   "source": [
    "# сброс ограничений на количество выводимых рядов\n",
    "pd.set_option('display.max_rows', None)\n",
    " \n",
    "# сброс ограничений на число столбцов\n",
    "pd.set_option('display.max_columns', None)\n",
    " \n",
    "# сброс ограничений на количество символов в записи\n",
    "pd.set_option('display.max_colwidth', None)"
   ]
  },
  {
   "cell_type": "markdown",
   "metadata": {},
   "source": [
    "Данные о поведении пользователей получаем из файлов `users.csv`, `calls.csv`, `messages.csv`, `internet.csv`, `tariffs.csv`:"
   ]
  },
  {
   "cell_type": "code",
   "execution_count": 3,
   "metadata": {},
   "outputs": [],
   "source": [
    "# чтение файлов с данными и сохранение в df\n",
    "try:\n",
    "    df_users = pd.read_csv('datasets/users.csv')\n",
    "    df_calls = pd.read_csv('datasets/calls.csv')\n",
    "    df_messages = pd.read_csv('datasets/messages.csv')\n",
    "    df_internet = pd.read_csv('datasets/internet.csv')\n",
    "    df_tariffs = pd.read_csv('datasets/tariffs.csv')\n",
    "except:\n",
    "    df_users = pd.read_csv('/datasets/users.csv')\n",
    "    df_calls = pd.read_csv('/datasets/calls.csv')\n",
    "    df_messages = pd.read_csv('/datasets/messages.csv')\n",
    "    df_internet = pd.read_csv('/datasets/internet.csv')\n",
    "    df_tariffs = pd.read_csv('/datasets/tariffs.csv')"
   ]
  },
  {
   "cell_type": "markdown",
   "metadata": {},
   "source": [
    "**Описание данных таблицы `users` (информация о пользователях):**\n",
    "\n",
    "*\t`user_id` — уникальный идентификатор пользователя\n",
    "*\t`first_name` — имя пользователя\n",
    "*\t`last_name` — фамилия пользователя\n",
    "*\t`age` — возраст пользователя (годы)\n",
    "*\t`reg_date` — дата подключения тарифа (день, месяц, год)\n",
    "*\t`churn_date` — дата прекращения пользования тарифом (если значение пропущено, то тариф ещё действовал на момент выгрузки данных)\n",
    "*\t`city` — город проживания пользователя\n",
    "*\t`tariff` — название тарифного плана    "
   ]
  },
  {
   "cell_type": "code",
   "execution_count": 4,
   "metadata": {
    "scrolled": true
   },
   "outputs": [
    {
     "data": {
      "text/html": [
       "<div>\n",
       "<style scoped>\n",
       "    .dataframe tbody tr th:only-of-type {\n",
       "        vertical-align: middle;\n",
       "    }\n",
       "\n",
       "    .dataframe tbody tr th {\n",
       "        vertical-align: top;\n",
       "    }\n",
       "\n",
       "    .dataframe thead th {\n",
       "        text-align: right;\n",
       "    }\n",
       "</style>\n",
       "<table border=\"1\" class=\"dataframe\">\n",
       "  <thead>\n",
       "    <tr style=\"text-align: right;\">\n",
       "      <th></th>\n",
       "      <th>user_id</th>\n",
       "      <th>age</th>\n",
       "      <th>churn_date</th>\n",
       "      <th>city</th>\n",
       "      <th>first_name</th>\n",
       "      <th>last_name</th>\n",
       "      <th>reg_date</th>\n",
       "      <th>tariff</th>\n",
       "    </tr>\n",
       "  </thead>\n",
       "  <tbody>\n",
       "    <tr>\n",
       "      <th>0</th>\n",
       "      <td>1000</td>\n",
       "      <td>52</td>\n",
       "      <td>NaN</td>\n",
       "      <td>Краснодар</td>\n",
       "      <td>Рафаил</td>\n",
       "      <td>Верещагин</td>\n",
       "      <td>2018-05-25</td>\n",
       "      <td>ultra</td>\n",
       "    </tr>\n",
       "    <tr>\n",
       "      <th>1</th>\n",
       "      <td>1001</td>\n",
       "      <td>41</td>\n",
       "      <td>NaN</td>\n",
       "      <td>Москва</td>\n",
       "      <td>Иван</td>\n",
       "      <td>Ежов</td>\n",
       "      <td>2018-11-01</td>\n",
       "      <td>smart</td>\n",
       "    </tr>\n",
       "    <tr>\n",
       "      <th>2</th>\n",
       "      <td>1002</td>\n",
       "      <td>59</td>\n",
       "      <td>NaN</td>\n",
       "      <td>Стерлитамак</td>\n",
       "      <td>Евгений</td>\n",
       "      <td>Абрамович</td>\n",
       "      <td>2018-06-17</td>\n",
       "      <td>smart</td>\n",
       "    </tr>\n",
       "    <tr>\n",
       "      <th>3</th>\n",
       "      <td>1003</td>\n",
       "      <td>23</td>\n",
       "      <td>NaN</td>\n",
       "      <td>Москва</td>\n",
       "      <td>Белла</td>\n",
       "      <td>Белякова</td>\n",
       "      <td>2018-08-17</td>\n",
       "      <td>ultra</td>\n",
       "    </tr>\n",
       "    <tr>\n",
       "      <th>4</th>\n",
       "      <td>1004</td>\n",
       "      <td>68</td>\n",
       "      <td>NaN</td>\n",
       "      <td>Новокузнецк</td>\n",
       "      <td>Татьяна</td>\n",
       "      <td>Авдеенко</td>\n",
       "      <td>2018-05-14</td>\n",
       "      <td>ultra</td>\n",
       "    </tr>\n",
       "  </tbody>\n",
       "</table>\n",
       "</div>"
      ],
      "text/plain": [
       "   user_id  age churn_date         city first_name  last_name    reg_date  \\\n",
       "0     1000   52        NaN    Краснодар     Рафаил  Верещагин  2018-05-25   \n",
       "1     1001   41        NaN       Москва       Иван       Ежов  2018-11-01   \n",
       "2     1002   59        NaN  Стерлитамак    Евгений  Абрамович  2018-06-17   \n",
       "3     1003   23        NaN       Москва      Белла   Белякова  2018-08-17   \n",
       "4     1004   68        NaN  Новокузнецк    Татьяна   Авдеенко  2018-05-14   \n",
       "\n",
       "  tariff  \n",
       "0  ultra  \n",
       "1  smart  \n",
       "2  smart  \n",
       "3  ultra  \n",
       "4  ultra  "
      ]
     },
     "metadata": {},
     "output_type": "display_data"
    },
    {
     "name": "stdout",
     "output_type": "stream",
     "text": [
      "<class 'pandas.core.frame.DataFrame'>\n",
      "RangeIndex: 500 entries, 0 to 499\n",
      "Data columns (total 8 columns):\n",
      " #   Column      Non-Null Count  Dtype \n",
      "---  ------      --------------  ----- \n",
      " 0   user_id     500 non-null    int64 \n",
      " 1   age         500 non-null    int64 \n",
      " 2   churn_date  38 non-null     object\n",
      " 3   city        500 non-null    object\n",
      " 4   first_name  500 non-null    object\n",
      " 5   last_name   500 non-null    object\n",
      " 6   reg_date    500 non-null    object\n",
      " 7   tariff      500 non-null    object\n",
      "dtypes: int64(2), object(6)\n",
      "memory usage: 31.4+ KB\n"
     ]
    },
    {
     "data": {
      "text/plain": [
       "None"
      ]
     },
     "metadata": {},
     "output_type": "display_data"
    }
   ],
   "source": [
    "# получение первых пяти строк таблиц df_users\n",
    "display(df_users.head())\n",
    "# получение общей информации о данных в таблице df_users\n",
    "display(df_users.info())"
   ]
  },
  {
   "cell_type": "markdown",
   "metadata": {},
   "source": [
    "**Описание данных таблицы `calls` (информация о звонках):**\n",
    "*\t`id` — уникальный номер звонка\n",
    "*\t`call_date` — дата звонка\n",
    "*\t`duration` — длительность звонка в минутах\n",
    "*\t`user_id` — идентификатор пользователя, сделавшего звонок   "
   ]
  },
  {
   "cell_type": "code",
   "execution_count": 5,
   "metadata": {},
   "outputs": [
    {
     "data": {
      "text/html": [
       "<div>\n",
       "<style scoped>\n",
       "    .dataframe tbody tr th:only-of-type {\n",
       "        vertical-align: middle;\n",
       "    }\n",
       "\n",
       "    .dataframe tbody tr th {\n",
       "        vertical-align: top;\n",
       "    }\n",
       "\n",
       "    .dataframe thead th {\n",
       "        text-align: right;\n",
       "    }\n",
       "</style>\n",
       "<table border=\"1\" class=\"dataframe\">\n",
       "  <thead>\n",
       "    <tr style=\"text-align: right;\">\n",
       "      <th></th>\n",
       "      <th>id</th>\n",
       "      <th>call_date</th>\n",
       "      <th>duration</th>\n",
       "      <th>user_id</th>\n",
       "    </tr>\n",
       "  </thead>\n",
       "  <tbody>\n",
       "    <tr>\n",
       "      <th>0</th>\n",
       "      <td>1000_0</td>\n",
       "      <td>2018-07-25</td>\n",
       "      <td>0.00</td>\n",
       "      <td>1000</td>\n",
       "    </tr>\n",
       "    <tr>\n",
       "      <th>1</th>\n",
       "      <td>1000_1</td>\n",
       "      <td>2018-08-17</td>\n",
       "      <td>0.00</td>\n",
       "      <td>1000</td>\n",
       "    </tr>\n",
       "    <tr>\n",
       "      <th>2</th>\n",
       "      <td>1000_2</td>\n",
       "      <td>2018-06-11</td>\n",
       "      <td>2.85</td>\n",
       "      <td>1000</td>\n",
       "    </tr>\n",
       "    <tr>\n",
       "      <th>3</th>\n",
       "      <td>1000_3</td>\n",
       "      <td>2018-09-21</td>\n",
       "      <td>13.80</td>\n",
       "      <td>1000</td>\n",
       "    </tr>\n",
       "    <tr>\n",
       "      <th>4</th>\n",
       "      <td>1000_4</td>\n",
       "      <td>2018-12-15</td>\n",
       "      <td>5.18</td>\n",
       "      <td>1000</td>\n",
       "    </tr>\n",
       "  </tbody>\n",
       "</table>\n",
       "</div>"
      ],
      "text/plain": [
       "       id   call_date  duration  user_id\n",
       "0  1000_0  2018-07-25      0.00     1000\n",
       "1  1000_1  2018-08-17      0.00     1000\n",
       "2  1000_2  2018-06-11      2.85     1000\n",
       "3  1000_3  2018-09-21     13.80     1000\n",
       "4  1000_4  2018-12-15      5.18     1000"
      ]
     },
     "metadata": {},
     "output_type": "display_data"
    },
    {
     "name": "stdout",
     "output_type": "stream",
     "text": [
      "<class 'pandas.core.frame.DataFrame'>\n",
      "RangeIndex: 202607 entries, 0 to 202606\n",
      "Data columns (total 4 columns):\n",
      " #   Column     Non-Null Count   Dtype  \n",
      "---  ------     --------------   -----  \n",
      " 0   id         202607 non-null  object \n",
      " 1   call_date  202607 non-null  object \n",
      " 2   duration   202607 non-null  float64\n",
      " 3   user_id    202607 non-null  int64  \n",
      "dtypes: float64(1), int64(1), object(2)\n",
      "memory usage: 6.2+ MB\n"
     ]
    },
    {
     "data": {
      "text/plain": [
       "None"
      ]
     },
     "metadata": {},
     "output_type": "display_data"
    }
   ],
   "source": [
    "# получение первых пяти строк таблиц df_calls\n",
    "display(df_calls.head())\n",
    "# получение общей информации о данных в таблице df_calls\n",
    "display(df_calls.info())"
   ]
  },
  {
   "cell_type": "markdown",
   "metadata": {},
   "source": [
    "**Описание данных таблицы `messages` (информация о сообщениях):**\n",
    "*\t`id` — уникальный номер сообщения\n",
    "*\t`message_date` — дата сообщения\n",
    "*\t`user_id` — идентификатор пользователя, отправившего сообщение    \n",
    "\n",
    "💬*Примечание: \n",
    "«Мегалайн» всегда округляет секунды до минут. Каждый звонок округляется отдельно: даже если он длился всего 1 секунду, будет засчитан как 1 минута.*"
   ]
  },
  {
   "cell_type": "code",
   "execution_count": 6,
   "metadata": {
    "scrolled": false
   },
   "outputs": [
    {
     "data": {
      "text/html": [
       "<div>\n",
       "<style scoped>\n",
       "    .dataframe tbody tr th:only-of-type {\n",
       "        vertical-align: middle;\n",
       "    }\n",
       "\n",
       "    .dataframe tbody tr th {\n",
       "        vertical-align: top;\n",
       "    }\n",
       "\n",
       "    .dataframe thead th {\n",
       "        text-align: right;\n",
       "    }\n",
       "</style>\n",
       "<table border=\"1\" class=\"dataframe\">\n",
       "  <thead>\n",
       "    <tr style=\"text-align: right;\">\n",
       "      <th></th>\n",
       "      <th>id</th>\n",
       "      <th>message_date</th>\n",
       "      <th>user_id</th>\n",
       "    </tr>\n",
       "  </thead>\n",
       "  <tbody>\n",
       "    <tr>\n",
       "      <th>0</th>\n",
       "      <td>1000_0</td>\n",
       "      <td>2018-06-27</td>\n",
       "      <td>1000</td>\n",
       "    </tr>\n",
       "    <tr>\n",
       "      <th>1</th>\n",
       "      <td>1000_1</td>\n",
       "      <td>2018-10-08</td>\n",
       "      <td>1000</td>\n",
       "    </tr>\n",
       "    <tr>\n",
       "      <th>2</th>\n",
       "      <td>1000_2</td>\n",
       "      <td>2018-08-04</td>\n",
       "      <td>1000</td>\n",
       "    </tr>\n",
       "    <tr>\n",
       "      <th>3</th>\n",
       "      <td>1000_3</td>\n",
       "      <td>2018-06-16</td>\n",
       "      <td>1000</td>\n",
       "    </tr>\n",
       "    <tr>\n",
       "      <th>4</th>\n",
       "      <td>1000_4</td>\n",
       "      <td>2018-12-05</td>\n",
       "      <td>1000</td>\n",
       "    </tr>\n",
       "  </tbody>\n",
       "</table>\n",
       "</div>"
      ],
      "text/plain": [
       "       id message_date  user_id\n",
       "0  1000_0   2018-06-27     1000\n",
       "1  1000_1   2018-10-08     1000\n",
       "2  1000_2   2018-08-04     1000\n",
       "3  1000_3   2018-06-16     1000\n",
       "4  1000_4   2018-12-05     1000"
      ]
     },
     "metadata": {},
     "output_type": "display_data"
    },
    {
     "name": "stdout",
     "output_type": "stream",
     "text": [
      "<class 'pandas.core.frame.DataFrame'>\n",
      "RangeIndex: 123036 entries, 0 to 123035\n",
      "Data columns (total 3 columns):\n",
      " #   Column        Non-Null Count   Dtype \n",
      "---  ------        --------------   ----- \n",
      " 0   id            123036 non-null  object\n",
      " 1   message_date  123036 non-null  object\n",
      " 2   user_id       123036 non-null  int64 \n",
      "dtypes: int64(1), object(2)\n",
      "memory usage: 2.8+ MB\n"
     ]
    },
    {
     "data": {
      "text/plain": [
       "None"
      ]
     },
     "metadata": {},
     "output_type": "display_data"
    }
   ],
   "source": [
    "# получение первых пяти строк таблиц df_messages\n",
    "display(df_messages.head())\n",
    "# получение общей информации о данных в таблице df_messages\n",
    "display(df_messages.info())"
   ]
  },
  {
   "cell_type": "markdown",
   "metadata": {},
   "source": [
    "**Описание данных таблицы `internet` (информация об интернет-сессиях):**\n",
    "*\t`id` — уникальный номер сессии\n",
    "*\t`mb_used` — объём потраченного за сессию интернет-трафика (в мегабайтах)\n",
    "*\t`session_date` — дата интернет-сессии\n",
    "*\t`user_id` — идентификатор пользователя "
   ]
  },
  {
   "cell_type": "code",
   "execution_count": 7,
   "metadata": {},
   "outputs": [
    {
     "data": {
      "text/html": [
       "<div>\n",
       "<style scoped>\n",
       "    .dataframe tbody tr th:only-of-type {\n",
       "        vertical-align: middle;\n",
       "    }\n",
       "\n",
       "    .dataframe tbody tr th {\n",
       "        vertical-align: top;\n",
       "    }\n",
       "\n",
       "    .dataframe thead th {\n",
       "        text-align: right;\n",
       "    }\n",
       "</style>\n",
       "<table border=\"1\" class=\"dataframe\">\n",
       "  <thead>\n",
       "    <tr style=\"text-align: right;\">\n",
       "      <th></th>\n",
       "      <th>Unnamed: 0</th>\n",
       "      <th>id</th>\n",
       "      <th>mb_used</th>\n",
       "      <th>session_date</th>\n",
       "      <th>user_id</th>\n",
       "    </tr>\n",
       "  </thead>\n",
       "  <tbody>\n",
       "    <tr>\n",
       "      <th>0</th>\n",
       "      <td>0</td>\n",
       "      <td>1000_0</td>\n",
       "      <td>112.95</td>\n",
       "      <td>2018-11-25</td>\n",
       "      <td>1000</td>\n",
       "    </tr>\n",
       "    <tr>\n",
       "      <th>1</th>\n",
       "      <td>1</td>\n",
       "      <td>1000_1</td>\n",
       "      <td>1052.81</td>\n",
       "      <td>2018-09-07</td>\n",
       "      <td>1000</td>\n",
       "    </tr>\n",
       "    <tr>\n",
       "      <th>2</th>\n",
       "      <td>2</td>\n",
       "      <td>1000_2</td>\n",
       "      <td>1197.26</td>\n",
       "      <td>2018-06-25</td>\n",
       "      <td>1000</td>\n",
       "    </tr>\n",
       "    <tr>\n",
       "      <th>3</th>\n",
       "      <td>3</td>\n",
       "      <td>1000_3</td>\n",
       "      <td>550.27</td>\n",
       "      <td>2018-08-22</td>\n",
       "      <td>1000</td>\n",
       "    </tr>\n",
       "    <tr>\n",
       "      <th>4</th>\n",
       "      <td>4</td>\n",
       "      <td>1000_4</td>\n",
       "      <td>302.56</td>\n",
       "      <td>2018-09-24</td>\n",
       "      <td>1000</td>\n",
       "    </tr>\n",
       "  </tbody>\n",
       "</table>\n",
       "</div>"
      ],
      "text/plain": [
       "   Unnamed: 0      id  mb_used session_date  user_id\n",
       "0           0  1000_0   112.95   2018-11-25     1000\n",
       "1           1  1000_1  1052.81   2018-09-07     1000\n",
       "2           2  1000_2  1197.26   2018-06-25     1000\n",
       "3           3  1000_3   550.27   2018-08-22     1000\n",
       "4           4  1000_4   302.56   2018-09-24     1000"
      ]
     },
     "metadata": {},
     "output_type": "display_data"
    },
    {
     "name": "stdout",
     "output_type": "stream",
     "text": [
      "<class 'pandas.core.frame.DataFrame'>\n",
      "RangeIndex: 149396 entries, 0 to 149395\n",
      "Data columns (total 5 columns):\n",
      " #   Column        Non-Null Count   Dtype  \n",
      "---  ------        --------------   -----  \n",
      " 0   Unnamed: 0    149396 non-null  int64  \n",
      " 1   id            149396 non-null  object \n",
      " 2   mb_used       149396 non-null  float64\n",
      " 3   session_date  149396 non-null  object \n",
      " 4   user_id       149396 non-null  int64  \n",
      "dtypes: float64(1), int64(2), object(2)\n",
      "memory usage: 5.7+ MB\n"
     ]
    },
    {
     "data": {
      "text/plain": [
       "None"
      ]
     },
     "metadata": {},
     "output_type": "display_data"
    }
   ],
   "source": [
    "# получение первых пяти строк таблиц df_internet\n",
    "display(df_internet.head())\n",
    "# получение общей информации о данных в таблице df_internet\n",
    "display(df_internet.info())"
   ]
  },
  {
   "cell_type": "markdown",
   "metadata": {},
   "source": [
    "**Описание данных таблицы `tariffs` (информация о тарифах):**\n",
    "*\t`tariff_name` — название тарифа\n",
    "*\t`rub_monthly_fee` — ежемесячная абонентская плата в рублях\n",
    "*\t`minutes_included` — количество минут разговора в месяц, включённых в абонентскую плату\n",
    "*\t`messages_included` — количество сообщений в месяц, включённых в абонентскую плату\n",
    "*\t`mb_per_month_included` — объём интернет-трафика, включённого в абонентскую плату (в мегабайтах)\n",
    "*\t`rub_per_minute` — стоимость минуты разговора сверх тарифного пакета (например, если в тарифе 100 минут разговора в месяц, то со 101 минуты будет взиматься плата)\n",
    "*\t`rub_per_message` — стоимость отправки сообщения сверх тарифного пакета\n",
    "*\t`rub_per_gb` — стоимость дополнительного гигабайта интернет-трафика сверх тарифного пакета (1 гигабайт = 1024 мегабайта)\n",
    "\n",
    "💬*Примечание:\n",
    "«Мегалайн» всегда округляет мегабайты — до гигабайт.\n",
    "Для веб-трафика отдельные сессии не считаются. Вместо этого общая сумма за месяц округляется в бо́льшую сторону. Если абонент использует 1025 мегабайт в этом месяце, с него возьмут плату за 2 гигабайта. \n",
    "Неиспользованные за предыдущий месяц звонки, смс, интернет на следующий месяц не переносятся.*"
   ]
  },
  {
   "cell_type": "code",
   "execution_count": 8,
   "metadata": {},
   "outputs": [
    {
     "data": {
      "text/html": [
       "<div>\n",
       "<style scoped>\n",
       "    .dataframe tbody tr th:only-of-type {\n",
       "        vertical-align: middle;\n",
       "    }\n",
       "\n",
       "    .dataframe tbody tr th {\n",
       "        vertical-align: top;\n",
       "    }\n",
       "\n",
       "    .dataframe thead th {\n",
       "        text-align: right;\n",
       "    }\n",
       "</style>\n",
       "<table border=\"1\" class=\"dataframe\">\n",
       "  <thead>\n",
       "    <tr style=\"text-align: right;\">\n",
       "      <th></th>\n",
       "      <th>messages_included</th>\n",
       "      <th>mb_per_month_included</th>\n",
       "      <th>minutes_included</th>\n",
       "      <th>rub_monthly_fee</th>\n",
       "      <th>rub_per_gb</th>\n",
       "      <th>rub_per_message</th>\n",
       "      <th>rub_per_minute</th>\n",
       "      <th>tariff_name</th>\n",
       "    </tr>\n",
       "  </thead>\n",
       "  <tbody>\n",
       "    <tr>\n",
       "      <th>0</th>\n",
       "      <td>50</td>\n",
       "      <td>15360</td>\n",
       "      <td>500</td>\n",
       "      <td>550</td>\n",
       "      <td>200</td>\n",
       "      <td>3</td>\n",
       "      <td>3</td>\n",
       "      <td>smart</td>\n",
       "    </tr>\n",
       "    <tr>\n",
       "      <th>1</th>\n",
       "      <td>1000</td>\n",
       "      <td>30720</td>\n",
       "      <td>3000</td>\n",
       "      <td>1950</td>\n",
       "      <td>150</td>\n",
       "      <td>1</td>\n",
       "      <td>1</td>\n",
       "      <td>ultra</td>\n",
       "    </tr>\n",
       "  </tbody>\n",
       "</table>\n",
       "</div>"
      ],
      "text/plain": [
       "   messages_included  mb_per_month_included  minutes_included  \\\n",
       "0                 50                  15360               500   \n",
       "1               1000                  30720              3000   \n",
       "\n",
       "   rub_monthly_fee  rub_per_gb  rub_per_message  rub_per_minute tariff_name  \n",
       "0              550         200                3               3       smart  \n",
       "1             1950         150                1               1       ultra  "
      ]
     },
     "metadata": {},
     "output_type": "display_data"
    },
    {
     "name": "stdout",
     "output_type": "stream",
     "text": [
      "<class 'pandas.core.frame.DataFrame'>\n",
      "RangeIndex: 2 entries, 0 to 1\n",
      "Data columns (total 8 columns):\n",
      " #   Column                 Non-Null Count  Dtype \n",
      "---  ------                 --------------  ----- \n",
      " 0   messages_included      2 non-null      int64 \n",
      " 1   mb_per_month_included  2 non-null      int64 \n",
      " 2   minutes_included       2 non-null      int64 \n",
      " 3   rub_monthly_fee        2 non-null      int64 \n",
      " 4   rub_per_gb             2 non-null      int64 \n",
      " 5   rub_per_message        2 non-null      int64 \n",
      " 6   rub_per_minute         2 non-null      int64 \n",
      " 7   tariff_name            2 non-null      object\n",
      "dtypes: int64(7), object(1)\n",
      "memory usage: 256.0+ bytes\n"
     ]
    },
    {
     "data": {
      "text/plain": [
       "None"
      ]
     },
     "metadata": {},
     "output_type": "display_data"
    }
   ],
   "source": [
    "# получение первых пяти строк таблиц df_tariffs\n",
    "display(df_tariffs.head())\n",
    "# получение общей информации о данных в таблице df_tariffs\n",
    "display(df_tariffs.info())"
   ]
  },
  {
   "cell_type": "code",
   "execution_count": 9,
   "metadata": {
    "scrolled": true
   },
   "outputs": [
    {
     "name": "stdout",
     "output_type": "stream",
     "text": [
      "Дубликатов в столбце df_users: 0\n",
      "Дубликатов в столбце df_calls: 0\n",
      "Дубликатов в столбце df_messages: 0\n",
      "Дубликатов в столбце df_internet: 0\n",
      "Дубликатов в столбце df_tariffs: 0\n"
     ]
    }
   ],
   "source": [
    "# подсчет дубликатов\n",
    "print('Дубликатов в таблице df_users:', df_users.duplicated().sum())\n",
    "print('Дубликатов в таблице df_calls:', df_calls.duplicated().sum())\n",
    "print('Дубликатов в таблице df_messages:', df_messages.duplicated().sum())\n",
    "print('Дубликатов в таблице df_internet:', df_internet.duplicated().sum())\n",
    "print('Дубликатов в таблице df_tariffs:', df_tariffs.duplicated().sum())"
   ]
  },
  {
   "cell_type": "code",
   "execution_count": 10,
   "metadata": {
    "scrolled": false
   },
   "outputs": [
    {
     "data": {
      "text/html": [
       "<div>\n",
       "<style scoped>\n",
       "    .dataframe tbody tr th:only-of-type {\n",
       "        vertical-align: middle;\n",
       "    }\n",
       "\n",
       "    .dataframe tbody tr th {\n",
       "        vertical-align: top;\n",
       "    }\n",
       "\n",
       "    .dataframe thead th {\n",
       "        text-align: right;\n",
       "    }\n",
       "</style>\n",
       "<table border=\"1\" class=\"dataframe\">\n",
       "  <thead>\n",
       "    <tr style=\"text-align: right;\">\n",
       "      <th></th>\n",
       "      <th>user_id</th>\n",
       "      <th>age</th>\n",
       "    </tr>\n",
       "  </thead>\n",
       "  <tbody>\n",
       "    <tr>\n",
       "      <th>count</th>\n",
       "      <td>500.000000</td>\n",
       "      <td>500.00000</td>\n",
       "    </tr>\n",
       "    <tr>\n",
       "      <th>mean</th>\n",
       "      <td>1249.500000</td>\n",
       "      <td>46.58800</td>\n",
       "    </tr>\n",
       "    <tr>\n",
       "      <th>std</th>\n",
       "      <td>144.481833</td>\n",
       "      <td>16.66763</td>\n",
       "    </tr>\n",
       "    <tr>\n",
       "      <th>min</th>\n",
       "      <td>1000.000000</td>\n",
       "      <td>18.00000</td>\n",
       "    </tr>\n",
       "    <tr>\n",
       "      <th>25%</th>\n",
       "      <td>1124.750000</td>\n",
       "      <td>32.00000</td>\n",
       "    </tr>\n",
       "    <tr>\n",
       "      <th>50%</th>\n",
       "      <td>1249.500000</td>\n",
       "      <td>46.00000</td>\n",
       "    </tr>\n",
       "    <tr>\n",
       "      <th>75%</th>\n",
       "      <td>1374.250000</td>\n",
       "      <td>62.00000</td>\n",
       "    </tr>\n",
       "    <tr>\n",
       "      <th>max</th>\n",
       "      <td>1499.000000</td>\n",
       "      <td>75.00000</td>\n",
       "    </tr>\n",
       "  </tbody>\n",
       "</table>\n",
       "</div>"
      ],
      "text/plain": [
       "           user_id        age\n",
       "count   500.000000  500.00000\n",
       "mean   1249.500000   46.58800\n",
       "std     144.481833   16.66763\n",
       "min    1000.000000   18.00000\n",
       "25%    1124.750000   32.00000\n",
       "50%    1249.500000   46.00000\n",
       "75%    1374.250000   62.00000\n",
       "max    1499.000000   75.00000"
      ]
     },
     "execution_count": 10,
     "metadata": {},
     "output_type": "execute_result"
    }
   ],
   "source": [
    "# числовое описание данных таблицы df_users\n",
    "df_users.describe()"
   ]
  },
  {
   "cell_type": "code",
   "execution_count": 11,
   "metadata": {},
   "outputs": [
    {
     "data": {
      "text/html": [
       "<div>\n",
       "<style scoped>\n",
       "    .dataframe tbody tr th:only-of-type {\n",
       "        vertical-align: middle;\n",
       "    }\n",
       "\n",
       "    .dataframe tbody tr th {\n",
       "        vertical-align: top;\n",
       "    }\n",
       "\n",
       "    .dataframe thead th {\n",
       "        text-align: right;\n",
       "    }\n",
       "</style>\n",
       "<table border=\"1\" class=\"dataframe\">\n",
       "  <thead>\n",
       "    <tr style=\"text-align: right;\">\n",
       "      <th></th>\n",
       "      <th>duration</th>\n",
       "      <th>user_id</th>\n",
       "    </tr>\n",
       "  </thead>\n",
       "  <tbody>\n",
       "    <tr>\n",
       "      <th>count</th>\n",
       "      <td>202607.000000</td>\n",
       "      <td>202607.000000</td>\n",
       "    </tr>\n",
       "    <tr>\n",
       "      <th>mean</th>\n",
       "      <td>6.755887</td>\n",
       "      <td>1253.940619</td>\n",
       "    </tr>\n",
       "    <tr>\n",
       "      <th>std</th>\n",
       "      <td>5.843365</td>\n",
       "      <td>144.722751</td>\n",
       "    </tr>\n",
       "    <tr>\n",
       "      <th>min</th>\n",
       "      <td>0.000000</td>\n",
       "      <td>1000.000000</td>\n",
       "    </tr>\n",
       "    <tr>\n",
       "      <th>25%</th>\n",
       "      <td>1.300000</td>\n",
       "      <td>1126.000000</td>\n",
       "    </tr>\n",
       "    <tr>\n",
       "      <th>50%</th>\n",
       "      <td>6.000000</td>\n",
       "      <td>1260.000000</td>\n",
       "    </tr>\n",
       "    <tr>\n",
       "      <th>75%</th>\n",
       "      <td>10.700000</td>\n",
       "      <td>1379.000000</td>\n",
       "    </tr>\n",
       "    <tr>\n",
       "      <th>max</th>\n",
       "      <td>38.000000</td>\n",
       "      <td>1499.000000</td>\n",
       "    </tr>\n",
       "  </tbody>\n",
       "</table>\n",
       "</div>"
      ],
      "text/plain": [
       "            duration        user_id\n",
       "count  202607.000000  202607.000000\n",
       "mean        6.755887    1253.940619\n",
       "std         5.843365     144.722751\n",
       "min         0.000000    1000.000000\n",
       "25%         1.300000    1126.000000\n",
       "50%         6.000000    1260.000000\n",
       "75%        10.700000    1379.000000\n",
       "max        38.000000    1499.000000"
      ]
     },
     "execution_count": 11,
     "metadata": {},
     "output_type": "execute_result"
    }
   ],
   "source": [
    "# числовое описание данных таблицы df_calls\n",
    "df_calls.describe()"
   ]
  },
  {
   "cell_type": "code",
   "execution_count": 12,
   "metadata": {},
   "outputs": [
    {
     "data": {
      "text/html": [
       "<div>\n",
       "<style scoped>\n",
       "    .dataframe tbody tr th:only-of-type {\n",
       "        vertical-align: middle;\n",
       "    }\n",
       "\n",
       "    .dataframe tbody tr th {\n",
       "        vertical-align: top;\n",
       "    }\n",
       "\n",
       "    .dataframe thead th {\n",
       "        text-align: right;\n",
       "    }\n",
       "</style>\n",
       "<table border=\"1\" class=\"dataframe\">\n",
       "  <thead>\n",
       "    <tr style=\"text-align: right;\">\n",
       "      <th></th>\n",
       "      <th>user_id</th>\n",
       "    </tr>\n",
       "  </thead>\n",
       "  <tbody>\n",
       "    <tr>\n",
       "      <th>count</th>\n",
       "      <td>123036.000000</td>\n",
       "    </tr>\n",
       "    <tr>\n",
       "      <th>mean</th>\n",
       "      <td>1256.989410</td>\n",
       "    </tr>\n",
       "    <tr>\n",
       "      <th>std</th>\n",
       "      <td>143.523967</td>\n",
       "    </tr>\n",
       "    <tr>\n",
       "      <th>min</th>\n",
       "      <td>1000.000000</td>\n",
       "    </tr>\n",
       "    <tr>\n",
       "      <th>25%</th>\n",
       "      <td>1134.000000</td>\n",
       "    </tr>\n",
       "    <tr>\n",
       "      <th>50%</th>\n",
       "      <td>1271.000000</td>\n",
       "    </tr>\n",
       "    <tr>\n",
       "      <th>75%</th>\n",
       "      <td>1381.000000</td>\n",
       "    </tr>\n",
       "    <tr>\n",
       "      <th>max</th>\n",
       "      <td>1499.000000</td>\n",
       "    </tr>\n",
       "  </tbody>\n",
       "</table>\n",
       "</div>"
      ],
      "text/plain": [
       "             user_id\n",
       "count  123036.000000\n",
       "mean     1256.989410\n",
       "std       143.523967\n",
       "min      1000.000000\n",
       "25%      1134.000000\n",
       "50%      1271.000000\n",
       "75%      1381.000000\n",
       "max      1499.000000"
      ]
     },
     "execution_count": 12,
     "metadata": {},
     "output_type": "execute_result"
    }
   ],
   "source": [
    "# числовое описание данных таблицы df_messages\n",
    "df_messages.describe()"
   ]
  },
  {
   "cell_type": "code",
   "execution_count": 13,
   "metadata": {},
   "outputs": [
    {
     "data": {
      "text/html": [
       "<div>\n",
       "<style scoped>\n",
       "    .dataframe tbody tr th:only-of-type {\n",
       "        vertical-align: middle;\n",
       "    }\n",
       "\n",
       "    .dataframe tbody tr th {\n",
       "        vertical-align: top;\n",
       "    }\n",
       "\n",
       "    .dataframe thead th {\n",
       "        text-align: right;\n",
       "    }\n",
       "</style>\n",
       "<table border=\"1\" class=\"dataframe\">\n",
       "  <thead>\n",
       "    <tr style=\"text-align: right;\">\n",
       "      <th></th>\n",
       "      <th>Unnamed: 0</th>\n",
       "      <th>mb_used</th>\n",
       "      <th>user_id</th>\n",
       "    </tr>\n",
       "  </thead>\n",
       "  <tbody>\n",
       "    <tr>\n",
       "      <th>count</th>\n",
       "      <td>149396.000000</td>\n",
       "      <td>149396.000000</td>\n",
       "      <td>149396.000000</td>\n",
       "    </tr>\n",
       "    <tr>\n",
       "      <th>mean</th>\n",
       "      <td>74697.500000</td>\n",
       "      <td>370.192426</td>\n",
       "      <td>1252.099842</td>\n",
       "    </tr>\n",
       "    <tr>\n",
       "      <th>std</th>\n",
       "      <td>43127.054745</td>\n",
       "      <td>278.300951</td>\n",
       "      <td>144.050823</td>\n",
       "    </tr>\n",
       "    <tr>\n",
       "      <th>min</th>\n",
       "      <td>0.000000</td>\n",
       "      <td>0.000000</td>\n",
       "      <td>1000.000000</td>\n",
       "    </tr>\n",
       "    <tr>\n",
       "      <th>25%</th>\n",
       "      <td>37348.750000</td>\n",
       "      <td>138.187500</td>\n",
       "      <td>1130.000000</td>\n",
       "    </tr>\n",
       "    <tr>\n",
       "      <th>50%</th>\n",
       "      <td>74697.500000</td>\n",
       "      <td>348.015000</td>\n",
       "      <td>1251.000000</td>\n",
       "    </tr>\n",
       "    <tr>\n",
       "      <th>75%</th>\n",
       "      <td>112046.250000</td>\n",
       "      <td>559.552500</td>\n",
       "      <td>1380.000000</td>\n",
       "    </tr>\n",
       "    <tr>\n",
       "      <th>max</th>\n",
       "      <td>149395.000000</td>\n",
       "      <td>1724.830000</td>\n",
       "      <td>1499.000000</td>\n",
       "    </tr>\n",
       "  </tbody>\n",
       "</table>\n",
       "</div>"
      ],
      "text/plain": [
       "          Unnamed: 0        mb_used        user_id\n",
       "count  149396.000000  149396.000000  149396.000000\n",
       "mean    74697.500000     370.192426    1252.099842\n",
       "std     43127.054745     278.300951     144.050823\n",
       "min         0.000000       0.000000    1000.000000\n",
       "25%     37348.750000     138.187500    1130.000000\n",
       "50%     74697.500000     348.015000    1251.000000\n",
       "75%    112046.250000     559.552500    1380.000000\n",
       "max    149395.000000    1724.830000    1499.000000"
      ]
     },
     "execution_count": 13,
     "metadata": {},
     "output_type": "execute_result"
    }
   ],
   "source": [
    "# числовое описание данных таблицы df_internet\n",
    "df_internet.describe()"
   ]
  },
  {
   "cell_type": "code",
   "execution_count": 14,
   "metadata": {},
   "outputs": [
    {
     "data": {
      "text/html": [
       "<div>\n",
       "<style scoped>\n",
       "    .dataframe tbody tr th:only-of-type {\n",
       "        vertical-align: middle;\n",
       "    }\n",
       "\n",
       "    .dataframe tbody tr th {\n",
       "        vertical-align: top;\n",
       "    }\n",
       "\n",
       "    .dataframe thead th {\n",
       "        text-align: right;\n",
       "    }\n",
       "</style>\n",
       "<table border=\"1\" class=\"dataframe\">\n",
       "  <thead>\n",
       "    <tr style=\"text-align: right;\">\n",
       "      <th></th>\n",
       "      <th>messages_included</th>\n",
       "      <th>mb_per_month_included</th>\n",
       "      <th>minutes_included</th>\n",
       "      <th>rub_monthly_fee</th>\n",
       "      <th>rub_per_gb</th>\n",
       "      <th>rub_per_message</th>\n",
       "      <th>rub_per_minute</th>\n",
       "    </tr>\n",
       "  </thead>\n",
       "  <tbody>\n",
       "    <tr>\n",
       "      <th>count</th>\n",
       "      <td>2.000000</td>\n",
       "      <td>2.000000</td>\n",
       "      <td>2.000000</td>\n",
       "      <td>2.000000</td>\n",
       "      <td>2.000000</td>\n",
       "      <td>2.000000</td>\n",
       "      <td>2.000000</td>\n",
       "    </tr>\n",
       "    <tr>\n",
       "      <th>mean</th>\n",
       "      <td>525.000000</td>\n",
       "      <td>23040.000000</td>\n",
       "      <td>1750.000000</td>\n",
       "      <td>1250.000000</td>\n",
       "      <td>175.000000</td>\n",
       "      <td>2.000000</td>\n",
       "      <td>2.000000</td>\n",
       "    </tr>\n",
       "    <tr>\n",
       "      <th>std</th>\n",
       "      <td>671.751442</td>\n",
       "      <td>10861.160159</td>\n",
       "      <td>1767.766953</td>\n",
       "      <td>989.949494</td>\n",
       "      <td>35.355339</td>\n",
       "      <td>1.414214</td>\n",
       "      <td>1.414214</td>\n",
       "    </tr>\n",
       "    <tr>\n",
       "      <th>min</th>\n",
       "      <td>50.000000</td>\n",
       "      <td>15360.000000</td>\n",
       "      <td>500.000000</td>\n",
       "      <td>550.000000</td>\n",
       "      <td>150.000000</td>\n",
       "      <td>1.000000</td>\n",
       "      <td>1.000000</td>\n",
       "    </tr>\n",
       "    <tr>\n",
       "      <th>25%</th>\n",
       "      <td>287.500000</td>\n",
       "      <td>19200.000000</td>\n",
       "      <td>1125.000000</td>\n",
       "      <td>900.000000</td>\n",
       "      <td>162.500000</td>\n",
       "      <td>1.500000</td>\n",
       "      <td>1.500000</td>\n",
       "    </tr>\n",
       "    <tr>\n",
       "      <th>50%</th>\n",
       "      <td>525.000000</td>\n",
       "      <td>23040.000000</td>\n",
       "      <td>1750.000000</td>\n",
       "      <td>1250.000000</td>\n",
       "      <td>175.000000</td>\n",
       "      <td>2.000000</td>\n",
       "      <td>2.000000</td>\n",
       "    </tr>\n",
       "    <tr>\n",
       "      <th>75%</th>\n",
       "      <td>762.500000</td>\n",
       "      <td>26880.000000</td>\n",
       "      <td>2375.000000</td>\n",
       "      <td>1600.000000</td>\n",
       "      <td>187.500000</td>\n",
       "      <td>2.500000</td>\n",
       "      <td>2.500000</td>\n",
       "    </tr>\n",
       "    <tr>\n",
       "      <th>max</th>\n",
       "      <td>1000.000000</td>\n",
       "      <td>30720.000000</td>\n",
       "      <td>3000.000000</td>\n",
       "      <td>1950.000000</td>\n",
       "      <td>200.000000</td>\n",
       "      <td>3.000000</td>\n",
       "      <td>3.000000</td>\n",
       "    </tr>\n",
       "  </tbody>\n",
       "</table>\n",
       "</div>"
      ],
      "text/plain": [
       "       messages_included  mb_per_month_included  minutes_included  \\\n",
       "count           2.000000               2.000000          2.000000   \n",
       "mean          525.000000           23040.000000       1750.000000   \n",
       "std           671.751442           10861.160159       1767.766953   \n",
       "min            50.000000           15360.000000        500.000000   \n",
       "25%           287.500000           19200.000000       1125.000000   \n",
       "50%           525.000000           23040.000000       1750.000000   \n",
       "75%           762.500000           26880.000000       2375.000000   \n",
       "max          1000.000000           30720.000000       3000.000000   \n",
       "\n",
       "       rub_monthly_fee  rub_per_gb  rub_per_message  rub_per_minute  \n",
       "count         2.000000    2.000000         2.000000        2.000000  \n",
       "mean       1250.000000  175.000000         2.000000        2.000000  \n",
       "std         989.949494   35.355339         1.414214        1.414214  \n",
       "min         550.000000  150.000000         1.000000        1.000000  \n",
       "25%         900.000000  162.500000         1.500000        1.500000  \n",
       "50%        1250.000000  175.000000         2.000000        2.000000  \n",
       "75%        1600.000000  187.500000         2.500000        2.500000  \n",
       "max        1950.000000  200.000000         3.000000        3.000000  "
      ]
     },
     "execution_count": 14,
     "metadata": {},
     "output_type": "execute_result"
    }
   ],
   "source": [
    "# числовое описание данных таблицы df_tariffs\n",
    "df_tariffs.describe()"
   ]
  },
  {
   "cell_type": "markdown",
   "metadata": {},
   "source": [
    "💡 В исходных файлах содержатся данные о 500 пользователях «Мегалайна»: кто они, откуда, каким тарифом пользуются, сколько звонков и сообщений каждый отправил за 2018 год.\n",
    "\n",
    "Столбцы в датафреймах содержат различные типы данных. Количество значений в столбцах таблиц практически везде совпадает, кроме столбца `churn_date`, что означает наличие пропусков.    \n",
    "\n",
    "В таблице df_calls находится столбец с нулевыми продолжительностями звонков (`duration`) — это не ошибка: нулями обозначены пропущенные звонки, поэтому удалять их не будем.\n",
    "\n",
    "В таблице `internet` (информация об интернет-сессиях) находится столбец дублирующий индекс DataFrame.\n",
    "\n",
    "В данных не содержится явных дубликатов."
   ]
  },
  {
   "cell_type": "markdown",
   "metadata": {},
   "source": [
    "## Предобработка данных и дополнительные расчёты"
   ]
  },
  {
   "cell_type": "markdown",
   "metadata": {},
   "source": [
    "### Определение и изучение пропущенных значений"
   ]
  },
  {
   "cell_type": "markdown",
   "metadata": {},
   "source": [
    "На этапе изучения данных пропуски были выявлены только в таблице `users`:"
   ]
  },
  {
   "cell_type": "code",
   "execution_count": 15,
   "metadata": {
    "scrolled": true
   },
   "outputs": [
    {
     "data": {
      "text/plain": [
       "user_id       0.000\n",
       "age           0.000\n",
       "churn_date    0.924\n",
       "city          0.000\n",
       "first_name    0.000\n",
       "last_name     0.000\n",
       "reg_date      0.000\n",
       "tariff        0.000\n",
       "dtype: float64"
      ]
     },
     "metadata": {},
     "output_type": "display_data"
    }
   ],
   "source": [
    "# подсчёт доли пропусков в таблице users\n",
    "display(df_users.isna().mean())"
   ]
  },
  {
   "cell_type": "markdown",
   "metadata": {},
   "source": [
    "Доля пропусков составляет 92.4%. Согласно описанию данных, пропуски в столбце `churn_date` означают, что тариф еще действовал на момент выгрузки данных. Обработка данных пропусков в столбце не целесообразна."
   ]
  },
  {
   "cell_type": "markdown",
   "metadata": {},
   "source": [
    "### Приведение данных к нужным типам"
   ]
  },
  {
   "cell_type": "markdown",
   "metadata": {},
   "source": [
    "**Таблица `users` (информация о пользователях).**"
   ]
  },
  {
   "cell_type": "markdown",
   "metadata": {},
   "source": [
    "Изменим тип данных на:\n",
    "- дата и время `(datetime)` в столбце: reg_date (дата подключения тарифа); \n",
    "- целочисленный 32-х битный `(int32)` в столбцах: user_id (уникальный идентификатор пользователя), age (возраст пользователя)."
   ]
  },
  {
   "cell_type": "code",
   "execution_count": 16,
   "metadata": {},
   "outputs": [],
   "source": [
    "# изменение на тип данных datetime\n",
    "df_users['reg_date'] = pd.to_datetime(df_users['reg_date'], format='%Y-%m-%d')"
   ]
  },
  {
   "cell_type": "code",
   "execution_count": 17,
   "metadata": {},
   "outputs": [],
   "source": [
    "# изменение на целочисленный 32-х битный тип данных\n",
    "df_users['user_id'] = df_users['user_id'].astype('int')\n",
    "df_users['age'] = df_users['age'].astype('int')"
   ]
  },
  {
   "cell_type": "code",
   "execution_count": 18,
   "metadata": {
    "scrolled": true
   },
   "outputs": [
    {
     "name": "stdout",
     "output_type": "stream",
     "text": [
      "<class 'pandas.core.frame.DataFrame'>\n",
      "RangeIndex: 500 entries, 0 to 499\n",
      "Data columns (total 8 columns):\n",
      " #   Column      Non-Null Count  Dtype         \n",
      "---  ------      --------------  -----         \n",
      " 0   user_id     500 non-null    int64         \n",
      " 1   age         500 non-null    int64         \n",
      " 2   churn_date  38 non-null     object        \n",
      " 3   city        500 non-null    object        \n",
      " 4   first_name  500 non-null    object        \n",
      " 5   last_name   500 non-null    object        \n",
      " 6   reg_date    500 non-null    datetime64[ns]\n",
      " 7   tariff      500 non-null    object        \n",
      "dtypes: datetime64[ns](1), int64(2), object(5)\n",
      "memory usage: 31.4+ KB\n"
     ]
    }
   ],
   "source": [
    "# получение общей информации о данных\n",
    "df_users.info()"
   ]
  },
  {
   "cell_type": "markdown",
   "metadata": {},
   "source": [
    "**Таблица `calls` (информация о звонках).**"
   ]
  },
  {
   "cell_type": "markdown",
   "metadata": {},
   "source": [
    "Изменим тип данных на:\n",
    "- дата и время `(datetime)` в столбце: call_date (дата звонка); \n",
    "- вещественный 32-х битный `(float32)` в столбце: duration (длительность звонка в минутах); \n",
    "- целочисленный 32-х битный `(int32)` в столбце: user_id (идентификатор пользователя, сделавшего звонок)."
   ]
  },
  {
   "cell_type": "code",
   "execution_count": 19,
   "metadata": {},
   "outputs": [],
   "source": [
    "# изменение на тип данных datetime\n",
    "df_calls['call_date'] = pd.to_datetime(df_calls['call_date'], format='%Y-%m-%d')"
   ]
  },
  {
   "cell_type": "code",
   "execution_count": 20,
   "metadata": {},
   "outputs": [],
   "source": [
    "# изменение на вещественный 32-х битный тип данных\n",
    "df_calls['duration'] = df_calls['duration'].astype('float32')"
   ]
  },
  {
   "cell_type": "code",
   "execution_count": 21,
   "metadata": {},
   "outputs": [],
   "source": [
    "# изменение на целочисленный 32-х битный тип данных\n",
    "df_calls['user_id'] = df_calls['user_id'].astype('int')"
   ]
  },
  {
   "cell_type": "code",
   "execution_count": 22,
   "metadata": {
    "scrolled": true
   },
   "outputs": [
    {
     "name": "stdout",
     "output_type": "stream",
     "text": [
      "<class 'pandas.core.frame.DataFrame'>\n",
      "RangeIndex: 202607 entries, 0 to 202606\n",
      "Data columns (total 4 columns):\n",
      " #   Column     Non-Null Count   Dtype         \n",
      "---  ------     --------------   -----         \n",
      " 0   id         202607 non-null  object        \n",
      " 1   call_date  202607 non-null  datetime64[ns]\n",
      " 2   duration   202607 non-null  float32       \n",
      " 3   user_id    202607 non-null  int64         \n",
      "dtypes: datetime64[ns](1), float32(1), int64(1), object(1)\n",
      "memory usage: 5.4+ MB\n"
     ]
    }
   ],
   "source": [
    "# получение общей информации о данных\n",
    "df_calls.info()"
   ]
  },
  {
   "cell_type": "markdown",
   "metadata": {},
   "source": [
    "**Таблица `messages` (информация о сообщениях).**"
   ]
  },
  {
   "cell_type": "markdown",
   "metadata": {},
   "source": [
    "Изменим тип данных на:\n",
    "- дата и время `(datetime)` в столбце: message_date (дата сообщения); \n",
    "- целочисленный 32-х битный `(int32)` в столбце: user_id (идентификатор пользователя, отправившего сообщение)."
   ]
  },
  {
   "cell_type": "code",
   "execution_count": 23,
   "metadata": {},
   "outputs": [],
   "source": [
    "# изменение на тип данных datetime\n",
    "df_messages['message_date'] = pd.to_datetime(df_messages['message_date'], format='%Y-%m-%d')"
   ]
  },
  {
   "cell_type": "code",
   "execution_count": 24,
   "metadata": {},
   "outputs": [],
   "source": [
    "# изменение на целочисленный 32-х битный тип данных\n",
    "df_messages['user_id'] = df_messages['user_id'].astype('int')"
   ]
  },
  {
   "cell_type": "code",
   "execution_count": 25,
   "metadata": {
    "scrolled": false
   },
   "outputs": [
    {
     "name": "stdout",
     "output_type": "stream",
     "text": [
      "<class 'pandas.core.frame.DataFrame'>\n",
      "RangeIndex: 123036 entries, 0 to 123035\n",
      "Data columns (total 3 columns):\n",
      " #   Column        Non-Null Count   Dtype         \n",
      "---  ------        --------------   -----         \n",
      " 0   id            123036 non-null  object        \n",
      " 1   message_date  123036 non-null  datetime64[ns]\n",
      " 2   user_id       123036 non-null  int64         \n",
      "dtypes: datetime64[ns](1), int64(1), object(1)\n",
      "memory usage: 2.8+ MB\n"
     ]
    }
   ],
   "source": [
    "# получение общей информации о данных\n",
    "df_messages.info()"
   ]
  },
  {
   "cell_type": "markdown",
   "metadata": {},
   "source": [
    "**Таблица `internet` (информация об интернет-сессиях).**"
   ]
  },
  {
   "cell_type": "markdown",
   "metadata": {},
   "source": [
    "Изменим тип данных на:\n",
    "- дата и время `(datetime)` в столбце: session_date (дата интернет-сессии);\n",
    "- вещественный 32-х битный `(float32)` в столбце: mb_used (объём потраченного за сессию интернет-трафика); \n",
    "- целочисленный 32-х битный `(int32)` в столбце: user_id (идентификатор пользователя)."
   ]
  },
  {
   "cell_type": "code",
   "execution_count": 26,
   "metadata": {},
   "outputs": [],
   "source": [
    "# изменение на тип данных datetime\n",
    "df_internet['session_date'] = pd.to_datetime(df_internet['session_date'], format='%Y-%m-%d')"
   ]
  },
  {
   "cell_type": "code",
   "execution_count": 27,
   "metadata": {},
   "outputs": [],
   "source": [
    "# изменение на вещественный 32-х битный тип данных\n",
    "df_internet['mb_used'] = df_internet['mb_used'].astype('float32')"
   ]
  },
  {
   "cell_type": "code",
   "execution_count": 28,
   "metadata": {},
   "outputs": [],
   "source": [
    "# изменение на целочисленный 32-х битный тип данных\n",
    "df_internet['user_id'] = df_internet['user_id'].astype('int')"
   ]
  },
  {
   "cell_type": "code",
   "execution_count": 29,
   "metadata": {
    "scrolled": false
   },
   "outputs": [
    {
     "name": "stdout",
     "output_type": "stream",
     "text": [
      "<class 'pandas.core.frame.DataFrame'>\n",
      "RangeIndex: 149396 entries, 0 to 149395\n",
      "Data columns (total 5 columns):\n",
      " #   Column        Non-Null Count   Dtype         \n",
      "---  ------        --------------   -----         \n",
      " 0   Unnamed: 0    149396 non-null  int64         \n",
      " 1   id            149396 non-null  object        \n",
      " 2   mb_used       149396 non-null  float32       \n",
      " 3   session_date  149396 non-null  datetime64[ns]\n",
      " 4   user_id       149396 non-null  int64         \n",
      "dtypes: datetime64[ns](1), float32(1), int64(2), object(1)\n",
      "memory usage: 5.1+ MB\n"
     ]
    }
   ],
   "source": [
    "# получение общей информации о данных\n",
    "df_internet.info()"
   ]
  },
  {
   "cell_type": "markdown",
   "metadata": {},
   "source": [
    "**Таблица `tariffs` (информация о тарифах).**"
   ]
  },
  {
   "cell_type": "markdown",
   "metadata": {},
   "source": [
    "Изменим тип данных на:\n",
    "- целочисленный 32-х битный `(int32)` в столбцах: messages_included (количество сообщений в месяц, включённых в абонентскую плату), mb_per_month_included (объём интернет-трафика, включённого в абонентскую плату), minutes_included (количество минут разговора в месяц, включённых в абонентскую плату), rub_monthly_fee (ежемесячная абонентская плата в рублях), rub_per_gb ( стоимость дополнительного гигабайта интернет-трафика сверх тарифного пакета), rub_per_message (стоимость отправки сообщения сверх тарифного пакета), rub_per_minute (стоимость минуты разговора сверх тарифного пакета)."
   ]
  },
  {
   "cell_type": "code",
   "execution_count": 30,
   "metadata": {},
   "outputs": [],
   "source": [
    "# изменение на целочисленный 32-х битный тип данных\n",
    "df_tariffs['messages_included'] = df_tariffs['messages_included'].astype('int')\n",
    "df_tariffs['mb_per_month_included'] = df_tariffs['mb_per_month_included'].astype('int')\n",
    "df_tariffs['minutes_included'] = df_tariffs['minutes_included'].astype('int')\n",
    "df_tariffs['rub_monthly_fee'] = df_tariffs['rub_monthly_fee'].astype('int')\n",
    "df_tariffs['rub_per_gb'] = df_tariffs['rub_per_gb'].astype('int')\n",
    "df_tariffs['rub_per_message'] = df_tariffs['rub_per_message'].astype('int')\n",
    "df_tariffs['rub_per_minute'] = df_tariffs['rub_per_minute'].astype('int')"
   ]
  },
  {
   "cell_type": "code",
   "execution_count": 31,
   "metadata": {
    "scrolled": false
   },
   "outputs": [
    {
     "name": "stdout",
     "output_type": "stream",
     "text": [
      "<class 'pandas.core.frame.DataFrame'>\n",
      "RangeIndex: 2 entries, 0 to 1\n",
      "Data columns (total 8 columns):\n",
      " #   Column                 Non-Null Count  Dtype \n",
      "---  ------                 --------------  ----- \n",
      " 0   messages_included      2 non-null      int64 \n",
      " 1   mb_per_month_included  2 non-null      int64 \n",
      " 2   minutes_included       2 non-null      int64 \n",
      " 3   rub_monthly_fee        2 non-null      int64 \n",
      " 4   rub_per_gb             2 non-null      int64 \n",
      " 5   rub_per_message        2 non-null      int64 \n",
      " 6   rub_per_minute         2 non-null      int64 \n",
      " 7   tariff_name            2 non-null      object\n",
      "dtypes: int64(7), object(1)\n",
      "memory usage: 256.0+ bytes\n"
     ]
    }
   ],
   "source": [
    "# получение общей информации о данных\n",
    "df_tariffs.info()"
   ]
  },
  {
   "cell_type": "markdown",
   "metadata": {},
   "source": [
    "### Исправление ошибок  и корректировка данных"
   ]
  },
  {
   "cell_type": "markdown",
   "metadata": {},
   "source": [
    "**Таблица `df_internet` (информация об интернет-сессиях):**"
   ]
  },
  {
   "cell_type": "markdown",
   "metadata": {},
   "source": [
    "Удалим столбец дублирующий индекс DataFrame:"
   ]
  },
  {
   "cell_type": "code",
   "execution_count": 32,
   "metadata": {
    "scrolled": false
   },
   "outputs": [
    {
     "data": {
      "text/html": [
       "<div>\n",
       "<style scoped>\n",
       "    .dataframe tbody tr th:only-of-type {\n",
       "        vertical-align: middle;\n",
       "    }\n",
       "\n",
       "    .dataframe tbody tr th {\n",
       "        vertical-align: top;\n",
       "    }\n",
       "\n",
       "    .dataframe thead th {\n",
       "        text-align: right;\n",
       "    }\n",
       "</style>\n",
       "<table border=\"1\" class=\"dataframe\">\n",
       "  <thead>\n",
       "    <tr style=\"text-align: right;\">\n",
       "      <th></th>\n",
       "      <th>id</th>\n",
       "      <th>mb_used</th>\n",
       "      <th>session_date</th>\n",
       "      <th>user_id</th>\n",
       "    </tr>\n",
       "  </thead>\n",
       "  <tbody>\n",
       "    <tr>\n",
       "      <th>0</th>\n",
       "      <td>1000_0</td>\n",
       "      <td>112.949997</td>\n",
       "      <td>2018-11-25</td>\n",
       "      <td>1000</td>\n",
       "    </tr>\n",
       "    <tr>\n",
       "      <th>1</th>\n",
       "      <td>1000_1</td>\n",
       "      <td>1052.810059</td>\n",
       "      <td>2018-09-07</td>\n",
       "      <td>1000</td>\n",
       "    </tr>\n",
       "    <tr>\n",
       "      <th>2</th>\n",
       "      <td>1000_2</td>\n",
       "      <td>1197.260010</td>\n",
       "      <td>2018-06-25</td>\n",
       "      <td>1000</td>\n",
       "    </tr>\n",
       "    <tr>\n",
       "      <th>3</th>\n",
       "      <td>1000_3</td>\n",
       "      <td>550.270020</td>\n",
       "      <td>2018-08-22</td>\n",
       "      <td>1000</td>\n",
       "    </tr>\n",
       "    <tr>\n",
       "      <th>4</th>\n",
       "      <td>1000_4</td>\n",
       "      <td>302.559998</td>\n",
       "      <td>2018-09-24</td>\n",
       "      <td>1000</td>\n",
       "    </tr>\n",
       "  </tbody>\n",
       "</table>\n",
       "</div>"
      ],
      "text/plain": [
       "       id      mb_used session_date  user_id\n",
       "0  1000_0   112.949997   2018-11-25     1000\n",
       "1  1000_1  1052.810059   2018-09-07     1000\n",
       "2  1000_2  1197.260010   2018-06-25     1000\n",
       "3  1000_3   550.270020   2018-08-22     1000\n",
       "4  1000_4   302.559998   2018-09-24     1000"
      ]
     },
     "execution_count": 32,
     "metadata": {},
     "output_type": "execute_result"
    }
   ],
   "source": [
    "# удаление столбца\n",
    "df_internet.drop(df_internet.columns[[0]], axis=1, inplace=True)\n",
    "df_internet.head()"
   ]
  },
  {
   "cell_type": "markdown",
   "metadata": {},
   "source": [
    "**Таблица `df_calls` (информация о звонках):**"
   ]
  },
  {
   "cell_type": "markdown",
   "metadata": {},
   "source": [
    "Так как «Мегалайн» каждый звонок округляет отдельно: \"даже если он длился всего 1 секунду, будет засчитан как 1 минута\", проведем операцию округления в большую сторону наших данных."
   ]
  },
  {
   "cell_type": "code",
   "execution_count": 33,
   "metadata": {},
   "outputs": [
    {
     "data": {
      "text/html": [
       "<div>\n",
       "<style scoped>\n",
       "    .dataframe tbody tr th:only-of-type {\n",
       "        vertical-align: middle;\n",
       "    }\n",
       "\n",
       "    .dataframe tbody tr th {\n",
       "        vertical-align: top;\n",
       "    }\n",
       "\n",
       "    .dataframe thead th {\n",
       "        text-align: right;\n",
       "    }\n",
       "</style>\n",
       "<table border=\"1\" class=\"dataframe\">\n",
       "  <thead>\n",
       "    <tr style=\"text-align: right;\">\n",
       "      <th></th>\n",
       "      <th>id</th>\n",
       "      <th>call_date</th>\n",
       "      <th>duration</th>\n",
       "      <th>user_id</th>\n",
       "    </tr>\n",
       "  </thead>\n",
       "  <tbody>\n",
       "    <tr>\n",
       "      <th>0</th>\n",
       "      <td>1000_0</td>\n",
       "      <td>2018-07-25</td>\n",
       "      <td>0.00</td>\n",
       "      <td>1000</td>\n",
       "    </tr>\n",
       "    <tr>\n",
       "      <th>1</th>\n",
       "      <td>1000_1</td>\n",
       "      <td>2018-08-17</td>\n",
       "      <td>0.00</td>\n",
       "      <td>1000</td>\n",
       "    </tr>\n",
       "    <tr>\n",
       "      <th>2</th>\n",
       "      <td>1000_2</td>\n",
       "      <td>2018-06-11</td>\n",
       "      <td>2.85</td>\n",
       "      <td>1000</td>\n",
       "    </tr>\n",
       "    <tr>\n",
       "      <th>3</th>\n",
       "      <td>1000_3</td>\n",
       "      <td>2018-09-21</td>\n",
       "      <td>13.80</td>\n",
       "      <td>1000</td>\n",
       "    </tr>\n",
       "    <tr>\n",
       "      <th>4</th>\n",
       "      <td>1000_4</td>\n",
       "      <td>2018-12-15</td>\n",
       "      <td>5.18</td>\n",
       "      <td>1000</td>\n",
       "    </tr>\n",
       "  </tbody>\n",
       "</table>\n",
       "</div>"
      ],
      "text/plain": [
       "       id  call_date  duration  user_id\n",
       "0  1000_0 2018-07-25      0.00     1000\n",
       "1  1000_1 2018-08-17      0.00     1000\n",
       "2  1000_2 2018-06-11      2.85     1000\n",
       "3  1000_3 2018-09-21     13.80     1000\n",
       "4  1000_4 2018-12-15      5.18     1000"
      ]
     },
     "execution_count": 33,
     "metadata": {},
     "output_type": "execute_result"
    }
   ],
   "source": [
    "df_calls.head()"
   ]
  },
  {
   "cell_type": "code",
   "execution_count": 34,
   "metadata": {
    "scrolled": true
   },
   "outputs": [],
   "source": [
    "# округленией данных о продолжительности звонков в большую сторону\n",
    "df_calls['duration'] = np.ceil(df_calls['duration']).astype('int')"
   ]
  },
  {
   "cell_type": "code",
   "execution_count": 35,
   "metadata": {
    "scrolled": true
   },
   "outputs": [
    {
     "data": {
      "text/html": [
       "<div>\n",
       "<style scoped>\n",
       "    .dataframe tbody tr th:only-of-type {\n",
       "        vertical-align: middle;\n",
       "    }\n",
       "\n",
       "    .dataframe tbody tr th {\n",
       "        vertical-align: top;\n",
       "    }\n",
       "\n",
       "    .dataframe thead th {\n",
       "        text-align: right;\n",
       "    }\n",
       "</style>\n",
       "<table border=\"1\" class=\"dataframe\">\n",
       "  <thead>\n",
       "    <tr style=\"text-align: right;\">\n",
       "      <th></th>\n",
       "      <th>id</th>\n",
       "      <th>call_date</th>\n",
       "      <th>duration</th>\n",
       "      <th>user_id</th>\n",
       "    </tr>\n",
       "  </thead>\n",
       "  <tbody>\n",
       "    <tr>\n",
       "      <th>0</th>\n",
       "      <td>1000_0</td>\n",
       "      <td>2018-07-25</td>\n",
       "      <td>0</td>\n",
       "      <td>1000</td>\n",
       "    </tr>\n",
       "    <tr>\n",
       "      <th>1</th>\n",
       "      <td>1000_1</td>\n",
       "      <td>2018-08-17</td>\n",
       "      <td>0</td>\n",
       "      <td>1000</td>\n",
       "    </tr>\n",
       "    <tr>\n",
       "      <th>2</th>\n",
       "      <td>1000_2</td>\n",
       "      <td>2018-06-11</td>\n",
       "      <td>3</td>\n",
       "      <td>1000</td>\n",
       "    </tr>\n",
       "    <tr>\n",
       "      <th>3</th>\n",
       "      <td>1000_3</td>\n",
       "      <td>2018-09-21</td>\n",
       "      <td>14</td>\n",
       "      <td>1000</td>\n",
       "    </tr>\n",
       "    <tr>\n",
       "      <th>4</th>\n",
       "      <td>1000_4</td>\n",
       "      <td>2018-12-15</td>\n",
       "      <td>6</td>\n",
       "      <td>1000</td>\n",
       "    </tr>\n",
       "  </tbody>\n",
       "</table>\n",
       "</div>"
      ],
      "text/plain": [
       "       id  call_date  duration  user_id\n",
       "0  1000_0 2018-07-25         0     1000\n",
       "1  1000_1 2018-08-17         0     1000\n",
       "2  1000_2 2018-06-11         3     1000\n",
       "3  1000_3 2018-09-21        14     1000\n",
       "4  1000_4 2018-12-15         6     1000"
      ]
     },
     "execution_count": 35,
     "metadata": {},
     "output_type": "execute_result"
    }
   ],
   "source": [
    "df_calls.head()"
   ]
  },
  {
   "cell_type": "markdown",
   "metadata": {},
   "source": [
    "### Дополнительные расчеты"
   ]
  },
  {
   "cell_type": "markdown",
   "metadata": {},
   "source": [
    "**Формирование сводной таблицы**"
   ]
  },
  {
   "cell_type": "code",
   "execution_count": 36,
   "metadata": {
    "scrolled": true
   },
   "outputs": [
    {
     "data": {
      "text/html": [
       "<div>\n",
       "<style scoped>\n",
       "    .dataframe tbody tr th:only-of-type {\n",
       "        vertical-align: middle;\n",
       "    }\n",
       "\n",
       "    .dataframe tbody tr th {\n",
       "        vertical-align: top;\n",
       "    }\n",
       "\n",
       "    .dataframe thead th {\n",
       "        text-align: right;\n",
       "    }\n",
       "</style>\n",
       "<table border=\"1\" class=\"dataframe\">\n",
       "  <thead>\n",
       "    <tr style=\"text-align: right;\">\n",
       "      <th></th>\n",
       "      <th>id</th>\n",
       "      <th>call_date</th>\n",
       "      <th>duration</th>\n",
       "      <th>user_id</th>\n",
       "      <th>month</th>\n",
       "    </tr>\n",
       "  </thead>\n",
       "  <tbody>\n",
       "    <tr>\n",
       "      <th>0</th>\n",
       "      <td>1000_0</td>\n",
       "      <td>2018-07-25</td>\n",
       "      <td>0</td>\n",
       "      <td>1000</td>\n",
       "      <td>7</td>\n",
       "    </tr>\n",
       "    <tr>\n",
       "      <th>1</th>\n",
       "      <td>1000_1</td>\n",
       "      <td>2018-08-17</td>\n",
       "      <td>0</td>\n",
       "      <td>1000</td>\n",
       "      <td>8</td>\n",
       "    </tr>\n",
       "    <tr>\n",
       "      <th>2</th>\n",
       "      <td>1000_2</td>\n",
       "      <td>2018-06-11</td>\n",
       "      <td>3</td>\n",
       "      <td>1000</td>\n",
       "      <td>6</td>\n",
       "    </tr>\n",
       "    <tr>\n",
       "      <th>3</th>\n",
       "      <td>1000_3</td>\n",
       "      <td>2018-09-21</td>\n",
       "      <td>14</td>\n",
       "      <td>1000</td>\n",
       "      <td>9</td>\n",
       "    </tr>\n",
       "    <tr>\n",
       "      <th>4</th>\n",
       "      <td>1000_4</td>\n",
       "      <td>2018-12-15</td>\n",
       "      <td>6</td>\n",
       "      <td>1000</td>\n",
       "      <td>12</td>\n",
       "    </tr>\n",
       "  </tbody>\n",
       "</table>\n",
       "</div>"
      ],
      "text/plain": [
       "       id  call_date  duration  user_id  month\n",
       "0  1000_0 2018-07-25         0     1000      7\n",
       "1  1000_1 2018-08-17         0     1000      8\n",
       "2  1000_2 2018-06-11         3     1000      6\n",
       "3  1000_3 2018-09-21        14     1000      9\n",
       "4  1000_4 2018-12-15         6     1000     12"
      ]
     },
     "execution_count": 36,
     "metadata": {},
     "output_type": "execute_result"
    }
   ],
   "source": [
    "# создание столбца с месяцем звонка\n",
    "df_calls['month'] = df_calls['call_date'].dt.month\n",
    "df_calls.head()"
   ]
  },
  {
   "cell_type": "code",
   "execution_count": 37,
   "metadata": {
    "scrolled": true
   },
   "outputs": [
    {
     "data": {
      "text/html": [
       "<div>\n",
       "<style scoped>\n",
       "    .dataframe tbody tr th:only-of-type {\n",
       "        vertical-align: middle;\n",
       "    }\n",
       "\n",
       "    .dataframe tbody tr th {\n",
       "        vertical-align: top;\n",
       "    }\n",
       "\n",
       "    .dataframe thead th {\n",
       "        text-align: right;\n",
       "    }\n",
       "</style>\n",
       "<table border=\"1\" class=\"dataframe\">\n",
       "  <thead>\n",
       "    <tr style=\"text-align: right;\">\n",
       "      <th></th>\n",
       "      <th>user_id</th>\n",
       "      <th>month</th>\n",
       "      <th>count_calls</th>\n",
       "      <th>sum_mins</th>\n",
       "    </tr>\n",
       "  </thead>\n",
       "  <tbody>\n",
       "    <tr>\n",
       "      <th>0</th>\n",
       "      <td>1000</td>\n",
       "      <td>5</td>\n",
       "      <td>22</td>\n",
       "      <td>159</td>\n",
       "    </tr>\n",
       "    <tr>\n",
       "      <th>1</th>\n",
       "      <td>1000</td>\n",
       "      <td>6</td>\n",
       "      <td>43</td>\n",
       "      <td>172</td>\n",
       "    </tr>\n",
       "    <tr>\n",
       "      <th>2</th>\n",
       "      <td>1000</td>\n",
       "      <td>7</td>\n",
       "      <td>47</td>\n",
       "      <td>340</td>\n",
       "    </tr>\n",
       "    <tr>\n",
       "      <th>3</th>\n",
       "      <td>1000</td>\n",
       "      <td>8</td>\n",
       "      <td>52</td>\n",
       "      <td>408</td>\n",
       "    </tr>\n",
       "    <tr>\n",
       "      <th>4</th>\n",
       "      <td>1000</td>\n",
       "      <td>9</td>\n",
       "      <td>58</td>\n",
       "      <td>466</td>\n",
       "    </tr>\n",
       "  </tbody>\n",
       "</table>\n",
       "</div>"
      ],
      "text/plain": [
       "   user_id  month  count_calls  sum_mins\n",
       "0     1000      5           22       159\n",
       "1     1000      6           43       172\n",
       "2     1000      7           47       340\n",
       "3     1000      8           52       408\n",
       "4     1000      9           58       466"
      ]
     },
     "execution_count": 37,
     "metadata": {},
     "output_type": "execute_result"
    }
   ],
   "source": [
    "# сводная таблица количества сделанных звонков и израсходованных минут разговора для каждого пользователя\n",
    "df_calls_pivot = df_calls.pivot_table(index=['user_id', 'month'],\n",
    "                                      values='duration',\n",
    "                                      aggfunc=['count','sum']\n",
    "                                     ).reset_index()\n",
    "df_calls_pivot.columns = ['user_id','month','count_calls','sum_mins']\n",
    "df_calls_pivot.head()"
   ]
  },
  {
   "cell_type": "code",
   "execution_count": 38,
   "metadata": {},
   "outputs": [
    {
     "data": {
      "text/html": [
       "<div>\n",
       "<style scoped>\n",
       "    .dataframe tbody tr th:only-of-type {\n",
       "        vertical-align: middle;\n",
       "    }\n",
       "\n",
       "    .dataframe tbody tr th {\n",
       "        vertical-align: top;\n",
       "    }\n",
       "\n",
       "    .dataframe thead th {\n",
       "        text-align: right;\n",
       "    }\n",
       "</style>\n",
       "<table border=\"1\" class=\"dataframe\">\n",
       "  <thead>\n",
       "    <tr style=\"text-align: right;\">\n",
       "      <th></th>\n",
       "      <th>id</th>\n",
       "      <th>message_date</th>\n",
       "      <th>user_id</th>\n",
       "      <th>month</th>\n",
       "    </tr>\n",
       "  </thead>\n",
       "  <tbody>\n",
       "    <tr>\n",
       "      <th>0</th>\n",
       "      <td>1000_0</td>\n",
       "      <td>2018-06-27</td>\n",
       "      <td>1000</td>\n",
       "      <td>6</td>\n",
       "    </tr>\n",
       "    <tr>\n",
       "      <th>1</th>\n",
       "      <td>1000_1</td>\n",
       "      <td>2018-10-08</td>\n",
       "      <td>1000</td>\n",
       "      <td>10</td>\n",
       "    </tr>\n",
       "    <tr>\n",
       "      <th>2</th>\n",
       "      <td>1000_2</td>\n",
       "      <td>2018-08-04</td>\n",
       "      <td>1000</td>\n",
       "      <td>8</td>\n",
       "    </tr>\n",
       "    <tr>\n",
       "      <th>3</th>\n",
       "      <td>1000_3</td>\n",
       "      <td>2018-06-16</td>\n",
       "      <td>1000</td>\n",
       "      <td>6</td>\n",
       "    </tr>\n",
       "    <tr>\n",
       "      <th>4</th>\n",
       "      <td>1000_4</td>\n",
       "      <td>2018-12-05</td>\n",
       "      <td>1000</td>\n",
       "      <td>12</td>\n",
       "    </tr>\n",
       "  </tbody>\n",
       "</table>\n",
       "</div>"
      ],
      "text/plain": [
       "       id message_date  user_id  month\n",
       "0  1000_0   2018-06-27     1000      6\n",
       "1  1000_1   2018-10-08     1000     10\n",
       "2  1000_2   2018-08-04     1000      8\n",
       "3  1000_3   2018-06-16     1000      6\n",
       "4  1000_4   2018-12-05     1000     12"
      ]
     },
     "execution_count": 38,
     "metadata": {},
     "output_type": "execute_result"
    }
   ],
   "source": [
    "# создание колонки с месяцем отправки сообщения\n",
    "df_messages['month'] = df_messages['message_date'].dt.month\n",
    "df_messages.head()"
   ]
  },
  {
   "cell_type": "code",
   "execution_count": 39,
   "metadata": {
    "scrolled": true
   },
   "outputs": [
    {
     "data": {
      "text/html": [
       "<div>\n",
       "<style scoped>\n",
       "    .dataframe tbody tr th:only-of-type {\n",
       "        vertical-align: middle;\n",
       "    }\n",
       "\n",
       "    .dataframe tbody tr th {\n",
       "        vertical-align: top;\n",
       "    }\n",
       "\n",
       "    .dataframe thead th {\n",
       "        text-align: right;\n",
       "    }\n",
       "</style>\n",
       "<table border=\"1\" class=\"dataframe\">\n",
       "  <thead>\n",
       "    <tr style=\"text-align: right;\">\n",
       "      <th></th>\n",
       "      <th>user_id</th>\n",
       "      <th>month</th>\n",
       "      <th>count_messages</th>\n",
       "    </tr>\n",
       "  </thead>\n",
       "  <tbody>\n",
       "    <tr>\n",
       "      <th>0</th>\n",
       "      <td>1000</td>\n",
       "      <td>5</td>\n",
       "      <td>22</td>\n",
       "    </tr>\n",
       "    <tr>\n",
       "      <th>1</th>\n",
       "      <td>1000</td>\n",
       "      <td>6</td>\n",
       "      <td>60</td>\n",
       "    </tr>\n",
       "    <tr>\n",
       "      <th>2</th>\n",
       "      <td>1000</td>\n",
       "      <td>7</td>\n",
       "      <td>75</td>\n",
       "    </tr>\n",
       "    <tr>\n",
       "      <th>3</th>\n",
       "      <td>1000</td>\n",
       "      <td>8</td>\n",
       "      <td>81</td>\n",
       "    </tr>\n",
       "    <tr>\n",
       "      <th>4</th>\n",
       "      <td>1000</td>\n",
       "      <td>9</td>\n",
       "      <td>57</td>\n",
       "    </tr>\n",
       "  </tbody>\n",
       "</table>\n",
       "</div>"
      ],
      "text/plain": [
       "   user_id  month  count_messages\n",
       "0     1000      5              22\n",
       "1     1000      6              60\n",
       "2     1000      7              75\n",
       "3     1000      8              81\n",
       "4     1000      9              57"
      ]
     },
     "execution_count": 39,
     "metadata": {},
     "output_type": "execute_result"
    }
   ],
   "source": [
    "# сводная таблица количества отправленных собщений по месяцам для каждого пользователя\n",
    "df_messages_pivot = df_messages.pivot_table(index=['user_id', 'month'],\n",
    "                                      values='id',\n",
    "                                      aggfunc='count'\n",
    "                                     ).reset_index()\n",
    "df_messages_pivot.columns = ['user_id','month','count_messages']\n",
    "df_messages_pivot.head()"
   ]
  },
  {
   "cell_type": "code",
   "execution_count": 40,
   "metadata": {},
   "outputs": [
    {
     "data": {
      "text/html": [
       "<div>\n",
       "<style scoped>\n",
       "    .dataframe tbody tr th:only-of-type {\n",
       "        vertical-align: middle;\n",
       "    }\n",
       "\n",
       "    .dataframe tbody tr th {\n",
       "        vertical-align: top;\n",
       "    }\n",
       "\n",
       "    .dataframe thead th {\n",
       "        text-align: right;\n",
       "    }\n",
       "</style>\n",
       "<table border=\"1\" class=\"dataframe\">\n",
       "  <thead>\n",
       "    <tr style=\"text-align: right;\">\n",
       "      <th></th>\n",
       "      <th>id</th>\n",
       "      <th>mb_used</th>\n",
       "      <th>session_date</th>\n",
       "      <th>user_id</th>\n",
       "      <th>month</th>\n",
       "    </tr>\n",
       "  </thead>\n",
       "  <tbody>\n",
       "    <tr>\n",
       "      <th>0</th>\n",
       "      <td>1000_0</td>\n",
       "      <td>112.949997</td>\n",
       "      <td>2018-11-25</td>\n",
       "      <td>1000</td>\n",
       "      <td>11</td>\n",
       "    </tr>\n",
       "    <tr>\n",
       "      <th>1</th>\n",
       "      <td>1000_1</td>\n",
       "      <td>1052.810059</td>\n",
       "      <td>2018-09-07</td>\n",
       "      <td>1000</td>\n",
       "      <td>9</td>\n",
       "    </tr>\n",
       "    <tr>\n",
       "      <th>2</th>\n",
       "      <td>1000_2</td>\n",
       "      <td>1197.260010</td>\n",
       "      <td>2018-06-25</td>\n",
       "      <td>1000</td>\n",
       "      <td>6</td>\n",
       "    </tr>\n",
       "    <tr>\n",
       "      <th>3</th>\n",
       "      <td>1000_3</td>\n",
       "      <td>550.270020</td>\n",
       "      <td>2018-08-22</td>\n",
       "      <td>1000</td>\n",
       "      <td>8</td>\n",
       "    </tr>\n",
       "    <tr>\n",
       "      <th>4</th>\n",
       "      <td>1000_4</td>\n",
       "      <td>302.559998</td>\n",
       "      <td>2018-09-24</td>\n",
       "      <td>1000</td>\n",
       "      <td>9</td>\n",
       "    </tr>\n",
       "  </tbody>\n",
       "</table>\n",
       "</div>"
      ],
      "text/plain": [
       "       id      mb_used session_date  user_id  month\n",
       "0  1000_0   112.949997   2018-11-25     1000     11\n",
       "1  1000_1  1052.810059   2018-09-07     1000      9\n",
       "2  1000_2  1197.260010   2018-06-25     1000      6\n",
       "3  1000_3   550.270020   2018-08-22     1000      8\n",
       "4  1000_4   302.559998   2018-09-24     1000      9"
      ]
     },
     "execution_count": 40,
     "metadata": {},
     "output_type": "execute_result"
    }
   ],
   "source": [
    "# создание столбца с месяцем расхода трафика\n",
    "df_internet['month'] = df_internet['session_date'].dt.month\n",
    "df_internet.head()"
   ]
  },
  {
   "cell_type": "code",
   "execution_count": 41,
   "metadata": {
    "scrolled": false
   },
   "outputs": [
    {
     "data": {
      "text/html": [
       "<div>\n",
       "<style scoped>\n",
       "    .dataframe tbody tr th:only-of-type {\n",
       "        vertical-align: middle;\n",
       "    }\n",
       "\n",
       "    .dataframe tbody tr th {\n",
       "        vertical-align: top;\n",
       "    }\n",
       "\n",
       "    .dataframe thead th {\n",
       "        text-align: right;\n",
       "    }\n",
       "</style>\n",
       "<table border=\"1\" class=\"dataframe\">\n",
       "  <thead>\n",
       "    <tr style=\"text-align: right;\">\n",
       "      <th></th>\n",
       "      <th>user_id</th>\n",
       "      <th>month</th>\n",
       "      <th>sum_mb_used</th>\n",
       "    </tr>\n",
       "  </thead>\n",
       "  <tbody>\n",
       "    <tr>\n",
       "      <th>0</th>\n",
       "      <td>1000</td>\n",
       "      <td>5</td>\n",
       "      <td>2253.489990</td>\n",
       "    </tr>\n",
       "    <tr>\n",
       "      <th>1</th>\n",
       "      <td>1000</td>\n",
       "      <td>6</td>\n",
       "      <td>23233.769531</td>\n",
       "    </tr>\n",
       "    <tr>\n",
       "      <th>2</th>\n",
       "      <td>1000</td>\n",
       "      <td>7</td>\n",
       "      <td>14003.639648</td>\n",
       "    </tr>\n",
       "    <tr>\n",
       "      <th>3</th>\n",
       "      <td>1000</td>\n",
       "      <td>8</td>\n",
       "      <td>14055.929688</td>\n",
       "    </tr>\n",
       "    <tr>\n",
       "      <th>4</th>\n",
       "      <td>1000</td>\n",
       "      <td>9</td>\n",
       "      <td>14568.910156</td>\n",
       "    </tr>\n",
       "  </tbody>\n",
       "</table>\n",
       "</div>"
      ],
      "text/plain": [
       "   user_id  month   sum_mb_used\n",
       "0     1000      5   2253.489990\n",
       "1     1000      6  23233.769531\n",
       "2     1000      7  14003.639648\n",
       "3     1000      8  14055.929688\n",
       "4     1000      9  14568.910156"
      ]
     },
     "execution_count": 41,
     "metadata": {},
     "output_type": "execute_result"
    }
   ],
   "source": [
    "# сводная таблица объема израсходованного интернет-трафика по месяцам для каждого пользователя\n",
    "df_internet_pivot = df_internet.pivot_table(index=['user_id', 'month'],\n",
    "                                      values='mb_used',\n",
    "                                      aggfunc='sum'\n",
    "                                     ).reset_index()\n",
    "df_internet_pivot.columns = ['user_id','month','sum_mb_used']\n",
    "df_internet_pivot.head()"
   ]
  },
  {
   "cell_type": "code",
   "execution_count": 42,
   "metadata": {},
   "outputs": [],
   "source": [
    "# объединение таблиц (метод outer)\n",
    "df_merged = df_calls_pivot.merge(df_messages_pivot, on=['user_id','month'], how='outer')\n",
    "df_merged = df_merged.merge(df_internet_pivot, on=['user_id','month'], how='outer')"
   ]
  },
  {
   "cell_type": "code",
   "execution_count": 43,
   "metadata": {},
   "outputs": [
    {
     "name": "stdout",
     "output_type": "stream",
     "text": [
      "3214\n",
      "498\n"
     ]
    }
   ],
   "source": [
    "# проверка корректности объединения \n",
    "print(len(df_merged)) # <6000 строк\n",
    "print(len(df_merged['user_id'].unique())) # <500 пользователей"
   ]
  },
  {
   "cell_type": "code",
   "execution_count": 44,
   "metadata": {
    "scrolled": false
   },
   "outputs": [
    {
     "data": {
      "text/html": [
       "<div>\n",
       "<style scoped>\n",
       "    .dataframe tbody tr th:only-of-type {\n",
       "        vertical-align: middle;\n",
       "    }\n",
       "\n",
       "    .dataframe tbody tr th {\n",
       "        vertical-align: top;\n",
       "    }\n",
       "\n",
       "    .dataframe thead th {\n",
       "        text-align: right;\n",
       "    }\n",
       "</style>\n",
       "<table border=\"1\" class=\"dataframe\">\n",
       "  <thead>\n",
       "    <tr style=\"text-align: right;\">\n",
       "      <th></th>\n",
       "      <th>user_id</th>\n",
       "      <th>month</th>\n",
       "      <th>count_calls</th>\n",
       "      <th>sum_mins</th>\n",
       "      <th>count_messages</th>\n",
       "      <th>sum_mb_used</th>\n",
       "    </tr>\n",
       "  </thead>\n",
       "  <tbody>\n",
       "    <tr>\n",
       "      <th>0</th>\n",
       "      <td>1000</td>\n",
       "      <td>5</td>\n",
       "      <td>22.0</td>\n",
       "      <td>159.0</td>\n",
       "      <td>22.0</td>\n",
       "      <td>2253.489990</td>\n",
       "    </tr>\n",
       "    <tr>\n",
       "      <th>1</th>\n",
       "      <td>1000</td>\n",
       "      <td>6</td>\n",
       "      <td>43.0</td>\n",
       "      <td>172.0</td>\n",
       "      <td>60.0</td>\n",
       "      <td>23233.769531</td>\n",
       "    </tr>\n",
       "    <tr>\n",
       "      <th>2</th>\n",
       "      <td>1000</td>\n",
       "      <td>7</td>\n",
       "      <td>47.0</td>\n",
       "      <td>340.0</td>\n",
       "      <td>75.0</td>\n",
       "      <td>14003.639648</td>\n",
       "    </tr>\n",
       "    <tr>\n",
       "      <th>3</th>\n",
       "      <td>1000</td>\n",
       "      <td>8</td>\n",
       "      <td>52.0</td>\n",
       "      <td>408.0</td>\n",
       "      <td>81.0</td>\n",
       "      <td>14055.929688</td>\n",
       "    </tr>\n",
       "    <tr>\n",
       "      <th>4</th>\n",
       "      <td>1000</td>\n",
       "      <td>9</td>\n",
       "      <td>58.0</td>\n",
       "      <td>466.0</td>\n",
       "      <td>57.0</td>\n",
       "      <td>14568.910156</td>\n",
       "    </tr>\n",
       "  </tbody>\n",
       "</table>\n",
       "</div>"
      ],
      "text/plain": [
       "   user_id  month  count_calls  sum_mins  count_messages   sum_mb_used\n",
       "0     1000      5         22.0     159.0            22.0   2253.489990\n",
       "1     1000      6         43.0     172.0            60.0  23233.769531\n",
       "2     1000      7         47.0     340.0            75.0  14003.639648\n",
       "3     1000      8         52.0     408.0            81.0  14055.929688\n",
       "4     1000      9         58.0     466.0            57.0  14568.910156"
      ]
     },
     "execution_count": 44,
     "metadata": {},
     "output_type": "execute_result"
    }
   ],
   "source": [
    "# вывод 5 строк\n",
    "df_merged.head()"
   ]
  },
  {
   "cell_type": "code",
   "execution_count": 45,
   "metadata": {},
   "outputs": [
    {
     "data": {
      "text/plain": [
       "user_id             0\n",
       "month               0\n",
       "count_calls        40\n",
       "sum_mins           40\n",
       "count_messages    497\n",
       "sum_mb_used        11\n",
       "dtype: int64"
      ]
     },
     "execution_count": 45,
     "metadata": {},
     "output_type": "execute_result"
    }
   ],
   "source": [
    "# подсчет пропусков\n",
    "df_merged.isna().sum()"
   ]
  },
  {
   "cell_type": "markdown",
   "metadata": {},
   "source": [
    "Заполним пропущенные данные нулями, это будет значить, что в данном месяце клиент не пользовался каким-то видом связи:"
   ]
  },
  {
   "cell_type": "code",
   "execution_count": 46,
   "metadata": {
    "scrolled": false
   },
   "outputs": [
    {
     "data": {
      "text/plain": [
       "user_id           0\n",
       "month             0\n",
       "count_calls       0\n",
       "sum_mins          0\n",
       "count_messages    0\n",
       "sum_mb_used       0\n",
       "dtype: int64"
      ]
     },
     "execution_count": 46,
     "metadata": {},
     "output_type": "execute_result"
    }
   ],
   "source": [
    "# заполнение пропущенных данных\n",
    "df_merged = df_merged.fillna(0)\n",
    "df_merged.isna().sum()"
   ]
  },
  {
   "cell_type": "markdown",
   "metadata": {},
   "source": [
    "Поправим тип данных в сводной таблице:"
   ]
  },
  {
   "cell_type": "code",
   "execution_count": 47,
   "metadata": {},
   "outputs": [],
   "source": [
    "# изменение на целочисленный 32-х битный тип данных\n",
    "df_merged['user_id'] = df_merged['user_id'].astype('int32')\n",
    "df_merged['month'] = df_merged['month'].astype('int32')\n",
    "df_merged['count_calls'] = df_merged['count_calls'].astype('int32')\n",
    "df_merged['sum_mins'] = df_merged['sum_mins'].astype('int32')\n",
    "df_merged['count_messages'] = df_merged['count_messages'].astype('int32')\n",
    "df_merged['sum_mb_used'] = df_merged['sum_mb_used'].astype('int32')"
   ]
  },
  {
   "cell_type": "code",
   "execution_count": 48,
   "metadata": {},
   "outputs": [],
   "source": [
    "# создание словарей с тарифом и городом для каждого пользователя\n",
    "dict_users_tariffs = dict(pd.Series(df_users['tariff'].values, index=df_users['user_id']))\n",
    "dict_users_city = dict(pd.Series(df_users['city'].values, index=df_users['user_id']))"
   ]
  },
  {
   "cell_type": "code",
   "execution_count": 49,
   "metadata": {
    "scrolled": true
   },
   "outputs": [],
   "source": [
    "# добавление в сводную таблицу тарифа и города для каждого пользователя\n",
    "df_merged['tariff'] = df_merged['user_id'].map(dict_users_tariffs)\n",
    "df_merged['city'] = df_merged['user_id'].map(dict_users_city)"
   ]
  },
  {
   "cell_type": "code",
   "execution_count": 50,
   "metadata": {},
   "outputs": [
    {
     "data": {
      "text/html": [
       "<div>\n",
       "<style scoped>\n",
       "    .dataframe tbody tr th:only-of-type {\n",
       "        vertical-align: middle;\n",
       "    }\n",
       "\n",
       "    .dataframe tbody tr th {\n",
       "        vertical-align: top;\n",
       "    }\n",
       "\n",
       "    .dataframe thead th {\n",
       "        text-align: right;\n",
       "    }\n",
       "</style>\n",
       "<table border=\"1\" class=\"dataframe\">\n",
       "  <thead>\n",
       "    <tr style=\"text-align: right;\">\n",
       "      <th></th>\n",
       "      <th>user_id</th>\n",
       "      <th>month</th>\n",
       "      <th>count_calls</th>\n",
       "      <th>sum_mins</th>\n",
       "      <th>count_messages</th>\n",
       "      <th>sum_mb_used</th>\n",
       "      <th>tariff</th>\n",
       "      <th>city</th>\n",
       "    </tr>\n",
       "  </thead>\n",
       "  <tbody>\n",
       "    <tr>\n",
       "      <th>0</th>\n",
       "      <td>1000</td>\n",
       "      <td>5</td>\n",
       "      <td>22</td>\n",
       "      <td>159</td>\n",
       "      <td>22</td>\n",
       "      <td>2253</td>\n",
       "      <td>ultra</td>\n",
       "      <td>Краснодар</td>\n",
       "    </tr>\n",
       "    <tr>\n",
       "      <th>1</th>\n",
       "      <td>1000</td>\n",
       "      <td>6</td>\n",
       "      <td>43</td>\n",
       "      <td>172</td>\n",
       "      <td>60</td>\n",
       "      <td>23233</td>\n",
       "      <td>ultra</td>\n",
       "      <td>Краснодар</td>\n",
       "    </tr>\n",
       "    <tr>\n",
       "      <th>2</th>\n",
       "      <td>1000</td>\n",
       "      <td>7</td>\n",
       "      <td>47</td>\n",
       "      <td>340</td>\n",
       "      <td>75</td>\n",
       "      <td>14003</td>\n",
       "      <td>ultra</td>\n",
       "      <td>Краснодар</td>\n",
       "    </tr>\n",
       "    <tr>\n",
       "      <th>3</th>\n",
       "      <td>1000</td>\n",
       "      <td>8</td>\n",
       "      <td>52</td>\n",
       "      <td>408</td>\n",
       "      <td>81</td>\n",
       "      <td>14055</td>\n",
       "      <td>ultra</td>\n",
       "      <td>Краснодар</td>\n",
       "    </tr>\n",
       "    <tr>\n",
       "      <th>4</th>\n",
       "      <td>1000</td>\n",
       "      <td>9</td>\n",
       "      <td>58</td>\n",
       "      <td>466</td>\n",
       "      <td>57</td>\n",
       "      <td>14568</td>\n",
       "      <td>ultra</td>\n",
       "      <td>Краснодар</td>\n",
       "    </tr>\n",
       "  </tbody>\n",
       "</table>\n",
       "</div>"
      ],
      "text/plain": [
       "   user_id  month  count_calls  sum_mins  count_messages  sum_mb_used tariff  \\\n",
       "0     1000      5           22       159              22         2253  ultra   \n",
       "1     1000      6           43       172              60        23233  ultra   \n",
       "2     1000      7           47       340              75        14003  ultra   \n",
       "3     1000      8           52       408              81        14055  ultra   \n",
       "4     1000      9           58       466              57        14568  ultra   \n",
       "\n",
       "        city  \n",
       "0  Краснодар  \n",
       "1  Краснодар  \n",
       "2  Краснодар  \n",
       "3  Краснодар  \n",
       "4  Краснодар  "
      ]
     },
     "execution_count": 50,
     "metadata": {},
     "output_type": "execute_result"
    }
   ],
   "source": [
    "# вывод 5 строк\n",
    "df_merged.head()"
   ]
  },
  {
   "cell_type": "markdown",
   "metadata": {},
   "source": [
    "**Расчет выручки с пользователя**"
   ]
  },
  {
   "cell_type": "code",
   "execution_count": 51,
   "metadata": {},
   "outputs": [],
   "source": [
    "# переименовывание колонки для корректного объединения таблиц \n",
    "df_merged = df_merged.rename(columns={'tariff':'tariff_name'})"
   ]
  },
  {
   "cell_type": "code",
   "execution_count": 52,
   "metadata": {
    "scrolled": true
   },
   "outputs": [],
   "source": [
    "# объединение сводной таблицы с df_tariffs\n",
    "df_merged = df_merged.merge(df_tariffs, on='tariff_name', how='left')"
   ]
  },
  {
   "cell_type": "code",
   "execution_count": 53,
   "metadata": {
    "scrolled": true
   },
   "outputs": [
    {
     "data": {
      "text/html": [
       "<div>\n",
       "<style scoped>\n",
       "    .dataframe tbody tr th:only-of-type {\n",
       "        vertical-align: middle;\n",
       "    }\n",
       "\n",
       "    .dataframe tbody tr th {\n",
       "        vertical-align: top;\n",
       "    }\n",
       "\n",
       "    .dataframe thead th {\n",
       "        text-align: right;\n",
       "    }\n",
       "</style>\n",
       "<table border=\"1\" class=\"dataframe\">\n",
       "  <thead>\n",
       "    <tr style=\"text-align: right;\">\n",
       "      <th></th>\n",
       "      <th>user_id</th>\n",
       "      <th>month</th>\n",
       "      <th>count_calls</th>\n",
       "      <th>sum_mins</th>\n",
       "      <th>count_messages</th>\n",
       "      <th>sum_mb_used</th>\n",
       "      <th>tariff_name</th>\n",
       "      <th>city</th>\n",
       "      <th>messages_included</th>\n",
       "      <th>mb_per_month_included</th>\n",
       "      <th>minutes_included</th>\n",
       "      <th>rub_monthly_fee</th>\n",
       "      <th>rub_per_gb</th>\n",
       "      <th>rub_per_message</th>\n",
       "      <th>rub_per_minute</th>\n",
       "      <th>sum_mins_excess</th>\n",
       "      <th>count_messages_excess</th>\n",
       "      <th>sum_mb_used_excess</th>\n",
       "    </tr>\n",
       "  </thead>\n",
       "  <tbody>\n",
       "    <tr>\n",
       "      <th>0</th>\n",
       "      <td>1000</td>\n",
       "      <td>5</td>\n",
       "      <td>22</td>\n",
       "      <td>159</td>\n",
       "      <td>22</td>\n",
       "      <td>2253</td>\n",
       "      <td>ultra</td>\n",
       "      <td>Краснодар</td>\n",
       "      <td>1000</td>\n",
       "      <td>30720</td>\n",
       "      <td>3000</td>\n",
       "      <td>1950</td>\n",
       "      <td>150</td>\n",
       "      <td>1</td>\n",
       "      <td>1</td>\n",
       "      <td>0</td>\n",
       "      <td>0</td>\n",
       "      <td>0</td>\n",
       "    </tr>\n",
       "    <tr>\n",
       "      <th>1</th>\n",
       "      <td>1000</td>\n",
       "      <td>6</td>\n",
       "      <td>43</td>\n",
       "      <td>172</td>\n",
       "      <td>60</td>\n",
       "      <td>23233</td>\n",
       "      <td>ultra</td>\n",
       "      <td>Краснодар</td>\n",
       "      <td>1000</td>\n",
       "      <td>30720</td>\n",
       "      <td>3000</td>\n",
       "      <td>1950</td>\n",
       "      <td>150</td>\n",
       "      <td>1</td>\n",
       "      <td>1</td>\n",
       "      <td>0</td>\n",
       "      <td>0</td>\n",
       "      <td>0</td>\n",
       "    </tr>\n",
       "    <tr>\n",
       "      <th>2</th>\n",
       "      <td>1000</td>\n",
       "      <td>7</td>\n",
       "      <td>47</td>\n",
       "      <td>340</td>\n",
       "      <td>75</td>\n",
       "      <td>14003</td>\n",
       "      <td>ultra</td>\n",
       "      <td>Краснодар</td>\n",
       "      <td>1000</td>\n",
       "      <td>30720</td>\n",
       "      <td>3000</td>\n",
       "      <td>1950</td>\n",
       "      <td>150</td>\n",
       "      <td>1</td>\n",
       "      <td>1</td>\n",
       "      <td>0</td>\n",
       "      <td>0</td>\n",
       "      <td>0</td>\n",
       "    </tr>\n",
       "    <tr>\n",
       "      <th>3</th>\n",
       "      <td>1000</td>\n",
       "      <td>8</td>\n",
       "      <td>52</td>\n",
       "      <td>408</td>\n",
       "      <td>81</td>\n",
       "      <td>14055</td>\n",
       "      <td>ultra</td>\n",
       "      <td>Краснодар</td>\n",
       "      <td>1000</td>\n",
       "      <td>30720</td>\n",
       "      <td>3000</td>\n",
       "      <td>1950</td>\n",
       "      <td>150</td>\n",
       "      <td>1</td>\n",
       "      <td>1</td>\n",
       "      <td>0</td>\n",
       "      <td>0</td>\n",
       "      <td>0</td>\n",
       "    </tr>\n",
       "    <tr>\n",
       "      <th>4</th>\n",
       "      <td>1000</td>\n",
       "      <td>9</td>\n",
       "      <td>58</td>\n",
       "      <td>466</td>\n",
       "      <td>57</td>\n",
       "      <td>14568</td>\n",
       "      <td>ultra</td>\n",
       "      <td>Краснодар</td>\n",
       "      <td>1000</td>\n",
       "      <td>30720</td>\n",
       "      <td>3000</td>\n",
       "      <td>1950</td>\n",
       "      <td>150</td>\n",
       "      <td>1</td>\n",
       "      <td>1</td>\n",
       "      <td>0</td>\n",
       "      <td>0</td>\n",
       "      <td>0</td>\n",
       "    </tr>\n",
       "  </tbody>\n",
       "</table>\n",
       "</div>"
      ],
      "text/plain": [
       "   user_id  month  count_calls  sum_mins  count_messages  sum_mb_used  \\\n",
       "0     1000      5           22       159              22         2253   \n",
       "1     1000      6           43       172              60        23233   \n",
       "2     1000      7           47       340              75        14003   \n",
       "3     1000      8           52       408              81        14055   \n",
       "4     1000      9           58       466              57        14568   \n",
       "\n",
       "  tariff_name       city  messages_included  mb_per_month_included  \\\n",
       "0       ultra  Краснодар               1000                  30720   \n",
       "1       ultra  Краснодар               1000                  30720   \n",
       "2       ultra  Краснодар               1000                  30720   \n",
       "3       ultra  Краснодар               1000                  30720   \n",
       "4       ultra  Краснодар               1000                  30720   \n",
       "\n",
       "   minutes_included  rub_monthly_fee  rub_per_gb  rub_per_message  \\\n",
       "0              3000             1950         150                1   \n",
       "1              3000             1950         150                1   \n",
       "2              3000             1950         150                1   \n",
       "3              3000             1950         150                1   \n",
       "4              3000             1950         150                1   \n",
       "\n",
       "   rub_per_minute  sum_mins_excess  count_messages_excess  sum_mb_used_excess  \n",
       "0               1                0                      0                   0  \n",
       "1               1                0                      0                   0  \n",
       "2               1                0                      0                   0  \n",
       "3               1                0                      0                   0  \n",
       "4               1                0                      0                   0  "
      ]
     },
     "execution_count": 53,
     "metadata": {},
     "output_type": "execute_result"
    }
   ],
   "source": [
    "# расчет превышения минут над лимитом по тарифу\n",
    "df_merged['sum_mins_excess'] = (df_merged['sum_mins'] - df_merged['minutes_included']\n",
    "                               ).where((df_merged['sum_mins'] - df_merged['minutes_included']) > 0, 0)\n",
    "\n",
    "# расчет превышения количества сообщений над лимитом по тарифу\n",
    "df_merged['count_messages_excess'] = (df_merged['count_messages'] - df_merged['messages_included']\n",
    "                               ).where((df_merged['count_messages'] - df_merged['messages_included']) > 0, 0)\n",
    "\n",
    "# расчет превышения интернет-трафика над лимитом по тарифу\n",
    "df_merged['sum_mb_used_excess'] = (df_merged['sum_mb_used'] - df_merged['mb_per_month_included']\n",
    "                               ).where((df_merged['sum_mb_used'] - df_merged['mb_per_month_included']) > 0, 0)\n",
    "df_merged.head()"
   ]
  },
  {
   "cell_type": "code",
   "execution_count": 54,
   "metadata": {},
   "outputs": [],
   "source": [
    "# расчет выручки с пользователя\n",
    "df_merged['revenue'] = (df_merged['rub_monthly_fee'] + (df_merged['sum_mins_excess'] * df_merged['rub_per_minute'] \n",
    "                                                       + df_merged['count_messages_excess'] * df_merged['rub_per_message'] \n",
    "                                                       + np.ceil(df_merged['sum_mb_used_excess']/1024) * df_merged['rub_per_gb'])\n",
    "                       ).round(0).astype('int32')"
   ]
  },
  {
   "cell_type": "code",
   "execution_count": 55,
   "metadata": {
    "scrolled": true
   },
   "outputs": [],
   "source": [
    "# удаление лишних колонок\n",
    "df_merged.drop(columns=['messages_included',\n",
    "                        'mb_per_month_included',\n",
    "                        'minutes_included',\n",
    "                        'rub_per_gb',\n",
    "                        'rub_per_message',\n",
    "                        'rub_per_minute',\n",
    "                        'rub_monthly_fee',\n",
    "                        'sum_mins_excess',\n",
    "                        'count_messages_excess',\n",
    "                        'sum_mb_used_excess'], inplace=True)"
   ]
  },
  {
   "cell_type": "code",
   "execution_count": 56,
   "metadata": {
    "scrolled": false
   },
   "outputs": [
    {
     "data": {
      "text/html": [
       "<div>\n",
       "<style scoped>\n",
       "    .dataframe tbody tr th:only-of-type {\n",
       "        vertical-align: middle;\n",
       "    }\n",
       "\n",
       "    .dataframe tbody tr th {\n",
       "        vertical-align: top;\n",
       "    }\n",
       "\n",
       "    .dataframe thead th {\n",
       "        text-align: right;\n",
       "    }\n",
       "</style>\n",
       "<table border=\"1\" class=\"dataframe\">\n",
       "  <thead>\n",
       "    <tr style=\"text-align: right;\">\n",
       "      <th></th>\n",
       "      <th>user_id</th>\n",
       "      <th>month</th>\n",
       "      <th>count_calls</th>\n",
       "      <th>sum_mins</th>\n",
       "      <th>count_messages</th>\n",
       "      <th>sum_mb_used</th>\n",
       "      <th>tariff_name</th>\n",
       "      <th>city</th>\n",
       "      <th>revenue</th>\n",
       "    </tr>\n",
       "  </thead>\n",
       "  <tbody>\n",
       "    <tr>\n",
       "      <th>0</th>\n",
       "      <td>1000</td>\n",
       "      <td>5</td>\n",
       "      <td>22</td>\n",
       "      <td>159</td>\n",
       "      <td>22</td>\n",
       "      <td>2253</td>\n",
       "      <td>ultra</td>\n",
       "      <td>Краснодар</td>\n",
       "      <td>1950</td>\n",
       "    </tr>\n",
       "    <tr>\n",
       "      <th>1</th>\n",
       "      <td>1000</td>\n",
       "      <td>6</td>\n",
       "      <td>43</td>\n",
       "      <td>172</td>\n",
       "      <td>60</td>\n",
       "      <td>23233</td>\n",
       "      <td>ultra</td>\n",
       "      <td>Краснодар</td>\n",
       "      <td>1950</td>\n",
       "    </tr>\n",
       "    <tr>\n",
       "      <th>2</th>\n",
       "      <td>1000</td>\n",
       "      <td>7</td>\n",
       "      <td>47</td>\n",
       "      <td>340</td>\n",
       "      <td>75</td>\n",
       "      <td>14003</td>\n",
       "      <td>ultra</td>\n",
       "      <td>Краснодар</td>\n",
       "      <td>1950</td>\n",
       "    </tr>\n",
       "    <tr>\n",
       "      <th>3</th>\n",
       "      <td>1000</td>\n",
       "      <td>8</td>\n",
       "      <td>52</td>\n",
       "      <td>408</td>\n",
       "      <td>81</td>\n",
       "      <td>14055</td>\n",
       "      <td>ultra</td>\n",
       "      <td>Краснодар</td>\n",
       "      <td>1950</td>\n",
       "    </tr>\n",
       "    <tr>\n",
       "      <th>4</th>\n",
       "      <td>1000</td>\n",
       "      <td>9</td>\n",
       "      <td>58</td>\n",
       "      <td>466</td>\n",
       "      <td>57</td>\n",
       "      <td>14568</td>\n",
       "      <td>ultra</td>\n",
       "      <td>Краснодар</td>\n",
       "      <td>1950</td>\n",
       "    </tr>\n",
       "  </tbody>\n",
       "</table>\n",
       "</div>"
      ],
      "text/plain": [
       "   user_id  month  count_calls  sum_mins  count_messages  sum_mb_used  \\\n",
       "0     1000      5           22       159              22         2253   \n",
       "1     1000      6           43       172              60        23233   \n",
       "2     1000      7           47       340              75        14003   \n",
       "3     1000      8           52       408              81        14055   \n",
       "4     1000      9           58       466              57        14568   \n",
       "\n",
       "  tariff_name       city  revenue  \n",
       "0       ultra  Краснодар     1950  \n",
       "1       ultra  Краснодар     1950  \n",
       "2       ultra  Краснодар     1950  \n",
       "3       ultra  Краснодар     1950  \n",
       "4       ultra  Краснодар     1950  "
      ]
     },
     "execution_count": 56,
     "metadata": {},
     "output_type": "execute_result"
    }
   ],
   "source": [
    "# вывод 5 строк\n",
    "df_merged.head()"
   ]
  },
  {
   "cell_type": "markdown",
   "metadata": {},
   "source": [
    "💡 На этапе предобработки данные были приведены к нужным типам.    \n",
    "\n",
    "Данные о продолжительности звонков для каждого звонка округлены в большую сторону.    \n",
    "\n",
    "Сформирована сводная таблица сгруппированных значений по месяцам по каждому пользователю, а отсутствующие данные по конкретному месяцу в сводной таблице заполнены нулями, что означает, что в данном месяце клиент не пользовался каким-то видом связи.    \n",
    "\n",
    "Дополнительный расчетный показатель выручки с пользователя (revenue) добавлен в сводную таблицу и будет использован в дальнейшем для проверки гипотез."
   ]
  },
  {
   "cell_type": "markdown",
   "metadata": {},
   "source": [
    "## Исследовательский анализ данных"
   ]
  },
  {
   "cell_type": "markdown",
   "metadata": {},
   "source": [
    "### Обработка редких и выбивающихся значений"
   ]
  },
  {
   "cell_type": "markdown",
   "metadata": {},
   "source": [
    "Построим диаграммы размаха для определения границ выбросов для данных в тарифе smart:"
   ]
  },
  {
   "cell_type": "code",
   "execution_count": 57,
   "metadata": {},
   "outputs": [
    {
     "data": {
      "text/plain": [
       "<AxesSubplot:>"
      ]
     },
     "execution_count": 57,
     "metadata": {},
     "output_type": "execute_result"
    },
    {
     "data": {
      "image/png": "[encoded data removed]",
      "text/plain": [
       "<Figure size 864x288 with 4 Axes>"
      ]
     },
     "metadata": {
      "needs_background": "light"
     },
     "output_type": "display_data"
    }
   ],
   "source": [
    "# настройка подложки\n",
    "plt.figure(figsize=(12, 4))\n",
    "\n",
    "# диаграммы размаха для тарифа smart\n",
    "plt.subplot(1,4,1)\n",
    "df_merged.query('tariff_name == \"smart\"').boxplot(column='count_calls')\n",
    "\n",
    "plt.subplot(1,4,2)\n",
    "df_merged.query('tariff_name == \"smart\"').boxplot(column='sum_mins')\n",
    "\n",
    "plt.subplot(1,4,3)\n",
    "df_merged.query('tariff_name == \"smart\"').boxplot(column='count_messages')\n",
    "\n",
    "plt.subplot(1,4,4)\n",
    "plt.tight_layout()\n",
    "df_merged.query('tariff_name == \"smart\"').boxplot(column='sum_mb_used')"
   ]
  },
  {
   "cell_type": "markdown",
   "metadata": {},
   "source": [
    "Построим диаграммы размаха для определения границ выбросов для данных в тарифе ultra:"
   ]
  },
  {
   "cell_type": "code",
   "execution_count": 58,
   "metadata": {
    "scrolled": false
   },
   "outputs": [
    {
     "data": {
      "text/plain": [
       "<AxesSubplot:>"
      ]
     },
     "execution_count": 58,
     "metadata": {},
     "output_type": "execute_result"
    },
    {
     "data": {
      "image/png": "[encoded data removed]",
      "text/plain": [
       "<Figure size 864x288 with 4 Axes>"
      ]
     },
     "metadata": {
      "needs_background": "light"
     },
     "output_type": "display_data"
    }
   ],
   "source": [
    "# настройка подложки\n",
    "plt.figure(figsize=(12, 4))\n",
    "\n",
    "# диаграммы размаха для тарифа ultra\n",
    "plt.subplot(1,4,1)\n",
    "df_merged.query('tariff_name == \"ultra\"').boxplot(column='count_calls')\n",
    "\n",
    "plt.subplot(1,4,2)\n",
    "df_merged.query('tariff_name == \"ultra\"').boxplot(column='sum_mins')\n",
    "\n",
    "plt.subplot(1,4,3)\n",
    "df_merged.query('tariff_name == \"ultra\"').boxplot(column='count_messages')\n",
    "\n",
    "plt.subplot(1,4,4)\n",
    "plt.tight_layout()\n",
    "df_merged.query('tariff_name == \"ultra\"').boxplot(column='sum_mb_used')"
   ]
  },
  {
   "cell_type": "markdown",
   "metadata": {},
   "source": [
    "💡 Аномальных или ошибочных значений в данных не обнаружено."
   ]
  },
  {
   "cell_type": "markdown",
   "metadata": {},
   "source": [
    "### Анализ поведения клиентов в зависимости от тарифного плана"
   ]
  },
  {
   "cell_type": "code",
   "execution_count": 1048,
   "metadata": {},
   "outputs": [],
   "source": [
    "# определение функции для pie chart\n",
    "def pie_chart(dataframe, column):\n",
    "             \n",
    "    # названия графиков\n",
    "    chart_name={'user_id':'Пользователи тарифов, чел.',\n",
    "                'revenue':'Выручка в 2018 г., руб.'}\n",
    "         \n",
    "    if column == 'user_id' :\n",
    "        # расчет распределения пользователей в зависимости от тарифа\n",
    "        df_filtered = dataframe.drop_duplicates(subset='user_id'\n",
    "                                                             ).reset_index(drop=True\n",
    "                                                                          ).groupby('tariff_name')['user_id'].count()          \n",
    "    elif column == 'revenue':\n",
    "        df_filtered = dataframe.groupby(['tariff_name'])[column].sum()\n",
    "        \n",
    "    # piechart \n",
    "    df_filtered.plot(kind='pie',\n",
    "                     y=column,\n",
    "                     autopct=lambda p: '{:.2f}%\\n({:.0f})'.format(p,(p/100)*df_filtered.sum()),\n",
    "                     title=chart_name[column],\n",
    "                     figsize=(15,5),\n",
    "                     fontsize=15,\n",
    "                     legend=False,\n",
    "                     colors = ['#0AA1DD','#F76E11'],\n",
    "                     ylabel = \"\"\n",
    "                    ) "
   ]
  },
  {
   "cell_type": "code",
   "execution_count": 1049,
   "metadata": {},
   "outputs": [],
   "source": [
    "# определение функции для bar chart\n",
    "def bar_chart(dataframe, column):\n",
    "             \n",
    "    # названия графиков\n",
    "    chart_name={'sum_mins':'Удельное количество минут в мес., мин./чел.',\n",
    "                'count_messages':'Удельное количество сообщений в мес., шт./чел.',\n",
    "                'sum_mb_used':'Удельное количество интернет-трафика в мес., Мб./чел.',\n",
    "                'revenue':'Средняя выручка в мес., руб./чел.'}\n",
    "\n",
    "    # расчет среднемесячной медианы для искомого показателя по каждому тарифу\n",
    "    df_filtered = dataframe.groupby(['tariff_name','month'])[column].median().groupby('tariff_name').median()          \n",
    "                \n",
    "    # barchart для искомого показателя\n",
    "    ax = df_filtered.plot(kind='bar',\n",
    "                          y=column,\n",
    "                          title=chart_name[column],\n",
    "                          figsize=(18,5),\n",
    "                          legend=False,\n",
    "                          color = ['#0AA1DD','#F76E11'],\n",
    "                          xlabel = \"\"\n",
    "                         )\n",
    "    # настройка подписей баров\n",
    "    ax.bar_label(ax.containers[0], label_type='edge', color='black', fontsize=15, padding=3)"
   ]
  },
  {
   "cell_type": "code",
   "execution_count": 1050,
   "metadata": {
    "scrolled": true
   },
   "outputs": [
    {
     "data": {
      "image/png": "[encoded data removed]",
      "text/plain": [
       "<Figure size 1080x360 with 1 Axes>"
      ]
     },
     "metadata": {},
     "output_type": "display_data"
    }
   ],
   "source": [
    "# количество пользователей тарифов\n",
    "pie_chart(df_merged,'user_id')"
   ]
  },
  {
   "cell_type": "markdown",
   "metadata": {},
   "source": [
    "💡 Согласно круговой диаграмме, пользователи тарифа Смарт составляют большую часть — около 70% выборки, остальную долю составляются пользователи тарифа Ультра (~30%)."
   ]
  },
  {
   "cell_type": "code",
   "execution_count": 1051,
   "metadata": {},
   "outputs": [
    {
     "data": {
      "image/png": "[encoded data removed]",
      "text/plain": [
       "<Figure size 1296x360 with 3 Axes>"
      ]
     },
     "metadata": {
      "needs_background": "light"
     },
     "output_type": "display_data"
    }
   ],
   "source": [
    "# настройка подложки\n",
    "plt.figure(figsize=(20,5))\n",
    "\n",
    "# барчарт \n",
    "plt.subplot(1,3,1)\n",
    "plt.ylim(0,700)\n",
    "bar_chart(df_merged,'sum_mins')\n",
    "\n",
    "#\n",
    "plt.subplot(1,3,2)\n",
    "plt.ylim(0,70)\n",
    "bar_chart(df_merged,'count_messages')\n",
    "\n",
    "#\n",
    "plt.subplot(1,3,3)\n",
    "plt.ylim(0,21000)\n",
    "bar_chart(df_merged,'sum_mb_used')"
   ]
  },
  {
   "cell_type": "markdown",
   "metadata": {},
   "source": [
    "💡 В среднем на пользователя тарифа Ультра в месяц приходится 510 минут связи, 35 сообщений и 19 Гб интернет-трафика. На пользователя тарифа Смарт  в месяц приходится 421 минута связи, 28 сообщений и 16 Гб трафика.    \n",
    "\n",
    "Различия в интенсивности использовании тарифа Ультра по сравнению с тарифом Смарт не столь существенны. Очевидно, что пользователи тарифа Ультра не в полной мере используют доступные им лимиты. Пользователи тарифа Смарт практически полностью выговаривают свои минуты, однако им явно не хватает включенных в тариф мегабайт интернета — средний пользователь переплачивает за 1 Гб дополнительного трафика.    \n",
    "\n",
    "Пользователи обоих тарифов слабо пользуются смс-сообщениями."
   ]
  },
  {
   "cell_type": "markdown",
   "metadata": {},
   "source": [
    "### Гистограммы распределения и описательные статистики"
   ]
  },
  {
   "cell_type": "code",
   "execution_count": 1052,
   "metadata": {},
   "outputs": [],
   "source": [
    "# определение функции для pie chart и описательных статистик\n",
    "def hist_chart(dataframe, column):\n",
    "\n",
    "    # названия графиков\n",
    "    chart_name={'sum_mins':'Гистограмма длительности звонков, мин.',\n",
    "                'count_messages':'Гистограмма количества сообщений, шт.',\n",
    "                'sum_mb_used':'Гистограмма объема интернет-трафика, Мб.',\n",
    "                'revenue':'Гистограмма выручки с пользователя, руб./мес.'}\n",
    "  \n",
    "    # названия осей\n",
    "    axis_name={'sum_mins':'длительность звонка, мин.',\n",
    "               'count_messages':'отправлено сообщений, шт.',\n",
    "               'sum_mb_used':'израсходовано интернет-трафика, Мб.',\n",
    "               'revenue':'выручка с пользователя, руб./мес.'}\n",
    "        \n",
    "    # гистограммы по тарифам\n",
    "    dataframe.query('tariff_name == \"smart\"')[column].plot(kind='hist', bins=40, figsize=(12,6), legend=False,\n",
    "                                                           ec='white', color='#0AA1DD', title=chart_name[column], alpha=0.8)\n",
    "    dataframe.query('tariff_name == \"ultra\"')[column].plot(kind='hist', bins=40, figsize=(12,6), legend=False,\n",
    "                                                           ec='white', color='#F76E11', title=chart_name[column], alpha=0.7)\n",
    "\n",
    "    # названия осей    \n",
    "    plt.xlabel(axis_name[column])\n",
    "    plt.ylabel(\"частота\")\n",
    "    plt.legend([\"smart\", \"ultra\"])\n",
    "    \n",
    "    # описательные статистики\n",
    "    df_stats = pd.DataFrame(\n",
    "        {'tariff': ['smart',\n",
    "                'ultra'],\n",
    "         'mean': [dataframe.query('tariff_name == \"smart\"')[column].mean(),\n",
    "             df_merged.query('tariff_name == \"ultra\"')[column].mean()\n",
    "                 ],\n",
    "         'median': [dataframe.query('tariff_name == \"smart\"')[column].median(),\n",
    "             df_merged.query('tariff_name == \"ultra\"')[column].median()\n",
    "                   ],\n",
    "         'variance': [dataframe.query('tariff_name == \"smart\"')[column].var(),\n",
    "             df_merged.query('tariff_name == \"ultra\"')[column].var()\n",
    "                     ],\n",
    "         'st. deviation': [df_merged.query('tariff_name == \"smart\"')[column].std(),\n",
    "             dataframe.query('tariff_name == \"ultra\"')[column].std()\n",
    "                          ]\n",
    "        }\n",
    "    )\n",
    "    display(df_stats.round(1))"
   ]
  },
  {
   "cell_type": "code",
   "execution_count": 1053,
   "metadata": {
    "scrolled": false
   },
   "outputs": [
    {
     "data": {
      "text/html": [
       "<div>\n",
       "<style scoped>\n",
       "    .dataframe tbody tr th:only-of-type {\n",
       "        vertical-align: middle;\n",
       "    }\n",
       "\n",
       "    .dataframe tbody tr th {\n",
       "        vertical-align: top;\n",
       "    }\n",
       "\n",
       "    .dataframe thead th {\n",
       "        text-align: right;\n",
       "    }\n",
       "</style>\n",
       "<table border=\"1\" class=\"dataframe\">\n",
       "  <thead>\n",
       "    <tr style=\"text-align: right;\">\n",
       "      <th></th>\n",
       "      <th>tariff</th>\n",
       "      <th>mean</th>\n",
       "      <th>median</th>\n",
       "      <th>variance</th>\n",
       "      <th>st. deviation</th>\n",
       "    </tr>\n",
       "  </thead>\n",
       "  <tbody>\n",
       "    <tr>\n",
       "      <th>0</th>\n",
       "      <td>smart</td>\n",
       "      <td>417.9</td>\n",
       "      <td>422.0</td>\n",
       "      <td>36219.3</td>\n",
       "      <td>190.3</td>\n",
       "    </tr>\n",
       "    <tr>\n",
       "      <th>1</th>\n",
       "      <td>ultra</td>\n",
       "      <td>526.6</td>\n",
       "      <td>518.0</td>\n",
       "      <td>100873.6</td>\n",
       "      <td>317.6</td>\n",
       "    </tr>\n",
       "  </tbody>\n",
       "</table>\n",
       "</div>"
      ],
      "text/plain": [
       "  tariff   mean  median  variance  st. deviation\n",
       "0  smart  417.9   422.0   36219.3          190.3\n",
       "1  ultra  526.6   518.0  100873.6          317.6"
      ]
     },
     "metadata": {},
     "output_type": "display_data"
    },
    {
     "data": {
      "image/png": "[encoded data removed]",
      "text/plain": [
       "<Figure size 864x432 with 1 Axes>"
      ]
     },
     "metadata": {
      "needs_background": "light"
     },
     "output_type": "display_data"
    }
   ],
   "source": [
    "# гистограмма длительности звонка и описательные статистики\n",
    "hist_chart(df_merged,'sum_mins')"
   ]
  },
  {
   "cell_type": "markdown",
   "metadata": {},
   "source": [
    "💡 Средняя и медианная продолжительность разговоров на тарифе Смарт и Ультра близки между собой. Арифметическое среднее составляет 417 и 419 минут соответственно. При этом форма распределения длительности звонков тарифа Смарт близка к нормальному. У тарифа Ультра присутствует длинный \"хвост\" значений — клиенты, которые разговаривают более 900 минут в месяц. Соответственно, среднеквадратическое отклонение длительности звонков тарифа Ультра более чем в 1.5 раза превышает отклонение отклонение длительности звонков клиентов Смарт."
   ]
  },
  {
   "cell_type": "code",
   "execution_count": 1054,
   "metadata": {
    "scrolled": false
   },
   "outputs": [
    {
     "data": {
      "text/html": [
       "<div>\n",
       "<style scoped>\n",
       "    .dataframe tbody tr th:only-of-type {\n",
       "        vertical-align: middle;\n",
       "    }\n",
       "\n",
       "    .dataframe tbody tr th {\n",
       "        vertical-align: top;\n",
       "    }\n",
       "\n",
       "    .dataframe thead th {\n",
       "        text-align: right;\n",
       "    }\n",
       "</style>\n",
       "<table border=\"1\" class=\"dataframe\">\n",
       "  <thead>\n",
       "    <tr style=\"text-align: right;\">\n",
       "      <th></th>\n",
       "      <th>tariff</th>\n",
       "      <th>mean</th>\n",
       "      <th>median</th>\n",
       "      <th>variance</th>\n",
       "      <th>st. deviation</th>\n",
       "    </tr>\n",
       "  </thead>\n",
       "  <tbody>\n",
       "    <tr>\n",
       "      <th>0</th>\n",
       "      <td>smart</td>\n",
       "      <td>33.4</td>\n",
       "      <td>28.0</td>\n",
       "      <td>796.8</td>\n",
       "      <td>28.2</td>\n",
       "    </tr>\n",
       "    <tr>\n",
       "      <th>1</th>\n",
       "      <td>ultra</td>\n",
       "      <td>49.4</td>\n",
       "      <td>38.0</td>\n",
       "      <td>2285.3</td>\n",
       "      <td>47.8</td>\n",
       "    </tr>\n",
       "  </tbody>\n",
       "</table>\n",
       "</div>"
      ],
      "text/plain": [
       "  tariff  mean  median  variance  st. deviation\n",
       "0  smart  33.4    28.0     796.8           28.2\n",
       "1  ultra  49.4    38.0    2285.3           47.8"
      ]
     },
     "metadata": {},
     "output_type": "display_data"
    },
    {
     "data": {
      "image/png": "[encoded data removed]",
      "text/plain": [
       "<Figure size 864x432 with 1 Axes>"
      ]
     },
     "metadata": {
      "needs_background": "light"
     },
     "output_type": "display_data"
    }
   ],
   "source": [
    "# гистограмма количества отправленных сообщений и описательные статистики\n",
    "hist_chart(df_merged,'count_messages')"
   ]
  },
  {
   "cell_type": "markdown",
   "metadata": {},
   "source": [
    "💡 Среди пользователей обоих тарифов присутствует большая группа клиентов практически не отправляющих сообщения. Распределения по обоим тарифам имеют скошенность вправо — существует меньшая часть клиентов, которая отправляет сообщения чаще, чем в среднем 33 сообщения для тарифа Смарт и 49 сообщений для тарифа Ультра."
   ]
  },
  {
   "cell_type": "code",
   "execution_count": 1055,
   "metadata": {},
   "outputs": [
    {
     "data": {
      "text/html": [
       "<div>\n",
       "<style scoped>\n",
       "    .dataframe tbody tr th:only-of-type {\n",
       "        vertical-align: middle;\n",
       "    }\n",
       "\n",
       "    .dataframe tbody tr th {\n",
       "        vertical-align: top;\n",
       "    }\n",
       "\n",
       "    .dataframe thead th {\n",
       "        text-align: right;\n",
       "    }\n",
       "</style>\n",
       "<table border=\"1\" class=\"dataframe\">\n",
       "  <thead>\n",
       "    <tr style=\"text-align: right;\">\n",
       "      <th></th>\n",
       "      <th>tariff</th>\n",
       "      <th>mean</th>\n",
       "      <th>median</th>\n",
       "      <th>variance</th>\n",
       "      <th>st. deviation</th>\n",
       "    </tr>\n",
       "  </thead>\n",
       "  <tbody>\n",
       "    <tr>\n",
       "      <th>0</th>\n",
       "      <td>smart</td>\n",
       "      <td>16207.9</td>\n",
       "      <td>16506.0</td>\n",
       "      <td>34462539.4</td>\n",
       "      <td>5870.5</td>\n",
       "    </tr>\n",
       "    <tr>\n",
       "      <th>1</th>\n",
       "      <td>ultra</td>\n",
       "      <td>19468.3</td>\n",
       "      <td>19308.0</td>\n",
       "      <td>101751094.0</td>\n",
       "      <td>10087.2</td>\n",
       "    </tr>\n",
       "  </tbody>\n",
       "</table>\n",
       "</div>"
      ],
      "text/plain": [
       "  tariff     mean   median     variance  st. deviation\n",
       "0  smart  16207.9  16506.0   34462539.4         5870.5\n",
       "1  ultra  19468.3  19308.0  101751094.0        10087.2"
      ]
     },
     "metadata": {},
     "output_type": "display_data"
    },
    {
     "data": {
      "image/png": "[encoded data removed]",
      "text/plain": [
       "<Figure size 864x432 with 1 Axes>"
      ]
     },
     "metadata": {
      "needs_background": "light"
     },
     "output_type": "display_data"
    }
   ],
   "source": [
    "# гистограмма объема интернет-трафика и описательные статистики\n",
    "hist_chart(df_merged,'sum_mb_used')"
   ]
  },
  {
   "cell_type": "markdown",
   "metadata": {},
   "source": [
    "💡 Пользователи тарифа Смарт в среднем в месяц используют 16 Гб интернет-трафика, а абоненты Ультра — почти 19.5 Гб. Таким образом, больше половины пользователей Смарт переплачивают за дополнительный интернет, а пользователи Ультра, не смотря на более активное использование интернета, в среднем \"недоиспользуют\" более 10 Гб трафика в рамках своего тарифа.    \n",
    "\n",
    "Форма распределения потребления мегабайт интернета по тарифу Смарт близка к нормальному. Распределение по тарифу Ультра имеет длинный хвост вправо, также включающий группу пользователей выходящих за тарифный лимит. Среднеквадратичное оклонение значений по тарифу Ультра характеризуется более сильным разбросом чем значения тарифа Смарт."
   ]
  },
  {
   "cell_type": "code",
   "execution_count": 1056,
   "metadata": {
    "scrolled": false
   },
   "outputs": [
    {
     "data": {
      "text/html": [
       "<div>\n",
       "<style scoped>\n",
       "    .dataframe tbody tr th:only-of-type {\n",
       "        vertical-align: middle;\n",
       "    }\n",
       "\n",
       "    .dataframe tbody tr th {\n",
       "        vertical-align: top;\n",
       "    }\n",
       "\n",
       "    .dataframe thead th {\n",
       "        text-align: right;\n",
       "    }\n",
       "</style>\n",
       "<table border=\"1\" class=\"dataframe\">\n",
       "  <thead>\n",
       "    <tr style=\"text-align: right;\">\n",
       "      <th></th>\n",
       "      <th>tariff</th>\n",
       "      <th>mean</th>\n",
       "      <th>median</th>\n",
       "      <th>variance</th>\n",
       "      <th>st. deviation</th>\n",
       "    </tr>\n",
       "  </thead>\n",
       "  <tbody>\n",
       "    <tr>\n",
       "      <th>0</th>\n",
       "      <td>smart</td>\n",
       "      <td>1290.0</td>\n",
       "      <td>1023.0</td>\n",
       "      <td>669785.7</td>\n",
       "      <td>818.4</td>\n",
       "    </tr>\n",
       "    <tr>\n",
       "      <th>1</th>\n",
       "      <td>ultra</td>\n",
       "      <td>2070.2</td>\n",
       "      <td>1950.0</td>\n",
       "      <td>141516.7</td>\n",
       "      <td>376.2</td>\n",
       "    </tr>\n",
       "  </tbody>\n",
       "</table>\n",
       "</div>"
      ],
      "text/plain": [
       "  tariff    mean  median  variance  st. deviation\n",
       "0  smart  1290.0  1023.0  669785.7          818.4\n",
       "1  ultra  2070.2  1950.0  141516.7          376.2"
      ]
     },
     "metadata": {},
     "output_type": "display_data"
    },
    {
     "data": {
      "image/png": "[encoded data removed]",
      "text/plain": [
       "<Figure size 864x432 with 1 Axes>"
      ]
     },
     "metadata": {
      "needs_background": "light"
     },
     "output_type": "display_data"
    }
   ],
   "source": [
    "# гистограмма выручки с пользователя\n",
    "hist_chart(df_merged,'revenue')"
   ]
  },
  {
   "cell_type": "code",
   "execution_count": 1057,
   "metadata": {},
   "outputs": [
    {
     "data": {
      "image/png": "[encoded data removed]",
      "text/plain": [
       "<Figure size 1296x360 with 1 Axes>"
      ]
     },
     "metadata": {
      "needs_background": "light"
     },
     "output_type": "display_data"
    }
   ],
   "source": [
    "# средняя выручка на пользователя\n",
    "plt.ylim(0,2500)\n",
    "bar_chart(df_merged,'revenue')"
   ]
  },
  {
   "cell_type": "markdown",
   "metadata": {},
   "source": [
    "💡 Гистограммы месячной выручки с пользователей имеют два характерных пиковых значения, находящихся возле размера ежемесячной платы по тарифу — большая часть пользователей стараются не переплачивать много. Малое количество таких превышений тарифной платы у пользователей Ультра, однако у клиентов Смарт переплачивающих пользователей гораздо больше. Очевидно, что существует достаточная часть клиентов, которым не хватает тарифа Смарт, тем не менее, по какой то причине они не переходят на тариф Ультра, возможно из-за того, что такие экстра платежи носят не систематический характер, или из-за недостаточной маркетинговой активности тарифа Ультра.    \n",
    "В расчете на пользователя в среднем один клиент тарифа Ультра приносит в 2 раза больше денег, чем клиент тарифа Смарт: 1950 руб./мес. против 970 руб./мес. Далее данное различие будет проверено на статистическую значимость."
   ]
  },
  {
   "cell_type": "markdown",
   "metadata": {},
   "source": [
    "### Выводы"
   ]
  },
  {
   "cell_type": "markdown",
   "metadata": {},
   "source": [
    "В ходе исследовательского анализа данных выявлены следующие инсайты:    \n",
    "* Поведение пользователей тарифа Ультра не слишком отличается от поведения клиентов Смарт. В пользу этого говорят удельные значения использования минут, сообщений и интернет-трафика — в среднем активность клиентов более дорого тарифа едва превышает лимиты более дешевого тарифа.\n",
    "* Таким образом клиенты тарифа Ультра в большом объеме недоиспользуют лимиты своего тарифного плана. Остаток интернет-трафика составляет около 10 Гб на среднего пользователя.\n",
    "* Напротив, клиентам Смарт остро не хватает интернет-трафика, что влечет за собой сравнительно большое количество переплат.\n",
    "* Клиентов Смарт выходящих за рамки тарифа существенно больше чем переплачивающих пользователей Ультра. В пользу этого говорит и медианное значение ежемесячной выручки с пользователя Смарт — 1023 руб. при стоимости тарифа 550 руб.\n",
    "* В расчете на пользователя в среднем один клиент тарифа Ультра приносит в 2 раза больше денег, чем клиент тарифа Смарт."
   ]
  },
  {
   "cell_type": "markdown",
   "metadata": {},
   "source": [
    "## Проверка гипотез"
   ]
  },
  {
   "cell_type": "markdown",
   "metadata": {},
   "source": [
    "### Гипотеза о различиях в выручке в зависимости от тарифа"
   ]
  },
  {
   "cell_type": "markdown",
   "metadata": {},
   "source": [
    "**Обработка редких и выбивающихся значений**"
   ]
  },
  {
   "cell_type": "markdown",
   "metadata": {},
   "source": [
    "Построим диаграммы размаха для определения границ выбросов для показателя revenue в зависимости от тарифа:"
   ]
  },
  {
   "cell_type": "code",
   "execution_count": 1058,
   "metadata": {
    "scrolled": true
   },
   "outputs": [
    {
     "data": {
      "text/plain": [
       "<AxesSubplot:title={'center':'ultra'}>"
      ]
     },
     "execution_count": 1058,
     "metadata": {},
     "output_type": "execute_result"
    },
    {
     "data": {
      "image/png": "[encoded data removed]",
      "text/plain": [
       "<Figure size 720x288 with 2 Axes>"
      ]
     },
     "metadata": {
      "needs_background": "light"
     },
     "output_type": "display_data"
    }
   ],
   "source": [
    "# настройка подложки\n",
    "plt.figure(figsize=(10, 4))\n",
    "\n",
    "# диаграммы размаха\n",
    "plt.subplot(1,2,1)\n",
    "plt.title('smart')\n",
    "df_merged.query('tariff_name == \"smart\"').boxplot(column='revenue')\n",
    "\n",
    "plt.subplot(1,2,2)\n",
    "plt.title('ultra')\n",
    "df_merged.query('tariff_name == \"ultra\"').boxplot(column='revenue')"
   ]
  },
  {
   "cell_type": "code",
   "execution_count": 1059,
   "metadata": {},
   "outputs": [],
   "source": [
    "def boxplot_limits(dataframe, column):\n",
    "    median = np.median(dataframe[column])\n",
    "    upper_quartile = np.percentile(dataframe[column], 75)\n",
    "    lower_quartile = np.percentile(dataframe[column], 25)\n",
    "\n",
    "    iqr = upper_quartile - lower_quartile\n",
    "    upper_whisker = dataframe[column][dataframe[column]<=upper_quartile+1.5*iqr].max()\n",
    "    lower_whisker = dataframe[column][dataframe[column]>=lower_quartile-1.5*iqr].min()\n",
    "\n",
    "    print('Верхняя граница выбросов: ', upper_whisker)\n",
    "    print('Нижняя граница выбросов: ', lower_whisker)\n",
    "    \n",
    "    return lower_whisker, upper_whisker"
   ]
  },
  {
   "cell_type": "code",
   "execution_count": 1060,
   "metadata": {
    "scrolled": true
   },
   "outputs": [
    {
     "name": "stdout",
     "output_type": "stream",
     "text": [
      "Верхняя граница выбросов:  3550\n",
      "Нижняя граница выбросов:  550\n"
     ]
    }
   ],
   "source": [
    "# определение границ для тарифа smart\n",
    "bottom_line_smart, upper_line_smart = boxplot_limits(df_merged.query('tariff_name == \"smart\"'), 'revenue')"
   ]
  },
  {
   "cell_type": "code",
   "execution_count": 1061,
   "metadata": {},
   "outputs": [],
   "source": [
    "# удаление выбивающихся значений revenue в срезе по тарифу smart\n",
    "df_merged_revenue_smart = df_merged.query('((tariff_name == \"smart\") and (@bottom_line_smart <= revenue <= @upper_line_smart))')"
   ]
  },
  {
   "cell_type": "code",
   "execution_count": 1062,
   "metadata": {},
   "outputs": [
    {
     "name": "stdout",
     "output_type": "stream",
     "text": [
      "Верхняя граница выбросов:  1950\n",
      "Нижняя граница выбросов:  1950\n"
     ]
    }
   ],
   "source": [
    "# определение границ для тарифа ultra\n",
    "bottom_line_ultra, upper_line_ultra = boxplot_limits(df_merged.query('tariff_name == \"ultra\"'), 'revenue')"
   ]
  },
  {
   "cell_type": "code",
   "execution_count": 1063,
   "metadata": {},
   "outputs": [],
   "source": [
    "# удаление выбивающихся значений revenue в срезе по тарифу ultra\n",
    "df_merged_revenue_ultra = df_merged.query('((tariff_name == \"ultra\") and (@bottom_line_ultra <= revenue <= @upper_line_ultra))')"
   ]
  },
  {
   "cell_type": "markdown",
   "metadata": {},
   "source": [
    "**Формулирование и проверка гипотез**"
   ]
  },
  {
   "cell_type": "markdown",
   "metadata": {},
   "source": [
    "**Нулевая гипотеза (H0)** — статистически значимые различия в средней выручке пользователей тарифов Смарт и Ультра отсутствуют.    \n",
    "\n",
    "**Альтернативная гипотеза (H1)** — средняя выручка пользователей тарифа Смарт отличается от средней выручки пользователей тарифа Ультра."
   ]
  },
  {
   "cell_type": "markdown",
   "metadata": {},
   "source": [
    "Проверим гипотезу о различиях средней выручки пользователей тарифов Смарт и Ультра путем сравнения средних двух генеральных совокупностей по взятым из них выборкам с помощью метода ttest_ind:"
   ]
  },
  {
   "cell_type": "code",
   "execution_count": 1064,
   "metadata": {},
   "outputs": [],
   "source": [
    "# критический уровень статистической значимости\n",
    "# если p-value окажется меньше него - отвергаем нулевую гипотезу\n",
    "alpha = .05"
   ]
  },
  {
   "cell_type": "code",
   "execution_count": 1065,
   "metadata": {},
   "outputs": [
    {
     "name": "stdout",
     "output_type": "stream",
     "text": [
      "p-value: 6.199325734910118e-155\n",
      "Отвергаем нулевую гипотезу\n"
     ]
    }
   ],
   "source": [
    "# проверка гипотезы\n",
    "results_1st_hyp = st.ttest_ind(df_merged_revenue_smart['revenue'], df_merged_revenue_ultra['revenue'])\n",
    "\n",
    "print('p-value:', results_1st_hyp.pvalue)\n",
    "\n",
    "if results_1st_hyp.pvalue < alpha:\n",
    "    print('Отвергаем нулевую гипотезу')\n",
    "else:\n",
    "    print('Не отвергаем нулевую гипотезу')"
   ]
  },
  {
   "cell_type": "markdown",
   "metadata": {},
   "source": [
    "💡 P-value меньше критического уровня статистической значимости, следовательно мы отвергаем нулевую гипотезу и можем сделать вывод о наличии статистически значимых различий в средней выручке между пользователями тарифов Смарт и Ультра."
   ]
  },
  {
   "cell_type": "markdown",
   "metadata": {},
   "source": [
    "### Гипотеза о различиях в выручке в зависимости от региона"
   ]
  },
  {
   "cell_type": "markdown",
   "metadata": {},
   "source": [
    "**Обработка редких и выбивающихся значений**"
   ]
  },
  {
   "cell_type": "markdown",
   "metadata": {},
   "source": [
    "Построим диаграммы размаха для определения границ выбросов для показателя revenue в зависимости от локации:"
   ]
  },
  {
   "cell_type": "code",
   "execution_count": 1066,
   "metadata": {},
   "outputs": [
    {
     "data": {
      "text/plain": [
       "<AxesSubplot:title={'center':'Регионы'}>"
      ]
     },
     "execution_count": 1066,
     "metadata": {},
     "output_type": "execute_result"
    },
    {
     "data": {
      "image/png": "[encoded data removed]",
      "text/plain": [
       "<Figure size 720x288 with 2 Axes>"
      ]
     },
     "metadata": {
      "needs_background": "light"
     },
     "output_type": "display_data"
    }
   ],
   "source": [
    "# настройка подложки\n",
    "plt.figure(figsize=(10, 4))\n",
    "\n",
    "# диаграммы размаха\n",
    "plt.subplot(1,2,1)\n",
    "plt.title('Москва')\n",
    "df_merged.query('city == \"Москва\"').boxplot(column='revenue')\n",
    "\n",
    "plt.subplot(1,2,2)\n",
    "plt.title('Регионы')\n",
    "df_merged.query('~(city == \"Москва\")').boxplot(column='revenue')"
   ]
  },
  {
   "cell_type": "code",
   "execution_count": 1067,
   "metadata": {
    "scrolled": true
   },
   "outputs": [
    {
     "name": "stdout",
     "output_type": "stream",
     "text": [
      "Верхняя граница выбросов:  3450\n",
      "Нижняя граница выбросов:  550\n"
     ]
    }
   ],
   "source": [
    "# определение границ для пользователей из Москва\n",
    "bottom_line_mos, upper_line_mos = boxplot_limits(df_merged.query('city == \"Москва\"'), 'revenue')"
   ]
  },
  {
   "cell_type": "code",
   "execution_count": 1068,
   "metadata": {},
   "outputs": [],
   "source": [
    "# удаление выбивающихся значений revenue для Москвы\n",
    "df_merged_revenue_mos = df_merged.query('((city == \"Москва\") and (@bottom_line_mos <= revenue <= @upper_line_mos))')"
   ]
  },
  {
   "cell_type": "code",
   "execution_count": 1069,
   "metadata": {},
   "outputs": [
    {
     "name": "stdout",
     "output_type": "stream",
     "text": [
      "Верхняя граница выбросов:  3750\n",
      "Нижняя граница выбросов:  550\n"
     ]
    }
   ],
   "source": [
    "# определение границ для для пользователей из других регионов\n",
    "bottom_line_reg, upper_line_reg = boxplot_limits(df_merged.query('~(city == \"Москва\")'), 'revenue')"
   ]
  },
  {
   "cell_type": "code",
   "execution_count": 1070,
   "metadata": {},
   "outputs": [],
   "source": [
    "# удаление выбивающихся значений revenue для прочих регионов\n",
    "df_merged_revenue_reg = df_merged.query('((~(city == \"Москва\")) and (@bottom_line_reg <= revenue <= @upper_line_reg))')"
   ]
  },
  {
   "cell_type": "markdown",
   "metadata": {},
   "source": [
    "**Формулирование и проверка гипотез**"
   ]
  },
  {
   "cell_type": "markdown",
   "metadata": {},
   "source": [
    "**Нулевая гипотеза (H0)** — средняя выручка пользователей из Москвы не отличается от выручки пользователей из других регионов.    \n",
    "\n",
    "**Альтернативная гипотеза (H1)** — существуют значимые различия в средней выручке пользователей из Москвы и выручке пользователей из других регионов."
   ]
  },
  {
   "cell_type": "markdown",
   "metadata": {},
   "source": [
    "Проверим гипотезы о равенстве среднего двух генеральных совокупностей по взятым из них выборкам:"
   ]
  },
  {
   "cell_type": "code",
   "execution_count": 1071,
   "metadata": {},
   "outputs": [],
   "source": [
    "# критический уровень статистической значимости\n",
    "# если p-value окажется меньше него - отвергаем нулевую гипотезу\n",
    "alpha = .05"
   ]
  },
  {
   "cell_type": "code",
   "execution_count": 1072,
   "metadata": {},
   "outputs": [
    {
     "name": "stdout",
     "output_type": "stream",
     "text": [
      "p-value: 0.29404256281786195\n",
      "Не отвергаем нулевую гипотезу\n"
     ]
    }
   ],
   "source": [
    "# проверка гипотезы\n",
    "results_2st_hyp = st.ttest_ind(df_merged_revenue_mos['revenue'], df_merged_revenue_reg['revenue'])\n",
    "\n",
    "print('p-value:', results_2st_hyp.pvalue)\n",
    "\n",
    "if results_2st_hyp.pvalue < alpha:\n",
    "    print('Отвергаем нулевую гипотезу')\n",
    "else:\n",
    "    print('Не отвергаем нулевую гипотезу')"
   ]
  },
  {
   "cell_type": "markdown",
   "metadata": {},
   "source": [
    "💡 P-value больше критического уровня статистической значимости — вероятность случайно получить различие в средних генеральных совокупностей составляет 29.4%, что гораздо больше выбранного критического уровня значимости, следовательно мы не можем отвергнуть нулевую гипотезу о равенстве средних выручек между пользователями из Москвы и других регионов. Другими словами, средняя выручка пользователей из Москвы значимо не отличается от выручки пользователей из других регионов."
   ]
  },
  {
   "cell_type": "markdown",
   "metadata": {},
   "source": [
    "## Общий вывод"
   ]
  },
  {
   "cell_type": "code",
   "execution_count": 1073,
   "metadata": {
    "scrolled": true
   },
   "outputs": [
    {
     "data": {
      "image/png": "[encoded data removed]",
      "text/plain": [
       "<Figure size 1296x360 with 2 Axes>"
      ]
     },
     "metadata": {
      "needs_background": "light"
     },
     "output_type": "display_data"
    }
   ],
   "source": [
    "# настройка подложки\n",
    "plt.figure(figsize=(10, 4))\n",
    "\n",
    "# pie chart\n",
    "plt.subplot(1,2,1)\n",
    "pie_chart(df_merged,'revenue')\n",
    "\n",
    "# bar chart\n",
    "plt.subplot(1,2,2)\n",
    "plt.ylim(0,2500)\n",
    "bar_chart(df_merged,'revenue')"
   ]
  },
  {
   "cell_type": "markdown",
   "metadata": {},
   "source": [
    "В рассматриваемой выборке доля клиентов тарифа Смарт больше, чем клиентов тарифа Ультра (70% и 30% соответственно). Соответствующим образом клиенты Смарт занимают большую долю в абсолютной выручке 2018 г. — 58.5% или 2.9 млн. руб.  Однако в удельном выражении в среднем один клиент тарифа Ультра приносит в 2 раза больше денег, чем клиент тарифа Смарт: 1950 руб./мес. против 970 руб./мес. Различия в средней выручке между пользователями тарифов Смарт и Ультра статистически значимы.\n",
    "\n",
    "**Таким образом, исходя из критерия прибыльности,  можно заключить что тариф Ультра выглядит привлекательнее для сотового оператора, чем тариф Смарт.**\n",
    "\n",
    "Касательно поведения клиентов в рамках тарифных планов выявлено, что интенсивность использования обоих тарифов примерно одинакова, однако большей части пользователей тарифа Смарт не хватает включенного в пакет интернета, что вынуждает их платить дополнительно сверх абонентской платы. Напротив, большинство пользователей тарифа Ультра не в полной мере используют доступные по тарифу лимиты.    \n",
    "Утверждать, что средняя выручка пользователей из Москвы статистически значимо отличается от выручки пользователей из других регионов нельзя.\n",
    "\n",
    "\n",
    "*Рекомендации:*\n",
    "* Провести дополнительный анализ оттока клиентов тарифа Смарт и проверить гипотезу влияния повышенной переплаты клиентов на эту метрику. Возможно имеет смысл пересмотреть лимиты по данному тарифу, если переплаты негативно сказываются на удовлетворенности пользователей;\n",
    "* Альтернативный вариант — создание еще одного тарифа, который будет покрывать потребности группы людей переплачивающих более 400 руб. по тарифу Смарт;\n",
    "* Сделать финансовые расчеты целесообразности запуска рекламной кампании для клиентов Ультра. При одинаковой стоимости привлечения клиента ROI рекламы для клиента Смарт будет хуже. Однако, резонно предположить, что рекламная кампания для клиентов Ультра будет стоить дороже в расчете на привлеченного пользователя. Запуск рекламной кампании для клиентов тарифа Ультра имеет смысл, пока её стоимость в расчете на одного привлеченного клиента не превышает двукратной стоимости привлечения клиента тарифа Смарт. Например, если затраты на привлечение клиента Смарт составляют 100 руб., то концентрация маркетинговых усилий на привлечении клиентов Ультра эффективна, пока стоимость их привлечения остается меньше 200 руб."
   ]
  }
 ],
 "metadata": {
  "ExecuteTimeLog": [
   {
    "duration": 1664,
    "start_time": "2022-05-30T18:24:28.170Z"
   },
   {
    "duration": 3,
    "start_time": "2022-05-30T18:24:29.837Z"
   },
   {
    "duration": 1103,
    "start_time": "2022-05-30T18:24:29.842Z"
   },
   {
    "duration": 29,
    "start_time": "2022-05-30T18:24:30.946Z"
   },
   {
    "duration": 44,
    "start_time": "2022-05-30T18:24:30.978Z"
   },
   {
    "duration": 45,
    "start_time": "2022-05-30T18:24:31.024Z"
   },
   {
    "duration": 59,
    "start_time": "2022-05-30T18:24:31.072Z"
   },
   {
    "duration": 33,
    "start_time": "2022-05-30T18:24:31.133Z"
   },
   {
    "duration": 250,
    "start_time": "2022-05-30T18:24:31.168Z"
   },
   {
    "duration": 16,
    "start_time": "2022-05-30T18:24:31.424Z"
   },
   {
    "duration": 46,
    "start_time": "2022-05-30T18:24:31.443Z"
   },
   {
    "duration": 29,
    "start_time": "2022-05-30T18:24:31.491Z"
   },
   {
    "duration": 36,
    "start_time": "2022-05-30T18:24:31.523Z"
   },
   {
    "duration": 27,
    "start_time": "2022-05-30T18:24:31.562Z"
   },
   {
    "duration": 22,
    "start_time": "2022-05-30T18:24:31.591Z"
   },
   {
    "duration": 10,
    "start_time": "2022-05-30T18:24:31.614Z"
   },
   {
    "duration": 9,
    "start_time": "2022-05-30T18:24:31.626Z"
   },
   {
    "duration": 14,
    "start_time": "2022-05-30T18:24:31.636Z"
   },
   {
    "duration": 42,
    "start_time": "2022-05-30T18:24:31.652Z"
   },
   {
    "duration": 4,
    "start_time": "2022-05-30T18:24:31.696Z"
   },
   {
    "duration": 24,
    "start_time": "2022-05-30T18:24:31.702Z"
   },
   {
    "duration": 26,
    "start_time": "2022-05-30T18:24:31.728Z"
   },
   {
    "duration": 30,
    "start_time": "2022-05-30T18:24:31.756Z"
   },
   {
    "duration": 4,
    "start_time": "2022-05-30T18:24:31.787Z"
   },
   {
    "duration": 52,
    "start_time": "2022-05-30T18:24:31.793Z"
   },
   {
    "duration": 26,
    "start_time": "2022-05-30T18:24:31.848Z"
   },
   {
    "duration": 11,
    "start_time": "2022-05-30T18:24:31.876Z"
   },
   {
    "duration": 10,
    "start_time": "2022-05-30T18:24:31.889Z"
   },
   {
    "duration": 41,
    "start_time": "2022-05-30T18:24:31.901Z"
   },
   {
    "duration": 39,
    "start_time": "2022-05-30T18:24:31.944Z"
   },
   {
    "duration": 61,
    "start_time": "2022-05-30T18:24:31.985Z"
   },
   {
    "duration": 30,
    "start_time": "2022-05-30T18:24:32.048Z"
   },
   {
    "duration": 32,
    "start_time": "2022-05-30T18:24:32.080Z"
   },
   {
    "duration": 29,
    "start_time": "2022-05-30T18:24:32.114Z"
   },
   {
    "duration": 29,
    "start_time": "2022-05-30T18:24:32.147Z"
   },
   {
    "duration": 49,
    "start_time": "2022-05-30T18:24:32.178Z"
   },
   {
    "duration": 60,
    "start_time": "2022-05-30T18:24:32.229Z"
   },
   {
    "duration": 33,
    "start_time": "2022-05-30T18:24:32.290Z"
   },
   {
    "duration": 33,
    "start_time": "2022-05-30T18:24:32.325Z"
   },
   {
    "duration": 53,
    "start_time": "2022-05-30T18:24:32.360Z"
   },
   {
    "duration": 30,
    "start_time": "2022-05-30T18:24:32.418Z"
   },
   {
    "duration": 34,
    "start_time": "2022-05-30T18:24:32.450Z"
   },
   {
    "duration": 12,
    "start_time": "2022-05-30T18:24:32.485Z"
   },
   {
    "duration": 29,
    "start_time": "2022-05-30T18:24:32.499Z"
   },
   {
    "duration": 8,
    "start_time": "2022-05-30T18:24:32.530Z"
   },
   {
    "duration": 36,
    "start_time": "2022-05-30T18:24:46.641Z"
   },
   {
    "duration": 3,
    "start_time": "2022-05-30T18:24:51.775Z"
   },
   {
    "duration": 101,
    "start_time": "2022-05-30T18:24:55.017Z"
   },
   {
    "duration": 1151,
    "start_time": "2022-05-30T18:29:38.782Z"
   },
   {
    "duration": 3,
    "start_time": "2022-05-30T18:29:39.935Z"
   },
   {
    "duration": 452,
    "start_time": "2022-05-30T18:29:39.939Z"
   },
   {
    "duration": 33,
    "start_time": "2022-05-30T18:29:40.392Z"
   },
   {
    "duration": 34,
    "start_time": "2022-05-30T18:29:40.434Z"
   },
   {
    "duration": 22,
    "start_time": "2022-05-30T18:29:40.470Z"
   },
   {
    "duration": 50,
    "start_time": "2022-05-30T18:29:40.493Z"
   },
   {
    "duration": 16,
    "start_time": "2022-05-30T18:29:40.544Z"
   },
   {
    "duration": 241,
    "start_time": "2022-05-30T18:29:40.561Z"
   },
   {
    "duration": 25,
    "start_time": "2022-05-30T18:29:40.806Z"
   },
   {
    "duration": 36,
    "start_time": "2022-05-30T18:29:40.833Z"
   },
   {
    "duration": 12,
    "start_time": "2022-05-30T18:29:40.871Z"
   },
   {
    "duration": 47,
    "start_time": "2022-05-30T18:29:40.884Z"
   },
   {
    "duration": 23,
    "start_time": "2022-05-30T18:29:40.935Z"
   },
   {
    "duration": 13,
    "start_time": "2022-05-30T18:29:40.959Z"
   },
   {
    "duration": 12,
    "start_time": "2022-05-30T18:29:40.973Z"
   },
   {
    "duration": 7,
    "start_time": "2022-05-30T18:29:40.987Z"
   },
   {
    "duration": 39,
    "start_time": "2022-05-30T18:29:40.995Z"
   },
   {
    "duration": 37,
    "start_time": "2022-05-30T18:29:41.038Z"
   },
   {
    "duration": 3,
    "start_time": "2022-05-30T18:29:41.077Z"
   },
   {
    "duration": 12,
    "start_time": "2022-05-30T18:29:41.082Z"
   },
   {
    "duration": 38,
    "start_time": "2022-05-30T18:29:41.096Z"
   },
   {
    "duration": 18,
    "start_time": "2022-05-30T18:29:41.136Z"
   },
   {
    "duration": 3,
    "start_time": "2022-05-30T18:29:41.156Z"
   },
   {
    "duration": 23,
    "start_time": "2022-05-30T18:29:41.161Z"
   },
   {
    "duration": 39,
    "start_time": "2022-05-30T18:29:41.186Z"
   },
   {
    "duration": 10,
    "start_time": "2022-05-30T18:29:41.227Z"
   },
   {
    "duration": 15,
    "start_time": "2022-05-30T18:29:41.238Z"
   },
   {
    "duration": 16,
    "start_time": "2022-05-30T18:29:41.255Z"
   },
   {
    "duration": 6,
    "start_time": "2022-05-30T18:29:41.273Z"
   },
   {
    "duration": 14,
    "start_time": "2022-05-30T18:29:41.280Z"
   },
   {
    "duration": 50,
    "start_time": "2022-05-30T18:29:41.295Z"
   },
   {
    "duration": 8,
    "start_time": "2022-05-30T18:29:41.347Z"
   },
   {
    "duration": 6,
    "start_time": "2022-05-30T18:29:41.356Z"
   },
   {
    "duration": 10,
    "start_time": "2022-05-30T18:29:41.363Z"
   },
   {
    "duration": 38,
    "start_time": "2022-05-30T18:29:41.375Z"
   },
   {
    "duration": 72,
    "start_time": "2022-05-30T18:29:41.416Z"
   },
   {
    "duration": 27,
    "start_time": "2022-05-30T18:29:41.490Z"
   },
   {
    "duration": 42,
    "start_time": "2022-05-30T18:29:41.520Z"
   },
   {
    "duration": 20,
    "start_time": "2022-05-30T18:29:41.564Z"
   },
   {
    "duration": 36,
    "start_time": "2022-05-30T18:29:41.587Z"
   },
   {
    "duration": 19,
    "start_time": "2022-05-30T18:29:41.625Z"
   },
   {
    "duration": 12,
    "start_time": "2022-05-30T18:29:41.646Z"
   },
   {
    "duration": 17,
    "start_time": "2022-05-30T18:29:41.660Z"
   },
   {
    "duration": 7,
    "start_time": "2022-05-30T18:29:41.678Z"
   },
   {
    "duration": 3,
    "start_time": "2022-05-30T18:29:41.687Z"
   },
   {
    "duration": 13,
    "start_time": "2022-05-30T18:29:41.701Z"
   },
   {
    "duration": 25,
    "start_time": "2022-05-30T18:29:41.715Z"
   },
   {
    "duration": 9,
    "start_time": "2022-05-30T18:29:41.741Z"
   },
   {
    "duration": 14,
    "start_time": "2022-05-30T18:29:41.752Z"
   },
   {
    "duration": 4,
    "start_time": "2022-05-30T18:29:41.768Z"
   },
   {
    "duration": 8,
    "start_time": "2022-05-30T18:29:41.774Z"
   },
   {
    "duration": 34,
    "start_time": "2022-05-30T18:29:41.783Z"
   },
   {
    "duration": 22,
    "start_time": "2022-05-30T18:29:41.818Z"
   },
   {
    "duration": 11,
    "start_time": "2022-05-30T18:29:41.843Z"
   },
   {
    "duration": 38,
    "start_time": "2022-05-30T18:29:41.856Z"
   },
   {
    "duration": 8,
    "start_time": "2022-05-30T18:29:58.278Z"
   },
   {
    "duration": 11,
    "start_time": "2022-05-30T18:36:19.275Z"
   },
   {
    "duration": 112,
    "start_time": "2022-05-30T18:36:42.255Z"
   },
   {
    "duration": 5,
    "start_time": "2022-05-30T18:36:49.870Z"
   },
   {
    "duration": 6,
    "start_time": "2022-05-30T18:36:55.567Z"
   },
   {
    "duration": 1154,
    "start_time": "2022-05-30T18:52:05.181Z"
   },
   {
    "duration": 3,
    "start_time": "2022-05-30T18:52:06.336Z"
   },
   {
    "duration": 445,
    "start_time": "2022-05-30T18:52:06.341Z"
   },
   {
    "duration": 31,
    "start_time": "2022-05-30T18:52:06.787Z"
   },
   {
    "duration": 57,
    "start_time": "2022-05-30T18:52:06.821Z"
   },
   {
    "duration": 48,
    "start_time": "2022-05-30T18:52:06.880Z"
   },
   {
    "duration": 30,
    "start_time": "2022-05-30T18:52:06.930Z"
   },
   {
    "duration": 41,
    "start_time": "2022-05-30T18:52:06.962Z"
   },
   {
    "duration": 257,
    "start_time": "2022-05-30T18:52:07.004Z"
   },
   {
    "duration": 15,
    "start_time": "2022-05-30T18:52:07.265Z"
   },
   {
    "duration": 62,
    "start_time": "2022-05-30T18:52:07.282Z"
   },
   {
    "duration": 17,
    "start_time": "2022-05-30T18:52:07.346Z"
   },
   {
    "duration": 47,
    "start_time": "2022-05-30T18:52:07.365Z"
   },
   {
    "duration": 33,
    "start_time": "2022-05-30T18:52:07.416Z"
   },
   {
    "duration": 6,
    "start_time": "2022-05-30T18:52:07.451Z"
   },
   {
    "duration": 6,
    "start_time": "2022-05-30T18:52:07.459Z"
   },
   {
    "duration": 8,
    "start_time": "2022-05-30T18:52:07.467Z"
   },
   {
    "duration": 35,
    "start_time": "2022-05-30T18:52:07.477Z"
   },
   {
    "duration": 55,
    "start_time": "2022-05-30T18:52:07.514Z"
   },
   {
    "duration": 4,
    "start_time": "2022-05-30T18:52:07.572Z"
   },
   {
    "duration": 6,
    "start_time": "2022-05-30T18:52:07.578Z"
   },
   {
    "duration": 33,
    "start_time": "2022-05-30T18:52:07.586Z"
   },
   {
    "duration": 22,
    "start_time": "2022-05-30T18:52:07.620Z"
   },
   {
    "duration": 4,
    "start_time": "2022-05-30T18:52:07.643Z"
   },
   {
    "duration": 18,
    "start_time": "2022-05-30T18:52:07.649Z"
   },
   {
    "duration": 50,
    "start_time": "2022-05-30T18:52:07.669Z"
   },
   {
    "duration": 3,
    "start_time": "2022-05-30T18:52:07.721Z"
   },
   {
    "duration": 4,
    "start_time": "2022-05-30T18:52:07.730Z"
   },
   {
    "duration": 25,
    "start_time": "2022-05-30T18:52:07.736Z"
   },
   {
    "duration": 7,
    "start_time": "2022-05-30T18:52:07.763Z"
   },
   {
    "duration": 38,
    "start_time": "2022-05-30T18:52:07.772Z"
   },
   {
    "duration": 21,
    "start_time": "2022-05-30T18:52:07.812Z"
   },
   {
    "duration": 11,
    "start_time": "2022-05-30T18:52:07.835Z"
   },
   {
    "duration": 6,
    "start_time": "2022-05-30T18:52:07.848Z"
   },
   {
    "duration": 13,
    "start_time": "2022-05-30T18:52:07.856Z"
   },
   {
    "duration": 48,
    "start_time": "2022-05-30T18:52:07.871Z"
   },
   {
    "duration": 61,
    "start_time": "2022-05-30T18:52:07.920Z"
   },
   {
    "duration": 35,
    "start_time": "2022-05-30T18:52:07.983Z"
   },
   {
    "duration": 32,
    "start_time": "2022-05-30T18:52:08.020Z"
   },
   {
    "duration": 50,
    "start_time": "2022-05-30T18:52:08.055Z"
   },
   {
    "duration": 39,
    "start_time": "2022-05-30T18:52:08.107Z"
   },
   {
    "duration": 14,
    "start_time": "2022-05-30T18:52:08.148Z"
   },
   {
    "duration": 10,
    "start_time": "2022-05-30T18:52:08.163Z"
   },
   {
    "duration": 52,
    "start_time": "2022-05-30T18:52:08.175Z"
   },
   {
    "duration": 16,
    "start_time": "2022-05-30T18:52:08.229Z"
   },
   {
    "duration": 13,
    "start_time": "2022-05-30T18:52:08.247Z"
   },
   {
    "duration": 17,
    "start_time": "2022-05-30T18:52:08.262Z"
   },
   {
    "duration": 17,
    "start_time": "2022-05-30T18:52:08.281Z"
   },
   {
    "duration": 29,
    "start_time": "2022-05-30T18:52:08.300Z"
   },
   {
    "duration": 17,
    "start_time": "2022-05-30T18:52:08.331Z"
   },
   {
    "duration": 13,
    "start_time": "2022-05-30T18:52:08.350Z"
   },
   {
    "duration": 13,
    "start_time": "2022-05-30T18:52:08.364Z"
   },
   {
    "duration": 26,
    "start_time": "2022-05-30T18:52:08.378Z"
   },
   {
    "duration": 9,
    "start_time": "2022-05-30T18:52:08.406Z"
   },
   {
    "duration": 16,
    "start_time": "2022-05-30T18:52:08.417Z"
   },
   {
    "duration": 15,
    "start_time": "2022-05-30T18:52:08.435Z"
   },
   {
    "duration": 9,
    "start_time": "2022-05-30T18:52:08.452Z"
   },
   {
    "duration": 681,
    "start_time": "2022-05-30T18:52:08.463Z"
   },
   {
    "duration": 18,
    "start_time": "2022-05-30T18:52:09.146Z"
   },
   {
    "duration": 537,
    "start_time": "2022-05-30T18:52:09.166Z"
   },
   {
    "duration": 16,
    "start_time": "2022-05-30T18:52:09.706Z"
   },
   {
    "duration": 4,
    "start_time": "2022-05-30T18:52:09.724Z"
   },
   {
    "duration": 7,
    "start_time": "2022-05-30T18:52:09.730Z"
   },
   {
    "duration": 10,
    "start_time": "2022-05-30T18:52:09.739Z"
   },
   {
    "duration": 121,
    "start_time": "2022-05-30T18:52:09.750Z"
   },
   {
    "duration": 260,
    "start_time": "2022-05-30T18:52:09.873Z"
   },
   {
    "duration": 0,
    "start_time": "2022-05-30T18:52:10.135Z"
   },
   {
    "duration": 0,
    "start_time": "2022-05-30T18:52:10.136Z"
   },
   {
    "duration": 0,
    "start_time": "2022-05-30T18:52:10.138Z"
   },
   {
    "duration": 0,
    "start_time": "2022-05-30T18:52:10.138Z"
   },
   {
    "duration": 0,
    "start_time": "2022-05-30T18:52:10.139Z"
   },
   {
    "duration": 0,
    "start_time": "2022-05-30T18:52:10.141Z"
   },
   {
    "duration": 0,
    "start_time": "2022-05-30T18:52:10.142Z"
   },
   {
    "duration": 0,
    "start_time": "2022-05-30T18:52:10.143Z"
   },
   {
    "duration": 0,
    "start_time": "2022-05-30T18:52:10.144Z"
   },
   {
    "duration": 0,
    "start_time": "2022-05-30T18:52:10.145Z"
   },
   {
    "duration": 0,
    "start_time": "2022-05-30T18:52:10.146Z"
   },
   {
    "duration": 0,
    "start_time": "2022-05-30T18:52:10.147Z"
   },
   {
    "duration": 0,
    "start_time": "2022-05-30T18:52:10.148Z"
   },
   {
    "duration": 0,
    "start_time": "2022-05-30T18:52:10.150Z"
   },
   {
    "duration": 0,
    "start_time": "2022-05-30T18:52:10.151Z"
   },
   {
    "duration": 0,
    "start_time": "2022-05-30T18:52:10.152Z"
   },
   {
    "duration": 0,
    "start_time": "2022-05-30T18:52:10.154Z"
   },
   {
    "duration": 0,
    "start_time": "2022-05-30T18:52:10.155Z"
   },
   {
    "duration": 0,
    "start_time": "2022-05-30T18:52:10.156Z"
   },
   {
    "duration": 0,
    "start_time": "2022-05-30T18:52:10.157Z"
   },
   {
    "duration": 8,
    "start_time": "2022-05-30T18:55:11.243Z"
   },
   {
    "duration": 397,
    "start_time": "2022-05-30T18:55:11.253Z"
   },
   {
    "duration": 389,
    "start_time": "2022-05-30T18:55:11.652Z"
   },
   {
    "duration": 456,
    "start_time": "2022-05-30T18:55:12.043Z"
   },
   {
    "duration": 238,
    "start_time": "2022-05-30T18:55:12.502Z"
   },
   {
    "duration": 5,
    "start_time": "2022-05-30T18:55:12.742Z"
   },
   {
    "duration": 21,
    "start_time": "2022-05-30T18:55:12.748Z"
   },
   {
    "duration": 13,
    "start_time": "2022-05-30T18:55:12.771Z"
   },
   {
    "duration": 49,
    "start_time": "2022-05-30T18:55:12.786Z"
   },
   {
    "duration": 21,
    "start_time": "2022-05-30T18:55:12.837Z"
   },
   {
    "duration": 10,
    "start_time": "2022-05-30T18:55:12.861Z"
   },
   {
    "duration": 26,
    "start_time": "2022-05-30T18:55:12.873Z"
   },
   {
    "duration": 270,
    "start_time": "2022-05-30T18:55:12.901Z"
   },
   {
    "duration": 8,
    "start_time": "2022-05-30T18:55:13.173Z"
   },
   {
    "duration": 17,
    "start_time": "2022-05-30T18:55:13.183Z"
   },
   {
    "duration": 11,
    "start_time": "2022-05-30T18:55:13.202Z"
   },
   {
    "duration": 9,
    "start_time": "2022-05-30T18:55:13.214Z"
   },
   {
    "duration": 8,
    "start_time": "2022-05-30T18:55:13.225Z"
   },
   {
    "duration": 10,
    "start_time": "2022-05-30T18:55:13.234Z"
   },
   {
    "duration": 223,
    "start_time": "2022-05-30T18:55:13.247Z"
   },
   {
    "duration": 9,
    "start_time": "2022-05-30T18:56:03.645Z"
   },
   {
    "duration": 29,
    "start_time": "2022-05-30T18:56:27.415Z"
   },
   {
    "duration": 29,
    "start_time": "2022-05-30T18:58:34.934Z"
   },
   {
    "duration": 28,
    "start_time": "2022-05-30T18:59:08.965Z"
   },
   {
    "duration": 53,
    "start_time": "2022-05-30T19:02:09.725Z"
   },
   {
    "duration": 71,
    "start_time": "2022-05-30T19:03:00.949Z"
   },
   {
    "duration": 25,
    "start_time": "2022-05-30T19:04:10.929Z"
   },
   {
    "duration": 20,
    "start_time": "2022-05-30T19:04:36.761Z"
   },
   {
    "duration": 25,
    "start_time": "2022-05-30T19:06:13.844Z"
   },
   {
    "duration": 19,
    "start_time": "2022-05-30T19:06:28.271Z"
   },
   {
    "duration": 19,
    "start_time": "2022-05-30T19:09:23.333Z"
   },
   {
    "duration": 1250,
    "start_time": "2022-05-31T16:42:01.833Z"
   },
   {
    "duration": 3,
    "start_time": "2022-05-31T16:42:03.085Z"
   },
   {
    "duration": 462,
    "start_time": "2022-05-31T16:42:03.089Z"
   },
   {
    "duration": 22,
    "start_time": "2022-05-31T16:42:03.553Z"
   },
   {
    "duration": 36,
    "start_time": "2022-05-31T16:42:03.577Z"
   },
   {
    "duration": 26,
    "start_time": "2022-05-31T16:42:03.615Z"
   },
   {
    "duration": 28,
    "start_time": "2022-05-31T16:42:03.643Z"
   },
   {
    "duration": 21,
    "start_time": "2022-05-31T16:42:03.673Z"
   },
   {
    "duration": 264,
    "start_time": "2022-05-31T16:42:03.696Z"
   },
   {
    "duration": 15,
    "start_time": "2022-05-31T16:42:03.962Z"
   },
   {
    "duration": 42,
    "start_time": "2022-05-31T16:42:03.978Z"
   },
   {
    "duration": 14,
    "start_time": "2022-05-31T16:42:04.022Z"
   },
   {
    "duration": 27,
    "start_time": "2022-05-31T16:42:04.037Z"
   },
   {
    "duration": 25,
    "start_time": "2022-05-31T16:42:04.065Z"
   },
   {
    "duration": 5,
    "start_time": "2022-05-31T16:42:04.092Z"
   },
   {
    "duration": 4,
    "start_time": "2022-05-31T16:42:04.126Z"
   },
   {
    "duration": 7,
    "start_time": "2022-05-31T16:42:04.132Z"
   },
   {
    "duration": 12,
    "start_time": "2022-05-31T16:42:04.141Z"
   },
   {
    "duration": 31,
    "start_time": "2022-05-31T16:42:04.155Z"
   },
   {
    "duration": 4,
    "start_time": "2022-05-31T16:42:04.188Z"
   },
   {
    "duration": 7,
    "start_time": "2022-05-31T16:42:04.194Z"
   },
   {
    "duration": 19,
    "start_time": "2022-05-31T16:42:04.225Z"
   },
   {
    "duration": 20,
    "start_time": "2022-05-31T16:42:04.246Z"
   },
   {
    "duration": 3,
    "start_time": "2022-05-31T16:42:04.268Z"
   },
   {
    "duration": 18,
    "start_time": "2022-05-31T16:42:04.273Z"
   },
   {
    "duration": 48,
    "start_time": "2022-05-31T16:42:04.293Z"
   },
   {
    "duration": 3,
    "start_time": "2022-05-31T16:42:04.343Z"
   },
   {
    "duration": 6,
    "start_time": "2022-05-31T16:42:04.350Z"
   },
   {
    "duration": 21,
    "start_time": "2022-05-31T16:42:04.357Z"
   },
   {
    "duration": 7,
    "start_time": "2022-05-31T16:42:04.380Z"
   },
   {
    "duration": 38,
    "start_time": "2022-05-31T16:42:04.389Z"
   },
   {
    "duration": 26,
    "start_time": "2022-05-31T16:42:04.429Z"
   },
   {
    "duration": 18,
    "start_time": "2022-05-31T16:42:04.457Z"
   },
   {
    "duration": 11,
    "start_time": "2022-05-31T16:42:04.477Z"
   },
   {
    "duration": 20,
    "start_time": "2022-05-31T16:42:04.491Z"
   },
   {
    "duration": 43,
    "start_time": "2022-05-31T16:42:04.513Z"
   },
   {
    "duration": 90,
    "start_time": "2022-05-31T16:42:04.558Z"
   },
   {
    "duration": 20,
    "start_time": "2022-05-31T16:42:04.649Z"
   },
   {
    "duration": 33,
    "start_time": "2022-05-31T16:42:04.670Z"
   },
   {
    "duration": 40,
    "start_time": "2022-05-31T16:42:04.705Z"
   },
   {
    "duration": 28,
    "start_time": "2022-05-31T16:42:04.746Z"
   },
   {
    "duration": 13,
    "start_time": "2022-05-31T16:42:04.776Z"
   },
   {
    "duration": 3,
    "start_time": "2022-05-31T16:42:04.790Z"
   },
   {
    "duration": 35,
    "start_time": "2022-05-31T16:42:04.795Z"
   },
   {
    "duration": 12,
    "start_time": "2022-05-31T16:42:04.832Z"
   },
   {
    "duration": 8,
    "start_time": "2022-05-31T16:42:04.845Z"
   },
   {
    "duration": 9,
    "start_time": "2022-05-31T16:42:04.854Z"
   },
   {
    "duration": 14,
    "start_time": "2022-05-31T16:42:04.864Z"
   },
   {
    "duration": 9,
    "start_time": "2022-05-31T16:42:04.879Z"
   },
   {
    "duration": 12,
    "start_time": "2022-05-31T16:42:04.889Z"
   },
   {
    "duration": 5,
    "start_time": "2022-05-31T16:42:04.902Z"
   },
   {
    "duration": 18,
    "start_time": "2022-05-31T16:42:04.909Z"
   },
   {
    "duration": 18,
    "start_time": "2022-05-31T16:42:04.929Z"
   },
   {
    "duration": 7,
    "start_time": "2022-05-31T16:42:04.949Z"
   },
   {
    "duration": 7,
    "start_time": "2022-05-31T16:42:04.958Z"
   },
   {
    "duration": 10,
    "start_time": "2022-05-31T16:42:04.966Z"
   },
   {
    "duration": 637,
    "start_time": "2022-05-31T16:42:04.978Z"
   },
   {
    "duration": 512,
    "start_time": "2022-05-31T16:42:05.617Z"
   },
   {
    "duration": 468,
    "start_time": "2022-05-31T16:42:40.470Z"
   }
  ],
  "kernelspec": {
   "display_name": "Python 3 (ipykernel)",
   "language": "python",
   "name": "python3"
  },
  "language_info": {
   "codemirror_mode": {
    "name": "ipython",
    "version": 3
   },
   "file_extension": ".py",
   "mimetype": "text/x-python",
   "name": "python",
   "nbconvert_exporter": "python",
   "pygments_lexer": "ipython3",
   "version": "3.9.13"
  },
  "toc": {
   "base_numbering": 1,
   "nav_menu": {
    "height": "393px",
    "width": "531px"
   },
   "number_sections": true,
   "sideBar": true,
   "skip_h1_title": true,
   "title_cell": "Содержание",
   "title_sidebar": "Contents",
   "toc_cell": true,
   "toc_position": {
    "height": "calc(100% - 180px)",
    "left": "10px",
    "top": "150px",
    "width": "351px"
   },
   "toc_section_display": true,
   "toc_window_display": true
  }
 },
 "nbformat": 4,
 "nbformat_minor": 2
}
