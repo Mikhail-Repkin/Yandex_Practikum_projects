{
 "cells": [
  {
   "cell_type": "markdown",
   "metadata": {
    "toc": true
   },
   "source": [
    "<h1>Содержание<span class=\"tocSkip\"></span></h1>\n",
    "<div class=\"toc\"><ul class=\"toc-item\"><li><span><a href=\"#Изучение-данных-из-файлов.\" data-toc-modified-id=\"Изучение-данных-из-файлов.-1\"><span class=\"toc-item-num\">1&nbsp;&nbsp;</span>Изучение данных из файлов.</a></span><ul class=\"toc-item\"><li><span><a href=\"#Вывод\" data-toc-modified-id=\"Вывод-1.1\"><span class=\"toc-item-num\">1.1&nbsp;&nbsp;</span>Вывод</a></span></li></ul></li><li><span><a href=\"#Предобработка-данных\" data-toc-modified-id=\"Предобработка-данных-2\"><span class=\"toc-item-num\">2&nbsp;&nbsp;</span>Предобработка данных</a></span><ul class=\"toc-item\"><li><span><a href=\"#Определение-и-изучение-пропущенных-значений\" data-toc-modified-id=\"Определение-и-изучение-пропущенных-значений-2.1\"><span class=\"toc-item-num\">2.1&nbsp;&nbsp;</span>Определение и изучение пропущенных значений</a></span></li><li><span><a href=\"#Вывод\" data-toc-modified-id=\"Вывод-2.2\"><span class=\"toc-item-num\">2.2&nbsp;&nbsp;</span>Вывод</a></span></li><li><span><a href=\"#Приведение-данных-к-нужным-типам\" data-toc-modified-id=\"Приведение-данных-к-нужным-типам-2.3\"><span class=\"toc-item-num\">2.3&nbsp;&nbsp;</span>Приведение данных к нужным типам</a></span></li><li><span><a href=\"#Вывод\" data-toc-modified-id=\"Вывод-2.4\"><span class=\"toc-item-num\">2.4&nbsp;&nbsp;</span>Вывод</a></span></li></ul></li><li><span><a href=\"#Расчёты-и-добавление-результатов-в-таблицу\" data-toc-modified-id=\"Расчёты-и-добавление-результатов-в-таблицу-3\"><span class=\"toc-item-num\">3&nbsp;&nbsp;</span>Расчёты и добавление результатов в таблицу</a></span><ul class=\"toc-item\"><li><span><a href=\"#Вывод\" data-toc-modified-id=\"Вывод-3.1\"><span class=\"toc-item-num\">3.1&nbsp;&nbsp;</span>Вывод</a></span></li></ul></li><li><span><a href=\"#Исследовательский-анализ-данных\" data-toc-modified-id=\"Исследовательский-анализ-данных-4\"><span class=\"toc-item-num\">4&nbsp;&nbsp;</span>Исследовательский анализ данных</a></span><ul class=\"toc-item\"><li><span><a href=\"#Изучение-параметров:-площадь,-цена,-число-комнат,-высота-потолков\" data-toc-modified-id=\"Изучение-параметров:-площадь,-цена,-число-комнат,-высота-потолков-4.1\"><span class=\"toc-item-num\">4.1&nbsp;&nbsp;</span>Изучение параметров: площадь, цена, число комнат, высота потолков</a></span></li><li><span><a href=\"#Изучение-параметров:-время-продажи-квартиры\" data-toc-modified-id=\"Изучение-параметров:-время-продажи-квартиры-4.2\"><span class=\"toc-item-num\">4.2&nbsp;&nbsp;</span>Изучение параметров: время продажи квартиры</a></span></li><li><span><a href=\"#Обработка-редких-и-выбивающихся-значений\" data-toc-modified-id=\"Обработка-редких-и-выбивающихся-значений-4.3\"><span class=\"toc-item-num\">4.3&nbsp;&nbsp;</span>Обработка редких и выбивающихся значений</a></span></li><li><span><a href=\"#Выявление-факторов-больше-всего-влияющих-на-стоимость-квартиры\" data-toc-modified-id=\"Выявление-факторов-больше-всего-влияющих-на-стоимость-квартиры-4.4\"><span class=\"toc-item-num\">4.4&nbsp;&nbsp;</span>Выявление факторов больше всего влияющих на стоимость квартиры</a></span></li><li><span><a href=\"#Анализ-цен-по-10-населённым-пунктам\" data-toc-modified-id=\"Анализ-цен-по-10-населённым-пунктам-4.5\"><span class=\"toc-item-num\">4.5&nbsp;&nbsp;</span>Анализ цен по 10 населённым пунктам</a></span></li><li><span><a href=\"#Изучение-предложения-квартир\" data-toc-modified-id=\"Изучение-предложения-квартир-4.6\"><span class=\"toc-item-num\">4.6&nbsp;&nbsp;</span>Изучение предложения квартир</a></span></li><li><span><a href=\"#Выделение-сегмента-квартир-в-центре-и-анализ-факторов-влияющих-на-стоимость\" data-toc-modified-id=\"Выделение-сегмента-квартир-в-центре-и-анализ-факторов-влияющих-на-стоимость-4.7\"><span class=\"toc-item-num\">4.7&nbsp;&nbsp;</span>Выделение сегмента квартир в центре и анализ факторов влияющих на стоимость</a></span></li></ul></li><li><span><a href=\"#Общий-вывод\" data-toc-modified-id=\"Общий-вывод-5\"><span class=\"toc-item-num\">5&nbsp;&nbsp;</span>Общий вывод</a></span></li></ul></div>"
   ]
  },
  {
   "cell_type": "markdown",
   "metadata": {},
   "source": [
    "# Исследование объявлений о продаже квартир\n",
    "\n",
    "В нашем распоряжении данные сервиса Яндекc Недвижимость — архив объявлений о продаже квартир в Санкт-Петербурге и соседних населённых пунктах за несколько лет. Нужно научиться определять рыночную стоимость объектов недвижимости.    \n",
    "\n",
    "Задача — установить параметры. Это позволит построить автоматизированную систему: она отследит аномалии и мошенническую деятельность.    \n",
    "\n",
    "Цель исследования — выделить факторы, которые влияют на стоимость квартиры.\n",
    "\n",
    "Известно, что по каждой квартире на продажу доступны два вида данных. Первые вписаны пользователем, вторые получены автоматически на основе картографических данных.\n",
    "\n",
    "Исследование пройдёт в пять этапов:\n",
    " 1. Обзор данных.\n",
    " 2. Предобработка данных.\n",
    " 3. Расчёты и добавление результатов в таблицу.\n",
    " 4. Исследовательский анализ данных.\n",
    " 5. Общий вывод."
   ]
  },
  {
   "cell_type": "markdown",
   "metadata": {},
   "source": [
    "## Изучение данных из файлов."
   ]
  },
  {
   "cell_type": "markdown",
   "metadata": {},
   "source": [
    "Данные о поведении пользователей получаем из файла `real_estate_data.csv`. Перед установкой параметров делаем обзор данных с целью проверки качества данных. "
   ]
  },
  {
   "cell_type": "code",
   "execution_count": 1,
   "metadata": {},
   "outputs": [],
   "source": [
    "# импорт библиотеки pandas\n",
    "import pandas as pd"
   ]
  },
  {
   "cell_type": "code",
   "execution_count": 2,
   "metadata": {},
   "outputs": [],
   "source": [
    "# импорт библиотеки matplot\n",
    "import matplotlib.pyplot as plt"
   ]
  },
  {
   "cell_type": "code",
   "execution_count": 3,
   "metadata": {},
   "outputs": [],
   "source": [
    "# импорт библиотеки numpy\n",
    "import numpy as np"
   ]
  },
  {
   "cell_type": "code",
   "execution_count": 4,
   "metadata": {},
   "outputs": [],
   "source": [
    "# импорт библиотеки seaborn\n",
    "import seaborn as sns"
   ]
  },
  {
   "cell_type": "code",
   "execution_count": 5,
   "metadata": {},
   "outputs": [],
   "source": [
    "# сброс ограничений на число выводимых столбцов\n",
    "pd.set_option('display.max_columns', None)"
   ]
  },
  {
   "cell_type": "code",
   "execution_count": 6,
   "metadata": {},
   "outputs": [],
   "source": [
    "# чтение файла с данными и сохранение в df\n",
    "try:\n",
    "    df = pd.read_csv('datasets/real_estate_data.csv', sep='\\t')\n",
    "except:\n",
    "    df = pd.read_csv('/datasets/real_estate_data.csv', sep='\\t')"
   ]
  },
  {
   "cell_type": "code",
   "execution_count": 7,
   "metadata": {
    "scrolled": false
   },
   "outputs": [
    {
     "data": {
      "text/html": [
       "<div>\n",
       "<style scoped>\n",
       "    .dataframe tbody tr th:only-of-type {\n",
       "        vertical-align: middle;\n",
       "    }\n",
       "\n",
       "    .dataframe tbody tr th {\n",
       "        vertical-align: top;\n",
       "    }\n",
       "\n",
       "    .dataframe thead th {\n",
       "        text-align: right;\n",
       "    }\n",
       "</style>\n",
       "<table border=\"1\" class=\"dataframe\">\n",
       "  <thead>\n",
       "    <tr style=\"text-align: right;\">\n",
       "      <th></th>\n",
       "      <th>total_images</th>\n",
       "      <th>last_price</th>\n",
       "      <th>total_area</th>\n",
       "      <th>first_day_exposition</th>\n",
       "      <th>rooms</th>\n",
       "      <th>ceiling_height</th>\n",
       "      <th>floors_total</th>\n",
       "      <th>living_area</th>\n",
       "      <th>floor</th>\n",
       "      <th>is_apartment</th>\n",
       "      <th>studio</th>\n",
       "      <th>open_plan</th>\n",
       "      <th>kitchen_area</th>\n",
       "      <th>balcony</th>\n",
       "      <th>locality_name</th>\n",
       "      <th>airports_nearest</th>\n",
       "      <th>cityCenters_nearest</th>\n",
       "      <th>parks_around3000</th>\n",
       "      <th>parks_nearest</th>\n",
       "      <th>ponds_around3000</th>\n",
       "      <th>ponds_nearest</th>\n",
       "      <th>days_exposition</th>\n",
       "    </tr>\n",
       "  </thead>\n",
       "  <tbody>\n",
       "    <tr>\n",
       "      <th>0</th>\n",
       "      <td>20</td>\n",
       "      <td>13000000.0</td>\n",
       "      <td>108.0</td>\n",
       "      <td>2019-03-07T00:00:00</td>\n",
       "      <td>3</td>\n",
       "      <td>2.70</td>\n",
       "      <td>16.0</td>\n",
       "      <td>51.0</td>\n",
       "      <td>8</td>\n",
       "      <td>NaN</td>\n",
       "      <td>False</td>\n",
       "      <td>False</td>\n",
       "      <td>25.0</td>\n",
       "      <td>NaN</td>\n",
       "      <td>Санкт-Петербург</td>\n",
       "      <td>18863.0</td>\n",
       "      <td>16028.0</td>\n",
       "      <td>1.0</td>\n",
       "      <td>482.0</td>\n",
       "      <td>2.0</td>\n",
       "      <td>755.0</td>\n",
       "      <td>NaN</td>\n",
       "    </tr>\n",
       "    <tr>\n",
       "      <th>1</th>\n",
       "      <td>7</td>\n",
       "      <td>3350000.0</td>\n",
       "      <td>40.4</td>\n",
       "      <td>2018-12-04T00:00:00</td>\n",
       "      <td>1</td>\n",
       "      <td>NaN</td>\n",
       "      <td>11.0</td>\n",
       "      <td>18.6</td>\n",
       "      <td>1</td>\n",
       "      <td>NaN</td>\n",
       "      <td>False</td>\n",
       "      <td>False</td>\n",
       "      <td>11.0</td>\n",
       "      <td>2.0</td>\n",
       "      <td>посёлок Шушары</td>\n",
       "      <td>12817.0</td>\n",
       "      <td>18603.0</td>\n",
       "      <td>0.0</td>\n",
       "      <td>NaN</td>\n",
       "      <td>0.0</td>\n",
       "      <td>NaN</td>\n",
       "      <td>81.0</td>\n",
       "    </tr>\n",
       "    <tr>\n",
       "      <th>2</th>\n",
       "      <td>10</td>\n",
       "      <td>5196000.0</td>\n",
       "      <td>56.0</td>\n",
       "      <td>2015-08-20T00:00:00</td>\n",
       "      <td>2</td>\n",
       "      <td>NaN</td>\n",
       "      <td>5.0</td>\n",
       "      <td>34.3</td>\n",
       "      <td>4</td>\n",
       "      <td>NaN</td>\n",
       "      <td>False</td>\n",
       "      <td>False</td>\n",
       "      <td>8.3</td>\n",
       "      <td>0.0</td>\n",
       "      <td>Санкт-Петербург</td>\n",
       "      <td>21741.0</td>\n",
       "      <td>13933.0</td>\n",
       "      <td>1.0</td>\n",
       "      <td>90.0</td>\n",
       "      <td>2.0</td>\n",
       "      <td>574.0</td>\n",
       "      <td>558.0</td>\n",
       "    </tr>\n",
       "    <tr>\n",
       "      <th>3</th>\n",
       "      <td>0</td>\n",
       "      <td>64900000.0</td>\n",
       "      <td>159.0</td>\n",
       "      <td>2015-07-24T00:00:00</td>\n",
       "      <td>3</td>\n",
       "      <td>NaN</td>\n",
       "      <td>14.0</td>\n",
       "      <td>NaN</td>\n",
       "      <td>9</td>\n",
       "      <td>NaN</td>\n",
       "      <td>False</td>\n",
       "      <td>False</td>\n",
       "      <td>NaN</td>\n",
       "      <td>0.0</td>\n",
       "      <td>Санкт-Петербург</td>\n",
       "      <td>28098.0</td>\n",
       "      <td>6800.0</td>\n",
       "      <td>2.0</td>\n",
       "      <td>84.0</td>\n",
       "      <td>3.0</td>\n",
       "      <td>234.0</td>\n",
       "      <td>424.0</td>\n",
       "    </tr>\n",
       "    <tr>\n",
       "      <th>4</th>\n",
       "      <td>2</td>\n",
       "      <td>10000000.0</td>\n",
       "      <td>100.0</td>\n",
       "      <td>2018-06-19T00:00:00</td>\n",
       "      <td>2</td>\n",
       "      <td>3.03</td>\n",
       "      <td>14.0</td>\n",
       "      <td>32.0</td>\n",
       "      <td>13</td>\n",
       "      <td>NaN</td>\n",
       "      <td>False</td>\n",
       "      <td>False</td>\n",
       "      <td>41.0</td>\n",
       "      <td>NaN</td>\n",
       "      <td>Санкт-Петербург</td>\n",
       "      <td>31856.0</td>\n",
       "      <td>8098.0</td>\n",
       "      <td>2.0</td>\n",
       "      <td>112.0</td>\n",
       "      <td>1.0</td>\n",
       "      <td>48.0</td>\n",
       "      <td>121.0</td>\n",
       "    </tr>\n",
       "  </tbody>\n",
       "</table>\n",
       "</div>"
      ],
      "text/plain": [
       "   total_images  last_price  total_area first_day_exposition  rooms  \\\n",
       "0            20  13000000.0       108.0  2019-03-07T00:00:00      3   \n",
       "1             7   3350000.0        40.4  2018-12-04T00:00:00      1   \n",
       "2            10   5196000.0        56.0  2015-08-20T00:00:00      2   \n",
       "3             0  64900000.0       159.0  2015-07-24T00:00:00      3   \n",
       "4             2  10000000.0       100.0  2018-06-19T00:00:00      2   \n",
       "\n",
       "   ceiling_height  floors_total  living_area  floor is_apartment  studio  \\\n",
       "0            2.70          16.0         51.0      8          NaN   False   \n",
       "1             NaN          11.0         18.6      1          NaN   False   \n",
       "2             NaN           5.0         34.3      4          NaN   False   \n",
       "3             NaN          14.0          NaN      9          NaN   False   \n",
       "4            3.03          14.0         32.0     13          NaN   False   \n",
       "\n",
       "   open_plan  kitchen_area  balcony    locality_name  airports_nearest  \\\n",
       "0      False          25.0      NaN  Санкт-Петербург           18863.0   \n",
       "1      False          11.0      2.0   посёлок Шушары           12817.0   \n",
       "2      False           8.3      0.0  Санкт-Петербург           21741.0   \n",
       "3      False           NaN      0.0  Санкт-Петербург           28098.0   \n",
       "4      False          41.0      NaN  Санкт-Петербург           31856.0   \n",
       "\n",
       "   cityCenters_nearest  parks_around3000  parks_nearest  ponds_around3000  \\\n",
       "0              16028.0               1.0          482.0               2.0   \n",
       "1              18603.0               0.0            NaN               0.0   \n",
       "2              13933.0               1.0           90.0               2.0   \n",
       "3               6800.0               2.0           84.0               3.0   \n",
       "4               8098.0               2.0          112.0               1.0   \n",
       "\n",
       "   ponds_nearest  days_exposition  \n",
       "0          755.0              NaN  \n",
       "1            NaN             81.0  \n",
       "2          574.0            558.0  \n",
       "3          234.0            424.0  \n",
       "4           48.0            121.0  "
      ]
     },
     "execution_count": 7,
     "metadata": {},
     "output_type": "execute_result"
    }
   ],
   "source": [
    "# получение первых пяти строк таблицы df\n",
    "df.head()"
   ]
  },
  {
   "cell_type": "code",
   "execution_count": 8,
   "metadata": {},
   "outputs": [
    {
     "name": "stdout",
     "output_type": "stream",
     "text": [
      "<class 'pandas.core.frame.DataFrame'>\n",
      "RangeIndex: 23699 entries, 0 to 23698\n",
      "Data columns (total 22 columns):\n",
      " #   Column                Non-Null Count  Dtype  \n",
      "---  ------                --------------  -----  \n",
      " 0   total_images          23699 non-null  int64  \n",
      " 1   last_price            23699 non-null  float64\n",
      " 2   total_area            23699 non-null  float64\n",
      " 3   first_day_exposition  23699 non-null  object \n",
      " 4   rooms                 23699 non-null  int64  \n",
      " 5   ceiling_height        14504 non-null  float64\n",
      " 6   floors_total          23613 non-null  float64\n",
      " 7   living_area           21796 non-null  float64\n",
      " 8   floor                 23699 non-null  int64  \n",
      " 9   is_apartment          2775 non-null   object \n",
      " 10  studio                23699 non-null  bool   \n",
      " 11  open_plan             23699 non-null  bool   \n",
      " 12  kitchen_area          21421 non-null  float64\n",
      " 13  balcony               12180 non-null  float64\n",
      " 14  locality_name         23650 non-null  object \n",
      " 15  airports_nearest      18157 non-null  float64\n",
      " 16  cityCenters_nearest   18180 non-null  float64\n",
      " 17  parks_around3000      18181 non-null  float64\n",
      " 18  parks_nearest         8079 non-null   float64\n",
      " 19  ponds_around3000      18181 non-null  float64\n",
      " 20  ponds_nearest         9110 non-null   float64\n",
      " 21  days_exposition       20518 non-null  float64\n",
      "dtypes: bool(2), float64(14), int64(3), object(3)\n",
      "memory usage: 3.7+ MB\n"
     ]
    }
   ],
   "source": [
    "# получение общей информации о данных в таблице df\n",
    "df.info()"
   ]
  },
  {
   "cell_type": "markdown",
   "metadata": {},
   "source": [
    "Согласно документации к данным:\n",
    "*\t`airports_nearest` — расстояние до ближайшего аэропорта в метрах (м);\n",
    "*\t`balcony` — число балконов;\n",
    "*\t`ceiling_height` — высота потолков (м);\n",
    "*\t`cityCenters_nearest` — расстояние до центра города (м);\n",
    "*\t`days_exposition` — сколько дней было размещено объявление (от публикации до снятия);\n",
    "*\t`first_day_exposition` — дата публикации;\n",
    "*\t`floor` — этаж;\n",
    "*\t`floors_total` — всего этажей в доме;\n",
    "*\t`is_apartment` — апартаменты (булев тип);\n",
    "*\t`kitchen_area` — площадь кухни в квадратных метрах (м²);\n",
    "*\t`last_price` — цена на момент снятия с публикации;\n",
    "*\t`living_area` — жилая площадь в квадратных метрах (м²);\n",
    "*\t`locality_name` — название населённого пункта;\n",
    "*\t`open_plan` — свободная планировка (булев тип);\n",
    "*\t`parks_around3000` — число парков в радиусе 3 км;\n",
    "*\t`parks_nearest` — расстояние до ближайшего парка (м);\n",
    "*\t`ponds_around3000` — число водоёмов в радиусе 3 км;\n",
    "*\t`ponds_nearest` — расстояние до ближайшего водоёма (м);\n",
    "*\t`rooms` — число комнат;\n",
    "*\t`studio` — квартира-студия (булев тип);\n",
    "*\t`total_area` — площадь квартиры в квадратных метрах (м²);\n",
    "*\t`total_images` — число фотографий квартиры в объявлении;\n"
   ]
  },
  {
   "cell_type": "code",
   "execution_count": 9,
   "metadata": {},
   "outputs": [
    {
     "data": {
      "text/plain": [
       "0"
      ]
     },
     "execution_count": 9,
     "metadata": {},
     "output_type": "execute_result"
    }
   ],
   "source": [
    "# подсчет дубликатов\n",
    "df.duplicated().sum()"
   ]
  },
  {
   "cell_type": "code",
   "execution_count": 10,
   "metadata": {
    "scrolled": false
   },
   "outputs": [
    {
     "data": {
      "text/html": [
       "<div>\n",
       "<style scoped>\n",
       "    .dataframe tbody tr th:only-of-type {\n",
       "        vertical-align: middle;\n",
       "    }\n",
       "\n",
       "    .dataframe tbody tr th {\n",
       "        vertical-align: top;\n",
       "    }\n",
       "\n",
       "    .dataframe thead th {\n",
       "        text-align: right;\n",
       "    }\n",
       "</style>\n",
       "<table border=\"1\" class=\"dataframe\">\n",
       "  <thead>\n",
       "    <tr style=\"text-align: right;\">\n",
       "      <th></th>\n",
       "      <th>total_images</th>\n",
       "      <th>last_price</th>\n",
       "      <th>total_area</th>\n",
       "      <th>rooms</th>\n",
       "      <th>ceiling_height</th>\n",
       "      <th>floors_total</th>\n",
       "      <th>living_area</th>\n",
       "      <th>floor</th>\n",
       "      <th>kitchen_area</th>\n",
       "      <th>balcony</th>\n",
       "      <th>airports_nearest</th>\n",
       "      <th>cityCenters_nearest</th>\n",
       "      <th>parks_around3000</th>\n",
       "      <th>parks_nearest</th>\n",
       "      <th>ponds_around3000</th>\n",
       "      <th>ponds_nearest</th>\n",
       "      <th>days_exposition</th>\n",
       "    </tr>\n",
       "  </thead>\n",
       "  <tbody>\n",
       "    <tr>\n",
       "      <th>count</th>\n",
       "      <td>23699.000000</td>\n",
       "      <td>2.369900e+04</td>\n",
       "      <td>23699.000000</td>\n",
       "      <td>23699.000000</td>\n",
       "      <td>14504.000000</td>\n",
       "      <td>23613.000000</td>\n",
       "      <td>21796.000000</td>\n",
       "      <td>23699.000000</td>\n",
       "      <td>21421.000000</td>\n",
       "      <td>12180.000000</td>\n",
       "      <td>18157.000000</td>\n",
       "      <td>18180.000000</td>\n",
       "      <td>18181.000000</td>\n",
       "      <td>8079.000000</td>\n",
       "      <td>18181.000000</td>\n",
       "      <td>9110.000000</td>\n",
       "      <td>20518.000000</td>\n",
       "    </tr>\n",
       "    <tr>\n",
       "      <th>mean</th>\n",
       "      <td>9.858475</td>\n",
       "      <td>6.541549e+06</td>\n",
       "      <td>60.348651</td>\n",
       "      <td>2.070636</td>\n",
       "      <td>2.771499</td>\n",
       "      <td>10.673824</td>\n",
       "      <td>34.457852</td>\n",
       "      <td>5.892358</td>\n",
       "      <td>10.569807</td>\n",
       "      <td>1.150082</td>\n",
       "      <td>28793.672193</td>\n",
       "      <td>14191.277833</td>\n",
       "      <td>0.611408</td>\n",
       "      <td>490.804555</td>\n",
       "      <td>0.770255</td>\n",
       "      <td>517.980900</td>\n",
       "      <td>180.888634</td>\n",
       "    </tr>\n",
       "    <tr>\n",
       "      <th>std</th>\n",
       "      <td>5.682529</td>\n",
       "      <td>1.088701e+07</td>\n",
       "      <td>35.654083</td>\n",
       "      <td>1.078405</td>\n",
       "      <td>1.261056</td>\n",
       "      <td>6.597173</td>\n",
       "      <td>22.030445</td>\n",
       "      <td>4.885249</td>\n",
       "      <td>5.905438</td>\n",
       "      <td>1.071300</td>\n",
       "      <td>12630.880622</td>\n",
       "      <td>8608.386210</td>\n",
       "      <td>0.802074</td>\n",
       "      <td>342.317995</td>\n",
       "      <td>0.938346</td>\n",
       "      <td>277.720643</td>\n",
       "      <td>219.727988</td>\n",
       "    </tr>\n",
       "    <tr>\n",
       "      <th>min</th>\n",
       "      <td>0.000000</td>\n",
       "      <td>1.219000e+04</td>\n",
       "      <td>12.000000</td>\n",
       "      <td>0.000000</td>\n",
       "      <td>1.000000</td>\n",
       "      <td>1.000000</td>\n",
       "      <td>2.000000</td>\n",
       "      <td>1.000000</td>\n",
       "      <td>1.300000</td>\n",
       "      <td>0.000000</td>\n",
       "      <td>0.000000</td>\n",
       "      <td>181.000000</td>\n",
       "      <td>0.000000</td>\n",
       "      <td>1.000000</td>\n",
       "      <td>0.000000</td>\n",
       "      <td>13.000000</td>\n",
       "      <td>1.000000</td>\n",
       "    </tr>\n",
       "    <tr>\n",
       "      <th>25%</th>\n",
       "      <td>6.000000</td>\n",
       "      <td>3.400000e+06</td>\n",
       "      <td>40.000000</td>\n",
       "      <td>1.000000</td>\n",
       "      <td>2.520000</td>\n",
       "      <td>5.000000</td>\n",
       "      <td>18.600000</td>\n",
       "      <td>2.000000</td>\n",
       "      <td>7.000000</td>\n",
       "      <td>0.000000</td>\n",
       "      <td>18585.000000</td>\n",
       "      <td>9238.000000</td>\n",
       "      <td>0.000000</td>\n",
       "      <td>288.000000</td>\n",
       "      <td>0.000000</td>\n",
       "      <td>294.000000</td>\n",
       "      <td>45.000000</td>\n",
       "    </tr>\n",
       "    <tr>\n",
       "      <th>50%</th>\n",
       "      <td>9.000000</td>\n",
       "      <td>4.650000e+06</td>\n",
       "      <td>52.000000</td>\n",
       "      <td>2.000000</td>\n",
       "      <td>2.650000</td>\n",
       "      <td>9.000000</td>\n",
       "      <td>30.000000</td>\n",
       "      <td>4.000000</td>\n",
       "      <td>9.100000</td>\n",
       "      <td>1.000000</td>\n",
       "      <td>26726.000000</td>\n",
       "      <td>13098.500000</td>\n",
       "      <td>0.000000</td>\n",
       "      <td>455.000000</td>\n",
       "      <td>1.000000</td>\n",
       "      <td>502.000000</td>\n",
       "      <td>95.000000</td>\n",
       "    </tr>\n",
       "    <tr>\n",
       "      <th>75%</th>\n",
       "      <td>14.000000</td>\n",
       "      <td>6.800000e+06</td>\n",
       "      <td>69.900000</td>\n",
       "      <td>3.000000</td>\n",
       "      <td>2.800000</td>\n",
       "      <td>16.000000</td>\n",
       "      <td>42.300000</td>\n",
       "      <td>8.000000</td>\n",
       "      <td>12.000000</td>\n",
       "      <td>2.000000</td>\n",
       "      <td>37273.000000</td>\n",
       "      <td>16293.000000</td>\n",
       "      <td>1.000000</td>\n",
       "      <td>612.000000</td>\n",
       "      <td>1.000000</td>\n",
       "      <td>729.000000</td>\n",
       "      <td>232.000000</td>\n",
       "    </tr>\n",
       "    <tr>\n",
       "      <th>max</th>\n",
       "      <td>50.000000</td>\n",
       "      <td>7.630000e+08</td>\n",
       "      <td>900.000000</td>\n",
       "      <td>19.000000</td>\n",
       "      <td>100.000000</td>\n",
       "      <td>60.000000</td>\n",
       "      <td>409.700000</td>\n",
       "      <td>33.000000</td>\n",
       "      <td>112.000000</td>\n",
       "      <td>5.000000</td>\n",
       "      <td>84869.000000</td>\n",
       "      <td>65968.000000</td>\n",
       "      <td>3.000000</td>\n",
       "      <td>3190.000000</td>\n",
       "      <td>3.000000</td>\n",
       "      <td>1344.000000</td>\n",
       "      <td>1580.000000</td>\n",
       "    </tr>\n",
       "  </tbody>\n",
       "</table>\n",
       "</div>"
      ],
      "text/plain": [
       "       total_images    last_price    total_area         rooms  ceiling_height  \\\n",
       "count  23699.000000  2.369900e+04  23699.000000  23699.000000    14504.000000   \n",
       "mean       9.858475  6.541549e+06     60.348651      2.070636        2.771499   \n",
       "std        5.682529  1.088701e+07     35.654083      1.078405        1.261056   \n",
       "min        0.000000  1.219000e+04     12.000000      0.000000        1.000000   \n",
       "25%        6.000000  3.400000e+06     40.000000      1.000000        2.520000   \n",
       "50%        9.000000  4.650000e+06     52.000000      2.000000        2.650000   \n",
       "75%       14.000000  6.800000e+06     69.900000      3.000000        2.800000   \n",
       "max       50.000000  7.630000e+08    900.000000     19.000000      100.000000   \n",
       "\n",
       "       floors_total   living_area         floor  kitchen_area       balcony  \\\n",
       "count  23613.000000  21796.000000  23699.000000  21421.000000  12180.000000   \n",
       "mean      10.673824     34.457852      5.892358     10.569807      1.150082   \n",
       "std        6.597173     22.030445      4.885249      5.905438      1.071300   \n",
       "min        1.000000      2.000000      1.000000      1.300000      0.000000   \n",
       "25%        5.000000     18.600000      2.000000      7.000000      0.000000   \n",
       "50%        9.000000     30.000000      4.000000      9.100000      1.000000   \n",
       "75%       16.000000     42.300000      8.000000     12.000000      2.000000   \n",
       "max       60.000000    409.700000     33.000000    112.000000      5.000000   \n",
       "\n",
       "       airports_nearest  cityCenters_nearest  parks_around3000  parks_nearest  \\\n",
       "count      18157.000000         18180.000000      18181.000000    8079.000000   \n",
       "mean       28793.672193         14191.277833          0.611408     490.804555   \n",
       "std        12630.880622          8608.386210          0.802074     342.317995   \n",
       "min            0.000000           181.000000          0.000000       1.000000   \n",
       "25%        18585.000000          9238.000000          0.000000     288.000000   \n",
       "50%        26726.000000         13098.500000          0.000000     455.000000   \n",
       "75%        37273.000000         16293.000000          1.000000     612.000000   \n",
       "max        84869.000000         65968.000000          3.000000    3190.000000   \n",
       "\n",
       "       ponds_around3000  ponds_nearest  days_exposition  \n",
       "count      18181.000000    9110.000000     20518.000000  \n",
       "mean           0.770255     517.980900       180.888634  \n",
       "std            0.938346     277.720643       219.727988  \n",
       "min            0.000000      13.000000         1.000000  \n",
       "25%            0.000000     294.000000        45.000000  \n",
       "50%            1.000000     502.000000        95.000000  \n",
       "75%            1.000000     729.000000       232.000000  \n",
       "max            3.000000    1344.000000      1580.000000  "
      ]
     },
     "execution_count": 10,
     "metadata": {},
     "output_type": "execute_result"
    }
   ],
   "source": [
    "# числовое описание данных\n",
    "df.describe()"
   ]
  },
  {
   "cell_type": "markdown",
   "metadata": {},
   "source": [
    "### Вывод"
   ]
  },
  {
   "cell_type": "markdown",
   "metadata": {},
   "source": [
    "В исходном файле содержатся данные сервиса Яндекс Недвижимость — архив объявлений о продаже квартир в Санкт-Петербурге и соседних населённых пунктах за несколько лет.\n",
    "\n",
    "В датафрейме двадцать две колонки. Столбцы содержат различные типы данных. Количество значений в столбцах различается. В данных есть пропущенные значения, которые необходимо обработать на этапе предобработке данных.\n",
    "В некоторых столбцах наблюдается довольно сильный разброс значений — необходимо ислледовать данные на предмет аномалий и выбросов."
   ]
  },
  {
   "cell_type": "markdown",
   "metadata": {},
   "source": [
    "## Предобработка данных"
   ]
  },
  {
   "cell_type": "markdown",
   "metadata": {},
   "source": [
    "### Определение и изучение пропущенных значений"
   ]
  },
  {
   "cell_type": "code",
   "execution_count": 11,
   "metadata": {
    "scrolled": false
   },
   "outputs": [
    {
     "data": {
      "text/plain": [
       "total_images            0.000000\n",
       "last_price              0.000000\n",
       "total_area              0.000000\n",
       "first_day_exposition    0.000000\n",
       "rooms                   0.000000\n",
       "ceiling_height          0.387991\n",
       "floors_total            0.003629\n",
       "living_area             0.080299\n",
       "floor                   0.000000\n",
       "is_apartment            0.882906\n",
       "studio                  0.000000\n",
       "open_plan               0.000000\n",
       "kitchen_area            0.096122\n",
       "balcony                 0.486054\n",
       "locality_name           0.002068\n",
       "airports_nearest        0.233850\n",
       "cityCenters_nearest     0.232879\n",
       "parks_around3000        0.232837\n",
       "parks_nearest           0.659100\n",
       "ponds_around3000        0.232837\n",
       "ponds_nearest           0.615596\n",
       "days_exposition         0.134225\n",
       "dtype: float64"
      ]
     },
     "execution_count": 11,
     "metadata": {},
     "output_type": "execute_result"
    }
   ],
   "source": [
    "# подсчёт пропусков\n",
    "df.isna().mean()"
   ]
  },
  {
   "cell_type": "markdown",
   "metadata": {},
   "source": [
    "**Обработка пропусков в столбце `ceiling_height`**"
   ]
  },
  {
   "cell_type": "code",
   "execution_count": 12,
   "metadata": {
    "scrolled": false
   },
   "outputs": [
    {
     "data": {
      "text/html": [
       "<div>\n",
       "<style scoped>\n",
       "    .dataframe tbody tr th:only-of-type {\n",
       "        vertical-align: middle;\n",
       "    }\n",
       "\n",
       "    .dataframe tbody tr th {\n",
       "        vertical-align: top;\n",
       "    }\n",
       "\n",
       "    .dataframe thead th {\n",
       "        text-align: right;\n",
       "    }\n",
       "</style>\n",
       "<table border=\"1\" class=\"dataframe\">\n",
       "  <thead>\n",
       "    <tr style=\"text-align: right;\">\n",
       "      <th></th>\n",
       "      <th>total_images</th>\n",
       "      <th>last_price</th>\n",
       "      <th>total_area</th>\n",
       "      <th>first_day_exposition</th>\n",
       "      <th>rooms</th>\n",
       "      <th>ceiling_height</th>\n",
       "      <th>floors_total</th>\n",
       "      <th>living_area</th>\n",
       "      <th>floor</th>\n",
       "      <th>is_apartment</th>\n",
       "      <th>studio</th>\n",
       "      <th>open_plan</th>\n",
       "      <th>kitchen_area</th>\n",
       "      <th>balcony</th>\n",
       "      <th>locality_name</th>\n",
       "      <th>airports_nearest</th>\n",
       "      <th>cityCenters_nearest</th>\n",
       "      <th>parks_around3000</th>\n",
       "      <th>parks_nearest</th>\n",
       "      <th>ponds_around3000</th>\n",
       "      <th>ponds_nearest</th>\n",
       "      <th>days_exposition</th>\n",
       "    </tr>\n",
       "  </thead>\n",
       "  <tbody>\n",
       "    <tr>\n",
       "      <th>1</th>\n",
       "      <td>7</td>\n",
       "      <td>3350000.0</td>\n",
       "      <td>40.4</td>\n",
       "      <td>2018-12-04T00:00:00</td>\n",
       "      <td>1</td>\n",
       "      <td>NaN</td>\n",
       "      <td>11.0</td>\n",
       "      <td>18.6</td>\n",
       "      <td>1</td>\n",
       "      <td>NaN</td>\n",
       "      <td>False</td>\n",
       "      <td>False</td>\n",
       "      <td>11.0</td>\n",
       "      <td>2.0</td>\n",
       "      <td>посёлок Шушары</td>\n",
       "      <td>12817.0</td>\n",
       "      <td>18603.0</td>\n",
       "      <td>0.0</td>\n",
       "      <td>NaN</td>\n",
       "      <td>0.0</td>\n",
       "      <td>NaN</td>\n",
       "      <td>81.0</td>\n",
       "    </tr>\n",
       "    <tr>\n",
       "      <th>2</th>\n",
       "      <td>10</td>\n",
       "      <td>5196000.0</td>\n",
       "      <td>56.0</td>\n",
       "      <td>2015-08-20T00:00:00</td>\n",
       "      <td>2</td>\n",
       "      <td>NaN</td>\n",
       "      <td>5.0</td>\n",
       "      <td>34.3</td>\n",
       "      <td>4</td>\n",
       "      <td>NaN</td>\n",
       "      <td>False</td>\n",
       "      <td>False</td>\n",
       "      <td>8.3</td>\n",
       "      <td>0.0</td>\n",
       "      <td>Санкт-Петербург</td>\n",
       "      <td>21741.0</td>\n",
       "      <td>13933.0</td>\n",
       "      <td>1.0</td>\n",
       "      <td>90.0</td>\n",
       "      <td>2.0</td>\n",
       "      <td>574.0</td>\n",
       "      <td>558.0</td>\n",
       "    </tr>\n",
       "    <tr>\n",
       "      <th>3</th>\n",
       "      <td>0</td>\n",
       "      <td>64900000.0</td>\n",
       "      <td>159.0</td>\n",
       "      <td>2015-07-24T00:00:00</td>\n",
       "      <td>3</td>\n",
       "      <td>NaN</td>\n",
       "      <td>14.0</td>\n",
       "      <td>NaN</td>\n",
       "      <td>9</td>\n",
       "      <td>NaN</td>\n",
       "      <td>False</td>\n",
       "      <td>False</td>\n",
       "      <td>NaN</td>\n",
       "      <td>0.0</td>\n",
       "      <td>Санкт-Петербург</td>\n",
       "      <td>28098.0</td>\n",
       "      <td>6800.0</td>\n",
       "      <td>2.0</td>\n",
       "      <td>84.0</td>\n",
       "      <td>3.0</td>\n",
       "      <td>234.0</td>\n",
       "      <td>424.0</td>\n",
       "    </tr>\n",
       "    <tr>\n",
       "      <th>5</th>\n",
       "      <td>10</td>\n",
       "      <td>2890000.0</td>\n",
       "      <td>30.4</td>\n",
       "      <td>2018-09-10T00:00:00</td>\n",
       "      <td>1</td>\n",
       "      <td>NaN</td>\n",
       "      <td>12.0</td>\n",
       "      <td>14.4</td>\n",
       "      <td>5</td>\n",
       "      <td>NaN</td>\n",
       "      <td>False</td>\n",
       "      <td>False</td>\n",
       "      <td>9.1</td>\n",
       "      <td>NaN</td>\n",
       "      <td>городской посёлок Янино-1</td>\n",
       "      <td>NaN</td>\n",
       "      <td>NaN</td>\n",
       "      <td>NaN</td>\n",
       "      <td>NaN</td>\n",
       "      <td>NaN</td>\n",
       "      <td>NaN</td>\n",
       "      <td>55.0</td>\n",
       "    </tr>\n",
       "    <tr>\n",
       "      <th>6</th>\n",
       "      <td>6</td>\n",
       "      <td>3700000.0</td>\n",
       "      <td>37.3</td>\n",
       "      <td>2017-11-02T00:00:00</td>\n",
       "      <td>1</td>\n",
       "      <td>NaN</td>\n",
       "      <td>26.0</td>\n",
       "      <td>10.6</td>\n",
       "      <td>6</td>\n",
       "      <td>NaN</td>\n",
       "      <td>False</td>\n",
       "      <td>False</td>\n",
       "      <td>14.4</td>\n",
       "      <td>1.0</td>\n",
       "      <td>посёлок Парголово</td>\n",
       "      <td>52996.0</td>\n",
       "      <td>19143.0</td>\n",
       "      <td>0.0</td>\n",
       "      <td>NaN</td>\n",
       "      <td>0.0</td>\n",
       "      <td>NaN</td>\n",
       "      <td>155.0</td>\n",
       "    </tr>\n",
       "  </tbody>\n",
       "</table>\n",
       "</div>"
      ],
      "text/plain": [
       "   total_images  last_price  total_area first_day_exposition  rooms  \\\n",
       "1             7   3350000.0        40.4  2018-12-04T00:00:00      1   \n",
       "2            10   5196000.0        56.0  2015-08-20T00:00:00      2   \n",
       "3             0  64900000.0       159.0  2015-07-24T00:00:00      3   \n",
       "5            10   2890000.0        30.4  2018-09-10T00:00:00      1   \n",
       "6             6   3700000.0        37.3  2017-11-02T00:00:00      1   \n",
       "\n",
       "   ceiling_height  floors_total  living_area  floor is_apartment  studio  \\\n",
       "1             NaN          11.0         18.6      1          NaN   False   \n",
       "2             NaN           5.0         34.3      4          NaN   False   \n",
       "3             NaN          14.0          NaN      9          NaN   False   \n",
       "5             NaN          12.0         14.4      5          NaN   False   \n",
       "6             NaN          26.0         10.6      6          NaN   False   \n",
       "\n",
       "   open_plan  kitchen_area  balcony              locality_name  \\\n",
       "1      False          11.0      2.0             посёлок Шушары   \n",
       "2      False           8.3      0.0            Санкт-Петербург   \n",
       "3      False           NaN      0.0            Санкт-Петербург   \n",
       "5      False           9.1      NaN  городской посёлок Янино-1   \n",
       "6      False          14.4      1.0          посёлок Парголово   \n",
       "\n",
       "   airports_nearest  cityCenters_nearest  parks_around3000  parks_nearest  \\\n",
       "1           12817.0              18603.0               0.0            NaN   \n",
       "2           21741.0              13933.0               1.0           90.0   \n",
       "3           28098.0               6800.0               2.0           84.0   \n",
       "5               NaN                  NaN               NaN            NaN   \n",
       "6           52996.0              19143.0               0.0            NaN   \n",
       "\n",
       "   ponds_around3000  ponds_nearest  days_exposition  \n",
       "1               0.0            NaN             81.0  \n",
       "2               2.0          574.0            558.0  \n",
       "3               3.0          234.0            424.0  \n",
       "5               NaN            NaN             55.0  \n",
       "6               0.0            NaN            155.0  "
      ]
     },
     "execution_count": 12,
     "metadata": {},
     "output_type": "execute_result"
    }
   ],
   "source": [
    "# просмотр строк с пропущенными значениями\n",
    "df[df['ceiling_height'].isna()].head()"
   ]
  },
  {
   "cell_type": "code",
   "execution_count": 13,
   "metadata": {},
   "outputs": [
    {
     "name": "stdout",
     "output_type": "stream",
     "text": [
      "Количество пропущенных значений: 9195\n",
      "Доля пропущенных значений: 39%\n"
     ]
    }
   ],
   "source": [
    "# подсчет количества и доли пропущенных значений\n",
    "print('Количество пропущенных значений:','{:.0f}'.format(df['ceiling_height'].isna().sum()))\n",
    "print('Доля пропущенных значений:','{:.0%}'.format(df['ceiling_height'].isna().mean()))"
   ]
  },
  {
   "cell_type": "markdown",
   "metadata": {},
   "source": [
    "💡 *Владельцы недвижимости не заполняли данные о высоте потолков. Заполним пропуски медианным значением.*"
   ]
  },
  {
   "cell_type": "code",
   "execution_count": 14,
   "metadata": {},
   "outputs": [],
   "source": [
    "# заполнение пропусков в столбце медианным значением\n",
    "df['ceiling_height'] = df['ceiling_height'].fillna(df['ceiling_height'].median())"
   ]
  },
  {
   "cell_type": "code",
   "execution_count": 15,
   "metadata": {},
   "outputs": [
    {
     "name": "stdout",
     "output_type": "stream",
     "text": [
      "Количество пропущенных значений: 0\n"
     ]
    }
   ],
   "source": [
    "# проверка количества пропущенных значений\n",
    "print('Количество пропущенных значений:','{:.0f}'.format(df['ceiling_height'].isna().sum()))"
   ]
  },
  {
   "cell_type": "markdown",
   "metadata": {},
   "source": [
    "**Обработка пропусков в столбце `floors_total`**"
   ]
  },
  {
   "cell_type": "code",
   "execution_count": 16,
   "metadata": {
    "scrolled": true
   },
   "outputs": [
    {
     "data": {
      "text/html": [
       "<div>\n",
       "<style scoped>\n",
       "    .dataframe tbody tr th:only-of-type {\n",
       "        vertical-align: middle;\n",
       "    }\n",
       "\n",
       "    .dataframe tbody tr th {\n",
       "        vertical-align: top;\n",
       "    }\n",
       "\n",
       "    .dataframe thead th {\n",
       "        text-align: right;\n",
       "    }\n",
       "</style>\n",
       "<table border=\"1\" class=\"dataframe\">\n",
       "  <thead>\n",
       "    <tr style=\"text-align: right;\">\n",
       "      <th></th>\n",
       "      <th>total_images</th>\n",
       "      <th>last_price</th>\n",
       "      <th>total_area</th>\n",
       "      <th>first_day_exposition</th>\n",
       "      <th>rooms</th>\n",
       "      <th>ceiling_height</th>\n",
       "      <th>floors_total</th>\n",
       "      <th>living_area</th>\n",
       "      <th>floor</th>\n",
       "      <th>is_apartment</th>\n",
       "      <th>studio</th>\n",
       "      <th>open_plan</th>\n",
       "      <th>kitchen_area</th>\n",
       "      <th>balcony</th>\n",
       "      <th>locality_name</th>\n",
       "      <th>airports_nearest</th>\n",
       "      <th>cityCenters_nearest</th>\n",
       "      <th>parks_around3000</th>\n",
       "      <th>parks_nearest</th>\n",
       "      <th>ponds_around3000</th>\n",
       "      <th>ponds_nearest</th>\n",
       "      <th>days_exposition</th>\n",
       "    </tr>\n",
       "  </thead>\n",
       "  <tbody>\n",
       "    <tr>\n",
       "      <th>186</th>\n",
       "      <td>12</td>\n",
       "      <td>11640000.0</td>\n",
       "      <td>65.2</td>\n",
       "      <td>2018-10-02T00:00:00</td>\n",
       "      <td>2</td>\n",
       "      <td>2.65</td>\n",
       "      <td>NaN</td>\n",
       "      <td>30.80</td>\n",
       "      <td>4</td>\n",
       "      <td>NaN</td>\n",
       "      <td>False</td>\n",
       "      <td>False</td>\n",
       "      <td>12.00</td>\n",
       "      <td>NaN</td>\n",
       "      <td>Санкт-Петербург</td>\n",
       "      <td>39197.0</td>\n",
       "      <td>12373.0</td>\n",
       "      <td>1.0</td>\n",
       "      <td>123.0</td>\n",
       "      <td>0.0</td>\n",
       "      <td>NaN</td>\n",
       "      <td>49.0</td>\n",
       "    </tr>\n",
       "    <tr>\n",
       "      <th>237</th>\n",
       "      <td>4</td>\n",
       "      <td>2438033.0</td>\n",
       "      <td>28.1</td>\n",
       "      <td>2016-11-23T00:00:00</td>\n",
       "      <td>1</td>\n",
       "      <td>2.65</td>\n",
       "      <td>NaN</td>\n",
       "      <td>20.75</td>\n",
       "      <td>1</td>\n",
       "      <td>NaN</td>\n",
       "      <td>False</td>\n",
       "      <td>False</td>\n",
       "      <td>NaN</td>\n",
       "      <td>0.0</td>\n",
       "      <td>Санкт-Петербург</td>\n",
       "      <td>22041.0</td>\n",
       "      <td>17369.0</td>\n",
       "      <td>0.0</td>\n",
       "      <td>NaN</td>\n",
       "      <td>1.0</td>\n",
       "      <td>374.0</td>\n",
       "      <td>251.0</td>\n",
       "    </tr>\n",
       "    <tr>\n",
       "      <th>457</th>\n",
       "      <td>4</td>\n",
       "      <td>9788348.0</td>\n",
       "      <td>70.8</td>\n",
       "      <td>2015-08-01T00:00:00</td>\n",
       "      <td>2</td>\n",
       "      <td>2.65</td>\n",
       "      <td>NaN</td>\n",
       "      <td>38.40</td>\n",
       "      <td>12</td>\n",
       "      <td>NaN</td>\n",
       "      <td>False</td>\n",
       "      <td>False</td>\n",
       "      <td>10.63</td>\n",
       "      <td>0.0</td>\n",
       "      <td>Санкт-Петербург</td>\n",
       "      <td>37364.0</td>\n",
       "      <td>8322.0</td>\n",
       "      <td>2.0</td>\n",
       "      <td>309.0</td>\n",
       "      <td>2.0</td>\n",
       "      <td>706.0</td>\n",
       "      <td>727.0</td>\n",
       "    </tr>\n",
       "    <tr>\n",
       "      <th>671</th>\n",
       "      <td>4</td>\n",
       "      <td>6051191.0</td>\n",
       "      <td>93.6</td>\n",
       "      <td>2017-04-06T00:00:00</td>\n",
       "      <td>3</td>\n",
       "      <td>2.65</td>\n",
       "      <td>NaN</td>\n",
       "      <td>47.10</td>\n",
       "      <td>8</td>\n",
       "      <td>NaN</td>\n",
       "      <td>False</td>\n",
       "      <td>False</td>\n",
       "      <td>16.80</td>\n",
       "      <td>0.0</td>\n",
       "      <td>Санкт-Петербург</td>\n",
       "      <td>22041.0</td>\n",
       "      <td>17369.0</td>\n",
       "      <td>0.0</td>\n",
       "      <td>NaN</td>\n",
       "      <td>1.0</td>\n",
       "      <td>374.0</td>\n",
       "      <td>123.0</td>\n",
       "    </tr>\n",
       "    <tr>\n",
       "      <th>1757</th>\n",
       "      <td>5</td>\n",
       "      <td>3600000.0</td>\n",
       "      <td>39.0</td>\n",
       "      <td>2017-04-22T00:00:00</td>\n",
       "      <td>1</td>\n",
       "      <td>2.65</td>\n",
       "      <td>NaN</td>\n",
       "      <td>NaN</td>\n",
       "      <td>9</td>\n",
       "      <td>NaN</td>\n",
       "      <td>False</td>\n",
       "      <td>False</td>\n",
       "      <td>NaN</td>\n",
       "      <td>0.0</td>\n",
       "      <td>Санкт-Петербург</td>\n",
       "      <td>22735.0</td>\n",
       "      <td>11618.0</td>\n",
       "      <td>1.0</td>\n",
       "      <td>835.0</td>\n",
       "      <td>1.0</td>\n",
       "      <td>652.0</td>\n",
       "      <td>77.0</td>\n",
       "    </tr>\n",
       "  </tbody>\n",
       "</table>\n",
       "</div>"
      ],
      "text/plain": [
       "      total_images  last_price  total_area first_day_exposition  rooms  \\\n",
       "186             12  11640000.0        65.2  2018-10-02T00:00:00      2   \n",
       "237              4   2438033.0        28.1  2016-11-23T00:00:00      1   \n",
       "457              4   9788348.0        70.8  2015-08-01T00:00:00      2   \n",
       "671              4   6051191.0        93.6  2017-04-06T00:00:00      3   \n",
       "1757             5   3600000.0        39.0  2017-04-22T00:00:00      1   \n",
       "\n",
       "      ceiling_height  floors_total  living_area  floor is_apartment  studio  \\\n",
       "186             2.65           NaN        30.80      4          NaN   False   \n",
       "237             2.65           NaN        20.75      1          NaN   False   \n",
       "457             2.65           NaN        38.40     12          NaN   False   \n",
       "671             2.65           NaN        47.10      8          NaN   False   \n",
       "1757            2.65           NaN          NaN      9          NaN   False   \n",
       "\n",
       "      open_plan  kitchen_area  balcony    locality_name  airports_nearest  \\\n",
       "186       False         12.00      NaN  Санкт-Петербург           39197.0   \n",
       "237       False           NaN      0.0  Санкт-Петербург           22041.0   \n",
       "457       False         10.63      0.0  Санкт-Петербург           37364.0   \n",
       "671       False         16.80      0.0  Санкт-Петербург           22041.0   \n",
       "1757      False           NaN      0.0  Санкт-Петербург           22735.0   \n",
       "\n",
       "      cityCenters_nearest  parks_around3000  parks_nearest  ponds_around3000  \\\n",
       "186               12373.0               1.0          123.0               0.0   \n",
       "237               17369.0               0.0            NaN               1.0   \n",
       "457                8322.0               2.0          309.0               2.0   \n",
       "671               17369.0               0.0            NaN               1.0   \n",
       "1757              11618.0               1.0          835.0               1.0   \n",
       "\n",
       "      ponds_nearest  days_exposition  \n",
       "186             NaN             49.0  \n",
       "237           374.0            251.0  \n",
       "457           706.0            727.0  \n",
       "671           374.0            123.0  \n",
       "1757          652.0             77.0  "
      ]
     },
     "execution_count": 16,
     "metadata": {},
     "output_type": "execute_result"
    }
   ],
   "source": [
    "# просмотр строк с пропущенными значениями\n",
    "df[df['floors_total'].isna()].head()"
   ]
  },
  {
   "cell_type": "code",
   "execution_count": 17,
   "metadata": {},
   "outputs": [
    {
     "name": "stdout",
     "output_type": "stream",
     "text": [
      "Количество пропущенных значений: 86\n",
      "Доля пропущенных значений: 0.4%\n"
     ]
    }
   ],
   "source": [
    "# подсчет количества и доли пропущенных значений\n",
    "print('Количество пропущенных значений:','{:.0f}'.format(df['floors_total'].isna().sum()))\n",
    "print('Доля пропущенных значений:','{:.1%}'.format(df['floors_total'].isna().mean()))"
   ]
  },
  {
   "cell_type": "markdown",
   "metadata": {},
   "source": [
    "💡 *Незначительное количество пропусков позволяет предположить, что пропуски в столбце связаны с ошибками ручного ввода. Удаляем строки с пустыми значения.*"
   ]
  },
  {
   "cell_type": "code",
   "execution_count": 18,
   "metadata": {},
   "outputs": [],
   "source": [
    "# удаление строк с пропущенными значениями\n",
    "df = df.dropna(subset=['floors_total'])"
   ]
  },
  {
   "cell_type": "code",
   "execution_count": 19,
   "metadata": {
    "scrolled": true
   },
   "outputs": [
    {
     "name": "stdout",
     "output_type": "stream",
     "text": [
      "Количество пропущенных значений: 0\n"
     ]
    }
   ],
   "source": [
    "# проверка количества пропущенных значений\n",
    "print('Количество пропущенных значений:','{:.0f}'.format(df['floors_total'].isna().sum()))"
   ]
  },
  {
   "cell_type": "markdown",
   "metadata": {},
   "source": [
    "**Обработка пропусков в столбце `living_area`**"
   ]
  },
  {
   "cell_type": "code",
   "execution_count": 20,
   "metadata": {
    "scrolled": true
   },
   "outputs": [
    {
     "data": {
      "text/html": [
       "<div>\n",
       "<style scoped>\n",
       "    .dataframe tbody tr th:only-of-type {\n",
       "        vertical-align: middle;\n",
       "    }\n",
       "\n",
       "    .dataframe tbody tr th {\n",
       "        vertical-align: top;\n",
       "    }\n",
       "\n",
       "    .dataframe thead th {\n",
       "        text-align: right;\n",
       "    }\n",
       "</style>\n",
       "<table border=\"1\" class=\"dataframe\">\n",
       "  <thead>\n",
       "    <tr style=\"text-align: right;\">\n",
       "      <th></th>\n",
       "      <th>total_images</th>\n",
       "      <th>last_price</th>\n",
       "      <th>total_area</th>\n",
       "      <th>first_day_exposition</th>\n",
       "      <th>rooms</th>\n",
       "      <th>ceiling_height</th>\n",
       "      <th>floors_total</th>\n",
       "      <th>living_area</th>\n",
       "      <th>floor</th>\n",
       "      <th>is_apartment</th>\n",
       "      <th>studio</th>\n",
       "      <th>open_plan</th>\n",
       "      <th>kitchen_area</th>\n",
       "      <th>balcony</th>\n",
       "      <th>locality_name</th>\n",
       "      <th>airports_nearest</th>\n",
       "      <th>cityCenters_nearest</th>\n",
       "      <th>parks_around3000</th>\n",
       "      <th>parks_nearest</th>\n",
       "      <th>ponds_around3000</th>\n",
       "      <th>ponds_nearest</th>\n",
       "      <th>days_exposition</th>\n",
       "    </tr>\n",
       "  </thead>\n",
       "  <tbody>\n",
       "    <tr>\n",
       "      <th>3</th>\n",
       "      <td>0</td>\n",
       "      <td>64900000.0</td>\n",
       "      <td>159.0</td>\n",
       "      <td>2015-07-24T00:00:00</td>\n",
       "      <td>3</td>\n",
       "      <td>2.65</td>\n",
       "      <td>14.0</td>\n",
       "      <td>NaN</td>\n",
       "      <td>9</td>\n",
       "      <td>NaN</td>\n",
       "      <td>False</td>\n",
       "      <td>False</td>\n",
       "      <td>NaN</td>\n",
       "      <td>0.0</td>\n",
       "      <td>Санкт-Петербург</td>\n",
       "      <td>28098.0</td>\n",
       "      <td>6800.0</td>\n",
       "      <td>2.0</td>\n",
       "      <td>84.0</td>\n",
       "      <td>3.0</td>\n",
       "      <td>234.0</td>\n",
       "      <td>424.0</td>\n",
       "    </tr>\n",
       "    <tr>\n",
       "      <th>7</th>\n",
       "      <td>5</td>\n",
       "      <td>7915000.0</td>\n",
       "      <td>71.6</td>\n",
       "      <td>2019-04-18T00:00:00</td>\n",
       "      <td>2</td>\n",
       "      <td>2.65</td>\n",
       "      <td>24.0</td>\n",
       "      <td>NaN</td>\n",
       "      <td>22</td>\n",
       "      <td>NaN</td>\n",
       "      <td>False</td>\n",
       "      <td>False</td>\n",
       "      <td>18.9</td>\n",
       "      <td>2.0</td>\n",
       "      <td>Санкт-Петербург</td>\n",
       "      <td>23982.0</td>\n",
       "      <td>11634.0</td>\n",
       "      <td>0.0</td>\n",
       "      <td>NaN</td>\n",
       "      <td>0.0</td>\n",
       "      <td>NaN</td>\n",
       "      <td>NaN</td>\n",
       "    </tr>\n",
       "    <tr>\n",
       "      <th>30</th>\n",
       "      <td>12</td>\n",
       "      <td>2200000.0</td>\n",
       "      <td>32.8</td>\n",
       "      <td>2018-02-19T00:00:00</td>\n",
       "      <td>1</td>\n",
       "      <td>2.65</td>\n",
       "      <td>9.0</td>\n",
       "      <td>NaN</td>\n",
       "      <td>2</td>\n",
       "      <td>NaN</td>\n",
       "      <td>False</td>\n",
       "      <td>False</td>\n",
       "      <td>NaN</td>\n",
       "      <td>NaN</td>\n",
       "      <td>Коммунар</td>\n",
       "      <td>NaN</td>\n",
       "      <td>NaN</td>\n",
       "      <td>NaN</td>\n",
       "      <td>NaN</td>\n",
       "      <td>NaN</td>\n",
       "      <td>NaN</td>\n",
       "      <td>63.0</td>\n",
       "    </tr>\n",
       "    <tr>\n",
       "      <th>37</th>\n",
       "      <td>10</td>\n",
       "      <td>1990000.0</td>\n",
       "      <td>45.8</td>\n",
       "      <td>2017-10-28T00:00:00</td>\n",
       "      <td>2</td>\n",
       "      <td>2.50</td>\n",
       "      <td>5.0</td>\n",
       "      <td>NaN</td>\n",
       "      <td>1</td>\n",
       "      <td>NaN</td>\n",
       "      <td>False</td>\n",
       "      <td>False</td>\n",
       "      <td>NaN</td>\n",
       "      <td>NaN</td>\n",
       "      <td>поселок городского типа Красный Бор</td>\n",
       "      <td>NaN</td>\n",
       "      <td>NaN</td>\n",
       "      <td>NaN</td>\n",
       "      <td>NaN</td>\n",
       "      <td>NaN</td>\n",
       "      <td>NaN</td>\n",
       "      <td>196.0</td>\n",
       "    </tr>\n",
       "    <tr>\n",
       "      <th>44</th>\n",
       "      <td>13</td>\n",
       "      <td>5350000.0</td>\n",
       "      <td>40.0</td>\n",
       "      <td>2018-11-18T00:00:00</td>\n",
       "      <td>1</td>\n",
       "      <td>2.65</td>\n",
       "      <td>22.0</td>\n",
       "      <td>NaN</td>\n",
       "      <td>3</td>\n",
       "      <td>NaN</td>\n",
       "      <td>False</td>\n",
       "      <td>False</td>\n",
       "      <td>NaN</td>\n",
       "      <td>1.0</td>\n",
       "      <td>Санкт-Петербург</td>\n",
       "      <td>30471.0</td>\n",
       "      <td>11603.0</td>\n",
       "      <td>1.0</td>\n",
       "      <td>620.0</td>\n",
       "      <td>1.0</td>\n",
       "      <td>1152.0</td>\n",
       "      <td>NaN</td>\n",
       "    </tr>\n",
       "  </tbody>\n",
       "</table>\n",
       "</div>"
      ],
      "text/plain": [
       "    total_images  last_price  total_area first_day_exposition  rooms  \\\n",
       "3              0  64900000.0       159.0  2015-07-24T00:00:00      3   \n",
       "7              5   7915000.0        71.6  2019-04-18T00:00:00      2   \n",
       "30            12   2200000.0        32.8  2018-02-19T00:00:00      1   \n",
       "37            10   1990000.0        45.8  2017-10-28T00:00:00      2   \n",
       "44            13   5350000.0        40.0  2018-11-18T00:00:00      1   \n",
       "\n",
       "    ceiling_height  floors_total  living_area  floor is_apartment  studio  \\\n",
       "3             2.65          14.0          NaN      9          NaN   False   \n",
       "7             2.65          24.0          NaN     22          NaN   False   \n",
       "30            2.65           9.0          NaN      2          NaN   False   \n",
       "37            2.50           5.0          NaN      1          NaN   False   \n",
       "44            2.65          22.0          NaN      3          NaN   False   \n",
       "\n",
       "    open_plan  kitchen_area  balcony                        locality_name  \\\n",
       "3       False           NaN      0.0                      Санкт-Петербург   \n",
       "7       False          18.9      2.0                      Санкт-Петербург   \n",
       "30      False           NaN      NaN                             Коммунар   \n",
       "37      False           NaN      NaN  поселок городского типа Красный Бор   \n",
       "44      False           NaN      1.0                      Санкт-Петербург   \n",
       "\n",
       "    airports_nearest  cityCenters_nearest  parks_around3000  parks_nearest  \\\n",
       "3            28098.0               6800.0               2.0           84.0   \n",
       "7            23982.0              11634.0               0.0            NaN   \n",
       "30               NaN                  NaN               NaN            NaN   \n",
       "37               NaN                  NaN               NaN            NaN   \n",
       "44           30471.0              11603.0               1.0          620.0   \n",
       "\n",
       "    ponds_around3000  ponds_nearest  days_exposition  \n",
       "3                3.0          234.0            424.0  \n",
       "7                0.0            NaN              NaN  \n",
       "30               NaN            NaN             63.0  \n",
       "37               NaN            NaN            196.0  \n",
       "44               1.0         1152.0              NaN  "
      ]
     },
     "execution_count": 20,
     "metadata": {},
     "output_type": "execute_result"
    }
   ],
   "source": [
    "# просмотр строк с пропущенными значениями\n",
    "df[df['living_area'].isna()].head()"
   ]
  },
  {
   "cell_type": "code",
   "execution_count": 21,
   "metadata": {
    "scrolled": true
   },
   "outputs": [],
   "source": [
    "# создание переменной с булевым списком пропусков\n",
    "living_area_na = df['living_area'].isna().tolist()"
   ]
  },
  {
   "cell_type": "code",
   "execution_count": 22,
   "metadata": {},
   "outputs": [
    {
     "name": "stdout",
     "output_type": "stream",
     "text": [
      "Количество пропущенных значений: 1870\n",
      "Доля пропущенных значений: 7.9%\n"
     ]
    }
   ],
   "source": [
    "# подсчет количества и доли пропущенных значений\n",
    "print('Количество пропущенных значений:','{:.0f}'.format(df['living_area'].isna().sum()))\n",
    "print('Доля пропущенных значений:','{:.1%}'.format(df['living_area'].isna().mean()))"
   ]
  },
  {
   "cell_type": "markdown",
   "metadata": {},
   "source": [
    "💡 *Владельцы недвижимости не заполняли данные о жилой площади. Ввиду небольшой доли пропущенных значений, допустимо обработать их с помощью:*    \n",
    "1) *медианного соотношения жилой площади к общей для данных, которые не содержат информации о площади кухни;*    \n",
    "2) *медианного соотношения жилой площади к общей за вычетом площади кухни для данных, которые содержат информацию о площади кухни.*"
   ]
  },
  {
   "cell_type": "code",
   "execution_count": 23,
   "metadata": {},
   "outputs": [
    {
     "data": {
      "text/plain": [
       "0.5681818181818182"
      ]
     },
     "execution_count": 23,
     "metadata": {},
     "output_type": "execute_result"
    }
   ],
   "source": [
    "# медианное соотношение жилой площади к общей\n",
    "living_area_ratio = (df['living_area']/df['total_area']).median()\n",
    "living_area_ratio"
   ]
  },
  {
   "cell_type": "code",
   "execution_count": 24,
   "metadata": {
    "scrolled": true
   },
   "outputs": [
    {
     "data": {
      "text/plain": [
       "0.6901840490797546"
      ]
     },
     "execution_count": 24,
     "metadata": {},
     "output_type": "execute_result"
    }
   ],
   "source": [
    "# медианное соотношение жилой площади к общей площади без учета кухни\n",
    "living_area_ratio_without_kitchen = (df['living_area']/(df['total_area'] - df['kitchen_area'])).median()\n",
    "living_area_ratio_without_kitchen"
   ]
  },
  {
   "cell_type": "code",
   "execution_count": 25,
   "metadata": {},
   "outputs": [],
   "source": [
    "# заполнение пропусков в столбце с помощью медианного соотношения жилой площади к общей\n",
    "df.loc[(df['living_area'].isna()) \n",
    "       & (df['kitchen_area'].isna()),'living_area'] = (living_area_ratio*df['total_area'])\n",
    "\n",
    "# заполнение пропусков в столбце с помощью медианного соотношения жилой площади к общей площади без учета кухни\n",
    "df.loc[(df['living_area'].isna()) \n",
    "       & ~(df['kitchen_area'].isna()),'living_area'] = (living_area_ratio_without_kitchen*\n",
    "                                                        (df['total_area'] - df['kitchen_area']))"
   ]
  },
  {
   "cell_type": "code",
   "execution_count": 26,
   "metadata": {},
   "outputs": [
    {
     "data": {
      "text/html": [
       "<div>\n",
       "<style scoped>\n",
       "    .dataframe tbody tr th:only-of-type {\n",
       "        vertical-align: middle;\n",
       "    }\n",
       "\n",
       "    .dataframe tbody tr th {\n",
       "        vertical-align: top;\n",
       "    }\n",
       "\n",
       "    .dataframe thead th {\n",
       "        text-align: right;\n",
       "    }\n",
       "</style>\n",
       "<table border=\"1\" class=\"dataframe\">\n",
       "  <thead>\n",
       "    <tr style=\"text-align: right;\">\n",
       "      <th></th>\n",
       "      <th>total_images</th>\n",
       "      <th>last_price</th>\n",
       "      <th>total_area</th>\n",
       "      <th>first_day_exposition</th>\n",
       "      <th>rooms</th>\n",
       "      <th>ceiling_height</th>\n",
       "      <th>floors_total</th>\n",
       "      <th>living_area</th>\n",
       "      <th>floor</th>\n",
       "      <th>is_apartment</th>\n",
       "      <th>studio</th>\n",
       "      <th>open_plan</th>\n",
       "      <th>kitchen_area</th>\n",
       "      <th>balcony</th>\n",
       "      <th>locality_name</th>\n",
       "      <th>airports_nearest</th>\n",
       "      <th>cityCenters_nearest</th>\n",
       "      <th>parks_around3000</th>\n",
       "      <th>parks_nearest</th>\n",
       "      <th>ponds_around3000</th>\n",
       "      <th>ponds_nearest</th>\n",
       "      <th>days_exposition</th>\n",
       "    </tr>\n",
       "  </thead>\n",
       "  <tbody>\n",
       "    <tr>\n",
       "      <th>3</th>\n",
       "      <td>0</td>\n",
       "      <td>64900000.0</td>\n",
       "      <td>159.0</td>\n",
       "      <td>2015-07-24T00:00:00</td>\n",
       "      <td>3</td>\n",
       "      <td>2.65</td>\n",
       "      <td>14.0</td>\n",
       "      <td>90.340909</td>\n",
       "      <td>9</td>\n",
       "      <td>NaN</td>\n",
       "      <td>False</td>\n",
       "      <td>False</td>\n",
       "      <td>NaN</td>\n",
       "      <td>0.0</td>\n",
       "      <td>Санкт-Петербург</td>\n",
       "      <td>28098.0</td>\n",
       "      <td>6800.0</td>\n",
       "      <td>2.0</td>\n",
       "      <td>84.0</td>\n",
       "      <td>3.0</td>\n",
       "      <td>234.0</td>\n",
       "      <td>424.0</td>\n",
       "    </tr>\n",
       "    <tr>\n",
       "      <th>7</th>\n",
       "      <td>5</td>\n",
       "      <td>7915000.0</td>\n",
       "      <td>71.6</td>\n",
       "      <td>2019-04-18T00:00:00</td>\n",
       "      <td>2</td>\n",
       "      <td>2.65</td>\n",
       "      <td>24.0</td>\n",
       "      <td>36.372699</td>\n",
       "      <td>22</td>\n",
       "      <td>NaN</td>\n",
       "      <td>False</td>\n",
       "      <td>False</td>\n",
       "      <td>18.9</td>\n",
       "      <td>2.0</td>\n",
       "      <td>Санкт-Петербург</td>\n",
       "      <td>23982.0</td>\n",
       "      <td>11634.0</td>\n",
       "      <td>0.0</td>\n",
       "      <td>NaN</td>\n",
       "      <td>0.0</td>\n",
       "      <td>NaN</td>\n",
       "      <td>NaN</td>\n",
       "    </tr>\n",
       "    <tr>\n",
       "      <th>30</th>\n",
       "      <td>12</td>\n",
       "      <td>2200000.0</td>\n",
       "      <td>32.8</td>\n",
       "      <td>2018-02-19T00:00:00</td>\n",
       "      <td>1</td>\n",
       "      <td>2.65</td>\n",
       "      <td>9.0</td>\n",
       "      <td>18.636364</td>\n",
       "      <td>2</td>\n",
       "      <td>NaN</td>\n",
       "      <td>False</td>\n",
       "      <td>False</td>\n",
       "      <td>NaN</td>\n",
       "      <td>NaN</td>\n",
       "      <td>Коммунар</td>\n",
       "      <td>NaN</td>\n",
       "      <td>NaN</td>\n",
       "      <td>NaN</td>\n",
       "      <td>NaN</td>\n",
       "      <td>NaN</td>\n",
       "      <td>NaN</td>\n",
       "      <td>63.0</td>\n",
       "    </tr>\n",
       "    <tr>\n",
       "      <th>37</th>\n",
       "      <td>10</td>\n",
       "      <td>1990000.0</td>\n",
       "      <td>45.8</td>\n",
       "      <td>2017-10-28T00:00:00</td>\n",
       "      <td>2</td>\n",
       "      <td>2.50</td>\n",
       "      <td>5.0</td>\n",
       "      <td>26.022727</td>\n",
       "      <td>1</td>\n",
       "      <td>NaN</td>\n",
       "      <td>False</td>\n",
       "      <td>False</td>\n",
       "      <td>NaN</td>\n",
       "      <td>NaN</td>\n",
       "      <td>поселок городского типа Красный Бор</td>\n",
       "      <td>NaN</td>\n",
       "      <td>NaN</td>\n",
       "      <td>NaN</td>\n",
       "      <td>NaN</td>\n",
       "      <td>NaN</td>\n",
       "      <td>NaN</td>\n",
       "      <td>196.0</td>\n",
       "    </tr>\n",
       "    <tr>\n",
       "      <th>44</th>\n",
       "      <td>13</td>\n",
       "      <td>5350000.0</td>\n",
       "      <td>40.0</td>\n",
       "      <td>2018-11-18T00:00:00</td>\n",
       "      <td>1</td>\n",
       "      <td>2.65</td>\n",
       "      <td>22.0</td>\n",
       "      <td>22.727273</td>\n",
       "      <td>3</td>\n",
       "      <td>NaN</td>\n",
       "      <td>False</td>\n",
       "      <td>False</td>\n",
       "      <td>NaN</td>\n",
       "      <td>1.0</td>\n",
       "      <td>Санкт-Петербург</td>\n",
       "      <td>30471.0</td>\n",
       "      <td>11603.0</td>\n",
       "      <td>1.0</td>\n",
       "      <td>620.0</td>\n",
       "      <td>1.0</td>\n",
       "      <td>1152.0</td>\n",
       "      <td>NaN</td>\n",
       "    </tr>\n",
       "  </tbody>\n",
       "</table>\n",
       "</div>"
      ],
      "text/plain": [
       "    total_images  last_price  total_area first_day_exposition  rooms  \\\n",
       "3              0  64900000.0       159.0  2015-07-24T00:00:00      3   \n",
       "7              5   7915000.0        71.6  2019-04-18T00:00:00      2   \n",
       "30            12   2200000.0        32.8  2018-02-19T00:00:00      1   \n",
       "37            10   1990000.0        45.8  2017-10-28T00:00:00      2   \n",
       "44            13   5350000.0        40.0  2018-11-18T00:00:00      1   \n",
       "\n",
       "    ceiling_height  floors_total  living_area  floor is_apartment  studio  \\\n",
       "3             2.65          14.0    90.340909      9          NaN   False   \n",
       "7             2.65          24.0    36.372699     22          NaN   False   \n",
       "30            2.65           9.0    18.636364      2          NaN   False   \n",
       "37            2.50           5.0    26.022727      1          NaN   False   \n",
       "44            2.65          22.0    22.727273      3          NaN   False   \n",
       "\n",
       "    open_plan  kitchen_area  balcony                        locality_name  \\\n",
       "3       False           NaN      0.0                      Санкт-Петербург   \n",
       "7       False          18.9      2.0                      Санкт-Петербург   \n",
       "30      False           NaN      NaN                             Коммунар   \n",
       "37      False           NaN      NaN  поселок городского типа Красный Бор   \n",
       "44      False           NaN      1.0                      Санкт-Петербург   \n",
       "\n",
       "    airports_nearest  cityCenters_nearest  parks_around3000  parks_nearest  \\\n",
       "3            28098.0               6800.0               2.0           84.0   \n",
       "7            23982.0              11634.0               0.0            NaN   \n",
       "30               NaN                  NaN               NaN            NaN   \n",
       "37               NaN                  NaN               NaN            NaN   \n",
       "44           30471.0              11603.0               1.0          620.0   \n",
       "\n",
       "    ponds_around3000  ponds_nearest  days_exposition  \n",
       "3                3.0          234.0            424.0  \n",
       "7                0.0            NaN              NaN  \n",
       "30               NaN            NaN             63.0  \n",
       "37               NaN            NaN            196.0  \n",
       "44               1.0         1152.0              NaN  "
      ]
     },
     "execution_count": 26,
     "metadata": {},
     "output_type": "execute_result"
    }
   ],
   "source": [
    "# проверка корректного заполнения строк с пропущенными значениями\n",
    "df.query('@living_area_na').head()"
   ]
  },
  {
   "cell_type": "code",
   "execution_count": 27,
   "metadata": {},
   "outputs": [
    {
     "name": "stdout",
     "output_type": "stream",
     "text": [
      "Количество пропущенных значений: 0\n"
     ]
    }
   ],
   "source": [
    "# проверка количества пропущенных значений\n",
    "print('Количество пропущенных значений:','{:.0f}'.format(df['living_area'].isna().sum()))"
   ]
  },
  {
   "cell_type": "markdown",
   "metadata": {},
   "source": [
    "**Обработка пропусков в столбце `is_apartment`**"
   ]
  },
  {
   "cell_type": "code",
   "execution_count": 28,
   "metadata": {},
   "outputs": [
    {
     "data": {
      "text/html": [
       "<div>\n",
       "<style scoped>\n",
       "    .dataframe tbody tr th:only-of-type {\n",
       "        vertical-align: middle;\n",
       "    }\n",
       "\n",
       "    .dataframe tbody tr th {\n",
       "        vertical-align: top;\n",
       "    }\n",
       "\n",
       "    .dataframe thead th {\n",
       "        text-align: right;\n",
       "    }\n",
       "</style>\n",
       "<table border=\"1\" class=\"dataframe\">\n",
       "  <thead>\n",
       "    <tr style=\"text-align: right;\">\n",
       "      <th></th>\n",
       "      <th>total_images</th>\n",
       "      <th>last_price</th>\n",
       "      <th>total_area</th>\n",
       "      <th>first_day_exposition</th>\n",
       "      <th>rooms</th>\n",
       "      <th>ceiling_height</th>\n",
       "      <th>floors_total</th>\n",
       "      <th>living_area</th>\n",
       "      <th>floor</th>\n",
       "      <th>is_apartment</th>\n",
       "      <th>studio</th>\n",
       "      <th>open_plan</th>\n",
       "      <th>kitchen_area</th>\n",
       "      <th>balcony</th>\n",
       "      <th>locality_name</th>\n",
       "      <th>airports_nearest</th>\n",
       "      <th>cityCenters_nearest</th>\n",
       "      <th>parks_around3000</th>\n",
       "      <th>parks_nearest</th>\n",
       "      <th>ponds_around3000</th>\n",
       "      <th>ponds_nearest</th>\n",
       "      <th>days_exposition</th>\n",
       "    </tr>\n",
       "  </thead>\n",
       "  <tbody>\n",
       "    <tr>\n",
       "      <th>0</th>\n",
       "      <td>20</td>\n",
       "      <td>13000000.0</td>\n",
       "      <td>108.0</td>\n",
       "      <td>2019-03-07T00:00:00</td>\n",
       "      <td>3</td>\n",
       "      <td>2.70</td>\n",
       "      <td>16.0</td>\n",
       "      <td>51.000000</td>\n",
       "      <td>8</td>\n",
       "      <td>NaN</td>\n",
       "      <td>False</td>\n",
       "      <td>False</td>\n",
       "      <td>25.0</td>\n",
       "      <td>NaN</td>\n",
       "      <td>Санкт-Петербург</td>\n",
       "      <td>18863.0</td>\n",
       "      <td>16028.0</td>\n",
       "      <td>1.0</td>\n",
       "      <td>482.0</td>\n",
       "      <td>2.0</td>\n",
       "      <td>755.0</td>\n",
       "      <td>NaN</td>\n",
       "    </tr>\n",
       "    <tr>\n",
       "      <th>1</th>\n",
       "      <td>7</td>\n",
       "      <td>3350000.0</td>\n",
       "      <td>40.4</td>\n",
       "      <td>2018-12-04T00:00:00</td>\n",
       "      <td>1</td>\n",
       "      <td>2.65</td>\n",
       "      <td>11.0</td>\n",
       "      <td>18.600000</td>\n",
       "      <td>1</td>\n",
       "      <td>NaN</td>\n",
       "      <td>False</td>\n",
       "      <td>False</td>\n",
       "      <td>11.0</td>\n",
       "      <td>2.0</td>\n",
       "      <td>посёлок Шушары</td>\n",
       "      <td>12817.0</td>\n",
       "      <td>18603.0</td>\n",
       "      <td>0.0</td>\n",
       "      <td>NaN</td>\n",
       "      <td>0.0</td>\n",
       "      <td>NaN</td>\n",
       "      <td>81.0</td>\n",
       "    </tr>\n",
       "    <tr>\n",
       "      <th>2</th>\n",
       "      <td>10</td>\n",
       "      <td>5196000.0</td>\n",
       "      <td>56.0</td>\n",
       "      <td>2015-08-20T00:00:00</td>\n",
       "      <td>2</td>\n",
       "      <td>2.65</td>\n",
       "      <td>5.0</td>\n",
       "      <td>34.300000</td>\n",
       "      <td>4</td>\n",
       "      <td>NaN</td>\n",
       "      <td>False</td>\n",
       "      <td>False</td>\n",
       "      <td>8.3</td>\n",
       "      <td>0.0</td>\n",
       "      <td>Санкт-Петербург</td>\n",
       "      <td>21741.0</td>\n",
       "      <td>13933.0</td>\n",
       "      <td>1.0</td>\n",
       "      <td>90.0</td>\n",
       "      <td>2.0</td>\n",
       "      <td>574.0</td>\n",
       "      <td>558.0</td>\n",
       "    </tr>\n",
       "    <tr>\n",
       "      <th>3</th>\n",
       "      <td>0</td>\n",
       "      <td>64900000.0</td>\n",
       "      <td>159.0</td>\n",
       "      <td>2015-07-24T00:00:00</td>\n",
       "      <td>3</td>\n",
       "      <td>2.65</td>\n",
       "      <td>14.0</td>\n",
       "      <td>90.340909</td>\n",
       "      <td>9</td>\n",
       "      <td>NaN</td>\n",
       "      <td>False</td>\n",
       "      <td>False</td>\n",
       "      <td>NaN</td>\n",
       "      <td>0.0</td>\n",
       "      <td>Санкт-Петербург</td>\n",
       "      <td>28098.0</td>\n",
       "      <td>6800.0</td>\n",
       "      <td>2.0</td>\n",
       "      <td>84.0</td>\n",
       "      <td>3.0</td>\n",
       "      <td>234.0</td>\n",
       "      <td>424.0</td>\n",
       "    </tr>\n",
       "    <tr>\n",
       "      <th>4</th>\n",
       "      <td>2</td>\n",
       "      <td>10000000.0</td>\n",
       "      <td>100.0</td>\n",
       "      <td>2018-06-19T00:00:00</td>\n",
       "      <td>2</td>\n",
       "      <td>3.03</td>\n",
       "      <td>14.0</td>\n",
       "      <td>32.000000</td>\n",
       "      <td>13</td>\n",
       "      <td>NaN</td>\n",
       "      <td>False</td>\n",
       "      <td>False</td>\n",
       "      <td>41.0</td>\n",
       "      <td>NaN</td>\n",
       "      <td>Санкт-Петербург</td>\n",
       "      <td>31856.0</td>\n",
       "      <td>8098.0</td>\n",
       "      <td>2.0</td>\n",
       "      <td>112.0</td>\n",
       "      <td>1.0</td>\n",
       "      <td>48.0</td>\n",
       "      <td>121.0</td>\n",
       "    </tr>\n",
       "  </tbody>\n",
       "</table>\n",
       "</div>"
      ],
      "text/plain": [
       "   total_images  last_price  total_area first_day_exposition  rooms  \\\n",
       "0            20  13000000.0       108.0  2019-03-07T00:00:00      3   \n",
       "1             7   3350000.0        40.4  2018-12-04T00:00:00      1   \n",
       "2            10   5196000.0        56.0  2015-08-20T00:00:00      2   \n",
       "3             0  64900000.0       159.0  2015-07-24T00:00:00      3   \n",
       "4             2  10000000.0       100.0  2018-06-19T00:00:00      2   \n",
       "\n",
       "   ceiling_height  floors_total  living_area  floor is_apartment  studio  \\\n",
       "0            2.70          16.0    51.000000      8          NaN   False   \n",
       "1            2.65          11.0    18.600000      1          NaN   False   \n",
       "2            2.65           5.0    34.300000      4          NaN   False   \n",
       "3            2.65          14.0    90.340909      9          NaN   False   \n",
       "4            3.03          14.0    32.000000     13          NaN   False   \n",
       "\n",
       "   open_plan  kitchen_area  balcony    locality_name  airports_nearest  \\\n",
       "0      False          25.0      NaN  Санкт-Петербург           18863.0   \n",
       "1      False          11.0      2.0   посёлок Шушары           12817.0   \n",
       "2      False           8.3      0.0  Санкт-Петербург           21741.0   \n",
       "3      False           NaN      0.0  Санкт-Петербург           28098.0   \n",
       "4      False          41.0      NaN  Санкт-Петербург           31856.0   \n",
       "\n",
       "   cityCenters_nearest  parks_around3000  parks_nearest  ponds_around3000  \\\n",
       "0              16028.0               1.0          482.0               2.0   \n",
       "1              18603.0               0.0            NaN               0.0   \n",
       "2              13933.0               1.0           90.0               2.0   \n",
       "3               6800.0               2.0           84.0               3.0   \n",
       "4               8098.0               2.0          112.0               1.0   \n",
       "\n",
       "   ponds_nearest  days_exposition  \n",
       "0          755.0              NaN  \n",
       "1            NaN             81.0  \n",
       "2          574.0            558.0  \n",
       "3          234.0            424.0  \n",
       "4           48.0            121.0  "
      ]
     },
     "execution_count": 28,
     "metadata": {},
     "output_type": "execute_result"
    }
   ],
   "source": [
    "# просмотр строк с пропущенными значениями\n",
    "df[df['is_apartment'].isna()].head()"
   ]
  },
  {
   "cell_type": "code",
   "execution_count": 29,
   "metadata": {},
   "outputs": [
    {
     "name": "stdout",
     "output_type": "stream",
     "text": [
      "Количество пропущенных значений: 20838\n",
      "Доля пропущенных значений: 88.2%\n"
     ]
    }
   ],
   "source": [
    "# подсчет количества и доли пропущенных значений\n",
    "print('Количество пропущенных значений:','{:.0f}'.format(df['is_apartment'].isna().sum()))\n",
    "print('Доля пропущенных значений:','{:.1%}'.format(df['is_apartment'].isna().mean()))"
   ]
  },
  {
   "cell_type": "markdown",
   "metadata": {},
   "source": [
    "💡 *Пропущенныех значений слишком много. Скорее всего большая часть из них является жилой недвижимостью, однако наверняка этого  мы не знаем. Оставляем пропущенные значения в столбце.*"
   ]
  },
  {
   "cell_type": "markdown",
   "metadata": {},
   "source": [
    "**Обработка пропусков в столбце `kitchen_area`**"
   ]
  },
  {
   "cell_type": "code",
   "execution_count": 30,
   "metadata": {},
   "outputs": [
    {
     "data": {
      "text/html": [
       "<div>\n",
       "<style scoped>\n",
       "    .dataframe tbody tr th:only-of-type {\n",
       "        vertical-align: middle;\n",
       "    }\n",
       "\n",
       "    .dataframe tbody tr th {\n",
       "        vertical-align: top;\n",
       "    }\n",
       "\n",
       "    .dataframe thead th {\n",
       "        text-align: right;\n",
       "    }\n",
       "</style>\n",
       "<table border=\"1\" class=\"dataframe\">\n",
       "  <thead>\n",
       "    <tr style=\"text-align: right;\">\n",
       "      <th></th>\n",
       "      <th>total_images</th>\n",
       "      <th>last_price</th>\n",
       "      <th>total_area</th>\n",
       "      <th>first_day_exposition</th>\n",
       "      <th>rooms</th>\n",
       "      <th>ceiling_height</th>\n",
       "      <th>floors_total</th>\n",
       "      <th>living_area</th>\n",
       "      <th>floor</th>\n",
       "      <th>is_apartment</th>\n",
       "      <th>studio</th>\n",
       "      <th>open_plan</th>\n",
       "      <th>kitchen_area</th>\n",
       "      <th>balcony</th>\n",
       "      <th>locality_name</th>\n",
       "      <th>airports_nearest</th>\n",
       "      <th>cityCenters_nearest</th>\n",
       "      <th>parks_around3000</th>\n",
       "      <th>parks_nearest</th>\n",
       "      <th>ponds_around3000</th>\n",
       "      <th>ponds_nearest</th>\n",
       "      <th>days_exposition</th>\n",
       "    </tr>\n",
       "  </thead>\n",
       "  <tbody>\n",
       "    <tr>\n",
       "      <th>3</th>\n",
       "      <td>0</td>\n",
       "      <td>64900000.0</td>\n",
       "      <td>159.0</td>\n",
       "      <td>2015-07-24T00:00:00</td>\n",
       "      <td>3</td>\n",
       "      <td>2.65</td>\n",
       "      <td>14.0</td>\n",
       "      <td>90.340909</td>\n",
       "      <td>9</td>\n",
       "      <td>NaN</td>\n",
       "      <td>False</td>\n",
       "      <td>False</td>\n",
       "      <td>NaN</td>\n",
       "      <td>0.0</td>\n",
       "      <td>Санкт-Петербург</td>\n",
       "      <td>28098.0</td>\n",
       "      <td>6800.0</td>\n",
       "      <td>2.0</td>\n",
       "      <td>84.0</td>\n",
       "      <td>3.0</td>\n",
       "      <td>234.0</td>\n",
       "      <td>424.0</td>\n",
       "    </tr>\n",
       "    <tr>\n",
       "      <th>30</th>\n",
       "      <td>12</td>\n",
       "      <td>2200000.0</td>\n",
       "      <td>32.8</td>\n",
       "      <td>2018-02-19T00:00:00</td>\n",
       "      <td>1</td>\n",
       "      <td>2.65</td>\n",
       "      <td>9.0</td>\n",
       "      <td>18.636364</td>\n",
       "      <td>2</td>\n",
       "      <td>NaN</td>\n",
       "      <td>False</td>\n",
       "      <td>False</td>\n",
       "      <td>NaN</td>\n",
       "      <td>NaN</td>\n",
       "      <td>Коммунар</td>\n",
       "      <td>NaN</td>\n",
       "      <td>NaN</td>\n",
       "      <td>NaN</td>\n",
       "      <td>NaN</td>\n",
       "      <td>NaN</td>\n",
       "      <td>NaN</td>\n",
       "      <td>63.0</td>\n",
       "    </tr>\n",
       "    <tr>\n",
       "      <th>37</th>\n",
       "      <td>10</td>\n",
       "      <td>1990000.0</td>\n",
       "      <td>45.8</td>\n",
       "      <td>2017-10-28T00:00:00</td>\n",
       "      <td>2</td>\n",
       "      <td>2.50</td>\n",
       "      <td>5.0</td>\n",
       "      <td>26.022727</td>\n",
       "      <td>1</td>\n",
       "      <td>NaN</td>\n",
       "      <td>False</td>\n",
       "      <td>False</td>\n",
       "      <td>NaN</td>\n",
       "      <td>NaN</td>\n",
       "      <td>поселок городского типа Красный Бор</td>\n",
       "      <td>NaN</td>\n",
       "      <td>NaN</td>\n",
       "      <td>NaN</td>\n",
       "      <td>NaN</td>\n",
       "      <td>NaN</td>\n",
       "      <td>NaN</td>\n",
       "      <td>196.0</td>\n",
       "    </tr>\n",
       "    <tr>\n",
       "      <th>44</th>\n",
       "      <td>13</td>\n",
       "      <td>5350000.0</td>\n",
       "      <td>40.0</td>\n",
       "      <td>2018-11-18T00:00:00</td>\n",
       "      <td>1</td>\n",
       "      <td>2.65</td>\n",
       "      <td>22.0</td>\n",
       "      <td>22.727273</td>\n",
       "      <td>3</td>\n",
       "      <td>NaN</td>\n",
       "      <td>False</td>\n",
       "      <td>False</td>\n",
       "      <td>NaN</td>\n",
       "      <td>1.0</td>\n",
       "      <td>Санкт-Петербург</td>\n",
       "      <td>30471.0</td>\n",
       "      <td>11603.0</td>\n",
       "      <td>1.0</td>\n",
       "      <td>620.0</td>\n",
       "      <td>1.0</td>\n",
       "      <td>1152.0</td>\n",
       "      <td>NaN</td>\n",
       "    </tr>\n",
       "    <tr>\n",
       "      <th>59</th>\n",
       "      <td>15</td>\n",
       "      <td>6300000.0</td>\n",
       "      <td>46.5</td>\n",
       "      <td>2017-03-06T00:00:00</td>\n",
       "      <td>1</td>\n",
       "      <td>2.65</td>\n",
       "      <td>13.0</td>\n",
       "      <td>26.420455</td>\n",
       "      <td>13</td>\n",
       "      <td>NaN</td>\n",
       "      <td>False</td>\n",
       "      <td>False</td>\n",
       "      <td>NaN</td>\n",
       "      <td>NaN</td>\n",
       "      <td>Санкт-Петербург</td>\n",
       "      <td>11125.0</td>\n",
       "      <td>14501.0</td>\n",
       "      <td>0.0</td>\n",
       "      <td>NaN</td>\n",
       "      <td>0.0</td>\n",
       "      <td>NaN</td>\n",
       "      <td>336.0</td>\n",
       "    </tr>\n",
       "  </tbody>\n",
       "</table>\n",
       "</div>"
      ],
      "text/plain": [
       "    total_images  last_price  total_area first_day_exposition  rooms  \\\n",
       "3              0  64900000.0       159.0  2015-07-24T00:00:00      3   \n",
       "30            12   2200000.0        32.8  2018-02-19T00:00:00      1   \n",
       "37            10   1990000.0        45.8  2017-10-28T00:00:00      2   \n",
       "44            13   5350000.0        40.0  2018-11-18T00:00:00      1   \n",
       "59            15   6300000.0        46.5  2017-03-06T00:00:00      1   \n",
       "\n",
       "    ceiling_height  floors_total  living_area  floor is_apartment  studio  \\\n",
       "3             2.65          14.0    90.340909      9          NaN   False   \n",
       "30            2.65           9.0    18.636364      2          NaN   False   \n",
       "37            2.50           5.0    26.022727      1          NaN   False   \n",
       "44            2.65          22.0    22.727273      3          NaN   False   \n",
       "59            2.65          13.0    26.420455     13          NaN   False   \n",
       "\n",
       "    open_plan  kitchen_area  balcony                        locality_name  \\\n",
       "3       False           NaN      0.0                      Санкт-Петербург   \n",
       "30      False           NaN      NaN                             Коммунар   \n",
       "37      False           NaN      NaN  поселок городского типа Красный Бор   \n",
       "44      False           NaN      1.0                      Санкт-Петербург   \n",
       "59      False           NaN      NaN                      Санкт-Петербург   \n",
       "\n",
       "    airports_nearest  cityCenters_nearest  parks_around3000  parks_nearest  \\\n",
       "3            28098.0               6800.0               2.0           84.0   \n",
       "30               NaN                  NaN               NaN            NaN   \n",
       "37               NaN                  NaN               NaN            NaN   \n",
       "44           30471.0              11603.0               1.0          620.0   \n",
       "59           11125.0              14501.0               0.0            NaN   \n",
       "\n",
       "    ponds_around3000  ponds_nearest  days_exposition  \n",
       "3                3.0          234.0            424.0  \n",
       "30               NaN            NaN             63.0  \n",
       "37               NaN            NaN            196.0  \n",
       "44               1.0         1152.0              NaN  \n",
       "59               0.0            NaN            336.0  "
      ]
     },
     "execution_count": 30,
     "metadata": {},
     "output_type": "execute_result"
    }
   ],
   "source": [
    "# просмотр строк с пропущенными значениями\n",
    "df[df['kitchen_area'].isna()].head()"
   ]
  },
  {
   "cell_type": "code",
   "execution_count": 31,
   "metadata": {},
   "outputs": [
    {
     "data": {
      "text/plain": [
       "64"
      ]
     },
     "execution_count": 31,
     "metadata": {},
     "output_type": "execute_result"
    }
   ],
   "source": [
    "# подсчет аномальных значений (площадь кухни + жилая площадь > общей площади)\n",
    "(df['kitchen_area'] + df['living_area'] > df['total_area']).sum()"
   ]
  },
  {
   "cell_type": "markdown",
   "metadata": {},
   "source": [
    "Аномальных значений достаточно мало, удалим их:"
   ]
  },
  {
   "cell_type": "code",
   "execution_count": 32,
   "metadata": {},
   "outputs": [],
   "source": [
    "# удаление строк с аномалиями\n",
    "df = df.query('~((kitchen_area + living_area) > total_area)')"
   ]
  },
  {
   "cell_type": "code",
   "execution_count": 33,
   "metadata": {},
   "outputs": [],
   "source": [
    "# создание переменной с булевым списком пропусков\n",
    "kitchen_area_na = df['kitchen_area'].isna().tolist()"
   ]
  },
  {
   "cell_type": "code",
   "execution_count": 34,
   "metadata": {},
   "outputs": [
    {
     "name": "stdout",
     "output_type": "stream",
     "text": [
      "Количество пропущенных значений: 2231\n",
      "Доля пропущенных значений: 9.5%\n"
     ]
    }
   ],
   "source": [
    "# подсчет количества и доли пропущенных значений\n",
    "print('Количество пропущенных значений:','{:.0f}'.format(df['kitchen_area'].isna().sum()))\n",
    "print('Доля пропущенных значений:','{:.1%}'.format(df['kitchen_area'].isna().mean()))"
   ]
  },
  {
   "cell_type": "markdown",
   "metadata": {},
   "source": [
    "💡 *Владельцы недвижимости не заполняли данные о площади кухни . Заполним пропуски с применением медианного соотношения площади кухни к нежилой площади.*"
   ]
  },
  {
   "cell_type": "code",
   "execution_count": 35,
   "metadata": {},
   "outputs": [
    {
     "data": {
      "text/plain": [
       "0.41166329407202273"
      ]
     },
     "execution_count": 35,
     "metadata": {},
     "output_type": "execute_result"
    }
   ],
   "source": [
    "# медианная доля площади кухни к нежилой площади\n",
    "kitchen_area_ratio = (df['kitchen_area']/(df['total_area'] - df['living_area'])).median()\n",
    "kitchen_area_ratio"
   ]
  },
  {
   "cell_type": "code",
   "execution_count": 36,
   "metadata": {},
   "outputs": [],
   "source": [
    "# заполнение пропусков в столбце медианным значением\n",
    "df['kitchen_area'] = df['kitchen_area'].fillna(kitchen_area_ratio*(df['total_area']-df['living_area']))"
   ]
  },
  {
   "cell_type": "code",
   "execution_count": 37,
   "metadata": {
    "scrolled": true
   },
   "outputs": [
    {
     "data": {
      "text/html": [
       "<div>\n",
       "<style scoped>\n",
       "    .dataframe tbody tr th:only-of-type {\n",
       "        vertical-align: middle;\n",
       "    }\n",
       "\n",
       "    .dataframe tbody tr th {\n",
       "        vertical-align: top;\n",
       "    }\n",
       "\n",
       "    .dataframe thead th {\n",
       "        text-align: right;\n",
       "    }\n",
       "</style>\n",
       "<table border=\"1\" class=\"dataframe\">\n",
       "  <thead>\n",
       "    <tr style=\"text-align: right;\">\n",
       "      <th></th>\n",
       "      <th>total_images</th>\n",
       "      <th>last_price</th>\n",
       "      <th>total_area</th>\n",
       "      <th>first_day_exposition</th>\n",
       "      <th>rooms</th>\n",
       "      <th>ceiling_height</th>\n",
       "      <th>floors_total</th>\n",
       "      <th>living_area</th>\n",
       "      <th>floor</th>\n",
       "      <th>is_apartment</th>\n",
       "      <th>studio</th>\n",
       "      <th>open_plan</th>\n",
       "      <th>kitchen_area</th>\n",
       "      <th>balcony</th>\n",
       "      <th>locality_name</th>\n",
       "      <th>airports_nearest</th>\n",
       "      <th>cityCenters_nearest</th>\n",
       "      <th>parks_around3000</th>\n",
       "      <th>parks_nearest</th>\n",
       "      <th>ponds_around3000</th>\n",
       "      <th>ponds_nearest</th>\n",
       "      <th>days_exposition</th>\n",
       "    </tr>\n",
       "  </thead>\n",
       "  <tbody>\n",
       "    <tr>\n",
       "      <th>3</th>\n",
       "      <td>0</td>\n",
       "      <td>64900000.0</td>\n",
       "      <td>159.0</td>\n",
       "      <td>2015-07-24T00:00:00</td>\n",
       "      <td>3</td>\n",
       "      <td>2.65</td>\n",
       "      <td>14.0</td>\n",
       "      <td>90.340909</td>\n",
       "      <td>9</td>\n",
       "      <td>NaN</td>\n",
       "      <td>False</td>\n",
       "      <td>False</td>\n",
       "      <td>28.264428</td>\n",
       "      <td>0.0</td>\n",
       "      <td>Санкт-Петербург</td>\n",
       "      <td>28098.0</td>\n",
       "      <td>6800.0</td>\n",
       "      <td>2.0</td>\n",
       "      <td>84.0</td>\n",
       "      <td>3.0</td>\n",
       "      <td>234.0</td>\n",
       "      <td>424.0</td>\n",
       "    </tr>\n",
       "    <tr>\n",
       "      <th>30</th>\n",
       "      <td>12</td>\n",
       "      <td>2200000.0</td>\n",
       "      <td>32.8</td>\n",
       "      <td>2018-02-19T00:00:00</td>\n",
       "      <td>1</td>\n",
       "      <td>2.65</td>\n",
       "      <td>9.0</td>\n",
       "      <td>18.636364</td>\n",
       "      <td>2</td>\n",
       "      <td>NaN</td>\n",
       "      <td>False</td>\n",
       "      <td>False</td>\n",
       "      <td>5.830649</td>\n",
       "      <td>NaN</td>\n",
       "      <td>Коммунар</td>\n",
       "      <td>NaN</td>\n",
       "      <td>NaN</td>\n",
       "      <td>NaN</td>\n",
       "      <td>NaN</td>\n",
       "      <td>NaN</td>\n",
       "      <td>NaN</td>\n",
       "      <td>63.0</td>\n",
       "    </tr>\n",
       "    <tr>\n",
       "      <th>37</th>\n",
       "      <td>10</td>\n",
       "      <td>1990000.0</td>\n",
       "      <td>45.8</td>\n",
       "      <td>2017-10-28T00:00:00</td>\n",
       "      <td>2</td>\n",
       "      <td>2.50</td>\n",
       "      <td>5.0</td>\n",
       "      <td>26.022727</td>\n",
       "      <td>1</td>\n",
       "      <td>NaN</td>\n",
       "      <td>False</td>\n",
       "      <td>False</td>\n",
       "      <td>8.141577</td>\n",
       "      <td>NaN</td>\n",
       "      <td>поселок городского типа Красный Бор</td>\n",
       "      <td>NaN</td>\n",
       "      <td>NaN</td>\n",
       "      <td>NaN</td>\n",
       "      <td>NaN</td>\n",
       "      <td>NaN</td>\n",
       "      <td>NaN</td>\n",
       "      <td>196.0</td>\n",
       "    </tr>\n",
       "    <tr>\n",
       "      <th>44</th>\n",
       "      <td>13</td>\n",
       "      <td>5350000.0</td>\n",
       "      <td>40.0</td>\n",
       "      <td>2018-11-18T00:00:00</td>\n",
       "      <td>1</td>\n",
       "      <td>2.65</td>\n",
       "      <td>22.0</td>\n",
       "      <td>22.727273</td>\n",
       "      <td>3</td>\n",
       "      <td>NaN</td>\n",
       "      <td>False</td>\n",
       "      <td>False</td>\n",
       "      <td>7.110548</td>\n",
       "      <td>1.0</td>\n",
       "      <td>Санкт-Петербург</td>\n",
       "      <td>30471.0</td>\n",
       "      <td>11603.0</td>\n",
       "      <td>1.0</td>\n",
       "      <td>620.0</td>\n",
       "      <td>1.0</td>\n",
       "      <td>1152.0</td>\n",
       "      <td>NaN</td>\n",
       "    </tr>\n",
       "    <tr>\n",
       "      <th>59</th>\n",
       "      <td>15</td>\n",
       "      <td>6300000.0</td>\n",
       "      <td>46.5</td>\n",
       "      <td>2017-03-06T00:00:00</td>\n",
       "      <td>1</td>\n",
       "      <td>2.65</td>\n",
       "      <td>13.0</td>\n",
       "      <td>26.420455</td>\n",
       "      <td>13</td>\n",
       "      <td>NaN</td>\n",
       "      <td>False</td>\n",
       "      <td>False</td>\n",
       "      <td>8.266012</td>\n",
       "      <td>NaN</td>\n",
       "      <td>Санкт-Петербург</td>\n",
       "      <td>11125.0</td>\n",
       "      <td>14501.0</td>\n",
       "      <td>0.0</td>\n",
       "      <td>NaN</td>\n",
       "      <td>0.0</td>\n",
       "      <td>NaN</td>\n",
       "      <td>336.0</td>\n",
       "    </tr>\n",
       "  </tbody>\n",
       "</table>\n",
       "</div>"
      ],
      "text/plain": [
       "    total_images  last_price  total_area first_day_exposition  rooms  \\\n",
       "3              0  64900000.0       159.0  2015-07-24T00:00:00      3   \n",
       "30            12   2200000.0        32.8  2018-02-19T00:00:00      1   \n",
       "37            10   1990000.0        45.8  2017-10-28T00:00:00      2   \n",
       "44            13   5350000.0        40.0  2018-11-18T00:00:00      1   \n",
       "59            15   6300000.0        46.5  2017-03-06T00:00:00      1   \n",
       "\n",
       "    ceiling_height  floors_total  living_area  floor is_apartment  studio  \\\n",
       "3             2.65          14.0    90.340909      9          NaN   False   \n",
       "30            2.65           9.0    18.636364      2          NaN   False   \n",
       "37            2.50           5.0    26.022727      1          NaN   False   \n",
       "44            2.65          22.0    22.727273      3          NaN   False   \n",
       "59            2.65          13.0    26.420455     13          NaN   False   \n",
       "\n",
       "    open_plan  kitchen_area  balcony                        locality_name  \\\n",
       "3       False     28.264428      0.0                      Санкт-Петербург   \n",
       "30      False      5.830649      NaN                             Коммунар   \n",
       "37      False      8.141577      NaN  поселок городского типа Красный Бор   \n",
       "44      False      7.110548      1.0                      Санкт-Петербург   \n",
       "59      False      8.266012      NaN                      Санкт-Петербург   \n",
       "\n",
       "    airports_nearest  cityCenters_nearest  parks_around3000  parks_nearest  \\\n",
       "3            28098.0               6800.0               2.0           84.0   \n",
       "30               NaN                  NaN               NaN            NaN   \n",
       "37               NaN                  NaN               NaN            NaN   \n",
       "44           30471.0              11603.0               1.0          620.0   \n",
       "59           11125.0              14501.0               0.0            NaN   \n",
       "\n",
       "    ponds_around3000  ponds_nearest  days_exposition  \n",
       "3                3.0          234.0            424.0  \n",
       "30               NaN            NaN             63.0  \n",
       "37               NaN            NaN            196.0  \n",
       "44               1.0         1152.0              NaN  \n",
       "59               0.0            NaN            336.0  "
      ]
     },
     "execution_count": 37,
     "metadata": {},
     "output_type": "execute_result"
    }
   ],
   "source": [
    "# проверка корректного заполнения строк с пропущенными значениями\n",
    "df.query('@kitchen_area_na').head()"
   ]
  },
  {
   "cell_type": "code",
   "execution_count": 38,
   "metadata": {},
   "outputs": [
    {
     "name": "stdout",
     "output_type": "stream",
     "text": [
      "Количество пропущенных значений: 0\n"
     ]
    }
   ],
   "source": [
    "# проверка количества пропущенных значений\n",
    "print('Количество пропущенных значений:','{:.0f}'.format(df['kitchen_area'].isna().sum()))"
   ]
  },
  {
   "cell_type": "code",
   "execution_count": 39,
   "metadata": {},
   "outputs": [
    {
     "data": {
      "text/plain": [
       "0"
      ]
     },
     "execution_count": 39,
     "metadata": {},
     "output_type": "execute_result"
    }
   ],
   "source": [
    "# проверка отсутствия аномалий (площадь кухни + жилай площадь > общей площади)\n",
    "(df['kitchen_area'] + df['living_area'] > df['total_area']).sum()"
   ]
  },
  {
   "cell_type": "markdown",
   "metadata": {},
   "source": [
    "**Обработка пропусков в столбце `balcony`**"
   ]
  },
  {
   "cell_type": "code",
   "execution_count": 40,
   "metadata": {},
   "outputs": [
    {
     "data": {
      "text/html": [
       "<div>\n",
       "<style scoped>\n",
       "    .dataframe tbody tr th:only-of-type {\n",
       "        vertical-align: middle;\n",
       "    }\n",
       "\n",
       "    .dataframe tbody tr th {\n",
       "        vertical-align: top;\n",
       "    }\n",
       "\n",
       "    .dataframe thead th {\n",
       "        text-align: right;\n",
       "    }\n",
       "</style>\n",
       "<table border=\"1\" class=\"dataframe\">\n",
       "  <thead>\n",
       "    <tr style=\"text-align: right;\">\n",
       "      <th></th>\n",
       "      <th>total_images</th>\n",
       "      <th>last_price</th>\n",
       "      <th>total_area</th>\n",
       "      <th>first_day_exposition</th>\n",
       "      <th>rooms</th>\n",
       "      <th>ceiling_height</th>\n",
       "      <th>floors_total</th>\n",
       "      <th>living_area</th>\n",
       "      <th>floor</th>\n",
       "      <th>is_apartment</th>\n",
       "      <th>studio</th>\n",
       "      <th>open_plan</th>\n",
       "      <th>kitchen_area</th>\n",
       "      <th>balcony</th>\n",
       "      <th>locality_name</th>\n",
       "      <th>airports_nearest</th>\n",
       "      <th>cityCenters_nearest</th>\n",
       "      <th>parks_around3000</th>\n",
       "      <th>parks_nearest</th>\n",
       "      <th>ponds_around3000</th>\n",
       "      <th>ponds_nearest</th>\n",
       "      <th>days_exposition</th>\n",
       "    </tr>\n",
       "  </thead>\n",
       "  <tbody>\n",
       "    <tr>\n",
       "      <th>0</th>\n",
       "      <td>20</td>\n",
       "      <td>13000000.0</td>\n",
       "      <td>108.00</td>\n",
       "      <td>2019-03-07T00:00:00</td>\n",
       "      <td>3</td>\n",
       "      <td>2.70</td>\n",
       "      <td>16.0</td>\n",
       "      <td>51.00</td>\n",
       "      <td>8</td>\n",
       "      <td>NaN</td>\n",
       "      <td>False</td>\n",
       "      <td>False</td>\n",
       "      <td>25.00</td>\n",
       "      <td>NaN</td>\n",
       "      <td>Санкт-Петербург</td>\n",
       "      <td>18863.0</td>\n",
       "      <td>16028.0</td>\n",
       "      <td>1.0</td>\n",
       "      <td>482.0</td>\n",
       "      <td>2.0</td>\n",
       "      <td>755.0</td>\n",
       "      <td>NaN</td>\n",
       "    </tr>\n",
       "    <tr>\n",
       "      <th>4</th>\n",
       "      <td>2</td>\n",
       "      <td>10000000.0</td>\n",
       "      <td>100.00</td>\n",
       "      <td>2018-06-19T00:00:00</td>\n",
       "      <td>2</td>\n",
       "      <td>3.03</td>\n",
       "      <td>14.0</td>\n",
       "      <td>32.00</td>\n",
       "      <td>13</td>\n",
       "      <td>NaN</td>\n",
       "      <td>False</td>\n",
       "      <td>False</td>\n",
       "      <td>41.00</td>\n",
       "      <td>NaN</td>\n",
       "      <td>Санкт-Петербург</td>\n",
       "      <td>31856.0</td>\n",
       "      <td>8098.0</td>\n",
       "      <td>2.0</td>\n",
       "      <td>112.0</td>\n",
       "      <td>1.0</td>\n",
       "      <td>48.0</td>\n",
       "      <td>121.0</td>\n",
       "    </tr>\n",
       "    <tr>\n",
       "      <th>5</th>\n",
       "      <td>10</td>\n",
       "      <td>2890000.0</td>\n",
       "      <td>30.40</td>\n",
       "      <td>2018-09-10T00:00:00</td>\n",
       "      <td>1</td>\n",
       "      <td>2.65</td>\n",
       "      <td>12.0</td>\n",
       "      <td>14.40</td>\n",
       "      <td>5</td>\n",
       "      <td>NaN</td>\n",
       "      <td>False</td>\n",
       "      <td>False</td>\n",
       "      <td>9.10</td>\n",
       "      <td>NaN</td>\n",
       "      <td>городской посёлок Янино-1</td>\n",
       "      <td>NaN</td>\n",
       "      <td>NaN</td>\n",
       "      <td>NaN</td>\n",
       "      <td>NaN</td>\n",
       "      <td>NaN</td>\n",
       "      <td>NaN</td>\n",
       "      <td>55.0</td>\n",
       "    </tr>\n",
       "    <tr>\n",
       "      <th>8</th>\n",
       "      <td>20</td>\n",
       "      <td>2900000.0</td>\n",
       "      <td>33.16</td>\n",
       "      <td>2018-05-23T00:00:00</td>\n",
       "      <td>1</td>\n",
       "      <td>2.65</td>\n",
       "      <td>27.0</td>\n",
       "      <td>15.43</td>\n",
       "      <td>26</td>\n",
       "      <td>NaN</td>\n",
       "      <td>False</td>\n",
       "      <td>False</td>\n",
       "      <td>8.81</td>\n",
       "      <td>NaN</td>\n",
       "      <td>посёлок Мурино</td>\n",
       "      <td>NaN</td>\n",
       "      <td>NaN</td>\n",
       "      <td>NaN</td>\n",
       "      <td>NaN</td>\n",
       "      <td>NaN</td>\n",
       "      <td>NaN</td>\n",
       "      <td>189.0</td>\n",
       "    </tr>\n",
       "    <tr>\n",
       "      <th>10</th>\n",
       "      <td>5</td>\n",
       "      <td>5050000.0</td>\n",
       "      <td>39.60</td>\n",
       "      <td>2017-11-16T00:00:00</td>\n",
       "      <td>1</td>\n",
       "      <td>2.67</td>\n",
       "      <td>12.0</td>\n",
       "      <td>20.30</td>\n",
       "      <td>3</td>\n",
       "      <td>NaN</td>\n",
       "      <td>False</td>\n",
       "      <td>False</td>\n",
       "      <td>8.50</td>\n",
       "      <td>NaN</td>\n",
       "      <td>Санкт-Петербург</td>\n",
       "      <td>38357.0</td>\n",
       "      <td>13878.0</td>\n",
       "      <td>1.0</td>\n",
       "      <td>310.0</td>\n",
       "      <td>2.0</td>\n",
       "      <td>553.0</td>\n",
       "      <td>137.0</td>\n",
       "    </tr>\n",
       "  </tbody>\n",
       "</table>\n",
       "</div>"
      ],
      "text/plain": [
       "    total_images  last_price  total_area first_day_exposition  rooms  \\\n",
       "0             20  13000000.0      108.00  2019-03-07T00:00:00      3   \n",
       "4              2  10000000.0      100.00  2018-06-19T00:00:00      2   \n",
       "5             10   2890000.0       30.40  2018-09-10T00:00:00      1   \n",
       "8             20   2900000.0       33.16  2018-05-23T00:00:00      1   \n",
       "10             5   5050000.0       39.60  2017-11-16T00:00:00      1   \n",
       "\n",
       "    ceiling_height  floors_total  living_area  floor is_apartment  studio  \\\n",
       "0             2.70          16.0        51.00      8          NaN   False   \n",
       "4             3.03          14.0        32.00     13          NaN   False   \n",
       "5             2.65          12.0        14.40      5          NaN   False   \n",
       "8             2.65          27.0        15.43     26          NaN   False   \n",
       "10            2.67          12.0        20.30      3          NaN   False   \n",
       "\n",
       "    open_plan  kitchen_area  balcony              locality_name  \\\n",
       "0       False         25.00      NaN            Санкт-Петербург   \n",
       "4       False         41.00      NaN            Санкт-Петербург   \n",
       "5       False          9.10      NaN  городской посёлок Янино-1   \n",
       "8       False          8.81      NaN             посёлок Мурино   \n",
       "10      False          8.50      NaN            Санкт-Петербург   \n",
       "\n",
       "    airports_nearest  cityCenters_nearest  parks_around3000  parks_nearest  \\\n",
       "0            18863.0              16028.0               1.0          482.0   \n",
       "4            31856.0               8098.0               2.0          112.0   \n",
       "5                NaN                  NaN               NaN            NaN   \n",
       "8                NaN                  NaN               NaN            NaN   \n",
       "10           38357.0              13878.0               1.0          310.0   \n",
       "\n",
       "    ponds_around3000  ponds_nearest  days_exposition  \n",
       "0                2.0          755.0              NaN  \n",
       "4                1.0           48.0            121.0  \n",
       "5                NaN            NaN             55.0  \n",
       "8                NaN            NaN            189.0  \n",
       "10               2.0          553.0            137.0  "
      ]
     },
     "execution_count": 40,
     "metadata": {},
     "output_type": "execute_result"
    }
   ],
   "source": [
    "# просмотр строк с пропущенными значениями\n",
    "df[df['balcony'].isna()].head()"
   ]
  },
  {
   "cell_type": "code",
   "execution_count": 41,
   "metadata": {},
   "outputs": [
    {
     "name": "stdout",
     "output_type": "stream",
     "text": [
      "Количество пропущенных значений: 11460\n",
      "Доля пропущенных значений: 48.7%\n"
     ]
    }
   ],
   "source": [
    "# подсчет количества и доли пропущенных значений\n",
    "print('Количество пропущенных значений:','{:.0f}'.format(df['balcony'].isna().sum()))\n",
    "print('Доля пропущенных значений:','{:.1%}'.format(df['balcony'].isna().mean()))"
   ]
  },
  {
   "cell_type": "markdown",
   "metadata": {},
   "source": [
    "💡 *Предположим, что пропущенные значения появились в результате того, что люди не вносили данные в случае отсутствия балконов. Заменим пропуски на ноль.*"
   ]
  },
  {
   "cell_type": "code",
   "execution_count": 42,
   "metadata": {},
   "outputs": [],
   "source": [
    "# заполнение пропусков нулём\n",
    "df['balcony'] = df['balcony'].fillna(0)"
   ]
  },
  {
   "cell_type": "code",
   "execution_count": 43,
   "metadata": {},
   "outputs": [
    {
     "name": "stdout",
     "output_type": "stream",
     "text": [
      "Количество пропущенных значений: 0\n"
     ]
    }
   ],
   "source": [
    "# проверка количества пропущенных значений\n",
    "print('Количество пропущенных значений:','{:.0f}'.format(df['balcony'].isna().sum()))"
   ]
  },
  {
   "cell_type": "markdown",
   "metadata": {},
   "source": [
    "**Обработка пропусков в столбце `locality_name`**"
   ]
  },
  {
   "cell_type": "code",
   "execution_count": 44,
   "metadata": {},
   "outputs": [
    {
     "data": {
      "text/html": [
       "<div>\n",
       "<style scoped>\n",
       "    .dataframe tbody tr th:only-of-type {\n",
       "        vertical-align: middle;\n",
       "    }\n",
       "\n",
       "    .dataframe tbody tr th {\n",
       "        vertical-align: top;\n",
       "    }\n",
       "\n",
       "    .dataframe thead th {\n",
       "        text-align: right;\n",
       "    }\n",
       "</style>\n",
       "<table border=\"1\" class=\"dataframe\">\n",
       "  <thead>\n",
       "    <tr style=\"text-align: right;\">\n",
       "      <th></th>\n",
       "      <th>total_images</th>\n",
       "      <th>last_price</th>\n",
       "      <th>total_area</th>\n",
       "      <th>first_day_exposition</th>\n",
       "      <th>rooms</th>\n",
       "      <th>ceiling_height</th>\n",
       "      <th>floors_total</th>\n",
       "      <th>living_area</th>\n",
       "      <th>floor</th>\n",
       "      <th>is_apartment</th>\n",
       "      <th>studio</th>\n",
       "      <th>open_plan</th>\n",
       "      <th>kitchen_area</th>\n",
       "      <th>balcony</th>\n",
       "      <th>locality_name</th>\n",
       "      <th>airports_nearest</th>\n",
       "      <th>cityCenters_nearest</th>\n",
       "      <th>parks_around3000</th>\n",
       "      <th>parks_nearest</th>\n",
       "      <th>ponds_around3000</th>\n",
       "      <th>ponds_nearest</th>\n",
       "      <th>days_exposition</th>\n",
       "    </tr>\n",
       "  </thead>\n",
       "  <tbody>\n",
       "    <tr>\n",
       "      <th>1097</th>\n",
       "      <td>3</td>\n",
       "      <td>8600000.0</td>\n",
       "      <td>81.7</td>\n",
       "      <td>2016-04-15T00:00:00</td>\n",
       "      <td>3</td>\n",
       "      <td>3.55</td>\n",
       "      <td>5.0</td>\n",
       "      <td>50.8</td>\n",
       "      <td>2</td>\n",
       "      <td>NaN</td>\n",
       "      <td>False</td>\n",
       "      <td>False</td>\n",
       "      <td>8.8</td>\n",
       "      <td>0.0</td>\n",
       "      <td>NaN</td>\n",
       "      <td>23478.0</td>\n",
       "      <td>4258.0</td>\n",
       "      <td>0.0</td>\n",
       "      <td>NaN</td>\n",
       "      <td>0.0</td>\n",
       "      <td>NaN</td>\n",
       "      <td>147.0</td>\n",
       "    </tr>\n",
       "    <tr>\n",
       "      <th>2033</th>\n",
       "      <td>6</td>\n",
       "      <td>5398000.0</td>\n",
       "      <td>80.0</td>\n",
       "      <td>2017-05-30T00:00:00</td>\n",
       "      <td>3</td>\n",
       "      <td>2.65</td>\n",
       "      <td>4.0</td>\n",
       "      <td>42.6</td>\n",
       "      <td>2</td>\n",
       "      <td>NaN</td>\n",
       "      <td>False</td>\n",
       "      <td>False</td>\n",
       "      <td>18.6</td>\n",
       "      <td>0.0</td>\n",
       "      <td>NaN</td>\n",
       "      <td>NaN</td>\n",
       "      <td>NaN</td>\n",
       "      <td>NaN</td>\n",
       "      <td>NaN</td>\n",
       "      <td>NaN</td>\n",
       "      <td>NaN</td>\n",
       "      <td>34.0</td>\n",
       "    </tr>\n",
       "    <tr>\n",
       "      <th>2603</th>\n",
       "      <td>20</td>\n",
       "      <td>3351765.0</td>\n",
       "      <td>42.7</td>\n",
       "      <td>2015-09-20T00:00:00</td>\n",
       "      <td>1</td>\n",
       "      <td>2.65</td>\n",
       "      <td>24.0</td>\n",
       "      <td>15.6</td>\n",
       "      <td>3</td>\n",
       "      <td>NaN</td>\n",
       "      <td>False</td>\n",
       "      <td>False</td>\n",
       "      <td>10.7</td>\n",
       "      <td>0.0</td>\n",
       "      <td>NaN</td>\n",
       "      <td>22041.0</td>\n",
       "      <td>17369.0</td>\n",
       "      <td>0.0</td>\n",
       "      <td>NaN</td>\n",
       "      <td>1.0</td>\n",
       "      <td>374.0</td>\n",
       "      <td>276.0</td>\n",
       "    </tr>\n",
       "    <tr>\n",
       "      <th>2632</th>\n",
       "      <td>2</td>\n",
       "      <td>5130593.0</td>\n",
       "      <td>62.4</td>\n",
       "      <td>2015-10-11T00:00:00</td>\n",
       "      <td>2</td>\n",
       "      <td>2.65</td>\n",
       "      <td>24.0</td>\n",
       "      <td>33.1</td>\n",
       "      <td>21</td>\n",
       "      <td>NaN</td>\n",
       "      <td>False</td>\n",
       "      <td>False</td>\n",
       "      <td>8.2</td>\n",
       "      <td>0.0</td>\n",
       "      <td>NaN</td>\n",
       "      <td>22041.0</td>\n",
       "      <td>17369.0</td>\n",
       "      <td>0.0</td>\n",
       "      <td>NaN</td>\n",
       "      <td>1.0</td>\n",
       "      <td>374.0</td>\n",
       "      <td>256.0</td>\n",
       "    </tr>\n",
       "    <tr>\n",
       "      <th>3574</th>\n",
       "      <td>10</td>\n",
       "      <td>4200000.0</td>\n",
       "      <td>46.5</td>\n",
       "      <td>2016-05-28T00:00:00</td>\n",
       "      <td>2</td>\n",
       "      <td>2.65</td>\n",
       "      <td>5.0</td>\n",
       "      <td>30.8</td>\n",
       "      <td>5</td>\n",
       "      <td>NaN</td>\n",
       "      <td>False</td>\n",
       "      <td>False</td>\n",
       "      <td>6.5</td>\n",
       "      <td>0.0</td>\n",
       "      <td>NaN</td>\n",
       "      <td>27419.0</td>\n",
       "      <td>8127.0</td>\n",
       "      <td>0.0</td>\n",
       "      <td>NaN</td>\n",
       "      <td>1.0</td>\n",
       "      <td>603.0</td>\n",
       "      <td>45.0</td>\n",
       "    </tr>\n",
       "  </tbody>\n",
       "</table>\n",
       "</div>"
      ],
      "text/plain": [
       "      total_images  last_price  total_area first_day_exposition  rooms  \\\n",
       "1097             3   8600000.0        81.7  2016-04-15T00:00:00      3   \n",
       "2033             6   5398000.0        80.0  2017-05-30T00:00:00      3   \n",
       "2603            20   3351765.0        42.7  2015-09-20T00:00:00      1   \n",
       "2632             2   5130593.0        62.4  2015-10-11T00:00:00      2   \n",
       "3574            10   4200000.0        46.5  2016-05-28T00:00:00      2   \n",
       "\n",
       "      ceiling_height  floors_total  living_area  floor is_apartment  studio  \\\n",
       "1097            3.55           5.0         50.8      2          NaN   False   \n",
       "2033            2.65           4.0         42.6      2          NaN   False   \n",
       "2603            2.65          24.0         15.6      3          NaN   False   \n",
       "2632            2.65          24.0         33.1     21          NaN   False   \n",
       "3574            2.65           5.0         30.8      5          NaN   False   \n",
       "\n",
       "      open_plan  kitchen_area  balcony locality_name  airports_nearest  \\\n",
       "1097      False           8.8      0.0           NaN           23478.0   \n",
       "2033      False          18.6      0.0           NaN               NaN   \n",
       "2603      False          10.7      0.0           NaN           22041.0   \n",
       "2632      False           8.2      0.0           NaN           22041.0   \n",
       "3574      False           6.5      0.0           NaN           27419.0   \n",
       "\n",
       "      cityCenters_nearest  parks_around3000  parks_nearest  ponds_around3000  \\\n",
       "1097               4258.0               0.0            NaN               0.0   \n",
       "2033                  NaN               NaN            NaN               NaN   \n",
       "2603              17369.0               0.0            NaN               1.0   \n",
       "2632              17369.0               0.0            NaN               1.0   \n",
       "3574               8127.0               0.0            NaN               1.0   \n",
       "\n",
       "      ponds_nearest  days_exposition  \n",
       "1097            NaN            147.0  \n",
       "2033            NaN             34.0  \n",
       "2603          374.0            276.0  \n",
       "2632          374.0            256.0  \n",
       "3574          603.0             45.0  "
      ]
     },
     "execution_count": 44,
     "metadata": {},
     "output_type": "execute_result"
    }
   ],
   "source": [
    "# просмотр строк с пропущенными значениями\n",
    "df[df['locality_name'].isna()].head()"
   ]
  },
  {
   "cell_type": "code",
   "execution_count": 45,
   "metadata": {},
   "outputs": [
    {
     "name": "stdout",
     "output_type": "stream",
     "text": [
      "Количество пропущенных значений: 48\n",
      "Доля пропущенных значений: 0.2%\n"
     ]
    }
   ],
   "source": [
    "# подсчет количества и доли пропущенных значений\n",
    "print('Количество пропущенных значений:','{:.0f}'.format(df['locality_name'].isna().sum()))\n",
    "print('Доля пропущенных значений:','{:.1%}'.format(df['locality_name'].isna().mean()))"
   ]
  },
  {
   "cell_type": "markdown",
   "metadata": {},
   "source": [
    "💡 *Незначительное количество пропусков позволяет предположить, что пропуски в столбце связаны с ошибками ручного ввода. Оставлять в датасете объявления без указания локации не имеет смысла.Удалим строки с пустыми значения.*"
   ]
  },
  {
   "cell_type": "code",
   "execution_count": 46,
   "metadata": {},
   "outputs": [],
   "source": [
    "# удаление строк с пропущенными значениями\n",
    "df = df.dropna(subset=['locality_name'])"
   ]
  },
  {
   "cell_type": "code",
   "execution_count": 47,
   "metadata": {},
   "outputs": [
    {
     "name": "stdout",
     "output_type": "stream",
     "text": [
      "Количество пропущенных значений: 0\n"
     ]
    }
   ],
   "source": [
    "# проверка количества пропущенных значений\n",
    "print('Количество пропущенных значений:','{:.0f}'.format(df['locality_name'].isna().sum()))"
   ]
  },
  {
   "cell_type": "markdown",
   "metadata": {},
   "source": [
    "**Обработка пропусков в столбцах `airports_nearest`, `cityCenters_nearest`, `parks_around3000`, `parks_nearest`, `ponds_around3000`, `ponds_nearest`**"
   ]
  },
  {
   "cell_type": "code",
   "execution_count": 48,
   "metadata": {},
   "outputs": [
    {
     "data": {
      "text/html": [
       "<div>\n",
       "<style scoped>\n",
       "    .dataframe tbody tr th:only-of-type {\n",
       "        vertical-align: middle;\n",
       "    }\n",
       "\n",
       "    .dataframe tbody tr th {\n",
       "        vertical-align: top;\n",
       "    }\n",
       "\n",
       "    .dataframe thead th {\n",
       "        text-align: right;\n",
       "    }\n",
       "</style>\n",
       "<table border=\"1\" class=\"dataframe\">\n",
       "  <thead>\n",
       "    <tr style=\"text-align: right;\">\n",
       "      <th></th>\n",
       "      <th>total_images</th>\n",
       "      <th>last_price</th>\n",
       "      <th>total_area</th>\n",
       "      <th>first_day_exposition</th>\n",
       "      <th>rooms</th>\n",
       "      <th>ceiling_height</th>\n",
       "      <th>floors_total</th>\n",
       "      <th>living_area</th>\n",
       "      <th>floor</th>\n",
       "      <th>is_apartment</th>\n",
       "      <th>studio</th>\n",
       "      <th>open_plan</th>\n",
       "      <th>kitchen_area</th>\n",
       "      <th>balcony</th>\n",
       "      <th>locality_name</th>\n",
       "      <th>airports_nearest</th>\n",
       "      <th>cityCenters_nearest</th>\n",
       "      <th>parks_around3000</th>\n",
       "      <th>parks_nearest</th>\n",
       "      <th>ponds_around3000</th>\n",
       "      <th>ponds_nearest</th>\n",
       "      <th>days_exposition</th>\n",
       "    </tr>\n",
       "  </thead>\n",
       "  <tbody>\n",
       "    <tr>\n",
       "      <th>5</th>\n",
       "      <td>10</td>\n",
       "      <td>2890000.0</td>\n",
       "      <td>30.40</td>\n",
       "      <td>2018-09-10T00:00:00</td>\n",
       "      <td>1</td>\n",
       "      <td>2.65</td>\n",
       "      <td>12.0</td>\n",
       "      <td>14.400000</td>\n",
       "      <td>5</td>\n",
       "      <td>NaN</td>\n",
       "      <td>False</td>\n",
       "      <td>False</td>\n",
       "      <td>9.100000</td>\n",
       "      <td>0.0</td>\n",
       "      <td>городской посёлок Янино-1</td>\n",
       "      <td>NaN</td>\n",
       "      <td>NaN</td>\n",
       "      <td>NaN</td>\n",
       "      <td>NaN</td>\n",
       "      <td>NaN</td>\n",
       "      <td>NaN</td>\n",
       "      <td>55.0</td>\n",
       "    </tr>\n",
       "    <tr>\n",
       "      <th>8</th>\n",
       "      <td>20</td>\n",
       "      <td>2900000.0</td>\n",
       "      <td>33.16</td>\n",
       "      <td>2018-05-23T00:00:00</td>\n",
       "      <td>1</td>\n",
       "      <td>2.65</td>\n",
       "      <td>27.0</td>\n",
       "      <td>15.430000</td>\n",
       "      <td>26</td>\n",
       "      <td>NaN</td>\n",
       "      <td>False</td>\n",
       "      <td>False</td>\n",
       "      <td>8.810000</td>\n",
       "      <td>0.0</td>\n",
       "      <td>посёлок Мурино</td>\n",
       "      <td>NaN</td>\n",
       "      <td>NaN</td>\n",
       "      <td>NaN</td>\n",
       "      <td>NaN</td>\n",
       "      <td>NaN</td>\n",
       "      <td>NaN</td>\n",
       "      <td>189.0</td>\n",
       "    </tr>\n",
       "    <tr>\n",
       "      <th>12</th>\n",
       "      <td>10</td>\n",
       "      <td>3890000.0</td>\n",
       "      <td>54.00</td>\n",
       "      <td>2016-06-30T00:00:00</td>\n",
       "      <td>2</td>\n",
       "      <td>2.65</td>\n",
       "      <td>5.0</td>\n",
       "      <td>30.000000</td>\n",
       "      <td>5</td>\n",
       "      <td>NaN</td>\n",
       "      <td>False</td>\n",
       "      <td>False</td>\n",
       "      <td>9.000000</td>\n",
       "      <td>0.0</td>\n",
       "      <td>Сертолово</td>\n",
       "      <td>NaN</td>\n",
       "      <td>NaN</td>\n",
       "      <td>NaN</td>\n",
       "      <td>NaN</td>\n",
       "      <td>NaN</td>\n",
       "      <td>NaN</td>\n",
       "      <td>90.0</td>\n",
       "    </tr>\n",
       "    <tr>\n",
       "      <th>22</th>\n",
       "      <td>20</td>\n",
       "      <td>5000000.0</td>\n",
       "      <td>58.00</td>\n",
       "      <td>2017-04-24T00:00:00</td>\n",
       "      <td>2</td>\n",
       "      <td>2.75</td>\n",
       "      <td>25.0</td>\n",
       "      <td>30.000000</td>\n",
       "      <td>15</td>\n",
       "      <td>NaN</td>\n",
       "      <td>False</td>\n",
       "      <td>False</td>\n",
       "      <td>11.000000</td>\n",
       "      <td>2.0</td>\n",
       "      <td>деревня Кудрово</td>\n",
       "      <td>NaN</td>\n",
       "      <td>NaN</td>\n",
       "      <td>NaN</td>\n",
       "      <td>NaN</td>\n",
       "      <td>NaN</td>\n",
       "      <td>NaN</td>\n",
       "      <td>60.0</td>\n",
       "    </tr>\n",
       "    <tr>\n",
       "      <th>30</th>\n",
       "      <td>12</td>\n",
       "      <td>2200000.0</td>\n",
       "      <td>32.80</td>\n",
       "      <td>2018-02-19T00:00:00</td>\n",
       "      <td>1</td>\n",
       "      <td>2.65</td>\n",
       "      <td>9.0</td>\n",
       "      <td>18.636364</td>\n",
       "      <td>2</td>\n",
       "      <td>NaN</td>\n",
       "      <td>False</td>\n",
       "      <td>False</td>\n",
       "      <td>5.830649</td>\n",
       "      <td>0.0</td>\n",
       "      <td>Коммунар</td>\n",
       "      <td>NaN</td>\n",
       "      <td>NaN</td>\n",
       "      <td>NaN</td>\n",
       "      <td>NaN</td>\n",
       "      <td>NaN</td>\n",
       "      <td>NaN</td>\n",
       "      <td>63.0</td>\n",
       "    </tr>\n",
       "  </tbody>\n",
       "</table>\n",
       "</div>"
      ],
      "text/plain": [
       "    total_images  last_price  total_area first_day_exposition  rooms  \\\n",
       "5             10   2890000.0       30.40  2018-09-10T00:00:00      1   \n",
       "8             20   2900000.0       33.16  2018-05-23T00:00:00      1   \n",
       "12            10   3890000.0       54.00  2016-06-30T00:00:00      2   \n",
       "22            20   5000000.0       58.00  2017-04-24T00:00:00      2   \n",
       "30            12   2200000.0       32.80  2018-02-19T00:00:00      1   \n",
       "\n",
       "    ceiling_height  floors_total  living_area  floor is_apartment  studio  \\\n",
       "5             2.65          12.0    14.400000      5          NaN   False   \n",
       "8             2.65          27.0    15.430000     26          NaN   False   \n",
       "12            2.65           5.0    30.000000      5          NaN   False   \n",
       "22            2.75          25.0    30.000000     15          NaN   False   \n",
       "30            2.65           9.0    18.636364      2          NaN   False   \n",
       "\n",
       "    open_plan  kitchen_area  balcony              locality_name  \\\n",
       "5       False      9.100000      0.0  городской посёлок Янино-1   \n",
       "8       False      8.810000      0.0             посёлок Мурино   \n",
       "12      False      9.000000      0.0                  Сертолово   \n",
       "22      False     11.000000      2.0            деревня Кудрово   \n",
       "30      False      5.830649      0.0                   Коммунар   \n",
       "\n",
       "    airports_nearest  cityCenters_nearest  parks_around3000  parks_nearest  \\\n",
       "5                NaN                  NaN               NaN            NaN   \n",
       "8                NaN                  NaN               NaN            NaN   \n",
       "12               NaN                  NaN               NaN            NaN   \n",
       "22               NaN                  NaN               NaN            NaN   \n",
       "30               NaN                  NaN               NaN            NaN   \n",
       "\n",
       "    ponds_around3000  ponds_nearest  days_exposition  \n",
       "5                NaN            NaN             55.0  \n",
       "8                NaN            NaN            189.0  \n",
       "12               NaN            NaN             90.0  \n",
       "22               NaN            NaN             60.0  \n",
       "30               NaN            NaN             63.0  "
      ]
     },
     "execution_count": 48,
     "metadata": {},
     "output_type": "execute_result"
    }
   ],
   "source": [
    "# просмотр строк с пропущенными значениями\n",
    "df[df['airports_nearest'].isna() & \n",
    "   df['cityCenters_nearest'].isna() &\n",
    "   df['parks_around3000'].isna() &\n",
    "   df['parks_nearest'].isna() &\n",
    "   df['ponds_around3000'].isna() &\n",
    "   df['ponds_nearest'].isna()\n",
    "  ].head()"
   ]
  },
  {
   "cell_type": "code",
   "execution_count": 49,
   "metadata": {},
   "outputs": [],
   "source": [
    "# создание списка столбцов для подсчета количества и доли пропущенных значений\n",
    "list = ['airports_nearest','cityCenters_nearest','parks_around3000','parks_nearest','ponds_around3000','ponds_nearest']"
   ]
  },
  {
   "cell_type": "code",
   "execution_count": 50,
   "metadata": {},
   "outputs": [
    {
     "name": "stdout",
     "output_type": "stream",
     "text": [
      "Количество пропущенных значений airports_nearest: 5504\n",
      "Доля пропущенных значений airports_nearest: 23.4%\n",
      "\n",
      "Количество пропущенных значений cityCenters_nearest: 5481\n",
      "Доля пропущенных значений cityCenters_nearest: 23.3%\n",
      "\n",
      "Количество пропущенных значений parks_around3000: 5480\n",
      "Доля пропущенных значений parks_around3000: 23.3%\n",
      "\n",
      "Количество пропущенных значений parks_nearest: 15489\n",
      "Доля пропущенных значений parks_nearest: 65.9%\n",
      "\n",
      "Количество пропущенных значений ponds_around3000: 5480\n",
      "Доля пропущенных значений ponds_around3000: 23.3%\n",
      "\n",
      "Количество пропущенных значений ponds_nearest: 14483\n",
      "Доля пропущенных значений ponds_nearest: 61.6%\n",
      "\n"
     ]
    }
   ],
   "source": [
    "# подсчет количества и доли пропущенных значений\n",
    "for item in list:\n",
    "    print(f'Количество пропущенных значений {item}:','{:.0f}'.format(df[item].isna().sum()))\n",
    "    print(f'Доля пропущенных значений {item}:','{:.1%}'.format(df[item].isna().mean()))\n",
    "    print()"
   ]
  },
  {
   "cell_type": "markdown",
   "metadata": {},
   "source": [
    "💡 *Пропуски скорее всего связаны с программным ограничением на подгрузку расстояний для населенных пунктов, находящихся на слишком большом удалении от объектов (аэропорта, центра, парка, пруда). Кроме того, большая доля пропусков для столбцов с расстояниями до парков и прудов объясняется отсутствием в радиусе 3 км. данных объектов, поэтому пропуски значений вполне логичны. Заполнять их в данных столбцах нецелесообразно и не представляется возможным. Оставляем пропущенные значения в наборе данных.*"
   ]
  },
  {
   "cell_type": "markdown",
   "metadata": {},
   "source": [
    "**Обработка пропусков в столбце `days_exposition`**"
   ]
  },
  {
   "cell_type": "code",
   "execution_count": 51,
   "metadata": {
    "scrolled": true
   },
   "outputs": [
    {
     "data": {
      "text/html": [
       "<div>\n",
       "<style scoped>\n",
       "    .dataframe tbody tr th:only-of-type {\n",
       "        vertical-align: middle;\n",
       "    }\n",
       "\n",
       "    .dataframe tbody tr th {\n",
       "        vertical-align: top;\n",
       "    }\n",
       "\n",
       "    .dataframe thead th {\n",
       "        text-align: right;\n",
       "    }\n",
       "</style>\n",
       "<table border=\"1\" class=\"dataframe\">\n",
       "  <thead>\n",
       "    <tr style=\"text-align: right;\">\n",
       "      <th></th>\n",
       "      <th>total_images</th>\n",
       "      <th>last_price</th>\n",
       "      <th>total_area</th>\n",
       "      <th>first_day_exposition</th>\n",
       "      <th>rooms</th>\n",
       "      <th>ceiling_height</th>\n",
       "      <th>floors_total</th>\n",
       "      <th>living_area</th>\n",
       "      <th>floor</th>\n",
       "      <th>is_apartment</th>\n",
       "      <th>studio</th>\n",
       "      <th>open_plan</th>\n",
       "      <th>kitchen_area</th>\n",
       "      <th>balcony</th>\n",
       "      <th>locality_name</th>\n",
       "      <th>airports_nearest</th>\n",
       "      <th>cityCenters_nearest</th>\n",
       "      <th>parks_around3000</th>\n",
       "      <th>parks_nearest</th>\n",
       "      <th>ponds_around3000</th>\n",
       "      <th>ponds_nearest</th>\n",
       "      <th>days_exposition</th>\n",
       "    </tr>\n",
       "  </thead>\n",
       "  <tbody>\n",
       "    <tr>\n",
       "      <th>0</th>\n",
       "      <td>20</td>\n",
       "      <td>13000000.0</td>\n",
       "      <td>108.0</td>\n",
       "      <td>2019-03-07T00:00:00</td>\n",
       "      <td>3</td>\n",
       "      <td>2.70</td>\n",
       "      <td>16.0</td>\n",
       "      <td>51.000000</td>\n",
       "      <td>8</td>\n",
       "      <td>NaN</td>\n",
       "      <td>False</td>\n",
       "      <td>False</td>\n",
       "      <td>25.000000</td>\n",
       "      <td>0.0</td>\n",
       "      <td>Санкт-Петербург</td>\n",
       "      <td>18863.0</td>\n",
       "      <td>16028.0</td>\n",
       "      <td>1.0</td>\n",
       "      <td>482.0</td>\n",
       "      <td>2.0</td>\n",
       "      <td>755.0</td>\n",
       "      <td>NaN</td>\n",
       "    </tr>\n",
       "    <tr>\n",
       "      <th>7</th>\n",
       "      <td>5</td>\n",
       "      <td>7915000.0</td>\n",
       "      <td>71.6</td>\n",
       "      <td>2019-04-18T00:00:00</td>\n",
       "      <td>2</td>\n",
       "      <td>2.65</td>\n",
       "      <td>24.0</td>\n",
       "      <td>36.372699</td>\n",
       "      <td>22</td>\n",
       "      <td>NaN</td>\n",
       "      <td>False</td>\n",
       "      <td>False</td>\n",
       "      <td>18.900000</td>\n",
       "      <td>2.0</td>\n",
       "      <td>Санкт-Петербург</td>\n",
       "      <td>23982.0</td>\n",
       "      <td>11634.0</td>\n",
       "      <td>0.0</td>\n",
       "      <td>NaN</td>\n",
       "      <td>0.0</td>\n",
       "      <td>NaN</td>\n",
       "      <td>NaN</td>\n",
       "    </tr>\n",
       "    <tr>\n",
       "      <th>44</th>\n",
       "      <td>13</td>\n",
       "      <td>5350000.0</td>\n",
       "      <td>40.0</td>\n",
       "      <td>2018-11-18T00:00:00</td>\n",
       "      <td>1</td>\n",
       "      <td>2.65</td>\n",
       "      <td>22.0</td>\n",
       "      <td>22.727273</td>\n",
       "      <td>3</td>\n",
       "      <td>NaN</td>\n",
       "      <td>False</td>\n",
       "      <td>False</td>\n",
       "      <td>7.110548</td>\n",
       "      <td>1.0</td>\n",
       "      <td>Санкт-Петербург</td>\n",
       "      <td>30471.0</td>\n",
       "      <td>11603.0</td>\n",
       "      <td>1.0</td>\n",
       "      <td>620.0</td>\n",
       "      <td>1.0</td>\n",
       "      <td>1152.0</td>\n",
       "      <td>NaN</td>\n",
       "    </tr>\n",
       "    <tr>\n",
       "      <th>45</th>\n",
       "      <td>17</td>\n",
       "      <td>5200000.0</td>\n",
       "      <td>50.6</td>\n",
       "      <td>2018-12-02T00:00:00</td>\n",
       "      <td>2</td>\n",
       "      <td>2.65</td>\n",
       "      <td>9.0</td>\n",
       "      <td>30.300000</td>\n",
       "      <td>7</td>\n",
       "      <td>NaN</td>\n",
       "      <td>False</td>\n",
       "      <td>False</td>\n",
       "      <td>7.000000</td>\n",
       "      <td>0.0</td>\n",
       "      <td>Санкт-Петербург</td>\n",
       "      <td>30011.0</td>\n",
       "      <td>12872.0</td>\n",
       "      <td>0.0</td>\n",
       "      <td>NaN</td>\n",
       "      <td>0.0</td>\n",
       "      <td>NaN</td>\n",
       "      <td>NaN</td>\n",
       "    </tr>\n",
       "    <tr>\n",
       "      <th>46</th>\n",
       "      <td>17</td>\n",
       "      <td>6600000.0</td>\n",
       "      <td>52.1</td>\n",
       "      <td>2019-01-31T00:00:00</td>\n",
       "      <td>2</td>\n",
       "      <td>2.60</td>\n",
       "      <td>24.0</td>\n",
       "      <td>29.700000</td>\n",
       "      <td>9</td>\n",
       "      <td>NaN</td>\n",
       "      <td>False</td>\n",
       "      <td>False</td>\n",
       "      <td>8.300000</td>\n",
       "      <td>2.0</td>\n",
       "      <td>Санкт-Петербург</td>\n",
       "      <td>15114.0</td>\n",
       "      <td>12702.0</td>\n",
       "      <td>0.0</td>\n",
       "      <td>NaN</td>\n",
       "      <td>0.0</td>\n",
       "      <td>NaN</td>\n",
       "      <td>NaN</td>\n",
       "    </tr>\n",
       "  </tbody>\n",
       "</table>\n",
       "</div>"
      ],
      "text/plain": [
       "    total_images  last_price  total_area first_day_exposition  rooms  \\\n",
       "0             20  13000000.0       108.0  2019-03-07T00:00:00      3   \n",
       "7              5   7915000.0        71.6  2019-04-18T00:00:00      2   \n",
       "44            13   5350000.0        40.0  2018-11-18T00:00:00      1   \n",
       "45            17   5200000.0        50.6  2018-12-02T00:00:00      2   \n",
       "46            17   6600000.0        52.1  2019-01-31T00:00:00      2   \n",
       "\n",
       "    ceiling_height  floors_total  living_area  floor is_apartment  studio  \\\n",
       "0             2.70          16.0    51.000000      8          NaN   False   \n",
       "7             2.65          24.0    36.372699     22          NaN   False   \n",
       "44            2.65          22.0    22.727273      3          NaN   False   \n",
       "45            2.65           9.0    30.300000      7          NaN   False   \n",
       "46            2.60          24.0    29.700000      9          NaN   False   \n",
       "\n",
       "    open_plan  kitchen_area  balcony    locality_name  airports_nearest  \\\n",
       "0       False     25.000000      0.0  Санкт-Петербург           18863.0   \n",
       "7       False     18.900000      2.0  Санкт-Петербург           23982.0   \n",
       "44      False      7.110548      1.0  Санкт-Петербург           30471.0   \n",
       "45      False      7.000000      0.0  Санкт-Петербург           30011.0   \n",
       "46      False      8.300000      2.0  Санкт-Петербург           15114.0   \n",
       "\n",
       "    cityCenters_nearest  parks_around3000  parks_nearest  ponds_around3000  \\\n",
       "0               16028.0               1.0          482.0               2.0   \n",
       "7               11634.0               0.0            NaN               0.0   \n",
       "44              11603.0               1.0          620.0               1.0   \n",
       "45              12872.0               0.0            NaN               0.0   \n",
       "46              12702.0               0.0            NaN               0.0   \n",
       "\n",
       "    ponds_nearest  days_exposition  \n",
       "0           755.0              NaN  \n",
       "7             NaN              NaN  \n",
       "44         1152.0              NaN  \n",
       "45            NaN              NaN  \n",
       "46            NaN              NaN  "
      ]
     },
     "execution_count": 51,
     "metadata": {},
     "output_type": "execute_result"
    }
   ],
   "source": [
    "# просмотр строк с пропущенными значениями\n",
    "df[df['days_exposition'].isna()].head()"
   ]
  },
  {
   "cell_type": "code",
   "execution_count": 52,
   "metadata": {},
   "outputs": [
    {
     "name": "stdout",
     "output_type": "stream",
     "text": [
      "Количество пропущенных значений: 3163\n",
      "Доля пропущенных значений: 13.5%\n"
     ]
    }
   ],
   "source": [
    "# подсчет количества и доли пропущенных значений\n",
    "print('Количество пропущенных значений:','{:.0f}'.format(df['days_exposition'].isna().sum()))\n",
    "print('Доля пропущенных значений:','{:.1%}'.format(df['days_exposition'].isna().mean()))"
   ]
  },
  {
   "cell_type": "markdown",
   "metadata": {},
   "source": [
    "💡 *Скорее всего пропуски содержатся в еще активных объявлениях (дата снятия объявления отсутствует). Если гипотеза верна, то данные значения можно считать аномальными, т.к. они отличаются от среднего/медианного срока продажи.  Так как данный столбец используетсяа в дальнейшем исследовании, то необходимо очистить данные от пропусков. Удалим строки с пропущенными значениями в этой колонке.*"
   ]
  },
  {
   "cell_type": "code",
   "execution_count": 53,
   "metadata": {},
   "outputs": [],
   "source": [
    "# удаление строк с пропущенными значениями\n",
    "df = df.dropna(subset=['days_exposition'])"
   ]
  },
  {
   "cell_type": "code",
   "execution_count": 54,
   "metadata": {
    "scrolled": true
   },
   "outputs": [
    {
     "name": "stdout",
     "output_type": "stream",
     "text": [
      "Количество пропущенных значений: 0\n"
     ]
    }
   ],
   "source": [
    "# проверка количества пропущенных значений\n",
    "print('Количество пропущенных значений:','{:.0f}'.format(df['days_exposition'].isna().sum()))"
   ]
  },
  {
   "cell_type": "markdown",
   "metadata": {},
   "source": [
    "### Вывод"
   ]
  },
  {
   "cell_type": "markdown",
   "metadata": {},
   "source": [
    "* В ходе исследования было обнаружено что набор данных содержит большое количество пропусков.     \n",
    "\n",
    "* Пропуски в столбцах `ceiling_height`, `kitchen_area`, `living_area` были заполнены медианным значением.     \n",
    "\n",
    "* Пропуски в `balcony` были замененны на ноль.    \n",
    "\n",
    "* Строки, с пропусками в столбцах `floors_total`, `locality_name`, `days_exposition`, были удалены.    \n",
    "\n",
    "* В отношении пропущенных значений в колонках `is_apartment`, `airports_nearest`, `cityCenters_nearest`, `parks_around3000`, `parks_nearest`, `ponds_around3000`, `ponds_nearest` — было принято решение их сохранить, ввиду недостатка информации о причинах их возникновения и потенциальном негативном эффекте в случае какой-либо их обработки."
   ]
  },
  {
   "cell_type": "markdown",
   "metadata": {},
   "source": [
    "### Приведение данных к нужным типам"
   ]
  },
  {
   "cell_type": "code",
   "execution_count": 55,
   "metadata": {
    "scrolled": true
   },
   "outputs": [
    {
     "name": "stdout",
     "output_type": "stream",
     "text": [
      "<class 'pandas.core.frame.DataFrame'>\n",
      "Int64Index: 20338 entries, 1 to 23697\n",
      "Data columns (total 22 columns):\n",
      " #   Column                Non-Null Count  Dtype  \n",
      "---  ------                --------------  -----  \n",
      " 0   total_images          20338 non-null  int64  \n",
      " 1   last_price            20338 non-null  float64\n",
      " 2   total_area            20338 non-null  float64\n",
      " 3   first_day_exposition  20338 non-null  object \n",
      " 4   rooms                 20338 non-null  int64  \n",
      " 5   ceiling_height        20338 non-null  float64\n",
      " 6   floors_total          20338 non-null  float64\n",
      " 7   living_area           20338 non-null  float64\n",
      " 8   floor                 20338 non-null  int64  \n",
      " 9   is_apartment          2470 non-null   object \n",
      " 10  studio                20338 non-null  bool   \n",
      " 11  open_plan             20338 non-null  bool   \n",
      " 12  kitchen_area          20338 non-null  float64\n",
      " 13  balcony               20338 non-null  float64\n",
      " 14  locality_name         20338 non-null  object \n",
      " 15  airports_nearest      15696 non-null  float64\n",
      " 16  cityCenters_nearest   15718 non-null  float64\n",
      " 17  parks_around3000      15718 non-null  float64\n",
      " 18  parks_nearest         6871 non-null   float64\n",
      " 19  ponds_around3000      15718 non-null  float64\n",
      " 20  ponds_nearest         7806 non-null   float64\n",
      " 21  days_exposition       20338 non-null  float64\n",
      "dtypes: bool(2), float64(14), int64(3), object(3)\n",
      "memory usage: 3.3+ MB\n"
     ]
    }
   ],
   "source": [
    "# получение общей информации о данных в таблице df\n",
    "df.info()"
   ]
  },
  {
   "cell_type": "code",
   "execution_count": 56,
   "metadata": {},
   "outputs": [
    {
     "data": {
      "text/html": [
       "<div>\n",
       "<style scoped>\n",
       "    .dataframe tbody tr th:only-of-type {\n",
       "        vertical-align: middle;\n",
       "    }\n",
       "\n",
       "    .dataframe tbody tr th {\n",
       "        vertical-align: top;\n",
       "    }\n",
       "\n",
       "    .dataframe thead th {\n",
       "        text-align: right;\n",
       "    }\n",
       "</style>\n",
       "<table border=\"1\" class=\"dataframe\">\n",
       "  <thead>\n",
       "    <tr style=\"text-align: right;\">\n",
       "      <th></th>\n",
       "      <th>total_images</th>\n",
       "      <th>last_price</th>\n",
       "      <th>total_area</th>\n",
       "      <th>first_day_exposition</th>\n",
       "      <th>rooms</th>\n",
       "      <th>ceiling_height</th>\n",
       "      <th>floors_total</th>\n",
       "      <th>living_area</th>\n",
       "      <th>floor</th>\n",
       "      <th>is_apartment</th>\n",
       "      <th>studio</th>\n",
       "      <th>open_plan</th>\n",
       "      <th>kitchen_area</th>\n",
       "      <th>balcony</th>\n",
       "      <th>locality_name</th>\n",
       "      <th>airports_nearest</th>\n",
       "      <th>cityCenters_nearest</th>\n",
       "      <th>parks_around3000</th>\n",
       "      <th>parks_nearest</th>\n",
       "      <th>ponds_around3000</th>\n",
       "      <th>ponds_nearest</th>\n",
       "      <th>days_exposition</th>\n",
       "    </tr>\n",
       "  </thead>\n",
       "  <tbody>\n",
       "    <tr>\n",
       "      <th>1</th>\n",
       "      <td>7</td>\n",
       "      <td>3350000.0</td>\n",
       "      <td>40.4</td>\n",
       "      <td>2018-12-04T00:00:00</td>\n",
       "      <td>1</td>\n",
       "      <td>2.65</td>\n",
       "      <td>11.0</td>\n",
       "      <td>18.600000</td>\n",
       "      <td>1</td>\n",
       "      <td>NaN</td>\n",
       "      <td>False</td>\n",
       "      <td>False</td>\n",
       "      <td>11.000000</td>\n",
       "      <td>2.0</td>\n",
       "      <td>посёлок Шушары</td>\n",
       "      <td>12817.0</td>\n",
       "      <td>18603.0</td>\n",
       "      <td>0.0</td>\n",
       "      <td>NaN</td>\n",
       "      <td>0.0</td>\n",
       "      <td>NaN</td>\n",
       "      <td>81.0</td>\n",
       "    </tr>\n",
       "    <tr>\n",
       "      <th>2</th>\n",
       "      <td>10</td>\n",
       "      <td>5196000.0</td>\n",
       "      <td>56.0</td>\n",
       "      <td>2015-08-20T00:00:00</td>\n",
       "      <td>2</td>\n",
       "      <td>2.65</td>\n",
       "      <td>5.0</td>\n",
       "      <td>34.300000</td>\n",
       "      <td>4</td>\n",
       "      <td>NaN</td>\n",
       "      <td>False</td>\n",
       "      <td>False</td>\n",
       "      <td>8.300000</td>\n",
       "      <td>0.0</td>\n",
       "      <td>Санкт-Петербург</td>\n",
       "      <td>21741.0</td>\n",
       "      <td>13933.0</td>\n",
       "      <td>1.0</td>\n",
       "      <td>90.0</td>\n",
       "      <td>2.0</td>\n",
       "      <td>574.0</td>\n",
       "      <td>558.0</td>\n",
       "    </tr>\n",
       "    <tr>\n",
       "      <th>3</th>\n",
       "      <td>0</td>\n",
       "      <td>64900000.0</td>\n",
       "      <td>159.0</td>\n",
       "      <td>2015-07-24T00:00:00</td>\n",
       "      <td>3</td>\n",
       "      <td>2.65</td>\n",
       "      <td>14.0</td>\n",
       "      <td>90.340909</td>\n",
       "      <td>9</td>\n",
       "      <td>NaN</td>\n",
       "      <td>False</td>\n",
       "      <td>False</td>\n",
       "      <td>28.264428</td>\n",
       "      <td>0.0</td>\n",
       "      <td>Санкт-Петербург</td>\n",
       "      <td>28098.0</td>\n",
       "      <td>6800.0</td>\n",
       "      <td>2.0</td>\n",
       "      <td>84.0</td>\n",
       "      <td>3.0</td>\n",
       "      <td>234.0</td>\n",
       "      <td>424.0</td>\n",
       "    </tr>\n",
       "    <tr>\n",
       "      <th>4</th>\n",
       "      <td>2</td>\n",
       "      <td>10000000.0</td>\n",
       "      <td>100.0</td>\n",
       "      <td>2018-06-19T00:00:00</td>\n",
       "      <td>2</td>\n",
       "      <td>3.03</td>\n",
       "      <td>14.0</td>\n",
       "      <td>32.000000</td>\n",
       "      <td>13</td>\n",
       "      <td>NaN</td>\n",
       "      <td>False</td>\n",
       "      <td>False</td>\n",
       "      <td>41.000000</td>\n",
       "      <td>0.0</td>\n",
       "      <td>Санкт-Петербург</td>\n",
       "      <td>31856.0</td>\n",
       "      <td>8098.0</td>\n",
       "      <td>2.0</td>\n",
       "      <td>112.0</td>\n",
       "      <td>1.0</td>\n",
       "      <td>48.0</td>\n",
       "      <td>121.0</td>\n",
       "    </tr>\n",
       "    <tr>\n",
       "      <th>5</th>\n",
       "      <td>10</td>\n",
       "      <td>2890000.0</td>\n",
       "      <td>30.4</td>\n",
       "      <td>2018-09-10T00:00:00</td>\n",
       "      <td>1</td>\n",
       "      <td>2.65</td>\n",
       "      <td>12.0</td>\n",
       "      <td>14.400000</td>\n",
       "      <td>5</td>\n",
       "      <td>NaN</td>\n",
       "      <td>False</td>\n",
       "      <td>False</td>\n",
       "      <td>9.100000</td>\n",
       "      <td>0.0</td>\n",
       "      <td>городской посёлок Янино-1</td>\n",
       "      <td>NaN</td>\n",
       "      <td>NaN</td>\n",
       "      <td>NaN</td>\n",
       "      <td>NaN</td>\n",
       "      <td>NaN</td>\n",
       "      <td>NaN</td>\n",
       "      <td>55.0</td>\n",
       "    </tr>\n",
       "  </tbody>\n",
       "</table>\n",
       "</div>"
      ],
      "text/plain": [
       "   total_images  last_price  total_area first_day_exposition  rooms  \\\n",
       "1             7   3350000.0        40.4  2018-12-04T00:00:00      1   \n",
       "2            10   5196000.0        56.0  2015-08-20T00:00:00      2   \n",
       "3             0  64900000.0       159.0  2015-07-24T00:00:00      3   \n",
       "4             2  10000000.0       100.0  2018-06-19T00:00:00      2   \n",
       "5            10   2890000.0        30.4  2018-09-10T00:00:00      1   \n",
       "\n",
       "   ceiling_height  floors_total  living_area  floor is_apartment  studio  \\\n",
       "1            2.65          11.0    18.600000      1          NaN   False   \n",
       "2            2.65           5.0    34.300000      4          NaN   False   \n",
       "3            2.65          14.0    90.340909      9          NaN   False   \n",
       "4            3.03          14.0    32.000000     13          NaN   False   \n",
       "5            2.65          12.0    14.400000      5          NaN   False   \n",
       "\n",
       "   open_plan  kitchen_area  balcony              locality_name  \\\n",
       "1      False     11.000000      2.0             посёлок Шушары   \n",
       "2      False      8.300000      0.0            Санкт-Петербург   \n",
       "3      False     28.264428      0.0            Санкт-Петербург   \n",
       "4      False     41.000000      0.0            Санкт-Петербург   \n",
       "5      False      9.100000      0.0  городской посёлок Янино-1   \n",
       "\n",
       "   airports_nearest  cityCenters_nearest  parks_around3000  parks_nearest  \\\n",
       "1           12817.0              18603.0               0.0            NaN   \n",
       "2           21741.0              13933.0               1.0           90.0   \n",
       "3           28098.0               6800.0               2.0           84.0   \n",
       "4           31856.0               8098.0               2.0          112.0   \n",
       "5               NaN                  NaN               NaN            NaN   \n",
       "\n",
       "   ponds_around3000  ponds_nearest  days_exposition  \n",
       "1               0.0            NaN             81.0  \n",
       "2               2.0          574.0            558.0  \n",
       "3               3.0          234.0            424.0  \n",
       "4               1.0           48.0            121.0  \n",
       "5               NaN            NaN             55.0  "
      ]
     },
     "execution_count": 56,
     "metadata": {},
     "output_type": "execute_result"
    }
   ],
   "source": [
    "# получение первых пяти строк таблицы df\n",
    "df.head()"
   ]
  },
  {
   "cell_type": "markdown",
   "metadata": {},
   "source": [
    "Изменим тип данных на:\n",
    "- дата и время `(datetime)` в столбцах: даты публикации (first_day_exposition); \n",
    "- целочисленный `(int)` в столбцах: цена на момент снятия с публикации (last_price), количество этажей в доме (floors_total), число балконов (balcony), число дней размещения объявления (days_exposition);\n",
    "- `int32` для экономии места в столбцах: `total_images`, `rooms`, `floor`;\n",
    "- `float32` для экономии места в столбцах: `total_area`, `ceiling_height`, `living_area`, `kitchen_area`, `airports_nearest`, `cityCenters_nearest`, `parks_around3000`, `parks_nearest`, `ponds_around3000`, `ponds_nearest`.\n",
    "\n",
    "Кроме того, выразим цены на объекты в тысячах рублей для удобства отображения графиков в дальнейшем.\n",
    "\n",
    "Тип данных в колонках, содержащих число парков (parks_around3000) и число водоёмов (ponds_around3000) мы не меняем на целочисленный, т.к. эти колонки содержат пропуски (NaN), следовательно данные в них всегда будут иметь вещественный тип.\n",
    "Аналогично, изменение типа данных в колонке апартаменты (is_apartment) не возможно из-за наличия пропусков, иначе это приведет к замене всех значений на True."
   ]
  },
  {
   "cell_type": "code",
   "execution_count": 57,
   "metadata": {},
   "outputs": [],
   "source": [
    "# изменение на тип данных datetime\n",
    "df['first_day_exposition'] = pd.to_datetime(df['first_day_exposition'], format='%Y-%m-%d')"
   ]
  },
  {
   "cell_type": "code",
   "execution_count": 58,
   "metadata": {},
   "outputs": [],
   "source": [
    "# изменение на целочисленный тип данных\n",
    "df['floors_total'] = df['floors_total'].astype('int')\n",
    "df['balcony'] = df['balcony'].astype('int')\n",
    "df['days_exposition'] = df['days_exposition'].astype('int')\n",
    "df['last_price'] = (df['last_price']/1000).astype('int')"
   ]
  },
  {
   "cell_type": "code",
   "execution_count": 59,
   "metadata": {},
   "outputs": [],
   "source": [
    "# изменение типа данных на int32\n",
    "df['total_images'] = df['total_images'].astype('int')\n",
    "df['rooms'] = df['rooms'].astype('int')\n",
    "df['floor'] = df['floor'].astype('int')\n",
    "\n",
    "# изменение типа данных на float32\n",
    "df['total_area'] = df['total_area'].astype('float32')\n",
    "df['ceiling_height'] = df['ceiling_height'].astype('float32')\n",
    "df['living_area'] = df['living_area'].astype('float32')\n",
    "df['kitchen_area'] = df['kitchen_area'].astype('float32')\n",
    "df['airports_nearest'] = df['airports_nearest'].astype('float32')\n",
    "df['cityCenters_nearest'] = df['cityCenters_nearest'].astype('float32')\n",
    "df['parks_around3000'] = df['parks_around3000'].astype('float32')\n",
    "df['parks_nearest'] = df['parks_nearest'].astype('float32')\n",
    "df['ponds_around3000'] = df['ponds_around3000'].astype('float32')\n",
    "df['ponds_nearest'] = df['ponds_nearest'].astype('float32')"
   ]
  },
  {
   "cell_type": "code",
   "execution_count": 60,
   "metadata": {},
   "outputs": [
    {
     "data": {
      "text/html": [
       "<div>\n",
       "<style scoped>\n",
       "    .dataframe tbody tr th:only-of-type {\n",
       "        vertical-align: middle;\n",
       "    }\n",
       "\n",
       "    .dataframe tbody tr th {\n",
       "        vertical-align: top;\n",
       "    }\n",
       "\n",
       "    .dataframe thead th {\n",
       "        text-align: right;\n",
       "    }\n",
       "</style>\n",
       "<table border=\"1\" class=\"dataframe\">\n",
       "  <thead>\n",
       "    <tr style=\"text-align: right;\">\n",
       "      <th></th>\n",
       "      <th>total_images</th>\n",
       "      <th>last_price</th>\n",
       "      <th>total_area</th>\n",
       "      <th>first_day_exposition</th>\n",
       "      <th>rooms</th>\n",
       "      <th>ceiling_height</th>\n",
       "      <th>floors_total</th>\n",
       "      <th>living_area</th>\n",
       "      <th>floor</th>\n",
       "      <th>is_apartment</th>\n",
       "      <th>studio</th>\n",
       "      <th>open_plan</th>\n",
       "      <th>kitchen_area</th>\n",
       "      <th>balcony</th>\n",
       "      <th>locality_name</th>\n",
       "      <th>airports_nearest</th>\n",
       "      <th>cityCenters_nearest</th>\n",
       "      <th>parks_around3000</th>\n",
       "      <th>parks_nearest</th>\n",
       "      <th>ponds_around3000</th>\n",
       "      <th>ponds_nearest</th>\n",
       "      <th>days_exposition</th>\n",
       "    </tr>\n",
       "  </thead>\n",
       "  <tbody>\n",
       "    <tr>\n",
       "      <th>1</th>\n",
       "      <td>7</td>\n",
       "      <td>3350</td>\n",
       "      <td>40.400002</td>\n",
       "      <td>2018-12-04</td>\n",
       "      <td>1</td>\n",
       "      <td>2.65</td>\n",
       "      <td>11</td>\n",
       "      <td>18.600000</td>\n",
       "      <td>1</td>\n",
       "      <td>NaN</td>\n",
       "      <td>False</td>\n",
       "      <td>False</td>\n",
       "      <td>11.000000</td>\n",
       "      <td>2</td>\n",
       "      <td>посёлок Шушары</td>\n",
       "      <td>12817.0</td>\n",
       "      <td>18603.0</td>\n",
       "      <td>0.0</td>\n",
       "      <td>NaN</td>\n",
       "      <td>0.0</td>\n",
       "      <td>NaN</td>\n",
       "      <td>81</td>\n",
       "    </tr>\n",
       "    <tr>\n",
       "      <th>2</th>\n",
       "      <td>10</td>\n",
       "      <td>5196</td>\n",
       "      <td>56.000000</td>\n",
       "      <td>2015-08-20</td>\n",
       "      <td>2</td>\n",
       "      <td>2.65</td>\n",
       "      <td>5</td>\n",
       "      <td>34.299999</td>\n",
       "      <td>4</td>\n",
       "      <td>NaN</td>\n",
       "      <td>False</td>\n",
       "      <td>False</td>\n",
       "      <td>8.300000</td>\n",
       "      <td>0</td>\n",
       "      <td>Санкт-Петербург</td>\n",
       "      <td>21741.0</td>\n",
       "      <td>13933.0</td>\n",
       "      <td>1.0</td>\n",
       "      <td>90.0</td>\n",
       "      <td>2.0</td>\n",
       "      <td>574.0</td>\n",
       "      <td>558</td>\n",
       "    </tr>\n",
       "    <tr>\n",
       "      <th>3</th>\n",
       "      <td>0</td>\n",
       "      <td>64900</td>\n",
       "      <td>159.000000</td>\n",
       "      <td>2015-07-24</td>\n",
       "      <td>3</td>\n",
       "      <td>2.65</td>\n",
       "      <td>14</td>\n",
       "      <td>90.340912</td>\n",
       "      <td>9</td>\n",
       "      <td>NaN</td>\n",
       "      <td>False</td>\n",
       "      <td>False</td>\n",
       "      <td>28.264427</td>\n",
       "      <td>0</td>\n",
       "      <td>Санкт-Петербург</td>\n",
       "      <td>28098.0</td>\n",
       "      <td>6800.0</td>\n",
       "      <td>2.0</td>\n",
       "      <td>84.0</td>\n",
       "      <td>3.0</td>\n",
       "      <td>234.0</td>\n",
       "      <td>424</td>\n",
       "    </tr>\n",
       "    <tr>\n",
       "      <th>4</th>\n",
       "      <td>2</td>\n",
       "      <td>10000</td>\n",
       "      <td>100.000000</td>\n",
       "      <td>2018-06-19</td>\n",
       "      <td>2</td>\n",
       "      <td>3.03</td>\n",
       "      <td>14</td>\n",
       "      <td>32.000000</td>\n",
       "      <td>13</td>\n",
       "      <td>NaN</td>\n",
       "      <td>False</td>\n",
       "      <td>False</td>\n",
       "      <td>41.000000</td>\n",
       "      <td>0</td>\n",
       "      <td>Санкт-Петербург</td>\n",
       "      <td>31856.0</td>\n",
       "      <td>8098.0</td>\n",
       "      <td>2.0</td>\n",
       "      <td>112.0</td>\n",
       "      <td>1.0</td>\n",
       "      <td>48.0</td>\n",
       "      <td>121</td>\n",
       "    </tr>\n",
       "    <tr>\n",
       "      <th>5</th>\n",
       "      <td>10</td>\n",
       "      <td>2890</td>\n",
       "      <td>30.400000</td>\n",
       "      <td>2018-09-10</td>\n",
       "      <td>1</td>\n",
       "      <td>2.65</td>\n",
       "      <td>12</td>\n",
       "      <td>14.400000</td>\n",
       "      <td>5</td>\n",
       "      <td>NaN</td>\n",
       "      <td>False</td>\n",
       "      <td>False</td>\n",
       "      <td>9.100000</td>\n",
       "      <td>0</td>\n",
       "      <td>городской посёлок Янино-1</td>\n",
       "      <td>NaN</td>\n",
       "      <td>NaN</td>\n",
       "      <td>NaN</td>\n",
       "      <td>NaN</td>\n",
       "      <td>NaN</td>\n",
       "      <td>NaN</td>\n",
       "      <td>55</td>\n",
       "    </tr>\n",
       "  </tbody>\n",
       "</table>\n",
       "</div>"
      ],
      "text/plain": [
       "   total_images  last_price  total_area first_day_exposition  rooms  \\\n",
       "1             7        3350   40.400002           2018-12-04      1   \n",
       "2            10        5196   56.000000           2015-08-20      2   \n",
       "3             0       64900  159.000000           2015-07-24      3   \n",
       "4             2       10000  100.000000           2018-06-19      2   \n",
       "5            10        2890   30.400000           2018-09-10      1   \n",
       "\n",
       "   ceiling_height  floors_total  living_area  floor is_apartment  studio  \\\n",
       "1            2.65            11    18.600000      1          NaN   False   \n",
       "2            2.65             5    34.299999      4          NaN   False   \n",
       "3            2.65            14    90.340912      9          NaN   False   \n",
       "4            3.03            14    32.000000     13          NaN   False   \n",
       "5            2.65            12    14.400000      5          NaN   False   \n",
       "\n",
       "   open_plan  kitchen_area  balcony              locality_name  \\\n",
       "1      False     11.000000        2             посёлок Шушары   \n",
       "2      False      8.300000        0            Санкт-Петербург   \n",
       "3      False     28.264427        0            Санкт-Петербург   \n",
       "4      False     41.000000        0            Санкт-Петербург   \n",
       "5      False      9.100000        0  городской посёлок Янино-1   \n",
       "\n",
       "   airports_nearest  cityCenters_nearest  parks_around3000  parks_nearest  \\\n",
       "1           12817.0              18603.0               0.0            NaN   \n",
       "2           21741.0              13933.0               1.0           90.0   \n",
       "3           28098.0               6800.0               2.0           84.0   \n",
       "4           31856.0               8098.0               2.0          112.0   \n",
       "5               NaN                  NaN               NaN            NaN   \n",
       "\n",
       "   ponds_around3000  ponds_nearest  days_exposition  \n",
       "1               0.0            NaN               81  \n",
       "2               2.0          574.0              558  \n",
       "3               3.0          234.0              424  \n",
       "4               1.0           48.0              121  \n",
       "5               NaN            NaN               55  "
      ]
     },
     "execution_count": 60,
     "metadata": {},
     "output_type": "execute_result"
    }
   ],
   "source": [
    "df.head()"
   ]
  },
  {
   "cell_type": "code",
   "execution_count": 61,
   "metadata": {
    "scrolled": true
   },
   "outputs": [
    {
     "name": "stdout",
     "output_type": "stream",
     "text": [
      "<class 'pandas.core.frame.DataFrame'>\n",
      "Int64Index: 20338 entries, 1 to 23697\n",
      "Data columns (total 22 columns):\n",
      " #   Column                Non-Null Count  Dtype         \n",
      "---  ------                --------------  -----         \n",
      " 0   total_images          20338 non-null  int64         \n",
      " 1   last_price            20338 non-null  int64         \n",
      " 2   total_area            20338 non-null  float32       \n",
      " 3   first_day_exposition  20338 non-null  datetime64[ns]\n",
      " 4   rooms                 20338 non-null  int64         \n",
      " 5   ceiling_height        20338 non-null  float32       \n",
      " 6   floors_total          20338 non-null  int64         \n",
      " 7   living_area           20338 non-null  float32       \n",
      " 8   floor                 20338 non-null  int64         \n",
      " 9   is_apartment          2470 non-null   object        \n",
      " 10  studio                20338 non-null  bool          \n",
      " 11  open_plan             20338 non-null  bool          \n",
      " 12  kitchen_area          20338 non-null  float32       \n",
      " 13  balcony               20338 non-null  int64         \n",
      " 14  locality_name         20338 non-null  object        \n",
      " 15  airports_nearest      15696 non-null  float32       \n",
      " 16  cityCenters_nearest   15718 non-null  float32       \n",
      " 17  parks_around3000      15718 non-null  float32       \n",
      " 18  parks_nearest         6871 non-null   float32       \n",
      " 19  ponds_around3000      15718 non-null  float32       \n",
      " 20  ponds_nearest         7806 non-null   float32       \n",
      " 21  days_exposition       20338 non-null  int64         \n",
      "dtypes: bool(2), datetime64[ns](1), float32(10), int64(7), object(2)\n",
      "memory usage: 2.5+ MB\n"
     ]
    }
   ],
   "source": [
    "# получение общей информации о данных в таблице df\n",
    "df.info()"
   ]
  },
  {
   "cell_type": "markdown",
   "metadata": {},
   "source": [
    "### Вывод"
   ]
  },
  {
   "cell_type": "markdown",
   "metadata": {},
   "source": [
    "Данные в пяти колонках были приведены к типам `(datetime)` и `(int)`. Для удобства отображения в дальнейшей работе графиков  цены на объекты выражены в тысячах рублей. "
   ]
  },
  {
   "cell_type": "markdown",
   "metadata": {},
   "source": [
    "## Расчёты и добавление результатов в таблицу"
   ]
  },
  {
   "cell_type": "code",
   "execution_count": 62,
   "metadata": {},
   "outputs": [],
   "source": [
    "# добавление в таблицу цены квадратного метра\n",
    "df['sq_meter_price'] = df['last_price']/df['total_area']"
   ]
  },
  {
   "cell_type": "code",
   "execution_count": 63,
   "metadata": {},
   "outputs": [],
   "source": [
    "# добавление в таблицу дня недели, месяца и года публикации объявления\n",
    "df['weekday_exposition'] = df['first_day_exposition'].dt.weekday\n",
    "df['month_exposition'] = df['first_day_exposition'].dt.month\n",
    "df['year_exposition'] = df['first_day_exposition'].dt.year"
   ]
  },
  {
   "cell_type": "code",
   "execution_count": 64,
   "metadata": {},
   "outputs": [],
   "source": [
    "# определение функции для добавления этажа квартиры\n",
    "def floor_sorting(floor, floors_total):\n",
    "    if floor == floors_total:\n",
    "        return 'последний'\n",
    "    elif floor == 1:\n",
    "        return 'первый'\n",
    "    else:\n",
    "        return 'другой'"
   ]
  },
  {
   "cell_type": "code",
   "execution_count": 65,
   "metadata": {},
   "outputs": [],
   "source": [
    "# добавление этажа квартиры\n",
    "df['floor_sort'] = df.apply(lambda x: floor_sorting(x['floor'],x['floors_total']), axis=1)"
   ]
  },
  {
   "cell_type": "code",
   "execution_count": 66,
   "metadata": {},
   "outputs": [],
   "source": [
    "# добавление соотношения жилой и общей площади\n",
    "df['living_area_ratio'] = df['living_area']/df['total_area']"
   ]
  },
  {
   "cell_type": "code",
   "execution_count": 67,
   "metadata": {},
   "outputs": [],
   "source": [
    "# добавление соотношения площади кухни к общей площади\n",
    "df['kitchen_area_ratio'] = df['kitchen_area']/df['total_area']"
   ]
  },
  {
   "cell_type": "code",
   "execution_count": 68,
   "metadata": {},
   "outputs": [],
   "source": [
    "# добавление удалённости от центра в км.\n",
    "df['cityCenters_nearest_km'] = (df['cityCenters_nearest']/1000).round()"
   ]
  },
  {
   "cell_type": "code",
   "execution_count": 69,
   "metadata": {
    "scrolled": true
   },
   "outputs": [
    {
     "data": {
      "text/html": [
       "<div>\n",
       "<style scoped>\n",
       "    .dataframe tbody tr th:only-of-type {\n",
       "        vertical-align: middle;\n",
       "    }\n",
       "\n",
       "    .dataframe tbody tr th {\n",
       "        vertical-align: top;\n",
       "    }\n",
       "\n",
       "    .dataframe thead th {\n",
       "        text-align: right;\n",
       "    }\n",
       "</style>\n",
       "<table border=\"1\" class=\"dataframe\">\n",
       "  <thead>\n",
       "    <tr style=\"text-align: right;\">\n",
       "      <th></th>\n",
       "      <th>total_images</th>\n",
       "      <th>last_price</th>\n",
       "      <th>total_area</th>\n",
       "      <th>first_day_exposition</th>\n",
       "      <th>rooms</th>\n",
       "      <th>ceiling_height</th>\n",
       "      <th>floors_total</th>\n",
       "      <th>living_area</th>\n",
       "      <th>floor</th>\n",
       "      <th>is_apartment</th>\n",
       "      <th>studio</th>\n",
       "      <th>open_plan</th>\n",
       "      <th>kitchen_area</th>\n",
       "      <th>balcony</th>\n",
       "      <th>locality_name</th>\n",
       "      <th>airports_nearest</th>\n",
       "      <th>cityCenters_nearest</th>\n",
       "      <th>parks_around3000</th>\n",
       "      <th>parks_nearest</th>\n",
       "      <th>ponds_around3000</th>\n",
       "      <th>ponds_nearest</th>\n",
       "      <th>days_exposition</th>\n",
       "      <th>sq_meter_price</th>\n",
       "      <th>weekday_exposition</th>\n",
       "      <th>month_exposition</th>\n",
       "      <th>year_exposition</th>\n",
       "      <th>floor_sort</th>\n",
       "      <th>living_area_ratio</th>\n",
       "      <th>kitchen_area_ratio</th>\n",
       "      <th>cityCenters_nearest_km</th>\n",
       "    </tr>\n",
       "  </thead>\n",
       "  <tbody>\n",
       "    <tr>\n",
       "      <th>1</th>\n",
       "      <td>7</td>\n",
       "      <td>3350</td>\n",
       "      <td>40.400002</td>\n",
       "      <td>2018-12-04</td>\n",
       "      <td>1</td>\n",
       "      <td>2.65</td>\n",
       "      <td>11</td>\n",
       "      <td>18.600000</td>\n",
       "      <td>1</td>\n",
       "      <td>NaN</td>\n",
       "      <td>False</td>\n",
       "      <td>False</td>\n",
       "      <td>11.000000</td>\n",
       "      <td>2</td>\n",
       "      <td>посёлок Шушары</td>\n",
       "      <td>12817.0</td>\n",
       "      <td>18603.0</td>\n",
       "      <td>0.0</td>\n",
       "      <td>NaN</td>\n",
       "      <td>0.0</td>\n",
       "      <td>NaN</td>\n",
       "      <td>81</td>\n",
       "      <td>82.920789</td>\n",
       "      <td>1</td>\n",
       "      <td>12</td>\n",
       "      <td>2018</td>\n",
       "      <td>первый</td>\n",
       "      <td>0.460396</td>\n",
       "      <td>0.272277</td>\n",
       "      <td>19.0</td>\n",
       "    </tr>\n",
       "    <tr>\n",
       "      <th>2</th>\n",
       "      <td>10</td>\n",
       "      <td>5196</td>\n",
       "      <td>56.000000</td>\n",
       "      <td>2015-08-20</td>\n",
       "      <td>2</td>\n",
       "      <td>2.65</td>\n",
       "      <td>5</td>\n",
       "      <td>34.299999</td>\n",
       "      <td>4</td>\n",
       "      <td>NaN</td>\n",
       "      <td>False</td>\n",
       "      <td>False</td>\n",
       "      <td>8.300000</td>\n",
       "      <td>0</td>\n",
       "      <td>Санкт-Петербург</td>\n",
       "      <td>21741.0</td>\n",
       "      <td>13933.0</td>\n",
       "      <td>1.0</td>\n",
       "      <td>90.0</td>\n",
       "      <td>2.0</td>\n",
       "      <td>574.0</td>\n",
       "      <td>558</td>\n",
       "      <td>92.785714</td>\n",
       "      <td>3</td>\n",
       "      <td>8</td>\n",
       "      <td>2015</td>\n",
       "      <td>другой</td>\n",
       "      <td>0.612500</td>\n",
       "      <td>0.148214</td>\n",
       "      <td>14.0</td>\n",
       "    </tr>\n",
       "    <tr>\n",
       "      <th>3</th>\n",
       "      <td>0</td>\n",
       "      <td>64900</td>\n",
       "      <td>159.000000</td>\n",
       "      <td>2015-07-24</td>\n",
       "      <td>3</td>\n",
       "      <td>2.65</td>\n",
       "      <td>14</td>\n",
       "      <td>90.340912</td>\n",
       "      <td>9</td>\n",
       "      <td>NaN</td>\n",
       "      <td>False</td>\n",
       "      <td>False</td>\n",
       "      <td>28.264427</td>\n",
       "      <td>0</td>\n",
       "      <td>Санкт-Петербург</td>\n",
       "      <td>28098.0</td>\n",
       "      <td>6800.0</td>\n",
       "      <td>2.0</td>\n",
       "      <td>84.0</td>\n",
       "      <td>3.0</td>\n",
       "      <td>234.0</td>\n",
       "      <td>424</td>\n",
       "      <td>408.176101</td>\n",
       "      <td>4</td>\n",
       "      <td>7</td>\n",
       "      <td>2015</td>\n",
       "      <td>другой</td>\n",
       "      <td>0.568182</td>\n",
       "      <td>0.177764</td>\n",
       "      <td>7.0</td>\n",
       "    </tr>\n",
       "    <tr>\n",
       "      <th>4</th>\n",
       "      <td>2</td>\n",
       "      <td>10000</td>\n",
       "      <td>100.000000</td>\n",
       "      <td>2018-06-19</td>\n",
       "      <td>2</td>\n",
       "      <td>3.03</td>\n",
       "      <td>14</td>\n",
       "      <td>32.000000</td>\n",
       "      <td>13</td>\n",
       "      <td>NaN</td>\n",
       "      <td>False</td>\n",
       "      <td>False</td>\n",
       "      <td>41.000000</td>\n",
       "      <td>0</td>\n",
       "      <td>Санкт-Петербург</td>\n",
       "      <td>31856.0</td>\n",
       "      <td>8098.0</td>\n",
       "      <td>2.0</td>\n",
       "      <td>112.0</td>\n",
       "      <td>1.0</td>\n",
       "      <td>48.0</td>\n",
       "      <td>121</td>\n",
       "      <td>100.000000</td>\n",
       "      <td>1</td>\n",
       "      <td>6</td>\n",
       "      <td>2018</td>\n",
       "      <td>другой</td>\n",
       "      <td>0.320000</td>\n",
       "      <td>0.410000</td>\n",
       "      <td>8.0</td>\n",
       "    </tr>\n",
       "    <tr>\n",
       "      <th>5</th>\n",
       "      <td>10</td>\n",
       "      <td>2890</td>\n",
       "      <td>30.400000</td>\n",
       "      <td>2018-09-10</td>\n",
       "      <td>1</td>\n",
       "      <td>2.65</td>\n",
       "      <td>12</td>\n",
       "      <td>14.400000</td>\n",
       "      <td>5</td>\n",
       "      <td>NaN</td>\n",
       "      <td>False</td>\n",
       "      <td>False</td>\n",
       "      <td>9.100000</td>\n",
       "      <td>0</td>\n",
       "      <td>городской посёлок Янино-1</td>\n",
       "      <td>NaN</td>\n",
       "      <td>NaN</td>\n",
       "      <td>NaN</td>\n",
       "      <td>NaN</td>\n",
       "      <td>NaN</td>\n",
       "      <td>NaN</td>\n",
       "      <td>55</td>\n",
       "      <td>95.065791</td>\n",
       "      <td>0</td>\n",
       "      <td>9</td>\n",
       "      <td>2018</td>\n",
       "      <td>другой</td>\n",
       "      <td>0.473684</td>\n",
       "      <td>0.299342</td>\n",
       "      <td>NaN</td>\n",
       "    </tr>\n",
       "  </tbody>\n",
       "</table>\n",
       "</div>"
      ],
      "text/plain": [
       "   total_images  last_price  total_area first_day_exposition  rooms  \\\n",
       "1             7        3350   40.400002           2018-12-04      1   \n",
       "2            10        5196   56.000000           2015-08-20      2   \n",
       "3             0       64900  159.000000           2015-07-24      3   \n",
       "4             2       10000  100.000000           2018-06-19      2   \n",
       "5            10        2890   30.400000           2018-09-10      1   \n",
       "\n",
       "   ceiling_height  floors_total  living_area  floor is_apartment  studio  \\\n",
       "1            2.65            11    18.600000      1          NaN   False   \n",
       "2            2.65             5    34.299999      4          NaN   False   \n",
       "3            2.65            14    90.340912      9          NaN   False   \n",
       "4            3.03            14    32.000000     13          NaN   False   \n",
       "5            2.65            12    14.400000      5          NaN   False   \n",
       "\n",
       "   open_plan  kitchen_area  balcony              locality_name  \\\n",
       "1      False     11.000000        2             посёлок Шушары   \n",
       "2      False      8.300000        0            Санкт-Петербург   \n",
       "3      False     28.264427        0            Санкт-Петербург   \n",
       "4      False     41.000000        0            Санкт-Петербург   \n",
       "5      False      9.100000        0  городской посёлок Янино-1   \n",
       "\n",
       "   airports_nearest  cityCenters_nearest  parks_around3000  parks_nearest  \\\n",
       "1           12817.0              18603.0               0.0            NaN   \n",
       "2           21741.0              13933.0               1.0           90.0   \n",
       "3           28098.0               6800.0               2.0           84.0   \n",
       "4           31856.0               8098.0               2.0          112.0   \n",
       "5               NaN                  NaN               NaN            NaN   \n",
       "\n",
       "   ponds_around3000  ponds_nearest  days_exposition  sq_meter_price  \\\n",
       "1               0.0            NaN               81       82.920789   \n",
       "2               2.0          574.0              558       92.785714   \n",
       "3               3.0          234.0              424      408.176101   \n",
       "4               1.0           48.0              121      100.000000   \n",
       "5               NaN            NaN               55       95.065791   \n",
       "\n",
       "   weekday_exposition  month_exposition  year_exposition floor_sort  \\\n",
       "1                   1                12             2018     первый   \n",
       "2                   3                 8             2015     другой   \n",
       "3                   4                 7             2015     другой   \n",
       "4                   1                 6             2018     другой   \n",
       "5                   0                 9             2018     другой   \n",
       "\n",
       "   living_area_ratio  kitchen_area_ratio  cityCenters_nearest_km  \n",
       "1           0.460396            0.272277                    19.0  \n",
       "2           0.612500            0.148214                    14.0  \n",
       "3           0.568182            0.177764                     7.0  \n",
       "4           0.320000            0.410000                     8.0  \n",
       "5           0.473684            0.299342                     NaN  "
      ]
     },
     "execution_count": 69,
     "metadata": {},
     "output_type": "execute_result"
    }
   ],
   "source": [
    "# получение первых пяти строк таблицы df\n",
    "df.head()"
   ]
  },
  {
   "cell_type": "markdown",
   "metadata": {},
   "source": [
    "### Вывод"
   ]
  },
  {
   "cell_type": "markdown",
   "metadata": {},
   "source": [
    "В таблицу были добавлены восемь новых колонок с вспомогательными расчетами. Данные значения будут использованы для дальнейшего исследования и построения графиков зависимостей."
   ]
  },
  {
   "cell_type": "markdown",
   "metadata": {},
   "source": [
    "## Исследовательский анализ данных"
   ]
  },
  {
   "cell_type": "markdown",
   "metadata": {},
   "source": [
    "### Изучение параметров: площадь, цена, число комнат, высота потолков"
   ]
  },
  {
   "cell_type": "code",
   "execution_count": 70,
   "metadata": {
    "scrolled": false
   },
   "outputs": [
    {
     "data": {
      "text/html": [
       "<div>\n",
       "<style scoped>\n",
       "    .dataframe tbody tr th:only-of-type {\n",
       "        vertical-align: middle;\n",
       "    }\n",
       "\n",
       "    .dataframe tbody tr th {\n",
       "        vertical-align: top;\n",
       "    }\n",
       "\n",
       "    .dataframe thead th {\n",
       "        text-align: right;\n",
       "    }\n",
       "</style>\n",
       "<table border=\"1\" class=\"dataframe\">\n",
       "  <thead>\n",
       "    <tr style=\"text-align: right;\">\n",
       "      <th></th>\n",
       "      <th>total_area</th>\n",
       "      <th>last_price</th>\n",
       "      <th>rooms</th>\n",
       "      <th>ceiling_height</th>\n",
       "    </tr>\n",
       "  </thead>\n",
       "  <tbody>\n",
       "    <tr>\n",
       "      <th>count</th>\n",
       "      <td>20338.000000</td>\n",
       "      <td>20338.000000</td>\n",
       "      <td>20338.000000</td>\n",
       "      <td>20338.000000</td>\n",
       "    </tr>\n",
       "    <tr>\n",
       "      <th>mean</th>\n",
       "      <td>58.862640</td>\n",
       "      <td>6267.072278</td>\n",
       "      <td>2.025371</td>\n",
       "      <td>2.714621</td>\n",
       "    </tr>\n",
       "    <tr>\n",
       "      <th>std</th>\n",
       "      <td>34.094589</td>\n",
       "      <td>10902.395511</td>\n",
       "      <td>1.055730</td>\n",
       "      <td>0.958563</td>\n",
       "    </tr>\n",
       "    <tr>\n",
       "      <th>min</th>\n",
       "      <td>12.000000</td>\n",
       "      <td>12.000000</td>\n",
       "      <td>0.000000</td>\n",
       "      <td>1.000000</td>\n",
       "    </tr>\n",
       "    <tr>\n",
       "      <th>25%</th>\n",
       "      <td>39.599998</td>\n",
       "      <td>3400.000000</td>\n",
       "      <td>1.000000</td>\n",
       "      <td>2.600000</td>\n",
       "    </tr>\n",
       "    <tr>\n",
       "      <th>50%</th>\n",
       "      <td>50.799999</td>\n",
       "      <td>4500.000000</td>\n",
       "      <td>2.000000</td>\n",
       "      <td>2.650000</td>\n",
       "    </tr>\n",
       "    <tr>\n",
       "      <th>75%</th>\n",
       "      <td>67.800003</td>\n",
       "      <td>6500.000000</td>\n",
       "      <td>3.000000</td>\n",
       "      <td>2.700000</td>\n",
       "    </tr>\n",
       "    <tr>\n",
       "      <th>max</th>\n",
       "      <td>900.000000</td>\n",
       "      <td>763000.000000</td>\n",
       "      <td>19.000000</td>\n",
       "      <td>100.000000</td>\n",
       "    </tr>\n",
       "  </tbody>\n",
       "</table>\n",
       "</div>"
      ],
      "text/plain": [
       "         total_area     last_price         rooms  ceiling_height\n",
       "count  20338.000000   20338.000000  20338.000000    20338.000000\n",
       "mean      58.862640    6267.072278      2.025371        2.714621\n",
       "std       34.094589   10902.395511      1.055730        0.958563\n",
       "min       12.000000      12.000000      0.000000        1.000000\n",
       "25%       39.599998    3400.000000      1.000000        2.600000\n",
       "50%       50.799999    4500.000000      2.000000        2.650000\n",
       "75%       67.800003    6500.000000      3.000000        2.700000\n",
       "max      900.000000  763000.000000     19.000000      100.000000"
      ]
     },
     "execution_count": 70,
     "metadata": {},
     "output_type": "execute_result"
    }
   ],
   "source": [
    "# числовое описание данных\n",
    "df[['total_area', 'last_price', 'rooms', 'ceiling_height']].describe()"
   ]
  },
  {
   "cell_type": "code",
   "execution_count": 71,
   "metadata": {
    "scrolled": true
   },
   "outputs": [
    {
     "data": {
      "text/plain": [
       "Text(0, 0.5, 'частота')"
      ]
     },
     "execution_count": 71,
     "metadata": {},
     "output_type": "execute_result"
    },
    {
     "data": {
      "image/png": "[encoded data removed]",
      "text/plain": [
       "<Figure size 720x216 with 1 Axes>"
      ]
     },
     "metadata": {
      "needs_background": "light"
     },
     "output_type": "display_data"
    }
   ],
   "source": [
    "# гистограмма общей площади\n",
    "df.total_area.hist(bins=30, range=(0,400), figsize=(10,3), legend=True)\n",
    "\n",
    "# добавление названия осей\n",
    "plt.xlabel(\"общая площадь\")\n",
    "plt.ylabel(\"частота\")"
   ]
  },
  {
   "cell_type": "code",
   "execution_count": 72,
   "metadata": {},
   "outputs": [
    {
     "name": "stdout",
     "output_type": "stream",
     "text": [
      "Доля объектов с площадью более 120 кв.м.: 3.8%\n"
     ]
    }
   ],
   "source": [
    "# доля выбросов\n",
    "print('Доля объектов с площадью более 120 кв.м.:','{:.1%}'.format(len(df.query('total_area > 120'))/len(df)))"
   ]
  },
  {
   "cell_type": "markdown",
   "metadata": {},
   "source": [
    "💡 *По гистограмме видно, что большинство значений находится в пределах 30-80 кв.м. Форма распределения и числовое описание данных говорит о наличии выбросов: максимальное значение 900 кв.м., в то время как медианное — 51 кв.м. Среднее смещено вправо от медианы и составляет около 59 кв.м. Доля объектов с площадью более 120 кв.м.: 3.8%*"
   ]
  },
  {
   "cell_type": "code",
   "execution_count": 73,
   "metadata": {
    "scrolled": true
   },
   "outputs": [
    {
     "data": {
      "text/plain": [
       "Text(0, 0.5, 'частота')"
      ]
     },
     "execution_count": 73,
     "metadata": {},
     "output_type": "execute_result"
    },
    {
     "data": {
      "image/png": "[encoded data removed]",
      "text/plain": [
       "<Figure size 720x216 with 1 Axes>"
      ]
     },
     "metadata": {
      "needs_background": "light"
     },
     "output_type": "display_data"
    }
   ],
   "source": [
    "# гистограмма цен\n",
    "df.last_price.hist(bins=30, range=(0,40000), figsize=(10,3), legend=True)\n",
    "\n",
    "# добавление названия осей\n",
    "plt.xlabel(\"цена\")\n",
    "plt.ylabel(\"частота\")"
   ]
  },
  {
   "cell_type": "code",
   "execution_count": 74,
   "metadata": {},
   "outputs": [
    {
     "name": "stdout",
     "output_type": "stream",
     "text": [
      "Доля объектов с ценой более 12 млн. руб.: 6.9%\n"
     ]
    }
   ],
   "source": [
    "# доля выбросов\n",
    "print('Доля объектов с ценой более 12 млн. руб.:','{:.1%}'.format(len(df.query('last_price > 12000'))/len(df)))"
   ]
  },
  {
   "cell_type": "markdown",
   "metadata": {},
   "source": [
    "💡 *Большинство значений цен находся в пределах 2-8 млн.руб. Форма распределения и числовое описание данных говорит о наличии выбросов: максимальное значение 763 млн.руб., в то время как медианное — 4.5 млн.руб. Среднее смещено вправо от медианы и составляет около 6.3 млн.руб. В таблице есть околонулевые значения. Доля объектов с ценой более 12 млн. руб.: 6.9%*"
   ]
  },
  {
   "cell_type": "code",
   "execution_count": 75,
   "metadata": {
    "scrolled": true
   },
   "outputs": [
    {
     "data": {
      "text/plain": [
       "Text(0, 0.5, 'частота')"
      ]
     },
     "execution_count": 75,
     "metadata": {},
     "output_type": "execute_result"
    },
    {
     "data": {
      "image/png": "[encoded data removed]",
      "text/plain": [
       "<Figure size 720x216 with 1 Axes>"
      ]
     },
     "metadata": {
      "needs_background": "light"
     },
     "output_type": "display_data"
    }
   ],
   "source": [
    "# гистограмма числа комнат\n",
    "df.rooms.hist(bins=10, figsize=(10,3), legend=True)\n",
    "\n",
    "# добавление названия осей\n",
    "plt.xlabel(\"число комнат\")\n",
    "plt.ylabel(\"частота\")"
   ]
  },
  {
   "cell_type": "code",
   "execution_count": 76,
   "metadata": {},
   "outputs": [
    {
     "name": "stdout",
     "output_type": "stream",
     "text": [
      "Доля объектов с числом комнат более шести: 0.3%\n"
     ]
    }
   ],
   "source": [
    "# доля выбросов\n",
    "print('Доля объектов с числом комнат более шести:','{:.1%}'.format(len(df.query('rooms > 6'))/len(df)))"
   ]
  },
  {
   "cell_type": "markdown",
   "metadata": {},
   "source": [
    "💡 *В датасете подавляющее большинство объявлений о продаже 1,2 или 3-комнатных квартир. Однако, встречаются и объявления о продаже много-комнатных объектов. Доля объектов с числом комнат более шести: 0.3%. В таблице находится объект с максимальным числом комнат — 19. Присутствуют объявления с нулевым число комнат. Среднее и медианное значение составляет 2 комнаты.*"
   ]
  },
  {
   "cell_type": "code",
   "execution_count": 77,
   "metadata": {
    "scrolled": false
   },
   "outputs": [
    {
     "data": {
      "text/plain": [
       "Text(0, 0.5, 'частота')"
      ]
     },
     "execution_count": 77,
     "metadata": {},
     "output_type": "execute_result"
    },
    {
     "data": {
      "image/png": "[encoded data removed]",
      "text/plain": [
       "<Figure size 720x216 with 1 Axes>"
      ]
     },
     "metadata": {
      "needs_background": "light"
     },
     "output_type": "display_data"
    }
   ],
   "source": [
    "# гистограмма высоты потолков\n",
    "df.ceiling_height.hist(bins=30, range=(2,5.0), figsize=(10,3), legend=True)\n",
    "\n",
    "# добавление названия осей\n",
    "plt.xlabel(\"высота потолков\")\n",
    "plt.ylabel(\"частота\")"
   ]
  },
  {
   "cell_type": "code",
   "execution_count": 78,
   "metadata": {},
   "outputs": [
    {
     "name": "stdout",
     "output_type": "stream",
     "text": [
      "Доля объектов с высотой потолков более 3.2 м.: 3.0%\n",
      "Доля объектов с высотой потолков менее 2.4 м.: 0.1%\n"
     ]
    }
   ],
   "source": [
    "# доля выбросов\n",
    "print('Доля объектов с высотой потолков более 3.2 м.:','{:.1%}'.format(len(df.query('ceiling_height > 3.2'))/len(df)))\n",
    "print('Доля объектов с высотой потолков менее 2.4 м.:','{:.1%}'.format(len(df.query('ceiling_height < 2.4'))/len(df)))"
   ]
  },
  {
   "cell_type": "markdown",
   "metadata": {},
   "source": [
    "💡 *Медианная высота потолков составляет 2.65 м. Однако, в датасете встречаются объекты как с аномально низкой высотой потолка (1 м.), так и с аномально большой высотой (100 м.). Доля объектов с высотой потолков менее 2.4 м. и более 3.2 м.: 0.1% и 3.0% соответственно.*"
   ]
  },
  {
   "cell_type": "markdown",
   "metadata": {},
   "source": [
    "### Изучение параметров: время продажи квартиры"
   ]
  },
  {
   "cell_type": "code",
   "execution_count": 79,
   "metadata": {},
   "outputs": [
    {
     "data": {
      "text/html": [
       "<div>\n",
       "<style scoped>\n",
       "    .dataframe tbody tr th:only-of-type {\n",
       "        vertical-align: middle;\n",
       "    }\n",
       "\n",
       "    .dataframe tbody tr th {\n",
       "        vertical-align: top;\n",
       "    }\n",
       "\n",
       "    .dataframe thead th {\n",
       "        text-align: right;\n",
       "    }\n",
       "</style>\n",
       "<table border=\"1\" class=\"dataframe\">\n",
       "  <thead>\n",
       "    <tr style=\"text-align: right;\">\n",
       "      <th></th>\n",
       "      <th>days_exposition</th>\n",
       "    </tr>\n",
       "  </thead>\n",
       "  <tbody>\n",
       "    <tr>\n",
       "      <th>count</th>\n",
       "      <td>20338.000000</td>\n",
       "    </tr>\n",
       "    <tr>\n",
       "      <th>mean</th>\n",
       "      <td>180.808978</td>\n",
       "    </tr>\n",
       "    <tr>\n",
       "      <th>std</th>\n",
       "      <td>219.797952</td>\n",
       "    </tr>\n",
       "    <tr>\n",
       "      <th>min</th>\n",
       "      <td>1.000000</td>\n",
       "    </tr>\n",
       "    <tr>\n",
       "      <th>25%</th>\n",
       "      <td>45.000000</td>\n",
       "    </tr>\n",
       "    <tr>\n",
       "      <th>50%</th>\n",
       "      <td>95.000000</td>\n",
       "    </tr>\n",
       "    <tr>\n",
       "      <th>75%</th>\n",
       "      <td>231.000000</td>\n",
       "    </tr>\n",
       "    <tr>\n",
       "      <th>max</th>\n",
       "      <td>1580.000000</td>\n",
       "    </tr>\n",
       "  </tbody>\n",
       "</table>\n",
       "</div>"
      ],
      "text/plain": [
       "       days_exposition\n",
       "count     20338.000000\n",
       "mean        180.808978\n",
       "std         219.797952\n",
       "min           1.000000\n",
       "25%          45.000000\n",
       "50%          95.000000\n",
       "75%         231.000000\n",
       "max        1580.000000"
      ]
     },
     "execution_count": 79,
     "metadata": {},
     "output_type": "execute_result"
    }
   ],
   "source": [
    "# числовое описание данных\n",
    "df[['days_exposition']].describe()"
   ]
  },
  {
   "cell_type": "code",
   "execution_count": 80,
   "metadata": {
    "scrolled": true
   },
   "outputs": [
    {
     "data": {
      "text/plain": [
       "Text(0, 0.5, 'частота')"
      ]
     },
     "execution_count": 80,
     "metadata": {},
     "output_type": "execute_result"
    },
    {
     "data": {
      "image/png": "[encoded data removed]",
      "text/plain": [
       "<Figure size 720x216 with 1 Axes>"
      ]
     },
     "metadata": {
      "needs_background": "light"
     },
     "output_type": "display_data"
    }
   ],
   "source": [
    "# гистограммы времени продажи квартиры\n",
    "df.days_exposition.hist(bins=30, figsize=(10,3), legend=True)\n",
    "\n",
    "# добавление названия осей\n",
    "plt.xlabel(\"время продажи квартиры\")\n",
    "plt.ylabel(\"частота\")"
   ]
  },
  {
   "cell_type": "code",
   "execution_count": 81,
   "metadata": {},
   "outputs": [
    {
     "data": {
      "text/plain": [
       "Text(0, 0.5, 'частота')"
      ]
     },
     "execution_count": 81,
     "metadata": {},
     "output_type": "execute_result"
    },
    {
     "data": {
      "image/png": "[encoded data removed]",
      "text/plain": [
       "<Figure size 720x216 with 1 Axes>"
      ]
     },
     "metadata": {
      "needs_background": "light"
     },
     "output_type": "display_data"
    }
   ],
   "source": [
    "# гистограммы времени продажи квартиры\n",
    "df.days_exposition.hist(bins=30, range=(0,100), figsize=(10,3), legend=True)\n",
    "\n",
    "# добавление названия осей\n",
    "plt.xlabel(\"время продажи квартиры\")\n",
    "plt.ylabel(\"частота\")"
   ]
  },
  {
   "cell_type": "code",
   "execution_count": 82,
   "metadata": {},
   "outputs": [
    {
     "name": "stdout",
     "output_type": "stream",
     "text": [
      "Доля объектов с временем продажи более 600 дней: 5.9%\n",
      "Доля объектов с временем продажи менее трех дней: 0.79%\n"
     ]
    }
   ],
   "source": [
    "# доля выбросов\n",
    "print('Доля объектов с временем продажи более 600 дней:','{:.1%}'.format(len(df.query('days_exposition > 600'))/len(df)))\n",
    "print('Доля объектов с временем продажи менее трех дней:','{:.2%}'.format(len(df.query('days_exposition <= 3'))/len(df)))"
   ]
  },
  {
   "cell_type": "markdown",
   "metadata": {},
   "source": [
    "💡 *Медианное время продажи составляет 95 дней. В данных встречаются объекты с длительным временем размещения — более 2 лет. Таких значений достаточно много, поэтому среднее значение превышает медиану почти в 2 раза и составляет 181 день. Можно заключить, что медиана для данных о времени продажи более показательна, чем среднее арифметическое. Доля объявлений размещенных более 600 дней составляет 5.8%*    \n",
    "\n",
    "*Также в наборе данных встречаются значения, про которые можно сказать, что продажа произошла быстро. Это значения до 3х дней. Однако таких значений не слишком много. Обрабатывать их не целесообразно.*    \n",
    "\n",
    "*Кроме того, интерес представляют несколько выбросов — 45 дней, 60 дней и 90 дней. На этот период пришлось в 2-3 раза больше снятий объявлений с публикации, чем в близлежащие периоды. Возможно, данные выбросы связаны не с фактической продажей объектов, а с принудительным закрытием объявления продавцом или площадкой, например из-за окончания тарифного плана. Будет правильным удалить данные аномалии.*"
   ]
  },
  {
   "cell_type": "markdown",
   "metadata": {},
   "source": [
    "### Обработка редких и выбивающихся значений"
   ]
  },
  {
   "cell_type": "markdown",
   "metadata": {},
   "source": [
    "Построим диаграммы размаха для определения границ выбросов:"
   ]
  },
  {
   "cell_type": "code",
   "execution_count": 83,
   "metadata": {
    "scrolled": true
   },
   "outputs": [
    {
     "data": {
      "text/plain": [
       "<AxesSubplot:>"
      ]
     },
     "execution_count": 83,
     "metadata": {},
     "output_type": "execute_result"
    },
    {
     "data": {
      "image/png": "[encoded data removed]",
      "text/plain": [
       "<Figure size 864x288 with 7 Axes>"
      ]
     },
     "metadata": {
      "needs_background": "light"
     },
     "output_type": "display_data"
    }
   ],
   "source": [
    "# настройка размеров подложки\n",
    "plt.figure(figsize=(12, 4))\n",
    "\n",
    "# диаграмма размаха для площади\n",
    "plt.subplot(1,7,1)\n",
    "plt.tight_layout()\n",
    "plt.ylim(0,150)\n",
    "df.boxplot(column='total_area')\n",
    "\n",
    "# диаграмма размаха для цены\n",
    "plt.subplot(1,7,2)\n",
    "plt.tight_layout()\n",
    "plt.ylim(0,15000)\n",
    "df.boxplot(column='last_price')\n",
    "\n",
    "# диаграмма размаха для количества комнат\n",
    "plt.subplot(1,7,3)\n",
    "plt.tight_layout()\n",
    "plt.ylim(0,10)\n",
    "df.boxplot(column='rooms')\n",
    "\n",
    "# диаграмма размаха для количества высоты потолков\n",
    "plt.subplot(1,7,4)\n",
    "plt.tight_layout()\n",
    "plt.ylim(2,3)\n",
    "df.boxplot(column='ceiling_height')\n",
    "\n",
    "# диаграмма размаха для срока размещения\n",
    "plt.subplot(1,7,5)\n",
    "plt.tight_layout()\n",
    "plt.ylim(0,800)\n",
    "df.boxplot(column='days_exposition')\n",
    "\n",
    "# диаграмма размаха для удалённости от центра\n",
    "plt.subplot(1,7,6)\n",
    "plt.tight_layout()\n",
    "plt.ylim(0,40)\n",
    "df.boxplot(column='cityCenters_nearest_km')\n",
    "\n",
    "# диаграмма размаха для цены квадратного метра\n",
    "plt.subplot(1,7,7)\n",
    "plt.tight_layout()\n",
    "plt.ylim(20,200)\n",
    "df.boxplot(column='sq_meter_price')"
   ]
  },
  {
   "cell_type": "markdown",
   "metadata": {},
   "source": [
    "Обработаем аномалии, согласно ранее сделанным выводам и диаграммам размаха:"
   ]
  },
  {
   "cell_type": "code",
   "execution_count": 84,
   "metadata": {
    "scrolled": true
   },
   "outputs": [],
   "source": [
    "# удаление объектов с площадью более 110 кв. м.\n",
    "df = df.query('total_area <= 120')\n",
    "\n",
    "# удаление объектов с выбивающейся ценой\n",
    "df = df.query('100 <= last_price <= 12000')\n",
    "\n",
    "# удаление объектов с числом комнат менее 1 и более 6\n",
    "df = df.query('1 <= rooms <= 6')\n",
    "\n",
    "# удаление объектов с высотой потолков менее 2.4 м. и более 3.2 м.\n",
    "df = df.query('2.4 <= ceiling_height <= 3.2')\n",
    "\n",
    "# удаление объектов с длительным сроком размещения объявлений\n",
    "df = df.query('days_exposition <= 600')\n",
    "\n",
    "# удаление объектов с выбросами в зависимости от удаления от центра\n",
    "df = df.query('~(cityCenters_nearest_km >30)')\n",
    "\n",
    "# удаление объектов с аномалиями в стоимости квадратного метра\n",
    "df = df.query('20 <= sq_meter_price <= 160')"
   ]
  },
  {
   "cell_type": "markdown",
   "metadata": {},
   "source": [
    "Удалим значения с аномальными выбросами для 45-,60- и 90-дневного срока размещения, т.к. мы не знаем какие из них принадлежат к реальным продажам, а какие к принудительному закрытию объявлений площадкой/продавцом:"
   ]
  },
  {
   "cell_type": "code",
   "execution_count": 85,
   "metadata": {},
   "outputs": [],
   "source": [
    "# корректировка объектов с аномальными выбросами для 45-,60- и 90-дневного срока размещения\n",
    "df = df.query('(days_exposition != 45) and (days_exposition != 60) and (days_exposition != 90)')"
   ]
  },
  {
   "cell_type": "code",
   "execution_count": 86,
   "metadata": {
    "scrolled": true
   },
   "outputs": [
    {
     "data": {
      "text/plain": [
       "Text(0, 0.5, 'частота')"
      ]
     },
     "execution_count": 86,
     "metadata": {},
     "output_type": "execute_result"
    },
    {
     "data": {
      "image/png": "[encoded data removed]",
      "text/plain": [
       "<Figure size 720x216 with 1 Axes>"
      ]
     },
     "metadata": {
      "needs_background": "light"
     },
     "output_type": "display_data"
    }
   ],
   "source": [
    "# гистограмма времени продажи квартиры без аномальных значений\n",
    "df.days_exposition.hist(bins=30, range=(0,100), figsize=(10,3), legend=True)\n",
    "\n",
    "# добавление названия осей\n",
    "plt.xlabel(\"время продажи квартиры\")\n",
    "plt.ylabel(\"частота\")"
   ]
  },
  {
   "cell_type": "code",
   "execution_count": 87,
   "metadata": {},
   "outputs": [
    {
     "data": {
      "text/html": [
       "<div>\n",
       "<style scoped>\n",
       "    .dataframe tbody tr th:only-of-type {\n",
       "        vertical-align: middle;\n",
       "    }\n",
       "\n",
       "    .dataframe tbody tr th {\n",
       "        vertical-align: top;\n",
       "    }\n",
       "\n",
       "    .dataframe thead th {\n",
       "        text-align: right;\n",
       "    }\n",
       "</style>\n",
       "<table border=\"1\" class=\"dataframe\">\n",
       "  <thead>\n",
       "    <tr style=\"text-align: right;\">\n",
       "      <th></th>\n",
       "      <th>total_images</th>\n",
       "      <th>last_price</th>\n",
       "      <th>total_area</th>\n",
       "      <th>first_day_exposition</th>\n",
       "      <th>rooms</th>\n",
       "      <th>ceiling_height</th>\n",
       "      <th>floors_total</th>\n",
       "      <th>living_area</th>\n",
       "      <th>floor</th>\n",
       "      <th>is_apartment</th>\n",
       "      <th>studio</th>\n",
       "      <th>open_plan</th>\n",
       "      <th>kitchen_area</th>\n",
       "      <th>balcony</th>\n",
       "      <th>locality_name</th>\n",
       "      <th>airports_nearest</th>\n",
       "      <th>cityCenters_nearest</th>\n",
       "      <th>parks_around3000</th>\n",
       "      <th>parks_nearest</th>\n",
       "      <th>ponds_around3000</th>\n",
       "      <th>ponds_nearest</th>\n",
       "      <th>days_exposition</th>\n",
       "      <th>sq_meter_price</th>\n",
       "      <th>weekday_exposition</th>\n",
       "      <th>month_exposition</th>\n",
       "      <th>year_exposition</th>\n",
       "      <th>floor_sort</th>\n",
       "      <th>living_area_ratio</th>\n",
       "      <th>kitchen_area_ratio</th>\n",
       "      <th>cityCenters_nearest_km</th>\n",
       "    </tr>\n",
       "  </thead>\n",
       "  <tbody>\n",
       "    <tr>\n",
       "      <th>0</th>\n",
       "      <td>7</td>\n",
       "      <td>3350</td>\n",
       "      <td>40.400002</td>\n",
       "      <td>2018-12-04</td>\n",
       "      <td>1</td>\n",
       "      <td>2.65</td>\n",
       "      <td>11</td>\n",
       "      <td>18.600000</td>\n",
       "      <td>1</td>\n",
       "      <td>NaN</td>\n",
       "      <td>False</td>\n",
       "      <td>False</td>\n",
       "      <td>11.0</td>\n",
       "      <td>2</td>\n",
       "      <td>посёлок Шушары</td>\n",
       "      <td>12817.0</td>\n",
       "      <td>18603.0</td>\n",
       "      <td>0.0</td>\n",
       "      <td>NaN</td>\n",
       "      <td>0.0</td>\n",
       "      <td>NaN</td>\n",
       "      <td>81</td>\n",
       "      <td>82.920789</td>\n",
       "      <td>1</td>\n",
       "      <td>12</td>\n",
       "      <td>2018</td>\n",
       "      <td>первый</td>\n",
       "      <td>0.460396</td>\n",
       "      <td>0.272277</td>\n",
       "      <td>19.0</td>\n",
       "    </tr>\n",
       "    <tr>\n",
       "      <th>1</th>\n",
       "      <td>10</td>\n",
       "      <td>5196</td>\n",
       "      <td>56.000000</td>\n",
       "      <td>2015-08-20</td>\n",
       "      <td>2</td>\n",
       "      <td>2.65</td>\n",
       "      <td>5</td>\n",
       "      <td>34.299999</td>\n",
       "      <td>4</td>\n",
       "      <td>NaN</td>\n",
       "      <td>False</td>\n",
       "      <td>False</td>\n",
       "      <td>8.3</td>\n",
       "      <td>0</td>\n",
       "      <td>Санкт-Петербург</td>\n",
       "      <td>21741.0</td>\n",
       "      <td>13933.0</td>\n",
       "      <td>1.0</td>\n",
       "      <td>90.0</td>\n",
       "      <td>2.0</td>\n",
       "      <td>574.0</td>\n",
       "      <td>558</td>\n",
       "      <td>92.785714</td>\n",
       "      <td>3</td>\n",
       "      <td>8</td>\n",
       "      <td>2015</td>\n",
       "      <td>другой</td>\n",
       "      <td>0.612500</td>\n",
       "      <td>0.148214</td>\n",
       "      <td>14.0</td>\n",
       "    </tr>\n",
       "    <tr>\n",
       "      <th>2</th>\n",
       "      <td>2</td>\n",
       "      <td>10000</td>\n",
       "      <td>100.000000</td>\n",
       "      <td>2018-06-19</td>\n",
       "      <td>2</td>\n",
       "      <td>3.03</td>\n",
       "      <td>14</td>\n",
       "      <td>32.000000</td>\n",
       "      <td>13</td>\n",
       "      <td>NaN</td>\n",
       "      <td>False</td>\n",
       "      <td>False</td>\n",
       "      <td>41.0</td>\n",
       "      <td>0</td>\n",
       "      <td>Санкт-Петербург</td>\n",
       "      <td>31856.0</td>\n",
       "      <td>8098.0</td>\n",
       "      <td>2.0</td>\n",
       "      <td>112.0</td>\n",
       "      <td>1.0</td>\n",
       "      <td>48.0</td>\n",
       "      <td>121</td>\n",
       "      <td>100.000000</td>\n",
       "      <td>1</td>\n",
       "      <td>6</td>\n",
       "      <td>2018</td>\n",
       "      <td>другой</td>\n",
       "      <td>0.320000</td>\n",
       "      <td>0.410000</td>\n",
       "      <td>8.0</td>\n",
       "    </tr>\n",
       "    <tr>\n",
       "      <th>3</th>\n",
       "      <td>10</td>\n",
       "      <td>2890</td>\n",
       "      <td>30.400000</td>\n",
       "      <td>2018-09-10</td>\n",
       "      <td>1</td>\n",
       "      <td>2.65</td>\n",
       "      <td>12</td>\n",
       "      <td>14.400000</td>\n",
       "      <td>5</td>\n",
       "      <td>NaN</td>\n",
       "      <td>False</td>\n",
       "      <td>False</td>\n",
       "      <td>9.1</td>\n",
       "      <td>0</td>\n",
       "      <td>городской посёлок Янино-1</td>\n",
       "      <td>NaN</td>\n",
       "      <td>NaN</td>\n",
       "      <td>NaN</td>\n",
       "      <td>NaN</td>\n",
       "      <td>NaN</td>\n",
       "      <td>NaN</td>\n",
       "      <td>55</td>\n",
       "      <td>95.065791</td>\n",
       "      <td>0</td>\n",
       "      <td>9</td>\n",
       "      <td>2018</td>\n",
       "      <td>другой</td>\n",
       "      <td>0.473684</td>\n",
       "      <td>0.299342</td>\n",
       "      <td>NaN</td>\n",
       "    </tr>\n",
       "    <tr>\n",
       "      <th>4</th>\n",
       "      <td>6</td>\n",
       "      <td>3700</td>\n",
       "      <td>37.299999</td>\n",
       "      <td>2017-11-02</td>\n",
       "      <td>1</td>\n",
       "      <td>2.65</td>\n",
       "      <td>26</td>\n",
       "      <td>10.600000</td>\n",
       "      <td>6</td>\n",
       "      <td>NaN</td>\n",
       "      <td>False</td>\n",
       "      <td>False</td>\n",
       "      <td>14.4</td>\n",
       "      <td>1</td>\n",
       "      <td>посёлок Парголово</td>\n",
       "      <td>52996.0</td>\n",
       "      <td>19143.0</td>\n",
       "      <td>0.0</td>\n",
       "      <td>NaN</td>\n",
       "      <td>0.0</td>\n",
       "      <td>NaN</td>\n",
       "      <td>155</td>\n",
       "      <td>99.195712</td>\n",
       "      <td>3</td>\n",
       "      <td>11</td>\n",
       "      <td>2017</td>\n",
       "      <td>другой</td>\n",
       "      <td>0.284182</td>\n",
       "      <td>0.386059</td>\n",
       "      <td>19.0</td>\n",
       "    </tr>\n",
       "  </tbody>\n",
       "</table>\n",
       "</div>"
      ],
      "text/plain": [
       "   total_images  last_price  total_area first_day_exposition  rooms  \\\n",
       "0             7        3350   40.400002           2018-12-04      1   \n",
       "1            10        5196   56.000000           2015-08-20      2   \n",
       "2             2       10000  100.000000           2018-06-19      2   \n",
       "3            10        2890   30.400000           2018-09-10      1   \n",
       "4             6        3700   37.299999           2017-11-02      1   \n",
       "\n",
       "   ceiling_height  floors_total  living_area  floor is_apartment  studio  \\\n",
       "0            2.65            11    18.600000      1          NaN   False   \n",
       "1            2.65             5    34.299999      4          NaN   False   \n",
       "2            3.03            14    32.000000     13          NaN   False   \n",
       "3            2.65            12    14.400000      5          NaN   False   \n",
       "4            2.65            26    10.600000      6          NaN   False   \n",
       "\n",
       "   open_plan  kitchen_area  balcony              locality_name  \\\n",
       "0      False          11.0        2             посёлок Шушары   \n",
       "1      False           8.3        0            Санкт-Петербург   \n",
       "2      False          41.0        0            Санкт-Петербург   \n",
       "3      False           9.1        0  городской посёлок Янино-1   \n",
       "4      False          14.4        1          посёлок Парголово   \n",
       "\n",
       "   airports_nearest  cityCenters_nearest  parks_around3000  parks_nearest  \\\n",
       "0           12817.0              18603.0               0.0            NaN   \n",
       "1           21741.0              13933.0               1.0           90.0   \n",
       "2           31856.0               8098.0               2.0          112.0   \n",
       "3               NaN                  NaN               NaN            NaN   \n",
       "4           52996.0              19143.0               0.0            NaN   \n",
       "\n",
       "   ponds_around3000  ponds_nearest  days_exposition  sq_meter_price  \\\n",
       "0               0.0            NaN               81       82.920789   \n",
       "1               2.0          574.0              558       92.785714   \n",
       "2               1.0           48.0              121      100.000000   \n",
       "3               NaN            NaN               55       95.065791   \n",
       "4               0.0            NaN              155       99.195712   \n",
       "\n",
       "   weekday_exposition  month_exposition  year_exposition floor_sort  \\\n",
       "0                   1                12             2018     первый   \n",
       "1                   3                 8             2015     другой   \n",
       "2                   1                 6             2018     другой   \n",
       "3                   0                 9             2018     другой   \n",
       "4                   3                11             2017     другой   \n",
       "\n",
       "   living_area_ratio  kitchen_area_ratio  cityCenters_nearest_km  \n",
       "0           0.460396            0.272277                    19.0  \n",
       "1           0.612500            0.148214                    14.0  \n",
       "2           0.320000            0.410000                     8.0  \n",
       "3           0.473684            0.299342                     NaN  \n",
       "4           0.284182            0.386059                    19.0  "
      ]
     },
     "execution_count": 87,
     "metadata": {},
     "output_type": "execute_result"
    }
   ],
   "source": [
    "# сброс индексов\n",
    "df = df.reset_index(drop=True)\n",
    "df.head()"
   ]
  },
  {
   "cell_type": "code",
   "execution_count": 88,
   "metadata": {},
   "outputs": [
    {
     "data": {
      "text/plain": [
       "(14665, 30)"
      ]
     },
     "execution_count": 88,
     "metadata": {},
     "output_type": "execute_result"
    }
   ],
   "source": [
    "# числовое описание данных\n",
    "df.shape"
   ]
  },
  {
   "cell_type": "code",
   "execution_count": 89,
   "metadata": {
    "scrolled": false
   },
   "outputs": [
    {
     "data": {
      "text/html": [
       "<div>\n",
       "<style scoped>\n",
       "    .dataframe tbody tr th:only-of-type {\n",
       "        vertical-align: middle;\n",
       "    }\n",
       "\n",
       "    .dataframe tbody tr th {\n",
       "        vertical-align: top;\n",
       "    }\n",
       "\n",
       "    .dataframe thead th {\n",
       "        text-align: right;\n",
       "    }\n",
       "</style>\n",
       "<table border=\"1\" class=\"dataframe\">\n",
       "  <thead>\n",
       "    <tr style=\"text-align: right;\">\n",
       "      <th></th>\n",
       "      <th>total_images</th>\n",
       "      <th>last_price</th>\n",
       "      <th>total_area</th>\n",
       "      <th>rooms</th>\n",
       "      <th>ceiling_height</th>\n",
       "      <th>floors_total</th>\n",
       "      <th>living_area</th>\n",
       "      <th>floor</th>\n",
       "      <th>kitchen_area</th>\n",
       "      <th>balcony</th>\n",
       "      <th>airports_nearest</th>\n",
       "      <th>cityCenters_nearest</th>\n",
       "      <th>parks_around3000</th>\n",
       "      <th>parks_nearest</th>\n",
       "      <th>ponds_around3000</th>\n",
       "      <th>ponds_nearest</th>\n",
       "      <th>days_exposition</th>\n",
       "      <th>sq_meter_price</th>\n",
       "      <th>weekday_exposition</th>\n",
       "      <th>month_exposition</th>\n",
       "      <th>year_exposition</th>\n",
       "      <th>living_area_ratio</th>\n",
       "      <th>kitchen_area_ratio</th>\n",
       "      <th>cityCenters_nearest_km</th>\n",
       "    </tr>\n",
       "  </thead>\n",
       "  <tbody>\n",
       "    <tr>\n",
       "      <th>count</th>\n",
       "      <td>14665.000000</td>\n",
       "      <td>14665.000000</td>\n",
       "      <td>14665.000000</td>\n",
       "      <td>14665.000000</td>\n",
       "      <td>14665.000000</td>\n",
       "      <td>14665.000000</td>\n",
       "      <td>14665.000000</td>\n",
       "      <td>14665.000000</td>\n",
       "      <td>14665.000000</td>\n",
       "      <td>14665.000000</td>\n",
       "      <td>11026.000000</td>\n",
       "      <td>11037.000000</td>\n",
       "      <td>11037.000000</td>\n",
       "      <td>4421.000000</td>\n",
       "      <td>11037.000000</td>\n",
       "      <td>5023.000000</td>\n",
       "      <td>14665.000000</td>\n",
       "      <td>14665.000000</td>\n",
       "      <td>14665.000000</td>\n",
       "      <td>14665.000000</td>\n",
       "      <td>14665.000000</td>\n",
       "      <td>14665.000000</td>\n",
       "      <td>14665.000000</td>\n",
       "      <td>11037.000000</td>\n",
       "    </tr>\n",
       "    <tr>\n",
       "      <th>mean</th>\n",
       "      <td>9.699761</td>\n",
       "      <td>4761.717422</td>\n",
       "      <td>52.274693</td>\n",
       "      <td>1.898670</td>\n",
       "      <td>2.655345</td>\n",
       "      <td>11.286669</td>\n",
       "      <td>29.726334</td>\n",
       "      <td>6.140266</td>\n",
       "      <td>9.449663</td>\n",
       "      <td>0.606342</td>\n",
       "      <td>28321.666016</td>\n",
       "      <td>13607.171875</td>\n",
       "      <td>0.518438</td>\n",
       "      <td>492.902069</td>\n",
       "      <td>0.641569</td>\n",
       "      <td>546.017944</td>\n",
       "      <td>141.991204</td>\n",
       "      <td>91.727517</td>\n",
       "      <td>2.576611</td>\n",
       "      <td>6.636140</td>\n",
       "      <td>2017.313058</td>\n",
       "      <td>0.559652</td>\n",
       "      <td>0.190051</td>\n",
       "      <td>13.604875</td>\n",
       "    </tr>\n",
       "    <tr>\n",
       "      <th>std</th>\n",
       "      <td>5.508382</td>\n",
       "      <td>2075.062597</td>\n",
       "      <td>17.643520</td>\n",
       "      <td>0.864978</td>\n",
       "      <td>0.127710</td>\n",
       "      <td>6.690068</td>\n",
       "      <td>12.538918</td>\n",
       "      <td>5.006273</td>\n",
       "      <td>3.640020</td>\n",
       "      <td>0.941859</td>\n",
       "      <td>12582.883789</td>\n",
       "      <td>5416.829590</td>\n",
       "      <td>0.723041</td>\n",
       "      <td>321.103577</td>\n",
       "      <td>0.837680</td>\n",
       "      <td>276.658722</td>\n",
       "      <td>137.850967</td>\n",
       "      <td>25.989781</td>\n",
       "      <td>1.778750</td>\n",
       "      <td>3.464952</td>\n",
       "      <td>0.881933</td>\n",
       "      <td>0.098928</td>\n",
       "      <td>0.067873</td>\n",
       "      <td>5.424445</td>\n",
       "    </tr>\n",
       "    <tr>\n",
       "      <th>min</th>\n",
       "      <td>0.000000</td>\n",
       "      <td>600.000000</td>\n",
       "      <td>13.000000</td>\n",
       "      <td>1.000000</td>\n",
       "      <td>2.400000</td>\n",
       "      <td>1.000000</td>\n",
       "      <td>2.000000</td>\n",
       "      <td>1.000000</td>\n",
       "      <td>0.740994</td>\n",
       "      <td>0.000000</td>\n",
       "      <td>6450.000000</td>\n",
       "      <td>329.000000</td>\n",
       "      <td>0.000000</td>\n",
       "      <td>1.000000</td>\n",
       "      <td>0.000000</td>\n",
       "      <td>16.000000</td>\n",
       "      <td>1.000000</td>\n",
       "      <td>20.000000</td>\n",
       "      <td>0.000000</td>\n",
       "      <td>1.000000</td>\n",
       "      <td>2014.000000</td>\n",
       "      <td>0.038462</td>\n",
       "      <td>0.019014</td>\n",
       "      <td>0.000000</td>\n",
       "    </tr>\n",
       "    <tr>\n",
       "      <th>25%</th>\n",
       "      <td>6.000000</td>\n",
       "      <td>3350.000000</td>\n",
       "      <td>38.700001</td>\n",
       "      <td>1.000000</td>\n",
       "      <td>2.600000</td>\n",
       "      <td>5.000000</td>\n",
       "      <td>18.000000</td>\n",
       "      <td>2.000000</td>\n",
       "      <td>7.000000</td>\n",
       "      <td>0.000000</td>\n",
       "      <td>17197.500000</td>\n",
       "      <td>10837.000000</td>\n",
       "      <td>0.000000</td>\n",
       "      <td>302.000000</td>\n",
       "      <td>0.000000</td>\n",
       "      <td>333.000000</td>\n",
       "      <td>37.000000</td>\n",
       "      <td>76.517147</td>\n",
       "      <td>1.000000</td>\n",
       "      <td>3.000000</td>\n",
       "      <td>2017.000000</td>\n",
       "      <td>0.495495</td>\n",
       "      <td>0.139535</td>\n",
       "      <td>11.000000</td>\n",
       "    </tr>\n",
       "    <tr>\n",
       "      <th>50%</th>\n",
       "      <td>9.000000</td>\n",
       "      <td>4350.000000</td>\n",
       "      <td>48.000000</td>\n",
       "      <td>2.000000</td>\n",
       "      <td>2.650000</td>\n",
       "      <td>9.000000</td>\n",
       "      <td>28.700001</td>\n",
       "      <td>5.000000</td>\n",
       "      <td>9.000000</td>\n",
       "      <td>0.000000</td>\n",
       "      <td>27006.000000</td>\n",
       "      <td>13373.000000</td>\n",
       "      <td>0.000000</td>\n",
       "      <td>462.000000</td>\n",
       "      <td>0.000000</td>\n",
       "      <td>544.000000</td>\n",
       "      <td>95.000000</td>\n",
       "      <td>93.103448</td>\n",
       "      <td>3.000000</td>\n",
       "      <td>7.000000</td>\n",
       "      <td>2017.000000</td>\n",
       "      <td>0.567227</td>\n",
       "      <td>0.177764</td>\n",
       "      <td>13.000000</td>\n",
       "    </tr>\n",
       "    <tr>\n",
       "      <th>75%</th>\n",
       "      <td>14.000000</td>\n",
       "      <td>5800.000000</td>\n",
       "      <td>62.400002</td>\n",
       "      <td>3.000000</td>\n",
       "      <td>2.650000</td>\n",
       "      <td>16.000000</td>\n",
       "      <td>38.000000</td>\n",
       "      <td>8.000000</td>\n",
       "      <td>11.000000</td>\n",
       "      <td>1.000000</td>\n",
       "      <td>37407.000000</td>\n",
       "      <td>16002.000000</td>\n",
       "      <td>1.000000</td>\n",
       "      <td>619.000000</td>\n",
       "      <td>1.000000</td>\n",
       "      <td>756.000000</td>\n",
       "      <td>201.000000</td>\n",
       "      <td>108.150472</td>\n",
       "      <td>4.000000</td>\n",
       "      <td>10.000000</td>\n",
       "      <td>2018.000000</td>\n",
       "      <td>0.626667</td>\n",
       "      <td>0.233161</td>\n",
       "      <td>16.000000</td>\n",
       "    </tr>\n",
       "    <tr>\n",
       "      <th>max</th>\n",
       "      <td>50.000000</td>\n",
       "      <td>12000.000000</td>\n",
       "      <td>120.000000</td>\n",
       "      <td>6.000000</td>\n",
       "      <td>3.200000</td>\n",
       "      <td>36.000000</td>\n",
       "      <td>100.000000</td>\n",
       "      <td>33.000000</td>\n",
       "      <td>50.000000</td>\n",
       "      <td>5.000000</td>\n",
       "      <td>61748.000000</td>\n",
       "      <td>30491.000000</td>\n",
       "      <td>3.000000</td>\n",
       "      <td>3190.000000</td>\n",
       "      <td>3.000000</td>\n",
       "      <td>1344.000000</td>\n",
       "      <td>600.000000</td>\n",
       "      <td>160.000000</td>\n",
       "      <td>6.000000</td>\n",
       "      <td>12.000000</td>\n",
       "      <td>2019.000000</td>\n",
       "      <td>0.953811</td>\n",
       "      <td>0.724638</td>\n",
       "      <td>30.000000</td>\n",
       "    </tr>\n",
       "  </tbody>\n",
       "</table>\n",
       "</div>"
      ],
      "text/plain": [
       "       total_images    last_price    total_area         rooms  ceiling_height  \\\n",
       "count  14665.000000  14665.000000  14665.000000  14665.000000    14665.000000   \n",
       "mean       9.699761   4761.717422     52.274693      1.898670        2.655345   \n",
       "std        5.508382   2075.062597     17.643520      0.864978        0.127710   \n",
       "min        0.000000    600.000000     13.000000      1.000000        2.400000   \n",
       "25%        6.000000   3350.000000     38.700001      1.000000        2.600000   \n",
       "50%        9.000000   4350.000000     48.000000      2.000000        2.650000   \n",
       "75%       14.000000   5800.000000     62.400002      3.000000        2.650000   \n",
       "max       50.000000  12000.000000    120.000000      6.000000        3.200000   \n",
       "\n",
       "       floors_total   living_area         floor  kitchen_area       balcony  \\\n",
       "count  14665.000000  14665.000000  14665.000000  14665.000000  14665.000000   \n",
       "mean      11.286669     29.726334      6.140266      9.449663      0.606342   \n",
       "std        6.690068     12.538918      5.006273      3.640020      0.941859   \n",
       "min        1.000000      2.000000      1.000000      0.740994      0.000000   \n",
       "25%        5.000000     18.000000      2.000000      7.000000      0.000000   \n",
       "50%        9.000000     28.700001      5.000000      9.000000      0.000000   \n",
       "75%       16.000000     38.000000      8.000000     11.000000      1.000000   \n",
       "max       36.000000    100.000000     33.000000     50.000000      5.000000   \n",
       "\n",
       "       airports_nearest  cityCenters_nearest  parks_around3000  parks_nearest  \\\n",
       "count      11026.000000         11037.000000      11037.000000    4421.000000   \n",
       "mean       28321.666016         13607.171875          0.518438     492.902069   \n",
       "std        12582.883789          5416.829590          0.723041     321.103577   \n",
       "min         6450.000000           329.000000          0.000000       1.000000   \n",
       "25%        17197.500000         10837.000000          0.000000     302.000000   \n",
       "50%        27006.000000         13373.000000          0.000000     462.000000   \n",
       "75%        37407.000000         16002.000000          1.000000     619.000000   \n",
       "max        61748.000000         30491.000000          3.000000    3190.000000   \n",
       "\n",
       "       ponds_around3000  ponds_nearest  days_exposition  sq_meter_price  \\\n",
       "count      11037.000000    5023.000000     14665.000000    14665.000000   \n",
       "mean           0.641569     546.017944       141.991204       91.727517   \n",
       "std            0.837680     276.658722       137.850967       25.989781   \n",
       "min            0.000000      16.000000         1.000000       20.000000   \n",
       "25%            0.000000     333.000000        37.000000       76.517147   \n",
       "50%            0.000000     544.000000        95.000000       93.103448   \n",
       "75%            1.000000     756.000000       201.000000      108.150472   \n",
       "max            3.000000    1344.000000       600.000000      160.000000   \n",
       "\n",
       "       weekday_exposition  month_exposition  year_exposition  \\\n",
       "count        14665.000000      14665.000000     14665.000000   \n",
       "mean             2.576611          6.636140      2017.313058   \n",
       "std              1.778750          3.464952         0.881933   \n",
       "min              0.000000          1.000000      2014.000000   \n",
       "25%              1.000000          3.000000      2017.000000   \n",
       "50%              3.000000          7.000000      2017.000000   \n",
       "75%              4.000000         10.000000      2018.000000   \n",
       "max              6.000000         12.000000      2019.000000   \n",
       "\n",
       "       living_area_ratio  kitchen_area_ratio  cityCenters_nearest_km  \n",
       "count       14665.000000        14665.000000            11037.000000  \n",
       "mean            0.559652            0.190051               13.604875  \n",
       "std             0.098928            0.067873                5.424445  \n",
       "min             0.038462            0.019014                0.000000  \n",
       "25%             0.495495            0.139535               11.000000  \n",
       "50%             0.567227            0.177764               13.000000  \n",
       "75%             0.626667            0.233161               16.000000  \n",
       "max             0.953811            0.724638               30.000000  "
      ]
     },
     "execution_count": 89,
     "metadata": {},
     "output_type": "execute_result"
    }
   ],
   "source": [
    "# числовое описание данных\n",
    "df.describe()"
   ]
  },
  {
   "cell_type": "markdown",
   "metadata": {},
   "source": [
    "### Выявление факторов больше всего влияющих на стоимость квартиры"
   ]
  },
  {
   "cell_type": "code",
   "execution_count": 90,
   "metadata": {
    "scrolled": false
   },
   "outputs": [
    {
     "data": {
      "text/html": [
       "<div>\n",
       "<style scoped>\n",
       "    .dataframe tbody tr th:only-of-type {\n",
       "        vertical-align: middle;\n",
       "    }\n",
       "\n",
       "    .dataframe tbody tr th {\n",
       "        vertical-align: top;\n",
       "    }\n",
       "\n",
       "    .dataframe thead th {\n",
       "        text-align: right;\n",
       "    }\n",
       "</style>\n",
       "<table border=\"1\" class=\"dataframe\">\n",
       "  <thead>\n",
       "    <tr style=\"text-align: right;\">\n",
       "      <th></th>\n",
       "      <th>last_price</th>\n",
       "      <th>total_area</th>\n",
       "      <th>rooms</th>\n",
       "      <th>cityCenters_nearest_km</th>\n",
       "    </tr>\n",
       "  </thead>\n",
       "  <tbody>\n",
       "    <tr>\n",
       "      <th>last_price</th>\n",
       "      <td>1.000000</td>\n",
       "      <td>0.736291</td>\n",
       "      <td>0.473703</td>\n",
       "      <td>-0.336292</td>\n",
       "    </tr>\n",
       "    <tr>\n",
       "      <th>total_area</th>\n",
       "      <td>0.736291</td>\n",
       "      <td>1.000000</td>\n",
       "      <td>0.800452</td>\n",
       "      <td>-0.163537</td>\n",
       "    </tr>\n",
       "    <tr>\n",
       "      <th>rooms</th>\n",
       "      <td>0.473703</td>\n",
       "      <td>0.800452</td>\n",
       "      <td>1.000000</td>\n",
       "      <td>-0.140316</td>\n",
       "    </tr>\n",
       "    <tr>\n",
       "      <th>cityCenters_nearest_km</th>\n",
       "      <td>-0.336292</td>\n",
       "      <td>-0.163537</td>\n",
       "      <td>-0.140316</td>\n",
       "      <td>1.000000</td>\n",
       "    </tr>\n",
       "  </tbody>\n",
       "</table>\n",
       "</div>"
      ],
      "text/plain": [
       "                        last_price  total_area     rooms  \\\n",
       "last_price                1.000000    0.736291  0.473703   \n",
       "total_area                0.736291    1.000000  0.800452   \n",
       "rooms                     0.473703    0.800452  1.000000   \n",
       "cityCenters_nearest_km   -0.336292   -0.163537 -0.140316   \n",
       "\n",
       "                        cityCenters_nearest_km  \n",
       "last_price                           -0.336292  \n",
       "total_area                           -0.163537  \n",
       "rooms                                -0.140316  \n",
       "cityCenters_nearest_km                1.000000  "
      ]
     },
     "execution_count": 90,
     "metadata": {},
     "output_type": "execute_result"
    }
   ],
   "source": [
    "# корреляционная матрица\n",
    "df[['last_price', 'total_area', 'rooms', 'cityCenters_nearest_km']].corr()"
   ]
  },
  {
   "cell_type": "markdown",
   "metadata": {},
   "source": [
    "💡 *Наибольшая корреляция с ценой наблюдается у общей площади объектов — 0.73, что характеризует прямую сильную взаимосвязь. Прямая умеренная взаимосвязь наблюдается между ценой и количеством комнат и обратная слабая взаимосвязь между ценой и удалённостью от центра.   \n",
    "Сгруппируем данные и исследуем ниже эти параметры более подробно.*"
   ]
  },
  {
   "cell_type": "markdown",
   "metadata": {},
   "source": [
    "**Проверка влияния площади объекта на цену**"
   ]
  },
  {
   "cell_type": "code",
   "execution_count": 91,
   "metadata": {},
   "outputs": [],
   "source": [
    "# определение функции\n",
    "def scatter_plot(dataframe,column):\n",
    "    \n",
    "    # группировка\n",
    "    df_filtered = dataframe.groupby(column).median()['last_price'].reset_index().sort_values(by=column)\n",
    "    \n",
    "    # корреляция Пирсона\n",
    "    display(df_filtered.corr())\n",
    "\n",
    "    # график зависимости\n",
    "    df_filtered.plot(kind='scatter',\n",
    "                     y='last_price',\n",
    "                     x=column,\n",
    "                     title=f'Зависимость цены от {column}', \n",
    "                     figsize=(10,3),\n",
    "                     fontsize=12,\n",
    "                     legend=True)"
   ]
  },
  {
   "cell_type": "code",
   "execution_count": 92,
   "metadata": {},
   "outputs": [
    {
     "data": {
      "text/html": [
       "<div>\n",
       "<style scoped>\n",
       "    .dataframe tbody tr th:only-of-type {\n",
       "        vertical-align: middle;\n",
       "    }\n",
       "\n",
       "    .dataframe tbody tr th {\n",
       "        vertical-align: top;\n",
       "    }\n",
       "\n",
       "    .dataframe thead th {\n",
       "        text-align: right;\n",
       "    }\n",
       "</style>\n",
       "<table border=\"1\" class=\"dataframe\">\n",
       "  <thead>\n",
       "    <tr style=\"text-align: right;\">\n",
       "      <th></th>\n",
       "      <th>total_area</th>\n",
       "      <th>last_price</th>\n",
       "    </tr>\n",
       "  </thead>\n",
       "  <tbody>\n",
       "    <tr>\n",
       "      <th>total_area</th>\n",
       "      <td>1.000000</td>\n",
       "      <td>0.889333</td>\n",
       "    </tr>\n",
       "    <tr>\n",
       "      <th>last_price</th>\n",
       "      <td>0.889333</td>\n",
       "      <td>1.000000</td>\n",
       "    </tr>\n",
       "  </tbody>\n",
       "</table>\n",
       "</div>"
      ],
      "text/plain": [
       "            total_area  last_price\n",
       "total_area    1.000000    0.889333\n",
       "last_price    0.889333    1.000000"
      ]
     },
     "metadata": {},
     "output_type": "display_data"
    },
    {
     "data": {
      "image/png": "[encoded data removed]",
      "text/plain": [
       "<Figure size 720x216 with 1 Axes>"
      ]
     },
     "metadata": {
      "needs_background": "light"
     },
     "output_type": "display_data"
    }
   ],
   "source": [
    "# корреляция и график зависимостей\n",
    "scatter_plot(df, 'total_area')"
   ]
  },
  {
   "cell_type": "markdown",
   "metadata": {},
   "source": [
    "💡 *Наблюдает сильная взаимосвязь между площадью объектов и ценой. Коэффициент корреляции составляет 0.88.*    "
   ]
  },
  {
   "cell_type": "markdown",
   "metadata": {},
   "source": [
    "**Проверка влияния количества комнат на цену**"
   ]
  },
  {
   "cell_type": "code",
   "execution_count": 93,
   "metadata": {},
   "outputs": [],
   "source": [
    "# определение функции\n",
    "def bar_plot(dataframe,column):\n",
    "    \n",
    "    # группировка\n",
    "    df_filtered = dataframe.groupby(column).median()['last_price'].reset_index().sort_values(by=column)\n",
    "    \n",
    "    # корреляция Пирсона\n",
    "    if column != 'floor_sort':\n",
    "        display(df_filtered.corr())    \n",
    "        \n",
    "    # график зависимости\n",
    "    df_filtered.plot(kind='bar',\n",
    "                     y='last_price',\n",
    "                     x=column,\n",
    "                     title=f'Зависимость цены от {column}', \n",
    "                     figsize=(10,3),\n",
    "                     fontsize=10,\n",
    "                     legend=False)\n",
    "\n",
    "    # настройка осей графика\n",
    "    ax = plt.xticks(rotation=0)"
   ]
  },
  {
   "cell_type": "code",
   "execution_count": 94,
   "metadata": {
    "scrolled": true
   },
   "outputs": [
    {
     "data": {
      "text/html": [
       "<div>\n",
       "<style scoped>\n",
       "    .dataframe tbody tr th:only-of-type {\n",
       "        vertical-align: middle;\n",
       "    }\n",
       "\n",
       "    .dataframe tbody tr th {\n",
       "        vertical-align: top;\n",
       "    }\n",
       "\n",
       "    .dataframe thead th {\n",
       "        text-align: right;\n",
       "    }\n",
       "</style>\n",
       "<table border=\"1\" class=\"dataframe\">\n",
       "  <thead>\n",
       "    <tr style=\"text-align: right;\">\n",
       "      <th></th>\n",
       "      <th>rooms</th>\n",
       "      <th>last_price</th>\n",
       "    </tr>\n",
       "  </thead>\n",
       "  <tbody>\n",
       "    <tr>\n",
       "      <th>rooms</th>\n",
       "      <td>1.000000</td>\n",
       "      <td>0.989849</td>\n",
       "    </tr>\n",
       "    <tr>\n",
       "      <th>last_price</th>\n",
       "      <td>0.989849</td>\n",
       "      <td>1.000000</td>\n",
       "    </tr>\n",
       "  </tbody>\n",
       "</table>\n",
       "</div>"
      ],
      "text/plain": [
       "               rooms  last_price\n",
       "rooms       1.000000    0.989849\n",
       "last_price  0.989849    1.000000"
      ]
     },
     "metadata": {},
     "output_type": "display_data"
    },
    {
     "data": {
      "image/png": "[encoded data removed]",
      "text/plain": [
       "<Figure size 720x216 with 1 Axes>"
      ]
     },
     "metadata": {
      "needs_background": "light"
     },
     "output_type": "display_data"
    }
   ],
   "source": [
    "# корреляция и график зависимостей\n",
    "bar_plot(df,'rooms')"
   ]
  },
  {
   "cell_type": "markdown",
   "metadata": {},
   "source": [
    "💡 *Наблюдает прямая сильная взаимосвязь между количеством комнат и ценой, что выглядит логичным. Коэффициент корреляции составляет 0.99.*    "
   ]
  },
  {
   "cell_type": "markdown",
   "metadata": {},
   "source": [
    "**Проверка влияния высоты потолков на цену**"
   ]
  },
  {
   "cell_type": "code",
   "execution_count": 95,
   "metadata": {},
   "outputs": [
    {
     "data": {
      "text/html": [
       "<div>\n",
       "<style scoped>\n",
       "    .dataframe tbody tr th:only-of-type {\n",
       "        vertical-align: middle;\n",
       "    }\n",
       "\n",
       "    .dataframe tbody tr th {\n",
       "        vertical-align: top;\n",
       "    }\n",
       "\n",
       "    .dataframe thead th {\n",
       "        text-align: right;\n",
       "    }\n",
       "</style>\n",
       "<table border=\"1\" class=\"dataframe\">\n",
       "  <thead>\n",
       "    <tr style=\"text-align: right;\">\n",
       "      <th></th>\n",
       "      <th>ceiling_height</th>\n",
       "      <th>last_price</th>\n",
       "    </tr>\n",
       "  </thead>\n",
       "  <tbody>\n",
       "    <tr>\n",
       "      <th>ceiling_height</th>\n",
       "      <td>1.000000</td>\n",
       "      <td>0.620796</td>\n",
       "    </tr>\n",
       "    <tr>\n",
       "      <th>last_price</th>\n",
       "      <td>0.620796</td>\n",
       "      <td>1.000000</td>\n",
       "    </tr>\n",
       "  </tbody>\n",
       "</table>\n",
       "</div>"
      ],
      "text/plain": [
       "                ceiling_height  last_price\n",
       "ceiling_height        1.000000    0.620796\n",
       "last_price            0.620796    1.000000"
      ]
     },
     "metadata": {},
     "output_type": "display_data"
    },
    {
     "data": {
      "image/png": "[encoded data removed]",
      "text/plain": [
       "<Figure size 720x216 with 1 Axes>"
      ]
     },
     "metadata": {
      "needs_background": "light"
     },
     "output_type": "display_data"
    }
   ],
   "source": [
    "# корреляция и график зависимостей\n",
    "scatter_plot(df, 'ceiling_height')"
   ]
  },
  {
   "cell_type": "markdown",
   "metadata": {},
   "source": [
    "💡 *Зависимость между высотой потолков и ценой умеренная. Коэффициент корреляции составляет 0.62.*    "
   ]
  },
  {
   "cell_type": "markdown",
   "metadata": {},
   "source": [
    "**Проверка влияния этажа на цену**"
   ]
  },
  {
   "cell_type": "code",
   "execution_count": 96,
   "metadata": {
    "scrolled": false
   },
   "outputs": [
    {
     "data": {
      "image/png": "[encoded data removed]",
      "text/plain": [
       "<Figure size 720x216 with 1 Axes>"
      ]
     },
     "metadata": {
      "needs_background": "light"
     },
     "output_type": "display_data"
    }
   ],
   "source": [
    "# корреляция и график зависимостей\n",
    "bar_plot(df,'floor_sort')"
   ]
  },
  {
   "cell_type": "code",
   "execution_count": 97,
   "metadata": {
    "scrolled": false
   },
   "outputs": [
    {
     "data": {
      "text/html": [
       "<div>\n",
       "<style scoped>\n",
       "    .dataframe tbody tr th:only-of-type {\n",
       "        vertical-align: middle;\n",
       "    }\n",
       "\n",
       "    .dataframe tbody tr th {\n",
       "        vertical-align: top;\n",
       "    }\n",
       "\n",
       "    .dataframe thead th {\n",
       "        text-align: right;\n",
       "    }\n",
       "</style>\n",
       "<table border=\"1\" class=\"dataframe\">\n",
       "  <thead>\n",
       "    <tr style=\"text-align: right;\">\n",
       "      <th></th>\n",
       "      <th>floor_sort</th>\n",
       "      <th>last_price</th>\n",
       "    </tr>\n",
       "  </thead>\n",
       "  <tbody>\n",
       "    <tr>\n",
       "      <th>0</th>\n",
       "      <td>другой</td>\n",
       "      <td>4500</td>\n",
       "    </tr>\n",
       "    <tr>\n",
       "      <th>1</th>\n",
       "      <td>первый</td>\n",
       "      <td>3800</td>\n",
       "    </tr>\n",
       "    <tr>\n",
       "      <th>2</th>\n",
       "      <td>последний</td>\n",
       "      <td>4000</td>\n",
       "    </tr>\n",
       "  </tbody>\n",
       "</table>\n",
       "</div>"
      ],
      "text/plain": [
       "  floor_sort  last_price\n",
       "0     другой        4500\n",
       "1     первый        3800\n",
       "2  последний        4000"
      ]
     },
     "execution_count": 97,
     "metadata": {},
     "output_type": "execute_result"
    }
   ],
   "source": [
    "# таблица зависимости цены от категории этажа\n",
    "df_filtered = df.groupby('floor_sort').median()['last_price'].reset_index().sort_values(by='floor_sort')\n",
    "df_filtered"
   ]
  },
  {
   "cell_type": "code",
   "execution_count": 98,
   "metadata": {},
   "outputs": [
    {
     "name": "stdout",
     "output_type": "stream",
     "text": [
      "Медианная стоимость \"другого этажа\" выше стоимости последнего этажа на: 12.5%\n",
      "Медианная стоимость \"другого этажа\" выше стоимости первого этажа на: 18.4%\n"
     ]
    }
   ],
   "source": [
    "# переменные для расчета разницы в стоимости этажей\n",
    "last_price_another_floor = df_filtered.loc[df_filtered['floor_sort']==\"другой\",'last_price'].squeeze()\n",
    "last_price_last_floor = df_filtered.loc[df_filtered['floor_sort']==\"последний\",'last_price'].squeeze()\n",
    "last_price_first_floor = df_filtered.loc[df_filtered['floor_sort']==\"первый\",'last_price'].squeeze()\n",
    "\n",
    "# вывод разницы в стоимости в зависимости от этажа\n",
    "print('Медианная стоимость \"другого этажа\" выше стоимости последнего этажа на:',\n",
    "      '{:.1%}'.format(last_price_another_floor/last_price_last_floor-1))\n",
    "print('Медианная стоимость \"другого этажа\" выше стоимости первого этажа на:',\n",
    "      '{:.1%}'.format(last_price_another_floor/last_price_first_floor-1))"
   ]
  },
  {
   "cell_type": "markdown",
   "metadata": {},
   "source": [
    "💡 *Согласно графику первый этаж не пользуется популярностью. На последний этаж цены объектов выше. \"Другие\" этажи считаются самыми ценными, медианная стоимость выше на 18.4% квартир на первом этаже и на 12.5% квартир на последнем этаже.*    "
   ]
  },
  {
   "cell_type": "markdown",
   "metadata": {},
   "source": [
    "**Проверка влияния удалённости от центра на цену**"
   ]
  },
  {
   "cell_type": "code",
   "execution_count": 99,
   "metadata": {
    "scrolled": true
   },
   "outputs": [
    {
     "data": {
      "text/html": [
       "<div>\n",
       "<style scoped>\n",
       "    .dataframe tbody tr th:only-of-type {\n",
       "        vertical-align: middle;\n",
       "    }\n",
       "\n",
       "    .dataframe tbody tr th {\n",
       "        vertical-align: top;\n",
       "    }\n",
       "\n",
       "    .dataframe thead th {\n",
       "        text-align: right;\n",
       "    }\n",
       "</style>\n",
       "<table border=\"1\" class=\"dataframe\">\n",
       "  <thead>\n",
       "    <tr style=\"text-align: right;\">\n",
       "      <th></th>\n",
       "      <th>cityCenters_nearest_km</th>\n",
       "      <th>last_price</th>\n",
       "    </tr>\n",
       "  </thead>\n",
       "  <tbody>\n",
       "    <tr>\n",
       "      <th>cityCenters_nearest_km</th>\n",
       "      <td>1.000000</td>\n",
       "      <td>-0.905471</td>\n",
       "    </tr>\n",
       "    <tr>\n",
       "      <th>last_price</th>\n",
       "      <td>-0.905471</td>\n",
       "      <td>1.000000</td>\n",
       "    </tr>\n",
       "  </tbody>\n",
       "</table>\n",
       "</div>"
      ],
      "text/plain": [
       "                        cityCenters_nearest_km  last_price\n",
       "cityCenters_nearest_km                1.000000   -0.905471\n",
       "last_price                           -0.905471    1.000000"
      ]
     },
     "metadata": {},
     "output_type": "display_data"
    },
    {
     "data": {
      "image/png": "[encoded data removed]",
      "text/plain": [
       "<Figure size 720x216 with 1 Axes>"
      ]
     },
     "metadata": {
      "needs_background": "light"
     },
     "output_type": "display_data"
    }
   ],
   "source": [
    "# корреляция и график зависимостей\n",
    "scatter_plot(df, 'cityCenters_nearest_km')"
   ]
  },
  {
   "cell_type": "markdown",
   "metadata": {},
   "source": [
    "💡 *Зависимость между удалённостью от центра и ценой отрицательная (чем дальше от центра, тем ниже цена), сильная. Коэффициент корреляции Пирсона составляет -0.9.*     "
   ]
  },
  {
   "cell_type": "markdown",
   "metadata": {},
   "source": [
    "**Проверка влияния даты (дня недели, месяца, года) размещения на цену**"
   ]
  },
  {
   "cell_type": "code",
   "execution_count": 100,
   "metadata": {},
   "outputs": [],
   "source": [
    "# определение функции для проверки влияния даты размещения на цену объекта\n",
    "def exposition_plot(dataframe,column):\n",
    "    \n",
    "    # группировка\n",
    "    df_filtered = dataframe.groupby(column).median()['last_price'].reset_index().sort_values(by=column)\n",
    "\n",
    "    # график зависимости\n",
    "    df_filtered.plot(kind='bar',\n",
    "                     y='last_price',\n",
    "                     x=column,\n",
    "                     title=f'Зависимость цены от {column}', \n",
    "                     figsize=(10,3),\n",
    "                     fontsize=12,\n",
    "                     legend=False)\n",
    "\n",
    "    # настройка осей графика\n",
    "    if column=='weekday_exposition':    \n",
    "        ax_weekday_plot = plt.xticks(range(7), ['пн', 'вт', 'ср', 'чт', 'пт', 'сб', 'вс'], rotation=0) #присваеваем переменной чтобы убрать техническую информацию графика             \n",
    "    elif column=='month_exposition':\n",
    "        ax_month_plot = plt.xticks(range(12), ['янв', 'фев', 'март', 'апр', 'май', 'июн', 'июл', 'авг', 'сен', 'окт', 'ноя', 'дек'], rotation=0)        \n",
    "    elif column=='year_exposition':    \n",
    "        ax_year_plot = plt.xticks(rotation=0)        "
   ]
  },
  {
   "cell_type": "code",
   "execution_count": 101,
   "metadata": {},
   "outputs": [
    {
     "data": {
      "text/plain": [
       "(3000.0, 6000.0)"
      ]
     },
     "execution_count": 101,
     "metadata": {},
     "output_type": "execute_result"
    },
    {
     "data": {
      "image/png": "[encoded data removed]",
      "text/plain": [
       "<Figure size 720x216 with 1 Axes>"
      ]
     },
     "metadata": {
      "needs_background": "light"
     },
     "output_type": "display_data"
    },
    {
     "data": {
      "image/png": "[encoded data removed]",
      "text/plain": [
       "<Figure size 720x216 with 1 Axes>"
      ]
     },
     "metadata": {
      "needs_background": "light"
     },
     "output_type": "display_data"
    },
    {
     "data": {
      "image/png": "[encoded data removed]",
      "text/plain": [
       "<Figure size 720x216 with 1 Axes>"
      ]
     },
     "metadata": {
      "needs_background": "light"
     },
     "output_type": "display_data"
    }
   ],
   "source": [
    "# корреляция и график зависимостей\n",
    "exposition_plot(df, 'weekday_exposition')\n",
    "plt.ylim(4100,4600)\n",
    "\n",
    "exposition_plot(df, 'month_exposition')\n",
    "plt.ylim(4000,4700)\n",
    "\n",
    "exposition_plot(df, 'year_exposition')\n",
    "plt.ylim(3000,6000)"
   ]
  },
  {
   "cell_type": "markdown",
   "metadata": {},
   "source": [
    "💡\n",
    "* *Зависимость цены от дня публикации объявления слабая. Предварительно можно сделать вывод, что в пятницу и воскресенье публикуются объявления с объектами цены на которые в среднем ниже чем по объявлениям в будние дни;*\n",
    "* *Линейной связи между ценой и месяцом публикации не наблюдается. Однако на графике прослеживается некоторая сезонность — на два летних месяца приходится самое сильное снижение медианной цены по сравнению с остальными месяцами года;*\n",
    "* *На графике цены от года публикации виден пик цен в 2014 году и последующее снижение вплоть до 2016 г., после чего цены на рынке недвижимости начали восстанавливаться.*"
   ]
  },
  {
   "cell_type": "code",
   "execution_count": 104,
   "metadata": {},
   "outputs": [
    {
     "data": {
      "text/plain": [
       "<seaborn.axisgrid.PairGrid at 0x7f4c19e1aa00>"
      ]
     },
     "execution_count": 104,
     "metadata": {},
     "output_type": "execute_result"
    },
    {
     "data": {
      "image/png": "[encoded data removed]",
      "text/plain": [
       "<Figure size 720x720 with 20 Axes>"
      ]
     },
     "metadata": {
      "needs_background": "light"
     },
     "output_type": "display_data"
    }
   ],
   "source": [
    "import seaborn as sns\n",
    "\n",
    "sns.pairplot(df[['last_price', 'total_area', 'rooms', 'cityCenters_nearest_km']])"
   ]
  },
  {
   "cell_type": "markdown",
   "metadata": {},
   "source": [
    "### Анализ цен по 10 населённым пунктам"
   ]
  },
  {
   "cell_type": "code",
   "execution_count": 2964,
   "metadata": {
    "scrolled": true
   },
   "outputs": [
    {
     "data": {
      "text/html": [
       "<div>\n",
       "<style scoped>\n",
       "    .dataframe tbody tr th:only-of-type {\n",
       "        vertical-align: middle;\n",
       "    }\n",
       "\n",
       "    .dataframe tbody tr th {\n",
       "        vertical-align: top;\n",
       "    }\n",
       "\n",
       "    .dataframe thead th {\n",
       "        text-align: right;\n",
       "    }\n",
       "</style>\n",
       "<table border=\"1\" class=\"dataframe\">\n",
       "  <thead>\n",
       "    <tr style=\"text-align: right;\">\n",
       "      <th></th>\n",
       "      <th>Город</th>\n",
       "      <th>Стоимость жилья, тыс.руб.</th>\n",
       "      <th>Средняя цена за кв.м., тыс. руб.</th>\n",
       "      <th>Количество объявлений, шт.</th>\n",
       "    </tr>\n",
       "  </thead>\n",
       "  <tbody>\n",
       "    <tr>\n",
       "      <th>0</th>\n",
       "      <td>Санкт-Петербург</td>\n",
       "      <td>5425.0</td>\n",
       "      <td>103.0</td>\n",
       "      <td>10091</td>\n",
       "    </tr>\n",
       "    <tr>\n",
       "      <th>1</th>\n",
       "      <td>посёлок Мурино</td>\n",
       "      <td>3709.0</td>\n",
       "      <td>85.0</td>\n",
       "      <td>434</td>\n",
       "    </tr>\n",
       "    <tr>\n",
       "      <th>2</th>\n",
       "      <td>посёлок Шушары</td>\n",
       "      <td>3978.0</td>\n",
       "      <td>78.0</td>\n",
       "      <td>294</td>\n",
       "    </tr>\n",
       "    <tr>\n",
       "      <th>3</th>\n",
       "      <td>Всеволожск</td>\n",
       "      <td>3621.0</td>\n",
       "      <td>66.0</td>\n",
       "      <td>278</td>\n",
       "    </tr>\n",
       "    <tr>\n",
       "      <th>4</th>\n",
       "      <td>посёлок Парголово</td>\n",
       "      <td>4418.0</td>\n",
       "      <td>90.0</td>\n",
       "      <td>253</td>\n",
       "    </tr>\n",
       "    <tr>\n",
       "      <th>5</th>\n",
       "      <td>деревня Кудрово</td>\n",
       "      <td>4314.0</td>\n",
       "      <td>92.0</td>\n",
       "      <td>230</td>\n",
       "    </tr>\n",
       "    <tr>\n",
       "      <th>6</th>\n",
       "      <td>Гатчина</td>\n",
       "      <td>3303.0</td>\n",
       "      <td>68.0</td>\n",
       "      <td>217</td>\n",
       "    </tr>\n",
       "    <tr>\n",
       "      <th>7</th>\n",
       "      <td>Пушкин</td>\n",
       "      <td>5014.0</td>\n",
       "      <td>101.0</td>\n",
       "      <td>174</td>\n",
       "    </tr>\n",
       "    <tr>\n",
       "      <th>8</th>\n",
       "      <td>Выборг</td>\n",
       "      <td>2980.0</td>\n",
       "      <td>57.0</td>\n",
       "      <td>160</td>\n",
       "    </tr>\n",
       "    <tr>\n",
       "      <th>9</th>\n",
       "      <td>Кудрово</td>\n",
       "      <td>4408.0</td>\n",
       "      <td>98.0</td>\n",
       "      <td>122</td>\n",
       "    </tr>\n",
       "  </tbody>\n",
       "</table>\n",
       "</div>"
      ],
      "text/plain": [
       "               Город  Стоимость жилья, тыс.руб.  \\\n",
       "0    Санкт-Петербург                     5425.0   \n",
       "1     посёлок Мурино                     3709.0   \n",
       "2     посёлок Шушары                     3978.0   \n",
       "3         Всеволожск                     3621.0   \n",
       "4  посёлок Парголово                     4418.0   \n",
       "5    деревня Кудрово                     4314.0   \n",
       "6            Гатчина                     3303.0   \n",
       "7             Пушкин                     5014.0   \n",
       "8             Выборг                     2980.0   \n",
       "9            Кудрово                     4408.0   \n",
       "\n",
       "   Средняя цена за кв.м., тыс. руб.  Количество объявлений, шт.  \n",
       "0                             103.0                       10091  \n",
       "1                              85.0                         434  \n",
       "2                              78.0                         294  \n",
       "3                              66.0                         278  \n",
       "4                              90.0                         253  \n",
       "5                              92.0                         230  \n",
       "6                              68.0                         217  \n",
       "7                             101.0                         174  \n",
       "8                              57.0                         160  \n",
       "9                              98.0                         122  "
      ]
     },
     "execution_count": 2964,
     "metadata": {},
     "output_type": "execute_result"
    }
   ],
   "source": [
    "# топ-10 населённых пунктов с наибольшим числом объявлений \n",
    "top_ten_locations = df.pivot_table(index='locality_name',\n",
    "                                   values=['total_area','last_price','sq_meter_price'],\n",
    "                                   aggfunc={'total_area':'count', 'last_price':'mean', 'sq_meter_price':'mean'}\n",
    "                                  ).sort_values(by='total_area',ascending=False).round().reset_index().head(10)\n",
    "top_ten_locations.columns = ['Город','Стоимость жилья, тыс.руб.','Средняя цена за кв.м., тыс. руб.','Количество объявлений, шт.']\n",
    "top_ten_locations"
   ]
  },
  {
   "cell_type": "code",
   "execution_count": 2965,
   "metadata": {},
   "outputs": [
    {
     "data": {
      "text/html": [
       "<div>\n",
       "<style scoped>\n",
       "    .dataframe tbody tr th:only-of-type {\n",
       "        vertical-align: middle;\n",
       "    }\n",
       "\n",
       "    .dataframe tbody tr th {\n",
       "        vertical-align: top;\n",
       "    }\n",
       "\n",
       "    .dataframe thead th {\n",
       "        text-align: right;\n",
       "    }\n",
       "</style>\n",
       "<table border=\"1\" class=\"dataframe\">\n",
       "  <thead>\n",
       "    <tr style=\"text-align: right;\">\n",
       "      <th></th>\n",
       "      <th>Город</th>\n",
       "      <th>Стоимость жилья, тыс.руб.</th>\n",
       "      <th>Средняя цена за кв.м., тыс. руб.</th>\n",
       "      <th>Количество объявлений, шт.</th>\n",
       "    </tr>\n",
       "  </thead>\n",
       "  <tbody>\n",
       "    <tr>\n",
       "      <th>0</th>\n",
       "      <td>Санкт-Петербург</td>\n",
       "      <td>5425.0</td>\n",
       "      <td>103.0</td>\n",
       "      <td>10091</td>\n",
       "    </tr>\n",
       "  </tbody>\n",
       "</table>\n",
       "</div>"
      ],
      "text/plain": [
       "             Город  Стоимость жилья, тыс.руб.  \\\n",
       "0  Санкт-Петербург                     5425.0   \n",
       "\n",
       "   Средняя цена за кв.м., тыс. руб.  Количество объявлений, шт.  \n",
       "0                             103.0                       10091  "
      ]
     },
     "execution_count": 2965,
     "metadata": {},
     "output_type": "execute_result"
    }
   ],
   "source": [
    "# населённый пункт с самой высокой стоимостью жилья\n",
    "top_ten_locations.sort_values(by=['Стоимость жилья, тыс.руб.'], ascending=False).head(1)"
   ]
  },
  {
   "cell_type": "code",
   "execution_count": 2966,
   "metadata": {},
   "outputs": [
    {
     "data": {
      "text/html": [
       "<div>\n",
       "<style scoped>\n",
       "    .dataframe tbody tr th:only-of-type {\n",
       "        vertical-align: middle;\n",
       "    }\n",
       "\n",
       "    .dataframe tbody tr th {\n",
       "        vertical-align: top;\n",
       "    }\n",
       "\n",
       "    .dataframe thead th {\n",
       "        text-align: right;\n",
       "    }\n",
       "</style>\n",
       "<table border=\"1\" class=\"dataframe\">\n",
       "  <thead>\n",
       "    <tr style=\"text-align: right;\">\n",
       "      <th></th>\n",
       "      <th>Город</th>\n",
       "      <th>Стоимость жилья, тыс.руб.</th>\n",
       "      <th>Средняя цена за кв.м., тыс. руб.</th>\n",
       "      <th>Количество объявлений, шт.</th>\n",
       "    </tr>\n",
       "  </thead>\n",
       "  <tbody>\n",
       "    <tr>\n",
       "      <th>8</th>\n",
       "      <td>Выборг</td>\n",
       "      <td>2980.0</td>\n",
       "      <td>57.0</td>\n",
       "      <td>160</td>\n",
       "    </tr>\n",
       "  </tbody>\n",
       "</table>\n",
       "</div>"
      ],
      "text/plain": [
       "    Город  Стоимость жилья, тыс.руб.  Средняя цена за кв.м., тыс. руб.  \\\n",
       "8  Выборг                     2980.0                              57.0   \n",
       "\n",
       "   Количество объявлений, шт.  \n",
       "8                         160  "
      ]
     },
     "execution_count": 2966,
     "metadata": {},
     "output_type": "execute_result"
    }
   ],
   "source": [
    "# населённый пункт с самой низкой стоимостью жилья\n",
    "top_ten_locations.sort_values(by=['Стоимость жилья, тыс.руб.']).head(1)"
   ]
  },
  {
   "cell_type": "markdown",
   "metadata": {},
   "source": [
    "💡 *Самое дорогостоящее жильё находится в Санкт-Петербурге — средняя цена за кв.м. составляет 103 тыс. руб. Там же публикуется больше всего объявлений.    \n",
    "Выборг — город с самой низкой стоимостью жилья из первой десятки. Средняя цена за кв.м. составляет 57 тыс. руб, что меньше средней цены в Санкт-Петербурге почти в 2 раза.*"
   ]
  },
  {
   "cell_type": "markdown",
   "metadata": {},
   "source": [
    "### Изучение предложения квартир"
   ]
  },
  {
   "cell_type": "markdown",
   "metadata": {},
   "source": [
    "Установим какие объекты формируют центральную зону Санкт-Петербурга. "
   ]
  },
  {
   "cell_type": "code",
   "execution_count": 2967,
   "metadata": {},
   "outputs": [
    {
     "data": {
      "text/html": [
       "<div>\n",
       "<style scoped>\n",
       "    .dataframe tbody tr th:only-of-type {\n",
       "        vertical-align: middle;\n",
       "    }\n",
       "\n",
       "    .dataframe tbody tr th {\n",
       "        vertical-align: top;\n",
       "    }\n",
       "\n",
       "    .dataframe thead th {\n",
       "        text-align: right;\n",
       "    }\n",
       "</style>\n",
       "<table border=\"1\" class=\"dataframe\">\n",
       "  <thead>\n",
       "    <tr style=\"text-align: right;\">\n",
       "      <th></th>\n",
       "      <th>total_images</th>\n",
       "      <th>last_price</th>\n",
       "      <th>total_area</th>\n",
       "      <th>first_day_exposition</th>\n",
       "      <th>rooms</th>\n",
       "      <th>ceiling_height</th>\n",
       "      <th>floors_total</th>\n",
       "      <th>living_area</th>\n",
       "      <th>floor</th>\n",
       "      <th>is_apartment</th>\n",
       "      <th>studio</th>\n",
       "      <th>open_plan</th>\n",
       "      <th>kitchen_area</th>\n",
       "      <th>balcony</th>\n",
       "      <th>locality_name</th>\n",
       "      <th>airports_nearest</th>\n",
       "      <th>cityCenters_nearest</th>\n",
       "      <th>parks_around3000</th>\n",
       "      <th>parks_nearest</th>\n",
       "      <th>ponds_around3000</th>\n",
       "      <th>ponds_nearest</th>\n",
       "      <th>days_exposition</th>\n",
       "      <th>sq_meter_price</th>\n",
       "      <th>weekday_exposition</th>\n",
       "      <th>month_exposition</th>\n",
       "      <th>year_exposition</th>\n",
       "      <th>floor_sort</th>\n",
       "      <th>living_area_ratio</th>\n",
       "      <th>kitchen_area_ratio</th>\n",
       "      <th>cityCenters_nearest_km</th>\n",
       "    </tr>\n",
       "  </thead>\n",
       "  <tbody>\n",
       "    <tr>\n",
       "      <th>1</th>\n",
       "      <td>10</td>\n",
       "      <td>5196</td>\n",
       "      <td>56.000000</td>\n",
       "      <td>2015-08-20</td>\n",
       "      <td>2</td>\n",
       "      <td>2.65</td>\n",
       "      <td>5</td>\n",
       "      <td>34.299999</td>\n",
       "      <td>4</td>\n",
       "      <td>NaN</td>\n",
       "      <td>False</td>\n",
       "      <td>False</td>\n",
       "      <td>8.3</td>\n",
       "      <td>0</td>\n",
       "      <td>Санкт-Петербург</td>\n",
       "      <td>21741.0</td>\n",
       "      <td>13933.0</td>\n",
       "      <td>1.0</td>\n",
       "      <td>90.0</td>\n",
       "      <td>2.0</td>\n",
       "      <td>574.0</td>\n",
       "      <td>558</td>\n",
       "      <td>92.785714</td>\n",
       "      <td>3</td>\n",
       "      <td>8</td>\n",
       "      <td>2015</td>\n",
       "      <td>другой</td>\n",
       "      <td>0.612500</td>\n",
       "      <td>0.148214</td>\n",
       "      <td>14</td>\n",
       "    </tr>\n",
       "    <tr>\n",
       "      <th>2</th>\n",
       "      <td>2</td>\n",
       "      <td>10000</td>\n",
       "      <td>100.000000</td>\n",
       "      <td>2018-06-19</td>\n",
       "      <td>2</td>\n",
       "      <td>3.03</td>\n",
       "      <td>14</td>\n",
       "      <td>32.000000</td>\n",
       "      <td>13</td>\n",
       "      <td>NaN</td>\n",
       "      <td>False</td>\n",
       "      <td>False</td>\n",
       "      <td>41.0</td>\n",
       "      <td>0</td>\n",
       "      <td>Санкт-Петербург</td>\n",
       "      <td>31856.0</td>\n",
       "      <td>8098.0</td>\n",
       "      <td>2.0</td>\n",
       "      <td>112.0</td>\n",
       "      <td>1.0</td>\n",
       "      <td>48.0</td>\n",
       "      <td>121</td>\n",
       "      <td>100.000000</td>\n",
       "      <td>1</td>\n",
       "      <td>6</td>\n",
       "      <td>2018</td>\n",
       "      <td>другой</td>\n",
       "      <td>0.320000</td>\n",
       "      <td>0.410000</td>\n",
       "      <td>8</td>\n",
       "    </tr>\n",
       "    <tr>\n",
       "      <th>6</th>\n",
       "      <td>18</td>\n",
       "      <td>5400</td>\n",
       "      <td>61.000000</td>\n",
       "      <td>2017-02-26</td>\n",
       "      <td>3</td>\n",
       "      <td>2.50</td>\n",
       "      <td>9</td>\n",
       "      <td>43.599998</td>\n",
       "      <td>7</td>\n",
       "      <td>NaN</td>\n",
       "      <td>False</td>\n",
       "      <td>False</td>\n",
       "      <td>6.5</td>\n",
       "      <td>2</td>\n",
       "      <td>Санкт-Петербург</td>\n",
       "      <td>50898.0</td>\n",
       "      <td>15008.0</td>\n",
       "      <td>0.0</td>\n",
       "      <td>NaN</td>\n",
       "      <td>0.0</td>\n",
       "      <td>NaN</td>\n",
       "      <td>289</td>\n",
       "      <td>88.524590</td>\n",
       "      <td>6</td>\n",
       "      <td>2</td>\n",
       "      <td>2017</td>\n",
       "      <td>другой</td>\n",
       "      <td>0.714754</td>\n",
       "      <td>0.106557</td>\n",
       "      <td>15</td>\n",
       "    </tr>\n",
       "    <tr>\n",
       "      <th>7</th>\n",
       "      <td>5</td>\n",
       "      <td>5050</td>\n",
       "      <td>39.599998</td>\n",
       "      <td>2017-11-16</td>\n",
       "      <td>1</td>\n",
       "      <td>2.67</td>\n",
       "      <td>12</td>\n",
       "      <td>20.299999</td>\n",
       "      <td>3</td>\n",
       "      <td>NaN</td>\n",
       "      <td>False</td>\n",
       "      <td>False</td>\n",
       "      <td>8.5</td>\n",
       "      <td>0</td>\n",
       "      <td>Санкт-Петербург</td>\n",
       "      <td>38357.0</td>\n",
       "      <td>13878.0</td>\n",
       "      <td>1.0</td>\n",
       "      <td>310.0</td>\n",
       "      <td>2.0</td>\n",
       "      <td>553.0</td>\n",
       "      <td>137</td>\n",
       "      <td>127.525257</td>\n",
       "      <td>3</td>\n",
       "      <td>11</td>\n",
       "      <td>2017</td>\n",
       "      <td>другой</td>\n",
       "      <td>0.512626</td>\n",
       "      <td>0.214646</td>\n",
       "      <td>14</td>\n",
       "    </tr>\n",
       "    <tr>\n",
       "      <th>8</th>\n",
       "      <td>16</td>\n",
       "      <td>4650</td>\n",
       "      <td>39.000000</td>\n",
       "      <td>2017-11-18</td>\n",
       "      <td>1</td>\n",
       "      <td>2.65</td>\n",
       "      <td>14</td>\n",
       "      <td>20.500000</td>\n",
       "      <td>5</td>\n",
       "      <td>NaN</td>\n",
       "      <td>False</td>\n",
       "      <td>False</td>\n",
       "      <td>7.6</td>\n",
       "      <td>1</td>\n",
       "      <td>Санкт-Петербург</td>\n",
       "      <td>12900.0</td>\n",
       "      <td>14259.0</td>\n",
       "      <td>1.0</td>\n",
       "      <td>590.0</td>\n",
       "      <td>1.0</td>\n",
       "      <td>296.0</td>\n",
       "      <td>19</td>\n",
       "      <td>119.230769</td>\n",
       "      <td>5</td>\n",
       "      <td>11</td>\n",
       "      <td>2017</td>\n",
       "      <td>другой</td>\n",
       "      <td>0.525641</td>\n",
       "      <td>0.194872</td>\n",
       "      <td>14</td>\n",
       "    </tr>\n",
       "  </tbody>\n",
       "</table>\n",
       "</div>"
      ],
      "text/plain": [
       "   total_images  last_price  total_area first_day_exposition  rooms  \\\n",
       "1            10        5196   56.000000           2015-08-20      2   \n",
       "2             2       10000  100.000000           2018-06-19      2   \n",
       "6            18        5400   61.000000           2017-02-26      3   \n",
       "7             5        5050   39.599998           2017-11-16      1   \n",
       "8            16        4650   39.000000           2017-11-18      1   \n",
       "\n",
       "   ceiling_height  floors_total  living_area  floor is_apartment  studio  \\\n",
       "1            2.65             5    34.299999      4          NaN   False   \n",
       "2            3.03            14    32.000000     13          NaN   False   \n",
       "6            2.50             9    43.599998      7          NaN   False   \n",
       "7            2.67            12    20.299999      3          NaN   False   \n",
       "8            2.65            14    20.500000      5          NaN   False   \n",
       "\n",
       "   open_plan  kitchen_area  balcony    locality_name  airports_nearest  \\\n",
       "1      False           8.3        0  Санкт-Петербург           21741.0   \n",
       "2      False          41.0        0  Санкт-Петербург           31856.0   \n",
       "6      False           6.5        2  Санкт-Петербург           50898.0   \n",
       "7      False           8.5        0  Санкт-Петербург           38357.0   \n",
       "8      False           7.6        1  Санкт-Петербург           12900.0   \n",
       "\n",
       "   cityCenters_nearest  parks_around3000  parks_nearest  ponds_around3000  \\\n",
       "1              13933.0               1.0           90.0               2.0   \n",
       "2               8098.0               2.0          112.0               1.0   \n",
       "6              15008.0               0.0            NaN               0.0   \n",
       "7              13878.0               1.0          310.0               2.0   \n",
       "8              14259.0               1.0          590.0               1.0   \n",
       "\n",
       "   ponds_nearest  days_exposition  sq_meter_price  weekday_exposition  \\\n",
       "1          574.0              558       92.785714                   3   \n",
       "2           48.0              121      100.000000                   1   \n",
       "6            NaN              289       88.524590                   6   \n",
       "7          553.0              137      127.525257                   3   \n",
       "8          296.0               19      119.230769                   5   \n",
       "\n",
       "   month_exposition  year_exposition floor_sort  living_area_ratio  \\\n",
       "1                 8             2015     другой           0.612500   \n",
       "2                 6             2018     другой           0.320000   \n",
       "6                 2             2017     другой           0.714754   \n",
       "7                11             2017     другой           0.512626   \n",
       "8                11             2017     другой           0.525641   \n",
       "\n",
       "   kitchen_area_ratio  cityCenters_nearest_km  \n",
       "1            0.148214                      14  \n",
       "2            0.410000                       8  \n",
       "6            0.106557                      15  \n",
       "7            0.214646                      14  \n",
       "8            0.194872                      14  "
      ]
     },
     "execution_count": 2967,
     "metadata": {},
     "output_type": "execute_result"
    }
   ],
   "source": [
    "# создание датафрейма с расстоянием от центра Санкт-Петербурга\n",
    "spb_grouped = df.dropna(subset=['cityCenters_nearest_km']\n",
    "                             ).query('(locality_name == \"Санкт-Петербург\")')\n",
    "spb_grouped['cityCenters_nearest_km'] = spb_grouped['cityCenters_nearest_km'].astype('int32')\n",
    "spb_grouped.head()"
   ]
  },
  {
   "cell_type": "code",
   "execution_count": 2968,
   "metadata": {},
   "outputs": [
    {
     "data": {
      "text/html": [
       "<div>\n",
       "<style scoped>\n",
       "    .dataframe tbody tr th:only-of-type {\n",
       "        vertical-align: middle;\n",
       "    }\n",
       "\n",
       "    .dataframe tbody tr th {\n",
       "        vertical-align: top;\n",
       "    }\n",
       "\n",
       "    .dataframe thead th {\n",
       "        text-align: right;\n",
       "    }\n",
       "</style>\n",
       "<table border=\"1\" class=\"dataframe\">\n",
       "  <thead>\n",
       "    <tr style=\"text-align: right;\">\n",
       "      <th></th>\n",
       "      <th>cityCenters_nearest_km</th>\n",
       "      <th>last_price</th>\n",
       "    </tr>\n",
       "  </thead>\n",
       "  <tbody>\n",
       "    <tr>\n",
       "      <th>cityCenters_nearest_km</th>\n",
       "      <td>1.000000</td>\n",
       "      <td>-0.838368</td>\n",
       "    </tr>\n",
       "    <tr>\n",
       "      <th>last_price</th>\n",
       "      <td>-0.838368</td>\n",
       "      <td>1.000000</td>\n",
       "    </tr>\n",
       "  </tbody>\n",
       "</table>\n",
       "</div>"
      ],
      "text/plain": [
       "                        cityCenters_nearest_km  last_price\n",
       "cityCenters_nearest_km                1.000000   -0.838368\n",
       "last_price                           -0.838368    1.000000"
      ]
     },
     "metadata": {},
     "output_type": "display_data"
    },
    {
     "data": {
      "image/png": "[encoded data removed]",
      "text/plain": [
       "<Figure size 720x216 with 1 Axes>"
      ]
     },
     "metadata": {
      "needs_background": "light"
     },
     "output_type": "display_data"
    }
   ],
   "source": [
    "# корреляция и график зависимостей\n",
    "bar_plot(spb_grouped, 'cityCenters_nearest_km')"
   ]
  },
  {
   "cell_type": "markdown",
   "metadata": {},
   "source": [
    "💡 *Резкое изменение цены на графике наблюдается после с 2 км. и 8 км. от центра. Можно предположить, что первое значение — это исторический центр Санкт-Петербурга, второе — прилегающие к историческому центру районы, считающиеся привлекательными для проживания.   \n",
    "Всплески цен на 20 км. и 28 км. можно объяснить попаданием в выборку объявлений, географически принадлежащих городским агломерациям с привлекательными условиями для жизни или историческим значением (напр. Кроштадт, Ломоносов, Сестрорецк, Стрельна и т.п), которые были записаны в базу как г. Санкт-Петербург.*"
   ]
  },
  {
   "cell_type": "markdown",
   "metadata": {},
   "source": [
    "### Выделение сегмента квартир в центре и анализ факторов влияющих на стоимость"
   ]
  },
  {
   "cell_type": "markdown",
   "metadata": {},
   "source": [
    "Для анализа сегмента квартир будем рассматривать множество объявлений ограниченных расстоянием 8 км. от центра."
   ]
  },
  {
   "cell_type": "code",
   "execution_count": 2969,
   "metadata": {
    "scrolled": false
   },
   "outputs": [
    {
     "data": {
      "text/html": [
       "<div>\n",
       "<style scoped>\n",
       "    .dataframe tbody tr th:only-of-type {\n",
       "        vertical-align: middle;\n",
       "    }\n",
       "\n",
       "    .dataframe tbody tr th {\n",
       "        vertical-align: top;\n",
       "    }\n",
       "\n",
       "    .dataframe thead th {\n",
       "        text-align: right;\n",
       "    }\n",
       "</style>\n",
       "<table border=\"1\" class=\"dataframe\">\n",
       "  <thead>\n",
       "    <tr style=\"text-align: right;\">\n",
       "      <th></th>\n",
       "      <th>total_images</th>\n",
       "      <th>last_price</th>\n",
       "      <th>total_area</th>\n",
       "      <th>first_day_exposition</th>\n",
       "      <th>rooms</th>\n",
       "      <th>ceiling_height</th>\n",
       "      <th>floors_total</th>\n",
       "      <th>living_area</th>\n",
       "      <th>floor</th>\n",
       "      <th>is_apartment</th>\n",
       "      <th>studio</th>\n",
       "      <th>open_plan</th>\n",
       "      <th>kitchen_area</th>\n",
       "      <th>balcony</th>\n",
       "      <th>locality_name</th>\n",
       "      <th>airports_nearest</th>\n",
       "      <th>cityCenters_nearest</th>\n",
       "      <th>parks_around3000</th>\n",
       "      <th>parks_nearest</th>\n",
       "      <th>ponds_around3000</th>\n",
       "      <th>ponds_nearest</th>\n",
       "      <th>days_exposition</th>\n",
       "      <th>sq_meter_price</th>\n",
       "      <th>weekday_exposition</th>\n",
       "      <th>month_exposition</th>\n",
       "      <th>year_exposition</th>\n",
       "      <th>floor_sort</th>\n",
       "      <th>living_area_ratio</th>\n",
       "      <th>kitchen_area_ratio</th>\n",
       "      <th>cityCenters_nearest_km</th>\n",
       "    </tr>\n",
       "  </thead>\n",
       "  <tbody>\n",
       "    <tr>\n",
       "      <th>2</th>\n",
       "      <td>2</td>\n",
       "      <td>10000</td>\n",
       "      <td>100.000000</td>\n",
       "      <td>2018-06-19</td>\n",
       "      <td>2</td>\n",
       "      <td>3.03</td>\n",
       "      <td>14</td>\n",
       "      <td>32.0</td>\n",
       "      <td>13</td>\n",
       "      <td>NaN</td>\n",
       "      <td>False</td>\n",
       "      <td>False</td>\n",
       "      <td>41.0</td>\n",
       "      <td>0</td>\n",
       "      <td>Санкт-Петербург</td>\n",
       "      <td>31856.0</td>\n",
       "      <td>8098.0</td>\n",
       "      <td>2.0</td>\n",
       "      <td>112.0</td>\n",
       "      <td>1.0</td>\n",
       "      <td>48.0</td>\n",
       "      <td>121</td>\n",
       "      <td>100.000000</td>\n",
       "      <td>1</td>\n",
       "      <td>6</td>\n",
       "      <td>2018</td>\n",
       "      <td>другой</td>\n",
       "      <td>0.320000</td>\n",
       "      <td>0.410000</td>\n",
       "      <td>8</td>\n",
       "    </tr>\n",
       "    <tr>\n",
       "      <th>14</th>\n",
       "      <td>8</td>\n",
       "      <td>6500</td>\n",
       "      <td>97.199997</td>\n",
       "      <td>2015-10-31</td>\n",
       "      <td>2</td>\n",
       "      <td>2.65</td>\n",
       "      <td>3</td>\n",
       "      <td>46.5</td>\n",
       "      <td>1</td>\n",
       "      <td>NaN</td>\n",
       "      <td>False</td>\n",
       "      <td>False</td>\n",
       "      <td>19.6</td>\n",
       "      <td>0</td>\n",
       "      <td>Санкт-Петербург</td>\n",
       "      <td>20052.0</td>\n",
       "      <td>2336.0</td>\n",
       "      <td>3.0</td>\n",
       "      <td>411.0</td>\n",
       "      <td>3.0</td>\n",
       "      <td>124.0</td>\n",
       "      <td>265</td>\n",
       "      <td>66.872430</td>\n",
       "      <td>5</td>\n",
       "      <td>10</td>\n",
       "      <td>2015</td>\n",
       "      <td>первый</td>\n",
       "      <td>0.478395</td>\n",
       "      <td>0.201646</td>\n",
       "      <td>2</td>\n",
       "    </tr>\n",
       "    <tr>\n",
       "      <th>46</th>\n",
       "      <td>9</td>\n",
       "      <td>3400</td>\n",
       "      <td>30.000000</td>\n",
       "      <td>2018-09-05</td>\n",
       "      <td>1</td>\n",
       "      <td>2.65</td>\n",
       "      <td>5</td>\n",
       "      <td>16.0</td>\n",
       "      <td>1</td>\n",
       "      <td>NaN</td>\n",
       "      <td>False</td>\n",
       "      <td>False</td>\n",
       "      <td>7.0</td>\n",
       "      <td>0</td>\n",
       "      <td>Санкт-Петербург</td>\n",
       "      <td>39053.0</td>\n",
       "      <td>8313.0</td>\n",
       "      <td>1.0</td>\n",
       "      <td>382.0</td>\n",
       "      <td>0.0</td>\n",
       "      <td>NaN</td>\n",
       "      <td>14</td>\n",
       "      <td>113.333333</td>\n",
       "      <td>2</td>\n",
       "      <td>9</td>\n",
       "      <td>2018</td>\n",
       "      <td>первый</td>\n",
       "      <td>0.533333</td>\n",
       "      <td>0.233333</td>\n",
       "      <td>8</td>\n",
       "    </tr>\n",
       "    <tr>\n",
       "      <th>59</th>\n",
       "      <td>3</td>\n",
       "      <td>3500</td>\n",
       "      <td>29.500000</td>\n",
       "      <td>2019-04-26</td>\n",
       "      <td>1</td>\n",
       "      <td>2.50</td>\n",
       "      <td>5</td>\n",
       "      <td>15.6</td>\n",
       "      <td>2</td>\n",
       "      <td>NaN</td>\n",
       "      <td>False</td>\n",
       "      <td>False</td>\n",
       "      <td>5.5</td>\n",
       "      <td>1</td>\n",
       "      <td>Санкт-Петербург</td>\n",
       "      <td>12921.0</td>\n",
       "      <td>7303.0</td>\n",
       "      <td>0.0</td>\n",
       "      <td>NaN</td>\n",
       "      <td>0.0</td>\n",
       "      <td>NaN</td>\n",
       "      <td>4</td>\n",
       "      <td>118.644068</td>\n",
       "      <td>4</td>\n",
       "      <td>4</td>\n",
       "      <td>2019</td>\n",
       "      <td>другой</td>\n",
       "      <td>0.528814</td>\n",
       "      <td>0.186441</td>\n",
       "      <td>7</td>\n",
       "    </tr>\n",
       "    <tr>\n",
       "      <th>62</th>\n",
       "      <td>32</td>\n",
       "      <td>9600</td>\n",
       "      <td>90.000000</td>\n",
       "      <td>2017-09-26</td>\n",
       "      <td>4</td>\n",
       "      <td>2.65</td>\n",
       "      <td>5</td>\n",
       "      <td>67.0</td>\n",
       "      <td>2</td>\n",
       "      <td>NaN</td>\n",
       "      <td>False</td>\n",
       "      <td>False</td>\n",
       "      <td>8.0</td>\n",
       "      <td>0</td>\n",
       "      <td>Санкт-Петербург</td>\n",
       "      <td>23277.0</td>\n",
       "      <td>2818.0</td>\n",
       "      <td>0.0</td>\n",
       "      <td>NaN</td>\n",
       "      <td>0.0</td>\n",
       "      <td>NaN</td>\n",
       "      <td>104</td>\n",
       "      <td>106.666667</td>\n",
       "      <td>1</td>\n",
       "      <td>9</td>\n",
       "      <td>2017</td>\n",
       "      <td>другой</td>\n",
       "      <td>0.744444</td>\n",
       "      <td>0.088889</td>\n",
       "      <td>3</td>\n",
       "    </tr>\n",
       "  </tbody>\n",
       "</table>\n",
       "</div>"
      ],
      "text/plain": [
       "    total_images  last_price  total_area first_day_exposition  rooms  \\\n",
       "2              2       10000  100.000000           2018-06-19      2   \n",
       "14             8        6500   97.199997           2015-10-31      2   \n",
       "46             9        3400   30.000000           2018-09-05      1   \n",
       "59             3        3500   29.500000           2019-04-26      1   \n",
       "62            32        9600   90.000000           2017-09-26      4   \n",
       "\n",
       "    ceiling_height  floors_total  living_area  floor is_apartment  studio  \\\n",
       "2             3.03            14         32.0     13          NaN   False   \n",
       "14            2.65             3         46.5      1          NaN   False   \n",
       "46            2.65             5         16.0      1          NaN   False   \n",
       "59            2.50             5         15.6      2          NaN   False   \n",
       "62            2.65             5         67.0      2          NaN   False   \n",
       "\n",
       "    open_plan  kitchen_area  balcony    locality_name  airports_nearest  \\\n",
       "2       False          41.0        0  Санкт-Петербург           31856.0   \n",
       "14      False          19.6        0  Санкт-Петербург           20052.0   \n",
       "46      False           7.0        0  Санкт-Петербург           39053.0   \n",
       "59      False           5.5        1  Санкт-Петербург           12921.0   \n",
       "62      False           8.0        0  Санкт-Петербург           23277.0   \n",
       "\n",
       "    cityCenters_nearest  parks_around3000  parks_nearest  ponds_around3000  \\\n",
       "2                8098.0               2.0          112.0               1.0   \n",
       "14               2336.0               3.0          411.0               3.0   \n",
       "46               8313.0               1.0          382.0               0.0   \n",
       "59               7303.0               0.0            NaN               0.0   \n",
       "62               2818.0               0.0            NaN               0.0   \n",
       "\n",
       "    ponds_nearest  days_exposition  sq_meter_price  weekday_exposition  \\\n",
       "2            48.0              121      100.000000                   1   \n",
       "14          124.0              265       66.872430                   5   \n",
       "46            NaN               14      113.333333                   2   \n",
       "59            NaN                4      118.644068                   4   \n",
       "62            NaN              104      106.666667                   1   \n",
       "\n",
       "    month_exposition  year_exposition floor_sort  living_area_ratio  \\\n",
       "2                  6             2018     другой           0.320000   \n",
       "14                10             2015     первый           0.478395   \n",
       "46                 9             2018     первый           0.533333   \n",
       "59                 4             2019     другой           0.528814   \n",
       "62                 9             2017     другой           0.744444   \n",
       "\n",
       "    kitchen_area_ratio  cityCenters_nearest_km  \n",
       "2             0.410000                       8  \n",
       "14            0.201646                       2  \n",
       "46            0.233333                       8  \n",
       "59            0.186441                       7  \n",
       "62            0.088889                       3  "
      ]
     },
     "execution_count": 2969,
     "metadata": {},
     "output_type": "execute_result"
    }
   ],
   "source": [
    "# создание датафрейма с расстоянием от центра Санкт-Петербурга не более 8 км.\n",
    "spb_grouped_8km = df.dropna(subset=['cityCenters_nearest_km']\n",
    "                             ).query('(locality_name == \"Санкт-Петербург\") and (cityCenters_nearest_km <= 8.0)')\n",
    "spb_grouped_8km['cityCenters_nearest_km'] = spb_grouped_8km['cityCenters_nearest_km'].astype('int64')\n",
    "spb_grouped_8km.head()"
   ]
  },
  {
   "cell_type": "code",
   "execution_count": 2970,
   "metadata": {},
   "outputs": [
    {
     "data": {
      "text/plain": [
       "(1638, 30)"
      ]
     },
     "execution_count": 2970,
     "metadata": {},
     "output_type": "execute_result"
    }
   ],
   "source": [
    "spb_grouped_8km.shape"
   ]
  },
  {
   "cell_type": "code",
   "execution_count": 2971,
   "metadata": {
    "scrolled": true
   },
   "outputs": [
    {
     "data": {
      "text/html": [
       "<div>\n",
       "<style scoped>\n",
       "    .dataframe tbody tr th:only-of-type {\n",
       "        vertical-align: middle;\n",
       "    }\n",
       "\n",
       "    .dataframe tbody tr th {\n",
       "        vertical-align: top;\n",
       "    }\n",
       "\n",
       "    .dataframe thead th {\n",
       "        text-align: right;\n",
       "    }\n",
       "</style>\n",
       "<table border=\"1\" class=\"dataframe\">\n",
       "  <thead>\n",
       "    <tr style=\"text-align: right;\">\n",
       "      <th></th>\n",
       "      <th>total_area</th>\n",
       "      <th>last_price</th>\n",
       "    </tr>\n",
       "  </thead>\n",
       "  <tbody>\n",
       "    <tr>\n",
       "      <th>total_area</th>\n",
       "      <td>1.000000</td>\n",
       "      <td>0.856947</td>\n",
       "    </tr>\n",
       "    <tr>\n",
       "      <th>last_price</th>\n",
       "      <td>0.856947</td>\n",
       "      <td>1.000000</td>\n",
       "    </tr>\n",
       "  </tbody>\n",
       "</table>\n",
       "</div>"
      ],
      "text/plain": [
       "            total_area  last_price\n",
       "total_area    1.000000    0.856947\n",
       "last_price    0.856947    1.000000"
      ]
     },
     "metadata": {},
     "output_type": "display_data"
    },
    {
     "data": {
      "image/png": "[encoded data removed]",
      "text/plain": [
       "<Figure size 720x216 with 1 Axes>"
      ]
     },
     "metadata": {
      "needs_background": "light"
     },
     "output_type": "display_data"
    }
   ],
   "source": [
    "# корреляция и график зависимостей\n",
    "scatter_plot(spb_grouped_8km, 'total_area')"
   ]
  },
  {
   "cell_type": "code",
   "execution_count": 2972,
   "metadata": {
    "scrolled": true
   },
   "outputs": [
    {
     "data": {
      "text/html": [
       "<div>\n",
       "<style scoped>\n",
       "    .dataframe tbody tr th:only-of-type {\n",
       "        vertical-align: middle;\n",
       "    }\n",
       "\n",
       "    .dataframe tbody tr th {\n",
       "        vertical-align: top;\n",
       "    }\n",
       "\n",
       "    .dataframe thead th {\n",
       "        text-align: right;\n",
       "    }\n",
       "</style>\n",
       "<table border=\"1\" class=\"dataframe\">\n",
       "  <thead>\n",
       "    <tr style=\"text-align: right;\">\n",
       "      <th></th>\n",
       "      <th>ceiling_height</th>\n",
       "      <th>last_price</th>\n",
       "    </tr>\n",
       "  </thead>\n",
       "  <tbody>\n",
       "    <tr>\n",
       "      <th>ceiling_height</th>\n",
       "      <td>1.000000</td>\n",
       "      <td>0.283087</td>\n",
       "    </tr>\n",
       "    <tr>\n",
       "      <th>last_price</th>\n",
       "      <td>0.283087</td>\n",
       "      <td>1.000000</td>\n",
       "    </tr>\n",
       "  </tbody>\n",
       "</table>\n",
       "</div>"
      ],
      "text/plain": [
       "                ceiling_height  last_price\n",
       "ceiling_height        1.000000    0.283087\n",
       "last_price            0.283087    1.000000"
      ]
     },
     "metadata": {},
     "output_type": "display_data"
    },
    {
     "data": {
      "image/png": "[encoded data removed]",
      "text/plain": [
       "<Figure size 720x216 with 1 Axes>"
      ]
     },
     "metadata": {
      "needs_background": "light"
     },
     "output_type": "display_data"
    }
   ],
   "source": [
    "# корреляция и график зависимостей\n",
    "scatter_plot(spb_grouped_8km, 'ceiling_height')"
   ]
  },
  {
   "cell_type": "code",
   "execution_count": 2973,
   "metadata": {},
   "outputs": [
    {
     "data": {
      "text/html": [
       "<div>\n",
       "<style scoped>\n",
       "    .dataframe tbody tr th:only-of-type {\n",
       "        vertical-align: middle;\n",
       "    }\n",
       "\n",
       "    .dataframe tbody tr th {\n",
       "        vertical-align: top;\n",
       "    }\n",
       "\n",
       "    .dataframe thead th {\n",
       "        text-align: right;\n",
       "    }\n",
       "</style>\n",
       "<table border=\"1\" class=\"dataframe\">\n",
       "  <thead>\n",
       "    <tr style=\"text-align: right;\">\n",
       "      <th></th>\n",
       "      <th>rooms</th>\n",
       "      <th>last_price</th>\n",
       "    </tr>\n",
       "  </thead>\n",
       "  <tbody>\n",
       "    <tr>\n",
       "      <th>rooms</th>\n",
       "      <td>1.000000</td>\n",
       "      <td>0.940171</td>\n",
       "    </tr>\n",
       "    <tr>\n",
       "      <th>last_price</th>\n",
       "      <td>0.940171</td>\n",
       "      <td>1.000000</td>\n",
       "    </tr>\n",
       "  </tbody>\n",
       "</table>\n",
       "</div>"
      ],
      "text/plain": [
       "               rooms  last_price\n",
       "rooms       1.000000    0.940171\n",
       "last_price  0.940171    1.000000"
      ]
     },
     "metadata": {},
     "output_type": "display_data"
    },
    {
     "data": {
      "image/png": "[encoded data removed]",
      "text/plain": [
       "<Figure size 720x216 with 1 Axes>"
      ]
     },
     "metadata": {
      "needs_background": "light"
     },
     "output_type": "display_data"
    },
    {
     "data": {
      "image/png": "[encoded data removed]",
      "text/plain": [
       "<Figure size 720x216 with 1 Axes>"
      ]
     },
     "metadata": {
      "needs_background": "light"
     },
     "output_type": "display_data"
    },
    {
     "data": {
      "text/html": [
       "<div>\n",
       "<style scoped>\n",
       "    .dataframe tbody tr th:only-of-type {\n",
       "        vertical-align: middle;\n",
       "    }\n",
       "\n",
       "    .dataframe tbody tr th {\n",
       "        vertical-align: top;\n",
       "    }\n",
       "\n",
       "    .dataframe thead th {\n",
       "        text-align: right;\n",
       "    }\n",
       "</style>\n",
       "<table border=\"1\" class=\"dataframe\">\n",
       "  <thead>\n",
       "    <tr style=\"text-align: right;\">\n",
       "      <th></th>\n",
       "      <th>cityCenters_nearest_km</th>\n",
       "      <th>last_price</th>\n",
       "    </tr>\n",
       "  </thead>\n",
       "  <tbody>\n",
       "    <tr>\n",
       "      <th>cityCenters_nearest_km</th>\n",
       "      <td>1.000000</td>\n",
       "      <td>-0.828779</td>\n",
       "    </tr>\n",
       "    <tr>\n",
       "      <th>last_price</th>\n",
       "      <td>-0.828779</td>\n",
       "      <td>1.000000</td>\n",
       "    </tr>\n",
       "  </tbody>\n",
       "</table>\n",
       "</div>"
      ],
      "text/plain": [
       "                        cityCenters_nearest_km  last_price\n",
       "cityCenters_nearest_km                1.000000   -0.828779\n",
       "last_price                           -0.828779    1.000000"
      ]
     },
     "metadata": {},
     "output_type": "display_data"
    },
    {
     "data": {
      "image/png": "[encoded data removed]",
      "text/plain": [
       "<Figure size 720x216 with 1 Axes>"
      ]
     },
     "metadata": {
      "needs_background": "light"
     },
     "output_type": "display_data"
    }
   ],
   "source": [
    "# корреляция и график зависимостей\n",
    "bar_plot(spb_grouped_8km, 'rooms')\n",
    "plt.show()\n",
    "bar_plot(spb_grouped_8km, 'floor_sort')\n",
    "plt.show()\n",
    "bar_plot(spb_grouped_8km, 'cityCenters_nearest_km')"
   ]
  },
  {
   "cell_type": "code",
   "execution_count": 2974,
   "metadata": {
    "scrolled": true
   },
   "outputs": [
    {
     "data": {
      "text/plain": [
       "(4100.0, 8000.0)"
      ]
     },
     "execution_count": 2974,
     "metadata": {},
     "output_type": "execute_result"
    },
    {
     "data": {
      "image/png": "[encoded data removed]",
      "text/plain": [
       "<Figure size 720x216 with 1 Axes>"
      ]
     },
     "metadata": {
      "needs_background": "light"
     },
     "output_type": "display_data"
    }
   ],
   "source": [
    "# корреляция и график зависимостей\n",
    "exposition_plot(spb_grouped_8km, 'weekday_exposition')\n",
    "plt.ylim(4100,8000)"
   ]
  },
  {
   "cell_type": "code",
   "execution_count": 2975,
   "metadata": {},
   "outputs": [
    {
     "data": {
      "text/plain": [
       "(4100.0, 8000.0)"
      ]
     },
     "execution_count": 2975,
     "metadata": {},
     "output_type": "execute_result"
    },
    {
     "data": {
      "image/png": "[encoded data removed]",
      "text/plain": [
       "<Figure size 720x216 with 1 Axes>"
      ]
     },
     "metadata": {
      "needs_background": "light"
     },
     "output_type": "display_data"
    }
   ],
   "source": [
    "# корреляция и график зависимостей\n",
    "exposition_plot(spb_grouped_8km, 'month_exposition')\n",
    "plt.ylim(4100,8000)"
   ]
  },
  {
   "cell_type": "code",
   "execution_count": 2976,
   "metadata": {},
   "outputs": [
    {
     "data": {
      "text/plain": [
       "(5000.0, 10000.0)"
      ]
     },
     "execution_count": 2976,
     "metadata": {},
     "output_type": "execute_result"
    },
    {
     "data": {
      "image/png": "[encoded data removed]",
      "text/plain": [
       "<Figure size 720x216 with 1 Axes>"
      ]
     },
     "metadata": {
      "needs_background": "light"
     },
     "output_type": "display_data"
    }
   ],
   "source": [
    "# корреляция и график зависимостей\n",
    "exposition_plot(spb_grouped_8km, 'year_exposition')\n",
    "plt.ylim(5000,10000)"
   ]
  },
  {
   "cell_type": "markdown",
   "metadata": {},
   "source": [
    "Вычислим разницу в стоимости в зависимости от этажности:"
   ]
  },
  {
   "cell_type": "code",
   "execution_count": 2977,
   "metadata": {
    "scrolled": true
   },
   "outputs": [
    {
     "data": {
      "text/html": [
       "<div>\n",
       "<style scoped>\n",
       "    .dataframe tbody tr th:only-of-type {\n",
       "        vertical-align: middle;\n",
       "    }\n",
       "\n",
       "    .dataframe tbody tr th {\n",
       "        vertical-align: top;\n",
       "    }\n",
       "\n",
       "    .dataframe thead th {\n",
       "        text-align: right;\n",
       "    }\n",
       "</style>\n",
       "<table border=\"1\" class=\"dataframe\">\n",
       "  <thead>\n",
       "    <tr style=\"text-align: right;\">\n",
       "      <th></th>\n",
       "      <th>floor_sort</th>\n",
       "      <th>last_price</th>\n",
       "    </tr>\n",
       "  </thead>\n",
       "  <tbody>\n",
       "    <tr>\n",
       "      <th>0</th>\n",
       "      <td>другой</td>\n",
       "      <td>6950.0</td>\n",
       "    </tr>\n",
       "    <tr>\n",
       "      <th>1</th>\n",
       "      <td>первый</td>\n",
       "      <td>5425.0</td>\n",
       "    </tr>\n",
       "    <tr>\n",
       "      <th>2</th>\n",
       "      <td>последний</td>\n",
       "      <td>6600.0</td>\n",
       "    </tr>\n",
       "  </tbody>\n",
       "</table>\n",
       "</div>"
      ],
      "text/plain": [
       "  floor_sort  last_price\n",
       "0     другой      6950.0\n",
       "1     первый      5425.0\n",
       "2  последний      6600.0"
      ]
     },
     "execution_count": 2977,
     "metadata": {},
     "output_type": "execute_result"
    }
   ],
   "source": [
    "# таблица зависимости цены от категории этажа\n",
    "df_filtered = spb_grouped_8km.groupby('floor_sort').median()['last_price'].reset_index().sort_values(by='floor_sort')\n",
    "df_filtered"
   ]
  },
  {
   "cell_type": "code",
   "execution_count": 2978,
   "metadata": {},
   "outputs": [
    {
     "name": "stdout",
     "output_type": "stream",
     "text": [
      "Медианная стоимость \"другого этажа\" выше стоимости последнего этажа на: 5.3%\n",
      "Медианная стоимость \"другого этажа\" выше стоимости первого этажа на: 28.1%\n"
     ]
    }
   ],
   "source": [
    "# переменные для расчета разницы в стоимости этажей\n",
    "last_price_another_floor = df_filtered.loc[df_filtered['floor_sort']==\"другой\",'last_price'].squeeze()\n",
    "last_price_last_floor = df_filtered.loc[df_filtered['floor_sort']==\"последний\",'last_price'].squeeze()\n",
    "last_price_first_floor = df_filtered.loc[df_filtered['floor_sort']==\"первый\",'last_price'].squeeze()\n",
    "\n",
    "# разница в стоимости в зависимости от этажа\n",
    "print('Медианная стоимость \"другого этажа\" выше стоимости последнего этажа на:',\n",
    "      '{:.1%}'.format(last_price_another_floor/last_price_last_floor-1))\n",
    "print('Медианная стоимость \"другого этажа\" выше стоимости первого этажа на:',\n",
    "      '{:.1%}'.format(last_price_another_floor/last_price_first_floor-1))"
   ]
  },
  {
   "cell_type": "markdown",
   "metadata": {},
   "source": [
    "Сравним разницу в средней этажности жилых зданий:"
   ]
  },
  {
   "cell_type": "code",
   "execution_count": 2979,
   "metadata": {},
   "outputs": [
    {
     "name": "stdout",
     "output_type": "stream",
     "text": [
      "Медианная высота дома в центре Санкт-Петербурга: 5.0\n",
      "Медианная высота дома по всем объектам: 9.0\n"
     ]
    }
   ],
   "source": [
    "# сравнение этажности жилых зданий\n",
    "print('Медианная высота дома в центре Санкт-Петербурга:', spb_grouped_8km['floors_total'].median())\n",
    "print('Медианная высота дома по всем объектам:', df['floors_total'].median())"
   ]
  },
  {
   "cell_type": "markdown",
   "metadata": {},
   "source": [
    "💡 *Корреляция цены с площадью и расстоянием от центра для квартир находящихся в центре Санкт-Петербурга практически не изменилась или изменилась не существенно по сравнению со всеми объявлениями.*   \n",
    "\n",
    "*Корреляция с высотой потолков уменьшилась в два раза — до 0.3. По всей видимости этот фактор менее важен при формировании стоимости квартиры в центре.*    \n",
    "\n",
    "*Корреляция с числом комнат составила 0.94 против 0.99 по всей базе объектов — сказывает снижение медианы для объектов с шестью комнатами, по сравнению с пятью комнатами. Данная нелогичность легко объясняется — в данных об объектах в центре содержится только одна шестикомнатная квартира, поэтому вывод о нарушении зависимости для шестикомнатных квартир по одному объекту сделать нельзя.*    \n",
    "\n",
    "*Разница в цене между \"другим этажом\" и первым этажом для квартир в центре более существенна, чем в целом по выборке всех объектов — 28.1% против 18.4%. Однако разница между последним этажом гораздо меньше: всего 5.3% против 12.5%  — видимо жители центра более лояльно относятся к покупке квартиры на последнем этаже, что впрочем объясняется гораздо более низкой высотой жилых зданий в центре — в среднем всего 5 этажей против 9 этажей по всем объектам.*    \n",
    "\n",
    "*Выглядит интересным взаимосвязь цены и дня публикации объявления. Для объектов в центре города цена по объявлениям, публикуемым в воскресенье гораздо выше, чем в остальные дни. Колебания цены в центре в зависимости от месяца не столь существенны, как было выявлено по всем объектам — явную сезонность установить не удалось. Картина взаимосвязи цены и года публикации на периоде 2014-2015 г. аналогична той, что наблюдалась по всем объектам, однако после коррекции, цены на недвижимость в центре не показывают столь сильной динамики роста как цены на всю недвижимость, а скорее находятся в узком диапазоне цен.*"
   ]
  },
  {
   "cell_type": "markdown",
   "metadata": {},
   "source": [
    "## Общий вывод"
   ]
  },
  {
   "cell_type": "markdown",
   "metadata": {},
   "source": [
    "В ходе исследования были обработаны пропущенные значения, данные приведены к необходимому типу, проведены дополнительные расчеты для целей исследования, обработаны выбросы и аномалии.   \n",
    "Так как целью исследования стояло \"научиться опрелять рыночную стоимость недвижимости для автоматического определения аномалий и мошеннической деятельности\", то исследование данных проводилость согласно взаимосвязи с ценой объектов.   \n",
    "Сгруппировав данные по различным параметрам, были определены основные параметры объектов, имеющие сильную взаимосвязь с ценой недвижимости, в том числе для объектов, находящихся в центре Санкт-Петербурга.\n",
    "\n",
    "На основе корреляция и графиков были сделаны следующие выводы:\n",
    "* Цена недвижимости имеет прямую сильную взаимосвязь с площадью и числом комнат; \n",
    "* Цена недвижимости имеет обратную сильную взаимосвязь с расстоянием до центра;\n",
    "* Высота потолков для квартир внутри центральной зоны (в пределах радиуса 8 км.) имеет более низкое влияние на оценку квартиры, чем для для всех объектов в выборке;\n",
    "* Квартиры на первом этаже имеют максимальный дисконт (18-28%) к квартирам на других этажах, кроме последнего; \n",
    "* Квартиры на последнем этаже имеют дисконт 12.5%  к квартирам на других этажах (кроме первого) для всех объектов в выборке, однако только 5.3% для объектов в центре Санкт-Петербурга;\n",
    "* Пятница и воскресенье — дни публикации объявлений с самой низкой ценой для всех объектов, однако воскресенье — день публикации объектов с самой высокой ценой, для объектов в центре Санкт-Петербурга;\n",
    "* Линейной связи между ценой и месяцом публикации не наблюдается. Однако на графике для всех объектов в выборке прослеживается некоторая сезонность — на два летних месяца приходится самое сильное снижение медианной цены по сравнению с остальными месяцами года. На графике для множества квартир внутри центральной городской зоны сезонность не выявлена;\n",
    "* Зависимость цены от года публикации средняя. На графиках выделяется пик цен в 2014 г. и последующее снижение цен вплоть до 2016 г., после чего цены на рынке недвижимости начали восстанавливаться, однако цены в центре Санкт-Петербурга находятся в узком диапазоне цен, без выраженного тренда."
   ]
  }
 ],
 "metadata": {
  "ExecuteTimeLog": [
   {
    "duration": 51,
    "start_time": "2022-05-19T11:34:32.367Z"
   },
   {
    "duration": 624,
    "start_time": "2022-05-20T04:16:35.246Z"
   },
   {
    "duration": 487,
    "start_time": "2022-05-20T04:16:35.872Z"
   },
   {
    "duration": 3,
    "start_time": "2022-05-20T04:16:36.361Z"
   },
   {
    "duration": 498,
    "start_time": "2022-05-20T04:16:36.367Z"
   },
   {
    "duration": 3,
    "start_time": "2022-05-20T04:16:36.867Z"
   },
   {
    "duration": 131,
    "start_time": "2022-05-20T04:16:36.871Z"
   },
   {
    "duration": 27,
    "start_time": "2022-05-20T04:16:37.004Z"
   },
   {
    "duration": 16,
    "start_time": "2022-05-20T04:16:37.032Z"
   },
   {
    "duration": 23,
    "start_time": "2022-05-20T04:16:37.050Z"
   },
   {
    "duration": 97,
    "start_time": "2022-05-20T04:16:37.075Z"
   },
   {
    "duration": 10,
    "start_time": "2022-05-20T04:16:37.174Z"
   },
   {
    "duration": 23,
    "start_time": "2022-05-20T04:16:37.406Z"
   },
   {
    "duration": 6,
    "start_time": "2022-05-20T04:16:37.508Z"
   },
   {
    "duration": 5,
    "start_time": "2022-05-20T04:16:37.657Z"
   },
   {
    "duration": 4,
    "start_time": "2022-05-20T04:16:38.638Z"
   },
   {
    "duration": 21,
    "start_time": "2022-05-20T04:16:39.241Z"
   },
   {
    "duration": 5,
    "start_time": "2022-05-20T04:16:39.315Z"
   },
   {
    "duration": 10,
    "start_time": "2022-05-20T04:16:39.467Z"
   },
   {
    "duration": 5,
    "start_time": "2022-05-20T04:16:39.550Z"
   },
   {
    "duration": 21,
    "start_time": "2022-05-20T04:16:39.729Z"
   },
   {
    "duration": 3,
    "start_time": "2022-05-20T04:16:39.807Z"
   },
   {
    "duration": 6,
    "start_time": "2022-05-20T04:16:39.887Z"
   },
   {
    "duration": 6,
    "start_time": "2022-05-20T04:16:40.053Z"
   },
   {
    "duration": 6,
    "start_time": "2022-05-20T04:16:40.137Z"
   },
   {
    "duration": 8,
    "start_time": "2022-05-20T04:16:40.225Z"
   },
   {
    "duration": 24,
    "start_time": "2022-05-20T04:16:40.315Z"
   },
   {
    "duration": 4,
    "start_time": "2022-05-20T04:16:40.395Z"
   },
   {
    "duration": 27,
    "start_time": "2022-05-20T04:16:40.589Z"
   },
   {
    "duration": 6,
    "start_time": "2022-05-20T04:16:40.642Z"
   },
   {
    "duration": 23,
    "start_time": "2022-05-20T04:16:40.905Z"
   },
   {
    "duration": 5,
    "start_time": "2022-05-20T04:16:40.973Z"
   },
   {
    "duration": 10,
    "start_time": "2022-05-20T04:16:41.162Z"
   },
   {
    "duration": 4,
    "start_time": "2022-05-20T04:16:41.229Z"
   },
   {
    "duration": 5,
    "start_time": "2022-05-20T04:16:41.316Z"
   },
   {
    "duration": 6,
    "start_time": "2022-05-20T04:16:41.477Z"
   },
   {
    "duration": 5,
    "start_time": "2022-05-20T04:16:41.560Z"
   },
   {
    "duration": 25,
    "start_time": "2022-05-20T04:16:41.646Z"
   },
   {
    "duration": 4,
    "start_time": "2022-05-20T04:16:41.734Z"
   },
   {
    "duration": 5,
    "start_time": "2022-05-20T04:16:41.819Z"
   },
   {
    "duration": 23,
    "start_time": "2022-05-20T04:16:42.236Z"
   },
   {
    "duration": 6,
    "start_time": "2022-05-20T04:16:42.318Z"
   },
   {
    "duration": 4,
    "start_time": "2022-05-20T04:16:42.481Z"
   },
   {
    "duration": 4,
    "start_time": "2022-05-20T04:16:42.563Z"
   },
   {
    "duration": 21,
    "start_time": "2022-05-20T04:16:42.820Z"
   },
   {
    "duration": 7,
    "start_time": "2022-05-20T04:16:42.897Z"
   },
   {
    "duration": 10,
    "start_time": "2022-05-20T04:16:43.063Z"
   },
   {
    "duration": 5,
    "start_time": "2022-05-20T04:16:43.150Z"
   },
   {
    "duration": 23,
    "start_time": "2022-05-20T04:16:43.314Z"
   },
   {
    "duration": 3,
    "start_time": "2022-05-20T04:16:43.400Z"
   },
   {
    "duration": 10,
    "start_time": "2022-05-20T04:16:43.483Z"
   },
   {
    "duration": 24,
    "start_time": "2022-05-20T04:16:43.823Z"
   },
   {
    "duration": 6,
    "start_time": "2022-05-20T04:16:43.898Z"
   },
   {
    "duration": 9,
    "start_time": "2022-05-20T04:16:44.084Z"
   },
   {
    "duration": 5,
    "start_time": "2022-05-20T04:16:44.151Z"
   },
   {
    "duration": 16,
    "start_time": "2022-05-20T04:16:44.487Z"
   },
   {
    "duration": 24,
    "start_time": "2022-05-20T04:16:44.571Z"
   },
   {
    "duration": 7,
    "start_time": "2022-05-20T04:16:44.748Z"
   },
   {
    "duration": 9,
    "start_time": "2022-05-20T04:16:44.824Z"
   },
   {
    "duration": 13,
    "start_time": "2022-05-20T04:16:44.907Z"
   },
   {
    "duration": 21,
    "start_time": "2022-05-20T04:16:44.993Z"
   },
   {
    "duration": 13,
    "start_time": "2022-05-20T04:16:45.070Z"
   },
   {
    "duration": 4,
    "start_time": "2022-05-20T04:16:45.574Z"
   },
   {
    "duration": 11,
    "start_time": "2022-05-20T04:16:45.655Z"
   },
   {
    "duration": 3,
    "start_time": "2022-05-20T04:16:45.905Z"
   },
   {
    "duration": 306,
    "start_time": "2022-05-20T04:16:45.993Z"
   },
   {
    "duration": 7,
    "start_time": "2022-05-20T04:16:46.345Z"
   },
   {
    "duration": 7,
    "start_time": "2022-05-20T04:16:46.412Z"
   },
   {
    "duration": 4,
    "start_time": "2022-05-20T04:16:46.492Z"
   },
   {
    "duration": 24,
    "start_time": "2022-05-20T04:16:46.577Z"
   },
   {
    "duration": 25,
    "start_time": "2022-05-20T04:16:47.001Z"
   },
   {
    "duration": 200,
    "start_time": "2022-05-20T04:16:47.079Z"
   },
   {
    "duration": 7,
    "start_time": "2022-05-20T04:16:47.412Z"
   },
   {
    "duration": 177,
    "start_time": "2022-05-20T04:16:47.579Z"
   },
   {
    "duration": 7,
    "start_time": "2022-05-20T04:16:47.758Z"
   },
   {
    "duration": 156,
    "start_time": "2022-05-20T04:16:47.836Z"
   },
   {
    "duration": 6,
    "start_time": "2022-05-20T04:16:47.993Z"
   },
   {
    "duration": 180,
    "start_time": "2022-05-20T04:16:49.110Z"
   },
   {
    "duration": 12,
    "start_time": "2022-05-20T04:16:49.291Z"
   },
   {
    "duration": 13,
    "start_time": "2022-05-20T04:16:49.453Z"
   },
   {
    "duration": 184,
    "start_time": "2022-05-20T04:16:49.529Z"
   },
   {
    "duration": 176,
    "start_time": "2022-05-20T04:16:49.715Z"
   },
   {
    "duration": 10,
    "start_time": "2022-05-20T04:16:49.892Z"
   },
   {
    "duration": 1147,
    "start_time": "2022-05-20T04:16:50.130Z"
   },
   {
    "duration": 50,
    "start_time": "2022-05-20T04:16:51.280Z"
   },
   {
    "duration": 8,
    "start_time": "2022-05-20T04:16:51.332Z"
   },
   {
    "duration": 186,
    "start_time": "2022-05-20T04:16:51.342Z"
   },
   {
    "duration": 24,
    "start_time": "2022-05-20T04:16:51.531Z"
   },
   {
    "duration": 5,
    "start_time": "2022-05-20T04:16:51.556Z"
   },
   {
    "duration": 101,
    "start_time": "2022-05-20T04:16:51.563Z"
   },
   {
    "duration": 11,
    "start_time": "2022-05-20T04:16:51.666Z"
   },
   {
    "duration": 6,
    "start_time": "2022-05-20T04:16:51.678Z"
   },
   {
    "duration": 161,
    "start_time": "2022-05-20T04:17:01.372Z"
   },
   {
    "duration": 5,
    "start_time": "2022-05-20T04:17:02.681Z"
   },
   {
    "duration": 126,
    "start_time": "2022-05-20T04:17:02.763Z"
   },
   {
    "duration": 148,
    "start_time": "2022-05-20T04:17:03.016Z"
   },
   {
    "duration": 112,
    "start_time": "2022-05-20T04:17:03.684Z"
   },
   {
    "duration": 20,
    "start_time": "2022-05-20T04:17:03.832Z"
   },
   {
    "duration": 7,
    "start_time": "2022-05-20T04:17:03.992Z"
   },
   {
    "duration": 149,
    "start_time": "2022-05-20T04:17:04.446Z"
   },
   {
    "duration": 4,
    "start_time": "2022-05-20T04:17:04.888Z"
   },
   {
    "duration": 471,
    "start_time": "2022-05-20T04:17:05.032Z"
   },
   {
    "duration": 4,
    "start_time": "2022-05-20T04:17:07.062Z"
   },
   {
    "duration": 104,
    "start_time": "2022-05-20T04:17:31.073Z"
   },
   {
    "duration": 2940,
    "start_time": "2022-05-20T04:17:35.407Z"
   }
  ],
  "kernelspec": {
   "display_name": "Python 3 (ipykernel)",
   "language": "python",
   "name": "python3"
  },
  "language_info": {
   "codemirror_mode": {
    "name": "ipython",
    "version": 3
   },
   "file_extension": ".py",
   "mimetype": "text/x-python",
   "name": "python",
   "nbconvert_exporter": "python",
   "pygments_lexer": "ipython3",
   "version": "3.9.13"
  },
  "toc": {
   "base_numbering": 1,
   "nav_menu": {},
   "number_sections": true,
   "sideBar": true,
   "skip_h1_title": true,
   "title_cell": "Содержание",
   "title_sidebar": "Contents",
   "toc_cell": true,
   "toc_position": {
    "height": "calc(100% - 180px)",
    "left": "10px",
    "top": "150px",
    "width": "275px"
   },
   "toc_section_display": true,
   "toc_window_display": true
  }
 },
 "nbformat": 4,
 "nbformat_minor": 4
}
